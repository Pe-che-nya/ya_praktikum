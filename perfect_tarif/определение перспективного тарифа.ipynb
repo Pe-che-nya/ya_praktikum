{
 "cells": [
  {
   "cell_type": "markdown",
   "metadata": {},
   "source": [
    "#  Определение перспективного тарифа для телеком компании"
   ]
  },
  {
   "cell_type": "markdown",
   "metadata": {},
   "source": [
    "В данной работе необходимо провести аналииз тарифов Смарт и Ультра и определить наиболее перспективный.\n",
    "\n",
    "Описание тарифов\n",
    "\n",
    "__Тариф «Смарт»__\n",
    "\n",
    ">    Ежемесячная плата: 550 рублей\n",
    ">    Включено 500 минут разговора, 50 сообщений и 15 Гб интернет-трафика\n",
    ">    Стоимость услуг сверх тарифного пакета: минута разговора: 3 рубля (телеком компания всегда округляет вверх значения минут и мегабайтов. Если пользователь проговорил всего 1 секунду, в тарифе засчитывается целая минута);  сообщение: 3 рубля; 1 Гб интернет-трафика: 200 рублей.\n",
    "\n",
    "__Тариф «Ультра»__\n",
    "\n",
    ">    Ежемесячная плата: 1950 рублей\n",
    ">    Включено 3000 минут разговора, 1000 сообщений и 30 Гб интернет-трафика\n",
    ">    Стоимость услуг сверх тарифного пакета: минута разговора: 1 рубль; сообщение: 1 рубль; 1 Гб интернет-трафика: 150 рублей.\n",
    "\n",
    "\n",
    "\n",
    "**Примечание:**\n",
    "\n",
    ">Телеком компания всегда округляет секунды до минут, а мегабайты — до гигабайт. Каждый звонок округляется отдельно: даже если он >длился всего 1 секунду, будет засчитан как 1 минута.\n",
    ">Для веб-трафика отдельные сессии не считаются. Вместо этого общая сумма за месяц округляется в бо́льшую сторону. Если >абонент использует 1025 мегабайт в этом месяце, с него возьмут плату за 2 гигабайта.\n",
    "\n",
    "\n",
    "\n",
    "Описания предоставленных таблиц представлены ниже\n"
   ]
  },
  {
   "cell_type": "markdown",
   "metadata": {},
   "source": [
    "**Описание данных\n",
    "Таблица users (информация о пользователях):**\n",
    "\n",
    "    user_id — уникальный идентификатор пользователя\n",
    "    first_name — имя пользователя\n",
    "    last_name — фамилия пользователя\n",
    "    age — возраст пользователя (годы)\n",
    "    reg_date — дата подключения тарифа (день, месяц, год)\n",
    "    churn_date — дата прекращения пользования тарифом (если значение пропущено, то тариф ещё действовал на момент выгрузки данных)\n",
    "    city — город проживания пользователя\n",
    "    tariff — название тарифного плана\n",
    "\n",
    "**Таблица calls (информация о звонках):**\n",
    "\n",
    "    id — уникальный номер звонка\n",
    "    call_date — дата звонка\n",
    "    duration — длительность звонка в минутах\n",
    "    user_id — идентификатор пользователя, сделавшего звонок\n",
    "\n",
    "**Таблица messages (информация о сообщениях):**\n",
    "\n",
    "    id — уникальный номер сообщения\n",
    "    message_date — дата сообщения\n",
    "    user_id — идентификатор пользователя, отправившего сообщение\n",
    "\n",
    "**Таблица internet (информация об интернет-сессиях):**\n",
    "\n",
    "    id — уникальный номер сессии\n",
    "    mb_used — объём потраченного за сессию интернет-трафика (в мегабайтах)\n",
    "    session_date — дата интернет-сессии\n",
    "    user_id — идентификатор пользователя\n",
    "\n",
    "**Таблица tariffs (информация о тарифах):**\n",
    "\n",
    "    tariff_name — название тарифа\n",
    "    rub_monthly_fee — ежемесячная абонентская плата в рублях\n",
    "    minutes_included — количество минут разговора в месяц, включённых в абонентскую плату\n",
    "    messages_included — количество сообщений в месяц, включённых в абонентскую плату\n",
    "    mb_per_month_included — объём интернет-трафика, включённого в абонентскую плату (в мегабайтах)\n",
    "    rub_per_minute — стоимость минуты разговора сверх тарифного пакета (например, если в тарифе 100 минут разговора в месяц, то со 101 минуты будет взиматься плата)\n",
    "    rub_per_message — стоимость отправки сообщения сверх тарифного пакета\n",
    "    rub_per_gb — стоимость дополнительного гигабайта интернет-трафика сверх тарифного пакета (1 гигабайт = 1024 мегабайта)"
   ]
  },
  {
   "cell_type": "markdown",
   "metadata": {},
   "source": [
    "Работа будет проходить в несколько этапов\n",
    "- обработка данных ( на этом этапе произойдет ознакомление с данными)\n",
    "- подготовка данных ( на этом этапе произойдет исправлнеие, ошибок, типов данных и др.)\n",
    "- анализ данных (на данном этапе произойдет анализ данных для каждого пользователя тарифа в отдельный месяц и вычиление основных параметров) "
   ]
  },
  {
   "cell_type": "markdown",
   "metadata": {},
   "source": [
    "Более детальный порядок работы расположен ниже"
   ]
  },
  {
   "cell_type": "markdown",
   "metadata": {
    "toc": true
   },
   "source": [
    "<h1>Порядок работы<span class=\"tocSkip\"></span></h1>\n",
    "<div class=\"toc\"><ul class=\"toc-item\"><li><span><a href=\"#Ознакомимся-с-данными\" data-toc-modified-id=\"Ознакомимся-с-данными-1\"><span class=\"toc-item-num\">1&nbsp;&nbsp;</span>Ознакомимся с данными</a></span><ul class=\"toc-item\"><li><span><a href=\"#Рассмотрим-подробнее-данные-таблицы-calls\" data-toc-modified-id=\"Рассмотрим-подробнее-данные-таблицы-calls-1.1\"><span class=\"toc-item-num\">1.1&nbsp;&nbsp;</span>Рассмотрим подробнее данные таблицы <em>calls</em></a></span></li><li><span><a href=\"#Рассмотрим-подробнее-данные-таблицы-internet\" data-toc-modified-id=\"Рассмотрим-подробнее-данные-таблицы-internet-1.2\"><span class=\"toc-item-num\">1.2&nbsp;&nbsp;</span>Рассмотрим подробнее данные таблицы <em>internet</em></a></span></li><li><span><a href=\"#Рассмотрим-подробнее-данные-таблицы-messages\" data-toc-modified-id=\"Рассмотрим-подробнее-данные-таблицы-messages-1.3\"><span class=\"toc-item-num\">1.3&nbsp;&nbsp;</span>Рассмотрим подробнее данные таблицы <em>messages</em></a></span></li><li><span><a href=\"#Рассмотрим-подробнее-данные-таблицы-tariffs\" data-toc-modified-id=\"Рассмотрим-подробнее-данные-таблицы-tariffs-1.4\"><span class=\"toc-item-num\">1.4&nbsp;&nbsp;</span>Рассмотрим подробнее данные таблицы <em>tariffs</em></a></span></li><li><span><a href=\"#Рассмотрим-подробнее-данные-таблицы-users\" data-toc-modified-id=\"Рассмотрим-подробнее-данные-таблицы-users-1.5\"><span class=\"toc-item-num\">1.5&nbsp;&nbsp;</span>Рассмотрим подробнее данные таблицы <em>users</em></a></span></li><li><span><a href=\"#Вывод:\" data-toc-modified-id=\"Вывод:-1.6\"><span class=\"toc-item-num\">1.6&nbsp;&nbsp;</span>Вывод:</a></span></li></ul></li><li><span><a href=\"#Подготовка-данных\" data-toc-modified-id=\"Подготовка-данных-2\"><span class=\"toc-item-num\">2&nbsp;&nbsp;</span>Подготовка данных</a></span><ul class=\"toc-item\"><li><span><a href=\"#Подсчет-количества-завонков-для-кажого-пользователя\" data-toc-modified-id=\"Подсчет-количества-завонков-для-кажого-пользователя-2.1\"><span class=\"toc-item-num\">2.1&nbsp;&nbsp;</span>Подсчет количества завонков для кажого пользователя</a></span></li><li><span><a href=\"#Подсчет-минут-разговора-по-месяцам\" data-toc-modified-id=\"Подсчет-минут-разговора-по-месяцам-2.2\"><span class=\"toc-item-num\">2.2&nbsp;&nbsp;</span>Подсчет минут разговора по месяцам</a></span></li><li><span><a href=\"#Подсчет-отправленных-сообщений-по-месяцам\" data-toc-modified-id=\"Подсчет-отправленных-сообщений-по-месяцам-2.3\"><span class=\"toc-item-num\">2.3&nbsp;&nbsp;</span>Подсчет отправленных сообщений по месяцам</a></span></li><li><span><a href=\"#Израсходованный-трафик-интернета-за-месяц\" data-toc-modified-id=\"Израсходованный-трафик-интернета-за-месяц-2.4\"><span class=\"toc-item-num\">2.4&nbsp;&nbsp;</span>Израсходованный трафик интернета за месяц</a></span></li><li><span><a href=\"#Месячная-выручка\" data-toc-modified-id=\"Месячная-выручка-2.5\"><span class=\"toc-item-num\">2.5&nbsp;&nbsp;</span>Месячная выручка</a></span></li><li><span><a href=\"#Вывод:\" data-toc-modified-id=\"Вывод:-2.6\"><span class=\"toc-item-num\">2.6&nbsp;&nbsp;</span>Вывод:</a></span></li></ul></li><li><span><a href=\"#Анализ-данных\" data-toc-modified-id=\"Анализ-данных-3\"><span class=\"toc-item-num\">3&nbsp;&nbsp;</span>Анализ данных</a></span><ul class=\"toc-item\"><li><span><a href=\"#Проанализируем-продолжительность-звонков\" data-toc-modified-id=\"Проанализируем-продолжительность-звонков-3.1\"><span class=\"toc-item-num\">3.1&nbsp;&nbsp;</span>Проанализируем продолжительность звонков</a></span></li><li><span><a href=\"#Проанализируем-сообщения\" data-toc-modified-id=\"Проанализируем-сообщения-3.2\"><span class=\"toc-item-num\">3.2&nbsp;&nbsp;</span>Проанализируем сообщения</a></span></li><li><span><a href=\"#Рассмотрим-интернет\" data-toc-modified-id=\"Рассмотрим-интернет-3.3\"><span class=\"toc-item-num\">3.3&nbsp;&nbsp;</span>Рассмотрим интернет</a></span></li><li><span><a href=\"#Рассмотрим-месячную-вырочку\" data-toc-modified-id=\"Рассмотрим-месячную-вырочку-3.4\"><span class=\"toc-item-num\">3.4&nbsp;&nbsp;</span>Рассмотрим месячную вырочку</a></span></li><li><span><a href=\"#Вывод:\" data-toc-modified-id=\"Вывод:-3.5\"><span class=\"toc-item-num\">3.5&nbsp;&nbsp;</span>Вывод:</a></span></li></ul></li><li><span><a href=\"#Проверка-гиппотез\" data-toc-modified-id=\"Проверка-гиппотез-4\"><span class=\"toc-item-num\">4&nbsp;&nbsp;</span>Проверка гиппотез</a></span><ul class=\"toc-item\"><li><span><a href=\"#гиппотеза-средней-вырочки-тарифов\" data-toc-modified-id=\"гиппотеза-средней-вырочки-тарифов-4.1\"><span class=\"toc-item-num\">4.1&nbsp;&nbsp;</span>гиппотеза средней вырочки тарифов</a></span></li><li><span><a href=\"#Гиппотеза-о-выручки-Москвы-и-регионов\" data-toc-modified-id=\"Гиппотеза-о-выручки-Москвы-и-регионов-4.2\"><span class=\"toc-item-num\">4.2&nbsp;&nbsp;</span>Гиппотеза о выручки Москвы и регионов</a></span></li></ul></li><li><span><a href=\"#Итоговый-Вывод\" data-toc-modified-id=\"Итоговый-Вывод-5\"><span class=\"toc-item-num\">5&nbsp;&nbsp;</span>Итоговый Вывод</a></span></li></ul></div>"
   ]
  },
  {
   "cell_type": "markdown",
   "metadata": {},
   "source": [
    "импортируем библиотеки которые буду использоваться в проекте"
   ]
  },
  {
   "cell_type": "code",
   "execution_count": 1,
   "metadata": {},
   "outputs": [],
   "source": [
    "import pandas as pd\n",
    "import math as m\n",
    "import matplotlib.pyplot as plt\n",
    "import numpy as np\n",
    "from scipy import stats as st"
   ]
  },
  {
   "cell_type": "markdown",
   "metadata": {},
   "source": [
    "### Ознакомимся с данными "
   ]
  },
  {
   "cell_type": "markdown",
   "metadata": {},
   "source": [
    "Загрузим исходные данные которые необходимо будет проанализировать"
   ]
  },
  {
   "cell_type": "code",
   "execution_count": 2,
   "metadata": {},
   "outputs": [],
   "source": [
    "calls=pd.read_csv('',parse_dates=['call_date'])\n",
    "internet=pd.read_csv('',index_col=0,parse_dates=['session_date'])\n",
    "messages=pd.read_csv('',parse_dates=['message_date'])\n",
    "tariffs=pd.read_csv('')\n",
    "users=pd.read_csv('',parse_dates=['reg_date','churn_date'])"
   ]
  },
  {
   "cell_type": "markdown",
   "metadata": {},
   "source": [
    "#### Рассмотрим подробнее данные таблицы _calls_"
   ]
  },
  {
   "cell_type": "code",
   "execution_count": 3,
   "metadata": {},
   "outputs": [
    {
     "data": {
      "text/html": [
       "<div>\n",
       "<style scoped>\n",
       "    .dataframe tbody tr th:only-of-type {\n",
       "        vertical-align: middle;\n",
       "    }\n",
       "\n",
       "    .dataframe tbody tr th {\n",
       "        vertical-align: top;\n",
       "    }\n",
       "\n",
       "    .dataframe thead th {\n",
       "        text-align: right;\n",
       "    }\n",
       "</style>\n",
       "<table border=\"1\" class=\"dataframe\">\n",
       "  <thead>\n",
       "    <tr style=\"text-align: right;\">\n",
       "      <th></th>\n",
       "      <th>id</th>\n",
       "      <th>call_date</th>\n",
       "      <th>duration</th>\n",
       "      <th>user_id</th>\n",
       "    </tr>\n",
       "  </thead>\n",
       "  <tbody>\n",
       "    <tr>\n",
       "      <td>0</td>\n",
       "      <td>1000_0</td>\n",
       "      <td>2018-07-25</td>\n",
       "      <td>0.00</td>\n",
       "      <td>1000</td>\n",
       "    </tr>\n",
       "    <tr>\n",
       "      <td>1</td>\n",
       "      <td>1000_1</td>\n",
       "      <td>2018-08-17</td>\n",
       "      <td>0.00</td>\n",
       "      <td>1000</td>\n",
       "    </tr>\n",
       "    <tr>\n",
       "      <td>2</td>\n",
       "      <td>1000_2</td>\n",
       "      <td>2018-06-11</td>\n",
       "      <td>2.85</td>\n",
       "      <td>1000</td>\n",
       "    </tr>\n",
       "    <tr>\n",
       "      <td>3</td>\n",
       "      <td>1000_3</td>\n",
       "      <td>2018-09-21</td>\n",
       "      <td>13.80</td>\n",
       "      <td>1000</td>\n",
       "    </tr>\n",
       "    <tr>\n",
       "      <td>4</td>\n",
       "      <td>1000_4</td>\n",
       "      <td>2018-12-15</td>\n",
       "      <td>5.18</td>\n",
       "      <td>1000</td>\n",
       "    </tr>\n",
       "  </tbody>\n",
       "</table>\n",
       "</div>"
      ],
      "text/plain": [
       "       id  call_date  duration  user_id\n",
       "0  1000_0 2018-07-25      0.00     1000\n",
       "1  1000_1 2018-08-17      0.00     1000\n",
       "2  1000_2 2018-06-11      2.85     1000\n",
       "3  1000_3 2018-09-21     13.80     1000\n",
       "4  1000_4 2018-12-15      5.18     1000"
      ]
     },
     "execution_count": 3,
     "metadata": {},
     "output_type": "execute_result"
    }
   ],
   "source": [
    "calls.head(5)"
   ]
  },
  {
   "cell_type": "code",
   "execution_count": 4,
   "metadata": {},
   "outputs": [
    {
     "name": "stdout",
     "output_type": "stream",
     "text": [
      "<class 'pandas.core.frame.DataFrame'>\n",
      "RangeIndex: 202607 entries, 0 to 202606\n",
      "Data columns (total 4 columns):\n",
      "id           202607 non-null object\n",
      "call_date    202607 non-null datetime64[ns]\n",
      "duration     202607 non-null float64\n",
      "user_id      202607 non-null int64\n",
      "dtypes: datetime64[ns](1), float64(1), int64(1), object(1)\n",
      "memory usage: 6.2+ MB\n"
     ]
    }
   ],
   "source": [
    "calls.info()"
   ]
  },
  {
   "cell_type": "markdown",
   "metadata": {},
   "source": [
    "В данной таблице отсуствуют пропуски, однако очевидно что есть необходимость некоторые данные привести к другим типам данных:\n",
    "- duration float->int\n",
    "\n",
    "длительность звонка (duration) необходимо переветси в целочисленный, так как в исходном задании сказано, что время разговоры округляется вверх"
   ]
  },
  {
   "cell_type": "code",
   "execution_count": 5,
   "metadata": {},
   "outputs": [],
   "source": [
    "calls.duration=np.ceil(calls.duration) "
   ]
  },
  {
   "cell_type": "markdown",
   "metadata": {},
   "source": [
    "#### Рассмотрим подробнее данные таблицы _internet_"
   ]
  },
  {
   "cell_type": "code",
   "execution_count": 6,
   "metadata": {},
   "outputs": [
    {
     "data": {
      "text/html": [
       "<div>\n",
       "<style scoped>\n",
       "    .dataframe tbody tr th:only-of-type {\n",
       "        vertical-align: middle;\n",
       "    }\n",
       "\n",
       "    .dataframe tbody tr th {\n",
       "        vertical-align: top;\n",
       "    }\n",
       "\n",
       "    .dataframe thead th {\n",
       "        text-align: right;\n",
       "    }\n",
       "</style>\n",
       "<table border=\"1\" class=\"dataframe\">\n",
       "  <thead>\n",
       "    <tr style=\"text-align: right;\">\n",
       "      <th></th>\n",
       "      <th>id</th>\n",
       "      <th>mb_used</th>\n",
       "      <th>session_date</th>\n",
       "      <th>user_id</th>\n",
       "    </tr>\n",
       "  </thead>\n",
       "  <tbody>\n",
       "    <tr>\n",
       "      <td>0</td>\n",
       "      <td>1000_0</td>\n",
       "      <td>112.95</td>\n",
       "      <td>2018-11-25</td>\n",
       "      <td>1000</td>\n",
       "    </tr>\n",
       "    <tr>\n",
       "      <td>1</td>\n",
       "      <td>1000_1</td>\n",
       "      <td>1052.81</td>\n",
       "      <td>2018-09-07</td>\n",
       "      <td>1000</td>\n",
       "    </tr>\n",
       "    <tr>\n",
       "      <td>2</td>\n",
       "      <td>1000_2</td>\n",
       "      <td>1197.26</td>\n",
       "      <td>2018-06-25</td>\n",
       "      <td>1000</td>\n",
       "    </tr>\n",
       "    <tr>\n",
       "      <td>3</td>\n",
       "      <td>1000_3</td>\n",
       "      <td>550.27</td>\n",
       "      <td>2018-08-22</td>\n",
       "      <td>1000</td>\n",
       "    </tr>\n",
       "    <tr>\n",
       "      <td>4</td>\n",
       "      <td>1000_4</td>\n",
       "      <td>302.56</td>\n",
       "      <td>2018-09-24</td>\n",
       "      <td>1000</td>\n",
       "    </tr>\n",
       "  </tbody>\n",
       "</table>\n",
       "</div>"
      ],
      "text/plain": [
       "       id  mb_used session_date  user_id\n",
       "0  1000_0   112.95   2018-11-25     1000\n",
       "1  1000_1  1052.81   2018-09-07     1000\n",
       "2  1000_2  1197.26   2018-06-25     1000\n",
       "3  1000_3   550.27   2018-08-22     1000\n",
       "4  1000_4   302.56   2018-09-24     1000"
      ]
     },
     "execution_count": 6,
     "metadata": {},
     "output_type": "execute_result"
    }
   ],
   "source": [
    "internet.head(5)"
   ]
  },
  {
   "cell_type": "code",
   "execution_count": 7,
   "metadata": {},
   "outputs": [
    {
     "name": "stdout",
     "output_type": "stream",
     "text": [
      "<class 'pandas.core.frame.DataFrame'>\n",
      "Int64Index: 149396 entries, 0 to 149395\n",
      "Data columns (total 4 columns):\n",
      "id              149396 non-null object\n",
      "mb_used         149396 non-null float64\n",
      "session_date    149396 non-null datetime64[ns]\n",
      "user_id         149396 non-null int64\n",
      "dtypes: datetime64[ns](1), float64(1), int64(1), object(1)\n",
      "memory usage: 5.7+ MB\n"
     ]
    }
   ],
   "source": [
    "internet.info()"
   ]
  },
  {
   "cell_type": "markdown",
   "metadata": {},
   "source": [
    "так как оператор округляет до целых каждый мб, округлим его до целых"
   ]
  },
  {
   "cell_type": "code",
   "execution_count": 8,
   "metadata": {},
   "outputs": [
    {
     "data": {
      "text/html": [
       "<div>\n",
       "<style scoped>\n",
       "    .dataframe tbody tr th:only-of-type {\n",
       "        vertical-align: middle;\n",
       "    }\n",
       "\n",
       "    .dataframe tbody tr th {\n",
       "        vertical-align: top;\n",
       "    }\n",
       "\n",
       "    .dataframe thead th {\n",
       "        text-align: right;\n",
       "    }\n",
       "</style>\n",
       "<table border=\"1\" class=\"dataframe\">\n",
       "  <thead>\n",
       "    <tr style=\"text-align: right;\">\n",
       "      <th></th>\n",
       "      <th>id</th>\n",
       "      <th>mb_used</th>\n",
       "      <th>session_date</th>\n",
       "      <th>user_id</th>\n",
       "    </tr>\n",
       "  </thead>\n",
       "  <tbody>\n",
       "    <tr>\n",
       "      <td>0</td>\n",
       "      <td>1000_0</td>\n",
       "      <td>113.0</td>\n",
       "      <td>2018-11-25</td>\n",
       "      <td>1000</td>\n",
       "    </tr>\n",
       "    <tr>\n",
       "      <td>1</td>\n",
       "      <td>1000_1</td>\n",
       "      <td>1053.0</td>\n",
       "      <td>2018-09-07</td>\n",
       "      <td>1000</td>\n",
       "    </tr>\n",
       "  </tbody>\n",
       "</table>\n",
       "</div>"
      ],
      "text/plain": [
       "       id  mb_used session_date  user_id\n",
       "0  1000_0    113.0   2018-11-25     1000\n",
       "1  1000_1   1053.0   2018-09-07     1000"
      ]
     },
     "execution_count": 8,
     "metadata": {},
     "output_type": "execute_result"
    }
   ],
   "source": [
    "internet.mb_used=np.ceil((internet.mb_used))\n",
    "internet.head(2)"
   ]
  },
  {
   "cell_type": "markdown",
   "metadata": {},
   "source": [
    "#### Рассмотрим подробнее данные таблицы _messages_"
   ]
  },
  {
   "cell_type": "code",
   "execution_count": 9,
   "metadata": {},
   "outputs": [
    {
     "data": {
      "text/html": [
       "<div>\n",
       "<style scoped>\n",
       "    .dataframe tbody tr th:only-of-type {\n",
       "        vertical-align: middle;\n",
       "    }\n",
       "\n",
       "    .dataframe tbody tr th {\n",
       "        vertical-align: top;\n",
       "    }\n",
       "\n",
       "    .dataframe thead th {\n",
       "        text-align: right;\n",
       "    }\n",
       "</style>\n",
       "<table border=\"1\" class=\"dataframe\">\n",
       "  <thead>\n",
       "    <tr style=\"text-align: right;\">\n",
       "      <th></th>\n",
       "      <th>id</th>\n",
       "      <th>message_date</th>\n",
       "      <th>user_id</th>\n",
       "    </tr>\n",
       "  </thead>\n",
       "  <tbody>\n",
       "    <tr>\n",
       "      <td>0</td>\n",
       "      <td>1000_0</td>\n",
       "      <td>2018-06-27</td>\n",
       "      <td>1000</td>\n",
       "    </tr>\n",
       "    <tr>\n",
       "      <td>1</td>\n",
       "      <td>1000_1</td>\n",
       "      <td>2018-10-08</td>\n",
       "      <td>1000</td>\n",
       "    </tr>\n",
       "    <tr>\n",
       "      <td>2</td>\n",
       "      <td>1000_2</td>\n",
       "      <td>2018-08-04</td>\n",
       "      <td>1000</td>\n",
       "    </tr>\n",
       "    <tr>\n",
       "      <td>3</td>\n",
       "      <td>1000_3</td>\n",
       "      <td>2018-06-16</td>\n",
       "      <td>1000</td>\n",
       "    </tr>\n",
       "    <tr>\n",
       "      <td>4</td>\n",
       "      <td>1000_4</td>\n",
       "      <td>2018-12-05</td>\n",
       "      <td>1000</td>\n",
       "    </tr>\n",
       "  </tbody>\n",
       "</table>\n",
       "</div>"
      ],
      "text/plain": [
       "       id message_date  user_id\n",
       "0  1000_0   2018-06-27     1000\n",
       "1  1000_1   2018-10-08     1000\n",
       "2  1000_2   2018-08-04     1000\n",
       "3  1000_3   2018-06-16     1000\n",
       "4  1000_4   2018-12-05     1000"
      ]
     },
     "execution_count": 9,
     "metadata": {},
     "output_type": "execute_result"
    }
   ],
   "source": [
    "messages.head(5)"
   ]
  },
  {
   "cell_type": "code",
   "execution_count": 10,
   "metadata": {},
   "outputs": [
    {
     "name": "stdout",
     "output_type": "stream",
     "text": [
      "<class 'pandas.core.frame.DataFrame'>\n",
      "RangeIndex: 123036 entries, 0 to 123035\n",
      "Data columns (total 3 columns):\n",
      "id              123036 non-null object\n",
      "message_date    123036 non-null datetime64[ns]\n",
      "user_id         123036 non-null int64\n",
      "dtypes: datetime64[ns](1), int64(1), object(1)\n",
      "memory usage: 2.8+ MB\n"
     ]
    }
   ],
   "source": [
    "messages.info()"
   ]
  },
  {
   "cell_type": "markdown",
   "metadata": {},
   "source": [
    "#### Рассмотрим подробнее данные таблицы _tariffs_\n"
   ]
  },
  {
   "cell_type": "code",
   "execution_count": 11,
   "metadata": {},
   "outputs": [
    {
     "data": {
      "text/html": [
       "<div>\n",
       "<style scoped>\n",
       "    .dataframe tbody tr th:only-of-type {\n",
       "        vertical-align: middle;\n",
       "    }\n",
       "\n",
       "    .dataframe tbody tr th {\n",
       "        vertical-align: top;\n",
       "    }\n",
       "\n",
       "    .dataframe thead th {\n",
       "        text-align: right;\n",
       "    }\n",
       "</style>\n",
       "<table border=\"1\" class=\"dataframe\">\n",
       "  <thead>\n",
       "    <tr style=\"text-align: right;\">\n",
       "      <th></th>\n",
       "      <th>messages_included</th>\n",
       "      <th>mb_per_month_included</th>\n",
       "      <th>minutes_included</th>\n",
       "      <th>rub_monthly_fee</th>\n",
       "      <th>rub_per_gb</th>\n",
       "      <th>rub_per_message</th>\n",
       "      <th>rub_per_minute</th>\n",
       "      <th>tariff_name</th>\n",
       "    </tr>\n",
       "  </thead>\n",
       "  <tbody>\n",
       "    <tr>\n",
       "      <td>0</td>\n",
       "      <td>50</td>\n",
       "      <td>15360</td>\n",
       "      <td>500</td>\n",
       "      <td>550</td>\n",
       "      <td>200</td>\n",
       "      <td>3</td>\n",
       "      <td>3</td>\n",
       "      <td>smart</td>\n",
       "    </tr>\n",
       "    <tr>\n",
       "      <td>1</td>\n",
       "      <td>1000</td>\n",
       "      <td>30720</td>\n",
       "      <td>3000</td>\n",
       "      <td>1950</td>\n",
       "      <td>150</td>\n",
       "      <td>1</td>\n",
       "      <td>1</td>\n",
       "      <td>ultra</td>\n",
       "    </tr>\n",
       "  </tbody>\n",
       "</table>\n",
       "</div>"
      ],
      "text/plain": [
       "   messages_included  mb_per_month_included  minutes_included  \\\n",
       "0                 50                  15360               500   \n",
       "1               1000                  30720              3000   \n",
       "\n",
       "   rub_monthly_fee  rub_per_gb  rub_per_message  rub_per_minute tariff_name  \n",
       "0              550         200                3               3       smart  \n",
       "1             1950         150                1               1       ultra  "
      ]
     },
     "execution_count": 11,
     "metadata": {},
     "output_type": "execute_result"
    }
   ],
   "source": [
    "tariffs"
   ]
  },
  {
   "cell_type": "code",
   "execution_count": 12,
   "metadata": {},
   "outputs": [
    {
     "name": "stdout",
     "output_type": "stream",
     "text": [
      "<class 'pandas.core.frame.DataFrame'>\n",
      "RangeIndex: 2 entries, 0 to 1\n",
      "Data columns (total 8 columns):\n",
      "messages_included        2 non-null int64\n",
      "mb_per_month_included    2 non-null int64\n",
      "minutes_included         2 non-null int64\n",
      "rub_monthly_fee          2 non-null int64\n",
      "rub_per_gb               2 non-null int64\n",
      "rub_per_message          2 non-null int64\n",
      "rub_per_minute           2 non-null int64\n",
      "tariff_name              2 non-null object\n",
      "dtypes: int64(7), object(1)\n",
      "memory usage: 256.0+ bytes\n"
     ]
    }
   ],
   "source": [
    "tariffs.info()"
   ]
  },
  {
   "cell_type": "markdown",
   "metadata": {},
   "source": [
    "#### Рассмотрим подробнее данные таблицы _users_ "
   ]
  },
  {
   "cell_type": "code",
   "execution_count": 13,
   "metadata": {},
   "outputs": [
    {
     "data": {
      "text/html": [
       "<div>\n",
       "<style scoped>\n",
       "    .dataframe tbody tr th:only-of-type {\n",
       "        vertical-align: middle;\n",
       "    }\n",
       "\n",
       "    .dataframe tbody tr th {\n",
       "        vertical-align: top;\n",
       "    }\n",
       "\n",
       "    .dataframe thead th {\n",
       "        text-align: right;\n",
       "    }\n",
       "</style>\n",
       "<table border=\"1\" class=\"dataframe\">\n",
       "  <thead>\n",
       "    <tr style=\"text-align: right;\">\n",
       "      <th></th>\n",
       "      <th>user_id</th>\n",
       "      <th>age</th>\n",
       "      <th>churn_date</th>\n",
       "      <th>city</th>\n",
       "      <th>first_name</th>\n",
       "      <th>last_name</th>\n",
       "      <th>reg_date</th>\n",
       "      <th>tariff</th>\n",
       "    </tr>\n",
       "  </thead>\n",
       "  <tbody>\n",
       "    <tr>\n",
       "      <td>0</td>\n",
       "      <td>1000</td>\n",
       "      <td>52</td>\n",
       "      <td>NaT</td>\n",
       "      <td>Краснодар</td>\n",
       "      <td>Рафаил</td>\n",
       "      <td>Верещагин</td>\n",
       "      <td>2018-05-25</td>\n",
       "      <td>ultra</td>\n",
       "    </tr>\n",
       "    <tr>\n",
       "      <td>1</td>\n",
       "      <td>1001</td>\n",
       "      <td>41</td>\n",
       "      <td>NaT</td>\n",
       "      <td>Москва</td>\n",
       "      <td>Иван</td>\n",
       "      <td>Ежов</td>\n",
       "      <td>2018-11-01</td>\n",
       "      <td>smart</td>\n",
       "    </tr>\n",
       "    <tr>\n",
       "      <td>2</td>\n",
       "      <td>1002</td>\n",
       "      <td>59</td>\n",
       "      <td>NaT</td>\n",
       "      <td>Стерлитамак</td>\n",
       "      <td>Евгений</td>\n",
       "      <td>Абрамович</td>\n",
       "      <td>2018-06-17</td>\n",
       "      <td>smart</td>\n",
       "    </tr>\n",
       "    <tr>\n",
       "      <td>3</td>\n",
       "      <td>1003</td>\n",
       "      <td>23</td>\n",
       "      <td>NaT</td>\n",
       "      <td>Москва</td>\n",
       "      <td>Белла</td>\n",
       "      <td>Белякова</td>\n",
       "      <td>2018-08-17</td>\n",
       "      <td>ultra</td>\n",
       "    </tr>\n",
       "    <tr>\n",
       "      <td>4</td>\n",
       "      <td>1004</td>\n",
       "      <td>68</td>\n",
       "      <td>NaT</td>\n",
       "      <td>Новокузнецк</td>\n",
       "      <td>Татьяна</td>\n",
       "      <td>Авдеенко</td>\n",
       "      <td>2018-05-14</td>\n",
       "      <td>ultra</td>\n",
       "    </tr>\n",
       "  </tbody>\n",
       "</table>\n",
       "</div>"
      ],
      "text/plain": [
       "   user_id  age churn_date         city first_name  last_name   reg_date  \\\n",
       "0     1000   52        NaT    Краснодар     Рафаил  Верещагин 2018-05-25   \n",
       "1     1001   41        NaT       Москва       Иван       Ежов 2018-11-01   \n",
       "2     1002   59        NaT  Стерлитамак    Евгений  Абрамович 2018-06-17   \n",
       "3     1003   23        NaT       Москва      Белла   Белякова 2018-08-17   \n",
       "4     1004   68        NaT  Новокузнецк    Татьяна   Авдеенко 2018-05-14   \n",
       "\n",
       "  tariff  \n",
       "0  ultra  \n",
       "1  smart  \n",
       "2  smart  \n",
       "3  ultra  \n",
       "4  ultra  "
      ]
     },
     "execution_count": 13,
     "metadata": {},
     "output_type": "execute_result"
    }
   ],
   "source": [
    "users.head(5)"
   ]
  },
  {
   "cell_type": "code",
   "execution_count": 14,
   "metadata": {},
   "outputs": [
    {
     "name": "stdout",
     "output_type": "stream",
     "text": [
      "<class 'pandas.core.frame.DataFrame'>\n",
      "RangeIndex: 500 entries, 0 to 499\n",
      "Data columns (total 8 columns):\n",
      "user_id       500 non-null int64\n",
      "age           500 non-null int64\n",
      "churn_date    38 non-null datetime64[ns]\n",
      "city          500 non-null object\n",
      "first_name    500 non-null object\n",
      "last_name     500 non-null object\n",
      "reg_date      500 non-null datetime64[ns]\n",
      "tariff        500 non-null object\n",
      "dtypes: datetime64[ns](2), int64(2), object(4)\n",
      "memory usage: 31.4+ KB\n"
     ]
    }
   ],
   "source": [
    "users.info()"
   ]
  },
  {
   "cell_type": "markdown",
   "metadata": {},
   "source": [
    "столбец churn_date отражает дату прекращения пользования тарифом. Рассмотрим какие в целом значения хранятся в данном столбце."
   ]
  },
  {
   "cell_type": "code",
   "execution_count": 15,
   "metadata": {},
   "outputs": [
    {
     "data": {
      "text/plain": [
       "array([                          'NaT', '2018-10-05T00:00:00.000000000',\n",
       "       '2018-12-18T00:00:00.000000000', '2018-11-21T00:00:00.000000000',\n",
       "       '2018-10-03T00:00:00.000000000', '2018-10-14T00:00:00.000000000',\n",
       "       '2018-12-09T00:00:00.000000000', '2018-12-11T00:00:00.000000000',\n",
       "       '2018-12-26T00:00:00.000000000', '2018-08-31T00:00:00.000000000',\n",
       "       '2018-12-03T00:00:00.000000000', '2018-12-23T00:00:00.000000000',\n",
       "       '2018-11-07T00:00:00.000000000', '2018-12-16T00:00:00.000000000',\n",
       "       '2018-12-20T00:00:00.000000000', '2018-11-30T00:00:00.000000000',\n",
       "       '2018-12-21T00:00:00.000000000', '2018-08-17T00:00:00.000000000',\n",
       "       '2018-09-02T00:00:00.000000000', '2018-10-04T00:00:00.000000000',\n",
       "       '2018-11-13T00:00:00.000000000', '2018-11-22T00:00:00.000000000',\n",
       "       '2018-10-28T00:00:00.000000000', '2018-11-26T00:00:00.000000000',\n",
       "       '2018-11-27T00:00:00.000000000', '2018-11-16T00:00:00.000000000',\n",
       "       '2018-10-27T00:00:00.000000000', '2018-12-30T00:00:00.000000000',\n",
       "       '2018-09-27T00:00:00.000000000', '2018-12-25T00:00:00.000000000',\n",
       "       '2018-12-14T00:00:00.000000000', '2018-12-24T00:00:00.000000000',\n",
       "       '2018-09-26T00:00:00.000000000', '2018-10-25T00:00:00.000000000'],\n",
       "      dtype='datetime64[ns]')"
      ]
     },
     "execution_count": 15,
     "metadata": {},
     "output_type": "execute_result"
    }
   ],
   "source": [
    "users.churn_date.unique()"
   ]
  },
  {
   "cell_type": "markdown",
   "metadata": {},
   "source": [
    "Можно преположить,что там где пустые значения, значит действие тарифа еще не прекратилось"
   ]
  },
  {
   "cell_type": "markdown",
   "metadata": {},
   "source": [
    "#### Вывод:\n",
    "\n",
    "В результате ознакомления с данными была проведена таже и предобработка данных на наличие ошибок и перевод неторых столбцов в более удобные форматы:\n",
    "- перевод в форматы:\n",
    "    - таблица calls\n",
    "        - call_date object->datetime\n",
    "        - duration float->int\n",
    "    - internet\n",
    "        - session_date object->datetime\n",
    "    - messages\n",
    "        - message_date object->datetime\n",
    "    - users\n",
    "        - reg_date object->datetime\n",
    "        - churn_date object->datetime\n",
    "- исправление ошибок\n",
    "    - таблица internet\n",
    "        - удаление столбца Unnamed: 0"
   ]
  },
  {
   "cell_type": "markdown",
   "metadata": {},
   "source": [
    "### Подготовка данных"
   ]
  },
  {
   "cell_type": "code",
   "execution_count": 16,
   "metadata": {},
   "outputs": [],
   "source": [
    "users['start_month']=pd.DatetimeIndex(users.reg_date).month"
   ]
  },
  {
   "cell_type": "markdown",
   "metadata": {},
   "source": [
    "#### Подсчет количества завонков для кажого пользователя"
   ]
  },
  {
   "cell_type": "markdown",
   "metadata": {},
   "source": [
    "Рассмотрим таблицу _calls_"
   ]
  },
  {
   "cell_type": "code",
   "execution_count": 17,
   "metadata": {},
   "outputs": [
    {
     "data": {
      "text/html": [
       "<div>\n",
       "<style scoped>\n",
       "    .dataframe tbody tr th:only-of-type {\n",
       "        vertical-align: middle;\n",
       "    }\n",
       "\n",
       "    .dataframe tbody tr th {\n",
       "        vertical-align: top;\n",
       "    }\n",
       "\n",
       "    .dataframe thead th {\n",
       "        text-align: right;\n",
       "    }\n",
       "</style>\n",
       "<table border=\"1\" class=\"dataframe\">\n",
       "  <thead>\n",
       "    <tr style=\"text-align: right;\">\n",
       "      <th></th>\n",
       "      <th>id</th>\n",
       "      <th>call_date</th>\n",
       "      <th>duration</th>\n",
       "      <th>user_id</th>\n",
       "    </tr>\n",
       "  </thead>\n",
       "  <tbody>\n",
       "    <tr>\n",
       "      <td>0</td>\n",
       "      <td>1000_0</td>\n",
       "      <td>2018-07-25</td>\n",
       "      <td>0.0</td>\n",
       "      <td>1000</td>\n",
       "    </tr>\n",
       "    <tr>\n",
       "      <td>1</td>\n",
       "      <td>1000_1</td>\n",
       "      <td>2018-08-17</td>\n",
       "      <td>0.0</td>\n",
       "      <td>1000</td>\n",
       "    </tr>\n",
       "    <tr>\n",
       "      <td>2</td>\n",
       "      <td>1000_2</td>\n",
       "      <td>2018-06-11</td>\n",
       "      <td>3.0</td>\n",
       "      <td>1000</td>\n",
       "    </tr>\n",
       "    <tr>\n",
       "      <td>3</td>\n",
       "      <td>1000_3</td>\n",
       "      <td>2018-09-21</td>\n",
       "      <td>14.0</td>\n",
       "      <td>1000</td>\n",
       "    </tr>\n",
       "    <tr>\n",
       "      <td>4</td>\n",
       "      <td>1000_4</td>\n",
       "      <td>2018-12-15</td>\n",
       "      <td>6.0</td>\n",
       "      <td>1000</td>\n",
       "    </tr>\n",
       "  </tbody>\n",
       "</table>\n",
       "</div>"
      ],
      "text/plain": [
       "       id  call_date  duration  user_id\n",
       "0  1000_0 2018-07-25       0.0     1000\n",
       "1  1000_1 2018-08-17       0.0     1000\n",
       "2  1000_2 2018-06-11       3.0     1000\n",
       "3  1000_3 2018-09-21      14.0     1000\n",
       "4  1000_4 2018-12-15       6.0     1000"
      ]
     },
     "execution_count": 17,
     "metadata": {},
     "output_type": "execute_result"
    }
   ],
   "source": [
    "calls.head(5)"
   ]
  },
  {
   "cell_type": "code",
   "execution_count": 18,
   "metadata": {},
   "outputs": [],
   "source": [
    "look_up = {'1': 'jan', '2': 'feb', '3': 'mar', '4': 'apr', '5': 'may',\n",
    "            '6': 'jun', '7': 'jul', '8': 'aug', '9': 'sep', '10': 'oct', '11': 'nov', '12': 'dec'}"
   ]
  },
  {
   "cell_type": "markdown",
   "metadata": {},
   "source": [
    "Так как необходимо выделить за каждый месяц, то в таблицу _calls_ добавим новый столбец, который будет отражать месяц звонка"
   ]
  },
  {
   "cell_type": "code",
   "execution_count": 19,
   "metadata": {},
   "outputs": [
    {
     "data": {
      "text/html": [
       "<div>\n",
       "<style scoped>\n",
       "    .dataframe tbody tr th:only-of-type {\n",
       "        vertical-align: middle;\n",
       "    }\n",
       "\n",
       "    .dataframe tbody tr th {\n",
       "        vertical-align: top;\n",
       "    }\n",
       "\n",
       "    .dataframe thead th {\n",
       "        text-align: right;\n",
       "    }\n",
       "</style>\n",
       "<table border=\"1\" class=\"dataframe\">\n",
       "  <thead>\n",
       "    <tr style=\"text-align: right;\">\n",
       "      <th></th>\n",
       "      <th>id</th>\n",
       "      <th>call_date</th>\n",
       "      <th>duration</th>\n",
       "      <th>user_id</th>\n",
       "      <th>month</th>\n",
       "    </tr>\n",
       "  </thead>\n",
       "  <tbody>\n",
       "    <tr>\n",
       "      <td>0</td>\n",
       "      <td>1000_0</td>\n",
       "      <td>2018-07-25</td>\n",
       "      <td>0.0</td>\n",
       "      <td>1000</td>\n",
       "      <td>7</td>\n",
       "    </tr>\n",
       "    <tr>\n",
       "      <td>1</td>\n",
       "      <td>1000_1</td>\n",
       "      <td>2018-08-17</td>\n",
       "      <td>0.0</td>\n",
       "      <td>1000</td>\n",
       "      <td>8</td>\n",
       "    </tr>\n",
       "  </tbody>\n",
       "</table>\n",
       "</div>"
      ],
      "text/plain": [
       "       id  call_date  duration  user_id  month\n",
       "0  1000_0 2018-07-25       0.0     1000      7\n",
       "1  1000_1 2018-08-17       0.0     1000      8"
      ]
     },
     "execution_count": 19,
     "metadata": {},
     "output_type": "execute_result"
    }
   ],
   "source": [
    "calls['month']=pd.DatetimeIndex(calls.call_date).month\n",
    "calls.head(2)"
   ]
  },
  {
   "cell_type": "markdown",
   "metadata": {},
   "source": [
    "Для восприятия удобней будет, если месяц будет обозначаться буквенно. Создадим словь, в котором число соотвесвует месяцу и заменим его"
   ]
  },
  {
   "cell_type": "code",
   "execution_count": 20,
   "metadata": {},
   "outputs": [],
   "source": [
    "match_num_to_mounth={1:'jan',2:'feb', 3: 'mar', 4: 'apr', 5: 'may',\n",
    "            6: 'jun', 7: 'jul', 8: 'aug', 9: 'sep', 10: 'oct', 11: 'nov', 12: 'dec'}"
   ]
  },
  {
   "cell_type": "code",
   "execution_count": 21,
   "metadata": {},
   "outputs": [
    {
     "data": {
      "text/html": [
       "<div>\n",
       "<style scoped>\n",
       "    .dataframe tbody tr th:only-of-type {\n",
       "        vertical-align: middle;\n",
       "    }\n",
       "\n",
       "    .dataframe tbody tr th {\n",
       "        vertical-align: top;\n",
       "    }\n",
       "\n",
       "    .dataframe thead th {\n",
       "        text-align: right;\n",
       "    }\n",
       "</style>\n",
       "<table border=\"1\" class=\"dataframe\">\n",
       "  <thead>\n",
       "    <tr style=\"text-align: right;\">\n",
       "      <th></th>\n",
       "      <th>id</th>\n",
       "      <th>call_date</th>\n",
       "      <th>duration</th>\n",
       "      <th>user_id</th>\n",
       "      <th>month</th>\n",
       "    </tr>\n",
       "  </thead>\n",
       "  <tbody>\n",
       "    <tr>\n",
       "      <td>0</td>\n",
       "      <td>1000_0</td>\n",
       "      <td>2018-07-25</td>\n",
       "      <td>0.0</td>\n",
       "      <td>1000</td>\n",
       "      <td>jul</td>\n",
       "    </tr>\n",
       "    <tr>\n",
       "      <td>1</td>\n",
       "      <td>1000_1</td>\n",
       "      <td>2018-08-17</td>\n",
       "      <td>0.0</td>\n",
       "      <td>1000</td>\n",
       "      <td>aug</td>\n",
       "    </tr>\n",
       "  </tbody>\n",
       "</table>\n",
       "</div>"
      ],
      "text/plain": [
       "       id  call_date  duration  user_id month\n",
       "0  1000_0 2018-07-25       0.0     1000   jul\n",
       "1  1000_1 2018-08-17       0.0     1000   aug"
      ]
     },
     "execution_count": 21,
     "metadata": {},
     "output_type": "execute_result"
    }
   ],
   "source": [
    "calls['month']=calls.apply(lambda x: match_num_to_mounth[x['month']],axis=1)\n",
    "calls.head(2)"
   ]
  },
  {
   "cell_type": "markdown",
   "metadata": {},
   "source": [
    "Создадим сводную таблицу для количества звонков в месяц для каждого пользователя "
   ]
  },
  {
   "cell_type": "code",
   "execution_count": 22,
   "metadata": {},
   "outputs": [
    {
     "data": {
      "text/html": [
       "<div>\n",
       "<style scoped>\n",
       "    .dataframe tbody tr th:only-of-type {\n",
       "        vertical-align: middle;\n",
       "    }\n",
       "\n",
       "    .dataframe tbody tr th {\n",
       "        vertical-align: top;\n",
       "    }\n",
       "\n",
       "    .dataframe thead th {\n",
       "        text-align: right;\n",
       "    }\n",
       "</style>\n",
       "<table border=\"1\" class=\"dataframe\">\n",
       "  <thead>\n",
       "    <tr style=\"text-align: right;\">\n",
       "      <th></th>\n",
       "      <th>month</th>\n",
       "      <th>user_id</th>\n",
       "      <th>id</th>\n",
       "    </tr>\n",
       "  </thead>\n",
       "  <tbody>\n",
       "    <tr>\n",
       "      <td>0</td>\n",
       "      <td>apr</td>\n",
       "      <td>1005</td>\n",
       "      <td>101</td>\n",
       "    </tr>\n",
       "    <tr>\n",
       "      <td>1</td>\n",
       "      <td>apr</td>\n",
       "      <td>1006</td>\n",
       "      <td>47</td>\n",
       "    </tr>\n",
       "  </tbody>\n",
       "</table>\n",
       "</div>"
      ],
      "text/plain": [
       "  month  user_id   id\n",
       "0   apr     1005  101\n",
       "1   apr     1006   47"
      ]
     },
     "execution_count": 22,
     "metadata": {},
     "output_type": "execute_result"
    }
   ],
   "source": [
    "calls_count_pivot=calls.pivot_table(\n",
    "    index=['month','user_id'],values='id',aggfunc='count'\n",
    ").reset_index()\n",
    "calls_count_pivot.head(2)\n"
   ]
  },
  {
   "cell_type": "markdown",
   "metadata": {},
   "source": [
    "Поменяем названия столбцов"
   ]
  },
  {
   "cell_type": "code",
   "execution_count": 23,
   "metadata": {},
   "outputs": [
    {
     "data": {
      "text/html": [
       "<div>\n",
       "<style scoped>\n",
       "    .dataframe tbody tr th:only-of-type {\n",
       "        vertical-align: middle;\n",
       "    }\n",
       "\n",
       "    .dataframe tbody tr th {\n",
       "        vertical-align: top;\n",
       "    }\n",
       "\n",
       "    .dataframe thead th {\n",
       "        text-align: right;\n",
       "    }\n",
       "</style>\n",
       "<table border=\"1\" class=\"dataframe\">\n",
       "  <thead>\n",
       "    <tr style=\"text-align: right;\">\n",
       "      <th></th>\n",
       "      <th>month</th>\n",
       "      <th>user_id</th>\n",
       "      <th>call_count</th>\n",
       "    </tr>\n",
       "  </thead>\n",
       "  <tbody>\n",
       "    <tr>\n",
       "      <td>0</td>\n",
       "      <td>apr</td>\n",
       "      <td>1005</td>\n",
       "      <td>101</td>\n",
       "    </tr>\n",
       "    <tr>\n",
       "      <td>1</td>\n",
       "      <td>apr</td>\n",
       "      <td>1006</td>\n",
       "      <td>47</td>\n",
       "    </tr>\n",
       "  </tbody>\n",
       "</table>\n",
       "</div>"
      ],
      "text/plain": [
       "  month  user_id  call_count\n",
       "0   apr     1005         101\n",
       "1   apr     1006          47"
      ]
     },
     "execution_count": 23,
     "metadata": {},
     "output_type": "execute_result"
    }
   ],
   "source": [
    "calls_count_pivot.columns=['month','user_id','call_count']\n",
    "calls_count_pivot.head(2)"
   ]
  },
  {
   "cell_type": "markdown",
   "metadata": {},
   "source": [
    "Таким образом подсчитано количество звонков для каждого пользователя помесячно"
   ]
  },
  {
   "cell_type": "markdown",
   "metadata": {},
   "source": [
    "#### Подсчет минут разговора по месяцам"
   ]
  },
  {
   "cell_type": "markdown",
   "metadata": {},
   "source": [
    "Составим таблицу в которой будет посчитано сумма звонков абонента в каждый месяц. В тех месяцах, которых абонент не был подключен остается пустым (NaN)"
   ]
  },
  {
   "cell_type": "code",
   "execution_count": 24,
   "metadata": {},
   "outputs": [
    {
     "data": {
      "text/html": [
       "<div>\n",
       "<style scoped>\n",
       "    .dataframe tbody tr th:only-of-type {\n",
       "        vertical-align: middle;\n",
       "    }\n",
       "\n",
       "    .dataframe tbody tr th {\n",
       "        vertical-align: top;\n",
       "    }\n",
       "\n",
       "    .dataframe thead th {\n",
       "        text-align: right;\n",
       "    }\n",
       "</style>\n",
       "<table border=\"1\" class=\"dataframe\">\n",
       "  <thead>\n",
       "    <tr style=\"text-align: right;\">\n",
       "      <th></th>\n",
       "      <th>month</th>\n",
       "      <th>user_id</th>\n",
       "      <th>duration</th>\n",
       "    </tr>\n",
       "  </thead>\n",
       "  <tbody>\n",
       "    <tr>\n",
       "      <td>0</td>\n",
       "      <td>apr</td>\n",
       "      <td>1005</td>\n",
       "      <td>712.0</td>\n",
       "    </tr>\n",
       "    <tr>\n",
       "      <td>1</td>\n",
       "      <td>apr</td>\n",
       "      <td>1006</td>\n",
       "      <td>356.0</td>\n",
       "    </tr>\n",
       "  </tbody>\n",
       "</table>\n",
       "</div>"
      ],
      "text/plain": [
       "  month  user_id  duration\n",
       "0   apr     1005     712.0\n",
       "1   apr     1006     356.0"
      ]
     },
     "execution_count": 24,
     "metadata": {},
     "output_type": "execute_result"
    }
   ],
   "source": [
    "calls_duration_pivot=calls.pivot_table(\n",
    "    index=['month','user_id'],values='duration',aggfunc='sum'\n",
    ").reset_index()\n",
    "calls_duration_pivot.head(2)"
   ]
  },
  {
   "cell_type": "markdown",
   "metadata": {},
   "source": [
    "Поменяем название столбцов"
   ]
  },
  {
   "cell_type": "code",
   "execution_count": 25,
   "metadata": {},
   "outputs": [
    {
     "data": {
      "text/html": [
       "<div>\n",
       "<style scoped>\n",
       "    .dataframe tbody tr th:only-of-type {\n",
       "        vertical-align: middle;\n",
       "    }\n",
       "\n",
       "    .dataframe tbody tr th {\n",
       "        vertical-align: top;\n",
       "    }\n",
       "\n",
       "    .dataframe thead th {\n",
       "        text-align: right;\n",
       "    }\n",
       "</style>\n",
       "<table border=\"1\" class=\"dataframe\">\n",
       "  <thead>\n",
       "    <tr style=\"text-align: right;\">\n",
       "      <th></th>\n",
       "      <th>month</th>\n",
       "      <th>user_id</th>\n",
       "      <th>call_duration</th>\n",
       "    </tr>\n",
       "  </thead>\n",
       "  <tbody>\n",
       "    <tr>\n",
       "      <td>0</td>\n",
       "      <td>apr</td>\n",
       "      <td>1005</td>\n",
       "      <td>712.0</td>\n",
       "    </tr>\n",
       "    <tr>\n",
       "      <td>1</td>\n",
       "      <td>apr</td>\n",
       "      <td>1006</td>\n",
       "      <td>356.0</td>\n",
       "    </tr>\n",
       "  </tbody>\n",
       "</table>\n",
       "</div>"
      ],
      "text/plain": [
       "  month  user_id  call_duration\n",
       "0   apr     1005          712.0\n",
       "1   apr     1006          356.0"
      ]
     },
     "execution_count": 25,
     "metadata": {},
     "output_type": "execute_result"
    }
   ],
   "source": [
    "calls_duration_pivot.columns=['month','user_id','call_duration']\n",
    "calls_duration_pivot.head(2)\n"
   ]
  },
  {
   "cell_type": "markdown",
   "metadata": {},
   "source": [
    "Таким образом подсчитана продолжительность звонков для каждого пользователя помесячно"
   ]
  },
  {
   "cell_type": "markdown",
   "metadata": {},
   "source": [
    "#### Подсчет отправленных сообщений по месяцам"
   ]
  },
  {
   "cell_type": "code",
   "execution_count": 26,
   "metadata": {},
   "outputs": [
    {
     "data": {
      "text/html": [
       "<div>\n",
       "<style scoped>\n",
       "    .dataframe tbody tr th:only-of-type {\n",
       "        vertical-align: middle;\n",
       "    }\n",
       "\n",
       "    .dataframe tbody tr th {\n",
       "        vertical-align: top;\n",
       "    }\n",
       "\n",
       "    .dataframe thead th {\n",
       "        text-align: right;\n",
       "    }\n",
       "</style>\n",
       "<table border=\"1\" class=\"dataframe\">\n",
       "  <thead>\n",
       "    <tr style=\"text-align: right;\">\n",
       "      <th></th>\n",
       "      <th>id</th>\n",
       "      <th>message_date</th>\n",
       "      <th>user_id</th>\n",
       "    </tr>\n",
       "  </thead>\n",
       "  <tbody>\n",
       "    <tr>\n",
       "      <td>0</td>\n",
       "      <td>1000_0</td>\n",
       "      <td>2018-06-27</td>\n",
       "      <td>1000</td>\n",
       "    </tr>\n",
       "    <tr>\n",
       "      <td>1</td>\n",
       "      <td>1000_1</td>\n",
       "      <td>2018-10-08</td>\n",
       "      <td>1000</td>\n",
       "    </tr>\n",
       "    <tr>\n",
       "      <td>2</td>\n",
       "      <td>1000_2</td>\n",
       "      <td>2018-08-04</td>\n",
       "      <td>1000</td>\n",
       "    </tr>\n",
       "    <tr>\n",
       "      <td>3</td>\n",
       "      <td>1000_3</td>\n",
       "      <td>2018-06-16</td>\n",
       "      <td>1000</td>\n",
       "    </tr>\n",
       "    <tr>\n",
       "      <td>4</td>\n",
       "      <td>1000_4</td>\n",
       "      <td>2018-12-05</td>\n",
       "      <td>1000</td>\n",
       "    </tr>\n",
       "  </tbody>\n",
       "</table>\n",
       "</div>"
      ],
      "text/plain": [
       "       id message_date  user_id\n",
       "0  1000_0   2018-06-27     1000\n",
       "1  1000_1   2018-10-08     1000\n",
       "2  1000_2   2018-08-04     1000\n",
       "3  1000_3   2018-06-16     1000\n",
       "4  1000_4   2018-12-05     1000"
      ]
     },
     "execution_count": 26,
     "metadata": {},
     "output_type": "execute_result"
    }
   ],
   "source": [
    "messages.head(5)"
   ]
  },
  {
   "cell_type": "markdown",
   "metadata": {},
   "source": [
    "В таблицу messages добавим столбец месяц"
   ]
  },
  {
   "cell_type": "code",
   "execution_count": 27,
   "metadata": {},
   "outputs": [
    {
     "data": {
      "text/html": [
       "<div>\n",
       "<style scoped>\n",
       "    .dataframe tbody tr th:only-of-type {\n",
       "        vertical-align: middle;\n",
       "    }\n",
       "\n",
       "    .dataframe tbody tr th {\n",
       "        vertical-align: top;\n",
       "    }\n",
       "\n",
       "    .dataframe thead th {\n",
       "        text-align: right;\n",
       "    }\n",
       "</style>\n",
       "<table border=\"1\" class=\"dataframe\">\n",
       "  <thead>\n",
       "    <tr style=\"text-align: right;\">\n",
       "      <th></th>\n",
       "      <th>id</th>\n",
       "      <th>message_date</th>\n",
       "      <th>user_id</th>\n",
       "      <th>month</th>\n",
       "    </tr>\n",
       "  </thead>\n",
       "  <tbody>\n",
       "    <tr>\n",
       "      <td>0</td>\n",
       "      <td>1000_0</td>\n",
       "      <td>2018-06-27</td>\n",
       "      <td>1000</td>\n",
       "      <td>6</td>\n",
       "    </tr>\n",
       "    <tr>\n",
       "      <td>1</td>\n",
       "      <td>1000_1</td>\n",
       "      <td>2018-10-08</td>\n",
       "      <td>1000</td>\n",
       "      <td>10</td>\n",
       "    </tr>\n",
       "  </tbody>\n",
       "</table>\n",
       "</div>"
      ],
      "text/plain": [
       "       id message_date  user_id  month\n",
       "0  1000_0   2018-06-27     1000      6\n",
       "1  1000_1   2018-10-08     1000     10"
      ]
     },
     "execution_count": 27,
     "metadata": {},
     "output_type": "execute_result"
    }
   ],
   "source": [
    "messages['month']=pd.DatetimeIndex(messages.message_date).month\n",
    "messages.head(2)"
   ]
  },
  {
   "cell_type": "code",
   "execution_count": 28,
   "metadata": {},
   "outputs": [],
   "source": [
    "messages['month']=messages.apply(lambda x: match_num_to_mounth[x['month']],axis=1)"
   ]
  },
  {
   "cell_type": "code",
   "execution_count": 29,
   "metadata": {},
   "outputs": [
    {
     "data": {
      "text/html": [
       "<div>\n",
       "<style scoped>\n",
       "    .dataframe tbody tr th:only-of-type {\n",
       "        vertical-align: middle;\n",
       "    }\n",
       "\n",
       "    .dataframe tbody tr th {\n",
       "        vertical-align: top;\n",
       "    }\n",
       "\n",
       "    .dataframe thead th {\n",
       "        text-align: right;\n",
       "    }\n",
       "</style>\n",
       "<table border=\"1\" class=\"dataframe\">\n",
       "  <thead>\n",
       "    <tr style=\"text-align: right;\">\n",
       "      <th></th>\n",
       "      <th>month</th>\n",
       "      <th>user_id</th>\n",
       "      <th>id</th>\n",
       "    </tr>\n",
       "  </thead>\n",
       "  <tbody>\n",
       "    <tr>\n",
       "      <td>0</td>\n",
       "      <td>apr</td>\n",
       "      <td>1005</td>\n",
       "      <td>41</td>\n",
       "    </tr>\n",
       "    <tr>\n",
       "      <td>1</td>\n",
       "      <td>apr</td>\n",
       "      <td>1007</td>\n",
       "      <td>11</td>\n",
       "    </tr>\n",
       "  </tbody>\n",
       "</table>\n",
       "</div>"
      ],
      "text/plain": [
       "  month  user_id  id\n",
       "0   apr     1005  41\n",
       "1   apr     1007  11"
      ]
     },
     "execution_count": 29,
     "metadata": {},
     "output_type": "execute_result"
    }
   ],
   "source": [
    "messages_pivot=messages.pivot_table(\n",
    "    index=['month','user_id'],values='id',aggfunc='count'\n",
    ").reset_index()\n",
    "messages_pivot.head(2)"
   ]
  },
  {
   "cell_type": "code",
   "execution_count": 30,
   "metadata": {},
   "outputs": [
    {
     "data": {
      "text/html": [
       "<div>\n",
       "<style scoped>\n",
       "    .dataframe tbody tr th:only-of-type {\n",
       "        vertical-align: middle;\n",
       "    }\n",
       "\n",
       "    .dataframe tbody tr th {\n",
       "        vertical-align: top;\n",
       "    }\n",
       "\n",
       "    .dataframe thead th {\n",
       "        text-align: right;\n",
       "    }\n",
       "</style>\n",
       "<table border=\"1\" class=\"dataframe\">\n",
       "  <thead>\n",
       "    <tr style=\"text-align: right;\">\n",
       "      <th></th>\n",
       "      <th>month</th>\n",
       "      <th>user_id</th>\n",
       "      <th>messages_count</th>\n",
       "    </tr>\n",
       "  </thead>\n",
       "  <tbody>\n",
       "    <tr>\n",
       "      <td>0</td>\n",
       "      <td>apr</td>\n",
       "      <td>1005</td>\n",
       "      <td>41</td>\n",
       "    </tr>\n",
       "    <tr>\n",
       "      <td>1</td>\n",
       "      <td>apr</td>\n",
       "      <td>1007</td>\n",
       "      <td>11</td>\n",
       "    </tr>\n",
       "  </tbody>\n",
       "</table>\n",
       "</div>"
      ],
      "text/plain": [
       "  month  user_id  messages_count\n",
       "0   apr     1005              41\n",
       "1   apr     1007              11"
      ]
     },
     "execution_count": 30,
     "metadata": {},
     "output_type": "execute_result"
    }
   ],
   "source": [
    "messages_pivot.columns=['month','user_id','messages_count']\n",
    "messages_pivot.head(2)\n"
   ]
  },
  {
   "cell_type": "markdown",
   "metadata": {},
   "source": [
    "Таким образом подсчитаны сообщения для каждого пользователя помесячно"
   ]
  },
  {
   "cell_type": "markdown",
   "metadata": {},
   "source": [
    "#### Израсходованный трафик интернета за месяц"
   ]
  },
  {
   "cell_type": "code",
   "execution_count": 31,
   "metadata": {},
   "outputs": [
    {
     "data": {
      "text/html": [
       "<div>\n",
       "<style scoped>\n",
       "    .dataframe tbody tr th:only-of-type {\n",
       "        vertical-align: middle;\n",
       "    }\n",
       "\n",
       "    .dataframe tbody tr th {\n",
       "        vertical-align: top;\n",
       "    }\n",
       "\n",
       "    .dataframe thead th {\n",
       "        text-align: right;\n",
       "    }\n",
       "</style>\n",
       "<table border=\"1\" class=\"dataframe\">\n",
       "  <thead>\n",
       "    <tr style=\"text-align: right;\">\n",
       "      <th></th>\n",
       "      <th>id</th>\n",
       "      <th>mb_used</th>\n",
       "      <th>session_date</th>\n",
       "      <th>user_id</th>\n",
       "    </tr>\n",
       "  </thead>\n",
       "  <tbody>\n",
       "    <tr>\n",
       "      <td>0</td>\n",
       "      <td>1000_0</td>\n",
       "      <td>113.0</td>\n",
       "      <td>2018-11-25</td>\n",
       "      <td>1000</td>\n",
       "    </tr>\n",
       "    <tr>\n",
       "      <td>1</td>\n",
       "      <td>1000_1</td>\n",
       "      <td>1053.0</td>\n",
       "      <td>2018-09-07</td>\n",
       "      <td>1000</td>\n",
       "    </tr>\n",
       "    <tr>\n",
       "      <td>2</td>\n",
       "      <td>1000_2</td>\n",
       "      <td>1198.0</td>\n",
       "      <td>2018-06-25</td>\n",
       "      <td>1000</td>\n",
       "    </tr>\n",
       "    <tr>\n",
       "      <td>3</td>\n",
       "      <td>1000_3</td>\n",
       "      <td>551.0</td>\n",
       "      <td>2018-08-22</td>\n",
       "      <td>1000</td>\n",
       "    </tr>\n",
       "    <tr>\n",
       "      <td>4</td>\n",
       "      <td>1000_4</td>\n",
       "      <td>303.0</td>\n",
       "      <td>2018-09-24</td>\n",
       "      <td>1000</td>\n",
       "    </tr>\n",
       "  </tbody>\n",
       "</table>\n",
       "</div>"
      ],
      "text/plain": [
       "       id  mb_used session_date  user_id\n",
       "0  1000_0    113.0   2018-11-25     1000\n",
       "1  1000_1   1053.0   2018-09-07     1000\n",
       "2  1000_2   1198.0   2018-06-25     1000\n",
       "3  1000_3    551.0   2018-08-22     1000\n",
       "4  1000_4    303.0   2018-09-24     1000"
      ]
     },
     "execution_count": 31,
     "metadata": {},
     "output_type": "execute_result"
    }
   ],
   "source": [
    "internet.head(5)"
   ]
  },
  {
   "cell_type": "markdown",
   "metadata": {},
   "source": [
    "В таблицу internet добавим столбец месяц"
   ]
  },
  {
   "cell_type": "code",
   "execution_count": 32,
   "metadata": {},
   "outputs": [],
   "source": [
    "internet['month']=pd.DatetimeIndex(internet.session_date).month\n",
    "internet['month']=internet.apply(lambda x: match_num_to_mounth[x['month']],axis=1)"
   ]
  },
  {
   "cell_type": "code",
   "execution_count": 33,
   "metadata": {},
   "outputs": [
    {
     "data": {
      "text/html": [
       "<div>\n",
       "<style scoped>\n",
       "    .dataframe tbody tr th:only-of-type {\n",
       "        vertical-align: middle;\n",
       "    }\n",
       "\n",
       "    .dataframe tbody tr th {\n",
       "        vertical-align: top;\n",
       "    }\n",
       "\n",
       "    .dataframe thead th {\n",
       "        text-align: right;\n",
       "    }\n",
       "</style>\n",
       "<table border=\"1\" class=\"dataframe\">\n",
       "  <thead>\n",
       "    <tr style=\"text-align: right;\">\n",
       "      <th></th>\n",
       "      <th>month</th>\n",
       "      <th>user_id</th>\n",
       "      <th>mb_used</th>\n",
       "    </tr>\n",
       "  </thead>\n",
       "  <tbody>\n",
       "    <tr>\n",
       "      <td>0</td>\n",
       "      <td>apr</td>\n",
       "      <td>1005</td>\n",
       "      <td>9365.0</td>\n",
       "    </tr>\n",
       "    <tr>\n",
       "      <td>1</td>\n",
       "      <td>apr</td>\n",
       "      <td>1006</td>\n",
       "      <td>13954.0</td>\n",
       "    </tr>\n",
       "  </tbody>\n",
       "</table>\n",
       "</div>"
      ],
      "text/plain": [
       "  month  user_id  mb_used\n",
       "0   apr     1005   9365.0\n",
       "1   apr     1006  13954.0"
      ]
     },
     "execution_count": 33,
     "metadata": {},
     "output_type": "execute_result"
    }
   ],
   "source": [
    "internet_pivot=internet.pivot_table(\n",
    "    index=['month','user_id'],values='mb_used',aggfunc='sum'\n",
    ").reset_index()\n",
    "internet_pivot.head(2)"
   ]
  },
  {
   "cell_type": "markdown",
   "metadata": {},
   "source": [
    "Таким образом подсчитан расход интернета для каждого пользователя помесячно"
   ]
  },
  {
   "cell_type": "markdown",
   "metadata": {},
   "source": [
    "#### Месячная выручка"
   ]
  },
  {
   "cell_type": "markdown",
   "metadata": {},
   "source": [
    "Для начала совместим данные"
   ]
  },
  {
   "cell_type": "code",
   "execution_count": 34,
   "metadata": {},
   "outputs": [],
   "source": [
    "general_data=calls_count_pivot.merge(calls_duration_pivot,\n",
    "            left_on=['month','user_id'],right_on=['month','user_id'],how='outer')"
   ]
  },
  {
   "cell_type": "code",
   "execution_count": 35,
   "metadata": {},
   "outputs": [],
   "source": [
    "general_data=general_data.merge(messages_pivot,\n",
    "            left_on=['month','user_id'],right_on=['month','user_id'],how='outer')"
   ]
  },
  {
   "cell_type": "code",
   "execution_count": 36,
   "metadata": {},
   "outputs": [],
   "source": [
    "general_data=general_data.merge(internet_pivot,\n",
    "            left_on=['month','user_id'],right_on=['month','user_id'],how='outer')"
   ]
  },
  {
   "cell_type": "code",
   "execution_count": 37,
   "metadata": {},
   "outputs": [],
   "source": [
    "general_data=general_data.merge(users.loc[:,['user_id','tariff']],\n",
    "            left_on='user_id',right_on='user_id',how='outer')"
   ]
  },
  {
   "cell_type": "code",
   "execution_count": 38,
   "metadata": {},
   "outputs": [],
   "source": [
    "general_data=general_data.merge(tariffs.loc[:,['tariff_name','rub_monthly_fee']],\n",
    "            left_on='tariff',right_on='tariff_name',how='outer')"
   ]
  },
  {
   "cell_type": "code",
   "execution_count": 39,
   "metadata": {},
   "outputs": [
    {
     "data": {
      "text/html": [
       "<div>\n",
       "<style scoped>\n",
       "    .dataframe tbody tr th:only-of-type {\n",
       "        vertical-align: middle;\n",
       "    }\n",
       "\n",
       "    .dataframe tbody tr th {\n",
       "        vertical-align: top;\n",
       "    }\n",
       "\n",
       "    .dataframe thead th {\n",
       "        text-align: right;\n",
       "    }\n",
       "</style>\n",
       "<table border=\"1\" class=\"dataframe\">\n",
       "  <thead>\n",
       "    <tr style=\"text-align: right;\">\n",
       "      <th></th>\n",
       "      <th>month</th>\n",
       "      <th>user_id</th>\n",
       "      <th>call_count</th>\n",
       "      <th>call_duration</th>\n",
       "      <th>messages_count</th>\n",
       "      <th>mb_used</th>\n",
       "      <th>tariff</th>\n",
       "      <th>tariff_name</th>\n",
       "      <th>rub_monthly_fee</th>\n",
       "    </tr>\n",
       "  </thead>\n",
       "  <tbody>\n",
       "    <tr>\n",
       "      <td>0</td>\n",
       "      <td>apr</td>\n",
       "      <td>1005</td>\n",
       "      <td>101.0</td>\n",
       "      <td>712.0</td>\n",
       "      <td>41.0</td>\n",
       "      <td>9365.0</td>\n",
       "      <td>smart</td>\n",
       "      <td>smart</td>\n",
       "      <td>550</td>\n",
       "    </tr>\n",
       "    <tr>\n",
       "      <td>1</td>\n",
       "      <td>aug</td>\n",
       "      <td>1005</td>\n",
       "      <td>71.0</td>\n",
       "      <td>619.0</td>\n",
       "      <td>64.0</td>\n",
       "      <td>7554.0</td>\n",
       "      <td>smart</td>\n",
       "      <td>smart</td>\n",
       "      <td>550</td>\n",
       "    </tr>\n",
       "    <tr>\n",
       "      <td>2</td>\n",
       "      <td>dec</td>\n",
       "      <td>1005</td>\n",
       "      <td>84.0</td>\n",
       "      <td>592.0</td>\n",
       "      <td>54.0</td>\n",
       "      <td>8680.0</td>\n",
       "      <td>smart</td>\n",
       "      <td>smart</td>\n",
       "      <td>550</td>\n",
       "    </tr>\n",
       "    <tr>\n",
       "      <td>3</td>\n",
       "      <td>feb</td>\n",
       "      <td>1005</td>\n",
       "      <td>69.0</td>\n",
       "      <td>456.0</td>\n",
       "      <td>38.0</td>\n",
       "      <td>7394.0</td>\n",
       "      <td>smart</td>\n",
       "      <td>smart</td>\n",
       "      <td>550</td>\n",
       "    </tr>\n",
       "    <tr>\n",
       "      <td>4</td>\n",
       "      <td>jan</td>\n",
       "      <td>1005</td>\n",
       "      <td>15.0</td>\n",
       "      <td>95.0</td>\n",
       "      <td>7.0</td>\n",
       "      <td>2730.0</td>\n",
       "      <td>smart</td>\n",
       "      <td>smart</td>\n",
       "      <td>550</td>\n",
       "    </tr>\n",
       "    <tr>\n",
       "      <td>5</td>\n",
       "      <td>jul</td>\n",
       "      <td>1005</td>\n",
       "      <td>77.0</td>\n",
       "      <td>569.0</td>\n",
       "      <td>56.0</td>\n",
       "      <td>7703.0</td>\n",
       "      <td>smart</td>\n",
       "      <td>smart</td>\n",
       "      <td>550</td>\n",
       "    </tr>\n",
       "    <tr>\n",
       "      <td>6</td>\n",
       "      <td>jun</td>\n",
       "      <td>1005</td>\n",
       "      <td>80.0</td>\n",
       "      <td>612.0</td>\n",
       "      <td>47.0</td>\n",
       "      <td>9875.0</td>\n",
       "      <td>smart</td>\n",
       "      <td>smart</td>\n",
       "      <td>550</td>\n",
       "    </tr>\n",
       "    <tr>\n",
       "      <td>7</td>\n",
       "      <td>mar</td>\n",
       "      <td>1005</td>\n",
       "      <td>77.0</td>\n",
       "      <td>606.0</td>\n",
       "      <td>56.0</td>\n",
       "      <td>11117.0</td>\n",
       "      <td>smart</td>\n",
       "      <td>smart</td>\n",
       "      <td>550</td>\n",
       "    </tr>\n",
       "    <tr>\n",
       "      <td>8</td>\n",
       "      <td>may</td>\n",
       "      <td>1005</td>\n",
       "      <td>73.0</td>\n",
       "      <td>595.0</td>\n",
       "      <td>42.0</td>\n",
       "      <td>7877.0</td>\n",
       "      <td>smart</td>\n",
       "      <td>smart</td>\n",
       "      <td>550</td>\n",
       "    </tr>\n",
       "    <tr>\n",
       "      <td>9</td>\n",
       "      <td>nov</td>\n",
       "      <td>1005</td>\n",
       "      <td>75.0</td>\n",
       "      <td>547.0</td>\n",
       "      <td>51.0</td>\n",
       "      <td>12682.0</td>\n",
       "      <td>smart</td>\n",
       "      <td>smart</td>\n",
       "      <td>550</td>\n",
       "    </tr>\n",
       "  </tbody>\n",
       "</table>\n",
       "</div>"
      ],
      "text/plain": [
       "  month  user_id  call_count  call_duration  messages_count  mb_used tariff  \\\n",
       "0   apr     1005       101.0          712.0            41.0   9365.0  smart   \n",
       "1   aug     1005        71.0          619.0            64.0   7554.0  smart   \n",
       "2   dec     1005        84.0          592.0            54.0   8680.0  smart   \n",
       "3   feb     1005        69.0          456.0            38.0   7394.0  smart   \n",
       "4   jan     1005        15.0           95.0             7.0   2730.0  smart   \n",
       "5   jul     1005        77.0          569.0            56.0   7703.0  smart   \n",
       "6   jun     1005        80.0          612.0            47.0   9875.0  smart   \n",
       "7   mar     1005        77.0          606.0            56.0  11117.0  smart   \n",
       "8   may     1005        73.0          595.0            42.0   7877.0  smart   \n",
       "9   nov     1005        75.0          547.0            51.0  12682.0  smart   \n",
       "\n",
       "  tariff_name  rub_monthly_fee  \n",
       "0       smart              550  \n",
       "1       smart              550  \n",
       "2       smart              550  \n",
       "3       smart              550  \n",
       "4       smart              550  \n",
       "5       smart              550  \n",
       "6       smart              550  \n",
       "7       smart              550  \n",
       "8       smart              550  \n",
       "9       smart              550  "
      ]
     },
     "execution_count": 39,
     "metadata": {},
     "output_type": "execute_result"
    }
   ],
   "source": [
    "general_data.head(10)"
   ]
  },
  {
   "cell_type": "markdown",
   "metadata": {},
   "source": [
    "Удалим столбцы который дублируется(tariff_name)"
   ]
  },
  {
   "cell_type": "code",
   "execution_count": 40,
   "metadata": {},
   "outputs": [
    {
     "data": {
      "text/html": [
       "<div>\n",
       "<style scoped>\n",
       "    .dataframe tbody tr th:only-of-type {\n",
       "        vertical-align: middle;\n",
       "    }\n",
       "\n",
       "    .dataframe tbody tr th {\n",
       "        vertical-align: top;\n",
       "    }\n",
       "\n",
       "    .dataframe thead th {\n",
       "        text-align: right;\n",
       "    }\n",
       "</style>\n",
       "<table border=\"1\" class=\"dataframe\">\n",
       "  <thead>\n",
       "    <tr style=\"text-align: right;\">\n",
       "      <th></th>\n",
       "      <th>month</th>\n",
       "      <th>user_id</th>\n",
       "      <th>call_count</th>\n",
       "      <th>call_duration</th>\n",
       "      <th>messages_count</th>\n",
       "      <th>mb_used</th>\n",
       "      <th>tariff</th>\n",
       "      <th>rub_monthly_fee</th>\n",
       "    </tr>\n",
       "  </thead>\n",
       "  <tbody>\n",
       "    <tr>\n",
       "      <td>0</td>\n",
       "      <td>apr</td>\n",
       "      <td>1005</td>\n",
       "      <td>101.0</td>\n",
       "      <td>712.0</td>\n",
       "      <td>41.0</td>\n",
       "      <td>9365.0</td>\n",
       "      <td>smart</td>\n",
       "      <td>550</td>\n",
       "    </tr>\n",
       "    <tr>\n",
       "      <td>1</td>\n",
       "      <td>aug</td>\n",
       "      <td>1005</td>\n",
       "      <td>71.0</td>\n",
       "      <td>619.0</td>\n",
       "      <td>64.0</td>\n",
       "      <td>7554.0</td>\n",
       "      <td>smart</td>\n",
       "      <td>550</td>\n",
       "    </tr>\n",
       "    <tr>\n",
       "      <td>2</td>\n",
       "      <td>dec</td>\n",
       "      <td>1005</td>\n",
       "      <td>84.0</td>\n",
       "      <td>592.0</td>\n",
       "      <td>54.0</td>\n",
       "      <td>8680.0</td>\n",
       "      <td>smart</td>\n",
       "      <td>550</td>\n",
       "    </tr>\n",
       "    <tr>\n",
       "      <td>3</td>\n",
       "      <td>feb</td>\n",
       "      <td>1005</td>\n",
       "      <td>69.0</td>\n",
       "      <td>456.0</td>\n",
       "      <td>38.0</td>\n",
       "      <td>7394.0</td>\n",
       "      <td>smart</td>\n",
       "      <td>550</td>\n",
       "    </tr>\n",
       "    <tr>\n",
       "      <td>4</td>\n",
       "      <td>jan</td>\n",
       "      <td>1005</td>\n",
       "      <td>15.0</td>\n",
       "      <td>95.0</td>\n",
       "      <td>7.0</td>\n",
       "      <td>2730.0</td>\n",
       "      <td>smart</td>\n",
       "      <td>550</td>\n",
       "    </tr>\n",
       "    <tr>\n",
       "      <td>...</td>\n",
       "      <td>...</td>\n",
       "      <td>...</td>\n",
       "      <td>...</td>\n",
       "      <td>...</td>\n",
       "      <td>...</td>\n",
       "      <td>...</td>\n",
       "      <td>...</td>\n",
       "      <td>...</td>\n",
       "    </tr>\n",
       "    <tr>\n",
       "      <td>3211</td>\n",
       "      <td>sep</td>\n",
       "      <td>1473</td>\n",
       "      <td>NaN</td>\n",
       "      <td>NaN</td>\n",
       "      <td>19.0</td>\n",
       "      <td>17307.0</td>\n",
       "      <td>ultra</td>\n",
       "      <td>1950</td>\n",
       "    </tr>\n",
       "    <tr>\n",
       "      <td>3212</td>\n",
       "      <td>dec</td>\n",
       "      <td>1328</td>\n",
       "      <td>NaN</td>\n",
       "      <td>NaN</td>\n",
       "      <td>7.0</td>\n",
       "      <td>39461.0</td>\n",
       "      <td>ultra</td>\n",
       "      <td>1950</td>\n",
       "    </tr>\n",
       "    <tr>\n",
       "      <td>3213</td>\n",
       "      <td>nov</td>\n",
       "      <td>1328</td>\n",
       "      <td>NaN</td>\n",
       "      <td>NaN</td>\n",
       "      <td>8.0</td>\n",
       "      <td>35567.0</td>\n",
       "      <td>ultra</td>\n",
       "      <td>1950</td>\n",
       "    </tr>\n",
       "    <tr>\n",
       "      <td>3214</td>\n",
       "      <td>oct</td>\n",
       "      <td>1328</td>\n",
       "      <td>NaN</td>\n",
       "      <td>NaN</td>\n",
       "      <td>6.0</td>\n",
       "      <td>22447.0</td>\n",
       "      <td>ultra</td>\n",
       "      <td>1950</td>\n",
       "    </tr>\n",
       "    <tr>\n",
       "      <td>3215</td>\n",
       "      <td>NaN</td>\n",
       "      <td>1128</td>\n",
       "      <td>NaN</td>\n",
       "      <td>NaN</td>\n",
       "      <td>NaN</td>\n",
       "      <td>NaN</td>\n",
       "      <td>ultra</td>\n",
       "      <td>1950</td>\n",
       "    </tr>\n",
       "  </tbody>\n",
       "</table>\n",
       "<p>3216 rows × 8 columns</p>\n",
       "</div>"
      ],
      "text/plain": [
       "     month  user_id  call_count  call_duration  messages_count  mb_used  \\\n",
       "0      apr     1005       101.0          712.0            41.0   9365.0   \n",
       "1      aug     1005        71.0          619.0            64.0   7554.0   \n",
       "2      dec     1005        84.0          592.0            54.0   8680.0   \n",
       "3      feb     1005        69.0          456.0            38.0   7394.0   \n",
       "4      jan     1005        15.0           95.0             7.0   2730.0   \n",
       "...    ...      ...         ...            ...             ...      ...   \n",
       "3211   sep     1473         NaN            NaN            19.0  17307.0   \n",
       "3212   dec     1328         NaN            NaN             7.0  39461.0   \n",
       "3213   nov     1328         NaN            NaN             8.0  35567.0   \n",
       "3214   oct     1328         NaN            NaN             6.0  22447.0   \n",
       "3215   NaN     1128         NaN            NaN             NaN      NaN   \n",
       "\n",
       "     tariff  rub_monthly_fee  \n",
       "0     smart              550  \n",
       "1     smart              550  \n",
       "2     smart              550  \n",
       "3     smart              550  \n",
       "4     smart              550  \n",
       "...     ...              ...  \n",
       "3211  ultra             1950  \n",
       "3212  ultra             1950  \n",
       "3213  ultra             1950  \n",
       "3214  ultra             1950  \n",
       "3215  ultra             1950  \n",
       "\n",
       "[3216 rows x 8 columns]"
      ]
     },
     "execution_count": 40,
     "metadata": {},
     "output_type": "execute_result"
    }
   ],
   "source": [
    "general_data.drop(['tariff_name'],axis=1)"
   ]
  },
  {
   "cell_type": "markdown",
   "metadata": {},
   "source": [
    "После такого крупного объеденияния, могут возникнуть пустые занчения, проверим на их наличие"
   ]
  },
  {
   "cell_type": "code",
   "execution_count": 41,
   "metadata": {},
   "outputs": [
    {
     "data": {
      "text/plain": [
       "month                2\n",
       "user_id              0\n",
       "call_count          42\n",
       "call_duration       42\n",
       "messages_count     499\n",
       "mb_used             13\n",
       "tariff               0\n",
       "tariff_name          0\n",
       "rub_monthly_fee      0\n",
       "dtype: int64"
      ]
     },
     "execution_count": 41,
     "metadata": {},
     "output_type": "execute_result"
    }
   ],
   "source": [
    "general_data.isna().sum()"
   ]
  },
  {
   "cell_type": "markdown",
   "metadata": {},
   "source": [
    "наиболее критичны в данном случае пропущеннные данные для месяца month,данные строки придется удалить, потому что они в данном случае не будут нести нужной информации. с другими строками другая ситуация, в данных строках может быть NaN из за того, что клиенты не пользовались этим категориями, поэтому их можно заменить просто на 0"
   ]
  },
  {
   "cell_type": "code",
   "execution_count": 42,
   "metadata": {},
   "outputs": [
    {
     "data": {
      "text/html": [
       "<div>\n",
       "<style scoped>\n",
       "    .dataframe tbody tr th:only-of-type {\n",
       "        vertical-align: middle;\n",
       "    }\n",
       "\n",
       "    .dataframe tbody tr th {\n",
       "        vertical-align: top;\n",
       "    }\n",
       "\n",
       "    .dataframe thead th {\n",
       "        text-align: right;\n",
       "    }\n",
       "</style>\n",
       "<table border=\"1\" class=\"dataframe\">\n",
       "  <thead>\n",
       "    <tr style=\"text-align: right;\">\n",
       "      <th></th>\n",
       "      <th>month</th>\n",
       "      <th>user_id</th>\n",
       "      <th>call_count</th>\n",
       "      <th>call_duration</th>\n",
       "      <th>messages_count</th>\n",
       "      <th>mb_used</th>\n",
       "      <th>tariff</th>\n",
       "      <th>tariff_name</th>\n",
       "      <th>rub_monthly_fee</th>\n",
       "    </tr>\n",
       "  </thead>\n",
       "  <tbody>\n",
       "    <tr>\n",
       "      <td>0</td>\n",
       "      <td>apr</td>\n",
       "      <td>1005</td>\n",
       "      <td>101.0</td>\n",
       "      <td>712.0</td>\n",
       "      <td>41.0</td>\n",
       "      <td>9365.0</td>\n",
       "      <td>smart</td>\n",
       "      <td>smart</td>\n",
       "      <td>550</td>\n",
       "    </tr>\n",
       "    <tr>\n",
       "      <td>1</td>\n",
       "      <td>aug</td>\n",
       "      <td>1005</td>\n",
       "      <td>71.0</td>\n",
       "      <td>619.0</td>\n",
       "      <td>64.0</td>\n",
       "      <td>7554.0</td>\n",
       "      <td>smart</td>\n",
       "      <td>smart</td>\n",
       "      <td>550</td>\n",
       "    </tr>\n",
       "  </tbody>\n",
       "</table>\n",
       "</div>"
      ],
      "text/plain": [
       "  month  user_id  call_count  call_duration  messages_count  mb_used tariff  \\\n",
       "0   apr     1005       101.0          712.0            41.0   9365.0  smart   \n",
       "1   aug     1005        71.0          619.0            64.0   7554.0  smart   \n",
       "\n",
       "  tariff_name  rub_monthly_fee  \n",
       "0       smart              550  \n",
       "1       smart              550  "
      ]
     },
     "execution_count": 42,
     "metadata": {},
     "output_type": "execute_result"
    }
   ],
   "source": [
    "general_data=general_data.dropna(subset=['month'])\n",
    "general_data.head(2)"
   ]
  },
  {
   "cell_type": "code",
   "execution_count": 43,
   "metadata": {},
   "outputs": [],
   "source": [
    "general_data=general_data.fillna(0)"
   ]
  },
  {
   "cell_type": "code",
   "execution_count": 44,
   "metadata": {},
   "outputs": [
    {
     "name": "stdout",
     "output_type": "stream",
     "text": [
      "<class 'pandas.core.frame.DataFrame'>\n",
      "Int64Index: 3214 entries, 0 to 3214\n",
      "Data columns (total 9 columns):\n",
      "month              3214 non-null object\n",
      "user_id            3214 non-null int64\n",
      "call_count         3214 non-null float64\n",
      "call_duration      3214 non-null float64\n",
      "messages_count     3214 non-null float64\n",
      "mb_used            3214 non-null float64\n",
      "tariff             3214 non-null object\n",
      "tariff_name        3214 non-null object\n",
      "rub_monthly_fee    3214 non-null int64\n",
      "dtypes: float64(4), int64(2), object(3)\n",
      "memory usage: 251.1+ KB\n"
     ]
    }
   ],
   "source": [
    "general_data.info()"
   ]
  },
  {
   "cell_type": "markdown",
   "metadata": {},
   "source": [
    "посчитаем прибль от звонков"
   ]
  },
  {
   "cell_type": "markdown",
   "metadata": {},
   "source": [
    "Для этого создадим функцию, которая будет высчитаывать прибыль с каждой категории услуг"
   ]
  },
  {
   "cell_type": "code",
   "execution_count": 45,
   "metadata": {},
   "outputs": [],
   "source": [
    "\n",
    "def profit(row,discover_columns,rules,over_rules):\n",
    "    \"\"\"\n",
    "    функция вычитает результат выручки за определенный столбец\n",
    "    Функция принимает значение строки row\n",
    "    discover_columns обозначие столбец по которому производить вычисления выручки\n",
    "    rules объем исследуемого параметра включенноого в тариф\n",
    "    over_rules цена за превышение\n",
    "    \"\"\"\n",
    "    \n",
    "    values=row[discover_columns] #значение для которого считается прибыль\n",
    "    \n",
    "    user=row['user_id'] #вычисляется индивидуальный номер\n",
    "    tarif=row['tariff'] #находится номер\n",
    "    included=tariffs.query('tariff_name==@tarif')[rules] #значение включенное в тариф\n",
    "    \n",
    "     \n",
    "    \n",
    "   \n",
    "    price_over_included=tariffs.query('tariff_name==@tarif')[over_rules] #значение сверх включенное в тариф\n",
    "    \n",
    "    remains=int(included-values) #остаток от тарифа\n",
    "    \n",
    "#     дальше идет условие,  что если остако больше нуля, то прибыли нет\n",
    "#     возвращается 0. иначе, вводится еще одно условие, что если значение для\n",
    "#     значение для которого считается прибыль отноится к интернету, то\n",
    "#     прибыль высчитаевается особым способом, так  как остаток считается уже не\n",
    "#     по мегабайту, а по гигабайту с округдением в большую сторону. для всех других \n",
    "#     реузльтатов счатется так же по изначальным единицам\n",
    "    \n",
    "    if remains>=0:\n",
    "        return 0\n",
    "    elif discover_columns=='mb_used':\n",
    "        return int(np.ceil(-remains/1024)*price_over_included)\n",
    "    return int(-remains*price_over_included)"
   ]
  },
  {
   "cell_type": "code",
   "execution_count": 46,
   "metadata": {},
   "outputs": [],
   "source": [
    "general_data['call_profit']=general_data.apply(\n",
    "lambda row:profit(row,'call_duration',\n",
    "                  'minutes_included','rub_per_minute'),axis=1)"
   ]
  },
  {
   "cell_type": "markdown",
   "metadata": {},
   "source": [
    "Посчитаем прибыль от сообщений"
   ]
  },
  {
   "cell_type": "code",
   "execution_count": 47,
   "metadata": {},
   "outputs": [],
   "source": [
    "general_data['message_profit']=general_data.apply(\n",
    "lambda row:profit(row,'messages_count',\n",
    "                  'messages_included','rub_per_message'),axis=1)"
   ]
  },
  {
   "cell_type": "markdown",
   "metadata": {},
   "source": [
    "Посчитаем прибыль от интернета"
   ]
  },
  {
   "cell_type": "code",
   "execution_count": 48,
   "metadata": {},
   "outputs": [],
   "source": [
    "general_data['internet_profit']=general_data.apply(\n",
    "lambda row:profit(row,'mb_used',\n",
    "                  'mb_per_month_included','rub_per_gb'),axis=1)"
   ]
  },
  {
   "cell_type": "code",
   "execution_count": 49,
   "metadata": {},
   "outputs": [
    {
     "data": {
      "text/html": [
       "<div>\n",
       "<style scoped>\n",
       "    .dataframe tbody tr th:only-of-type {\n",
       "        vertical-align: middle;\n",
       "    }\n",
       "\n",
       "    .dataframe tbody tr th {\n",
       "        vertical-align: top;\n",
       "    }\n",
       "\n",
       "    .dataframe thead th {\n",
       "        text-align: right;\n",
       "    }\n",
       "</style>\n",
       "<table border=\"1\" class=\"dataframe\">\n",
       "  <thead>\n",
       "    <tr style=\"text-align: right;\">\n",
       "      <th></th>\n",
       "      <th>month</th>\n",
       "      <th>user_id</th>\n",
       "      <th>call_count</th>\n",
       "      <th>call_duration</th>\n",
       "      <th>messages_count</th>\n",
       "      <th>mb_used</th>\n",
       "      <th>tariff</th>\n",
       "      <th>tariff_name</th>\n",
       "      <th>rub_monthly_fee</th>\n",
       "      <th>call_profit</th>\n",
       "      <th>message_profit</th>\n",
       "      <th>internet_profit</th>\n",
       "    </tr>\n",
       "  </thead>\n",
       "  <tbody>\n",
       "    <tr>\n",
       "      <td>0</td>\n",
       "      <td>apr</td>\n",
       "      <td>1005</td>\n",
       "      <td>101.0</td>\n",
       "      <td>712.0</td>\n",
       "      <td>41.0</td>\n",
       "      <td>9365.0</td>\n",
       "      <td>smart</td>\n",
       "      <td>smart</td>\n",
       "      <td>550</td>\n",
       "      <td>636</td>\n",
       "      <td>0</td>\n",
       "      <td>0</td>\n",
       "    </tr>\n",
       "    <tr>\n",
       "      <td>1</td>\n",
       "      <td>aug</td>\n",
       "      <td>1005</td>\n",
       "      <td>71.0</td>\n",
       "      <td>619.0</td>\n",
       "      <td>64.0</td>\n",
       "      <td>7554.0</td>\n",
       "      <td>smart</td>\n",
       "      <td>smart</td>\n",
       "      <td>550</td>\n",
       "      <td>357</td>\n",
       "      <td>42</td>\n",
       "      <td>0</td>\n",
       "    </tr>\n",
       "  </tbody>\n",
       "</table>\n",
       "</div>"
      ],
      "text/plain": [
       "  month  user_id  call_count  call_duration  messages_count  mb_used tariff  \\\n",
       "0   apr     1005       101.0          712.0            41.0   9365.0  smart   \n",
       "1   aug     1005        71.0          619.0            64.0   7554.0  smart   \n",
       "\n",
       "  tariff_name  rub_monthly_fee  call_profit  message_profit  internet_profit  \n",
       "0       smart              550          636               0                0  \n",
       "1       smart              550          357              42                0  "
      ]
     },
     "execution_count": 49,
     "metadata": {},
     "output_type": "execute_result"
    }
   ],
   "source": [
    "general_data.head(2)"
   ]
  },
  {
   "cell_type": "markdown",
   "metadata": {},
   "source": [
    "Посчитаем итоговую прибыль"
   ]
  },
  {
   "cell_type": "code",
   "execution_count": 50,
   "metadata": {},
   "outputs": [
    {
     "data": {
      "text/html": [
       "<div>\n",
       "<style scoped>\n",
       "    .dataframe tbody tr th:only-of-type {\n",
       "        vertical-align: middle;\n",
       "    }\n",
       "\n",
       "    .dataframe tbody tr th {\n",
       "        vertical-align: top;\n",
       "    }\n",
       "\n",
       "    .dataframe thead th {\n",
       "        text-align: right;\n",
       "    }\n",
       "</style>\n",
       "<table border=\"1\" class=\"dataframe\">\n",
       "  <thead>\n",
       "    <tr style=\"text-align: right;\">\n",
       "      <th></th>\n",
       "      <th>month</th>\n",
       "      <th>user_id</th>\n",
       "      <th>call_count</th>\n",
       "      <th>call_duration</th>\n",
       "      <th>messages_count</th>\n",
       "      <th>mb_used</th>\n",
       "      <th>tariff</th>\n",
       "      <th>tariff_name</th>\n",
       "      <th>rub_monthly_fee</th>\n",
       "      <th>call_profit</th>\n",
       "      <th>message_profit</th>\n",
       "      <th>internet_profit</th>\n",
       "      <th>total_profit</th>\n",
       "    </tr>\n",
       "  </thead>\n",
       "  <tbody>\n",
       "    <tr>\n",
       "      <td>2230</td>\n",
       "      <td>apr</td>\n",
       "      <td>1018</td>\n",
       "      <td>85.0</td>\n",
       "      <td>636.0</td>\n",
       "      <td>34.0</td>\n",
       "      <td>5627.0</td>\n",
       "      <td>ultra</td>\n",
       "      <td>ultra</td>\n",
       "      <td>1950</td>\n",
       "      <td>0</td>\n",
       "      <td>0</td>\n",
       "      <td>0</td>\n",
       "      <td>1950</td>\n",
       "    </tr>\n",
       "    <tr>\n",
       "      <td>2231</td>\n",
       "      <td>aug</td>\n",
       "      <td>1018</td>\n",
       "      <td>115.0</td>\n",
       "      <td>929.0</td>\n",
       "      <td>20.0</td>\n",
       "      <td>8650.0</td>\n",
       "      <td>ultra</td>\n",
       "      <td>ultra</td>\n",
       "      <td>1950</td>\n",
       "      <td>0</td>\n",
       "      <td>0</td>\n",
       "      <td>0</td>\n",
       "      <td>1950</td>\n",
       "    </tr>\n",
       "  </tbody>\n",
       "</table>\n",
       "</div>"
      ],
      "text/plain": [
       "     month  user_id  call_count  call_duration  messages_count  mb_used  \\\n",
       "2230   apr     1018        85.0          636.0            34.0   5627.0   \n",
       "2231   aug     1018       115.0          929.0            20.0   8650.0   \n",
       "\n",
       "     tariff tariff_name  rub_monthly_fee  call_profit  message_profit  \\\n",
       "2230  ultra       ultra             1950            0               0   \n",
       "2231  ultra       ultra             1950            0               0   \n",
       "\n",
       "      internet_profit  total_profit  \n",
       "2230                0          1950  \n",
       "2231                0          1950  "
      ]
     },
     "execution_count": 50,
     "metadata": {},
     "output_type": "execute_result"
    }
   ],
   "source": [
    "general_data['total_profit']=(\n",
    "    general_data.rub_monthly_fee+\n",
    "    general_data.call_profit+\n",
    "    general_data.message_profit+\n",
    "    general_data.internet_profit)\n",
    "general_data.query('tariff_name==\"ultra\"').head(2)"
   ]
  },
  {
   "cell_type": "markdown",
   "metadata": {},
   "source": [
    "#### Вывод:"
   ]
  },
  {
   "cell_type": "markdown",
   "metadata": {},
   "source": [
    "В результате просчиатны и подготовлены данные звонков, сообщений и интернета для дальнейшего анализа"
   ]
  },
  {
   "cell_type": "markdown",
   "metadata": {},
   "source": [
    "### Анализ данных"
   ]
  },
  {
   "cell_type": "markdown",
   "metadata": {},
   "source": [
    "#### Проанализируем продолжительность звонков"
   ]
  },
  {
   "cell_type": "markdown",
   "metadata": {},
   "source": [
    "Создадим функцию, которая будет выводить значения для сравнения статистических величин(среднего значения, стандартного отклонения, и дисперсия)"
   ]
  },
  {
   "cell_type": "code",
   "execution_count": 51,
   "metadata": {},
   "outputs": [],
   "source": [
    "def func(column):\n",
    "    table=general_data.pivot_table(\n",
    "    index='tariff',values=column\n",
    "    ,aggfunc=['mean','std']).reset_index()\n",
    "    \n",
    "    table.columns=['tariff','mean','std']\n",
    "    \n",
    "    table.loc[0,'disp']=np.var(\n",
    "        general_data.query('tariff==\"smart\"')[column],\n",
    "        ddof=1)\n",
    "    \n",
    "    table.loc[1,'disp']=np.var(\n",
    "        general_data.query('tariff==\"ultra\"')[column],\n",
    "        ddof=1)\n",
    "    \n",
    "    return table"
   ]
  },
  {
   "cell_type": "code",
   "execution_count": 52,
   "metadata": {},
   "outputs": [
    {
     "data": {
      "text/html": [
       "<div>\n",
       "<style scoped>\n",
       "    .dataframe tbody tr th:only-of-type {\n",
       "        vertical-align: middle;\n",
       "    }\n",
       "\n",
       "    .dataframe tbody tr th {\n",
       "        vertical-align: top;\n",
       "    }\n",
       "\n",
       "    .dataframe thead th {\n",
       "        text-align: right;\n",
       "    }\n",
       "</style>\n",
       "<table border=\"1\" class=\"dataframe\">\n",
       "  <thead>\n",
       "    <tr style=\"text-align: right;\">\n",
       "      <th></th>\n",
       "      <th>tariff</th>\n",
       "      <th>mean</th>\n",
       "      <th>std</th>\n",
       "      <th>disp</th>\n",
       "    </tr>\n",
       "  </thead>\n",
       "  <tbody>\n",
       "    <tr>\n",
       "      <td>0</td>\n",
       "      <td>smart</td>\n",
       "      <td>417.934948</td>\n",
       "      <td>190.313730</td>\n",
       "      <td>36219.315784</td>\n",
       "    </tr>\n",
       "    <tr>\n",
       "      <td>1</td>\n",
       "      <td>ultra</td>\n",
       "      <td>526.623350</td>\n",
       "      <td>317.606098</td>\n",
       "      <td>100873.633397</td>\n",
       "    </tr>\n",
       "  </tbody>\n",
       "</table>\n",
       "</div>"
      ],
      "text/plain": [
       "  tariff        mean         std           disp\n",
       "0  smart  417.934948  190.313730   36219.315784\n",
       "1  ultra  526.623350  317.606098  100873.633397"
      ]
     },
     "execution_count": 52,
     "metadata": {},
     "output_type": "execute_result"
    }
   ],
   "source": [
    "stat_call_duration=func('call_duration')\n",
    "stat_call_duration"
   ]
  },
  {
   "cell_type": "markdown",
   "metadata": {},
   "source": [
    "В результате расчета можно сказать, что среднее значение у двух тарифов примерно одинаковые, однако заметно отличаются стандартное отклонение и дисперсия. Рассмотрим эти значения графически"
   ]
  },
  {
   "cell_type": "markdown",
   "metadata": {},
   "source": [
    "построим гистаграмму распределние звонков для тарифа смарт и ультра"
   ]
  },
  {
   "cell_type": "code",
   "execution_count": 53,
   "metadata": {},
   "outputs": [
    {
     "data": {
      "image/png": "[encoded data removed]",
      "text/plain": [
       "<Figure size 432x288 with 1 Axes>"
      ]
     },
     "metadata": {
      "needs_background": "light"
     },
     "output_type": "display_data"
    }
   ],
   "source": [
    "hist=(general_data.\n",
    "      query('tariff==\"smart\"').\n",
    "      plot(kind='hist',y='call_count'))\n",
    "(general_data.\n",
    "     query('tariff==\"ultra\"').\n",
    "     plot(kind='hist',y='call_count',ax=hist,alpha=0.5))\n",
    "plt.title('Распредление продолжительности звонков за месяц')\n",
    "plt.xlabel('продолжительноть, минут')\n",
    "plt.ylabel('количестов клиентов')\n",
    "\n",
    "plt.legend(labels=['smart','ultra'])\n",
    "plt.show()"
   ]
  },
  {
   "cell_type": "markdown",
   "metadata": {},
   "source": [
    "\n",
    "\n",
    "Судя по графику можно сказать, что дейтсвительно среднее значение примерно одинаковое по продолжеительнотси звонков, однако, тарифом смарт пользуется большее количество человек."
   ]
  },
  {
   "cell_type": "markdown",
   "metadata": {},
   "source": [
    "#### Проанализируем сообщения"
   ]
  },
  {
   "cell_type": "code",
   "execution_count": 54,
   "metadata": {},
   "outputs": [
    {
     "data": {
      "text/html": [
       "<div>\n",
       "<style scoped>\n",
       "    .dataframe tbody tr th:only-of-type {\n",
       "        vertical-align: middle;\n",
       "    }\n",
       "\n",
       "    .dataframe tbody tr th {\n",
       "        vertical-align: top;\n",
       "    }\n",
       "\n",
       "    .dataframe thead th {\n",
       "        text-align: right;\n",
       "    }\n",
       "</style>\n",
       "<table border=\"1\" class=\"dataframe\">\n",
       "  <thead>\n",
       "    <tr style=\"text-align: right;\">\n",
       "      <th></th>\n",
       "      <th>tariff</th>\n",
       "      <th>mean</th>\n",
       "      <th>std</th>\n",
       "      <th>disp</th>\n",
       "    </tr>\n",
       "  </thead>\n",
       "  <tbody>\n",
       "    <tr>\n",
       "      <td>0</td>\n",
       "      <td>smart</td>\n",
       "      <td>33.384029</td>\n",
       "      <td>28.227876</td>\n",
       "      <td>796.812958</td>\n",
       "    </tr>\n",
       "    <tr>\n",
       "      <td>1</td>\n",
       "      <td>ultra</td>\n",
       "      <td>49.363452</td>\n",
       "      <td>47.804457</td>\n",
       "      <td>2285.266143</td>\n",
       "    </tr>\n",
       "  </tbody>\n",
       "</table>\n",
       "</div>"
      ],
      "text/plain": [
       "  tariff       mean        std         disp\n",
       "0  smart  33.384029  28.227876   796.812958\n",
       "1  ultra  49.363452  47.804457  2285.266143"
      ]
     },
     "execution_count": 54,
     "metadata": {},
     "output_type": "execute_result"
    }
   ],
   "source": [
    "stat_message=func('messages_count')\n",
    "stat_message"
   ]
  },
  {
   "cell_type": "markdown",
   "metadata": {},
   "source": [
    "В результате расчета можно сказать, что среднее значение у двух тарифов примерно одинаковые, однако заметно отличаются стандартное отклонение и дисперсия. Рассмотрим эти значения графически"
   ]
  },
  {
   "cell_type": "code",
   "execution_count": 55,
   "metadata": {},
   "outputs": [
    {
     "data": {
      "text/html": [
       "<div>\n",
       "<style scoped>\n",
       "    .dataframe tbody tr th:only-of-type {\n",
       "        vertical-align: middle;\n",
       "    }\n",
       "\n",
       "    .dataframe tbody tr th {\n",
       "        vertical-align: top;\n",
       "    }\n",
       "\n",
       "    .dataframe thead th {\n",
       "        text-align: right;\n",
       "    }\n",
       "</style>\n",
       "<table border=\"1\" class=\"dataframe\">\n",
       "  <thead>\n",
       "    <tr style=\"text-align: right;\">\n",
       "      <th></th>\n",
       "      <th>messages_included</th>\n",
       "      <th>mb_per_month_included</th>\n",
       "      <th>minutes_included</th>\n",
       "      <th>rub_monthly_fee</th>\n",
       "      <th>rub_per_gb</th>\n",
       "      <th>rub_per_message</th>\n",
       "      <th>rub_per_minute</th>\n",
       "      <th>tariff_name</th>\n",
       "    </tr>\n",
       "  </thead>\n",
       "  <tbody>\n",
       "    <tr>\n",
       "      <td>0</td>\n",
       "      <td>50</td>\n",
       "      <td>15360</td>\n",
       "      <td>500</td>\n",
       "      <td>550</td>\n",
       "      <td>200</td>\n",
       "      <td>3</td>\n",
       "      <td>3</td>\n",
       "      <td>smart</td>\n",
       "    </tr>\n",
       "    <tr>\n",
       "      <td>1</td>\n",
       "      <td>1000</td>\n",
       "      <td>30720</td>\n",
       "      <td>3000</td>\n",
       "      <td>1950</td>\n",
       "      <td>150</td>\n",
       "      <td>1</td>\n",
       "      <td>1</td>\n",
       "      <td>ultra</td>\n",
       "    </tr>\n",
       "  </tbody>\n",
       "</table>\n",
       "</div>"
      ],
      "text/plain": [
       "   messages_included  mb_per_month_included  minutes_included  \\\n",
       "0                 50                  15360               500   \n",
       "1               1000                  30720              3000   \n",
       "\n",
       "   rub_monthly_fee  rub_per_gb  rub_per_message  rub_per_minute tariff_name  \n",
       "0              550         200                3               3       smart  \n",
       "1             1950         150                1               1       ultra  "
      ]
     },
     "execution_count": 55,
     "metadata": {},
     "output_type": "execute_result"
    }
   ],
   "source": [
    "tariffs"
   ]
  },
  {
   "cell_type": "markdown",
   "metadata": {},
   "source": [
    "построим гистаграмму сообщений для тарифа смарт и ультра"
   ]
  },
  {
   "cell_type": "code",
   "execution_count": 56,
   "metadata": {},
   "outputs": [
    {
     "data": {
      "image/png": "[encoded data removed]",
      "text/plain": [
       "<Figure size 432x288 with 1 Axes>"
      ]
     },
     "metadata": {
      "needs_background": "light"
     },
     "output_type": "display_data"
    }
   ],
   "source": [
    "hist=(general_data.\n",
    "      query('tariff==\"smart\"').\n",
    "      plot(kind='hist',y='messages_count'))\n",
    "(general_data.\n",
    "     query('tariff==\"ultra\"').\n",
    "     plot(kind='hist',y='messages_count',ax=hist,alpha=0.5))\n",
    "plt.title('Распредление количества сообщений за месяц')\n",
    "plt.xlabel('количествособщений')\n",
    "plt.ylabel('количестов клиентов')\n",
    "plt.axvline(x=50, linestyle='--')\n",
    "\n",
    "plt.legend(labels=['limit_smart','smart','ultra'])\n",
    "plt.show()\n"
   ]
  },
  {
   "cell_type": "markdown",
   "metadata": {},
   "source": [
    "Как видно из данного графика клиентам тарифа Smart очень часто не хватает включенных в тариф сообщенийи они очень часто переполняют лимит. Однако пользоватнели тарифа Ultra не переплачивают и не переполяют включенные в тариф сообщения"
   ]
  },
  {
   "cell_type": "markdown",
   "metadata": {},
   "source": [
    "#### Рассмотрим интернет"
   ]
  },
  {
   "cell_type": "code",
   "execution_count": 57,
   "metadata": {},
   "outputs": [
    {
     "data": {
      "text/html": [
       "<div>\n",
       "<style scoped>\n",
       "    .dataframe tbody tr th:only-of-type {\n",
       "        vertical-align: middle;\n",
       "    }\n",
       "\n",
       "    .dataframe tbody tr th {\n",
       "        vertical-align: top;\n",
       "    }\n",
       "\n",
       "    .dataframe thead th {\n",
       "        text-align: right;\n",
       "    }\n",
       "</style>\n",
       "<table border=\"1\" class=\"dataframe\">\n",
       "  <thead>\n",
       "    <tr style=\"text-align: right;\">\n",
       "      <th></th>\n",
       "      <th>tariff</th>\n",
       "      <th>mean</th>\n",
       "      <th>std</th>\n",
       "      <th>disp</th>\n",
       "    </tr>\n",
       "  </thead>\n",
       "  <tbody>\n",
       "    <tr>\n",
       "      <td>0</td>\n",
       "      <td>smart</td>\n",
       "      <td>16229.188425</td>\n",
       "      <td>5877.576978</td>\n",
       "      <td>3.454591e+07</td>\n",
       "    </tr>\n",
       "    <tr>\n",
       "      <td>1</td>\n",
       "      <td>ultra</td>\n",
       "      <td>19486.901523</td>\n",
       "      <td>10096.317202</td>\n",
       "      <td>1.019356e+08</td>\n",
       "    </tr>\n",
       "  </tbody>\n",
       "</table>\n",
       "</div>"
      ],
      "text/plain": [
       "  tariff          mean           std          disp\n",
       "0  smart  16229.188425   5877.576978  3.454591e+07\n",
       "1  ultra  19486.901523  10096.317202  1.019356e+08"
      ]
     },
     "execution_count": 57,
     "metadata": {},
     "output_type": "execute_result"
    }
   ],
   "source": [
    "stat_internet=func('mb_used')\n",
    "stat_internet"
   ]
  },
  {
   "cell_type": "code",
   "execution_count": 58,
   "metadata": {},
   "outputs": [
    {
     "data": {
      "text/html": [
       "<div>\n",
       "<style scoped>\n",
       "    .dataframe tbody tr th:only-of-type {\n",
       "        vertical-align: middle;\n",
       "    }\n",
       "\n",
       "    .dataframe tbody tr th {\n",
       "        vertical-align: top;\n",
       "    }\n",
       "\n",
       "    .dataframe thead th {\n",
       "        text-align: right;\n",
       "    }\n",
       "</style>\n",
       "<table border=\"1\" class=\"dataframe\">\n",
       "  <thead>\n",
       "    <tr style=\"text-align: right;\">\n",
       "      <th></th>\n",
       "      <th>messages_included</th>\n",
       "      <th>mb_per_month_included</th>\n",
       "      <th>minutes_included</th>\n",
       "      <th>rub_monthly_fee</th>\n",
       "      <th>rub_per_gb</th>\n",
       "      <th>rub_per_message</th>\n",
       "      <th>rub_per_minute</th>\n",
       "      <th>tariff_name</th>\n",
       "    </tr>\n",
       "  </thead>\n",
       "  <tbody>\n",
       "    <tr>\n",
       "      <td>0</td>\n",
       "      <td>50</td>\n",
       "      <td>15360</td>\n",
       "      <td>500</td>\n",
       "      <td>550</td>\n",
       "      <td>200</td>\n",
       "      <td>3</td>\n",
       "      <td>3</td>\n",
       "      <td>smart</td>\n",
       "    </tr>\n",
       "    <tr>\n",
       "      <td>1</td>\n",
       "      <td>1000</td>\n",
       "      <td>30720</td>\n",
       "      <td>3000</td>\n",
       "      <td>1950</td>\n",
       "      <td>150</td>\n",
       "      <td>1</td>\n",
       "      <td>1</td>\n",
       "      <td>ultra</td>\n",
       "    </tr>\n",
       "  </tbody>\n",
       "</table>\n",
       "</div>"
      ],
      "text/plain": [
       "   messages_included  mb_per_month_included  minutes_included  \\\n",
       "0                 50                  15360               500   \n",
       "1               1000                  30720              3000   \n",
       "\n",
       "   rub_monthly_fee  rub_per_gb  rub_per_message  rub_per_minute tariff_name  \n",
       "0              550         200                3               3       smart  \n",
       "1             1950         150                1               1       ultra  "
      ]
     },
     "execution_count": 58,
     "metadata": {},
     "output_type": "execute_result"
    }
   ],
   "source": [
    "tariffs"
   ]
  },
  {
   "cell_type": "markdown",
   "metadata": {},
   "source": [
    "построим гистаграмму трафика для тарифа смарт и ультра"
   ]
  },
  {
   "cell_type": "code",
   "execution_count": 59,
   "metadata": {},
   "outputs": [
    {
     "data": {
      "image/png": "[encoded data removed]",
      "text/plain": [
       "<Figure size 432x288 with 1 Axes>"
      ]
     },
     "metadata": {
      "needs_background": "light"
     },
     "output_type": "display_data"
    }
   ],
   "source": [
    "hist=(general_data.\n",
    "      query('tariff==\"smart\"').\n",
    "      plot(kind='hist',y='mb_used'))\n",
    "(general_data.\n",
    "     query('tariff==\"ultra\"').\n",
    "     plot(kind='hist',y='mb_used',ax=hist,alpha=0.5))\n",
    "plt.title('Распредление расхода трафика за месяц')\n",
    "plt.xlabel('трафик, мб')\n",
    "plt.ylabel('количестов клиентов')\n",
    "plt.axvline(x=15360, linestyle='--')\n",
    "plt.axvline(x=30720, linestyle='-')\n",
    "\n",
    "plt.legend(labels=['limit smart','limit ultra','smart','ultra'])\n",
    "plt.show()\n"
   ]
  },
  {
   "cell_type": "markdown",
   "metadata": {},
   "source": [
    "Так же как и с сообщениями клиентам тарифа Smart очень часто не хватает включенных в тариф мб . Однако пользоватнели тарифа Ultra тоже переплачивают, но не так часто. "
   ]
  },
  {
   "cell_type": "markdown",
   "metadata": {},
   "source": [
    "#### Рассмотрим месячную вырочку"
   ]
  },
  {
   "cell_type": "code",
   "execution_count": 60,
   "metadata": {},
   "outputs": [
    {
     "name": "stdout",
     "output_type": "stream",
     "text": [
      "<class 'pandas.core.frame.DataFrame'>\n",
      "Int64Index: 3214 entries, 0 to 3214\n",
      "Data columns (total 13 columns):\n",
      "month              3214 non-null object\n",
      "user_id            3214 non-null int64\n",
      "call_count         3214 non-null float64\n",
      "call_duration      3214 non-null float64\n",
      "messages_count     3214 non-null float64\n",
      "mb_used            3214 non-null float64\n",
      "tariff             3214 non-null object\n",
      "tariff_name        3214 non-null object\n",
      "rub_monthly_fee    3214 non-null int64\n",
      "call_profit        3214 non-null int64\n",
      "message_profit     3214 non-null int64\n",
      "internet_profit    3214 non-null int64\n",
      "total_profit       3214 non-null int64\n",
      "dtypes: float64(4), int64(6), object(3)\n",
      "memory usage: 351.5+ KB\n"
     ]
    }
   ],
   "source": [
    "general_data.info()"
   ]
  },
  {
   "cell_type": "code",
   "execution_count": 61,
   "metadata": {},
   "outputs": [],
   "source": [
    "stat_total_profit=func('total_profit')\n"
   ]
  },
  {
   "cell_type": "code",
   "execution_count": 62,
   "metadata": {},
   "outputs": [
    {
     "data": {
      "text/html": [
       "<div>\n",
       "<style scoped>\n",
       "    .dataframe tbody tr th:only-of-type {\n",
       "        vertical-align: middle;\n",
       "    }\n",
       "\n",
       "    .dataframe tbody tr th {\n",
       "        vertical-align: top;\n",
       "    }\n",
       "\n",
       "    .dataframe thead th {\n",
       "        text-align: right;\n",
       "    }\n",
       "</style>\n",
       "<table border=\"1\" class=\"dataframe\">\n",
       "  <thead>\n",
       "    <tr style=\"text-align: right;\">\n",
       "      <th></th>\n",
       "      <th>messages_included</th>\n",
       "      <th>mb_per_month_included</th>\n",
       "      <th>minutes_included</th>\n",
       "      <th>rub_monthly_fee</th>\n",
       "      <th>rub_per_gb</th>\n",
       "      <th>rub_per_message</th>\n",
       "      <th>rub_per_minute</th>\n",
       "      <th>tariff_name</th>\n",
       "    </tr>\n",
       "  </thead>\n",
       "  <tbody>\n",
       "    <tr>\n",
       "      <td>0</td>\n",
       "      <td>50</td>\n",
       "      <td>15360</td>\n",
       "      <td>500</td>\n",
       "      <td>550</td>\n",
       "      <td>200</td>\n",
       "      <td>3</td>\n",
       "      <td>3</td>\n",
       "      <td>smart</td>\n",
       "    </tr>\n",
       "    <tr>\n",
       "      <td>1</td>\n",
       "      <td>1000</td>\n",
       "      <td>30720</td>\n",
       "      <td>3000</td>\n",
       "      <td>1950</td>\n",
       "      <td>150</td>\n",
       "      <td>1</td>\n",
       "      <td>1</td>\n",
       "      <td>ultra</td>\n",
       "    </tr>\n",
       "  </tbody>\n",
       "</table>\n",
       "</div>"
      ],
      "text/plain": [
       "   messages_included  mb_per_month_included  minutes_included  \\\n",
       "0                 50                  15360               500   \n",
       "1               1000                  30720              3000   \n",
       "\n",
       "   rub_monthly_fee  rub_per_gb  rub_per_message  rub_per_minute tariff_name  \n",
       "0              550         200                3               3       smart  \n",
       "1             1950         150                1               1       ultra  "
      ]
     },
     "execution_count": 62,
     "metadata": {},
     "output_type": "execute_result"
    }
   ],
   "source": [
    "tariffs"
   ]
  },
  {
   "cell_type": "markdown",
   "metadata": {},
   "source": [
    "построим гистаграмму сообщений для тарифа смарт и ультра"
   ]
  },
  {
   "cell_type": "code",
   "execution_count": 63,
   "metadata": {},
   "outputs": [
    {
     "data": {
      "image/png": "[encoded data removed]",
      "text/plain": [
       "<Figure size 432x288 with 1 Axes>"
      ]
     },
     "metadata": {
      "needs_background": "light"
     },
     "output_type": "display_data"
    }
   ],
   "source": [
    "hist=(general_data.\n",
    "      query('tariff==\"smart\"').\n",
    "      plot(kind='hist',y='total_profit'))\n",
    "(general_data.\n",
    "     query('tariff==\"ultra\"').\n",
    "     plot(kind='hist',y='total_profit',ax=hist,alpha=0.5))\n",
    "plt.title('Распредление выручки')\n",
    "plt.xlabel('прибыль, руб')\n",
    "plt.ylabel('количестов клиентов')\n",
    "# plt.axvline(x=15360, linestyle='--')\n",
    "# plt.axvline(x=30720, linestyle='-')\n",
    "\n",
    "plt.legend(labels=['smart','ultra'])\n",
    "plt.show()\n"
   ]
  },
  {
   "cell_type": "markdown",
   "metadata": {},
   "source": [
    "#### Вывод:"
   ]
  },
  {
   "cell_type": "markdown",
   "metadata": {},
   "source": [
    "\n",
    "Тариф ультра выходит более стаблилен по цене, так и его клиенты гораздо реже выходят за рамки обговоренной суммы, клиентам тарифа смарт приходится очень часто переплачивать."
   ]
  },
  {
   "cell_type": "markdown",
   "metadata": {},
   "source": [
    "### Проверка гиппотез"
   ]
  },
  {
   "cell_type": "markdown",
   "metadata": {},
   "source": [
    "#### гиппотеза средней вырочки тарифов"
   ]
  },
  {
   "cell_type": "markdown",
   "metadata": {},
   "source": [
    "Выдвинем гиппотезу, что средняя выручка с пользователей тарифа смарт меньше чем ультра. Нулевая теория такая, что средние значенивыруски одинаковое, а альтернативная, что выручка смарт меньше чем ультра"
   ]
  },
  {
   "cell_type": "code",
   "execution_count": 64,
   "metadata": {},
   "outputs": [],
   "source": [
    "alpha=0.05"
   ]
  },
  {
   "cell_type": "code",
   "execution_count": 65,
   "metadata": {},
   "outputs": [],
   "source": [
    "ultra=general_data.query('tariff==\"ultra\"')['total_profit']\n",
    "smart=general_data.query('tariff==\"smart\"')['total_profit']"
   ]
  },
  {
   "cell_type": "code",
   "execution_count": 66,
   "metadata": {},
   "outputs": [
    {
     "data": {
      "text/plain": [
       "'Отвергаем нулевую теорию'"
      ]
     },
     "metadata": {},
     "output_type": "display_data"
    },
    {
     "name": "stdout",
     "output_type": "stream",
     "text": [
      "p value= 2.9776448000521676e-158\n"
     ]
    }
   ],
   "source": [
    "result_gip1=st.ttest_ind(ultra,smart)\n",
    "if ((result_gip1.pvalue<alpha/2) and (smart.mean()<ultra.mean())):\n",
    "    display('Отвергаем нулевую теорию')\n",
    "else:\n",
    "    display('Принимаем нулевую теорию')\n",
    "print('p value=',result_gip1.pvalue)"
   ]
  },
  {
   "cell_type": "markdown",
   "metadata": {},
   "source": [
    "Отвергаем нулевую теорию в пользу альтернативной, что средняя выручка смарта меньше чем ультра"
   ]
  },
  {
   "cell_type": "markdown",
   "metadata": {},
   "source": [
    "#### Гиппотеза о выручки Москвы и регионов"
   ]
  },
  {
   "cell_type": "markdown",
   "metadata": {},
   "source": [
    "Гиппотеза звучит так: средняя выручка пользователей из Москвы отличается от выручки пользователей из других регионов;"
   ]
  },
  {
   "cell_type": "code",
   "execution_count": 67,
   "metadata": {},
   "outputs": [
    {
     "data": {
      "text/html": [
       "<div>\n",
       "<style scoped>\n",
       "    .dataframe tbody tr th:only-of-type {\n",
       "        vertical-align: middle;\n",
       "    }\n",
       "\n",
       "    .dataframe tbody tr th {\n",
       "        vertical-align: top;\n",
       "    }\n",
       "\n",
       "    .dataframe thead th {\n",
       "        text-align: right;\n",
       "    }\n",
       "</style>\n",
       "<table border=\"1\" class=\"dataframe\">\n",
       "  <thead>\n",
       "    <tr style=\"text-align: right;\">\n",
       "      <th></th>\n",
       "      <th>user_id</th>\n",
       "      <th>age</th>\n",
       "      <th>churn_date</th>\n",
       "      <th>city</th>\n",
       "      <th>first_name</th>\n",
       "      <th>last_name</th>\n",
       "      <th>reg_date</th>\n",
       "      <th>tariff</th>\n",
       "      <th>start_month</th>\n",
       "    </tr>\n",
       "  </thead>\n",
       "  <tbody>\n",
       "    <tr>\n",
       "      <td>0</td>\n",
       "      <td>1000</td>\n",
       "      <td>52</td>\n",
       "      <td>NaT</td>\n",
       "      <td>Краснодар</td>\n",
       "      <td>Рафаил</td>\n",
       "      <td>Верещагин</td>\n",
       "      <td>2018-05-25</td>\n",
       "      <td>ultra</td>\n",
       "      <td>5</td>\n",
       "    </tr>\n",
       "    <tr>\n",
       "      <td>1</td>\n",
       "      <td>1001</td>\n",
       "      <td>41</td>\n",
       "      <td>NaT</td>\n",
       "      <td>Москва</td>\n",
       "      <td>Иван</td>\n",
       "      <td>Ежов</td>\n",
       "      <td>2018-11-01</td>\n",
       "      <td>smart</td>\n",
       "      <td>11</td>\n",
       "    </tr>\n",
       "  </tbody>\n",
       "</table>\n",
       "</div>"
      ],
      "text/plain": [
       "   user_id  age churn_date       city first_name  last_name   reg_date tariff  \\\n",
       "0     1000   52        NaT  Краснодар     Рафаил  Верещагин 2018-05-25  ultra   \n",
       "1     1001   41        NaT     Москва       Иван       Ежов 2018-11-01  smart   \n",
       "\n",
       "   start_month  \n",
       "0            5  \n",
       "1           11  "
      ]
     },
     "execution_count": 67,
     "metadata": {},
     "output_type": "execute_result"
    }
   ],
   "source": [
    "users.head(2)"
   ]
  },
  {
   "cell_type": "code",
   "execution_count": 68,
   "metadata": {},
   "outputs": [],
   "source": [
    "gip2=general_data.merge(users.loc[:,['user_id','city']],\n",
    "            left_on='user_id',right_on='user_id',how='outer').dropna()"
   ]
  },
  {
   "cell_type": "markdown",
   "metadata": {},
   "source": [
    "Создадим отдельные значения таблиц для жителей регионов и москвы"
   ]
  },
  {
   "cell_type": "code",
   "execution_count": 69,
   "metadata": {},
   "outputs": [],
   "source": [
    "#UPD Передал значение в выборуку не срденее а общее значение\n",
    "profit_moscow=gip2.query('city==\"Москва\"')['total_profit']\n",
    "profit_region=gip2.query('city!=\"Москва\"')['total_profit']"
   ]
  },
  {
   "cell_type": "markdown",
   "metadata": {},
   "source": [
    "Выдвеним нулевую теорию, что средняя выручка пользователей из Москвы и регионов одинаковая, а альтернативная вырочка в городе Москва не равна регионам"
   ]
  },
  {
   "cell_type": "code",
   "execution_count": 70,
   "metadata": {},
   "outputs": [
    {
     "data": {
      "text/plain": [
       "'Принимаем нулевую теорию'"
      ]
     },
     "metadata": {},
     "output_type": "display_data"
    }
   ],
   "source": [
    "result_gip2=st.ttest_ind(profit_moscow,profit_region)\n",
    "if (result_gip2.pvalue<alpha):\n",
    "    display('Отвергаем нулевую теорию')\n",
    "else:\n",
    "    display('Принимаем нулевую теорию')"
   ]
  },
  {
   "cell_type": "code",
   "execution_count": 71,
   "metadata": {},
   "outputs": [
    {
     "data": {
      "text/plain": [
       "0.531666503831252"
      ]
     },
     "execution_count": 71,
     "metadata": {},
     "output_type": "execute_result"
    }
   ],
   "source": [
    "result_gip2.pvalue"
   ]
  },
  {
   "cell_type": "markdown",
   "metadata": {},
   "source": [
    "Следовательно мы принмаем нулевую теорию, а значит средняя выручка в Москве и в регионах одинаковая"
   ]
  },
  {
   "cell_type": "markdown",
   "metadata": {},
   "source": [
    "### Итоговый Вывод"
   ]
  },
  {
   "cell_type": "markdown",
   "metadata": {},
   "source": [
    "В результате проделаной работы, было выявлено, что клиентам тарифа смарт очень часто необходимо переплачиать за свой тариф, так как пармаетров включенных в их тариф часто оказывается недостаточно. не смотря на то, что кольчество пользователей у тарифа Смарт больше,но все равно средняя выручка тарифа ультра больше. Это мы смогли подтверждено статистическим анализом.\n",
    "Так же стоит отметить,  что выручка не зависит от регионов и Москвы.\n",
    "Следовательно стоит отметить, что наиболее перспективным тарифом является тариф ультра, если увеличить количество пользователей, то и выручка вырастет. А с тарифом Смарт нужно предпринять какие либо действия, помимо того, что он приносит малую прибыль, клиентом также приходится очень часто переплачивать за свой тариф, что наврядли на долго сможет удержать их на этом тарифе."
   ]
  }
 ],
 "metadata": {
  "ExecuteTimeLog": [
   {
    "duration": 463,
    "start_time": "2021-08-23T15:26:01.611Z"
   },
   {
    "duration": 1484,
    "start_time": "2021-08-23T15:26:25.688Z"
   },
   {
    "duration": 607,
    "start_time": "2021-08-23T15:26:27.174Z"
   },
   {
    "duration": 16,
    "start_time": "2021-08-23T15:26:27.784Z"
   },
   {
    "duration": 21,
    "start_time": "2021-08-23T15:26:27.802Z"
   },
   {
    "duration": 5,
    "start_time": "2021-08-23T15:26:27.826Z"
   },
   {
    "duration": 13,
    "start_time": "2021-08-23T15:26:27.833Z"
   },
   {
    "duration": 17,
    "start_time": "2021-08-23T15:26:27.886Z"
   },
   {
    "duration": 15,
    "start_time": "2021-08-23T15:26:27.909Z"
   },
   {
    "duration": 11,
    "start_time": "2021-08-23T15:26:27.928Z"
   },
   {
    "duration": 21,
    "start_time": "2021-08-23T15:26:27.987Z"
   },
   {
    "duration": 19,
    "start_time": "2021-08-23T15:26:28.011Z"
   },
   {
    "duration": 55,
    "start_time": "2021-08-23T15:26:28.032Z"
   },
   {
    "duration": 20,
    "start_time": "2021-08-23T15:26:28.091Z"
   },
   {
    "duration": 10,
    "start_time": "2021-08-23T15:26:28.114Z"
   },
   {
    "duration": 12,
    "start_time": "2021-08-23T15:26:28.127Z"
   },
   {
    "duration": 49,
    "start_time": "2021-08-23T15:26:28.141Z"
   },
   {
    "duration": 22,
    "start_time": "2021-08-23T15:26:28.194Z"
   },
   {
    "duration": 6,
    "start_time": "2021-08-23T15:26:28.218Z"
   },
   {
    "duration": 89,
    "start_time": "2021-08-23T15:26:28.226Z"
   },
   {
    "duration": 4,
    "start_time": "2021-08-23T15:26:28.317Z"
   },
   {
    "duration": 130,
    "start_time": "2021-08-23T15:26:28.323Z"
   },
   {
    "duration": 246,
    "start_time": "2021-08-23T15:26:28.212Z"
   },
   {
    "duration": 240,
    "start_time": "2021-08-23T15:26:28.220Z"
   },
   {
    "duration": 237,
    "start_time": "2021-08-23T15:26:28.224Z"
   },
   {
    "duration": 230,
    "start_time": "2021-08-23T15:26:28.232Z"
   },
   {
    "duration": 228,
    "start_time": "2021-08-23T15:26:28.236Z"
   },
   {
    "duration": 196,
    "start_time": "2021-08-23T15:26:28.269Z"
   },
   {
    "duration": 193,
    "start_time": "2021-08-23T15:26:28.273Z"
   },
   {
    "duration": 191,
    "start_time": "2021-08-23T15:26:28.277Z"
   },
   {
    "duration": 185,
    "start_time": "2021-08-23T15:26:28.284Z"
   },
   {
    "duration": 182,
    "start_time": "2021-08-23T15:26:28.288Z"
   },
   {
    "duration": 179,
    "start_time": "2021-08-23T15:26:28.292Z"
   },
   {
    "duration": 173,
    "start_time": "2021-08-23T15:26:28.299Z"
   },
   {
    "duration": 171,
    "start_time": "2021-08-23T15:26:28.303Z"
   },
   {
    "duration": 143,
    "start_time": "2021-08-23T15:26:28.332Z"
   },
   {
    "duration": 137,
    "start_time": "2021-08-23T15:26:28.339Z"
   },
   {
    "duration": 133,
    "start_time": "2021-08-23T15:26:28.344Z"
   },
   {
    "duration": 127,
    "start_time": "2021-08-23T15:26:28.351Z"
   },
   {
    "duration": 124,
    "start_time": "2021-08-23T15:26:28.355Z"
   },
   {
    "duration": 122,
    "start_time": "2021-08-23T15:26:28.359Z"
   },
   {
    "duration": 116,
    "start_time": "2021-08-23T15:26:28.366Z"
   },
   {
    "duration": 113,
    "start_time": "2021-08-23T15:26:28.370Z"
   },
   {
    "duration": 108,
    "start_time": "2021-08-23T15:26:28.377Z"
   },
   {
    "duration": 104,
    "start_time": "2021-08-23T15:26:28.382Z"
   },
   {
    "duration": 101,
    "start_time": "2021-08-23T15:26:28.386Z"
   },
   {
    "duration": 96,
    "start_time": "2021-08-23T15:26:28.393Z"
   },
   {
    "duration": 73,
    "start_time": "2021-08-23T15:26:28.417Z"
   },
   {
    "duration": 70,
    "start_time": "2021-08-23T15:26:28.421Z"
   },
   {
    "duration": 68,
    "start_time": "2021-08-23T15:26:28.425Z"
   },
   {
    "duration": 61,
    "start_time": "2021-08-23T15:26:28.433Z"
   },
   {
    "duration": 57,
    "start_time": "2021-08-23T15:26:28.438Z"
   },
   {
    "duration": 53,
    "start_time": "2021-08-23T15:26:28.444Z"
   },
   {
    "duration": 49,
    "start_time": "2021-08-23T15:26:28.449Z"
   },
   {
    "duration": 45,
    "start_time": "2021-08-23T15:26:28.455Z"
   },
   {
    "duration": 41,
    "start_time": "2021-08-23T15:26:28.460Z"
   },
   {
    "duration": 38,
    "start_time": "2021-08-23T15:26:28.464Z"
   },
   {
    "duration": 32,
    "start_time": "2021-08-23T15:26:28.472Z"
   },
   {
    "duration": 28,
    "start_time": "2021-08-23T15:26:28.477Z"
   },
   {
    "duration": 22,
    "start_time": "2021-08-23T15:26:28.484Z"
   },
   {
    "duration": 20,
    "start_time": "2021-08-23T15:26:28.488Z"
   },
   {
    "duration": 17,
    "start_time": "2021-08-23T15:26:28.493Z"
   },
   {
    "duration": 11,
    "start_time": "2021-08-23T15:26:28.500Z"
   },
   {
    "duration": 8,
    "start_time": "2021-08-23T15:26:28.504Z"
   },
   {
    "duration": 3,
    "start_time": "2021-08-23T15:26:28.511Z"
   },
   {
    "duration": 0,
    "start_time": "2021-08-23T15:26:28.516Z"
   },
   {
    "duration": -7,
    "start_time": "2021-08-23T15:26:28.524Z"
   },
   {
    "duration": -9,
    "start_time": "2021-08-23T15:26:28.528Z"
   },
   {
    "duration": -12,
    "start_time": "2021-08-23T15:26:28.532Z"
   },
   {
    "duration": -17,
    "start_time": "2021-08-23T15:26:28.539Z"
   },
   {
    "duration": -21,
    "start_time": "2021-08-23T15:26:28.544Z"
   },
   {
    "duration": -26,
    "start_time": "2021-08-23T15:26:28.551Z"
   },
   {
    "duration": 32,
    "start_time": "2021-08-23T15:26:28.555Z"
   },
   {
    "duration": 21,
    "start_time": "2021-08-23T15:26:28.568Z"
   },
   {
    "duration": 17,
    "start_time": "2021-08-23T15:26:28.573Z"
   },
   {
    "duration": 8579,
    "start_time": "2021-08-23T15:26:56.878Z"
   },
   {
    "duration": 1064,
    "start_time": "2021-08-23T15:27:44.280Z"
   },
   {
    "duration": 986,
    "start_time": "2021-08-23T15:27:52.657Z"
   },
   {
    "duration": 1042,
    "start_time": "2021-08-23T15:28:18.576Z"
   },
   {
    "duration": 4774,
    "start_time": "2021-08-23T15:53:57.405Z"
   },
   {
    "duration": 4705,
    "start_time": "2021-08-23T15:54:21.555Z"
   },
   {
    "duration": 1448,
    "start_time": "2021-08-23T15:54:55.204Z"
   },
   {
    "duration": 634,
    "start_time": "2021-08-23T15:54:56.655Z"
   },
   {
    "duration": 18,
    "start_time": "2021-08-23T15:54:57.296Z"
   },
   {
    "duration": 28,
    "start_time": "2021-08-23T15:54:57.316Z"
   },
   {
    "duration": 38,
    "start_time": "2021-08-23T15:54:57.347Z"
   },
   {
    "duration": 31,
    "start_time": "2021-08-23T15:54:57.388Z"
   },
   {
    "duration": 26,
    "start_time": "2021-08-23T15:54:57.423Z"
   },
   {
    "duration": 40,
    "start_time": "2021-08-23T15:54:57.453Z"
   },
   {
    "duration": 11,
    "start_time": "2021-08-23T15:54:57.496Z"
   },
   {
    "duration": 32,
    "start_time": "2021-08-23T15:54:57.509Z"
   },
   {
    "duration": 41,
    "start_time": "2021-08-23T15:54:57.544Z"
   },
   {
    "duration": 10,
    "start_time": "2021-08-23T15:54:57.588Z"
   },
   {
    "duration": 41,
    "start_time": "2021-08-23T15:54:57.601Z"
   },
   {
    "duration": 25,
    "start_time": "2021-08-23T15:54:57.645Z"
   },
   {
    "duration": 25,
    "start_time": "2021-08-23T15:54:57.673Z"
   },
   {
    "duration": 10,
    "start_time": "2021-08-23T15:54:57.701Z"
   },
   {
    "duration": 26,
    "start_time": "2021-08-23T15:54:57.714Z"
   },
   {
    "duration": 15,
    "start_time": "2021-08-23T15:54:57.743Z"
   },
   {
    "duration": 64,
    "start_time": "2021-08-23T15:54:57.760Z"
   },
   {
    "duration": 4,
    "start_time": "2021-08-23T15:54:57.827Z"
   },
   {
    "duration": 4938,
    "start_time": "2021-08-23T15:54:57.833Z"
   },
   {
    "duration": 88,
    "start_time": "2021-08-23T15:55:02.785Z"
   },
   {
    "duration": 11,
    "start_time": "2021-08-23T15:55:02.886Z"
   },
   {
    "duration": 61,
    "start_time": "2021-08-23T15:55:02.900Z"
   },
   {
    "duration": 30,
    "start_time": "2021-08-23T15:55:02.964Z"
   },
   {
    "duration": 27,
    "start_time": "2021-08-23T15:55:02.997Z"
   },
   {
    "duration": 48,
    "start_time": "2021-08-23T15:55:03.027Z"
   },
   {
    "duration": 564,
    "start_time": "2021-08-23T15:55:03.077Z"
   },
   {
    "duration": 308,
    "start_time": "2021-08-23T15:55:03.336Z"
   },
   {
    "duration": 305,
    "start_time": "2021-08-23T15:55:03.340Z"
   },
   {
    "duration": 300,
    "start_time": "2021-08-23T15:55:03.347Z"
   },
   {
    "duration": 297,
    "start_time": "2021-08-23T15:55:03.352Z"
   },
   {
    "duration": 295,
    "start_time": "2021-08-23T15:55:03.356Z"
   },
   {
    "duration": 289,
    "start_time": "2021-08-23T15:55:03.363Z"
   },
   {
    "duration": 288,
    "start_time": "2021-08-23T15:55:03.366Z"
   },
   {
    "duration": 283,
    "start_time": "2021-08-23T15:55:03.373Z"
   },
   {
    "duration": 280,
    "start_time": "2021-08-23T15:55:03.377Z"
   },
   {
    "duration": 277,
    "start_time": "2021-08-23T15:55:03.381Z"
   },
   {
    "duration": 273,
    "start_time": "2021-08-23T15:55:03.387Z"
   },
   {
    "duration": 270,
    "start_time": "2021-08-23T15:55:03.391Z"
   },
   {
    "duration": 268,
    "start_time": "2021-08-23T15:55:03.395Z"
   },
   {
    "duration": 263,
    "start_time": "2021-08-23T15:55:03.402Z"
   },
   {
    "duration": 262,
    "start_time": "2021-08-23T15:55:03.405Z"
   },
   {
    "duration": 259,
    "start_time": "2021-08-23T15:55:03.410Z"
   },
   {
    "duration": 255,
    "start_time": "2021-08-23T15:55:03.416Z"
   },
   {
    "duration": 254,
    "start_time": "2021-08-23T15:55:03.419Z"
   },
   {
    "duration": 249,
    "start_time": "2021-08-23T15:55:03.426Z"
   },
   {
    "duration": 231,
    "start_time": "2021-08-23T15:55:03.447Z"
   },
   {
    "duration": 184,
    "start_time": "2021-08-23T15:55:03.495Z"
   },
   {
    "duration": 189,
    "start_time": "2021-08-23T15:55:03.497Z"
   },
   {
    "duration": 186,
    "start_time": "2021-08-23T15:55:03.502Z"
   },
   {
    "duration": 181,
    "start_time": "2021-08-23T15:55:03.509Z"
   },
   {
    "duration": 179,
    "start_time": "2021-08-23T15:55:03.513Z"
   },
   {
    "duration": 160,
    "start_time": "2021-08-23T15:55:03.535Z"
   },
   {
    "duration": 159,
    "start_time": "2021-08-23T15:55:03.538Z"
   },
   {
    "duration": 157,
    "start_time": "2021-08-23T15:55:03.542Z"
   },
   {
    "duration": 153,
    "start_time": "2021-08-23T15:55:03.549Z"
   },
   {
    "duration": 151,
    "start_time": "2021-08-23T15:55:03.553Z"
   },
   {
    "duration": 147,
    "start_time": "2021-08-23T15:55:03.559Z"
   },
   {
    "duration": 145,
    "start_time": "2021-08-23T15:55:03.563Z"
   },
   {
    "duration": 142,
    "start_time": "2021-08-23T15:55:03.568Z"
   },
   {
    "duration": 137,
    "start_time": "2021-08-23T15:55:03.575Z"
   },
   {
    "duration": 135,
    "start_time": "2021-08-23T15:55:03.579Z"
   },
   {
    "duration": 133,
    "start_time": "2021-08-23T15:55:03.583Z"
   },
   {
    "duration": 128,
    "start_time": "2021-08-23T15:55:03.590Z"
   },
   {
    "duration": 127,
    "start_time": "2021-08-23T15:55:03.593Z"
   },
   {
    "duration": 118,
    "start_time": "2021-08-23T15:55:03.605Z"
   },
   {
    "duration": 116,
    "start_time": "2021-08-23T15:55:03.609Z"
   },
   {
    "duration": 170,
    "start_time": "2021-08-23T15:55:03.616Z"
   },
   {
    "duration": 167,
    "start_time": "2021-08-23T15:55:03.620Z"
   },
   {
    "duration": 161,
    "start_time": "2021-08-23T15:55:03.627Z"
   },
   {
    "duration": 158,
    "start_time": "2021-08-23T15:55:03.632Z"
   },
   {
    "duration": 2829,
    "start_time": "2021-08-23T15:56:03.143Z"
   },
   {
    "duration": 51,
    "start_time": "2021-08-23T15:56:12.929Z"
   },
   {
    "duration": 10,
    "start_time": "2021-08-23T15:56:12.982Z"
   },
   {
    "duration": 27,
    "start_time": "2021-08-23T15:56:12.995Z"
   },
   {
    "duration": 570,
    "start_time": "2021-08-23T15:56:13.025Z"
   },
   {
    "duration": 304,
    "start_time": "2021-08-23T15:56:13.295Z"
   },
   {
    "duration": 303,
    "start_time": "2021-08-23T15:56:13.298Z"
   },
   {
    "duration": 297,
    "start_time": "2021-08-23T15:56:13.306Z"
   },
   {
    "duration": 293,
    "start_time": "2021-08-23T15:56:13.311Z"
   },
   {
    "duration": 288,
    "start_time": "2021-08-23T15:56:13.318Z"
   },
   {
    "duration": 286,
    "start_time": "2021-08-23T15:56:13.321Z"
   },
   {
    "duration": 284,
    "start_time": "2021-08-23T15:56:13.325Z"
   },
   {
    "duration": 278,
    "start_time": "2021-08-23T15:56:13.332Z"
   },
   {
    "duration": 276,
    "start_time": "2021-08-23T15:56:13.335Z"
   },
   {
    "duration": 273,
    "start_time": "2021-08-23T15:56:13.340Z"
   },
   {
    "duration": 269,
    "start_time": "2021-08-23T15:56:13.346Z"
   },
   {
    "duration": 266,
    "start_time": "2021-08-23T15:56:13.350Z"
   },
   {
    "duration": 251,
    "start_time": "2021-08-23T15:56:13.367Z"
   },
   {
    "duration": 244,
    "start_time": "2021-08-23T15:56:13.375Z"
   },
   {
    "duration": 243,
    "start_time": "2021-08-23T15:56:13.378Z"
   },
   {
    "duration": 237,
    "start_time": "2021-08-23T15:56:13.385Z"
   },
   {
    "duration": 234,
    "start_time": "2021-08-23T15:56:13.389Z"
   },
   {
    "duration": 232,
    "start_time": "2021-08-23T15:56:13.393Z"
   },
   {
    "duration": 211,
    "start_time": "2021-08-23T15:56:13.415Z"
   },
   {
    "duration": 209,
    "start_time": "2021-08-23T15:56:13.419Z"
   },
   {
    "duration": 190,
    "start_time": "2021-08-23T15:56:13.440Z"
   },
   {
    "duration": 187,
    "start_time": "2021-08-23T15:56:13.444Z"
   },
   {
    "duration": 181,
    "start_time": "2021-08-23T15:56:13.452Z"
   },
   {
    "duration": 177,
    "start_time": "2021-08-23T15:56:13.457Z"
   },
   {
    "duration": 171,
    "start_time": "2021-08-23T15:56:13.464Z"
   },
   {
    "duration": 169,
    "start_time": "2021-08-23T15:56:13.468Z"
   },
   {
    "duration": 200,
    "start_time": "2021-08-23T15:56:13.485Z"
   },
   {
    "duration": 195,
    "start_time": "2021-08-23T15:56:13.492Z"
   },
   {
    "duration": 193,
    "start_time": "2021-08-23T15:56:13.496Z"
   },
   {
    "duration": 190,
    "start_time": "2021-08-23T15:56:13.500Z"
   },
   {
    "duration": 183,
    "start_time": "2021-08-23T15:56:13.508Z"
   },
   {
    "duration": 181,
    "start_time": "2021-08-23T15:56:13.512Z"
   },
   {
    "duration": 175,
    "start_time": "2021-08-23T15:56:13.519Z"
   },
   {
    "duration": 165,
    "start_time": "2021-08-23T15:56:13.531Z"
   },
   {
    "duration": 162,
    "start_time": "2021-08-23T15:56:13.535Z"
   },
   {
    "duration": 160,
    "start_time": "2021-08-23T15:56:13.539Z"
   },
   {
    "duration": 154,
    "start_time": "2021-08-23T15:56:13.546Z"
   },
   {
    "duration": 153,
    "start_time": "2021-08-23T15:56:13.549Z"
   },
   {
    "duration": 150,
    "start_time": "2021-08-23T15:56:13.554Z"
   },
   {
    "duration": 145,
    "start_time": "2021-08-23T15:56:13.560Z"
   },
   {
    "duration": 5475,
    "start_time": "2021-08-23T15:56:32.516Z"
   },
   {
    "duration": 63,
    "start_time": "2021-08-23T15:56:42.196Z"
   },
   {
    "duration": 30,
    "start_time": "2021-08-23T15:56:42.262Z"
   },
   {
    "duration": 25,
    "start_time": "2021-08-23T15:56:42.295Z"
   },
   {
    "duration": 13,
    "start_time": "2021-08-23T15:56:42.323Z"
   },
   {
    "duration": 52,
    "start_time": "2021-08-23T15:56:42.338Z"
   },
   {
    "duration": 15,
    "start_time": "2021-08-23T15:56:42.392Z"
   },
   {
    "duration": 30,
    "start_time": "2021-08-23T15:56:42.410Z"
   },
   {
    "duration": 55,
    "start_time": "2021-08-23T15:56:42.446Z"
   },
   {
    "duration": 17,
    "start_time": "2021-08-23T15:56:42.505Z"
   },
   {
    "duration": 25,
    "start_time": "2021-08-23T15:56:42.526Z"
   },
   {
    "duration": 34,
    "start_time": "2021-08-23T15:56:42.555Z"
   },
   {
    "duration": 16,
    "start_time": "2021-08-23T15:56:42.599Z"
   },
   {
    "duration": 13,
    "start_time": "2021-08-23T15:56:42.618Z"
   },
   {
    "duration": 15363,
    "start_time": "2021-08-23T15:56:42.634Z"
   },
   {
    "duration": 15433,
    "start_time": "2021-08-23T15:56:57.999Z"
   },
   {
    "duration": 18,
    "start_time": "2021-08-23T15:57:13.435Z"
   },
   {
    "duration": 15429,
    "start_time": "2021-08-23T15:57:13.456Z"
   },
   {
    "duration": 18,
    "start_time": "2021-08-23T15:57:28.887Z"
   },
   {
    "duration": 40,
    "start_time": "2021-08-23T15:57:28.908Z"
   },
   {
    "duration": 6,
    "start_time": "2021-08-23T15:57:28.951Z"
   },
   {
    "duration": 46,
    "start_time": "2021-08-23T15:57:28.985Z"
   },
   {
    "duration": 445,
    "start_time": "2021-08-23T15:57:29.034Z"
   },
   {
    "duration": 42,
    "start_time": "2021-08-23T15:57:29.484Z"
   },
   {
    "duration": 11,
    "start_time": "2021-08-23T15:57:29.530Z"
   },
   {
    "duration": 540,
    "start_time": "2021-08-23T15:57:29.543Z"
   },
   {
    "duration": 42,
    "start_time": "2021-08-23T15:57:30.086Z"
   },
   {
    "duration": 18,
    "start_time": "2021-08-23T15:57:30.131Z"
   },
   {
    "duration": 601,
    "start_time": "2021-08-23T15:57:30.152Z"
   },
   {
    "duration": 10,
    "start_time": "2021-08-23T15:57:30.755Z"
   },
   {
    "duration": 67,
    "start_time": "2021-08-23T15:57:30.767Z"
   },
   {
    "duration": 26,
    "start_time": "2021-08-23T15:57:30.837Z"
   },
   {
    "duration": 429,
    "start_time": "2021-08-23T15:57:30.865Z"
   },
   {
    "duration": 4,
    "start_time": "2021-08-23T15:57:31.296Z"
   },
   {
    "duration": 36,
    "start_time": "2021-08-23T15:57:31.303Z"
   },
   {
    "duration": 33,
    "start_time": "2021-08-23T15:57:31.341Z"
   },
   {
    "duration": 72,
    "start_time": "2021-08-23T15:57:31.376Z"
   },
   {
    "duration": 53,
    "start_time": "2021-08-23T15:57:31.451Z"
   },
   {
    "duration": 22,
    "start_time": "2021-08-23T15:57:31.507Z"
   },
   {
    "duration": 52,
    "start_time": "2021-08-23T15:57:31.531Z"
   },
   {
    "duration": 25,
    "start_time": "2021-08-23T15:57:31.586Z"
   },
   {
    "duration": 11,
    "start_time": "2021-08-23T16:08:33.684Z"
   },
   {
    "duration": 351,
    "start_time": "2021-08-23T16:08:36.740Z"
   },
   {
    "duration": 14,
    "start_time": "2021-08-23T16:08:51.772Z"
   },
   {
    "duration": 9,
    "start_time": "2021-08-23T16:09:03.355Z"
   },
   {
    "duration": 1636,
    "start_time": "2021-08-23T16:21:47.813Z"
   },
   {
    "duration": 713,
    "start_time": "2021-08-23T16:21:49.451Z"
   },
   {
    "duration": 17,
    "start_time": "2021-08-23T16:21:50.167Z"
   },
   {
    "duration": 41,
    "start_time": "2021-08-23T16:21:50.191Z"
   },
   {
    "duration": 6,
    "start_time": "2021-08-23T16:21:50.235Z"
   },
   {
    "duration": 30,
    "start_time": "2021-08-23T16:21:50.243Z"
   },
   {
    "duration": 37,
    "start_time": "2021-08-23T16:21:50.275Z"
   },
   {
    "duration": 16,
    "start_time": "2021-08-23T16:21:50.314Z"
   },
   {
    "duration": 50,
    "start_time": "2021-08-23T16:21:50.336Z"
   },
   {
    "duration": 18,
    "start_time": "2021-08-23T16:21:50.395Z"
   },
   {
    "duration": 13,
    "start_time": "2021-08-23T16:21:50.416Z"
   },
   {
    "duration": 25,
    "start_time": "2021-08-23T16:21:50.432Z"
   },
   {
    "duration": 46,
    "start_time": "2021-08-23T16:21:50.459Z"
   },
   {
    "duration": 9,
    "start_time": "2021-08-23T16:21:50.508Z"
   },
   {
    "duration": 13,
    "start_time": "2021-08-23T16:21:50.520Z"
   },
   {
    "duration": 11,
    "start_time": "2021-08-23T16:21:50.535Z"
   },
   {
    "duration": 49,
    "start_time": "2021-08-23T16:21:50.548Z"
   },
   {
    "duration": 15,
    "start_time": "2021-08-23T16:21:50.601Z"
   },
   {
    "duration": 53,
    "start_time": "2021-08-23T16:21:50.618Z"
   },
   {
    "duration": 5,
    "start_time": "2021-08-23T16:21:50.695Z"
   },
   {
    "duration": 4932,
    "start_time": "2021-08-23T16:21:50.703Z"
   },
   {
    "duration": 123,
    "start_time": "2021-08-23T16:21:55.638Z"
   },
   {
    "duration": 26,
    "start_time": "2021-08-23T16:21:55.764Z"
   },
   {
    "duration": 63,
    "start_time": "2021-08-23T16:21:55.793Z"
   },
   {
    "duration": 38,
    "start_time": "2021-08-23T16:21:55.859Z"
   },
   {
    "duration": 30,
    "start_time": "2021-08-23T16:21:55.900Z"
   },
   {
    "duration": 50,
    "start_time": "2021-08-23T16:21:55.941Z"
   },
   {
    "duration": 3695,
    "start_time": "2021-08-23T16:21:55.995Z"
   },
   {
    "duration": 52,
    "start_time": "2021-08-23T16:21:59.694Z"
   },
   {
    "duration": 46,
    "start_time": "2021-08-23T16:21:59.749Z"
   },
   {
    "duration": 17,
    "start_time": "2021-08-23T16:21:59.800Z"
   },
   {
    "duration": 4225,
    "start_time": "2021-08-23T16:21:59.820Z"
   },
   {
    "duration": 77,
    "start_time": "2021-08-23T16:22:04.048Z"
   },
   {
    "duration": 14,
    "start_time": "2021-08-23T16:22:04.128Z"
   },
   {
    "duration": 51,
    "start_time": "2021-08-23T16:22:04.145Z"
   },
   {
    "duration": 20,
    "start_time": "2021-08-23T16:22:04.199Z"
   },
   {
    "duration": 17,
    "start_time": "2021-08-23T16:22:04.221Z"
   },
   {
    "duration": 16,
    "start_time": "2021-08-23T16:22:04.241Z"
   },
   {
    "duration": 24,
    "start_time": "2021-08-23T16:22:04.286Z"
   },
   {
    "duration": 31,
    "start_time": "2021-08-23T16:22:04.313Z"
   },
   {
    "duration": 45,
    "start_time": "2021-08-23T16:22:04.347Z"
   },
   {
    "duration": 24,
    "start_time": "2021-08-23T16:22:04.395Z"
   },
   {
    "duration": 18,
    "start_time": "2021-08-23T16:22:04.422Z"
   },
   {
    "duration": 12,
    "start_time": "2021-08-23T16:22:04.443Z"
   },
   {
    "duration": 8,
    "start_time": "2021-08-23T16:22:04.490Z"
   },
   {
    "duration": 15742,
    "start_time": "2021-08-23T16:22:04.502Z"
   },
   {
    "duration": 15682,
    "start_time": "2021-08-23T16:22:20.246Z"
   },
   {
    "duration": 15373,
    "start_time": "2021-08-23T16:22:35.930Z"
   },
   {
    "duration": 16,
    "start_time": "2021-08-23T16:22:51.306Z"
   },
   {
    "duration": 31,
    "start_time": "2021-08-23T16:22:51.324Z"
   },
   {
    "duration": 6,
    "start_time": "2021-08-23T16:22:51.358Z"
   },
   {
    "duration": 49,
    "start_time": "2021-08-23T16:22:51.385Z"
   },
   {
    "duration": 438,
    "start_time": "2021-08-23T16:22:51.437Z"
   },
   {
    "duration": 45,
    "start_time": "2021-08-23T16:22:51.878Z"
   },
   {
    "duration": 11,
    "start_time": "2021-08-23T16:22:51.925Z"
   },
   {
    "duration": 576,
    "start_time": "2021-08-23T16:22:51.938Z"
   },
   {
    "duration": 41,
    "start_time": "2021-08-23T16:22:52.517Z"
   },
   {
    "duration": 34,
    "start_time": "2021-08-23T16:22:52.561Z"
   },
   {
    "duration": 575,
    "start_time": "2021-08-23T16:22:52.598Z"
   },
   {
    "duration": 18,
    "start_time": "2021-08-23T16:22:53.176Z"
   },
   {
    "duration": 44,
    "start_time": "2021-08-23T16:22:53.197Z"
   },
   {
    "duration": 11,
    "start_time": "2021-08-23T16:22:53.243Z"
   },
   {
    "duration": 444,
    "start_time": "2021-08-23T16:22:53.256Z"
   },
   {
    "duration": 3,
    "start_time": "2021-08-23T16:22:53.703Z"
   },
   {
    "duration": 24,
    "start_time": "2021-08-23T16:22:53.709Z"
   },
   {
    "duration": 21,
    "start_time": "2021-08-23T16:22:53.735Z"
   },
   {
    "duration": 41,
    "start_time": "2021-08-23T16:22:53.758Z"
   },
   {
    "duration": 32,
    "start_time": "2021-08-23T16:22:53.802Z"
   },
   {
    "duration": 15,
    "start_time": "2021-08-23T16:22:53.837Z"
   },
   {
    "duration": 40,
    "start_time": "2021-08-23T16:22:53.855Z"
   },
   {
    "duration": 5,
    "start_time": "2021-08-23T16:22:53.898Z"
   }
  ],
  "kernelspec": {
   "display_name": "Python 3",
   "language": "python",
   "name": "python3"
  },
  "language_info": {
   "codemirror_mode": {
    "name": "ipython",
    "version": 3
   },
   "file_extension": ".py",
   "mimetype": "text/x-python",
   "name": "python",
   "nbconvert_exporter": "python",
   "pygments_lexer": "ipython3",
   "version": "3.7.8"
  },
  "toc": {
   "base_numbering": 1,
   "nav_menu": {},
   "number_sections": true,
   "sideBar": true,
   "skip_h1_title": true,
   "title_cell": "Порядок работы",
   "title_sidebar": "Contents",
   "toc_cell": true,
   "toc_position": {
    "height": "calc(100% - 180px)",
    "left": "10px",
    "top": "150px",
    "width": "187.2px"
   },
   "toc_section_display": true,
   "toc_window_display": true
  }
 },
 "nbformat": 4,
 "nbformat_minor": 2
}
