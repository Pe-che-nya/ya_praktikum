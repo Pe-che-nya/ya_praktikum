{
 "cells": [
  {
   "cell_type": "markdown",
   "metadata": {},
   "source": [
    "# Классификация комментариев"
   ]
  },
  {
   "cell_type": "markdown",
   "metadata": {},
   "source": [
    "Интернет магазину необходимо найти токсичные комментарии и отправлять их на модерацию. Неоходимо предоставить модель классификации комментраиев на позитивные и негативные с метрикой качества f1 не меньше 0,75"
   ]
  },
  {
   "cell_type": "markdown",
   "metadata": {},
   "source": [
    "Порядок работы представлен ниже:"
   ]
  },
  {
   "cell_type": "markdown",
   "metadata": {
    "toc": true
   },
   "source": [
    "<h1>Порядок работы<span class=\"tocSkip\"></span></h1>\n",
    "<div class=\"toc\"><ul class=\"toc-item\"><li><span><a href=\"#Подготовка\" data-toc-modified-id=\"Подготовка-1\"><span class=\"toc-item-num\">1&nbsp;&nbsp;</span>Подготовка</a></span><ul class=\"toc-item\"><li><span><a href=\"#Загрузка-данных\" data-toc-modified-id=\"Загрузка-данных-1.1\"><span class=\"toc-item-num\">1.1&nbsp;&nbsp;</span>Загрузка данных</a></span></li><li><span><a href=\"#Лемматизация-и-подсчеты-длины-коментария\" data-toc-modified-id=\"Лемматизация-и-подсчеты-длины-коментария-1.2\"><span class=\"toc-item-num\">1.2&nbsp;&nbsp;</span>Лемматизация и подсчеты длины коментария</a></span></li><li><span><a href=\"#Проверка-гиппотезы\" data-toc-modified-id=\"Проверка-гиппотезы-1.3\"><span class=\"toc-item-num\">1.3&nbsp;&nbsp;</span>Проверка гиппотезы</a></span></li><li><span><a href=\"#Подготовка-целевого-признака-и-фичей\" data-toc-modified-id=\"Подготовка-целевого-признака-и-фичей-1.4\"><span class=\"toc-item-num\">1.4&nbsp;&nbsp;</span>Подготовка целевого признака и фичей</a></span></li><li><span><a href=\"#Итог\" data-toc-modified-id=\"Итог-1.5\"><span class=\"toc-item-num\">1.5&nbsp;&nbsp;</span>Итог</a></span></li></ul></li><li><span><a href=\"#Обучение\" data-toc-modified-id=\"Обучение-2\"><span class=\"toc-item-num\">2&nbsp;&nbsp;</span>Обучение</a></span><ul class=\"toc-item\"><li><span><a href=\"#подготовка-pipeline\" data-toc-modified-id=\"подготовка-pipeline-2.1\"><span class=\"toc-item-num\">2.1&nbsp;&nbsp;</span>подготовка pipeline</a></span></li><li><span><a href=\"#GridsearchCV\" data-toc-modified-id=\"GridsearchCV-2.2\"><span class=\"toc-item-num\">2.2&nbsp;&nbsp;</span>GridsearchCV</a></span></li><li><span><a href=\"#Обучение\" data-toc-modified-id=\"Обучение-2.3\"><span class=\"toc-item-num\">2.3&nbsp;&nbsp;</span>Обучение</a></span></li><li><span><a href=\"#Итоги-обучения\" data-toc-modified-id=\"Итоги-обучения-2.4\"><span class=\"toc-item-num\">2.4&nbsp;&nbsp;</span>Итоги обучения</a></span></li></ul></li><li><span><a href=\"#Выводы\" data-toc-modified-id=\"Выводы-3\"><span class=\"toc-item-num\">3&nbsp;&nbsp;</span>Выводы</a></span></li></ul></div>"
   ]
  },
  {
   "cell_type": "code",
   "execution_count": 1,
   "metadata": {
    "scrolled": true
   },
   "outputs": [
    {
     "name": "stdout",
     "output_type": "stream",
     "text": [
      "Collecting package metadata (current_repodata.json): done\n",
      "Solving environment: / \n",
      "The environment is inconsistent, please check the package plan carefully\n",
      "The following packages are causing the inconsistency:\n",
      "\n",
      "  - conda-forge/noarch::alembic==1.4.3=pyh9f0ad1d_0\n",
      "  - conda-forge/noarch::jsonschema==3.2.0=py_2\n",
      "  - conda-forge/linux-64::pycurl==7.43.0.6=py38hd8bd627_0\n",
      "  - conda-forge/noarch::jupyter_telemetry==0.0.5=py_0\n",
      "  - conda-forge/noarch::jupyter_client==6.1.7=py_0\n",
      "  - conda-forge/linux-64::jupyterhub-base==1.2.1=py38h578d9bd_0\n",
      "  - conda-forge/linux-64::notebook==6.1.4=py38h32f6830_1\n",
      "  - conda-forge/linux-64::pyrsistent==0.17.3=py38h1e0a361_1\n",
      "  - conda-forge/linux-64::terminado==0.9.1=py38h32f6830_1\n",
      "  - conda-forge/linux-64::argon2-cffi==20.1.0=py38h1e0a361_2\n",
      "  - conda-forge/noarch::jupyterlab_server==1.2.0=py_0\n",
      "  - conda-forge/linux-64::pyzmq==19.0.2=py38ha71036d_2\n",
      "  - conda-forge/linux-64::ruamel.yaml==0.16.12=py38h1e0a361_1\n",
      "  - conda-forge/noarch::nbclient==0.5.1=py_0\n",
      "  - conda-forge/linux-64::jedi==0.17.2=py38h32f6830_1\n",
      "  - conda-forge/noarch::mako==1.1.3=pyh9f0ad1d_0\n",
      "  - conda-forge/linux-64::nbconvert==6.0.7=py38h32f6830_2\n",
      "  - conda-forge/linux-64::markupsafe==1.1.1=py38h8df0ef7_2\n",
      "  - conda-forge/linux-64::entrypoints==0.3=py38h32f6830_1002\n",
      "  - conda-forge/noarch::jinja2==2.11.2=pyh9f0ad1d_0\n",
      "  - conda-forge/linux-64::ipykernel==5.3.4=py38h1cdfbd6_1\n",
      "  - conda-forge/noarch::nbformat==5.0.8=py_0\n",
      "  - conda-forge/linux-64::jupyterhub==1.2.1=py38h578d9bd_0\n",
      "  - conda-forge/linux-64::mistune==0.8.4=py38h1e0a361_1002\n",
      "  - conda-forge/linux-64::jupyter_core==4.6.3=py38h32f6830_2\n",
      "  - conda-forge/linux-64::ipython==7.19.0=py38h81c977d_0\n",
      "  - conda-forge/noarch::jupyterlab==2.2.9=py_0\n",
      "  - conda-forge/linux-64::tornado==6.1=py38h25fe258_0\n",
      "  - conda-forge/linux-64::sqlalchemy==1.3.20=py38h1e0a361_0\n",
      "  - conda-forge/linux-64::ruamel.yaml.clib==0.2.2=py38h1e0a361_1\n",
      "failed with initial frozen solve. Retrying with flexible solve.\n",
      "Solving environment: failed with repodata from current_repodata.json, will retry with next repodata source.\n",
      "Collecting package metadata (repodata.json): done\n",
      "Solving environment: | \n",
      "The environment is inconsistent, please check the package plan carefully\n",
      "The following packages are causing the inconsistency:\n",
      "\n",
      "  - conda-forge/noarch::alembic==1.4.3=pyh9f0ad1d_0\n",
      "  - conda-forge/noarch::jsonschema==3.2.0=py_2\n",
      "  - conda-forge/linux-64::pycurl==7.43.0.6=py38hd8bd627_0\n",
      "  - conda-forge/noarch::jupyter_telemetry==0.0.5=py_0\n",
      "  - conda-forge/noarch::jupyter_client==6.1.7=py_0\n",
      "  - conda-forge/linux-64::jupyterhub-base==1.2.1=py38h578d9bd_0\n",
      "  - conda-forge/linux-64::notebook==6.1.4=py38h32f6830_1\n",
      "  - conda-forge/linux-64::pyrsistent==0.17.3=py38h1e0a361_1\n",
      "  - conda-forge/linux-64::terminado==0.9.1=py38h32f6830_1\n",
      "  - conda-forge/linux-64::argon2-cffi==20.1.0=py38h1e0a361_2\n",
      "  - conda-forge/noarch::jupyterlab_server==1.2.0=py_0\n",
      "  - conda-forge/linux-64::pyzmq==19.0.2=py38ha71036d_2\n",
      "  - conda-forge/linux-64::ruamel.yaml==0.16.12=py38h1e0a361_1\n",
      "  - conda-forge/noarch::nbclient==0.5.1=py_0\n",
      "  - conda-forge/linux-64::jedi==0.17.2=py38h32f6830_1\n",
      "  - conda-forge/noarch::mako==1.1.3=pyh9f0ad1d_0\n",
      "  - conda-forge/linux-64::nbconvert==6.0.7=py38h32f6830_2\n",
      "  - conda-forge/linux-64::markupsafe==1.1.1=py38h8df0ef7_2\n",
      "  - conda-forge/linux-64::entrypoints==0.3=py38h32f6830_1002\n",
      "  - conda-forge/noarch::jinja2==2.11.2=pyh9f0ad1d_0\n",
      "  - conda-forge/linux-64::ipykernel==5.3.4=py38h1cdfbd6_1\n",
      "  - conda-forge/noarch::nbformat==5.0.8=py_0\n",
      "  - conda-forge/linux-64::jupyterhub==1.2.1=py38h578d9bd_0\n",
      "  - conda-forge/linux-64::mistune==0.8.4=py38h1e0a361_1002\n",
      "  - conda-forge/linux-64::jupyter_core==4.6.3=py38h32f6830_2\n",
      "  - conda-forge/linux-64::ipython==7.19.0=py38h81c977d_0\n",
      "  - conda-forge/noarch::jupyterlab==2.2.9=py_0\n",
      "  - conda-forge/linux-64::tornado==6.1=py38h25fe258_0\n",
      "  - conda-forge/linux-64::sqlalchemy==1.3.20=py38h1e0a361_0\n",
      "  - conda-forge/linux-64::ruamel.yaml.clib==0.2.2=py38h1e0a361_1\n",
      "done\n",
      "\n",
      "\n",
      "==> WARNING: A newer version of conda exists. <==\n",
      "  current version: 4.9.0\n",
      "  latest version: 4.10.3\n",
      "\n",
      "Please update conda by running\n",
      "\n",
      "    $ conda update -n base conda\n",
      "\n",
      "\n",
      "\n",
      "## Package Plan ##\n",
      "\n",
      "  environment location: /opt/conda\n",
      "\n",
      "  added / updated specs:\n",
      "    - imbalanced-learn\n",
      "\n",
      "\n",
      "The following packages will be downloaded:\n",
      "\n",
      "    package                    |            build\n",
      "    ---------------------------|-----------------\n",
      "    brotlipy-0.7.0             |py38h497a2fe_1001         341 KB  conda-forge\n",
      "    certifi-2021.5.30          |   py38h578d9bd_0         141 KB  conda-forge\n",
      "    cffi-1.14.4                |   py38ha312104_0         226 KB  conda-forge\n",
      "    chardet-3.0.4              |py38h924ce5b_1008         170 KB  conda-forge\n",
      "    conda-4.9.0                |   py38h924ce5b_1         3.1 MB  conda-forge\n",
      "    conda-package-handling-1.7.3|   py38h497a2fe_0         927 KB  conda-forge\n",
      "    cryptography-3.4.7         |   py38ha5dfef3_0         1.1 MB  conda-forge\n",
      "    imbalanced-learn-0.8.0     |     pyhd8ed1ab_0         109 KB  conda-forge\n",
      "    joblib-1.0.1               |     pyhd8ed1ab_0         206 KB  conda-forge\n",
      "    libblas-3.9.0              |11_linux64_openblas          12 KB  conda-forge\n",
      "    libcblas-3.9.0             |11_linux64_openblas          11 KB  conda-forge\n",
      "    libgfortran-ng-11.1.0      |       h69a702a_8          19 KB  conda-forge\n",
      "    libgfortran5-11.1.0        |       h6c583b3_8         1.7 MB  conda-forge\n",
      "    liblapack-3.9.0            |11_linux64_openblas          11 KB  conda-forge\n",
      "    libopenblas-0.3.17         |pthreads_h8fe5266_1         9.2 MB  conda-forge\n",
      "    numpy-1.21.1               |   py38h9894fe3_0         6.2 MB  conda-forge\n",
      "    pycosat-0.6.3              |py38h497a2fe_1006         107 KB  conda-forge\n",
      "    pysocks-1.7.1              |   py38h578d9bd_3          27 KB  conda-forge\n",
      "    python-3.8.6               |h852b56e_0_cpython        22.1 MB  conda-forge\n",
      "    python_abi-3.8             |           2_cp38           4 KB  conda-forge\n",
      "    ruamel_yaml-0.15.80        |py38h497a2fe_1004         272 KB  conda-forge\n",
      "    scikit-learn-0.24.2        |   py38hdc147b9_0         7.6 MB  conda-forge\n",
      "    scipy-1.7.0                |   py38h7b17777_1        21.8 MB  conda-forge\n",
      "    setuptools-57.4.0          |   py38h578d9bd_0         934 KB  conda-forge\n",
      "    threadpoolctl-2.2.0        |     pyh8a188c0_0          16 KB  conda-forge\n",
      "    ------------------------------------------------------------\n",
      "                                           Total:        76.2 MB\n",
      "\n",
      "The following NEW packages will be INSTALLED:\n",
      "\n",
      "  imbalanced-learn   conda-forge/noarch::imbalanced-learn-0.8.0-pyhd8ed1ab_0\n",
      "  joblib             conda-forge/noarch::joblib-1.0.1-pyhd8ed1ab_0\n",
      "  libblas            conda-forge/linux-64::libblas-3.9.0-11_linux64_openblas\n",
      "  libcblas           conda-forge/linux-64::libcblas-3.9.0-11_linux64_openblas\n",
      "  libgfortran-ng     conda-forge/linux-64::libgfortran-ng-11.1.0-h69a702a_8\n",
      "  libgfortran5       conda-forge/linux-64::libgfortran5-11.1.0-h6c583b3_8\n",
      "  liblapack          conda-forge/linux-64::liblapack-3.9.0-11_linux64_openblas\n",
      "  libopenblas        conda-forge/linux-64::libopenblas-0.3.17-pthreads_h8fe5266_1\n",
      "  numpy              conda-forge/linux-64::numpy-1.21.1-py38h9894fe3_0\n",
      "  scikit-learn       conda-forge/linux-64::scikit-learn-0.24.2-py38hdc147b9_0\n",
      "  scipy              conda-forge/linux-64::scipy-1.7.0-py38h7b17777_1\n",
      "  threadpoolctl      conda-forge/noarch::threadpoolctl-2.2.0-pyh8a188c0_0\n",
      "\n",
      "The following packages will be REMOVED:\n",
      "\n",
      "  greenlet-1.1.0-py37hcd2ae1e_0\n",
      "  ruamel-1.0-py37h89c1867_4\n",
      "\n",
      "The following packages will be UPDATED:\n",
      "\n",
      "  python                           3.7.8-h8bdb77d_2_cpython --> 3.8.6-h852b56e_0_cpython\n",
      "  python_abi                                    3.7-1_cp37m --> 3.8-2_cp38\n",
      "  setuptools                          49.6.0-py37h89c1867_3 --> 57.4.0-py38h578d9bd_0\n",
      "\n",
      "The following packages will be DOWNGRADED:\n",
      "\n",
      "  brotlipy                          0.7.0-py37h5e8e339_1001 --> 0.7.0-py38h497a2fe_1001\n",
      "  certifi                          2021.5.30-py37h89c1867_0 --> 2021.5.30-py38h578d9bd_0\n",
      "  cffi                                1.14.4-py37h11fe52a_0 --> 1.14.4-py38ha312104_0\n",
      "  chardet                           3.0.4-py37he5f6b98_1008 --> 3.0.4-py38h924ce5b_1008\n",
      "  conda                                4.9.0-py37he5f6b98_1 --> 4.9.0-py38h924ce5b_1\n",
      "  conda-package-han~                   1.7.3-py37h5e8e339_0 --> 1.7.3-py38h497a2fe_0\n",
      "  cryptography                         3.4.7-py37h5d9358c_0 --> 3.4.7-py38ha5dfef3_0\n",
      "  pycosat                           0.6.3-py37h5e8e339_1006 --> 0.6.3-py38h497a2fe_1006\n",
      "  pysocks                              1.7.1-py37h89c1867_3 --> 1.7.1-py38h578d9bd_3\n",
      "  ruamel_yaml                     0.15.80-py37h5e8e339_1004 --> 0.15.80-py38h497a2fe_1004\n",
      "\n",
      "\n",
      "\n",
      "Downloading and Extracting Packages\n",
      "conda-4.9.0          | 3.1 MB    | ##################################### | 100% \n",
      "ruamel_yaml-0.15.80  | 272 KB    | ##################################### | 100% \n",
      "cffi-1.14.4          | 226 KB    | ##################################### | 100% \n",
      "libopenblas-0.3.17   | 9.2 MB    | ##################################### | 100% \n",
      "libcblas-3.9.0       | 11 KB     | ##################################### | 100% \n",
      "python_abi-3.8       | 4 KB      | ##################################### | 100% \n",
      "python-3.8.6         | 22.1 MB   | ##################################### | 100% \n",
      "libblas-3.9.0        | 12 KB     | ##################################### | 100% \n",
      "cryptography-3.4.7   | 1.1 MB    | ##################################### | 100% \n",
      "threadpoolctl-2.2.0  | 16 KB     | ##################################### | 100% \n",
      "libgfortran5-11.1.0  | 1.7 MB    | ##################################### | 100% \n",
      "setuptools-57.4.0    | 934 KB    | ##################################### | 100% \n",
      "scipy-1.7.0          | 21.8 MB   | ##################################### | 100% \n",
      "chardet-3.0.4        | 170 KB    | ##################################### | 100% \n",
      "libgfortran-ng-11.1. | 19 KB     | ##################################### | 100% \n",
      "certifi-2021.5.30    | 141 KB    | ##################################### | 100% \n",
      "brotlipy-0.7.0       | 341 KB    | ##################################### | 100% \n",
      "scikit-learn-0.24.2  | 7.6 MB    | ##################################### | 100% \n",
      "pysocks-1.7.1        | 27 KB     | ##################################### | 100% \n",
      "pycosat-0.6.3        | 107 KB    | ##################################### | 100% \n",
      "imbalanced-learn-0.8 | 109 KB    | ##################################### | 100% \n",
      "joblib-1.0.1         | 206 KB    | ##################################### | 100% \n",
      "numpy-1.21.1         | 6.2 MB    | ##################################### | 100% \n",
      "liblapack-3.9.0      | 11 KB     | ##################################### | 100% \n",
      "conda-package-handli | 927 KB    | ##################################### | 100% \n",
      "Preparing transaction: done\n",
      "Verifying transaction: done\n",
      "Executing transaction: done\n",
      "ERROR conda.core.link:_execute(700): An error occurred while uninstalling package 'conda-forge/noarch::jupyterlab-2.2.9-py_0'.\n",
      "Rolling back transaction: done\n",
      "\n",
      "[Errno 13] Permission denied: '/opt/conda/lib/python3.7/site-packages/jupyterlab-2.2.9-py3.9.egg-info/PKG-INFO' -> '/opt/conda/lib/python3.7/site-packages/jupyterlab-2.2.9-py3.9.egg-info/PKG-INFO.c~'\n",
      "()\n",
      "\n",
      "\n",
      "Note: you may need to restart the kernel to use updated packages.\n"
     ]
    }
   ],
   "source": [
    "conda install -c conda-forge imbalanced-learn\n"
   ]
  },
  {
   "cell_type": "code",
   "execution_count": 2,
   "metadata": {},
   "outputs": [
    {
     "name": "stdout",
     "output_type": "stream",
     "text": [
      "Defaulting to user installation because normal site-packages is not writeable\n",
      "Collecting imbalanced-learn\n",
      "  Downloading imbalanced_learn-0.8.0-py3-none-any.whl (206 kB)\n",
      "\u001b[K     |████████████████████████████████| 206 kB 868 kB/s eta 0:00:01\n",
      "\u001b[?25hRequirement already satisfied, skipping upgrade: joblib>=0.11 in /opt/conda/lib/python3.7/site-packages (from imbalanced-learn) (1.0.1)\n",
      "Collecting scikit-learn>=0.24\n",
      "  Downloading scikit_learn-0.24.2-cp37-cp37m-manylinux2010_x86_64.whl (22.3 MB)\n",
      "\u001b[K     |████████████████████████████████| 22.3 MB 96 kB/s  eta 0:00:01    |██████████▎                     | 7.2 MB 4.0 MB/s eta 0:00:04\n",
      "\u001b[?25hRequirement already satisfied, skipping upgrade: numpy>=1.13.3 in /opt/conda/lib/python3.7/site-packages (from imbalanced-learn) (1.19.5)\n",
      "Requirement already satisfied, skipping upgrade: scipy>=0.19.1 in /opt/conda/lib/python3.7/site-packages (from imbalanced-learn) (1.4.1)\n",
      "Collecting threadpoolctl>=2.0.0\n",
      "  Downloading threadpoolctl-2.2.0-py3-none-any.whl (12 kB)\n",
      "Installing collected packages: threadpoolctl, scikit-learn, imbalanced-learn\n",
      "Successfully installed imbalanced-learn-0.8.0 scikit-learn-0.24.2 threadpoolctl-2.2.0\n",
      "Note: you may need to restart the kernel to use updated packages.\n"
     ]
    }
   ],
   "source": [
    "pip install -U imbalanced-learn"
   ]
  },
  {
   "cell_type": "markdown",
   "metadata": {},
   "source": [
    "Используемые библиотеки"
   ]
  },
  {
   "cell_type": "code",
   "execution_count": 3,
   "metadata": {},
   "outputs": [],
   "source": [
    "#обработка данных\n",
    "import pandas as pd\n",
    "from pymystem3 import Mystem\n",
    "from nltk.stem import WordNetLemmatizer \n",
    "import re\n",
    "import nltk\n",
    "from nltk.corpus import stopwords \n",
    "from scipy import stats as st\n",
    "from sklearn.feature_extraction.text import TfidfVectorizer\n",
    "import copy\n",
    "from scipy import stats as st\n",
    "from sklearn.compose import ColumnTransformer\n",
    "\n",
    "\n",
    "#поиск решений\n",
    "\n",
    "from sklearn.model_selection import train_test_split,GridSearchCV,KFold\n",
    "from imblearn.pipeline import Pipeline\n",
    "from imblearn import under_sampling, over_sampling\n",
    "from imblearn.over_sampling import SMOTE\n",
    "from imblearn.under_sampling import RandomUnderSampler\n",
    "\n",
    "#модели\n",
    "\n",
    "from sklearn.linear_model import LogisticRegression\n",
    "from sklearn.ensemble import RandomForestClassifier\n",
    "import lightgbm as lgb\n",
    "\n",
    "#метрики\n",
    "from sklearn.metrics import f1_score\n",
    "\n",
    "\n",
    "#таймер\n",
    "import timeit\n",
    "\n"
   ]
  },
  {
   "cell_type": "code",
   "execution_count": 4,
   "metadata": {},
   "outputs": [],
   "source": [
    "import warnings\n",
    "\n",
    "warnings.filterwarnings('ignore')"
   ]
  },
  {
   "cell_type": "markdown",
   "metadata": {},
   "source": [
    "## Подготовка"
   ]
  },
  {
   "cell_type": "markdown",
   "metadata": {},
   "source": [
    "### Загрузка данных"
   ]
  },
  {
   "cell_type": "code",
   "execution_count": 5,
   "metadata": {},
   "outputs": [
    {
     "data": {
      "text/html": [
       "<div>\n",
       "<style scoped>\n",
       "    .dataframe tbody tr th:only-of-type {\n",
       "        vertical-align: middle;\n",
       "    }\n",
       "\n",
       "    .dataframe tbody tr th {\n",
       "        vertical-align: top;\n",
       "    }\n",
       "\n",
       "    .dataframe thead th {\n",
       "        text-align: right;\n",
       "    }\n",
       "</style>\n",
       "<table border=\"1\" class=\"dataframe\">\n",
       "  <thead>\n",
       "    <tr style=\"text-align: right;\">\n",
       "      <th></th>\n",
       "      <th>text</th>\n",
       "      <th>toxic</th>\n",
       "    </tr>\n",
       "  </thead>\n",
       "  <tbody>\n",
       "    <tr>\n",
       "      <td>0</td>\n",
       "      <td>Explanation\\nWhy the edits made under my usern...</td>\n",
       "      <td>0</td>\n",
       "    </tr>\n",
       "    <tr>\n",
       "      <td>1</td>\n",
       "      <td>D'aww! He matches this background colour I'm s...</td>\n",
       "      <td>0</td>\n",
       "    </tr>\n",
       "  </tbody>\n",
       "</table>\n",
       "</div>"
      ],
      "text/plain": [
       "                                                text  toxic\n",
       "0  Explanation\\nWhy the edits made under my usern...      0\n",
       "1  D'aww! He matches this background colour I'm s...      0"
      ]
     },
     "execution_count": 5,
     "metadata": {},
     "output_type": "execute_result"
    }
   ],
   "source": [
    "data=pd.read_csv('')\n",
    "data.head(2)"
   ]
  },
  {
   "cell_type": "markdown",
   "metadata": {},
   "source": [
    "Рассмотрим информацию о данных"
   ]
  },
  {
   "cell_type": "code",
   "execution_count": 6,
   "metadata": {
    "scrolled": true
   },
   "outputs": [
    {
     "name": "stdout",
     "output_type": "stream",
     "text": [
      "<class 'pandas.core.frame.DataFrame'>\n",
      "RangeIndex: 159571 entries, 0 to 159570\n",
      "Data columns (total 2 columns):\n",
      "text     159571 non-null object\n",
      "toxic    159571 non-null int64\n",
      "dtypes: int64(1), object(1)\n",
      "memory usage: 2.4+ MB\n"
     ]
    }
   ],
   "source": [
    "data.info()"
   ]
  },
  {
   "cell_type": "markdown",
   "metadata": {},
   "source": [
    "Пропусков нет, рассмтрим на дубликаты."
   ]
  },
  {
   "cell_type": "code",
   "execution_count": 7,
   "metadata": {},
   "outputs": [
    {
     "data": {
      "text/plain": [
       "0"
      ]
     },
     "execution_count": 7,
     "metadata": {},
     "output_type": "execute_result"
    }
   ],
   "source": [
    "data.duplicated().sum()"
   ]
  },
  {
   "cell_type": "markdown",
   "metadata": {},
   "source": [
    "Дубликатов тоже нет.\n"
   ]
  },
  {
   "cell_type": "markdown",
   "metadata": {},
   "source": [
    "По типу задача представляет классификацию, с предсказанием двух классов. Рассмотрим как распределены классы в представленном датасете"
   ]
  },
  {
   "cell_type": "code",
   "execution_count": 8,
   "metadata": {},
   "outputs": [
    {
     "data": {
      "text/plain": [
       "0    143346\n",
       "1     16225\n",
       "Name: toxic, dtype: int64"
      ]
     },
     "execution_count": 8,
     "metadata": {},
     "output_type": "execute_result"
    }
   ],
   "source": [
    "data.toxic.value_counts()"
   ]
  },
  {
   "cell_type": "markdown",
   "metadata": {},
   "source": [
    "Очевидный дисбаланс классов. Поэтому необходимо будет их сбалансировать.Балансировку будем проводить как в сторону максимального значения (upsampling) так и в сторону миниимального значения (downsampling). данную преобработку будем проводить на этапе обучения"
   ]
  },
  {
   "cell_type": "markdown",
   "metadata": {},
   "source": [
    "Замечено, что при обрабоке данных с 110000 по 120000 почему то улетает ядро, поэтому я решил их просто убрать"
   ]
  },
  {
   "cell_type": "code",
   "execution_count": 9,
   "metadata": {},
   "outputs": [],
   "source": [
    "data_for_preprocessing=data.drop(index=[i for i in range(110000,120000,1)]).reset_index(drop=True)"
   ]
  },
  {
   "cell_type": "markdown",
   "metadata": {},
   "source": [
    "### Лемматизация и подсчеты длины коментария"
   ]
  },
  {
   "cell_type": "markdown",
   "metadata": {},
   "source": [
    "Проведем лемматизацию и токенизацию для этого воспользуемся функцией func_lem()"
   ]
  },
  {
   "cell_type": "code",
   "execution_count": 10,
   "metadata": {},
   "outputs": [],
   "source": [
    "corpus = data_for_preprocessing['text']"
   ]
  },
  {
   "cell_type": "code",
   "execution_count": 11,
   "metadata": {},
   "outputs": [],
   "source": [
    "lemmatizer = WordNetLemmatizer()"
   ]
  },
  {
   "cell_type": "code",
   "execution_count": 12,
   "metadata": {},
   "outputs": [],
   "source": [
    "def func_lem(x):\n",
    "    withhout_prep=x\n",
    "    pattern=re.sub(r\"[^A-Za-z0-9!@#\\$%\\^\\&\\*_\\-,\\.' ]\",' ' ,withhout_prep)\n",
    "    split=pattern.split()\n",
    "    lemm=[lemmatizer.lemmatize(w) for w in split]\n",
    "    out=\" \".join(lemm)\n",
    "    return out"
   ]
  },
  {
   "cell_type": "code",
   "execution_count": 13,
   "metadata": {},
   "outputs": [],
   "source": [
    "lemm_text=pd.Series(corpus).apply(lambda x: func_lem(x))"
   ]
  },
  {
   "cell_type": "markdown",
   "metadata": {},
   "source": [
    "Посчитаем сколько слов в каждом коментарии"
   ]
  },
  {
   "cell_type": "code",
   "execution_count": 14,
   "metadata": {},
   "outputs": [],
   "source": [
    "def count_word(x):\n",
    "    withhout_prep=x\n",
    "    pattern=re.sub(r\"[^A-Za-z0-9!@#\\$%\\^\\&\\*_\\-,\\.' ]\",' ' ,withhout_prep)\n",
    "    split=pattern.split()\n",
    "    count=len(split)\n",
    "    return count"
   ]
  },
  {
   "cell_type": "code",
   "execution_count": 15,
   "metadata": {},
   "outputs": [],
   "source": [
    "count_word=pd.Series(corpus).apply(lambda x: count_word(x))"
   ]
  },
  {
   "cell_type": "markdown",
   "metadata": {},
   "source": [
    "И добавим это как новый признак"
   ]
  },
  {
   "cell_type": "code",
   "execution_count": 16,
   "metadata": {},
   "outputs": [
    {
     "data": {
      "text/html": [
       "<div>\n",
       "<style scoped>\n",
       "    .dataframe tbody tr th:only-of-type {\n",
       "        vertical-align: middle;\n",
       "    }\n",
       "\n",
       "    .dataframe tbody tr th {\n",
       "        vertical-align: top;\n",
       "    }\n",
       "\n",
       "    .dataframe thead th {\n",
       "        text-align: right;\n",
       "    }\n",
       "</style>\n",
       "<table border=\"1\" class=\"dataframe\">\n",
       "  <thead>\n",
       "    <tr style=\"text-align: right;\">\n",
       "      <th></th>\n",
       "      <th>toxic</th>\n",
       "      <th>text_lem</th>\n",
       "      <th>count_word</th>\n",
       "    </tr>\n",
       "  </thead>\n",
       "  <tbody>\n",
       "    <tr>\n",
       "      <td>0</td>\n",
       "      <td>0</td>\n",
       "      <td>Explanation Why the edits made under my userna...</td>\n",
       "      <td>43</td>\n",
       "    </tr>\n",
       "    <tr>\n",
       "      <td>1</td>\n",
       "      <td>0</td>\n",
       "      <td>D'aww! He match this background colour I'm see...</td>\n",
       "      <td>18</td>\n",
       "    </tr>\n",
       "  </tbody>\n",
       "</table>\n",
       "</div>"
      ],
      "text/plain": [
       "   toxic                                           text_lem  count_word\n",
       "0      0  Explanation Why the edits made under my userna...          43\n",
       "1      0  D'aww! He match this background colour I'm see...          18"
      ]
     },
     "execution_count": 16,
     "metadata": {},
     "output_type": "execute_result"
    }
   ],
   "source": [
    "\n",
    "data_for_learn=pd.DataFrame({'toxic':data_for_preprocessing['toxic'],'text_lem':lemm_text,'count_word':count_word})\n",
    "data_for_learn.head(2)"
   ]
  },
  {
   "cell_type": "markdown",
   "metadata": {},
   "source": [
    "### Проверка гиппотезы"
   ]
  },
  {
   "cell_type": "markdown",
   "metadata": {},
   "source": [
    "Рассмотрим сколько слов  в токсичном коментарии"
   ]
  },
  {
   "cell_type": "code",
   "execution_count": 17,
   "metadata": {},
   "outputs": [
    {
     "data": {
      "text/plain": [
       "count    15252.000000\n",
       "mean        53.365854\n",
       "std        108.423535\n",
       "min          2.000000\n",
       "25%         11.000000\n",
       "50%         23.000000\n",
       "75%         51.000000\n",
       "max       1403.000000\n",
       "Name: count_word, dtype: float64"
      ]
     },
     "execution_count": 17,
     "metadata": {},
     "output_type": "execute_result"
    }
   ],
   "source": [
    "data_for_learn.query('toxic==1')['count_word'].describe()"
   ]
  },
  {
   "cell_type": "markdown",
   "metadata": {},
   "source": [
    "В токсичных коментариях преобладают короткие сообщения. Поэтому выдвеним такую гиппотезу:  средняя длина токсичного коментария меньше 70. Где нулевая теория будет: Средняя длина = 70, а альтернативная меньше 70"
   ]
  },
  {
   "cell_type": "code",
   "execution_count": 18,
   "metadata": {},
   "outputs": [
    {
     "name": "stdout",
     "output_type": "stream",
     "text": [
      "p-значение:  1.8929265575784114e-79\n",
      "Отвергаем нулевую гипотезу\n"
     ]
    }
   ],
   "source": [
    "tox = data_for_learn.query('toxic==1')['count_word']\n",
    "\n",
    "mean_word_in_tox = 70\n",
    "\n",
    "alpha = .05 \n",
    "\n",
    "results = st.ttest_1samp(\n",
    "    tox, \n",
    "    mean_word_in_tox)\n",
    "\n",
    "print('p-значение: ', results.pvalue / 2)\n",
    "\n",
    "# тест односторонний влево:\n",
    "# отвергаем гипотезу только если выборочное среднее значимо меньше предполагаемого значения\n",
    "if (results.pvalue / 2 < alpha) and (tox.mean() < mean_word_in_tox):\n",
    "    print(\"Отвергаем нулевую гипотезу\")\n",
    "else:\n",
    "    print(\"Не получилось отвергнуть нулевую гипотезу\") "
   ]
  },
  {
   "cell_type": "markdown",
   "metadata": {},
   "source": [
    "Следовательно отвегаем нулевую теорию, и предполгаем, что длина токсичного коментария меньше 70 слов."
   ]
  },
  {
   "cell_type": "code",
   "execution_count": 19,
   "metadata": {},
   "outputs": [
    {
     "name": "stdout",
     "output_type": "stream",
     "text": [
      "<class 'pandas.core.frame.DataFrame'>\n",
      "Int64Index: 108760 entries, 0 to 149570\n",
      "Data columns (total 3 columns):\n",
      "toxic         108760 non-null int64\n",
      "text_lem      108760 non-null object\n",
      "count_word    108760 non-null int64\n",
      "dtypes: int64(2), object(1)\n",
      "memory usage: 3.3+ MB\n"
     ]
    }
   ],
   "source": [
    "data_for_learn=data_for_learn.query('count_word<70')\n",
    "data_for_learn.info()"
   ]
  },
  {
   "cell_type": "code",
   "execution_count": 20,
   "metadata": {},
   "outputs": [
    {
     "data": {
      "text/html": [
       "<div>\n",
       "<style scoped>\n",
       "    .dataframe tbody tr th:only-of-type {\n",
       "        vertical-align: middle;\n",
       "    }\n",
       "\n",
       "    .dataframe tbody tr th {\n",
       "        vertical-align: top;\n",
       "    }\n",
       "\n",
       "    .dataframe thead th {\n",
       "        text-align: right;\n",
       "    }\n",
       "</style>\n",
       "<table border=\"1\" class=\"dataframe\">\n",
       "  <thead>\n",
       "    <tr style=\"text-align: right;\">\n",
       "      <th></th>\n",
       "      <th>toxic</th>\n",
       "      <th>text_lem</th>\n",
       "      <th>count_word</th>\n",
       "    </tr>\n",
       "  </thead>\n",
       "  <tbody>\n",
       "    <tr>\n",
       "      <td>0</td>\n",
       "      <td>0</td>\n",
       "      <td>Explanation Why the edits made under my userna...</td>\n",
       "      <td>43</td>\n",
       "    </tr>\n",
       "    <tr>\n",
       "      <td>1</td>\n",
       "      <td>0</td>\n",
       "      <td>D'aww! He match this background colour I'm see...</td>\n",
       "      <td>18</td>\n",
       "    </tr>\n",
       "  </tbody>\n",
       "</table>\n",
       "</div>"
      ],
      "text/plain": [
       "   toxic                                           text_lem  count_word\n",
       "0      0  Explanation Why the edits made under my userna...          43\n",
       "1      0  D'aww! He match this background colour I'm see...          18"
      ]
     },
     "execution_count": 20,
     "metadata": {},
     "output_type": "execute_result"
    }
   ],
   "source": [
    "data_for_learn.head(2)"
   ]
  },
  {
   "cell_type": "markdown",
   "metadata": {},
   "source": [
    "Данные готовы к подготвке целевого признака и фичей"
   ]
  },
  {
   "cell_type": "markdown",
   "metadata": {},
   "source": [
    "### Подготовка целевого признака и фичей"
   ]
  },
  {
   "cell_type": "markdown",
   "metadata": {},
   "source": [
    "Разделим данные на фичи и целевой признак"
   ]
  },
  {
   "cell_type": "code",
   "execution_count": 21,
   "metadata": {},
   "outputs": [],
   "source": [
    "\n",
    "features=data_for_learn.drop('toxic', axis=1)\n",
    "target=data_for_learn['toxic']"
   ]
  },
  {
   "cell_type": "markdown",
   "metadata": {},
   "source": [
    "Разделим данные на тренировочную и тестовую выборку в соотношении 80/20"
   ]
  },
  {
   "cell_type": "code",
   "execution_count": 22,
   "metadata": {},
   "outputs": [],
   "source": [
    "features_train,features_test,target_train,target_test=(train_test_split(\n",
    "features, target, test_size=0.2, random_state=42,stratify=target))\n",
    "\n"
   ]
  },
  {
   "cell_type": "markdown",
   "metadata": {},
   "source": [
    "Данные разбиты "
   ]
  },
  {
   "cell_type": "markdown",
   "metadata": {},
   "source": [
    "### Итог"
   ]
  },
  {
   "cell_type": "markdown",
   "metadata": {},
   "source": [
    "Данные подготовлены теперь можно переходить к обучению"
   ]
  },
  {
   "cell_type": "markdown",
   "metadata": {},
   "source": [
    "## Обучение"
   ]
  },
  {
   "cell_type": "markdown",
   "metadata": {},
   "source": [
    "### подготовка pipeline"
   ]
  },
  {
   "cell_type": "markdown",
   "metadata": {},
   "source": [
    "создавать признаки будем с помощью tfidf преобразования, поэтому необходимо создать стоп слова"
   ]
  },
  {
   "cell_type": "code",
   "execution_count": 23,
   "metadata": {},
   "outputs": [],
   "source": [
    "#nltk.download('stopwords')\n",
    "stop_words = set(stopwords.words(\"english\"))"
   ]
  },
  {
   "cell_type": "markdown",
   "metadata": {},
   "source": [
    "Создадим pipeline в которых шаги можно описать так: трансформацию с помощью TfidfVectorizer, а затем уже одна из трех моделей(логистическая регрессия, случайные деревья и lgbmclassificator). Также будем выбирать исходя из upsampling и downsampling"
   ]
  },
  {
   "cell_type": "code",
   "execution_count": 24,
   "metadata": {},
   "outputs": [],
   "source": [
    "column_trans = ColumnTransformer([\n",
    "    ('text_trans',TfidfVectorizer(stop_words=stop_words,min_df=0.0001,ngram_range=(1,1)),'text_lem')\n",
    "])"
   ]
  },
  {
   "cell_type": "markdown",
   "metadata": {},
   "source": [
    "Pipeline загружен из библиотеки imbalanced, реалтзованной для дисбаланса классов. "
   ]
  },
  {
   "cell_type": "code",
   "execution_count": 25,
   "metadata": {},
   "outputs": [],
   "source": [
    "#линейная регрессия\n",
    "pipe_lr_upsampling=(\n",
    "    Pipeline([('tfidf',\n",
    " column_trans),\n",
    "              ('upsampling',\n",
    "SMOTE(random_state=42)),\n",
    "               ('est',\n",
    "LogisticRegression(random_state=42,class_weight='balanced',solver='liblinear'))])\n",
    "              )"
   ]
  },
  {
   "cell_type": "code",
   "execution_count": 26,
   "metadata": {},
   "outputs": [],
   "source": [
    "#линейная регрессия\n",
    "pipe_lr_downsampling=(\n",
    "    Pipeline([('tfidf',\n",
    "column_trans),\n",
    "              ('downsampling',\n",
    "RandomUnderSampler(sampling_strategy=0.5)),\n",
    "               ('est',\n",
    "LogisticRegression(random_state=42,class_weight='balanced',solver='liblinear'))])\n",
    "              )"
   ]
  },
  {
   "cell_type": "code",
   "execution_count": null,
   "metadata": {},
   "outputs": [],
   "source": []
  },
  {
   "cell_type": "code",
   "execution_count": 27,
   "metadata": {},
   "outputs": [],
   "source": [
    "#случайный деревья\n",
    "pipe_rf_upsampling=(\n",
    "    Pipeline([('tfidf',\n",
    " column_trans),\n",
    "              ('upsampling',\n",
    "SMOTE(random_state=42)),\n",
    "               ('estrf',\n",
    "RandomForestClassifier(random_state=42))])\n",
    "              )"
   ]
  },
  {
   "cell_type": "code",
   "execution_count": 28,
   "metadata": {},
   "outputs": [],
   "source": [
    "#случайный деревья\n",
    "pipe_rf_downsampling=(\n",
    "    Pipeline([('tfidf',\n",
    " column_trans),\n",
    "              ('downsampling',\n",
    "RandomUnderSampler(sampling_strategy=0.5)),\n",
    "               ('estrf',\n",
    "RandomForestClassifier(random_state=42))])\n",
    "              )"
   ]
  },
  {
   "cell_type": "code",
   "execution_count": null,
   "metadata": {},
   "outputs": [],
   "source": []
  },
  {
   "cell_type": "code",
   "execution_count": 29,
   "metadata": {},
   "outputs": [],
   "source": [
    "# lgbm\n",
    "pipe_lgbm_upsampling=(\n",
    "    Pipeline([('tfidf',\n",
    " column_trans),\n",
    "              ('upsampling',\n",
    "SMOTE(random_state=42)),\n",
    "               ('lgbm',\n",
    "lgb.LGBMClassifier(boosting_type='gbdt', objective='binary', class_weight = 'balanced',learning_rate=0.05))])\n",
    "              )"
   ]
  },
  {
   "cell_type": "code",
   "execution_count": 30,
   "metadata": {},
   "outputs": [],
   "source": [
    "# lgbm\n",
    "pipe_lgbm_downsampling=(\n",
    "    Pipeline([('tfidf',\n",
    " column_trans),\n",
    "              ('downsampling',\n",
    "RandomUnderSampler(sampling_strategy=0.5)),\n",
    "               ('lgbm',\n",
    "lgb.LGBMClassifier(boosting_type='gbdt', objective='binary', class_weight = 'balanced',learning_rate=0.05))])\n",
    "              )"
   ]
  },
  {
   "cell_type": "markdown",
   "metadata": {},
   "source": [
    "Наилучшую модель будем искать с помощью кроссвалидации"
   ]
  },
  {
   "cell_type": "markdown",
   "metadata": {},
   "source": [
    "### GridsearchCV"
   ]
  },
  {
   "cell_type": "markdown",
   "metadata": {},
   "source": [
    "Создадим функцию которая возвращает наилучший pipeline"
   ]
  },
  {
   "cell_type": "code",
   "execution_count": 31,
   "metadata": {
    "scrolled": true
   },
   "outputs": [],
   "source": [
    "def func_gs(pip,param,features,target):\n",
    "    kf = KFold(n_splits=5, random_state=42, shuffle=True)\n",
    "    gs=GridSearchCV(estimator=pip,param_grid=param,cv=kf,scoring='f1')\n",
    "    gs.fit(features,target)\n",
    "    print(f1_score(target,gs.best_estimator_.predict(features)))\n",
    "    print(f1_score(target_test,gs.best_estimator_.predict(features_test)))\n",
    "    return gs.best_estimator_"
   ]
  },
  {
   "cell_type": "markdown",
   "metadata": {},
   "source": [
    "обозначим парметры которые будут подбираться для каждой из моделей"
   ]
  },
  {
   "cell_type": "code",
   "execution_count": 32,
   "metadata": {},
   "outputs": [],
   "source": [
    "#логистическая регрессия: здесь я проводил на таких гипперпарамеьрах, однако для того, \n",
    "#что бы быстрее прогружать тетрадку я их закоментил и оставли только наилучший вариант\n",
    "#param_lr={'est__max_iter':[30,50,75,100],'tfidf__ngram_range':[(1,1),(2,2),(1,3)]}\n",
    "#param_lr={'est__max_iter':[100],'tfidf__ngram_range':[(1,1)]}\n",
    "param_lr={'est__max_iter':[30,50,75,100]}"
   ]
  },
  {
   "cell_type": "code",
   "execution_count": 33,
   "metadata": {},
   "outputs": [],
   "source": [
    "param_rf={'estrf__n_estimators':[75,100],\n",
    "          'estrf__max_depth':[30,50],\n",
    "          'tfidf__ngram_range':[(1,1),(2,2)],\n",
    "          \n",
    "         }"
   ]
  },
  {
   "cell_type": "code",
   "execution_count": 34,
   "metadata": {},
   "outputs": [],
   "source": [
    "# Здесь я поступил точно также\n",
    "# param_lgbm={'lgbm__n_estimators':[100,500],\n",
    "#            'lgbm__max_depth':[10,30,50]}\n",
    "param_lgbm={'lgbm__n_estimators':[500],\n",
    "            'lgbm__max_depth':[10,30,50]}"
   ]
  },
  {
   "cell_type": "markdown",
   "metadata": {},
   "source": [
    "### Обучение"
   ]
  },
  {
   "cell_type": "code",
   "execution_count": 35,
   "metadata": {},
   "outputs": [
    {
     "name": "stdout",
     "output_type": "stream",
     "text": [
      "0.7490583410061102\n",
      "0.6893865628042843\n"
     ]
    }
   ],
   "source": [
    "#данная подборка давал плохой рещультат, поэтому я его закоментил и дальше не стал пускать\n",
    "lr_up=func_gs(pipe_lr_upsampling,param_lr,features_train,target_train)"
   ]
  },
  {
   "cell_type": "code",
   "execution_count": 36,
   "metadata": {},
   "outputs": [
    {
     "name": "stdout",
     "output_type": "stream",
     "text": [
      "0.7776318576572758\n",
      "0.7343617562298694\n"
     ]
    }
   ],
   "source": [
    "lr_dw=func_gs(pipe_lr_downsampling,param_lr,features_train,target_train)"
   ]
  },
  {
   "cell_type": "code",
   "execution_count": 37,
   "metadata": {},
   "outputs": [],
   "source": [
    "#случайные деревья таже себя повели плохо, поэтому для ускорения процесса я их не запускаю\n",
    "#rf_up=func_gs(pipe_rf_upsampling,param_rf,features_train,target_train)"
   ]
  },
  {
   "cell_type": "code",
   "execution_count": 38,
   "metadata": {},
   "outputs": [],
   "source": [
    "#rf_dw=func_gs(pipe_rf_downsampling,param_rf,features_train,target_train)\n"
   ]
  },
  {
   "cell_type": "code",
   "execution_count": 39,
   "metadata": {},
   "outputs": [],
   "source": [
    "#upsampling для lgbm оказался неудачным и очень длительным, пожтому я также его закоментил\n",
    "#lgbm_up=func_gs(pipe_lgbm_upsampling,param_lgbm,features_train,target_train)"
   ]
  },
  {
   "cell_type": "code",
   "execution_count": 40,
   "metadata": {},
   "outputs": [
    {
     "name": "stdout",
     "output_type": "stream",
     "text": [
      "0.8003967504250898\n",
      "0.7610287216069083\n"
     ]
    }
   ],
   "source": [
    "lgbm_dw=func_gs(pipe_lgbm_downsampling,param_lgbm,features_train,target_train)"
   ]
  },
  {
   "cell_type": "markdown",
   "metadata": {},
   "source": [
    "### Итоги обучения"
   ]
  },
  {
   "cell_type": "markdown",
   "metadata": {},
   "source": [
    "Создаим сводную таблицу куда будем вносить все измеренные значения"
   ]
  },
  {
   "cell_type": "code",
   "execution_count": 41,
   "metadata": {},
   "outputs": [],
   "source": [
    "table=pd.DataFrame(columns=['модель','f1 тренировка','f1 тест','время предсказания'])\n"
   ]
  },
  {
   "cell_type": "code",
   "execution_count": 42,
   "metadata": {},
   "outputs": [],
   "source": [
    "def full_table(pipe,model):\n",
    "    start_time=timeit.default_timer()\n",
    "    pred=pipe.predict(features_test)\n",
    "    time_predict=timeit.default_timer()-start_time\n",
    "    f1_train=f1_score(target,pipe.predict(features))\n",
    "    f1_test=f1_score(target_test,pred)\n",
    "    return [model,f1_train,f1_test,time_predict]\n",
    "    "
   ]
  },
  {
   "cell_type": "code",
   "execution_count": 43,
   "metadata": {},
   "outputs": [],
   "source": [
    "a=pd.Series(full_table(lr_up,'логистическая up'))\n",
    "table=table.append({'модель':a[0],\n",
    "                 'f1 тренировка':a[1],\n",
    "                 'f1 тест':a[2],\n",
    "                    'время предсказания':a[3]\n",
    "                   },\n",
    "                  ignore_index=True)\n"
   ]
  },
  {
   "cell_type": "code",
   "execution_count": 44,
   "metadata": {},
   "outputs": [],
   "source": [
    "a=pd.Series(full_table(lr_dw,'логистическая dw'))\n",
    "table=table.append({'модель':a[0],\n",
    "                 'f1 тренировка':a[1],\n",
    "                 'f1 тест':a[2],\n",
    "                    'время предсказания':a[3]\n",
    "                   },\n",
    "                  ignore_index=True)"
   ]
  },
  {
   "cell_type": "code",
   "execution_count": 45,
   "metadata": {},
   "outputs": [],
   "source": [
    "# a=pd.Series(full_table(rf_up,'случайные деревья up'))\n",
    "# table=table.append({'модель':a[0],\n",
    "#                  'f1 тренировка':a[1],\n",
    "#                  'f1 тест':a[2],\n",
    "#                     'время предсказания':a[3]\n",
    "#                    },\n",
    "#                   ignore_index=True)\n"
   ]
  },
  {
   "cell_type": "code",
   "execution_count": 46,
   "metadata": {},
   "outputs": [],
   "source": [
    "# a=pd.Series(full_table(rf_dw,'случайные деревья dw'))\n",
    "# table=table.append({'модель':a[0],\n",
    "#                  'f1 тренировка':a[1],\n",
    "#                  'f1 тест':a[2],\n",
    "#                     'время предсказания':a[3]\n",
    "#                    },\n",
    "#                   ignore_index=True)\n"
   ]
  },
  {
   "cell_type": "code",
   "execution_count": 47,
   "metadata": {
    "scrolled": true
   },
   "outputs": [],
   "source": [
    "# a=pd.Series(full_table(lgbm_up,'lgbm up'))\n",
    "# table=table.append({'модель':a[0],\n",
    "#                  'f1 тренировка':a[1],\n",
    "#                  'f1 тест':a[2],\n",
    "#                     'время предсказания':a[3]\n",
    "#                    },\n",
    "#                   ignore_index=True)\n"
   ]
  },
  {
   "cell_type": "code",
   "execution_count": 48,
   "metadata": {},
   "outputs": [],
   "source": [
    "a=pd.Series(full_table(lgbm_dw,'lgbm dw'))\n",
    "table=table.append({'модель':a[0],\n",
    "                 'f1 тренировка':a[1],\n",
    "                 'f1 тест':a[2],\n",
    "                    'время предсказания':a[3]\n",
    "                   },\n",
    "                  ignore_index=True)\n"
   ]
  },
  {
   "cell_type": "code",
   "execution_count": 49,
   "metadata": {
    "scrolled": true
   },
   "outputs": [
    {
     "data": {
      "text/html": [
       "<div>\n",
       "<style scoped>\n",
       "    .dataframe tbody tr th:only-of-type {\n",
       "        vertical-align: middle;\n",
       "    }\n",
       "\n",
       "    .dataframe tbody tr th {\n",
       "        vertical-align: top;\n",
       "    }\n",
       "\n",
       "    .dataframe thead th {\n",
       "        text-align: right;\n",
       "    }\n",
       "</style>\n",
       "<table border=\"1\" class=\"dataframe\">\n",
       "  <thead>\n",
       "    <tr style=\"text-align: right;\">\n",
       "      <th></th>\n",
       "      <th>модель</th>\n",
       "      <th>f1 тренировка</th>\n",
       "      <th>f1 тест</th>\n",
       "      <th>время предсказания</th>\n",
       "    </tr>\n",
       "  </thead>\n",
       "  <tbody>\n",
       "    <tr>\n",
       "      <td>0</td>\n",
       "      <td>логистическая up</td>\n",
       "      <td>0.736825</td>\n",
       "      <td>0.689387</td>\n",
       "      <td>0.728063</td>\n",
       "    </tr>\n",
       "    <tr>\n",
       "      <td>1</td>\n",
       "      <td>логистическая dw</td>\n",
       "      <td>0.768980</td>\n",
       "      <td>0.734362</td>\n",
       "      <td>0.655876</td>\n",
       "    </tr>\n",
       "    <tr>\n",
       "      <td>2</td>\n",
       "      <td>lgbm dw</td>\n",
       "      <td>0.792483</td>\n",
       "      <td>0.761029</td>\n",
       "      <td>3.129592</td>\n",
       "    </tr>\n",
       "  </tbody>\n",
       "</table>\n",
       "</div>"
      ],
      "text/plain": [
       "             модель  f1 тренировка   f1 тест  время предсказания\n",
       "0  логистическая up       0.736825  0.689387            0.728063\n",
       "1  логистическая dw       0.768980  0.734362            0.655876\n",
       "2           lgbm dw       0.792483  0.761029            3.129592"
      ]
     },
     "execution_count": 49,
     "metadata": {},
     "output_type": "execute_result"
    }
   ],
   "source": [
    "table"
   ]
  },
  {
   "cell_type": "markdown",
   "metadata": {},
   "source": [
    "## Выводы"
   ]
  },
  {
   "cell_type": "markdown",
   "metadata": {},
   "source": [
    "Задача по поиску необходимой модели была выполнена  на модели логистической регрессия с метрикой качества f1=0.75\n",
    "\n",
    "Предобработка данных:\n",
    "\n",
    "На первом этапе было изъято около 1000 объектов, так как они каким то образом разрушали ядро и не давали произвести вычисления.\n",
    "на следующем этапе был произведена лемматизация, в результате которой удалось вычесть количество слов в каждом  коментарии. Данная процедура позволила вынести теорию о том, что средняя длина негативного комената меньше 70 слов. Данную теорию подвердили и удалили все коментарии длиннее этого значения.\n",
    "\n",
    "Также присутвовал дисбаланс классов. Решение этой проблемы было проведено путем upsampling и downsampling.\n",
    "\n",
    "Обучение:\n",
    "\n",
    "Для обучения использовались три модели: логистическая регрессия, случайные деревья и lgbm. в результате обучения наихудшее параметры показали случанын деревья. Наилучашая модель lgbm.\n",
    "\n",
    "Стоит отметить, что одним из параметров во всех моделях была количесвто n-gramm. и у всех моделей наилучшее значения достигали при n-gramm=1 слово. Таким образом можно сказать, что модели реагируют на одни конкретные слова, не вникая в смысл.\n",
    "\n"
   ]
  }
 ],
 "metadata": {
  "ExecuteTimeLog": [
   {
    "duration": 345,
    "start_time": "2021-07-28T18:25:41.677Z"
   },
   {
    "duration": 686,
    "start_time": "2021-07-28T18:26:02.092Z"
   },
   {
    "duration": 1744,
    "start_time": "2021-07-28T18:26:05.208Z"
   },
   {
    "duration": 1756,
    "start_time": "2021-07-28T18:26:16.233Z"
   },
   {
    "duration": 1960,
    "start_time": "2021-07-28T18:26:31.484Z"
   },
   {
    "duration": 1875,
    "start_time": "2021-07-28T18:27:46.198Z"
   },
   {
    "duration": 749,
    "start_time": "2021-07-28T18:28:15.489Z"
   },
   {
    "duration": 90,
    "start_time": "2021-07-28T18:28:22.880Z"
   },
   {
    "duration": 781,
    "start_time": "2021-07-28T18:28:25.670Z"
   },
   {
    "duration": 737,
    "start_time": "2021-07-28T18:28:31.200Z"
   },
   {
    "duration": 33,
    "start_time": "2021-07-28T18:39:02.744Z"
   },
   {
    "duration": 92,
    "start_time": "2021-07-28T19:02:22.638Z"
   },
   {
    "duration": 364,
    "start_time": "2021-07-28T19:03:19.392Z"
   },
   {
    "duration": 100,
    "start_time": "2021-07-28T19:03:38.056Z"
   },
   {
    "duration": 12,
    "start_time": "2021-07-28T19:05:09.637Z"
   },
   {
    "duration": 5,
    "start_time": "2021-07-28T19:16:35.222Z"
   },
   {
    "duration": 8,
    "start_time": "2021-07-28T19:16:45.847Z"
   },
   {
    "duration": 3,
    "start_time": "2021-07-28T19:16:56.151Z"
   },
   {
    "duration": 6470,
    "start_time": "2021-07-28T19:17:21.232Z"
   },
   {
    "duration": 6793,
    "start_time": "2021-07-28T19:17:39.912Z"
   },
   {
    "duration": 2876,
    "start_time": "2021-07-28T19:18:20.895Z"
   },
   {
    "duration": 6,
    "start_time": "2021-07-28T19:18:31.698Z"
   },
   {
    "duration": 1060,
    "start_time": "2021-07-28T19:18:57.981Z"
   },
   {
    "duration": 6,
    "start_time": "2021-07-28T19:19:18.029Z"
   },
   {
    "duration": 6,
    "start_time": "2021-07-28T19:19:46.701Z"
   },
   {
    "duration": 491,
    "start_time": "2021-07-28T19:24:24.096Z"
   },
   {
    "duration": 1611,
    "start_time": "2021-07-29T18:32:00.847Z"
   },
   {
    "duration": 10359,
    "start_time": "2021-07-29T18:32:05.679Z"
   },
   {
    "duration": 34,
    "start_time": "2021-07-29T18:32:19.876Z"
   },
   {
    "duration": 280,
    "start_time": "2021-07-29T18:32:22.208Z"
   },
   {
    "duration": 9,
    "start_time": "2021-07-29T18:32:25.305Z"
   },
   {
    "duration": 2833,
    "start_time": "2021-07-29T18:32:28.955Z"
   },
   {
    "duration": 11,
    "start_time": "2021-07-29T18:32:42.181Z"
   },
   {
    "duration": 2003,
    "start_time": "2021-07-29T18:32:57.007Z"
   },
   {
    "duration": 6,
    "start_time": "2021-07-29T18:33:03.816Z"
   },
   {
    "duration": 4,
    "start_time": "2021-07-29T18:34:26.569Z"
   },
   {
    "duration": 4,
    "start_time": "2021-07-29T18:34:45.949Z"
   },
   {
    "duration": 5,
    "start_time": "2021-07-29T18:35:01.858Z"
   },
   {
    "duration": 5,
    "start_time": "2021-07-29T18:35:59.640Z"
   },
   {
    "duration": 6,
    "start_time": "2021-07-29T18:36:16.941Z"
   },
   {
    "duration": 5,
    "start_time": "2021-07-29T18:36:33.453Z"
   },
   {
    "duration": 5,
    "start_time": "2021-07-29T18:36:46.318Z"
   },
   {
    "duration": 5,
    "start_time": "2021-07-29T18:36:54.333Z"
   },
   {
    "duration": 5,
    "start_time": "2021-07-29T18:37:22.328Z"
   },
   {
    "duration": 6,
    "start_time": "2021-07-29T18:37:29.960Z"
   },
   {
    "duration": 5,
    "start_time": "2021-07-29T18:37:45.104Z"
   },
   {
    "duration": 5,
    "start_time": "2021-07-29T18:45:44.340Z"
   },
   {
    "duration": 1070,
    "start_time": "2021-07-29T18:46:30.447Z"
   },
   {
    "duration": 4,
    "start_time": "2021-07-29T19:29:48.371Z"
   },
   {
    "duration": 162,
    "start_time": "2021-07-29T19:43:02.968Z"
   },
   {
    "duration": 116,
    "start_time": "2021-07-29T19:43:43.288Z"
   },
   {
    "duration": 123,
    "start_time": "2021-07-29T19:43:51.561Z"
   },
   {
    "duration": 116,
    "start_time": "2021-07-29T19:43:56.425Z"
   },
   {
    "duration": 120,
    "start_time": "2021-07-29T19:44:22.386Z"
   },
   {
    "duration": 7,
    "start_time": "2021-07-29T19:44:32.772Z"
   },
   {
    "duration": 5,
    "start_time": "2021-07-29T19:44:45.803Z"
   },
   {
    "duration": 5,
    "start_time": "2021-07-29T19:45:11.781Z"
   },
   {
    "duration": 5,
    "start_time": "2021-07-29T19:45:26.325Z"
   },
   {
    "duration": 5,
    "start_time": "2021-07-29T19:46:14.878Z"
   },
   {
    "duration": 5,
    "start_time": "2021-07-29T19:46:59.705Z"
   },
   {
    "duration": 1431,
    "start_time": "2021-07-30T18:08:37.545Z"
   },
   {
    "duration": 729,
    "start_time": "2021-07-30T18:08:41.714Z"
   },
   {
    "duration": 32,
    "start_time": "2021-07-30T18:08:47.445Z"
   },
   {
    "duration": 264,
    "start_time": "2021-07-30T18:08:48.836Z"
   },
   {
    "duration": 9,
    "start_time": "2021-07-30T18:08:52.684Z"
   },
   {
    "duration": 2716,
    "start_time": "2021-07-30T18:09:14.923Z"
   },
   {
    "duration": 7,
    "start_time": "2021-07-30T18:09:20.907Z"
   },
   {
    "duration": 1848,
    "start_time": "2021-07-30T18:09:34.468Z"
   },
   {
    "duration": 7,
    "start_time": "2021-07-30T18:09:52.755Z"
   },
   {
    "duration": 5,
    "start_time": "2021-07-30T18:10:39.779Z"
   },
   {
    "duration": 5,
    "start_time": "2021-07-30T18:10:59.245Z"
   },
   {
    "duration": 5,
    "start_time": "2021-07-30T18:11:15.606Z"
   },
   {
    "duration": 5,
    "start_time": "2021-07-30T18:11:27.182Z"
   },
   {
    "duration": 96,
    "start_time": "2021-07-30T18:12:05.307Z"
   },
   {
    "duration": 5,
    "start_time": "2021-07-30T18:12:14.828Z"
   },
   {
    "duration": 87,
    "start_time": "2021-07-30T18:17:12.109Z"
   },
   {
    "duration": 1029,
    "start_time": "2021-07-30T18:17:18.738Z"
   },
   {
    "duration": 7,
    "start_time": "2021-07-30T18:17:54.208Z"
   },
   {
    "duration": 276,
    "start_time": "2021-07-30T18:18:40.576Z"
   },
   {
    "duration": 7,
    "start_time": "2021-07-30T18:21:26.871Z"
   },
   {
    "duration": 6,
    "start_time": "2021-07-30T18:22:50.699Z"
   },
   {
    "duration": 6,
    "start_time": "2021-07-30T18:23:37.595Z"
   },
   {
    "duration": 5,
    "start_time": "2021-07-30T19:26:55.592Z"
   },
   {
    "duration": 379,
    "start_time": "2021-07-30T19:27:20.031Z"
   },
   {
    "duration": 22118,
    "start_time": "2021-07-30T19:27:53.791Z"
   },
   {
    "duration": 7,
    "start_time": "2021-07-30T19:28:33.790Z"
   },
   {
    "duration": 8,
    "start_time": "2021-07-30T19:28:41.423Z"
   },
   {
    "duration": 11,
    "start_time": "2021-07-30T19:28:57.590Z"
   },
   {
    "duration": 4,
    "start_time": "2021-07-30T19:30:48.047Z"
   },
   {
    "duration": 1569,
    "start_time": "2021-07-30T19:30:53.508Z"
   },
   {
    "duration": 5,
    "start_time": "2021-07-30T19:31:32.674Z"
   },
   {
    "duration": 12,
    "start_time": "2021-07-30T19:31:36.380Z"
   },
   {
    "duration": 7,
    "start_time": "2021-07-30T19:32:05.541Z"
   },
   {
    "duration": 7,
    "start_time": "2021-07-30T19:38:58.687Z"
   },
   {
    "duration": 93,
    "start_time": "2021-07-30T19:40:23.371Z"
   },
   {
    "duration": 13,
    "start_time": "2021-07-30T19:41:13.219Z"
   },
   {
    "duration": 4,
    "start_time": "2021-07-30T19:41:24.646Z"
   },
   {
    "duration": 1507,
    "start_time": "2021-07-30T19:41:52.981Z"
   },
   {
    "duration": 740,
    "start_time": "2021-07-30T19:42:00.632Z"
   },
   {
    "duration": 34,
    "start_time": "2021-07-30T19:42:03.269Z"
   },
   {
    "duration": 271,
    "start_time": "2021-07-30T19:42:06.553Z"
   },
   {
    "duration": 10,
    "start_time": "2021-07-30T19:42:08.280Z"
   },
   {
    "duration": 4,
    "start_time": "2021-07-30T19:42:10.920Z"
   },
   {
    "duration": 2659,
    "start_time": "2021-07-30T19:42:12.528Z"
   },
   {
    "duration": 434,
    "start_time": "2021-07-30T19:42:27.527Z"
   },
   {
    "duration": 4,
    "start_time": "2021-07-30T19:42:31.816Z"
   },
   {
    "duration": 5,
    "start_time": "2021-07-30T19:42:34.467Z"
   },
   {
    "duration": 1857,
    "start_time": "2021-07-30T19:42:51.515Z"
   },
   {
    "duration": 7,
    "start_time": "2021-07-30T19:44:16.475Z"
   },
   {
    "duration": 18,
    "start_time": "2021-07-30T19:44:34.096Z"
   },
   {
    "duration": 195,
    "start_time": "2021-07-30T19:45:02.389Z"
   },
   {
    "duration": 4,
    "start_time": "2021-07-30T19:45:09.949Z"
   },
   {
    "duration": 1384,
    "start_time": "2021-07-30T19:45:22.799Z"
   },
   {
    "duration": 716,
    "start_time": "2021-07-30T19:45:26.214Z"
   },
   {
    "duration": 32,
    "start_time": "2021-07-30T19:45:28.799Z"
   },
   {
    "duration": 270,
    "start_time": "2021-07-30T19:45:31.200Z"
   },
   {
    "duration": 8,
    "start_time": "2021-07-30T19:45:34.466Z"
   },
   {
    "duration": 4,
    "start_time": "2021-07-30T19:45:37.285Z"
   },
   {
    "duration": 182,
    "start_time": "2021-07-30T19:45:40.024Z"
   },
   {
    "duration": 3,
    "start_time": "2021-07-30T19:45:41.165Z"
   },
   {
    "duration": 5,
    "start_time": "2021-07-30T19:45:44.319Z"
   },
   {
    "duration": 1881,
    "start_time": "2021-07-30T19:45:49.580Z"
   },
   {
    "duration": 474,
    "start_time": "2021-07-30T19:45:52.520Z"
   },
   {
    "duration": 3750,
    "start_time": "2021-07-30T19:46:17.259Z"
   },
   {
    "duration": 7,
    "start_time": "2021-07-30T19:46:26.542Z"
   },
   {
    "duration": 269,
    "start_time": "2021-07-30T19:46:30.592Z"
   },
   {
    "duration": 5,
    "start_time": "2021-07-30T19:46:56.262Z"
   },
   {
    "duration": 4,
    "start_time": "2021-07-30T19:48:12.170Z"
   },
   {
    "duration": 4,
    "start_time": "2021-07-30T19:48:37.860Z"
   },
   {
    "duration": 659,
    "start_time": "2021-07-30T19:49:24.823Z"
   },
   {
    "duration": 645,
    "start_time": "2021-07-30T19:49:33.324Z"
   },
   {
    "duration": 640,
    "start_time": "2021-07-30T19:49:38.734Z"
   },
   {
    "duration": 277,
    "start_time": "2021-07-30T19:50:01.607Z"
   },
   {
    "duration": 5,
    "start_time": "2021-07-30T19:50:06.051Z"
   },
   {
    "duration": 303,
    "start_time": "2021-07-30T19:50:34.938Z"
   },
   {
    "duration": 7,
    "start_time": "2021-07-30T19:51:20.892Z"
   },
   {
    "duration": 5,
    "start_time": "2021-07-30T19:51:28.292Z"
   },
   {
    "duration": 4,
    "start_time": "2021-07-30T19:55:19.054Z"
   },
   {
    "duration": 4,
    "start_time": "2021-07-30T19:57:20.424Z"
   },
   {
    "duration": 341,
    "start_time": "2021-07-30T19:59:25.060Z"
   },
   {
    "duration": 261,
    "start_time": "2021-07-30T19:59:58.336Z"
   },
   {
    "duration": 274,
    "start_time": "2021-07-30T20:02:37.474Z"
   },
   {
    "duration": 285,
    "start_time": "2021-07-30T20:02:55.284Z"
   },
   {
    "duration": 4,
    "start_time": "2021-07-30T20:03:16.204Z"
   },
   {
    "duration": 291,
    "start_time": "2021-07-30T20:03:23.288Z"
   },
   {
    "duration": 257,
    "start_time": "2021-07-30T20:04:25.462Z"
   },
   {
    "duration": 4,
    "start_time": "2021-07-30T20:05:53.760Z"
   },
   {
    "duration": 283,
    "start_time": "2021-07-30T20:05:58.670Z"
   },
   {
    "duration": 12,
    "start_time": "2021-07-30T20:06:06.276Z"
   },
   {
    "duration": 5,
    "start_time": "2021-07-30T20:06:15.375Z"
   },
   {
    "duration": 1611,
    "start_time": "2021-08-02T18:13:46.000Z"
   },
   {
    "duration": 774,
    "start_time": "2021-08-02T18:13:49.013Z"
   },
   {
    "duration": 33,
    "start_time": "2021-08-02T18:13:51.650Z"
   },
   {
    "duration": 286,
    "start_time": "2021-08-02T18:13:53.586Z"
   },
   {
    "duration": 9,
    "start_time": "2021-08-02T18:13:56.162Z"
   },
   {
    "duration": 4,
    "start_time": "2021-08-02T18:13:59.146Z"
   },
   {
    "duration": 184,
    "start_time": "2021-08-02T18:14:08.258Z"
   },
   {
    "duration": 4,
    "start_time": "2021-08-02T18:14:09.522Z"
   },
   {
    "duration": 5,
    "start_time": "2021-08-02T18:14:12.514Z"
   },
   {
    "duration": 6244,
    "start_time": "2021-08-02T18:14:20.323Z"
   },
   {
    "duration": 5,
    "start_time": "2021-08-02T18:15:49.703Z"
   },
   {
    "duration": 7,
    "start_time": "2021-08-02T18:16:03.119Z"
   },
   {
    "duration": 6,
    "start_time": "2021-08-02T18:16:44.328Z"
   },
   {
    "duration": 13,
    "start_time": "2021-08-02T18:17:39.258Z"
   },
   {
    "duration": 6071,
    "start_time": "2021-08-02T18:18:05.483Z"
   },
   {
    "duration": 14,
    "start_time": "2021-08-02T18:18:26.389Z"
   },
   {
    "duration": 5,
    "start_time": "2021-08-02T18:18:43.901Z"
   },
   {
    "duration": 5,
    "start_time": "2021-08-02T18:19:05.366Z"
   },
   {
    "duration": 9,
    "start_time": "2021-08-02T18:20:28.856Z"
   },
   {
    "duration": 10,
    "start_time": "2021-08-02T18:20:35.185Z"
   },
   {
    "duration": 9,
    "start_time": "2021-08-02T18:22:10.053Z"
   },
   {
    "duration": 9,
    "start_time": "2021-08-02T18:22:13.573Z"
   },
   {
    "duration": 10,
    "start_time": "2021-08-02T18:22:22.237Z"
   },
   {
    "duration": 10,
    "start_time": "2021-08-02T18:22:23.693Z"
   },
   {
    "duration": 6,
    "start_time": "2021-08-02T18:22:47.735Z"
   },
   {
    "duration": 8,
    "start_time": "2021-08-02T18:23:02.463Z"
   },
   {
    "duration": 9,
    "start_time": "2021-08-02T18:23:15.653Z"
   },
   {
    "duration": 8,
    "start_time": "2021-08-02T18:23:16.216Z"
   },
   {
    "duration": 6,
    "start_time": "2021-08-02T18:26:28.779Z"
   },
   {
    "duration": 12,
    "start_time": "2021-08-02T18:26:30.460Z"
   },
   {
    "duration": 6,
    "start_time": "2021-08-02T18:27:08.209Z"
   },
   {
    "duration": 14,
    "start_time": "2021-08-02T18:27:09.393Z"
   },
   {
    "duration": 4,
    "start_time": "2021-08-02T18:30:08.880Z"
   },
   {
    "duration": 7,
    "start_time": "2021-08-02T18:31:27.235Z"
   },
   {
    "duration": 214,
    "start_time": "2021-08-02T18:33:16.015Z"
   },
   {
    "duration": 1911,
    "start_time": "2021-08-02T18:34:05.913Z"
   },
   {
    "duration": 5,
    "start_time": "2021-08-02T18:34:25.113Z"
   },
   {
    "duration": 5,
    "start_time": "2021-08-02T18:35:04.995Z"
   },
   {
    "duration": 5,
    "start_time": "2021-08-02T18:37:21.760Z"
   },
   {
    "duration": 4766,
    "start_time": "2021-08-02T18:39:20.182Z"
   },
   {
    "duration": 3899,
    "start_time": "2021-08-02T18:39:44.070Z"
   },
   {
    "duration": 93,
    "start_time": "2021-08-02T18:40:52.345Z"
   },
   {
    "duration": 81,
    "start_time": "2021-08-02T18:40:57.016Z"
   },
   {
    "duration": 86,
    "start_time": "2021-08-02T18:41:12.320Z"
   },
   {
    "duration": 2775,
    "start_time": "2021-08-02T18:41:57.059Z"
   },
   {
    "duration": 5,
    "start_time": "2021-08-02T18:43:05.053Z"
   },
   {
    "duration": 26,
    "start_time": "2021-08-02T18:43:28.255Z"
   },
   {
    "duration": 69,
    "start_time": "2021-08-02T18:44:01.024Z"
   },
   {
    "duration": 22,
    "start_time": "2021-08-02T18:44:11.576Z"
   },
   {
    "duration": 8,
    "start_time": "2021-08-02T18:44:32.341Z"
   },
   {
    "duration": 23,
    "start_time": "2021-08-02T18:44:49.241Z"
   },
   {
    "duration": 3462,
    "start_time": "2021-08-02T18:45:13.451Z"
   },
   {
    "duration": 6,
    "start_time": "2021-08-02T19:03:25.550Z"
   },
   {
    "duration": 2755,
    "start_time": "2021-08-02T19:03:42.870Z"
   },
   {
    "duration": 249,
    "start_time": "2021-08-02T19:05:55.219Z"
   },
   {
    "duration": 2663,
    "start_time": "2021-08-02T19:07:07.277Z"
   },
   {
    "duration": 7,
    "start_time": "2021-08-02T19:11:20.118Z"
   },
   {
    "duration": 6,
    "start_time": "2021-08-02T19:18:15.670Z"
   },
   {
    "duration": 3178,
    "start_time": "2021-08-02T19:18:37.862Z"
   },
   {
    "duration": 263,
    "start_time": "2021-08-02T19:19:11.938Z"
   },
   {
    "duration": 263,
    "start_time": "2021-08-02T19:31:33.478Z"
   },
   {
    "duration": 2763,
    "start_time": "2021-08-02T19:31:36.765Z"
   },
   {
    "duration": 1159,
    "start_time": "2021-08-03T15:57:37.795Z"
   },
   {
    "duration": 650,
    "start_time": "2021-08-03T15:57:38.956Z"
   },
   {
    "duration": 24,
    "start_time": "2021-08-03T15:57:39.608Z"
   },
   {
    "duration": 234,
    "start_time": "2021-08-03T15:57:39.633Z"
   },
   {
    "duration": 6,
    "start_time": "2021-08-03T15:57:39.869Z"
   },
   {
    "duration": 57,
    "start_time": "2021-08-03T15:57:39.885Z"
   },
   {
    "duration": 253,
    "start_time": "2021-08-03T15:57:39.692Z"
   },
   {
    "duration": 252,
    "start_time": "2021-08-03T15:57:39.694Z"
   },
   {
    "duration": 252,
    "start_time": "2021-08-03T15:57:39.696Z"
   },
   {
    "duration": 252,
    "start_time": "2021-08-03T15:57:39.697Z"
   },
   {
    "duration": 247,
    "start_time": "2021-08-03T15:57:39.703Z"
   },
   {
    "duration": 247,
    "start_time": "2021-08-03T15:57:39.705Z"
   },
   {
    "duration": 245,
    "start_time": "2021-08-03T15:57:39.708Z"
   },
   {
    "duration": 246,
    "start_time": "2021-08-03T15:57:39.709Z"
   },
   {
    "duration": 245,
    "start_time": "2021-08-03T15:57:39.711Z"
   },
   {
    "duration": 241,
    "start_time": "2021-08-03T15:57:39.717Z"
   },
   {
    "duration": 240,
    "start_time": "2021-08-03T15:57:39.719Z"
   },
   {
    "duration": 239,
    "start_time": "2021-08-03T15:57:39.721Z"
   },
   {
    "duration": 240,
    "start_time": "2021-08-03T15:57:39.722Z"
   },
   {
    "duration": 233,
    "start_time": "2021-08-03T15:57:39.730Z"
   },
   {
    "duration": 233,
    "start_time": "2021-08-03T15:57:39.731Z"
   },
   {
    "duration": 233,
    "start_time": "2021-08-03T15:57:39.733Z"
   },
   {
    "duration": 3,
    "start_time": "2021-08-03T15:57:44.946Z"
   },
   {
    "duration": 3,
    "start_time": "2021-08-03T15:58:58.397Z"
   },
   {
    "duration": 5,
    "start_time": "2021-08-03T15:59:07.757Z"
   },
   {
    "duration": 151,
    "start_time": "2021-08-03T15:59:18.741Z"
   },
   {
    "duration": 4,
    "start_time": "2021-08-03T15:59:25.590Z"
   },
   {
    "duration": 3,
    "start_time": "2021-08-03T15:59:52.622Z"
   },
   {
    "duration": 3,
    "start_time": "2021-08-03T15:59:58.680Z"
   },
   {
    "duration": 3373,
    "start_time": "2021-08-03T16:01:11.482Z"
   },
   {
    "duration": 5,
    "start_time": "2021-08-03T16:01:15.954Z"
   },
   {
    "duration": 9,
    "start_time": "2021-08-03T16:01:22.724Z"
   },
   {
    "duration": 3,
    "start_time": "2021-08-03T16:01:29.234Z"
   },
   {
    "duration": 5,
    "start_time": "2021-08-03T16:01:58.612Z"
   },
   {
    "duration": 6,
    "start_time": "2021-08-03T16:02:27.092Z"
   },
   {
    "duration": 112,
    "start_time": "2021-08-03T16:10:21.615Z"
   },
   {
    "duration": 59,
    "start_time": "2021-08-03T16:11:51.466Z"
   },
   {
    "duration": 65,
    "start_time": "2021-08-03T16:12:59.102Z"
   },
   {
    "duration": 4,
    "start_time": "2021-08-03T16:15:12.243Z"
   },
   {
    "duration": 3890,
    "start_time": "2021-08-03T16:16:35.221Z"
   },
   {
    "duration": 3428,
    "start_time": "2021-08-03T16:16:57.359Z"
   },
   {
    "duration": 3550,
    "start_time": "2021-08-03T16:17:18.336Z"
   },
   {
    "duration": 4133,
    "start_time": "2021-08-03T16:17:33.569Z"
   },
   {
    "duration": 180,
    "start_time": "2021-08-03T16:23:57.751Z"
   },
   {
    "duration": 208,
    "start_time": "2021-08-03T16:24:15.855Z"
   },
   {
    "duration": 3,
    "start_time": "2021-08-03T16:24:44.090Z"
   },
   {
    "duration": 1224,
    "start_time": "2021-08-03T16:24:47.688Z"
   },
   {
    "duration": 2409,
    "start_time": "2021-08-03T16:24:50.841Z"
   },
   {
    "duration": 3435,
    "start_time": "2021-08-03T16:26:25.805Z"
   },
   {
    "duration": 3689,
    "start_time": "2021-08-03T16:28:55.547Z"
   },
   {
    "duration": 2683,
    "start_time": "2021-08-03T16:30:49.374Z"
   },
   {
    "duration": 2725,
    "start_time": "2021-08-03T16:31:07.880Z"
   },
   {
    "duration": 1252,
    "start_time": "2021-08-03T16:31:51.185Z"
   },
   {
    "duration": 2334,
    "start_time": "2021-08-03T16:31:54.122Z"
   },
   {
    "duration": 2719,
    "start_time": "2021-08-03T16:32:05.930Z"
   },
   {
    "duration": 1397,
    "start_time": "2021-08-03T16:32:29.762Z"
   },
   {
    "duration": 336,
    "start_time": "2021-08-03T16:33:39.604Z"
   },
   {
    "duration": 2058,
    "start_time": "2021-08-03T16:41:40.472Z"
   },
   {
    "duration": 1337,
    "start_time": "2021-08-03T16:41:44.807Z"
   },
   {
    "duration": 1684,
    "start_time": "2021-08-03T16:41:47.561Z"
   },
   {
    "duration": 9,
    "start_time": "2021-08-03T16:45:04.626Z"
   },
   {
    "duration": 197,
    "start_time": "2021-08-03T16:46:00.746Z"
   },
   {
    "duration": 2,
    "start_time": "2021-08-03T16:46:17.624Z"
   },
   {
    "duration": 179,
    "start_time": "2021-08-03T16:46:18.482Z"
   },
   {
    "duration": 3,
    "start_time": "2021-08-03T16:46:41.956Z"
   },
   {
    "duration": 4,
    "start_time": "2021-08-03T16:46:59.429Z"
   },
   {
    "duration": 2,
    "start_time": "2021-08-03T16:47:04.876Z"
   },
   {
    "duration": 186,
    "start_time": "2021-08-03T16:47:26.141Z"
   },
   {
    "duration": 176,
    "start_time": "2021-08-03T16:48:03.550Z"
   },
   {
    "duration": 7,
    "start_time": "2021-08-03T16:49:21.994Z"
   },
   {
    "duration": 1215,
    "start_time": "2021-08-03T16:49:39.186Z"
   },
   {
    "duration": 664,
    "start_time": "2021-08-03T16:49:40.403Z"
   },
   {
    "duration": 30,
    "start_time": "2021-08-03T16:49:41.070Z"
   },
   {
    "duration": 236,
    "start_time": "2021-08-03T16:49:41.103Z"
   },
   {
    "duration": 6,
    "start_time": "2021-08-03T16:49:41.340Z"
   },
   {
    "duration": 3,
    "start_time": "2021-08-03T16:49:41.348Z"
   },
   {
    "duration": 8,
    "start_time": "2021-08-03T16:49:41.352Z"
   },
   {
    "duration": 179,
    "start_time": "2021-08-03T16:49:41.361Z"
   },
   {
    "duration": 4,
    "start_time": "2021-08-03T16:49:41.543Z"
   },
   {
    "duration": 4,
    "start_time": "2021-08-03T16:49:41.549Z"
   },
   {
    "duration": 3668,
    "start_time": "2021-08-03T16:49:41.555Z"
   },
   {
    "duration": 4,
    "start_time": "2021-08-03T16:49:45.225Z"
   },
   {
    "duration": 11,
    "start_time": "2021-08-03T16:49:45.231Z"
   },
   {
    "duration": 5,
    "start_time": "2021-08-03T16:49:45.243Z"
   },
   {
    "duration": 9,
    "start_time": "2021-08-03T16:49:45.250Z"
   },
   {
    "duration": 61,
    "start_time": "2021-08-03T16:49:45.261Z"
   },
   {
    "duration": 321,
    "start_time": "2021-08-03T16:49:45.003Z"
   },
   {
    "duration": 320,
    "start_time": "2021-08-03T16:49:45.005Z"
   },
   {
    "duration": 319,
    "start_time": "2021-08-03T16:49:45.007Z"
   },
   {
    "duration": 317,
    "start_time": "2021-08-03T16:49:45.010Z"
   },
   {
    "duration": 311,
    "start_time": "2021-08-03T16:49:45.016Z"
   },
   {
    "duration": 311,
    "start_time": "2021-08-03T16:49:45.017Z"
   },
   {
    "duration": 310,
    "start_time": "2021-08-03T16:49:45.019Z"
   },
   {
    "duration": 310,
    "start_time": "2021-08-03T16:49:45.020Z"
   },
   {
    "duration": 309,
    "start_time": "2021-08-03T16:49:45.022Z"
   },
   {
    "duration": 308,
    "start_time": "2021-08-03T16:49:45.024Z"
   },
   {
    "duration": 304,
    "start_time": "2021-08-03T16:49:45.029Z"
   },
   {
    "duration": 302,
    "start_time": "2021-08-03T16:49:45.032Z"
   },
   {
    "duration": 140,
    "start_time": "2021-08-03T16:49:56.103Z"
   },
   {
    "duration": 3,
    "start_time": "2021-08-03T16:50:12.032Z"
   },
   {
    "duration": 2874,
    "start_time": "2021-08-03T16:50:17.418Z"
   },
   {
    "duration": 277,
    "start_time": "2021-08-03T16:51:25.834Z"
   },
   {
    "duration": 170,
    "start_time": "2021-08-03T16:51:41.064Z"
   },
   {
    "duration": 180,
    "start_time": "2021-08-03T16:52:06.565Z"
   },
   {
    "duration": 187,
    "start_time": "2021-08-03T16:52:13.893Z"
   },
   {
    "duration": 4,
    "start_time": "2021-08-03T17:07:27.856Z"
   },
   {
    "duration": 3,
    "start_time": "2021-08-03T17:08:34.778Z"
   },
   {
    "duration": 6,
    "start_time": "2021-08-03T17:08:40.091Z"
   },
   {
    "duration": 3,
    "start_time": "2021-08-03T17:09:54.374Z"
   },
   {
    "duration": 215,
    "start_time": "2021-08-03T17:10:17.487Z"
   },
   {
    "duration": 3,
    "start_time": "2021-08-03T17:11:55.869Z"
   },
   {
    "duration": 211,
    "start_time": "2021-08-03T17:11:56.891Z"
   },
   {
    "duration": 2,
    "start_time": "2021-08-03T17:13:14.678Z"
   },
   {
    "duration": 7979,
    "start_time": "2021-08-03T17:13:15.509Z"
   },
   {
    "duration": 5,
    "start_time": "2021-08-03T17:13:58.182Z"
   },
   {
    "duration": 199,
    "start_time": "2021-08-03T17:14:07.383Z"
   },
   {
    "duration": 4,
    "start_time": "2021-08-03T17:14:11.663Z"
   },
   {
    "duration": 8,
    "start_time": "2021-08-03T17:39:41.236Z"
   },
   {
    "duration": 4,
    "start_time": "2021-08-03T17:42:44.089Z"
   },
   {
    "duration": 62,
    "start_time": "2021-08-03T17:42:51.241Z"
   },
   {
    "duration": 70,
    "start_time": "2021-08-03T17:43:05.617Z"
   },
   {
    "duration": 79,
    "start_time": "2021-08-03T17:43:44.595Z"
   },
   {
    "duration": 56,
    "start_time": "2021-08-03T17:44:01.268Z"
   },
   {
    "duration": 3,
    "start_time": "2021-08-03T17:44:20.492Z"
   },
   {
    "duration": 2,
    "start_time": "2021-08-03T17:44:27.325Z"
   },
   {
    "duration": 2,
    "start_time": "2021-08-03T17:44:33.261Z"
   },
   {
    "duration": 3,
    "start_time": "2021-08-03T17:44:49.174Z"
   },
   {
    "duration": 196,
    "start_time": "2021-08-03T17:44:50.415Z"
   },
   {
    "duration": 3,
    "start_time": "2021-08-03T17:45:15.744Z"
   },
   {
    "duration": 11,
    "start_time": "2021-08-03T17:45:29.752Z"
   },
   {
    "duration": 2,
    "start_time": "2021-08-03T17:47:39.956Z"
   },
   {
    "duration": 11,
    "start_time": "2021-08-03T17:47:49.717Z"
   },
   {
    "duration": 211,
    "start_time": "2021-08-03T17:47:56.021Z"
   },
   {
    "duration": 3,
    "start_time": "2021-08-03T17:53:23.977Z"
   },
   {
    "duration": 336,
    "start_time": "2021-08-03T17:53:32.988Z"
   },
   {
    "duration": 3,
    "start_time": "2021-08-03T17:58:30.205Z"
   },
   {
    "duration": 217,
    "start_time": "2021-08-03T17:58:31.037Z"
   },
   {
    "duration": 3,
    "start_time": "2021-08-03T17:58:57.344Z"
   },
   {
    "duration": 181,
    "start_time": "2021-08-03T17:59:12.046Z"
   },
   {
    "duration": 8,
    "start_time": "2021-08-03T17:59:22.870Z"
   },
   {
    "duration": 8,
    "start_time": "2021-08-03T17:59:33.447Z"
   },
   {
    "duration": 192,
    "start_time": "2021-08-03T17:59:41.471Z"
   },
   {
    "duration": 10,
    "start_time": "2021-08-03T17:59:44.679Z"
   },
   {
    "duration": 9,
    "start_time": "2021-08-03T18:00:28.617Z"
   },
   {
    "duration": 3,
    "start_time": "2021-08-03T18:01:31.604Z"
   },
   {
    "duration": 15229,
    "start_time": "2021-08-03T18:01:35.268Z"
   },
   {
    "duration": 7,
    "start_time": "2021-08-03T18:01:59.109Z"
   },
   {
    "duration": 4,
    "start_time": "2021-08-03T18:02:27.398Z"
   },
   {
    "duration": 3,
    "start_time": "2021-08-03T18:02:44.399Z"
   },
   {
    "duration": 14615,
    "start_time": "2021-08-03T18:02:45.271Z"
   },
   {
    "duration": 4,
    "start_time": "2021-08-03T18:03:30.241Z"
   },
   {
    "duration": 201,
    "start_time": "2021-08-03T18:13:40.522Z"
   },
   {
    "duration": 3,
    "start_time": "2021-08-03T18:13:55.393Z"
   },
   {
    "duration": 7,
    "start_time": "2021-08-03T18:14:22.945Z"
   },
   {
    "duration": 6,
    "start_time": "2021-08-03T18:14:26.954Z"
   },
   {
    "duration": 2,
    "start_time": "2021-08-03T18:14:44.154Z"
   },
   {
    "duration": 3,
    "start_time": "2021-08-03T18:14:45.802Z"
   },
   {
    "duration": 289,
    "start_time": "2021-08-03T18:14:49.081Z"
   },
   {
    "duration": 3,
    "start_time": "2021-08-03T18:14:58.610Z"
   },
   {
    "duration": 185,
    "start_time": "2021-08-03T18:14:59.627Z"
   },
   {
    "duration": 3,
    "start_time": "2021-08-03T18:15:33.428Z"
   },
   {
    "duration": 201,
    "start_time": "2021-08-03T18:15:34.564Z"
   },
   {
    "duration": 3,
    "start_time": "2021-08-03T18:15:38.812Z"
   },
   {
    "duration": 218,
    "start_time": "2021-08-03T18:15:41.044Z"
   },
   {
    "duration": 3,
    "start_time": "2021-08-03T18:16:14.605Z"
   },
   {
    "duration": 197,
    "start_time": "2021-08-03T18:16:17.858Z"
   },
   {
    "duration": 202,
    "start_time": "2021-08-03T18:16:57.176Z"
   },
   {
    "duration": 3,
    "start_time": "2021-08-03T18:17:35.088Z"
   },
   {
    "duration": 188,
    "start_time": "2021-08-03T18:17:36.241Z"
   },
   {
    "duration": 3,
    "start_time": "2021-08-03T18:17:48.888Z"
   },
   {
    "duration": 200,
    "start_time": "2021-08-03T18:17:49.641Z"
   },
   {
    "duration": 2,
    "start_time": "2021-08-03T18:19:04.564Z"
   },
   {
    "duration": 15218,
    "start_time": "2021-08-03T18:19:05.668Z"
   },
   {
    "duration": 15198,
    "start_time": "2021-08-03T18:19:39.221Z"
   },
   {
    "duration": 372,
    "start_time": "2021-08-03T18:20:09.829Z"
   },
   {
    "duration": 14333,
    "start_time": "2021-08-03T18:20:19.918Z"
   },
   {
    "duration": 14555,
    "start_time": "2021-08-03T18:20:52.032Z"
   },
   {
    "duration": 214,
    "start_time": "2021-08-03T18:21:27.772Z"
   },
   {
    "duration": 13925,
    "start_time": "2021-08-03T18:22:00.362Z"
   },
   {
    "duration": 4,
    "start_time": "2021-08-03T18:23:55.767Z"
   },
   {
    "duration": 5,
    "start_time": "2021-08-03T18:24:23.673Z"
   },
   {
    "duration": 6,
    "start_time": "2021-08-03T18:25:39.843Z"
   },
   {
    "duration": 15451,
    "start_time": "2021-08-03T18:26:05.037Z"
   },
   {
    "duration": 2,
    "start_time": "2021-08-03T18:26:28.909Z"
   },
   {
    "duration": 13697,
    "start_time": "2021-08-03T18:26:29.597Z"
   },
   {
    "duration": 3,
    "start_time": "2021-08-03T18:26:51.285Z"
   },
   {
    "duration": 90,
    "start_time": "2021-08-03T18:28:22.666Z"
   },
   {
    "duration": 3282,
    "start_time": "2021-08-03T18:28:26.457Z"
   },
   {
    "duration": 3,
    "start_time": "2021-08-03T18:28:43.346Z"
   },
   {
    "duration": 2,
    "start_time": "2021-08-03T18:28:44.570Z"
   },
   {
    "duration": 13648,
    "start_time": "2021-08-03T18:28:45.338Z"
   },
   {
    "duration": 2,
    "start_time": "2021-08-03T18:29:39.229Z"
   },
   {
    "duration": 3,
    "start_time": "2021-08-03T18:29:39.828Z"
   },
   {
    "duration": 8310,
    "start_time": "2021-08-03T18:29:40.476Z"
   },
   {
    "duration": 221,
    "start_time": "2021-08-03T18:29:58.980Z"
   },
   {
    "duration": 5317,
    "start_time": "2021-08-03T18:30:02.469Z"
   },
   {
    "duration": 16026,
    "start_time": "2021-08-03T18:30:11.461Z"
   },
   {
    "duration": 213,
    "start_time": "2021-08-03T18:30:46.793Z"
   },
   {
    "duration": 14250,
    "start_time": "2021-08-03T18:31:25.736Z"
   },
   {
    "duration": 3,
    "start_time": "2021-08-03T18:32:17.943Z"
   },
   {
    "duration": 3,
    "start_time": "2021-08-03T18:32:19.066Z"
   },
   {
    "duration": 47259,
    "start_time": "2021-08-03T18:32:26.827Z"
   },
   {
    "duration": 47843,
    "start_time": "2021-08-03T18:50:43.446Z"
   },
   {
    "duration": 91,
    "start_time": "2021-08-03T18:51:31.294Z"
   },
   {
    "duration": 2,
    "start_time": "2021-08-03T18:51:40.870Z"
   },
   {
    "duration": 45448,
    "start_time": "2021-08-03T18:51:46.839Z"
   },
   {
    "duration": 199,
    "start_time": "2021-08-03T18:53:06.746Z"
   },
   {
    "duration": 174,
    "start_time": "2021-08-03T18:53:18.546Z"
   },
   {
    "duration": 4,
    "start_time": "2021-08-03T19:07:38.171Z"
   },
   {
    "duration": 4,
    "start_time": "2021-08-03T19:08:53.695Z"
   },
   {
    "duration": 187,
    "start_time": "2021-08-03T19:09:30.908Z"
   },
   {
    "duration": 3,
    "start_time": "2021-08-03T19:09:45.377Z"
   },
   {
    "duration": 201,
    "start_time": "2021-08-03T19:11:28.996Z"
   },
   {
    "duration": 7,
    "start_time": "2021-08-03T19:11:41.929Z"
   },
   {
    "duration": 4,
    "start_time": "2021-08-03T19:12:17.783Z"
   },
   {
    "duration": 8,
    "start_time": "2021-08-03T19:13:42.818Z"
   },
   {
    "duration": 4,
    "start_time": "2021-08-03T19:14:13.746Z"
   },
   {
    "duration": 12,
    "start_time": "2021-08-03T19:14:23.314Z"
   },
   {
    "duration": 7974,
    "start_time": "2021-08-03T19:14:33.323Z"
   },
   {
    "duration": 8,
    "start_time": "2021-08-03T19:18:05.560Z"
   },
   {
    "duration": 94,
    "start_time": "2021-08-03T19:19:57.120Z"
   },
   {
    "duration": 98,
    "start_time": "2021-08-03T19:20:05.200Z"
   },
   {
    "duration": 1203,
    "start_time": "2021-08-03T19:21:22.966Z"
   },
   {
    "duration": 3,
    "start_time": "2021-08-03T19:21:24.171Z"
   },
   {
    "duration": 300,
    "start_time": "2021-08-03T19:21:24.176Z"
   },
   {
    "duration": 481,
    "start_time": "2021-08-03T19:21:23.999Z"
   },
   {
    "duration": 475,
    "start_time": "2021-08-03T19:21:24.007Z"
   },
   {
    "duration": 473,
    "start_time": "2021-08-03T19:21:24.010Z"
   },
   {
    "duration": 473,
    "start_time": "2021-08-03T19:21:24.012Z"
   },
   {
    "duration": 472,
    "start_time": "2021-08-03T19:21:24.014Z"
   },
   {
    "duration": 467,
    "start_time": "2021-08-03T19:21:24.020Z"
   },
   {
    "duration": 466,
    "start_time": "2021-08-03T19:21:24.023Z"
   },
   {
    "duration": 465,
    "start_time": "2021-08-03T19:21:24.025Z"
   },
   {
    "duration": 465,
    "start_time": "2021-08-03T19:21:24.026Z"
   },
   {
    "duration": 461,
    "start_time": "2021-08-03T19:21:24.032Z"
   },
   {
    "duration": 459,
    "start_time": "2021-08-03T19:21:24.035Z"
   },
   {
    "duration": 458,
    "start_time": "2021-08-03T19:21:24.038Z"
   },
   {
    "duration": 458,
    "start_time": "2021-08-03T19:21:24.039Z"
   },
   {
    "duration": 452,
    "start_time": "2021-08-03T19:21:24.046Z"
   },
   {
    "duration": 452,
    "start_time": "2021-08-03T19:21:24.047Z"
   },
   {
    "duration": 451,
    "start_time": "2021-08-03T19:21:24.049Z"
   },
   {
    "duration": 451,
    "start_time": "2021-08-03T19:21:24.051Z"
   },
   {
    "duration": 450,
    "start_time": "2021-08-03T19:21:24.053Z"
   },
   {
    "duration": 445,
    "start_time": "2021-08-03T19:21:24.059Z"
   },
   {
    "duration": 444,
    "start_time": "2021-08-03T19:21:24.061Z"
   },
   {
    "duration": 445,
    "start_time": "2021-08-03T19:21:24.062Z"
   },
   {
    "duration": 443,
    "start_time": "2021-08-03T19:21:24.065Z"
   },
   {
    "duration": 442,
    "start_time": "2021-08-03T19:21:24.067Z"
   },
   {
    "duration": 436,
    "start_time": "2021-08-03T19:21:24.074Z"
   },
   {
    "duration": 435,
    "start_time": "2021-08-03T19:21:24.076Z"
   },
   {
    "duration": 434,
    "start_time": "2021-08-03T19:21:24.078Z"
   },
   {
    "duration": 433,
    "start_time": "2021-08-03T19:21:24.080Z"
   },
   {
    "duration": 428,
    "start_time": "2021-08-03T19:21:24.086Z"
   },
   {
    "duration": 427,
    "start_time": "2021-08-03T19:21:24.088Z"
   },
   {
    "duration": 426,
    "start_time": "2021-08-03T19:21:24.090Z"
   },
   {
    "duration": 425,
    "start_time": "2021-08-03T19:21:24.092Z"
   },
   {
    "duration": 420,
    "start_time": "2021-08-03T19:21:24.098Z"
   },
   {
    "duration": 419,
    "start_time": "2021-08-03T19:21:24.100Z"
   },
   {
    "duration": 417,
    "start_time": "2021-08-03T19:21:24.103Z"
   },
   {
    "duration": 5,
    "start_time": "2021-08-03T19:21:31.256Z"
   },
   {
    "duration": 3,
    "start_time": "2021-08-03T19:21:33.656Z"
   },
   {
    "duration": 621,
    "start_time": "2021-08-03T19:21:37.152Z"
   },
   {
    "duration": 28,
    "start_time": "2021-08-03T19:21:40.640Z"
   },
   {
    "duration": 215,
    "start_time": "2021-08-03T19:21:43.129Z"
   },
   {
    "duration": 6,
    "start_time": "2021-08-03T19:21:45.881Z"
   },
   {
    "duration": 4,
    "start_time": "2021-08-03T19:21:55.545Z"
   },
   {
    "duration": 3,
    "start_time": "2021-08-03T19:21:58.257Z"
   },
   {
    "duration": 6,
    "start_time": "2021-08-03T19:22:00.250Z"
   },
   {
    "duration": 6,
    "start_time": "2021-08-03T19:22:07.242Z"
   },
   {
    "duration": 1320,
    "start_time": "2021-08-03T19:22:10.266Z"
   },
   {
    "duration": 2,
    "start_time": "2021-08-03T19:22:18.542Z"
   },
   {
    "duration": 3,
    "start_time": "2021-08-03T19:22:20.523Z"
   },
   {
    "duration": 23082,
    "start_time": "2021-08-03T19:22:22.666Z"
   },
   {
    "duration": 6,
    "start_time": "2021-08-03T19:22:50.283Z"
   },
   {
    "duration": 12,
    "start_time": "2021-08-03T19:22:53.252Z"
   },
   {
    "duration": 3,
    "start_time": "2021-08-03T19:22:57.564Z"
   },
   {
    "duration": 17,
    "start_time": "2021-08-03T19:22:59.883Z"
   },
   {
    "duration": 111,
    "start_time": "2021-08-03T19:23:01.724Z"
   },
   {
    "duration": 4,
    "start_time": "2021-08-03T19:23:06.995Z"
   },
   {
    "duration": 3,
    "start_time": "2021-08-03T19:23:25.844Z"
   },
   {
    "duration": 125,
    "start_time": "2021-08-03T19:23:47.078Z"
   },
   {
    "duration": 3,
    "start_time": "2021-08-03T19:24:11.151Z"
   },
   {
    "duration": 117254,
    "start_time": "2021-08-03T19:24:18.594Z"
   },
   {
    "duration": 20,
    "start_time": "2021-08-03T19:28:51.321Z"
   },
   {
    "duration": 43409,
    "start_time": "2021-08-03T19:28:55.481Z"
   },
   {
    "duration": 979,
    "start_time": "2021-08-03T19:29:55.747Z"
   },
   {
    "duration": 15,
    "start_time": "2021-08-03T19:33:53.317Z"
   },
   {
    "duration": 195,
    "start_time": "2021-08-03T19:36:58.500Z"
   },
   {
    "duration": 213,
    "start_time": "2021-08-03T19:37:02.813Z"
   },
   {
    "duration": 4,
    "start_time": "2021-08-03T19:39:59.395Z"
   },
   {
    "duration": 12277,
    "start_time": "2021-08-03T19:40:06.004Z"
   },
   {
    "duration": 233351,
    "start_time": "2021-08-03T19:40:20.892Z"
   },
   {
    "duration": 47821,
    "start_time": "2021-08-03T19:44:22.510Z"
   },
   {
    "duration": 179,
    "start_time": "2021-08-03T19:47:24.260Z"
   },
   {
    "duration": 1946,
    "start_time": "2021-08-03T19:47:27.707Z"
   },
   {
    "duration": 17798,
    "start_time": "2021-08-03T19:47:31.205Z"
   },
   {
    "duration": 172,
    "start_time": "2021-08-03T19:47:52.286Z"
   },
   {
    "duration": 19576,
    "start_time": "2021-08-03T19:48:14.728Z"
   },
   {
    "duration": 14548,
    "start_time": "2021-08-03T19:48:57.776Z"
   },
   {
    "duration": 1696,
    "start_time": "2021-08-04T07:14:39.526Z"
   },
   {
    "duration": 4,
    "start_time": "2021-08-04T07:14:43.884Z"
   },
   {
    "duration": 796,
    "start_time": "2021-08-04T07:14:57.875Z"
   },
   {
    "duration": 32,
    "start_time": "2021-08-04T07:15:08.874Z"
   },
   {
    "duration": 291,
    "start_time": "2021-08-04T07:15:44.434Z"
   },
   {
    "duration": 10,
    "start_time": "2021-08-04T07:15:50.044Z"
   },
   {
    "duration": 6,
    "start_time": "2021-08-04T07:16:09.484Z"
   },
   {
    "duration": 4,
    "start_time": "2021-08-04T07:16:47.489Z"
   },
   {
    "duration": 12,
    "start_time": "2021-08-04T07:16:49.356Z"
   },
   {
    "duration": 8,
    "start_time": "2021-08-04T07:17:01.348Z"
   },
   {
    "duration": 190,
    "start_time": "2021-08-04T07:17:05.316Z"
   },
   {
    "duration": 4,
    "start_time": "2021-08-04T07:17:07.827Z"
   },
   {
    "duration": 4,
    "start_time": "2021-08-04T07:17:09.756Z"
   },
   {
    "duration": 6341,
    "start_time": "2021-08-04T07:17:14.715Z"
   },
   {
    "duration": 6,
    "start_time": "2021-08-04T07:17:23.116Z"
   },
   {
    "duration": 12,
    "start_time": "2021-08-04T07:17:44.477Z"
   },
   {
    "duration": 4,
    "start_time": "2021-08-04T07:17:48.979Z"
   },
   {
    "duration": 8,
    "start_time": "2021-08-04T07:17:56.395Z"
   },
   {
    "duration": 243,
    "start_time": "2021-08-04T07:18:00.717Z"
   },
   {
    "duration": 4,
    "start_time": "2021-08-04T07:18:26.277Z"
   },
   {
    "duration": 5,
    "start_time": "2021-08-04T07:19:06.526Z"
   },
   {
    "duration": 644,
    "start_time": "2021-08-04T07:19:25.528Z"
   },
   {
    "duration": 1531,
    "start_time": "2021-08-04T07:20:57.262Z"
   },
   {
    "duration": 3,
    "start_time": "2021-08-04T07:20:58.796Z"
   },
   {
    "duration": 789,
    "start_time": "2021-08-04T07:20:58.802Z"
   },
   {
    "duration": 26,
    "start_time": "2021-08-04T07:20:59.594Z"
   },
   {
    "duration": 305,
    "start_time": "2021-08-04T07:20:59.623Z"
   },
   {
    "duration": 25,
    "start_time": "2021-08-04T07:20:59.931Z"
   },
   {
    "duration": 9,
    "start_time": "2021-08-04T07:20:59.959Z"
   },
   {
    "duration": 9,
    "start_time": "2021-08-04T07:20:59.972Z"
   },
   {
    "duration": 7,
    "start_time": "2021-08-04T07:20:59.986Z"
   },
   {
    "duration": 9,
    "start_time": "2021-08-04T07:20:59.996Z"
   },
   {
    "duration": 225,
    "start_time": "2021-08-04T07:21:00.008Z"
   },
   {
    "duration": 22,
    "start_time": "2021-08-04T07:21:00.236Z"
   },
   {
    "duration": 20,
    "start_time": "2021-08-04T07:21:00.261Z"
   },
   {
    "duration": 6718,
    "start_time": "2021-08-04T07:21:00.283Z"
   },
   {
    "duration": 5,
    "start_time": "2021-08-04T07:21:07.004Z"
   },
   {
    "duration": 25,
    "start_time": "2021-08-04T07:21:07.012Z"
   },
   {
    "duration": 23,
    "start_time": "2021-08-04T07:21:07.040Z"
   },
   {
    "duration": 32,
    "start_time": "2021-08-04T07:21:07.066Z"
   },
   {
    "duration": 267,
    "start_time": "2021-08-04T07:21:07.101Z"
   },
   {
    "duration": 4,
    "start_time": "2021-08-04T07:21:07.371Z"
   },
   {
    "duration": 9,
    "start_time": "2021-08-04T07:21:07.378Z"
   },
   {
    "duration": 28566,
    "start_time": "2021-08-04T07:21:07.390Z"
   },
   {
    "duration": 15,
    "start_time": "2021-08-04T07:21:35.959Z"
   },
   {
    "duration": 7892,
    "start_time": "2021-08-04T07:21:35.977Z"
   },
   {
    "duration": 383,
    "start_time": "2021-08-04T07:21:43.877Z"
   },
   {
    "duration": 509,
    "start_time": "2021-08-04T07:21:44.263Z"
   },
   {
    "duration": -710,
    "start_time": "2021-08-04T07:21:45.485Z"
   },
   {
    "duration": -720,
    "start_time": "2021-08-04T07:21:45.497Z"
   },
   {
    "duration": -734,
    "start_time": "2021-08-04T07:21:45.512Z"
   },
   {
    "duration": -787,
    "start_time": "2021-08-04T07:21:45.566Z"
   },
   {
    "duration": -794,
    "start_time": "2021-08-04T07:21:45.575Z"
   },
   {
    "duration": -801,
    "start_time": "2021-08-04T07:21:45.583Z"
   },
   {
    "duration": -808,
    "start_time": "2021-08-04T07:21:45.591Z"
   },
   {
    "duration": -814,
    "start_time": "2021-08-04T07:21:45.598Z"
   },
   {
    "duration": -819,
    "start_time": "2021-08-04T07:21:45.605Z"
   },
   {
    "duration": -824,
    "start_time": "2021-08-04T07:21:45.611Z"
   },
   {
    "duration": -831,
    "start_time": "2021-08-04T07:21:45.620Z"
   },
   {
    "duration": -839,
    "start_time": "2021-08-04T07:21:45.630Z"
   },
   {
    "duration": -861,
    "start_time": "2021-08-04T07:21:45.653Z"
   },
   {
    "duration": -874,
    "start_time": "2021-08-04T07:21:45.667Z"
   },
   {
    "duration": -880,
    "start_time": "2021-08-04T07:21:45.675Z"
   },
   {
    "duration": -888,
    "start_time": "2021-08-04T07:21:45.684Z"
   },
   {
    "duration": 16,
    "start_time": "2021-08-04T07:25:25.863Z"
   },
   {
    "duration": 230,
    "start_time": "2021-08-04T07:27:05.797Z"
   },
   {
    "duration": 882,
    "start_time": "2021-08-04T07:27:44.197Z"
   },
   {
    "duration": 380,
    "start_time": "2021-08-04T07:29:06.156Z"
   },
   {
    "duration": 201,
    "start_time": "2021-08-04T07:29:50.775Z"
   },
   {
    "duration": 1616,
    "start_time": "2021-08-04T07:31:18.602Z"
   },
   {
    "duration": 4,
    "start_time": "2021-08-04T07:31:20.221Z"
   },
   {
    "duration": 817,
    "start_time": "2021-08-04T07:31:20.228Z"
   },
   {
    "duration": 40,
    "start_time": "2021-08-04T07:31:21.047Z"
   },
   {
    "duration": 312,
    "start_time": "2021-08-04T07:31:21.089Z"
   },
   {
    "duration": 8,
    "start_time": "2021-08-04T07:31:21.404Z"
   },
   {
    "duration": 9,
    "start_time": "2021-08-04T07:31:21.414Z"
   },
   {
    "duration": 55,
    "start_time": "2021-08-04T07:31:21.425Z"
   },
   {
    "duration": 12,
    "start_time": "2021-08-04T07:31:21.484Z"
   },
   {
    "duration": 15,
    "start_time": "2021-08-04T07:31:21.499Z"
   },
   {
    "duration": 290,
    "start_time": "2021-08-04T07:31:21.516Z"
   },
   {
    "duration": 8,
    "start_time": "2021-08-04T07:31:21.809Z"
   },
   {
    "duration": 8,
    "start_time": "2021-08-04T07:31:21.819Z"
   },
   {
    "duration": 6065,
    "start_time": "2021-08-04T07:31:21.829Z"
   },
   {
    "duration": 5,
    "start_time": "2021-08-04T07:31:27.897Z"
   },
   {
    "duration": 18,
    "start_time": "2021-08-04T07:31:27.904Z"
   },
   {
    "duration": 11,
    "start_time": "2021-08-04T07:31:27.925Z"
   },
   {
    "duration": 19,
    "start_time": "2021-08-04T07:31:27.938Z"
   },
   {
    "duration": 231,
    "start_time": "2021-08-04T07:31:27.961Z"
   },
   {
    "duration": 5,
    "start_time": "2021-08-04T07:31:28.194Z"
   },
   {
    "duration": 14,
    "start_time": "2021-08-04T07:31:28.201Z"
   },
   {
    "duration": 27148,
    "start_time": "2021-08-04T07:31:28.217Z"
   },
   {
    "duration": 98,
    "start_time": "2021-08-04T07:31:55.373Z"
   },
   {
    "duration": 7987,
    "start_time": "2021-08-04T07:31:55.474Z"
   },
   {
    "duration": 103,
    "start_time": "2021-08-04T07:32:03.469Z"
   },
   {
    "duration": 116,
    "start_time": "2021-08-04T07:32:03.574Z"
   },
   {
    "duration": -557,
    "start_time": "2021-08-04T07:32:04.250Z"
   },
   {
    "duration": -569,
    "start_time": "2021-08-04T07:32:04.264Z"
   },
   {
    "duration": -578,
    "start_time": "2021-08-04T07:32:04.274Z"
   },
   {
    "duration": -582,
    "start_time": "2021-08-04T07:32:04.280Z"
   },
   {
    "duration": -588,
    "start_time": "2021-08-04T07:32:04.287Z"
   },
   {
    "duration": -663,
    "start_time": "2021-08-04T07:32:04.364Z"
   },
   {
    "duration": -669,
    "start_time": "2021-08-04T07:32:04.371Z"
   },
   {
    "duration": -673,
    "start_time": "2021-08-04T07:32:04.377Z"
   },
   {
    "duration": -679,
    "start_time": "2021-08-04T07:32:04.384Z"
   },
   {
    "duration": -683,
    "start_time": "2021-08-04T07:32:04.390Z"
   },
   {
    "duration": -731,
    "start_time": "2021-08-04T07:32:04.440Z"
   },
   {
    "duration": -735,
    "start_time": "2021-08-04T07:32:04.446Z"
   },
   {
    "duration": -742,
    "start_time": "2021-08-04T07:32:04.454Z"
   },
   {
    "duration": -747,
    "start_time": "2021-08-04T07:32:04.460Z"
   },
   {
    "duration": -752,
    "start_time": "2021-08-04T07:32:04.467Z"
   },
   {
    "duration": -758,
    "start_time": "2021-08-04T07:32:04.474Z"
   },
   {
    "duration": -763,
    "start_time": "2021-08-04T07:32:04.480Z"
   },
   {
    "duration": -768,
    "start_time": "2021-08-04T07:32:04.487Z"
   },
   {
    "duration": 219,
    "start_time": "2021-08-04T07:32:39.289Z"
   },
   {
    "duration": 188,
    "start_time": "2021-08-04T07:32:45.171Z"
   },
   {
    "duration": 724,
    "start_time": "2021-08-04T07:37:03.843Z"
   },
   {
    "duration": 174,
    "start_time": "2021-08-04T07:37:46.125Z"
   },
   {
    "duration": 7079,
    "start_time": "2021-08-04T07:39:40.580Z"
   },
   {
    "duration": 8361,
    "start_time": "2021-08-04T07:44:59.497Z"
   },
   {
    "duration": 7039,
    "start_time": "2021-08-04T07:45:25.729Z"
   },
   {
    "duration": 7189,
    "start_time": "2021-08-04T07:45:50.569Z"
   },
   {
    "duration": 4,
    "start_time": "2021-08-04T07:48:09.089Z"
   },
   {
    "duration": 7,
    "start_time": "2021-08-04T07:48:49.900Z"
   },
   {
    "duration": 3,
    "start_time": "2021-08-04T07:49:47.165Z"
   },
   {
    "duration": 7,
    "start_time": "2021-08-04T07:52:35.349Z"
   },
   {
    "duration": 1580,
    "start_time": "2021-08-04T07:52:43.546Z"
   },
   {
    "duration": 3,
    "start_time": "2021-08-04T07:52:45.129Z"
   },
   {
    "duration": 750,
    "start_time": "2021-08-04T07:52:45.134Z"
   },
   {
    "duration": 30,
    "start_time": "2021-08-04T07:52:45.887Z"
   },
   {
    "duration": 304,
    "start_time": "2021-08-04T07:52:45.919Z"
   },
   {
    "duration": 9,
    "start_time": "2021-08-04T07:52:46.225Z"
   },
   {
    "duration": 23,
    "start_time": "2021-08-04T07:52:46.236Z"
   },
   {
    "duration": 15,
    "start_time": "2021-08-04T07:52:46.261Z"
   },
   {
    "duration": 18,
    "start_time": "2021-08-04T07:52:46.281Z"
   },
   {
    "duration": 29,
    "start_time": "2021-08-04T07:52:46.302Z"
   },
   {
    "duration": 197,
    "start_time": "2021-08-04T07:52:46.334Z"
   },
   {
    "duration": 12,
    "start_time": "2021-08-04T07:52:46.533Z"
   },
   {
    "duration": 15,
    "start_time": "2021-08-04T07:52:46.547Z"
   },
   {
    "duration": 5787,
    "start_time": "2021-08-04T07:52:46.564Z"
   },
   {
    "duration": 6,
    "start_time": "2021-08-04T07:52:52.356Z"
   },
   {
    "duration": 21,
    "start_time": "2021-08-04T07:52:52.364Z"
   },
   {
    "duration": 8,
    "start_time": "2021-08-04T07:52:52.387Z"
   },
   {
    "duration": 11,
    "start_time": "2021-08-04T07:52:52.397Z"
   },
   {
    "duration": 114,
    "start_time": "2021-08-04T07:52:52.410Z"
   },
   {
    "duration": -661,
    "start_time": "2021-08-04T07:52:53.189Z"
   },
   {
    "duration": -670,
    "start_time": "2021-08-04T07:52:53.199Z"
   },
   {
    "duration": -677,
    "start_time": "2021-08-04T07:52:53.207Z"
   },
   {
    "duration": -685,
    "start_time": "2021-08-04T07:52:53.217Z"
   },
   {
    "duration": -691,
    "start_time": "2021-08-04T07:52:53.224Z"
   },
   {
    "duration": -696,
    "start_time": "2021-08-04T07:52:53.230Z"
   },
   {
    "duration": -704,
    "start_time": "2021-08-04T07:52:53.240Z"
   },
   {
    "duration": -711,
    "start_time": "2021-08-04T07:52:53.248Z"
   },
   {
    "duration": -858,
    "start_time": "2021-08-04T07:52:53.396Z"
   },
   {
    "duration": -870,
    "start_time": "2021-08-04T07:52:53.409Z"
   },
   {
    "duration": -880,
    "start_time": "2021-08-04T07:52:53.422Z"
   },
   {
    "duration": -892,
    "start_time": "2021-08-04T07:52:53.435Z"
   },
   {
    "duration": -902,
    "start_time": "2021-08-04T07:52:53.447Z"
   },
   {
    "duration": -911,
    "start_time": "2021-08-04T07:52:53.457Z"
   },
   {
    "duration": -921,
    "start_time": "2021-08-04T07:52:53.468Z"
   },
   {
    "duration": -930,
    "start_time": "2021-08-04T07:52:53.478Z"
   },
   {
    "duration": -939,
    "start_time": "2021-08-04T07:52:53.489Z"
   },
   {
    "duration": -964,
    "start_time": "2021-08-04T07:52:53.515Z"
   },
   {
    "duration": -977,
    "start_time": "2021-08-04T07:52:53.529Z"
   },
   {
    "duration": -986,
    "start_time": "2021-08-04T07:52:53.539Z"
   },
   {
    "duration": -993,
    "start_time": "2021-08-04T07:52:53.548Z"
   },
   {
    "duration": -1000,
    "start_time": "2021-08-04T07:52:53.556Z"
   },
   {
    "duration": -1007,
    "start_time": "2021-08-04T07:52:53.564Z"
   },
   {
    "duration": -1012,
    "start_time": "2021-08-04T07:52:53.571Z"
   },
   {
    "duration": -1023,
    "start_time": "2021-08-04T07:52:53.583Z"
   },
   {
    "duration": 241,
    "start_time": "2021-08-04T07:53:20.198Z"
   },
   {
    "duration": 6,
    "start_time": "2021-08-04T07:53:37.456Z"
   },
   {
    "duration": 3,
    "start_time": "2021-08-04T07:53:45.549Z"
   },
   {
    "duration": 14,
    "start_time": "2021-08-04T07:54:01.575Z"
   },
   {
    "duration": 564,
    "start_time": "2021-08-04T07:54:07.695Z"
   },
   {
    "duration": 1595,
    "start_time": "2021-08-04T07:54:46.352Z"
   },
   {
    "duration": 6,
    "start_time": "2021-08-04T07:54:47.951Z"
   },
   {
    "duration": 807,
    "start_time": "2021-08-04T07:54:47.960Z"
   },
   {
    "duration": 37,
    "start_time": "2021-08-04T07:54:48.769Z"
   },
   {
    "duration": 412,
    "start_time": "2021-08-04T07:54:48.810Z"
   },
   {
    "duration": 9,
    "start_time": "2021-08-04T07:54:49.224Z"
   },
   {
    "duration": 21,
    "start_time": "2021-08-04T07:54:49.235Z"
   },
   {
    "duration": 15,
    "start_time": "2021-08-04T07:54:49.259Z"
   },
   {
    "duration": 14,
    "start_time": "2021-08-04T07:54:49.279Z"
   },
   {
    "duration": 9,
    "start_time": "2021-08-04T07:54:49.296Z"
   },
   {
    "duration": 214,
    "start_time": "2021-08-04T07:54:49.308Z"
   },
   {
    "duration": 12,
    "start_time": "2021-08-04T07:54:49.524Z"
   },
   {
    "duration": 8,
    "start_time": "2021-08-04T07:54:49.538Z"
   },
   {
    "duration": 6303,
    "start_time": "2021-08-04T07:54:49.556Z"
   },
   {
    "duration": 7,
    "start_time": "2021-08-04T07:54:55.862Z"
   },
   {
    "duration": 18,
    "start_time": "2021-08-04T07:54:55.873Z"
   },
   {
    "duration": 4,
    "start_time": "2021-08-04T07:54:55.893Z"
   },
   {
    "duration": 18,
    "start_time": "2021-08-04T07:54:55.899Z"
   },
   {
    "duration": 234,
    "start_time": "2021-08-04T07:54:55.920Z"
   },
   {
    "duration": -1317,
    "start_time": "2021-08-04T07:54:57.475Z"
   },
   {
    "duration": -1336,
    "start_time": "2021-08-04T07:54:57.495Z"
   },
   {
    "duration": -1343,
    "start_time": "2021-08-04T07:54:57.503Z"
   },
   {
    "duration": -1351,
    "start_time": "2021-08-04T07:54:57.512Z"
   },
   {
    "duration": -1417,
    "start_time": "2021-08-04T07:54:57.579Z"
   },
   {
    "duration": -1425,
    "start_time": "2021-08-04T07:54:57.588Z"
   },
   {
    "duration": -1431,
    "start_time": "2021-08-04T07:54:57.595Z"
   },
   {
    "duration": -1439,
    "start_time": "2021-08-04T07:54:57.604Z"
   },
   {
    "duration": -1449,
    "start_time": "2021-08-04T07:54:57.615Z"
   },
   {
    "duration": -1456,
    "start_time": "2021-08-04T07:54:57.623Z"
   },
   {
    "duration": -1487,
    "start_time": "2021-08-04T07:54:57.656Z"
   },
   {
    "duration": -1507,
    "start_time": "2021-08-04T07:54:57.677Z"
   },
   {
    "duration": -1515,
    "start_time": "2021-08-04T07:54:57.686Z"
   },
   {
    "duration": -1522,
    "start_time": "2021-08-04T07:54:57.695Z"
   },
   {
    "duration": -1528,
    "start_time": "2021-08-04T07:54:57.702Z"
   },
   {
    "duration": -1534,
    "start_time": "2021-08-04T07:54:57.709Z"
   },
   {
    "duration": -1559,
    "start_time": "2021-08-04T07:54:57.739Z"
   },
   {
    "duration": -1566,
    "start_time": "2021-08-04T07:54:57.748Z"
   },
   {
    "duration": -1575,
    "start_time": "2021-08-04T07:54:57.758Z"
   },
   {
    "duration": -1584,
    "start_time": "2021-08-04T07:54:57.769Z"
   },
   {
    "duration": -1591,
    "start_time": "2021-08-04T07:54:57.778Z"
   },
   {
    "duration": -1600,
    "start_time": "2021-08-04T07:54:57.788Z"
   },
   {
    "duration": -1607,
    "start_time": "2021-08-04T07:54:57.797Z"
   },
   {
    "duration": -1614,
    "start_time": "2021-08-04T07:54:57.805Z"
   },
   {
    "duration": -1625,
    "start_time": "2021-08-04T07:54:57.817Z"
   },
   {
    "duration": 244,
    "start_time": "2021-08-04T07:55:18.330Z"
   },
   {
    "duration": 4,
    "start_time": "2021-08-04T07:55:24.200Z"
   },
   {
    "duration": 3,
    "start_time": "2021-08-04T07:55:29.116Z"
   },
   {
    "duration": 14,
    "start_time": "2021-08-04T07:55:37.232Z"
   },
   {
    "duration": 7804,
    "start_time": "2021-08-04T07:55:40.153Z"
   },
   {
    "duration": 197,
    "start_time": "2021-08-04T07:58:45.664Z"
   },
   {
    "duration": 1549,
    "start_time": "2021-08-04T08:53:22.451Z"
   },
   {
    "duration": 4,
    "start_time": "2021-08-04T08:53:24.002Z"
   },
   {
    "duration": 797,
    "start_time": "2021-08-04T08:53:24.009Z"
   },
   {
    "duration": 47,
    "start_time": "2021-08-04T08:53:24.809Z"
   },
   {
    "duration": 301,
    "start_time": "2021-08-04T08:53:24.859Z"
   },
   {
    "duration": 10,
    "start_time": "2021-08-04T08:53:25.162Z"
   },
   {
    "duration": 11,
    "start_time": "2021-08-04T08:53:25.174Z"
   },
   {
    "duration": 20,
    "start_time": "2021-08-04T08:53:25.188Z"
   },
   {
    "duration": 20,
    "start_time": "2021-08-04T08:53:25.211Z"
   },
   {
    "duration": 36,
    "start_time": "2021-08-04T08:53:25.233Z"
   },
   {
    "duration": 202,
    "start_time": "2021-08-04T08:53:25.272Z"
   },
   {
    "duration": 9,
    "start_time": "2021-08-04T08:53:25.477Z"
   },
   {
    "duration": 12,
    "start_time": "2021-08-04T08:53:25.489Z"
   },
   {
    "duration": 6048,
    "start_time": "2021-08-04T08:53:25.503Z"
   },
   {
    "duration": 6,
    "start_time": "2021-08-04T08:53:31.555Z"
   },
   {
    "duration": 40,
    "start_time": "2021-08-04T08:53:31.563Z"
   },
   {
    "duration": 38,
    "start_time": "2021-08-04T08:53:31.605Z"
   },
   {
    "duration": 40,
    "start_time": "2021-08-04T08:53:31.645Z"
   },
   {
    "duration": 266,
    "start_time": "2021-08-04T08:53:31.687Z"
   },
   {
    "duration": 5,
    "start_time": "2021-08-04T08:53:31.956Z"
   },
   {
    "duration": 35,
    "start_time": "2021-08-04T08:53:31.963Z"
   },
   {
    "duration": 27257,
    "start_time": "2021-08-04T08:53:32.000Z"
   },
   {
    "duration": 12,
    "start_time": "2021-08-04T08:53:59.263Z"
   },
   {
    "duration": 7179,
    "start_time": "2021-08-04T08:53:59.278Z"
   },
   {
    "duration": 277,
    "start_time": "2021-08-04T08:54:06.460Z"
   },
   {
    "duration": 20,
    "start_time": "2021-08-04T08:54:06.740Z"
   },
   {
    "duration": 218,
    "start_time": "2021-08-04T08:54:06.763Z"
   },
   {
    "duration": 501,
    "start_time": "2021-08-04T08:54:06.983Z"
   },
   {
    "duration": -643,
    "start_time": "2021-08-04T08:54:08.130Z"
   },
   {
    "duration": -649,
    "start_time": "2021-08-04T08:54:08.139Z"
   },
   {
    "duration": -691,
    "start_time": "2021-08-04T08:54:08.183Z"
   },
   {
    "duration": -709,
    "start_time": "2021-08-04T08:54:08.203Z"
   },
   {
    "duration": -738,
    "start_time": "2021-08-04T08:54:08.234Z"
   },
   {
    "duration": -755,
    "start_time": "2021-08-04T08:54:08.253Z"
   },
   {
    "duration": -774,
    "start_time": "2021-08-04T08:54:08.275Z"
   },
   {
    "duration": -806,
    "start_time": "2021-08-04T08:54:08.309Z"
   },
   {
    "duration": -811,
    "start_time": "2021-08-04T08:54:08.317Z"
   },
   {
    "duration": -816,
    "start_time": "2021-08-04T08:54:08.324Z"
   },
   {
    "duration": -823,
    "start_time": "2021-08-04T08:54:08.333Z"
   },
   {
    "duration": -829,
    "start_time": "2021-08-04T08:54:08.341Z"
   },
   {
    "duration": -834,
    "start_time": "2021-08-04T08:54:08.349Z"
   },
   {
    "duration": -840,
    "start_time": "2021-08-04T08:54:08.357Z"
   },
   {
    "duration": -846,
    "start_time": "2021-08-04T08:54:08.365Z"
   },
   {
    "duration": -852,
    "start_time": "2021-08-04T08:54:08.374Z"
   },
   {
    "duration": 5,
    "start_time": "2021-08-04T08:54:59.203Z"
   },
   {
    "duration": 1104,
    "start_time": "2021-08-04T17:46:30.382Z"
   },
   {
    "duration": 2,
    "start_time": "2021-08-04T17:46:31.488Z"
   },
   {
    "duration": 587,
    "start_time": "2021-08-04T17:46:31.492Z"
   },
   {
    "duration": 24,
    "start_time": "2021-08-04T17:46:32.080Z"
   },
   {
    "duration": 211,
    "start_time": "2021-08-04T17:46:32.106Z"
   },
   {
    "duration": 6,
    "start_time": "2021-08-04T17:46:32.319Z"
   },
   {
    "duration": 14,
    "start_time": "2021-08-04T17:46:32.327Z"
   },
   {
    "duration": 6,
    "start_time": "2021-08-04T17:46:32.343Z"
   },
   {
    "duration": 11,
    "start_time": "2021-08-04T17:46:32.352Z"
   },
   {
    "duration": 13,
    "start_time": "2021-08-04T17:46:32.365Z"
   },
   {
    "duration": 133,
    "start_time": "2021-08-04T17:46:32.379Z"
   },
   {
    "duration": 6,
    "start_time": "2021-08-04T17:46:32.514Z"
   },
   {
    "duration": 84,
    "start_time": "2021-08-04T17:46:32.522Z"
   },
   {
    "duration": 329,
    "start_time": "2021-08-04T17:46:32.280Z"
   },
   {
    "duration": 327,
    "start_time": "2021-08-04T17:46:32.283Z"
   },
   {
    "duration": 305,
    "start_time": "2021-08-04T17:46:32.306Z"
   },
   {
    "duration": 295,
    "start_time": "2021-08-04T17:46:32.317Z"
   },
   {
    "duration": 292,
    "start_time": "2021-08-04T17:46:32.321Z"
   },
   {
    "duration": 283,
    "start_time": "2021-08-04T17:46:32.331Z"
   },
   {
    "duration": 280,
    "start_time": "2021-08-04T17:46:32.335Z"
   },
   {
    "duration": 267,
    "start_time": "2021-08-04T17:46:32.349Z"
   },
   {
    "duration": 261,
    "start_time": "2021-08-04T17:46:32.356Z"
   },
   {
    "duration": 259,
    "start_time": "2021-08-04T17:46:32.359Z"
   },
   {
    "duration": 256,
    "start_time": "2021-08-04T17:46:32.363Z"
   },
   {
    "duration": 249,
    "start_time": "2021-08-04T17:46:32.371Z"
   },
   {
    "duration": 247,
    "start_time": "2021-08-04T17:46:32.374Z"
   },
   {
    "duration": 246,
    "start_time": "2021-08-04T17:46:32.376Z"
   },
   {
    "duration": 238,
    "start_time": "2021-08-04T17:46:32.386Z"
   },
   {
    "duration": 236,
    "start_time": "2021-08-04T17:46:32.389Z"
   },
   {
    "duration": 226,
    "start_time": "2021-08-04T17:46:32.400Z"
   },
   {
    "duration": 223,
    "start_time": "2021-08-04T17:46:32.404Z"
   },
   {
    "duration": 216,
    "start_time": "2021-08-04T17:46:32.412Z"
   },
   {
    "duration": 215,
    "start_time": "2021-08-04T17:46:32.414Z"
   },
   {
    "duration": 207,
    "start_time": "2021-08-04T17:46:32.422Z"
   },
   {
    "duration": 205,
    "start_time": "2021-08-04T17:46:32.425Z"
   },
   {
    "duration": 202,
    "start_time": "2021-08-04T17:46:32.429Z"
   },
   {
    "duration": 192,
    "start_time": "2021-08-04T17:46:32.440Z"
   },
   {
    "duration": 191,
    "start_time": "2021-08-04T17:46:32.442Z"
   },
   {
    "duration": 185,
    "start_time": "2021-08-04T17:46:32.449Z"
   },
   {
    "duration": 185,
    "start_time": "2021-08-04T17:46:32.450Z"
   },
   {
    "duration": 182,
    "start_time": "2021-08-04T17:46:32.453Z"
   },
   {
    "duration": 181,
    "start_time": "2021-08-04T17:46:32.456Z"
   },
   {
    "duration": 176,
    "start_time": "2021-08-04T17:46:32.462Z"
   },
   {
    "duration": 174,
    "start_time": "2021-08-04T17:46:32.465Z"
   },
   {
    "duration": 173,
    "start_time": "2021-08-04T17:46:32.467Z"
   },
   {
    "duration": 1172,
    "start_time": "2021-08-04T17:47:07.230Z"
   },
   {
    "duration": 3,
    "start_time": "2021-08-04T17:47:08.404Z"
   },
   {
    "duration": 589,
    "start_time": "2021-08-04T17:47:08.409Z"
   },
   {
    "duration": 23,
    "start_time": "2021-08-04T17:47:09.000Z"
   },
   {
    "duration": 209,
    "start_time": "2021-08-04T17:47:09.025Z"
   },
   {
    "duration": 8,
    "start_time": "2021-08-04T17:47:09.236Z"
   },
   {
    "duration": 4,
    "start_time": "2021-08-04T17:47:09.245Z"
   },
   {
    "duration": 5,
    "start_time": "2021-08-04T17:47:09.251Z"
   },
   {
    "duration": 11,
    "start_time": "2021-08-04T17:47:09.258Z"
   },
   {
    "duration": 9,
    "start_time": "2021-08-04T17:47:09.270Z"
   },
   {
    "duration": 149,
    "start_time": "2021-08-04T17:47:09.280Z"
   },
   {
    "duration": 12,
    "start_time": "2021-08-04T17:47:09.431Z"
   },
   {
    "duration": 81,
    "start_time": "2021-08-04T17:47:09.444Z"
   },
   {
    "duration": 325,
    "start_time": "2021-08-04T17:47:09.202Z"
   },
   {
    "duration": 311,
    "start_time": "2021-08-04T17:47:09.217Z"
   },
   {
    "duration": 309,
    "start_time": "2021-08-04T17:47:09.220Z"
   },
   {
    "duration": 308,
    "start_time": "2021-08-04T17:47:09.222Z"
   },
   {
    "duration": 296,
    "start_time": "2021-08-04T17:47:09.235Z"
   },
   {
    "duration": 294,
    "start_time": "2021-08-04T17:47:09.238Z"
   },
   {
    "duration": 293,
    "start_time": "2021-08-04T17:47:09.240Z"
   },
   {
    "duration": 286,
    "start_time": "2021-08-04T17:47:09.248Z"
   },
   {
    "duration": 285,
    "start_time": "2021-08-04T17:47:09.250Z"
   },
   {
    "duration": 283,
    "start_time": "2021-08-04T17:47:09.252Z"
   },
   {
    "duration": 280,
    "start_time": "2021-08-04T17:47:09.256Z"
   },
   {
    "duration": 273,
    "start_time": "2021-08-04T17:47:09.264Z"
   },
   {
    "duration": 272,
    "start_time": "2021-08-04T17:47:09.266Z"
   },
   {
    "duration": 269,
    "start_time": "2021-08-04T17:47:09.270Z"
   },
   {
    "duration": 261,
    "start_time": "2021-08-04T17:47:09.279Z"
   },
   {
    "duration": 260,
    "start_time": "2021-08-04T17:47:09.281Z"
   },
   {
    "duration": 252,
    "start_time": "2021-08-04T17:47:09.290Z"
   },
   {
    "duration": 251,
    "start_time": "2021-08-04T17:47:09.292Z"
   },
   {
    "duration": 249,
    "start_time": "2021-08-04T17:47:09.295Z"
   },
   {
    "duration": 243,
    "start_time": "2021-08-04T17:47:09.302Z"
   },
   {
    "duration": 239,
    "start_time": "2021-08-04T17:47:09.306Z"
   },
   {
    "duration": 239,
    "start_time": "2021-08-04T17:47:09.308Z"
   },
   {
    "duration": 233,
    "start_time": "2021-08-04T17:47:09.314Z"
   },
   {
    "duration": 232,
    "start_time": "2021-08-04T17:47:09.316Z"
   },
   {
    "duration": 228,
    "start_time": "2021-08-04T17:47:09.321Z"
   },
   {
    "duration": 222,
    "start_time": "2021-08-04T17:47:09.328Z"
   },
   {
    "duration": 220,
    "start_time": "2021-08-04T17:47:09.330Z"
   },
   {
    "duration": 219,
    "start_time": "2021-08-04T17:47:09.332Z"
   },
   {
    "duration": 218,
    "start_time": "2021-08-04T17:47:09.334Z"
   },
   {
    "duration": 212,
    "start_time": "2021-08-04T17:47:09.341Z"
   },
   {
    "duration": 211,
    "start_time": "2021-08-04T17:47:09.343Z"
   },
   {
    "duration": 211,
    "start_time": "2021-08-04T17:47:09.344Z"
   },
   {
    "duration": 3,
    "start_time": "2021-08-04T17:47:42.769Z"
   },
   {
    "duration": 1165,
    "start_time": "2021-08-04T17:47:47.424Z"
   },
   {
    "duration": 3,
    "start_time": "2021-08-04T17:47:48.590Z"
   },
   {
    "duration": 588,
    "start_time": "2021-08-04T17:47:48.594Z"
   },
   {
    "duration": 20,
    "start_time": "2021-08-04T17:47:49.183Z"
   },
   {
    "duration": 201,
    "start_time": "2021-08-04T17:47:49.205Z"
   },
   {
    "duration": 6,
    "start_time": "2021-08-04T17:47:49.407Z"
   },
   {
    "duration": 8,
    "start_time": "2021-08-04T17:47:49.415Z"
   },
   {
    "duration": 12,
    "start_time": "2021-08-04T17:47:49.425Z"
   },
   {
    "duration": 10,
    "start_time": "2021-08-04T17:47:49.442Z"
   },
   {
    "duration": 6,
    "start_time": "2021-08-04T17:47:49.454Z"
   },
   {
    "duration": 141,
    "start_time": "2021-08-04T17:47:49.462Z"
   },
   {
    "duration": 7,
    "start_time": "2021-08-04T17:47:49.604Z"
   },
   {
    "duration": 4,
    "start_time": "2021-08-04T17:47:49.614Z"
   },
   {
    "duration": 4826,
    "start_time": "2021-08-04T17:47:49.620Z"
   },
   {
    "duration": 5,
    "start_time": "2021-08-04T17:47:54.448Z"
   },
   {
    "duration": 22,
    "start_time": "2021-08-04T17:47:54.455Z"
   },
   {
    "duration": 10,
    "start_time": "2021-08-04T17:47:54.479Z"
   },
   {
    "duration": 15,
    "start_time": "2021-08-04T17:47:54.490Z"
   },
   {
    "duration": 234,
    "start_time": "2021-08-04T17:47:54.506Z"
   },
   {
    "duration": 4,
    "start_time": "2021-08-04T17:47:54.742Z"
   },
   {
    "duration": 97,
    "start_time": "2021-08-04T17:47:54.748Z"
   },
   {
    "duration": 329,
    "start_time": "2021-08-04T17:47:54.518Z"
   },
   {
    "duration": 327,
    "start_time": "2021-08-04T17:47:54.521Z"
   },
   {
    "duration": 326,
    "start_time": "2021-08-04T17:47:54.523Z"
   },
   {
    "duration": 326,
    "start_time": "2021-08-04T17:47:54.524Z"
   },
   {
    "duration": 320,
    "start_time": "2021-08-04T17:47:54.530Z"
   },
   {
    "duration": 307,
    "start_time": "2021-08-04T17:47:54.544Z"
   },
   {
    "duration": 306,
    "start_time": "2021-08-04T17:47:54.546Z"
   },
   {
    "duration": 305,
    "start_time": "2021-08-04T17:47:54.548Z"
   },
   {
    "duration": 303,
    "start_time": "2021-08-04T17:47:54.551Z"
   },
   {
    "duration": 298,
    "start_time": "2021-08-04T17:47:54.557Z"
   },
   {
    "duration": 297,
    "start_time": "2021-08-04T17:47:54.559Z"
   },
   {
    "duration": 295,
    "start_time": "2021-08-04T17:47:54.561Z"
   },
   {
    "duration": 293,
    "start_time": "2021-08-04T17:47:54.564Z"
   },
   {
    "duration": 289,
    "start_time": "2021-08-04T17:47:54.569Z"
   },
   {
    "duration": 288,
    "start_time": "2021-08-04T17:47:54.571Z"
   },
   {
    "duration": 287,
    "start_time": "2021-08-04T17:47:54.573Z"
   },
   {
    "duration": 286,
    "start_time": "2021-08-04T17:47:54.575Z"
   },
   {
    "duration": 285,
    "start_time": "2021-08-04T17:47:54.577Z"
   },
   {
    "duration": 280,
    "start_time": "2021-08-04T17:47:54.583Z"
   },
   {
    "duration": 280,
    "start_time": "2021-08-04T17:47:54.584Z"
   },
   {
    "duration": 279,
    "start_time": "2021-08-04T17:47:54.586Z"
   },
   {
    "duration": 278,
    "start_time": "2021-08-04T17:47:54.588Z"
   },
   {
    "duration": 277,
    "start_time": "2021-08-04T17:47:54.590Z"
   },
   {
    "duration": 271,
    "start_time": "2021-08-04T17:47:54.597Z"
   },
   {
    "duration": 3,
    "start_time": "2021-08-04T17:48:05.829Z"
   },
   {
    "duration": 11,
    "start_time": "2021-08-04T17:48:11.581Z"
   },
   {
    "duration": 6032,
    "start_time": "2021-08-04T17:48:18.813Z"
   },
   {
    "duration": 113,
    "start_time": "2021-08-04T17:48:33.239Z"
   },
   {
    "duration": 125,
    "start_time": "2021-08-04T17:48:43.952Z"
   },
   {
    "duration": 5,
    "start_time": "2021-08-04T17:49:38.089Z"
   },
   {
    "duration": 7,
    "start_time": "2021-08-04T17:49:59.865Z"
   },
   {
    "duration": 123,
    "start_time": "2021-08-04T17:50:17.522Z"
   },
   {
    "duration": 1112,
    "start_time": "2021-08-04T17:51:00.480Z"
   },
   {
    "duration": 2,
    "start_time": "2021-08-04T17:51:01.594Z"
   },
   {
    "duration": 606,
    "start_time": "2021-08-04T17:51:01.599Z"
   },
   {
    "duration": 22,
    "start_time": "2021-08-04T17:51:02.207Z"
   },
   {
    "duration": 198,
    "start_time": "2021-08-04T17:51:02.241Z"
   },
   {
    "duration": 6,
    "start_time": "2021-08-04T17:51:02.441Z"
   },
   {
    "duration": 9,
    "start_time": "2021-08-04T17:51:02.449Z"
   },
   {
    "duration": 19,
    "start_time": "2021-08-04T17:51:02.459Z"
   },
   {
    "duration": 11,
    "start_time": "2021-08-04T17:51:02.482Z"
   },
   {
    "duration": 5,
    "start_time": "2021-08-04T17:51:02.496Z"
   },
   {
    "duration": 132,
    "start_time": "2021-08-04T17:51:02.503Z"
   },
   {
    "duration": 9,
    "start_time": "2021-08-04T17:51:02.637Z"
   },
   {
    "duration": 5,
    "start_time": "2021-08-04T17:51:02.648Z"
   },
   {
    "duration": 3126,
    "start_time": "2021-08-04T17:51:02.655Z"
   },
   {
    "duration": 4,
    "start_time": "2021-08-04T17:51:05.783Z"
   },
   {
    "duration": 14,
    "start_time": "2021-08-04T17:51:05.788Z"
   },
   {
    "duration": 8,
    "start_time": "2021-08-04T17:51:05.803Z"
   },
   {
    "duration": 7,
    "start_time": "2021-08-04T17:51:05.813Z"
   },
   {
    "duration": 240,
    "start_time": "2021-08-04T17:51:05.821Z"
   },
   {
    "duration": 3,
    "start_time": "2021-08-04T17:51:06.062Z"
   },
   {
    "duration": 86,
    "start_time": "2021-08-04T17:51:06.066Z"
   },
   {
    "duration": 329,
    "start_time": "2021-08-04T17:51:05.825Z"
   },
   {
    "duration": 328,
    "start_time": "2021-08-04T17:51:05.827Z"
   },
   {
    "duration": 327,
    "start_time": "2021-08-04T17:51:05.829Z"
   },
   {
    "duration": 326,
    "start_time": "2021-08-04T17:51:05.831Z"
   },
   {
    "duration": 320,
    "start_time": "2021-08-04T17:51:05.838Z"
   },
   {
    "duration": 313,
    "start_time": "2021-08-04T17:51:05.845Z"
   },
   {
    "duration": 303,
    "start_time": "2021-08-04T17:51:05.856Z"
   },
   {
    "duration": 297,
    "start_time": "2021-08-04T17:51:05.863Z"
   },
   {
    "duration": 296,
    "start_time": "2021-08-04T17:51:05.865Z"
   },
   {
    "duration": 295,
    "start_time": "2021-08-04T17:51:05.867Z"
   },
   {
    "duration": 294,
    "start_time": "2021-08-04T17:51:05.869Z"
   },
   {
    "duration": 293,
    "start_time": "2021-08-04T17:51:05.871Z"
   },
   {
    "duration": 287,
    "start_time": "2021-08-04T17:51:05.877Z"
   },
   {
    "duration": 286,
    "start_time": "2021-08-04T17:51:05.879Z"
   },
   {
    "duration": 284,
    "start_time": "2021-08-04T17:51:05.882Z"
   },
   {
    "duration": 283,
    "start_time": "2021-08-04T17:51:05.884Z"
   },
   {
    "duration": 276,
    "start_time": "2021-08-04T17:51:05.891Z"
   },
   {
    "duration": 275,
    "start_time": "2021-08-04T17:51:05.893Z"
   },
   {
    "duration": 274,
    "start_time": "2021-08-04T17:51:05.895Z"
   },
   {
    "duration": 273,
    "start_time": "2021-08-04T17:51:05.897Z"
   },
   {
    "duration": 268,
    "start_time": "2021-08-04T17:51:05.903Z"
   },
   {
    "duration": 267,
    "start_time": "2021-08-04T17:51:05.905Z"
   },
   {
    "duration": 263,
    "start_time": "2021-08-04T17:51:05.909Z"
   },
   {
    "duration": 257,
    "start_time": "2021-08-04T17:51:05.916Z"
   },
   {
    "duration": 257,
    "start_time": "2021-08-04T17:51:05.917Z"
   },
   {
    "duration": 256,
    "start_time": "2021-08-04T17:51:05.919Z"
   },
   {
    "duration": 3,
    "start_time": "2021-08-04T17:51:11.111Z"
   },
   {
    "duration": 9,
    "start_time": "2021-08-04T17:51:16.127Z"
   },
   {
    "duration": 5799,
    "start_time": "2021-08-04T17:51:21.543Z"
   },
   {
    "duration": 121,
    "start_time": "2021-08-04T17:51:30.751Z"
   },
   {
    "duration": 127,
    "start_time": "2021-08-04T17:51:35.352Z"
   },
   {
    "duration": 338,
    "start_time": "2021-08-04T17:51:51.384Z"
   },
   {
    "duration": 251,
    "start_time": "2021-08-04T17:52:04.945Z"
   },
   {
    "duration": 261,
    "start_time": "2021-08-04T17:52:09.184Z"
   },
   {
    "duration": 248,
    "start_time": "2021-08-04T17:52:40.890Z"
   },
   {
    "duration": 251,
    "start_time": "2021-08-04T17:52:47.851Z"
   },
   {
    "duration": 993,
    "start_time": "2021-08-04T17:55:03.609Z"
   },
   {
    "duration": 201,
    "start_time": "2021-08-04T17:55:15.377Z"
   },
   {
    "duration": 862,
    "start_time": "2021-08-04T17:55:19.680Z"
   },
   {
    "duration": 185,
    "start_time": "2021-08-04T17:55:24.960Z"
   },
   {
    "duration": 1127,
    "start_time": "2021-08-04T17:58:58.866Z"
   },
   {
    "duration": 3,
    "start_time": "2021-08-04T17:58:59.994Z"
   },
   {
    "duration": 635,
    "start_time": "2021-08-04T17:58:59.999Z"
   },
   {
    "duration": 30,
    "start_time": "2021-08-04T17:59:00.636Z"
   },
   {
    "duration": 238,
    "start_time": "2021-08-04T17:59:00.668Z"
   },
   {
    "duration": 6,
    "start_time": "2021-08-04T17:59:00.908Z"
   },
   {
    "duration": 15,
    "start_time": "2021-08-04T17:59:00.915Z"
   },
   {
    "duration": 13,
    "start_time": "2021-08-04T17:59:00.933Z"
   },
   {
    "duration": 14,
    "start_time": "2021-08-04T17:59:00.948Z"
   },
   {
    "duration": 11,
    "start_time": "2021-08-04T17:59:00.964Z"
   },
   {
    "duration": 2184,
    "start_time": "2021-08-04T17:59:00.976Z"
   },
   {
    "duration": 3,
    "start_time": "2021-08-04T17:59:03.167Z"
   },
   {
    "duration": 6,
    "start_time": "2021-08-04T17:59:03.171Z"
   },
   {
    "duration": 32435,
    "start_time": "2021-08-04T17:59:03.178Z"
   },
   {
    "duration": 8,
    "start_time": "2021-08-04T17:59:35.614Z"
   },
   {
    "duration": 19,
    "start_time": "2021-08-04T17:59:35.624Z"
   },
   {
    "duration": 4,
    "start_time": "2021-08-04T17:59:35.645Z"
   },
   {
    "duration": 26,
    "start_time": "2021-08-04T17:59:35.651Z"
   },
   {
    "duration": 267,
    "start_time": "2021-08-04T17:59:35.678Z"
   },
   {
    "duration": 3,
    "start_time": "2021-08-04T17:59:35.946Z"
   },
   {
    "duration": 89,
    "start_time": "2021-08-04T17:59:35.950Z"
   },
   {
    "duration": 325,
    "start_time": "2021-08-04T17:59:35.716Z"
   },
   {
    "duration": 320,
    "start_time": "2021-08-04T17:59:35.722Z"
   },
   {
    "duration": 319,
    "start_time": "2021-08-04T17:59:35.724Z"
   },
   {
    "duration": 318,
    "start_time": "2021-08-04T17:59:35.726Z"
   },
   {
    "duration": 316,
    "start_time": "2021-08-04T17:59:35.728Z"
   },
   {
    "duration": 312,
    "start_time": "2021-08-04T17:59:35.734Z"
   },
   {
    "duration": 310,
    "start_time": "2021-08-04T17:59:35.736Z"
   },
   {
    "duration": 309,
    "start_time": "2021-08-04T17:59:35.739Z"
   },
   {
    "duration": 309,
    "start_time": "2021-08-04T17:59:35.740Z"
   },
   {
    "duration": 303,
    "start_time": "2021-08-04T17:59:35.747Z"
   },
   {
    "duration": 302,
    "start_time": "2021-08-04T17:59:35.749Z"
   },
   {
    "duration": 300,
    "start_time": "2021-08-04T17:59:35.752Z"
   },
   {
    "duration": 299,
    "start_time": "2021-08-04T17:59:35.754Z"
   },
   {
    "duration": 299,
    "start_time": "2021-08-04T17:59:35.755Z"
   },
   {
    "duration": 294,
    "start_time": "2021-08-04T17:59:35.761Z"
   },
   {
    "duration": 293,
    "start_time": "2021-08-04T17:59:35.763Z"
   },
   {
    "duration": 292,
    "start_time": "2021-08-04T17:59:35.765Z"
   },
   {
    "duration": 291,
    "start_time": "2021-08-04T17:59:35.767Z"
   },
   {
    "duration": 286,
    "start_time": "2021-08-04T17:59:35.773Z"
   },
   {
    "duration": 285,
    "start_time": "2021-08-04T17:59:35.775Z"
   },
   {
    "duration": 285,
    "start_time": "2021-08-04T17:59:35.776Z"
   },
   {
    "duration": 283,
    "start_time": "2021-08-04T17:59:35.779Z"
   },
   {
    "duration": 283,
    "start_time": "2021-08-04T17:59:35.780Z"
   },
   {
    "duration": 277,
    "start_time": "2021-08-04T17:59:35.787Z"
   },
   {
    "duration": 276,
    "start_time": "2021-08-04T17:59:35.789Z"
   },
   {
    "duration": 275,
    "start_time": "2021-08-04T17:59:35.791Z"
   },
   {
    "duration": 3,
    "start_time": "2021-08-04T17:59:45.432Z"
   },
   {
    "duration": 27,
    "start_time": "2021-08-04T17:59:50.720Z"
   },
   {
    "duration": 110709,
    "start_time": "2021-08-04T17:59:55.265Z"
   },
   {
    "duration": 2306,
    "start_time": "2021-08-04T18:02:31.871Z"
   },
   {
    "duration": 2494,
    "start_time": "2021-08-04T18:02:36.758Z"
   },
   {
    "duration": 322,
    "start_time": "2021-08-04T18:06:19.150Z"
   },
   {
    "duration": 1211,
    "start_time": "2021-08-04T18:06:35.325Z"
   },
   {
    "duration": 4,
    "start_time": "2021-08-04T18:06:36.537Z"
   },
   {
    "duration": 717,
    "start_time": "2021-08-04T18:06:36.543Z"
   },
   {
    "duration": 26,
    "start_time": "2021-08-04T18:06:37.262Z"
   },
   {
    "duration": 219,
    "start_time": "2021-08-04T18:06:37.290Z"
   },
   {
    "duration": 6,
    "start_time": "2021-08-04T18:06:37.510Z"
   },
   {
    "duration": 4,
    "start_time": "2021-08-04T18:06:37.518Z"
   },
   {
    "duration": 7,
    "start_time": "2021-08-04T18:06:37.523Z"
   },
   {
    "duration": 9,
    "start_time": "2021-08-04T18:06:37.542Z"
   },
   {
    "duration": 5,
    "start_time": "2021-08-04T18:06:37.553Z"
   },
   {
    "duration": 2133,
    "start_time": "2021-08-04T18:06:37.559Z"
   },
   {
    "duration": 5,
    "start_time": "2021-08-04T18:06:39.694Z"
   },
   {
    "duration": 5,
    "start_time": "2021-08-04T18:06:39.701Z"
   },
   {
    "duration": 33928,
    "start_time": "2021-08-04T18:06:39.708Z"
   },
   {
    "duration": 9,
    "start_time": "2021-08-04T18:07:13.641Z"
   },
   {
    "duration": 11,
    "start_time": "2021-08-04T18:07:13.652Z"
   },
   {
    "duration": 4,
    "start_time": "2021-08-04T18:07:13.664Z"
   },
   {
    "duration": 44,
    "start_time": "2021-08-04T18:07:13.670Z"
   },
   {
    "duration": 257,
    "start_time": "2021-08-04T18:07:13.716Z"
   },
   {
    "duration": 5,
    "start_time": "2021-08-04T18:07:13.975Z"
   },
   {
    "duration": 145,
    "start_time": "2021-08-04T18:07:13.982Z"
   },
   {
    "duration": 344,
    "start_time": "2021-08-04T18:07:13.786Z"
   },
   {
    "duration": 341,
    "start_time": "2021-08-04T18:07:13.790Z"
   },
   {
    "duration": 340,
    "start_time": "2021-08-04T18:07:13.792Z"
   },
   {
    "duration": 339,
    "start_time": "2021-08-04T18:07:13.794Z"
   },
   {
    "duration": 333,
    "start_time": "2021-08-04T18:07:13.801Z"
   },
   {
    "duration": 332,
    "start_time": "2021-08-04T18:07:13.803Z"
   },
   {
    "duration": 330,
    "start_time": "2021-08-04T18:07:13.805Z"
   },
   {
    "duration": 329,
    "start_time": "2021-08-04T18:07:13.807Z"
   },
   {
    "duration": 322,
    "start_time": "2021-08-04T18:07:13.815Z"
   },
   {
    "duration": 320,
    "start_time": "2021-08-04T18:07:13.818Z"
   },
   {
    "duration": 318,
    "start_time": "2021-08-04T18:07:13.821Z"
   },
   {
    "duration": 312,
    "start_time": "2021-08-04T18:07:13.828Z"
   },
   {
    "duration": 309,
    "start_time": "2021-08-04T18:07:13.832Z"
   },
   {
    "duration": 308,
    "start_time": "2021-08-04T18:07:13.834Z"
   },
   {
    "duration": 303,
    "start_time": "2021-08-04T18:07:13.840Z"
   },
   {
    "duration": 301,
    "start_time": "2021-08-04T18:07:13.842Z"
   },
   {
    "duration": 300,
    "start_time": "2021-08-04T18:07:13.844Z"
   },
   {
    "duration": 299,
    "start_time": "2021-08-04T18:07:13.846Z"
   },
   {
    "duration": 294,
    "start_time": "2021-08-04T18:07:13.852Z"
   },
   {
    "duration": 293,
    "start_time": "2021-08-04T18:07:13.854Z"
   },
   {
    "duration": 291,
    "start_time": "2021-08-04T18:07:13.857Z"
   },
   {
    "duration": 290,
    "start_time": "2021-08-04T18:07:13.859Z"
   },
   {
    "duration": 285,
    "start_time": "2021-08-04T18:07:13.865Z"
   },
   {
    "duration": 284,
    "start_time": "2021-08-04T18:07:13.867Z"
   },
   {
    "duration": 283,
    "start_time": "2021-08-04T18:07:13.869Z"
   },
   {
    "duration": 282,
    "start_time": "2021-08-04T18:07:13.871Z"
   },
   {
    "duration": 281,
    "start_time": "2021-08-04T18:07:13.873Z"
   },
   {
    "duration": 3,
    "start_time": "2021-08-04T18:07:21.309Z"
   },
   {
    "duration": 27,
    "start_time": "2021-08-04T18:07:56.567Z"
   },
   {
    "duration": 6,
    "start_time": "2021-08-04T18:08:04.918Z"
   },
   {
    "duration": 1170,
    "start_time": "2021-08-04T18:08:51.217Z"
   },
   {
    "duration": 3,
    "start_time": "2021-08-04T18:08:52.389Z"
   },
   {
    "duration": 606,
    "start_time": "2021-08-04T18:08:52.393Z"
   },
   {
    "duration": 23,
    "start_time": "2021-08-04T18:08:53.001Z"
   },
   {
    "duration": 217,
    "start_time": "2021-08-04T18:08:53.025Z"
   },
   {
    "duration": 6,
    "start_time": "2021-08-04T18:08:53.243Z"
   },
   {
    "duration": 8,
    "start_time": "2021-08-04T18:08:53.250Z"
   },
   {
    "duration": 10,
    "start_time": "2021-08-04T18:08:53.260Z"
   },
   {
    "duration": 13,
    "start_time": "2021-08-04T18:08:53.272Z"
   },
   {
    "duration": 4,
    "start_time": "2021-08-04T18:08:53.287Z"
   },
   {
    "duration": 2195,
    "start_time": "2021-08-04T18:08:53.292Z"
   },
   {
    "duration": 6,
    "start_time": "2021-08-04T18:08:55.489Z"
   },
   {
    "duration": 5,
    "start_time": "2021-08-04T18:08:55.497Z"
   },
   {
    "duration": 32148,
    "start_time": "2021-08-04T18:08:55.503Z"
   },
   {
    "duration": 6,
    "start_time": "2021-08-04T18:09:27.654Z"
   },
   {
    "duration": 12,
    "start_time": "2021-08-04T18:09:27.662Z"
   },
   {
    "duration": 81,
    "start_time": "2021-08-04T18:09:27.676Z"
   },
   {
    "duration": 350,
    "start_time": "2021-08-04T18:09:27.409Z"
   },
   {
    "duration": 348,
    "start_time": "2021-08-04T18:09:27.412Z"
   },
   {
    "duration": 337,
    "start_time": "2021-08-04T18:09:27.423Z"
   },
   {
    "duration": 325,
    "start_time": "2021-08-04T18:09:27.436Z"
   },
   {
    "duration": 324,
    "start_time": "2021-08-04T18:09:27.438Z"
   },
   {
    "duration": 323,
    "start_time": "2021-08-04T18:09:27.440Z"
   },
   {
    "duration": 317,
    "start_time": "2021-08-04T18:09:27.447Z"
   },
   {
    "duration": 315,
    "start_time": "2021-08-04T18:09:27.449Z"
   },
   {
    "duration": 314,
    "start_time": "2021-08-04T18:09:27.451Z"
   },
   {
    "duration": 313,
    "start_time": "2021-08-04T18:09:27.453Z"
   },
   {
    "duration": 308,
    "start_time": "2021-08-04T18:09:27.459Z"
   },
   {
    "duration": 307,
    "start_time": "2021-08-04T18:09:27.461Z"
   },
   {
    "duration": 305,
    "start_time": "2021-08-04T18:09:27.463Z"
   },
   {
    "duration": 304,
    "start_time": "2021-08-04T18:09:27.465Z"
   },
   {
    "duration": 302,
    "start_time": "2021-08-04T18:09:27.468Z"
   },
   {
    "duration": 297,
    "start_time": "2021-08-04T18:09:27.474Z"
   },
   {
    "duration": 296,
    "start_time": "2021-08-04T18:09:27.476Z"
   },
   {
    "duration": 294,
    "start_time": "2021-08-04T18:09:27.478Z"
   },
   {
    "duration": 285,
    "start_time": "2021-08-04T18:09:27.488Z"
   },
   {
    "duration": 283,
    "start_time": "2021-08-04T18:09:27.491Z"
   },
   {
    "duration": 282,
    "start_time": "2021-08-04T18:09:27.493Z"
   },
   {
    "duration": 277,
    "start_time": "2021-08-04T18:09:27.499Z"
   },
   {
    "duration": 276,
    "start_time": "2021-08-04T18:09:27.501Z"
   },
   {
    "duration": 275,
    "start_time": "2021-08-04T18:09:27.503Z"
   },
   {
    "duration": 273,
    "start_time": "2021-08-04T18:09:27.505Z"
   },
   {
    "duration": 272,
    "start_time": "2021-08-04T18:09:27.507Z"
   },
   {
    "duration": 266,
    "start_time": "2021-08-04T18:09:27.514Z"
   },
   {
    "duration": 265,
    "start_time": "2021-08-04T18:09:27.516Z"
   },
   {
    "duration": 264,
    "start_time": "2021-08-04T18:09:27.518Z"
   },
   {
    "duration": 263,
    "start_time": "2021-08-04T18:09:27.520Z"
   },
   {
    "duration": 262,
    "start_time": "2021-08-04T18:09:27.522Z"
   },
   {
    "duration": 3,
    "start_time": "2021-08-04T18:10:07.187Z"
   },
   {
    "duration": 24,
    "start_time": "2021-08-04T18:10:09.906Z"
   },
   {
    "duration": 212,
    "start_time": "2021-08-04T18:10:13.643Z"
   },
   {
    "duration": 3,
    "start_time": "2021-08-04T18:10:41.063Z"
   },
   {
    "duration": 2,
    "start_time": "2021-08-04T18:10:42.236Z"
   },
   {
    "duration": 17,
    "start_time": "2021-08-04T18:10:45.966Z"
   },
   {
    "duration": 5,
    "start_time": "2021-08-04T18:10:53.461Z"
   },
   {
    "duration": 53279,
    "start_time": "2021-08-04T18:10:58.470Z"
   },
   {
    "duration": 1038,
    "start_time": "2021-08-04T18:12:09.928Z"
   },
   {
    "duration": 7031,
    "start_time": "2021-08-04T18:12:14.472Z"
   },
   {
    "duration": 6,
    "start_time": "2021-08-04T18:14:03.189Z"
   },
   {
    "duration": 4,
    "start_time": "2021-08-04T18:14:12.229Z"
   },
   {
    "duration": 3492,
    "start_time": "2021-08-04T18:15:16.999Z"
   },
   {
    "duration": 24,
    "start_time": "2021-08-04T18:15:42.985Z"
   },
   {
    "duration": 18,
    "start_time": "2021-08-04T18:15:48.841Z"
   },
   {
    "duration": 481,
    "start_time": "2021-08-04T18:16:10.161Z"
   },
   {
    "duration": 26,
    "start_time": "2021-08-04T18:16:19.802Z"
   },
   {
    "duration": 421,
    "start_time": "2021-08-04T18:16:31.546Z"
   },
   {
    "duration": 440,
    "start_time": "2021-08-04T18:16:47.147Z"
   },
   {
    "duration": 4768,
    "start_time": "2021-08-04T18:16:50.363Z"
   },
   {
    "duration": 18,
    "start_time": "2021-08-04T18:17:10.253Z"
   },
   {
    "duration": 454,
    "start_time": "2021-08-04T18:17:21.820Z"
   },
   {
    "duration": 19,
    "start_time": "2021-08-04T18:17:24.612Z"
   },
   {
    "duration": 26,
    "start_time": "2021-08-04T18:17:36.437Z"
   },
   {
    "duration": 428,
    "start_time": "2021-08-04T18:18:52.272Z"
   },
   {
    "duration": 776,
    "start_time": "2021-08-04T18:19:28.778Z"
   },
   {
    "duration": 89,
    "start_time": "2021-08-04T18:20:01.659Z"
   },
   {
    "duration": 979,
    "start_time": "2021-08-04T18:20:06.659Z"
   },
   {
    "duration": 24,
    "start_time": "2021-08-04T18:22:52.162Z"
   },
   {
    "duration": 3483,
    "start_time": "2021-08-04T18:24:19.877Z"
   },
   {
    "duration": 3617,
    "start_time": "2021-08-04T18:24:39.678Z"
   },
   {
    "duration": 18,
    "start_time": "2021-08-04T18:24:55.870Z"
   },
   {
    "duration": 19,
    "start_time": "2021-08-04T18:25:04.558Z"
   },
   {
    "duration": 23,
    "start_time": "2021-08-04T18:25:33.248Z"
   },
   {
    "duration": 21,
    "start_time": "2021-08-04T18:25:49.704Z"
   },
   {
    "duration": 545,
    "start_time": "2021-08-04T18:26:02.729Z"
   },
   {
    "duration": 501,
    "start_time": "2021-08-04T18:26:07.361Z"
   },
   {
    "duration": 7,
    "start_time": "2021-08-04T18:26:28.290Z"
   },
   {
    "duration": 57,
    "start_time": "2021-08-04T18:29:34.488Z"
   },
   {
    "duration": 578,
    "start_time": "2021-08-04T18:31:56.019Z"
   },
   {
    "duration": 6,
    "start_time": "2021-08-04T18:32:00.455Z"
   },
   {
    "duration": 1167,
    "start_time": "2021-08-04T18:32:09.951Z"
   },
   {
    "duration": 4,
    "start_time": "2021-08-04T18:32:26.335Z"
   },
   {
    "duration": 283,
    "start_time": "2021-08-04T18:32:32.513Z"
   },
   {
    "duration": 19,
    "start_time": "2021-08-04T18:32:55.728Z"
   },
   {
    "duration": 1230,
    "start_time": "2021-08-04T18:33:51.826Z"
   },
   {
    "duration": 3,
    "start_time": "2021-08-04T18:33:53.058Z"
   },
   {
    "duration": 630,
    "start_time": "2021-08-04T18:33:53.065Z"
   },
   {
    "duration": 22,
    "start_time": "2021-08-04T18:33:53.696Z"
   },
   {
    "duration": 338,
    "start_time": "2021-08-04T18:33:53.720Z"
   },
   {
    "duration": 6,
    "start_time": "2021-08-04T18:33:54.060Z"
   },
   {
    "duration": 6,
    "start_time": "2021-08-04T18:33:54.069Z"
   },
   {
    "duration": 5,
    "start_time": "2021-08-04T18:33:54.077Z"
   },
   {
    "duration": 7,
    "start_time": "2021-08-04T18:33:54.084Z"
   },
   {
    "duration": 7,
    "start_time": "2021-08-04T18:33:54.092Z"
   },
   {
    "duration": 180,
    "start_time": "2021-08-04T18:33:54.100Z"
   },
   {
    "duration": 5,
    "start_time": "2021-08-04T18:33:54.282Z"
   },
   {
    "duration": 5,
    "start_time": "2021-08-04T18:33:54.289Z"
   },
   {
    "duration": 3378,
    "start_time": "2021-08-04T18:33:54.295Z"
   },
   {
    "duration": 3,
    "start_time": "2021-08-04T18:33:57.675Z"
   },
   {
    "duration": 12,
    "start_time": "2021-08-04T18:33:57.680Z"
   },
   {
    "duration": 10,
    "start_time": "2021-08-04T18:33:57.693Z"
   },
   {
    "duration": 4,
    "start_time": "2021-08-04T18:33:57.704Z"
   },
   {
    "duration": 8,
    "start_time": "2021-08-04T18:33:57.709Z"
   },
   {
    "duration": 216,
    "start_time": "2021-08-04T18:33:57.719Z"
   },
   {
    "duration": 4,
    "start_time": "2021-08-04T18:33:57.937Z"
   },
   {
    "duration": 7,
    "start_time": "2021-08-04T18:33:57.945Z"
   },
   {
    "duration": 22595,
    "start_time": "2021-08-04T18:33:57.954Z"
   },
   {
    "duration": 9,
    "start_time": "2021-08-04T18:34:20.641Z"
   },
   {
    "duration": 174,
    "start_time": "2021-08-04T18:34:20.652Z"
   },
   {
    "duration": 380,
    "start_time": "2021-08-04T18:34:20.448Z"
   },
   {
    "duration": 379,
    "start_time": "2021-08-04T18:34:20.450Z"
   },
   {
    "duration": 378,
    "start_time": "2021-08-04T18:34:20.452Z"
   },
   {
    "duration": 368,
    "start_time": "2021-08-04T18:34:20.462Z"
   },
   {
    "duration": 366,
    "start_time": "2021-08-04T18:34:20.465Z"
   },
   {
    "duration": 359,
    "start_time": "2021-08-04T18:34:20.473Z"
   },
   {
    "duration": 358,
    "start_time": "2021-08-04T18:34:20.475Z"
   },
   {
    "duration": 356,
    "start_time": "2021-08-04T18:34:20.478Z"
   },
   {
    "duration": 355,
    "start_time": "2021-08-04T18:34:20.479Z"
   },
   {
    "duration": 348,
    "start_time": "2021-08-04T18:34:20.487Z"
   },
   {
    "duration": 347,
    "start_time": "2021-08-04T18:34:20.489Z"
   },
   {
    "duration": 346,
    "start_time": "2021-08-04T18:34:20.491Z"
   },
   {
    "duration": 344,
    "start_time": "2021-08-04T18:34:20.494Z"
   },
   {
    "duration": 338,
    "start_time": "2021-08-04T18:34:20.501Z"
   },
   {
    "duration": 337,
    "start_time": "2021-08-04T18:34:20.503Z"
   },
   {
    "duration": 335,
    "start_time": "2021-08-04T18:34:20.505Z"
   },
   {
    "duration": 329,
    "start_time": "2021-08-04T18:34:20.512Z"
   },
   {
    "duration": 327,
    "start_time": "2021-08-04T18:34:20.515Z"
   },
   {
    "duration": 326,
    "start_time": "2021-08-04T18:34:20.517Z"
   },
   {
    "duration": 325,
    "start_time": "2021-08-04T18:34:20.519Z"
   },
   {
    "duration": 319,
    "start_time": "2021-08-04T18:34:20.526Z"
   },
   {
    "duration": 317,
    "start_time": "2021-08-04T18:34:20.529Z"
   },
   {
    "duration": 316,
    "start_time": "2021-08-04T18:34:20.531Z"
   },
   {
    "duration": 316,
    "start_time": "2021-08-04T18:34:20.533Z"
   },
   {
    "duration": 310,
    "start_time": "2021-08-04T18:34:20.540Z"
   },
   {
    "duration": 6,
    "start_time": "2021-08-04T18:34:33.013Z"
   },
   {
    "duration": 5886,
    "start_time": "2021-08-04T18:34:42.876Z"
   },
   {
    "duration": 123,
    "start_time": "2021-08-04T18:34:51.278Z"
   },
   {
    "duration": 146,
    "start_time": "2021-08-04T18:34:55.037Z"
   },
   {
    "duration": 1051,
    "start_time": "2021-08-04T18:34:58.781Z"
   },
   {
    "duration": 12524,
    "start_time": "2021-08-04T18:35:06.117Z"
   },
   {
    "duration": 3851,
    "start_time": "2021-08-04T18:35:36.191Z"
   },
   {
    "duration": 188,
    "start_time": "2021-08-04T18:36:02.575Z"
   },
   {
    "duration": 3293,
    "start_time": "2021-08-04T18:36:05.560Z"
   },
   {
    "duration": 198,
    "start_time": "2021-08-04T18:36:10.648Z"
   },
   {
    "duration": 27514,
    "start_time": "2021-08-04T18:36:15.801Z"
   },
   {
    "duration": 343,
    "start_time": "2021-08-04T18:37:11.939Z"
   },
   {
    "duration": 3,
    "start_time": "2021-08-04T18:45:59.895Z"
   },
   {
    "duration": 3,
    "start_time": "2021-08-04T18:46:02.903Z"
   },
   {
    "duration": 417,
    "start_time": "2021-08-04T18:46:06.975Z"
   },
   {
    "duration": 1163,
    "start_time": "2021-08-04T18:46:23.975Z"
   },
   {
    "duration": 3,
    "start_time": "2021-08-04T18:46:25.139Z"
   },
   {
    "duration": 647,
    "start_time": "2021-08-04T18:46:25.144Z"
   },
   {
    "duration": 27,
    "start_time": "2021-08-04T18:46:25.793Z"
   },
   {
    "duration": 236,
    "start_time": "2021-08-04T18:46:25.822Z"
   },
   {
    "duration": 5,
    "start_time": "2021-08-04T18:46:26.060Z"
   },
   {
    "duration": 7,
    "start_time": "2021-08-04T18:46:26.067Z"
   },
   {
    "duration": 6,
    "start_time": "2021-08-04T18:46:26.076Z"
   },
   {
    "duration": 11,
    "start_time": "2021-08-04T18:46:26.084Z"
   },
   {
    "duration": 6,
    "start_time": "2021-08-04T18:46:26.097Z"
   },
   {
    "duration": 167,
    "start_time": "2021-08-04T18:46:26.104Z"
   },
   {
    "duration": 5,
    "start_time": "2021-08-04T18:46:26.273Z"
   },
   {
    "duration": 5,
    "start_time": "2021-08-04T18:46:26.280Z"
   },
   {
    "duration": 3246,
    "start_time": "2021-08-04T18:46:26.286Z"
   },
   {
    "duration": 10,
    "start_time": "2021-08-04T18:46:29.534Z"
   },
   {
    "duration": 10,
    "start_time": "2021-08-04T18:46:29.546Z"
   },
   {
    "duration": 7,
    "start_time": "2021-08-04T18:46:29.558Z"
   },
   {
    "duration": 7,
    "start_time": "2021-08-04T18:46:29.567Z"
   },
   {
    "duration": 10,
    "start_time": "2021-08-04T18:46:29.575Z"
   },
   {
    "duration": 225,
    "start_time": "2021-08-04T18:46:29.586Z"
   },
   {
    "duration": 3,
    "start_time": "2021-08-04T18:46:29.813Z"
   },
   {
    "duration": 86,
    "start_time": "2021-08-04T18:46:29.818Z"
   },
   {
    "duration": 399,
    "start_time": "2021-08-04T18:46:29.507Z"
   },
   {
    "duration": 390,
    "start_time": "2021-08-04T18:46:29.518Z"
   },
   {
    "duration": 384,
    "start_time": "2021-08-04T18:46:29.525Z"
   },
   {
    "duration": 376,
    "start_time": "2021-08-04T18:46:29.533Z"
   },
   {
    "duration": 370,
    "start_time": "2021-08-04T18:46:29.540Z"
   },
   {
    "duration": 369,
    "start_time": "2021-08-04T18:46:29.542Z"
   },
   {
    "duration": 367,
    "start_time": "2021-08-04T18:46:29.545Z"
   },
   {
    "duration": 366,
    "start_time": "2021-08-04T18:46:29.547Z"
   },
   {
    "duration": 360,
    "start_time": "2021-08-04T18:46:29.554Z"
   },
   {
    "duration": 359,
    "start_time": "2021-08-04T18:46:29.556Z"
   },
   {
    "duration": 357,
    "start_time": "2021-08-04T18:46:29.559Z"
   },
   {
    "duration": 351,
    "start_time": "2021-08-04T18:46:29.566Z"
   },
   {
    "duration": 348,
    "start_time": "2021-08-04T18:46:29.570Z"
   },
   {
    "duration": 339,
    "start_time": "2021-08-04T18:46:29.580Z"
   },
   {
    "duration": 337,
    "start_time": "2021-08-04T18:46:29.583Z"
   },
   {
    "duration": 336,
    "start_time": "2021-08-04T18:46:29.585Z"
   },
   {
    "duration": 331,
    "start_time": "2021-08-04T18:46:29.591Z"
   },
   {
    "duration": 328,
    "start_time": "2021-08-04T18:46:29.594Z"
   },
   {
    "duration": 327,
    "start_time": "2021-08-04T18:46:29.596Z"
   },
   {
    "duration": 326,
    "start_time": "2021-08-04T18:46:29.598Z"
   },
   {
    "duration": 325,
    "start_time": "2021-08-04T18:46:29.600Z"
   },
   {
    "duration": 319,
    "start_time": "2021-08-04T18:46:29.607Z"
   },
   {
    "duration": 318,
    "start_time": "2021-08-04T18:46:29.609Z"
   },
   {
    "duration": 317,
    "start_time": "2021-08-04T18:46:29.611Z"
   },
   {
    "duration": 315,
    "start_time": "2021-08-04T18:46:29.614Z"
   },
   {
    "duration": 309,
    "start_time": "2021-08-04T18:46:29.621Z"
   },
   {
    "duration": 308,
    "start_time": "2021-08-04T18:46:29.623Z"
   },
   {
    "duration": 307,
    "start_time": "2021-08-04T18:46:29.625Z"
   },
   {
    "duration": 306,
    "start_time": "2021-08-04T18:46:29.627Z"
   },
   {
    "duration": 2,
    "start_time": "2021-08-04T18:46:36.064Z"
   },
   {
    "duration": 363,
    "start_time": "2021-08-04T18:46:40.041Z"
   },
   {
    "duration": 9,
    "start_time": "2021-08-04T18:46:43.553Z"
   },
   {
    "duration": 11554,
    "start_time": "2021-08-04T18:46:46.200Z"
   },
   {
    "duration": 257,
    "start_time": "2021-08-04T18:47:00.929Z"
   },
   {
    "duration": 273,
    "start_time": "2021-08-04T18:47:04.337Z"
   },
   {
    "duration": 14,
    "start_time": "2021-08-04T18:50:02.673Z"
   },
   {
    "duration": 8,
    "start_time": "2021-08-04T18:50:32.465Z"
   },
   {
    "duration": 7,
    "start_time": "2021-08-04T18:50:40.905Z"
   },
   {
    "duration": 412,
    "start_time": "2021-08-04T18:51:08.534Z"
   },
   {
    "duration": 7,
    "start_time": "2021-08-04T18:51:12.244Z"
   },
   {
    "duration": 7501,
    "start_time": "2021-08-04T18:53:10.417Z"
   },
   {
    "duration": 7,
    "start_time": "2021-08-04T18:53:31.905Z"
   },
   {
    "duration": 5266,
    "start_time": "2021-08-04T18:53:50.658Z"
   },
   {
    "duration": 4711,
    "start_time": "2021-08-04T18:53:58.386Z"
   },
   {
    "duration": 9,
    "start_time": "2021-08-04T18:54:25.051Z"
   },
   {
    "duration": 3,
    "start_time": "2021-08-04T18:56:13.258Z"
   },
   {
    "duration": 4062,
    "start_time": "2021-08-04T18:56:56.241Z"
   },
   {
    "duration": 3,
    "start_time": "2021-08-04T18:57:47.266Z"
   },
   {
    "duration": 4363,
    "start_time": "2021-08-04T18:57:49.915Z"
   },
   {
    "duration": 4,
    "start_time": "2021-08-04T19:01:37.851Z"
   },
   {
    "duration": 138,
    "start_time": "2021-08-04T19:01:39.635Z"
   },
   {
    "duration": 4,
    "start_time": "2021-08-04T19:02:54.150Z"
   },
   {
    "duration": 2082,
    "start_time": "2021-08-04T19:02:55.270Z"
   },
   {
    "duration": 8,
    "start_time": "2021-08-04T19:03:02.150Z"
   },
   {
    "duration": 3138,
    "start_time": "2021-08-04T19:03:19.815Z"
   },
   {
    "duration": 3514,
    "start_time": "2021-08-04T19:03:36.464Z"
   },
   {
    "duration": 2582,
    "start_time": "2021-08-04T19:03:58.002Z"
   },
   {
    "duration": 102,
    "start_time": "2021-08-04T19:04:08.138Z"
   },
   {
    "duration": 4,
    "start_time": "2021-08-04T19:04:12.442Z"
   },
   {
    "duration": 3,
    "start_time": "2021-08-04T19:04:51.115Z"
   },
   {
    "duration": 2092,
    "start_time": "2021-08-04T19:04:52.074Z"
   },
   {
    "duration": 4,
    "start_time": "2021-08-04T19:04:54.168Z"
   },
   {
    "duration": 4,
    "start_time": "2021-08-04T19:06:18.303Z"
   },
   {
    "duration": 3,
    "start_time": "2021-08-04T19:06:28.134Z"
   },
   {
    "duration": 4,
    "start_time": "2021-08-04T19:06:31.750Z"
   },
   {
    "duration": 153,
    "start_time": "2021-08-04T19:06:33.006Z"
   },
   {
    "duration": 137,
    "start_time": "2021-08-04T19:07:53.610Z"
   },
   {
    "duration": 10,
    "start_time": "2021-08-04T19:08:06.339Z"
   },
   {
    "duration": 10,
    "start_time": "2021-08-04T19:10:40.257Z"
   },
   {
    "duration": 14,
    "start_time": "2021-08-04T19:11:36.146Z"
   },
   {
    "duration": 510,
    "start_time": "2021-08-04T19:12:06.956Z"
   },
   {
    "duration": 3,
    "start_time": "2021-08-04T19:21:05.032Z"
   },
   {
    "duration": 1279,
    "start_time": "2021-08-04T19:21:54.248Z"
   },
   {
    "duration": 3,
    "start_time": "2021-08-04T19:21:55.529Z"
   },
   {
    "duration": 672,
    "start_time": "2021-08-04T19:21:55.541Z"
   },
   {
    "duration": 40,
    "start_time": "2021-08-04T19:21:56.215Z"
   },
   {
    "duration": 218,
    "start_time": "2021-08-04T19:21:56.257Z"
   },
   {
    "duration": 5,
    "start_time": "2021-08-04T19:21:56.477Z"
   },
   {
    "duration": 4,
    "start_time": "2021-08-04T19:21:56.484Z"
   },
   {
    "duration": 4,
    "start_time": "2021-08-04T19:21:56.490Z"
   },
   {
    "duration": 7,
    "start_time": "2021-08-04T19:21:56.496Z"
   },
   {
    "duration": 5,
    "start_time": "2021-08-04T19:21:56.505Z"
   },
   {
    "duration": 295,
    "start_time": "2021-08-04T19:21:56.512Z"
   },
   {
    "duration": 25,
    "start_time": "2021-08-04T19:21:56.809Z"
   },
   {
    "duration": 28,
    "start_time": "2021-08-04T19:21:56.835Z"
   },
   {
    "duration": 3915,
    "start_time": "2021-08-04T19:21:56.865Z"
   },
   {
    "duration": 6,
    "start_time": "2021-08-04T19:22:00.782Z"
   },
   {
    "duration": 1904,
    "start_time": "2021-08-04T19:22:00.790Z"
   },
   {
    "duration": 528,
    "start_time": "2021-08-04T19:22:02.696Z"
   },
   {
    "duration": 10,
    "start_time": "2021-08-04T19:22:03.227Z"
   },
   {
    "duration": 15,
    "start_time": "2021-08-04T19:22:03.240Z"
   },
   {
    "duration": 20,
    "start_time": "2021-08-04T19:22:03.257Z"
   },
   {
    "duration": 211,
    "start_time": "2021-08-04T19:22:03.279Z"
   },
   {
    "duration": 3,
    "start_time": "2021-08-04T19:22:03.492Z"
   },
   {
    "duration": 85,
    "start_time": "2021-08-04T19:22:03.498Z"
   },
   {
    "duration": 442,
    "start_time": "2021-08-04T19:22:03.143Z"
   },
   {
    "duration": 437,
    "start_time": "2021-08-04T19:22:03.150Z"
   },
   {
    "duration": 433,
    "start_time": "2021-08-04T19:22:03.154Z"
   },
   {
    "duration": 427,
    "start_time": "2021-08-04T19:22:03.162Z"
   },
   {
    "duration": 414,
    "start_time": "2021-08-04T19:22:03.176Z"
   },
   {
    "duration": 412,
    "start_time": "2021-08-04T19:22:03.179Z"
   },
   {
    "duration": 405,
    "start_time": "2021-08-04T19:22:03.187Z"
   },
   {
    "duration": 403,
    "start_time": "2021-08-04T19:22:03.190Z"
   },
   {
    "duration": 399,
    "start_time": "2021-08-04T19:22:03.195Z"
   },
   {
    "duration": 394,
    "start_time": "2021-08-04T19:22:03.201Z"
   },
   {
    "duration": 391,
    "start_time": "2021-08-04T19:22:03.205Z"
   },
   {
    "duration": 388,
    "start_time": "2021-08-04T19:22:03.209Z"
   },
   {
    "duration": 376,
    "start_time": "2021-08-04T19:22:03.222Z"
   },
   {
    "duration": 369,
    "start_time": "2021-08-04T19:22:03.230Z"
   },
   {
    "duration": 366,
    "start_time": "2021-08-04T19:22:03.234Z"
   },
   {
    "duration": 360,
    "start_time": "2021-08-04T19:22:03.241Z"
   },
   {
    "duration": 359,
    "start_time": "2021-08-04T19:22:03.243Z"
   },
   {
    "duration": 357,
    "start_time": "2021-08-04T19:22:03.246Z"
   },
   {
    "duration": 355,
    "start_time": "2021-08-04T19:22:03.249Z"
   },
   {
    "duration": 349,
    "start_time": "2021-08-04T19:22:03.256Z"
   },
   {
    "duration": 346,
    "start_time": "2021-08-04T19:22:03.260Z"
   },
   {
    "duration": 345,
    "start_time": "2021-08-04T19:22:03.262Z"
   },
   {
    "duration": 339,
    "start_time": "2021-08-04T19:22:03.269Z"
   },
   {
    "duration": 337,
    "start_time": "2021-08-04T19:22:03.272Z"
   },
   {
    "duration": 334,
    "start_time": "2021-08-04T19:22:03.276Z"
   },
   {
    "duration": 329,
    "start_time": "2021-08-04T19:22:03.282Z"
   },
   {
    "duration": 326,
    "start_time": "2021-08-04T19:22:03.286Z"
   },
   {
    "duration": 324,
    "start_time": "2021-08-04T19:22:03.289Z"
   },
   {
    "duration": 312,
    "start_time": "2021-08-04T19:22:03.302Z"
   },
   {
    "duration": 3,
    "start_time": "2021-08-04T19:22:09.963Z"
   },
   {
    "duration": 9,
    "start_time": "2021-08-04T19:22:14.187Z"
   },
   {
    "duration": 14560,
    "start_time": "2021-08-04T19:22:26.307Z"
   },
   {
    "duration": 400,
    "start_time": "2021-08-04T19:22:47.156Z"
   },
   {
    "duration": 289,
    "start_time": "2021-08-04T19:22:50.325Z"
   },
   {
    "duration": 29,
    "start_time": "2021-08-04T19:26:21.293Z"
   },
   {
    "duration": 4,
    "start_time": "2021-08-04T19:26:28.964Z"
   },
   {
    "duration": 3,
    "start_time": "2021-08-04T19:26:32.492Z"
   },
   {
    "duration": 106,
    "start_time": "2021-08-04T19:28:48.713Z"
   },
   {
    "duration": 4,
    "start_time": "2021-08-04T19:28:53.050Z"
   },
   {
    "duration": 690,
    "start_time": "2021-08-04T19:29:51.316Z"
   },
   {
    "duration": 3,
    "start_time": "2021-08-04T19:30:03.916Z"
   },
   {
    "duration": 3,
    "start_time": "2021-08-04T19:30:04.550Z"
   },
   {
    "duration": 700,
    "start_time": "2021-08-04T19:30:06.900Z"
   },
   {
    "duration": 3,
    "start_time": "2021-08-04T19:30:31.549Z"
   },
   {
    "duration": 575,
    "start_time": "2021-08-04T19:30:34.318Z"
   },
   {
    "duration": 3,
    "start_time": "2021-08-04T19:32:25.442Z"
   },
   {
    "duration": 18429,
    "start_time": "2021-08-04T19:32:32.987Z"
   },
   {
    "duration": 8,
    "start_time": "2021-08-04T19:33:22.876Z"
   },
   {
    "duration": 3,
    "start_time": "2021-08-04T19:34:01.333Z"
   },
   {
    "duration": 6,
    "start_time": "2021-08-04T19:34:19.852Z"
   },
   {
    "duration": 14328,
    "start_time": "2021-08-04T19:34:23.438Z"
   },
   {
    "duration": 532,
    "start_time": "2021-08-04T19:34:39.464Z"
   },
   {
    "duration": 2,
    "start_time": "2021-08-04T19:35:15.009Z"
   },
   {
    "duration": 532,
    "start_time": "2021-08-04T19:35:18.233Z"
   },
   {
    "duration": 4,
    "start_time": "2021-08-04T19:35:49.577Z"
   },
   {
    "duration": 555,
    "start_time": "2021-08-04T19:35:52.195Z"
   },
   {
    "duration": 1261,
    "start_time": "2021-08-04T19:36:59.710Z"
   },
   {
    "duration": 3,
    "start_time": "2021-08-04T19:37:00.972Z"
   },
   {
    "duration": 646,
    "start_time": "2021-08-04T19:37:00.977Z"
   },
   {
    "duration": 35,
    "start_time": "2021-08-04T19:37:01.625Z"
   },
   {
    "duration": 238,
    "start_time": "2021-08-04T19:37:01.662Z"
   },
   {
    "duration": 7,
    "start_time": "2021-08-04T19:37:01.902Z"
   },
   {
    "duration": 5,
    "start_time": "2021-08-04T19:37:01.911Z"
   },
   {
    "duration": 26,
    "start_time": "2021-08-04T19:37:01.918Z"
   },
   {
    "duration": 12,
    "start_time": "2021-08-04T19:37:01.947Z"
   },
   {
    "duration": 8,
    "start_time": "2021-08-04T19:37:01.962Z"
   },
   {
    "duration": 163,
    "start_time": "2021-08-04T19:37:01.972Z"
   },
   {
    "duration": 10,
    "start_time": "2021-08-04T19:37:02.137Z"
   },
   {
    "duration": 13,
    "start_time": "2021-08-04T19:37:02.149Z"
   },
   {
    "duration": 5011,
    "start_time": "2021-08-04T19:37:02.164Z"
   },
   {
    "duration": 5,
    "start_time": "2021-08-04T19:37:07.176Z"
   },
   {
    "duration": 6,
    "start_time": "2021-08-04T19:37:07.183Z"
   },
   {
    "duration": 148,
    "start_time": "2021-08-04T19:37:07.191Z"
   },
   {
    "duration": 14,
    "start_time": "2021-08-04T19:37:07.341Z"
   },
   {
    "duration": 5,
    "start_time": "2021-08-04T19:37:07.357Z"
   },
   {
    "duration": 15,
    "start_time": "2021-08-04T19:37:07.364Z"
   },
   {
    "duration": 114,
    "start_time": "2021-08-04T19:37:07.381Z"
   },
   {
    "duration": 463,
    "start_time": "2021-08-04T19:37:07.035Z"
   },
   {
    "duration": 460,
    "start_time": "2021-08-04T19:37:07.039Z"
   },
   {
    "duration": 459,
    "start_time": "2021-08-04T19:37:07.041Z"
   },
   {
    "duration": 452,
    "start_time": "2021-08-04T19:37:07.050Z"
   },
   {
    "duration": 448,
    "start_time": "2021-08-04T19:37:07.054Z"
   },
   {
    "duration": 440,
    "start_time": "2021-08-04T19:37:07.063Z"
   },
   {
    "duration": 437,
    "start_time": "2021-08-04T19:37:07.068Z"
   },
   {
    "duration": 430,
    "start_time": "2021-08-04T19:37:07.076Z"
   },
   {
    "duration": 428,
    "start_time": "2021-08-04T19:37:07.080Z"
   },
   {
    "duration": 426,
    "start_time": "2021-08-04T19:37:07.083Z"
   },
   {
    "duration": 420,
    "start_time": "2021-08-04T19:37:07.090Z"
   },
   {
    "duration": 418,
    "start_time": "2021-08-04T19:37:07.094Z"
   },
   {
    "duration": 415,
    "start_time": "2021-08-04T19:37:07.098Z"
   },
   {
    "duration": 411,
    "start_time": "2021-08-04T19:37:07.104Z"
   },
   {
    "duration": 408,
    "start_time": "2021-08-04T19:37:07.108Z"
   },
   {
    "duration": 402,
    "start_time": "2021-08-04T19:37:07.116Z"
   },
   {
    "duration": 400,
    "start_time": "2021-08-04T19:37:07.119Z"
   },
   {
    "duration": 397,
    "start_time": "2021-08-04T19:37:07.123Z"
   },
   {
    "duration": 389,
    "start_time": "2021-08-04T19:37:07.133Z"
   },
   {
    "duration": 387,
    "start_time": "2021-08-04T19:37:07.136Z"
   },
   {
    "duration": 382,
    "start_time": "2021-08-04T19:37:07.143Z"
   },
   {
    "duration": 380,
    "start_time": "2021-08-04T19:37:07.146Z"
   },
   {
    "duration": 378,
    "start_time": "2021-08-04T19:37:07.150Z"
   },
   {
    "duration": 372,
    "start_time": "2021-08-04T19:37:07.157Z"
   },
   {
    "duration": 370,
    "start_time": "2021-08-04T19:37:07.160Z"
   },
   {
    "duration": 370,
    "start_time": "2021-08-04T19:37:07.162Z"
   },
   {
    "duration": 363,
    "start_time": "2021-08-04T19:37:07.170Z"
   },
   {
    "duration": 362,
    "start_time": "2021-08-04T19:37:07.173Z"
   },
   {
    "duration": 360,
    "start_time": "2021-08-04T19:37:07.176Z"
   },
   {
    "duration": 354,
    "start_time": "2021-08-04T19:37:07.184Z"
   },
   {
    "duration": 353,
    "start_time": "2021-08-04T19:37:07.187Z"
   },
   {
    "duration": 352,
    "start_time": "2021-08-04T19:37:07.189Z"
   },
   {
    "duration": 345,
    "start_time": "2021-08-04T19:37:07.197Z"
   },
   {
    "duration": 343,
    "start_time": "2021-08-04T19:37:07.200Z"
   },
   {
    "duration": 338,
    "start_time": "2021-08-04T19:37:14.930Z"
   },
   {
    "duration": 4,
    "start_time": "2021-08-04T19:37:17.730Z"
   },
   {
    "duration": 3,
    "start_time": "2021-08-04T19:37:19.554Z"
   },
   {
    "duration": 3,
    "start_time": "2021-08-04T19:37:20.562Z"
   },
   {
    "duration": 3,
    "start_time": "2021-08-04T19:37:21.218Z"
   },
   {
    "duration": 10,
    "start_time": "2021-08-04T19:37:24.761Z"
   },
   {
    "duration": 5,
    "start_time": "2021-08-04T19:37:48.451Z"
   },
   {
    "duration": 18613,
    "start_time": "2021-08-04T19:37:49.780Z"
   },
   {
    "duration": 18939,
    "start_time": "2021-08-04T19:38:12.589Z"
   },
   {
    "duration": 1409,
    "start_time": "2021-08-04T19:47:30.162Z"
   },
   {
    "duration": 1264,
    "start_time": "2021-08-04T19:47:53.260Z"
   },
   {
    "duration": 1032,
    "start_time": "2021-08-04T19:48:32.293Z"
   },
   {
    "duration": 5,
    "start_time": "2021-08-04T19:48:41.324Z"
   },
   {
    "duration": 257,
    "start_time": "2021-08-04T19:49:02.125Z"
   },
   {
    "duration": 1404,
    "start_time": "2021-08-04T19:52:06.325Z"
   },
   {
    "duration": 9774,
    "start_time": "2021-08-04T19:52:32.279Z"
   },
   {
    "duration": 2947,
    "start_time": "2021-08-04T20:06:43.694Z"
   },
   {
    "duration": 8,
    "start_time": "2021-08-04T20:07:39.144Z"
   },
   {
    "duration": 10,
    "start_time": "2021-08-04T20:08:03.416Z"
   },
   {
    "duration": 154,
    "start_time": "2021-08-04T20:09:03.314Z"
   },
   {
    "duration": 1170,
    "start_time": "2021-08-04T20:09:18.547Z"
   },
   {
    "duration": 4,
    "start_time": "2021-08-04T20:09:27.371Z"
   },
   {
    "duration": 24,
    "start_time": "2021-08-04T20:09:40.900Z"
   },
   {
    "duration": 8,
    "start_time": "2021-08-04T20:09:49.100Z"
   },
   {
    "duration": 6,
    "start_time": "2021-08-04T20:10:04.773Z"
   },
   {
    "duration": 5,
    "start_time": "2021-08-04T20:10:15.085Z"
   },
   {
    "duration": 1668,
    "start_time": "2021-08-04T20:11:37.673Z"
   },
   {
    "duration": 12087,
    "start_time": "2021-08-04T20:11:50.025Z"
   },
   {
    "duration": 526,
    "start_time": "2021-08-04T20:12:21.154Z"
   },
   {
    "duration": 205,
    "start_time": "2021-08-04T20:12:45.797Z"
   },
   {
    "duration": 2,
    "start_time": "2021-08-04T20:12:48.468Z"
   },
   {
    "duration": 810,
    "start_time": "2021-08-04T20:12:51.516Z"
   },
   {
    "duration": 2,
    "start_time": "2021-08-04T20:13:40.206Z"
   },
   {
    "duration": 8,
    "start_time": "2021-08-04T20:14:06.088Z"
   },
   {
    "duration": 654,
    "start_time": "2021-08-04T20:14:11.670Z"
   },
   {
    "duration": 3759,
    "start_time": "2021-08-04T20:14:15.510Z"
   },
   {
    "duration": 4102,
    "start_time": "2021-08-04T20:15:12.796Z"
   },
   {
    "duration": 609,
    "start_time": "2021-08-04T20:15:23.269Z"
   },
   {
    "duration": 9,
    "start_time": "2021-08-04T20:15:30.549Z"
   },
   {
    "duration": 191,
    "start_time": "2021-08-04T20:15:32.445Z"
   },
   {
    "duration": 11305,
    "start_time": "2021-08-04T20:15:34.397Z"
   },
   {
    "duration": 670,
    "start_time": "2021-08-04T20:15:52.078Z"
   },
   {
    "duration": 4,
    "start_time": "2021-08-04T20:18:49.789Z"
   },
   {
    "duration": 348,
    "start_time": "2021-08-04T20:19:01.365Z"
   },
   {
    "duration": 4,
    "start_time": "2021-08-04T20:19:04.637Z"
   },
   {
    "duration": 8,
    "start_time": "2021-08-04T20:19:50.975Z"
   },
   {
    "duration": 5515,
    "start_time": "2021-08-04T20:19:52.167Z"
   },
   {
    "duration": 4,
    "start_time": "2021-08-04T20:20:53.457Z"
   },
   {
    "duration": 376,
    "start_time": "2021-08-04T20:21:23.466Z"
   },
   {
    "duration": 268,
    "start_time": "2021-08-04T20:21:26.027Z"
   },
   {
    "duration": 260,
    "start_time": "2021-08-04T20:21:36.411Z"
   },
   {
    "duration": 4,
    "start_time": "2021-08-04T20:21:51.048Z"
   },
   {
    "duration": 1910,
    "start_time": "2021-08-04T20:35:13.646Z"
   },
   {
    "duration": 519,
    "start_time": "2021-08-04T20:35:15.043Z"
   },
   {
    "duration": 513,
    "start_time": "2021-08-04T20:35:15.051Z"
   },
   {
    "duration": 510,
    "start_time": "2021-08-04T20:35:15.055Z"
   },
   {
    "duration": 505,
    "start_time": "2021-08-04T20:35:15.062Z"
   },
   {
    "duration": 504,
    "start_time": "2021-08-04T20:35:15.064Z"
   },
   {
    "duration": 502,
    "start_time": "2021-08-04T20:35:15.067Z"
   },
   {
    "duration": 501,
    "start_time": "2021-08-04T20:35:15.070Z"
   },
   {
    "duration": 494,
    "start_time": "2021-08-04T20:35:15.078Z"
   },
   {
    "duration": 494,
    "start_time": "2021-08-04T20:35:15.080Z"
   },
   {
    "duration": 492,
    "start_time": "2021-08-04T20:35:15.083Z"
   },
   {
    "duration": 487,
    "start_time": "2021-08-04T20:35:15.090Z"
   },
   {
    "duration": 486,
    "start_time": "2021-08-04T20:35:15.093Z"
   },
   {
    "duration": 484,
    "start_time": "2021-08-04T20:35:15.096Z"
   },
   {
    "duration": 475,
    "start_time": "2021-08-04T20:35:15.106Z"
   },
   {
    "duration": 475,
    "start_time": "2021-08-04T20:35:15.108Z"
   },
   {
    "duration": 468,
    "start_time": "2021-08-04T20:35:15.117Z"
   },
   {
    "duration": 468,
    "start_time": "2021-08-04T20:35:15.118Z"
   },
   {
    "duration": 465,
    "start_time": "2021-08-04T20:35:15.122Z"
   },
   {
    "duration": 458,
    "start_time": "2021-08-04T20:35:15.130Z"
   },
   {
    "duration": 456,
    "start_time": "2021-08-04T20:35:15.133Z"
   },
   {
    "duration": 456,
    "start_time": "2021-08-04T20:35:15.135Z"
   },
   {
    "duration": 450,
    "start_time": "2021-08-04T20:35:15.142Z"
   },
   {
    "duration": 448,
    "start_time": "2021-08-04T20:35:15.145Z"
   },
   {
    "duration": 448,
    "start_time": "2021-08-04T20:35:15.147Z"
   },
   {
    "duration": 446,
    "start_time": "2021-08-04T20:35:15.150Z"
   },
   {
    "duration": 441,
    "start_time": "2021-08-04T20:35:15.156Z"
   },
   {
    "duration": 439,
    "start_time": "2021-08-04T20:35:15.159Z"
   },
   {
    "duration": 439,
    "start_time": "2021-08-04T20:35:15.161Z"
   },
   {
    "duration": 473,
    "start_time": "2021-08-04T20:35:15.168Z"
   },
   {
    "duration": 471,
    "start_time": "2021-08-04T20:35:15.171Z"
   },
   {
    "duration": 470,
    "start_time": "2021-08-04T20:35:15.173Z"
   },
   {
    "duration": 467,
    "start_time": "2021-08-04T20:35:15.177Z"
   },
   {
    "duration": 462,
    "start_time": "2021-08-04T20:35:15.183Z"
   },
   {
    "duration": 460,
    "start_time": "2021-08-04T20:35:15.186Z"
   },
   {
    "duration": 458,
    "start_time": "2021-08-04T20:35:15.189Z"
   },
   {
    "duration": 451,
    "start_time": "2021-08-04T20:35:15.196Z"
   },
   {
    "duration": 450,
    "start_time": "2021-08-04T20:35:15.198Z"
   },
   {
    "duration": 447,
    "start_time": "2021-08-04T20:35:15.201Z"
   },
   {
    "duration": 441,
    "start_time": "2021-08-04T20:35:15.208Z"
   },
   {
    "duration": 427,
    "start_time": "2021-08-04T20:35:15.223Z"
   },
   {
    "duration": 425,
    "start_time": "2021-08-04T20:35:15.226Z"
   },
   {
    "duration": 423,
    "start_time": "2021-08-04T20:35:15.229Z"
   },
   {
    "duration": 417,
    "start_time": "2021-08-04T20:35:15.236Z"
   },
   {
    "duration": 416,
    "start_time": "2021-08-04T20:35:15.238Z"
   },
   {
    "duration": 414,
    "start_time": "2021-08-04T20:35:15.241Z"
   },
   {
    "duration": 407,
    "start_time": "2021-08-04T20:35:15.249Z"
   },
   {
    "duration": 405,
    "start_time": "2021-08-04T20:35:15.252Z"
   },
   {
    "duration": 402,
    "start_time": "2021-08-04T20:35:15.256Z"
   },
   {
    "duration": 396,
    "start_time": "2021-08-04T20:35:15.263Z"
   },
   {
    "duration": 394,
    "start_time": "2021-08-04T20:35:15.266Z"
   },
   {
    "duration": 393,
    "start_time": "2021-08-04T20:35:15.268Z"
   },
   {
    "duration": 386,
    "start_time": "2021-08-04T20:35:15.276Z"
   },
   {
    "duration": 384,
    "start_time": "2021-08-04T20:35:15.279Z"
   },
   {
    "duration": 383,
    "start_time": "2021-08-04T20:35:15.281Z"
   },
   {
    "duration": 385,
    "start_time": "2021-08-04T20:35:15.284Z"
   },
   {
    "duration": 380,
    "start_time": "2021-08-04T20:35:15.291Z"
   },
   {
    "duration": 378,
    "start_time": "2021-08-04T20:35:15.294Z"
   },
   {
    "duration": 378,
    "start_time": "2021-08-04T20:35:15.296Z"
   },
   {
    "duration": 372,
    "start_time": "2021-08-04T20:35:15.303Z"
   },
   {
    "duration": 371,
    "start_time": "2021-08-04T20:35:15.306Z"
   },
   {
    "duration": 370,
    "start_time": "2021-08-04T20:35:15.308Z"
   },
   {
    "duration": 365,
    "start_time": "2021-08-04T20:35:15.315Z"
   },
   {
    "duration": 363,
    "start_time": "2021-08-04T20:35:15.318Z"
   },
   {
    "duration": 68,
    "start_time": "2021-08-04T20:35:23.191Z"
   },
   {
    "duration": 3,
    "start_time": "2021-08-04T20:35:25.103Z"
   },
   {
    "duration": 896,
    "start_time": "2021-08-04T20:35:27.630Z"
   },
   {
    "duration": 32,
    "start_time": "2021-08-04T20:35:29.758Z"
   },
   {
    "duration": 268,
    "start_time": "2021-08-04T20:35:31.071Z"
   },
   {
    "duration": 7,
    "start_time": "2021-08-04T20:35:33.160Z"
   },
   {
    "duration": 6,
    "start_time": "2021-08-04T20:35:46.080Z"
   },
   {
    "duration": 2,
    "start_time": "2021-08-04T20:35:55.592Z"
   },
   {
    "duration": 6,
    "start_time": "2021-08-04T20:35:59.176Z"
   },
   {
    "duration": 5,
    "start_time": "2021-08-04T20:36:14.616Z"
   },
   {
    "duration": 2190,
    "start_time": "2021-08-04T20:36:18.031Z"
   },
   {
    "duration": 3,
    "start_time": "2021-08-04T20:36:30.768Z"
   },
   {
    "duration": 4,
    "start_time": "2021-08-04T20:36:33.136Z"
   },
   {
    "duration": 34323,
    "start_time": "2021-08-04T20:36:37.368Z"
   },
   {
    "duration": 6,
    "start_time": "2021-08-04T20:37:16.707Z"
   },
   {
    "duration": 4,
    "start_time": "2021-08-04T20:37:21.915Z"
   },
   {
    "duration": 11,
    "start_time": "2021-08-04T20:37:32.524Z"
   },
   {
    "duration": 3,
    "start_time": "2021-08-04T20:37:48.636Z"
   },
   {
    "duration": 34,
    "start_time": "2021-08-04T20:37:53.141Z"
   },
   {
    "duration": 337,
    "start_time": "2021-08-04T20:37:56.500Z"
   },
   {
    "duration": 3,
    "start_time": "2021-08-04T20:38:13.998Z"
   },
   {
    "duration": 3,
    "start_time": "2021-08-04T20:38:14.997Z"
   },
   {
    "duration": 3,
    "start_time": "2021-08-04T20:38:16.222Z"
   },
   {
    "duration": 3,
    "start_time": "2021-08-04T20:38:20.173Z"
   },
   {
    "duration": 29,
    "start_time": "2021-08-04T20:38:24.655Z"
   },
   {
    "duration": 258,
    "start_time": "2021-08-04T20:38:36.054Z"
   },
   {
    "duration": 4,
    "start_time": "2021-08-04T20:38:39.135Z"
   },
   {
    "duration": 4,
    "start_time": "2021-08-04T20:38:55.905Z"
   },
   {
    "duration": 1216,
    "start_time": "2021-08-05T09:20:36.396Z"
   },
   {
    "duration": 2,
    "start_time": "2021-08-05T09:20:42.760Z"
   },
   {
    "duration": 588,
    "start_time": "2021-08-05T09:20:46.600Z"
   },
   {
    "duration": 4,
    "start_time": "2021-08-05T09:20:56.168Z"
   },
   {
    "duration": 3,
    "start_time": "2021-08-05T09:22:19.932Z"
   },
   {
    "duration": 5,
    "start_time": "2021-08-05T09:22:26.019Z"
   },
   {
    "duration": 17,
    "start_time": "2021-08-05T09:22:29.700Z"
   },
   {
    "duration": 3,
    "start_time": "2021-08-05T09:22:31.579Z"
   },
   {
    "duration": 4,
    "start_time": "2021-08-05T09:22:35.059Z"
   },
   {
    "duration": 1381,
    "start_time": "2021-08-05T09:22:38.779Z"
   },
   {
    "duration": 8,
    "start_time": "2021-08-05T09:22:52.219Z"
   },
   {
    "duration": 3,
    "start_time": "2021-08-05T09:22:55.940Z"
   },
   {
    "duration": 5,
    "start_time": "2021-08-05T09:23:00.020Z"
   },
   {
    "duration": 196,
    "start_time": "2021-08-05T09:23:25.539Z"
   },
   {
    "duration": 344,
    "start_time": "2021-08-05T09:24:39.495Z"
   },
   {
    "duration": 11,
    "start_time": "2021-08-05T09:24:48.615Z"
   },
   {
    "duration": 1197,
    "start_time": "2021-08-05T09:24:54.096Z"
   },
   {
    "duration": 278,
    "start_time": "2021-08-05T09:25:28.777Z"
   },
   {
    "duration": 908,
    "start_time": "2021-08-05T09:25:51.090Z"
   },
   {
    "duration": 3,
    "start_time": "2021-08-05T09:27:11.987Z"
   },
   {
    "duration": 109,
    "start_time": "2021-08-05T09:27:53.925Z"
   },
   {
    "duration": 4,
    "start_time": "2021-08-05T09:28:00.350Z"
   },
   {
    "duration": 5,
    "start_time": "2021-08-05T09:29:05.882Z"
   },
   {
    "duration": 4,
    "start_time": "2021-08-05T09:30:30.797Z"
   },
   {
    "duration": 4,
    "start_time": "2021-08-05T09:31:04.109Z"
   },
   {
    "duration": 4712,
    "start_time": "2021-08-05T09:31:26.637Z"
   },
   {
    "duration": 248,
    "start_time": "2021-08-05T09:31:58.677Z"
   },
   {
    "duration": 233,
    "start_time": "2021-08-05T09:32:38.866Z"
   },
   {
    "duration": 240,
    "start_time": "2021-08-05T09:33:12.797Z"
   },
   {
    "duration": 6,
    "start_time": "2021-08-05T09:33:35.108Z"
   },
   {
    "duration": 5,
    "start_time": "2021-08-05T09:34:48.903Z"
   },
   {
    "duration": 4,
    "start_time": "2021-08-05T09:35:28.581Z"
   },
   {
    "duration": 3,
    "start_time": "2021-08-05T09:36:40.399Z"
   },
   {
    "duration": 1011,
    "start_time": "2021-08-05T09:37:19.180Z"
   },
   {
    "duration": 1778,
    "start_time": "2021-08-05T12:18:29.432Z"
   },
   {
    "duration": 4,
    "start_time": "2021-08-05T12:18:33.924Z"
   },
   {
    "duration": 904,
    "start_time": "2021-08-05T12:18:36.712Z"
   },
   {
    "duration": 30,
    "start_time": "2021-08-05T12:18:42.751Z"
   },
   {
    "duration": 290,
    "start_time": "2021-08-05T12:18:46.592Z"
   },
   {
    "duration": 9,
    "start_time": "2021-08-05T12:18:54.076Z"
   },
   {
    "duration": 4,
    "start_time": "2021-08-05T12:19:07.912Z"
   },
   {
    "duration": 8,
    "start_time": "2021-08-05T12:19:10.432Z"
   },
   {
    "duration": 10,
    "start_time": "2021-08-05T12:19:14.312Z"
   },
   {
    "duration": 26,
    "start_time": "2021-08-05T12:19:17.264Z"
   },
   {
    "duration": 3,
    "start_time": "2021-08-05T12:19:18.752Z"
   },
   {
    "duration": 6,
    "start_time": "2021-08-05T12:19:25.304Z"
   },
   {
    "duration": 2929,
    "start_time": "2021-08-05T12:19:27.316Z"
   },
   {
    "duration": 11,
    "start_time": "2021-08-05T12:19:38.240Z"
   },
   {
    "duration": 4,
    "start_time": "2021-08-05T12:19:42.864Z"
   },
   {
    "duration": 6,
    "start_time": "2021-08-05T12:20:45.065Z"
   },
   {
    "duration": 282,
    "start_time": "2021-08-05T12:20:48.904Z"
   },
   {
    "duration": 11,
    "start_time": "2021-08-05T12:20:55.543Z"
   },
   {
    "duration": 367,
    "start_time": "2021-08-05T12:21:11.113Z"
   },
   {
    "duration": 228,
    "start_time": "2021-08-05T12:21:45.864Z"
   },
   {
    "duration": 4,
    "start_time": "2021-08-05T12:23:13.375Z"
   },
   {
    "duration": 6,
    "start_time": "2021-08-05T12:23:48.158Z"
   },
   {
    "duration": 4,
    "start_time": "2021-08-05T12:23:50.278Z"
   },
   {
    "duration": 582,
    "start_time": "2021-08-05T12:24:03.030Z"
   },
   {
    "duration": 18,
    "start_time": "2021-08-05T12:24:14.597Z"
   },
   {
    "duration": 1329,
    "start_time": "2021-08-05T12:24:20.278Z"
   },
   {
    "duration": 4,
    "start_time": "2021-08-05T12:24:31.594Z"
   },
   {
    "duration": 4,
    "start_time": "2021-08-05T12:24:49.985Z"
   },
   {
    "duration": 4,
    "start_time": "2021-08-05T12:24:54.365Z"
   },
   {
    "duration": 2857,
    "start_time": "2021-08-05T12:25:00.013Z"
   },
   {
    "duration": 1665,
    "start_time": "2021-08-05T17:08:44.770Z"
   },
   {
    "duration": 3,
    "start_time": "2021-08-05T17:08:49.473Z"
   },
   {
    "duration": 1317,
    "start_time": "2021-08-05T17:09:32.983Z"
   },
   {
    "duration": 33,
    "start_time": "2021-08-05T17:09:36.144Z"
   },
   {
    "duration": 270,
    "start_time": "2021-08-05T17:09:38.911Z"
   },
   {
    "duration": 9,
    "start_time": "2021-08-05T17:09:40.465Z"
   },
   {
    "duration": 6,
    "start_time": "2021-08-05T17:09:43.743Z"
   },
   {
    "duration": 4,
    "start_time": "2021-08-05T17:09:47.943Z"
   },
   {
    "duration": 8,
    "start_time": "2021-08-05T17:09:50.992Z"
   },
   {
    "duration": 2988,
    "start_time": "2021-08-05T17:09:53.759Z"
   },
   {
    "duration": 4,
    "start_time": "2021-08-05T17:09:59.512Z"
   },
   {
    "duration": 5,
    "start_time": "2021-08-05T17:10:02.720Z"
   },
   {
    "duration": 59593,
    "start_time": "2021-08-05T17:10:03.680Z"
   },
   {
    "duration": 7,
    "start_time": "2021-08-05T17:11:42.942Z"
   },
   {
    "duration": 21,
    "start_time": "2021-08-05T17:11:47.885Z"
   },
   {
    "duration": 6,
    "start_time": "2021-08-05T17:11:50.468Z"
   },
   {
    "duration": 49,
    "start_time": "2021-08-05T17:11:55.214Z"
   },
   {
    "duration": 5,
    "start_time": "2021-08-05T17:11:56.180Z"
   },
   {
    "duration": 287,
    "start_time": "2021-08-05T17:12:15.669Z"
   },
   {
    "duration": 40,
    "start_time": "2021-08-05T17:12:21.214Z"
   },
   {
    "duration": 5,
    "start_time": "2021-08-05T17:12:23.566Z"
   },
   {
    "duration": 1808,
    "start_time": "2021-08-05T17:14:48.204Z"
   },
   {
    "duration": 1674,
    "start_time": "2021-08-05T17:15:33.222Z"
   },
   {
    "duration": 3,
    "start_time": "2021-08-05T17:15:34.900Z"
   },
   {
    "duration": 750,
    "start_time": "2021-08-05T17:15:34.908Z"
   },
   {
    "duration": 44,
    "start_time": "2021-08-05T17:15:35.661Z"
   },
   {
    "duration": 287,
    "start_time": "2021-08-05T17:15:35.708Z"
   },
   {
    "duration": 9,
    "start_time": "2021-08-05T17:15:36.001Z"
   },
   {
    "duration": 6,
    "start_time": "2021-08-05T17:15:36.013Z"
   },
   {
    "duration": 9,
    "start_time": "2021-08-05T17:15:36.022Z"
   },
   {
    "duration": 13,
    "start_time": "2021-08-05T17:15:36.034Z"
   },
   {
    "duration": 7,
    "start_time": "2021-08-05T17:15:36.049Z"
   },
   {
    "duration": 1726,
    "start_time": "2021-08-05T17:15:36.058Z"
   },
   {
    "duration": 7,
    "start_time": "2021-08-05T17:15:37.787Z"
   },
   {
    "duration": 7,
    "start_time": "2021-08-05T17:15:37.801Z"
   },
   {
    "duration": 118,
    "start_time": "2021-08-05T17:15:37.810Z"
   },
   {
    "duration": 275,
    "start_time": "2021-08-05T17:15:37.658Z"
   },
   {
    "duration": 267,
    "start_time": "2021-08-05T17:15:37.667Z"
   },
   {
    "duration": 252,
    "start_time": "2021-08-05T17:15:37.684Z"
   },
   {
    "duration": 251,
    "start_time": "2021-08-05T17:15:37.686Z"
   },
   {
    "duration": 244,
    "start_time": "2021-08-05T17:15:37.695Z"
   },
   {
    "duration": 243,
    "start_time": "2021-08-05T17:15:37.697Z"
   },
   {
    "duration": 241,
    "start_time": "2021-08-05T17:15:37.700Z"
   },
   {
    "duration": 237,
    "start_time": "2021-08-05T17:15:37.706Z"
   },
   {
    "duration": 233,
    "start_time": "2021-08-05T17:15:37.711Z"
   },
   {
    "duration": 227,
    "start_time": "2021-08-05T17:15:37.718Z"
   },
   {
    "duration": 225,
    "start_time": "2021-08-05T17:15:37.721Z"
   },
   {
    "duration": 224,
    "start_time": "2021-08-05T17:15:37.724Z"
   },
   {
    "duration": 222,
    "start_time": "2021-08-05T17:15:37.727Z"
   },
   {
    "duration": 215,
    "start_time": "2021-08-05T17:15:37.735Z"
   },
   {
    "duration": 213,
    "start_time": "2021-08-05T17:15:37.739Z"
   },
   {
    "duration": 206,
    "start_time": "2021-08-05T17:15:37.747Z"
   },
   {
    "duration": 203,
    "start_time": "2021-08-05T17:15:37.751Z"
   },
   {
    "duration": 196,
    "start_time": "2021-08-05T17:15:37.759Z"
   },
   {
    "duration": 194,
    "start_time": "2021-08-05T17:15:37.763Z"
   },
   {
    "duration": 192,
    "start_time": "2021-08-05T17:15:37.766Z"
   },
   {
    "duration": 185,
    "start_time": "2021-08-05T17:15:37.774Z"
   },
   {
    "duration": 183,
    "start_time": "2021-08-05T17:15:37.777Z"
   },
   {
    "duration": 183,
    "start_time": "2021-08-05T17:15:37.779Z"
   },
   {
    "duration": 163,
    "start_time": "2021-08-05T17:15:37.800Z"
   },
   {
    "duration": 161,
    "start_time": "2021-08-05T17:15:37.803Z"
   },
   {
    "duration": 152,
    "start_time": "2021-08-05T17:15:37.813Z"
   },
   {
    "duration": 151,
    "start_time": "2021-08-05T17:15:37.815Z"
   },
   {
    "duration": 150,
    "start_time": "2021-08-05T17:15:37.818Z"
   },
   {
    "duration": 142,
    "start_time": "2021-08-05T17:15:37.827Z"
   },
   {
    "duration": 140,
    "start_time": "2021-08-05T17:15:37.830Z"
   },
   {
    "duration": 166,
    "start_time": "2021-08-05T17:15:37.833Z"
   },
   {
    "duration": 160,
    "start_time": "2021-08-05T17:15:37.841Z"
   },
   {
    "duration": 158,
    "start_time": "2021-08-05T17:15:37.844Z"
   },
   {
    "duration": 157,
    "start_time": "2021-08-05T17:15:37.847Z"
   },
   {
    "duration": 151,
    "start_time": "2021-08-05T17:15:37.854Z"
   },
   {
    "duration": 149,
    "start_time": "2021-08-05T17:15:37.857Z"
   },
   {
    "duration": 113,
    "start_time": "2021-08-05T17:15:37.894Z"
   },
   {
    "duration": 112,
    "start_time": "2021-08-05T17:15:37.896Z"
   },
   {
    "duration": 111,
    "start_time": "2021-08-05T17:15:37.899Z"
   },
   {
    "duration": 104,
    "start_time": "2021-08-05T17:15:37.907Z"
   },
   {
    "duration": 103,
    "start_time": "2021-08-05T17:15:37.910Z"
   },
   {
    "duration": 100,
    "start_time": "2021-08-05T17:15:37.914Z"
   },
   {
    "duration": 93,
    "start_time": "2021-08-05T17:15:37.922Z"
   },
   {
    "duration": 90,
    "start_time": "2021-08-05T17:15:37.927Z"
   },
   {
    "duration": 84,
    "start_time": "2021-08-05T17:15:37.934Z"
   },
   {
    "duration": 82,
    "start_time": "2021-08-05T17:15:37.937Z"
   },
   {
    "duration": 80,
    "start_time": "2021-08-05T17:15:37.940Z"
   },
   {
    "duration": 73,
    "start_time": "2021-08-05T17:15:37.948Z"
   },
   {
    "duration": 71,
    "start_time": "2021-08-05T17:15:37.952Z"
   },
   {
    "duration": 64,
    "start_time": "2021-08-05T17:15:37.960Z"
   },
   {
    "duration": 63,
    "start_time": "2021-08-05T17:15:37.963Z"
   },
   {
    "duration": 61,
    "start_time": "2021-08-05T17:15:37.966Z"
   },
   {
    "duration": 55,
    "start_time": "2021-08-05T17:15:37.974Z"
   },
   {
    "duration": 53,
    "start_time": "2021-08-05T17:15:37.977Z"
   },
   {
    "duration": 52,
    "start_time": "2021-08-05T17:15:37.980Z"
   },
   {
    "duration": 39232,
    "start_time": "2021-08-05T17:15:43.418Z"
   },
   {
    "duration": 16,
    "start_time": "2021-08-05T17:16:27.412Z"
   },
   {
    "duration": 5,
    "start_time": "2021-08-05T17:16:30.212Z"
   },
   {
    "duration": 23,
    "start_time": "2021-08-05T17:16:32.987Z"
   },
   {
    "duration": 4,
    "start_time": "2021-08-05T17:16:33.844Z"
   },
   {
    "duration": 25,
    "start_time": "2021-08-05T17:16:48.436Z"
   },
   {
    "duration": 518,
    "start_time": "2021-08-05T17:16:55.484Z"
   },
   {
    "duration": 366,
    "start_time": "2021-08-05T17:17:07.388Z"
   },
   {
    "duration": 66322,
    "start_time": "2021-08-05T17:17:10.965Z"
   },
   {
    "duration": 8,
    "start_time": "2021-08-05T17:19:06.952Z"
   },
   {
    "duration": 36012,
    "start_time": "2021-08-05T17:20:09.604Z"
   },
   {
    "duration": 5,
    "start_time": "2021-08-05T17:21:43.208Z"
   },
   {
    "duration": 5,
    "start_time": "2021-08-05T17:21:47.433Z"
   },
   {
    "duration": 7,
    "start_time": "2021-08-05T17:22:58.859Z"
   },
   {
    "duration": 8,
    "start_time": "2021-08-05T17:23:20.954Z"
   },
   {
    "duration": 4,
    "start_time": "2021-08-05T17:23:22.091Z"
   },
   {
    "duration": 4,
    "start_time": "2021-08-05T17:23:28.124Z"
   },
   {
    "duration": 332763,
    "start_time": "2021-08-05T17:23:33.267Z"
   },
   {
    "duration": 5,
    "start_time": "2021-08-05T17:37:15.208Z"
   },
   {
    "duration": 121,
    "start_time": "2021-08-05T17:37:25.797Z"
   },
   {
    "duration": 172,
    "start_time": "2021-08-05T17:37:29.140Z"
   },
   {
    "duration": 5,
    "start_time": "2021-08-05T17:38:54.482Z"
   },
   {
    "duration": 4,
    "start_time": "2021-08-05T17:38:56.791Z"
   },
   {
    "duration": 820,
    "start_time": "2021-08-05T17:39:09.312Z"
   },
   {
    "duration": 15,
    "start_time": "2021-08-05T17:40:09.218Z"
   },
   {
    "duration": 5,
    "start_time": "2021-08-05T17:40:58.556Z"
   },
   {
    "duration": 4,
    "start_time": "2021-08-05T17:41:03.781Z"
   },
   {
    "duration": 4,
    "start_time": "2021-08-05T17:41:04.540Z"
   },
   {
    "duration": 1048063,
    "start_time": "2021-08-05T17:41:11.310Z"
   },
   {
    "duration": 25,
    "start_time": "2021-08-05T17:59:38.872Z"
   },
   {
    "duration": 164,
    "start_time": "2021-08-05T17:59:44.216Z"
   },
   {
    "duration": 26,
    "start_time": "2021-08-05T18:01:15.141Z"
   },
   {
    "duration": 466,
    "start_time": "2021-08-05T18:05:15.006Z"
   },
   {
    "duration": 5,
    "start_time": "2021-08-05T18:05:22.382Z"
   },
   {
    "duration": 125,
    "start_time": "2021-08-05T18:05:49.135Z"
   },
   {
    "duration": 205,
    "start_time": "2021-08-05T18:05:56.238Z"
   },
   {
    "duration": 6,
    "start_time": "2021-08-05T18:06:56.136Z"
   },
   {
    "duration": 27,
    "start_time": "2021-08-05T18:07:24.628Z"
   },
   {
    "duration": 36,
    "start_time": "2021-08-05T18:08:15.597Z"
   },
   {
    "duration": 167,
    "start_time": "2021-08-05T18:08:33.860Z"
   },
   {
    "duration": 24,
    "start_time": "2021-08-05T18:08:43.029Z"
   },
   {
    "duration": 9,
    "start_time": "2021-08-05T18:08:48.141Z"
   },
   {
    "duration": 7,
    "start_time": "2021-08-05T18:08:55.470Z"
   },
   {
    "duration": 493,
    "start_time": "2021-08-05T18:09:13.942Z"
   },
   {
    "duration": 1958,
    "start_time": "2021-08-05T18:09:27.138Z"
   },
   {
    "duration": 5,
    "start_time": "2021-08-05T18:09:34.647Z"
   },
   {
    "duration": 888,
    "start_time": "2021-08-05T18:09:36.296Z"
   },
   {
    "duration": 32,
    "start_time": "2021-08-05T18:09:39.537Z"
   },
   {
    "duration": 330,
    "start_time": "2021-08-05T18:09:41.904Z"
   },
   {
    "duration": 12,
    "start_time": "2021-08-05T18:09:46.409Z"
   },
   {
    "duration": 5,
    "start_time": "2021-08-05T18:09:49.016Z"
   },
   {
    "duration": 25,
    "start_time": "2021-08-05T18:09:50.223Z"
   },
   {
    "duration": 11,
    "start_time": "2021-08-05T18:09:54.464Z"
   },
   {
    "duration": 8,
    "start_time": "2021-08-05T18:09:57.015Z"
   },
   {
    "duration": 2706,
    "start_time": "2021-08-05T18:09:58.168Z"
   },
   {
    "duration": 4,
    "start_time": "2021-08-05T18:10:04.712Z"
   },
   {
    "duration": 4,
    "start_time": "2021-08-05T18:10:08.952Z"
   },
   {
    "duration": 67270,
    "start_time": "2021-08-05T18:10:10.432Z"
   },
   {
    "duration": 8,
    "start_time": "2021-08-05T18:11:26.483Z"
   },
   {
    "duration": 20,
    "start_time": "2021-08-05T18:11:36.309Z"
   },
   {
    "duration": 4,
    "start_time": "2021-08-05T18:11:39.059Z"
   },
   {
    "duration": 33,
    "start_time": "2021-08-05T18:11:39.748Z"
   },
   {
    "duration": 5,
    "start_time": "2021-08-05T18:11:40.988Z"
   },
   {
    "duration": 5,
    "start_time": "2021-08-05T18:11:48.948Z"
   },
   {
    "duration": 4,
    "start_time": "2021-08-05T18:11:54.092Z"
   },
   {
    "duration": 4,
    "start_time": "2021-08-05T18:12:02.358Z"
   },
   {
    "duration": 4,
    "start_time": "2021-08-05T18:12:02.979Z"
   },
   {
    "duration": 40,
    "start_time": "2021-08-05T18:12:06.577Z"
   },
   {
    "duration": 5,
    "start_time": "2021-08-05T18:13:15.123Z"
   },
   {
    "duration": 6,
    "start_time": "2021-08-05T18:13:17.094Z"
   },
   {
    "duration": 969,
    "start_time": "2021-08-05T18:13:58.025Z"
   },
   {
    "duration": 366,
    "start_time": "2021-08-05T18:14:08.178Z"
   },
   {
    "duration": 5,
    "start_time": "2021-08-05T18:14:12.642Z"
   },
   {
    "duration": 777,
    "start_time": "2021-08-05T18:14:13.859Z"
   },
   {
    "duration": 2012,
    "start_time": "2021-08-05T18:15:11.986Z"
   },
   {
    "duration": 4,
    "start_time": "2021-08-05T18:15:14.002Z"
   },
   {
    "duration": 1107,
    "start_time": "2021-08-05T18:15:14.011Z"
   },
   {
    "duration": 39,
    "start_time": "2021-08-05T18:15:15.122Z"
   },
   {
    "duration": 399,
    "start_time": "2021-08-05T18:15:15.164Z"
   },
   {
    "duration": 8,
    "start_time": "2021-08-05T18:15:15.566Z"
   },
   {
    "duration": 24,
    "start_time": "2021-08-05T18:15:15.577Z"
   },
   {
    "duration": 47,
    "start_time": "2021-08-05T18:15:15.606Z"
   },
   {
    "duration": 9,
    "start_time": "2021-08-05T18:15:15.656Z"
   },
   {
    "duration": 7,
    "start_time": "2021-08-05T18:15:15.667Z"
   },
   {
    "duration": 2732,
    "start_time": "2021-08-05T18:15:15.676Z"
   },
   {
    "duration": 8,
    "start_time": "2021-08-05T18:15:18.411Z"
   },
   {
    "duration": 7,
    "start_time": "2021-08-05T18:15:18.422Z"
   },
   {
    "duration": 64176,
    "start_time": "2021-08-05T18:15:18.432Z"
   },
   {
    "duration": 9,
    "start_time": "2021-08-05T18:16:22.615Z"
   },
   {
    "duration": 11,
    "start_time": "2021-08-05T18:16:22.626Z"
   },
   {
    "duration": 8,
    "start_time": "2021-08-05T18:16:22.640Z"
   },
   {
    "duration": 23,
    "start_time": "2021-08-05T18:16:22.650Z"
   },
   {
    "duration": 4,
    "start_time": "2021-08-05T18:16:22.675Z"
   },
   {
    "duration": 41,
    "start_time": "2021-08-05T18:16:22.701Z"
   },
   {
    "duration": 5,
    "start_time": "2021-08-05T18:16:22.745Z"
   },
   {
    "duration": 430,
    "start_time": "2021-08-05T18:16:22.753Z"
   },
   {
    "duration": 5,
    "start_time": "2021-08-05T18:16:23.189Z"
   },
   {
    "duration": 10,
    "start_time": "2021-08-05T18:16:23.205Z"
   },
   {
    "duration": 8,
    "start_time": "2021-08-05T18:16:23.218Z"
   },
   {
    "duration": 8,
    "start_time": "2021-08-05T18:16:23.229Z"
   },
   {
    "duration": 5,
    "start_time": "2021-08-05T18:16:23.240Z"
   },
   {
    "duration": 75,
    "start_time": "2021-08-05T18:16:23.249Z"
   },
   {
    "duration": 591,
    "start_time": "2021-08-05T18:16:23.326Z"
   },
   {
    "duration": 353,
    "start_time": "2021-08-05T18:16:23.567Z"
   },
   {
    "duration": 342,
    "start_time": "2021-08-05T18:16:23.580Z"
   },
   {
    "duration": 339,
    "start_time": "2021-08-05T18:16:23.585Z"
   },
   {
    "duration": 336,
    "start_time": "2021-08-05T18:16:23.589Z"
   },
   {
    "duration": 335,
    "start_time": "2021-08-05T18:16:23.592Z"
   },
   {
    "duration": 333,
    "start_time": "2021-08-05T18:16:23.596Z"
   },
   {
    "duration": 330,
    "start_time": "2021-08-05T18:16:23.601Z"
   },
   {
    "duration": 327,
    "start_time": "2021-08-05T18:16:23.605Z"
   },
   {
    "duration": 326,
    "start_time": "2021-08-05T18:16:23.607Z"
   },
   {
    "duration": 322,
    "start_time": "2021-08-05T18:16:23.613Z"
   },
   {
    "duration": 320,
    "start_time": "2021-08-05T18:16:23.616Z"
   },
   {
    "duration": 318,
    "start_time": "2021-08-05T18:16:23.620Z"
   },
   {
    "duration": 317,
    "start_time": "2021-08-05T18:16:23.623Z"
   },
   {
    "duration": 312,
    "start_time": "2021-08-05T18:16:23.629Z"
   },
   {
    "duration": 311,
    "start_time": "2021-08-05T18:16:23.632Z"
   },
   {
    "duration": 308,
    "start_time": "2021-08-05T18:16:23.636Z"
   },
   {
    "duration": 305,
    "start_time": "2021-08-05T18:16:23.641Z"
   },
   {
    "duration": 303,
    "start_time": "2021-08-05T18:16:23.645Z"
   },
   {
    "duration": 301,
    "start_time": "2021-08-05T18:16:23.648Z"
   },
   {
    "duration": 298,
    "start_time": "2021-08-05T18:16:23.653Z"
   },
   {
    "duration": 295,
    "start_time": "2021-08-05T18:16:23.657Z"
   },
   {
    "duration": 293,
    "start_time": "2021-08-05T18:16:23.661Z"
   },
   {
    "duration": 289,
    "start_time": "2021-08-05T18:16:23.666Z"
   },
   {
    "duration": 330,
    "start_time": "2021-08-05T18:16:23.670Z"
   },
   {
    "duration": 329,
    "start_time": "2021-08-05T18:16:23.673Z"
   },
   {
    "duration": 327,
    "start_time": "2021-08-05T18:16:23.677Z"
   },
   {
    "duration": 319,
    "start_time": "2021-08-05T18:16:23.687Z"
   },
   {
    "duration": 314,
    "start_time": "2021-08-05T18:16:23.694Z"
   },
   {
    "duration": 312,
    "start_time": "2021-08-05T18:16:23.698Z"
   },
   {
    "duration": 274,
    "start_time": "2021-08-05T18:16:23.738Z"
   },
   {
    "duration": 262,
    "start_time": "2021-08-05T18:16:23.752Z"
   },
   {
    "duration": 261,
    "start_time": "2021-08-05T18:16:23.755Z"
   },
   {
    "duration": 252,
    "start_time": "2021-08-05T18:16:23.766Z"
   },
   {
    "duration": 250,
    "start_time": "2021-08-05T18:16:23.770Z"
   },
   {
    "duration": 242,
    "start_time": "2021-08-05T18:16:23.780Z"
   },
   {
    "duration": 240,
    "start_time": "2021-08-05T18:16:23.784Z"
   },
   {
    "duration": 237,
    "start_time": "2021-08-05T18:16:23.789Z"
   },
   {
    "duration": 229,
    "start_time": "2021-08-05T18:16:23.799Z"
   },
   {
    "duration": 228,
    "start_time": "2021-08-05T18:16:23.803Z"
   },
   {
    "duration": 227,
    "start_time": "2021-08-05T18:16:23.806Z"
   },
   {
    "duration": 225,
    "start_time": "2021-08-05T18:16:23.810Z"
   },
   {
    "duration": 7,
    "start_time": "2021-08-05T18:16:55.706Z"
   },
   {
    "duration": 5,
    "start_time": "2021-08-05T18:16:57.878Z"
   },
   {
    "duration": 594493,
    "start_time": "2021-08-05T18:16:59.473Z"
   },
   {
    "duration": 16,
    "start_time": "2021-08-05T18:27:31.210Z"
   },
   {
    "duration": 1807995,
    "start_time": "2021-08-05T18:28:17.267Z"
   },
   {
    "duration": 17,
    "start_time": "2021-08-05T18:59:01.117Z"
   },
   {
    "duration": 12,
    "start_time": "2021-08-05T19:05:45.955Z"
   },
   {
    "duration": 4,
    "start_time": "2021-08-05T19:09:59.515Z"
   },
   {
    "duration": 3,
    "start_time": "2021-08-05T19:10:13.227Z"
   },
   {
    "duration": 5,
    "start_time": "2021-08-05T19:10:17.570Z"
   },
   {
    "duration": 4,
    "start_time": "2021-08-05T19:10:26.222Z"
   },
   {
    "duration": 346,
    "start_time": "2021-08-05T19:11:06.598Z"
   },
   {
    "duration": 1383,
    "start_time": "2021-08-05T19:11:17.390Z"
   },
   {
    "duration": 4,
    "start_time": "2021-08-05T19:11:28.048Z"
   },
   {
    "duration": 1197073,
    "start_time": "2021-08-05T19:11:33.168Z"
   },
   {
    "duration": 547,
    "start_time": "2021-08-05T19:31:50.405Z"
   },
   {
    "duration": 18,
    "start_time": "2021-08-05T19:31:56.293Z"
   },
   {
    "duration": 5328,
    "start_time": "2021-08-05T19:33:49.274Z"
   },
   {
    "duration": 120,
    "start_time": "2021-08-05T19:36:21.687Z"
   },
   {
    "duration": 8,
    "start_time": "2021-08-05T19:36:38.976Z"
   },
   {
    "duration": 6,
    "start_time": "2021-08-05T19:38:21.829Z"
   },
   {
    "duration": 5,
    "start_time": "2021-08-05T19:39:01.023Z"
   },
   {
    "duration": 7,
    "start_time": "2021-08-05T19:39:46.234Z"
   },
   {
    "duration": 5,
    "start_time": "2021-08-05T19:40:00.072Z"
   },
   {
    "duration": 4,
    "start_time": "2021-08-05T19:42:10.229Z"
   },
   {
    "duration": 736,
    "start_time": "2021-08-05T19:42:11.636Z"
   },
   {
    "duration": 10,
    "start_time": "2021-08-05T19:42:20.493Z"
   },
   {
    "duration": 1875,
    "start_time": "2021-08-05T19:42:29.455Z"
   },
   {
    "duration": 374,
    "start_time": "2021-08-05T19:43:48.953Z"
   },
   {
    "duration": 6,
    "start_time": "2021-08-05T19:44:54.366Z"
   },
   {
    "duration": 403,
    "start_time": "2021-08-05T19:47:06.330Z"
   },
   {
    "duration": 7,
    "start_time": "2021-08-05T19:47:12.304Z"
   },
   {
    "duration": 7,
    "start_time": "2021-08-05T19:47:59.945Z"
   },
   {
    "duration": 7,
    "start_time": "2021-08-05T19:49:14.472Z"
   },
   {
    "duration": 9,
    "start_time": "2021-08-05T19:49:22.008Z"
   },
   {
    "duration": 4,
    "start_time": "2021-08-05T19:49:24.238Z"
   },
   {
    "duration": 371,
    "start_time": "2021-08-05T19:49:27.134Z"
   },
   {
    "duration": 9,
    "start_time": "2021-08-05T19:50:16.041Z"
   },
   {
    "duration": 5,
    "start_time": "2021-08-05T19:51:06.969Z"
   },
   {
    "duration": 2633,
    "start_time": "2021-08-05T19:51:15.010Z"
   },
   {
    "duration": 5,
    "start_time": "2021-08-05T19:51:19.258Z"
   },
   {
    "duration": 2620,
    "start_time": "2021-08-05T19:51:20.162Z"
   },
   {
    "duration": 5,
    "start_time": "2021-08-05T19:51:55.082Z"
   },
   {
    "duration": 1892,
    "start_time": "2021-08-05T19:51:55.845Z"
   },
   {
    "duration": 1875,
    "start_time": "2021-08-05T19:52:13.852Z"
   },
   {
    "duration": 1882,
    "start_time": "2021-08-05T19:52:45.933Z"
   },
   {
    "duration": 4,
    "start_time": "2021-08-05T19:52:48.573Z"
   },
   {
    "duration": 1900,
    "start_time": "2021-08-05T19:52:49.109Z"
   },
   {
    "duration": 13,
    "start_time": "2021-08-05T19:53:09.174Z"
   },
   {
    "duration": 16,
    "start_time": "2021-08-05T19:53:15.647Z"
   },
   {
    "duration": 24,
    "start_time": "2021-08-05T19:53:29.154Z"
   },
   {
    "duration": 16,
    "start_time": "2021-08-05T19:53:34.688Z"
   },
   {
    "duration": 5,
    "start_time": "2021-08-05T19:54:50.626Z"
   },
   {
    "duration": 122,
    "start_time": "2021-08-05T19:55:40.348Z"
   },
   {
    "duration": 4,
    "start_time": "2021-08-05T19:55:49.047Z"
   },
   {
    "duration": 6,
    "start_time": "2021-08-05T19:55:56.213Z"
   },
   {
    "duration": 12,
    "start_time": "2021-08-05T19:56:32.750Z"
   },
   {
    "duration": 141,
    "start_time": "2021-08-05T19:56:35.478Z"
   },
   {
    "duration": 116,
    "start_time": "2021-08-05T19:57:13.952Z"
   },
   {
    "duration": 567,
    "start_time": "2021-08-05T19:57:23.577Z"
   },
   {
    "duration": 13,
    "start_time": "2021-08-05T19:59:00.588Z"
   },
   {
    "duration": 387,
    "start_time": "2021-08-05T19:59:02.909Z"
   },
   {
    "duration": 7,
    "start_time": "2021-08-05T19:59:46.958Z"
   },
   {
    "duration": 1924,
    "start_time": "2021-08-05T20:00:09.847Z"
   },
   {
    "duration": 358,
    "start_time": "2021-08-05T20:00:19.338Z"
   },
   {
    "duration": 10,
    "start_time": "2021-08-05T20:00:43.711Z"
   },
   {
    "duration": 10,
    "start_time": "2021-08-05T20:00:45.921Z"
   },
   {
    "duration": 14,
    "start_time": "2021-08-05T20:01:32.058Z"
   },
   {
    "duration": 2009,
    "start_time": "2021-08-05T20:01:35.299Z"
   },
   {
    "duration": 10,
    "start_time": "2021-08-05T20:01:40.346Z"
   },
   {
    "duration": 3800,
    "start_time": "2021-08-05T20:02:18.077Z"
   },
   {
    "duration": 127,
    "start_time": "2021-08-05T20:09:37.651Z"
   },
   {
    "duration": 128,
    "start_time": "2021-08-05T20:10:30.149Z"
   },
   {
    "duration": 119,
    "start_time": "2021-08-05T20:17:45.504Z"
   },
   {
    "duration": 4,
    "start_time": "2021-08-05T20:27:42.880Z"
   },
   {
    "duration": 5699,
    "start_time": "2021-08-05T20:27:48.240Z"
   },
   {
    "duration": 12,
    "start_time": "2021-08-05T20:27:58.127Z"
   },
   {
    "duration": 5792,
    "start_time": "2021-08-05T20:28:01.966Z"
   },
   {
    "duration": 13,
    "start_time": "2021-08-05T20:29:31.235Z"
   },
   {
    "duration": 3606,
    "start_time": "2021-08-05T20:29:34.587Z"
   },
   {
    "duration": 5397,
    "start_time": "2021-08-05T20:29:39.683Z"
   },
   {
    "duration": 12223,
    "start_time": "2021-08-05T20:29:47.116Z"
   },
   {
    "duration": 11,
    "start_time": "2021-08-05T20:30:10.612Z"
   },
   {
    "duration": 118,
    "start_time": "2021-08-05T20:31:20.471Z"
   },
   {
    "duration": 1632,
    "start_time": "2021-08-05T20:38:45.082Z"
   },
   {
    "duration": 4,
    "start_time": "2021-08-05T20:38:46.717Z"
   },
   {
    "duration": 845,
    "start_time": "2021-08-05T20:38:46.725Z"
   },
   {
    "duration": 41,
    "start_time": "2021-08-05T20:38:47.572Z"
   },
   {
    "duration": 316,
    "start_time": "2021-08-05T20:38:47.615Z"
   },
   {
    "duration": 11,
    "start_time": "2021-08-05T20:38:47.934Z"
   },
   {
    "duration": 70,
    "start_time": "2021-08-05T20:38:47.948Z"
   },
   {
    "duration": 73,
    "start_time": "2021-08-05T20:38:48.021Z"
   },
   {
    "duration": 2757,
    "start_time": "2021-08-05T20:38:48.098Z"
   },
   {
    "duration": 15,
    "start_time": "2021-08-05T20:38:50.858Z"
   },
   {
    "duration": 19,
    "start_time": "2021-08-05T20:38:50.875Z"
   },
   {
    "duration": 54859,
    "start_time": "2021-08-05T20:38:50.897Z"
   },
   {
    "duration": 14,
    "start_time": "2021-08-05T20:39:45.759Z"
   },
   {
    "duration": 7,
    "start_time": "2021-08-05T20:39:45.776Z"
   },
   {
    "duration": 38,
    "start_time": "2021-08-05T20:39:45.800Z"
   },
   {
    "duration": 5,
    "start_time": "2021-08-05T20:39:45.840Z"
   },
   {
    "duration": 37,
    "start_time": "2021-08-05T20:39:45.848Z"
   },
   {
    "duration": 359,
    "start_time": "2021-08-05T20:39:45.900Z"
   },
   {
    "duration": 4,
    "start_time": "2021-08-05T20:39:46.261Z"
   },
   {
    "duration": 18,
    "start_time": "2021-08-05T20:39:46.268Z"
   },
   {
    "duration": 17,
    "start_time": "2021-08-05T20:39:46.288Z"
   },
   {
    "duration": 7,
    "start_time": "2021-08-05T20:39:46.307Z"
   },
   {
    "duration": 7,
    "start_time": "2021-08-05T20:39:46.316Z"
   },
   {
    "duration": 6,
    "start_time": "2021-08-05T20:39:46.325Z"
   },
   {
    "duration": 6,
    "start_time": "2021-08-05T20:39:46.334Z"
   },
   {
    "duration": 113639,
    "start_time": "2021-08-05T20:39:46.342Z"
   },
   {
    "duration": 268151,
    "start_time": "2021-08-05T20:41:39.987Z"
   },
   {
    "duration": 1610974,
    "start_time": "2021-08-05T20:46:08.141Z"
   },
   {
    "duration": 8,
    "start_time": "2021-08-05T21:12:59.118Z"
   },
   {
    "duration": 7,
    "start_time": "2021-08-05T21:12:59.128Z"
   },
   {
    "duration": 3130,
    "start_time": "2021-08-05T21:12:59.137Z"
   },
   {
    "duration": 5018,
    "start_time": "2021-08-05T21:13:02.269Z"
   },
   {
    "duration": 12533,
    "start_time": "2021-08-05T21:13:07.289Z"
   },
   {
    "duration": 11,
    "start_time": "2021-08-05T21:13:19.824Z"
   },
   {
    "duration": 1248,
    "start_time": "2021-08-06T19:29:44.204Z"
   },
   {
    "duration": 3,
    "start_time": "2021-08-06T19:29:49.356Z"
   },
   {
    "duration": 584,
    "start_time": "2021-08-06T19:29:51.516Z"
   },
   {
    "duration": 25,
    "start_time": "2021-08-06T19:29:54.596Z"
   },
   {
    "duration": 202,
    "start_time": "2021-08-06T19:29:56.123Z"
   },
   {
    "duration": 8,
    "start_time": "2021-08-06T19:29:58.484Z"
   },
   {
    "duration": 3,
    "start_time": "2021-08-06T19:30:33.676Z"
   },
   {
    "duration": 16,
    "start_time": "2021-08-06T19:30:43.575Z"
   },
   {
    "duration": 2,
    "start_time": "2021-08-06T19:30:45.068Z"
   },
   {
    "duration": 3,
    "start_time": "2021-08-06T19:30:57.657Z"
   },
   {
    "duration": 1409,
    "start_time": "2021-08-06T19:31:42.526Z"
   },
   {
    "duration": 4,
    "start_time": "2021-08-06T19:32:03.136Z"
   },
   {
    "duration": 2,
    "start_time": "2021-08-06T19:32:11.517Z"
   },
   {
    "duration": 578,
    "start_time": "2021-08-06T19:32:13.163Z"
   },
   {
    "duration": 24,
    "start_time": "2021-08-06T19:32:15.957Z"
   },
   {
    "duration": 197,
    "start_time": "2021-08-06T19:32:17.204Z"
   },
   {
    "duration": 6,
    "start_time": "2021-08-06T19:32:19.691Z"
   },
   {
    "duration": 6,
    "start_time": "2021-08-06T19:32:24.716Z"
   },
   {
    "duration": 2,
    "start_time": "2021-08-06T19:32:26.910Z"
   },
   {
    "duration": 4,
    "start_time": "2021-08-06T19:32:36.716Z"
   },
   {
    "duration": 2,
    "start_time": "2021-08-06T19:32:40.054Z"
   },
   {
    "duration": 4,
    "start_time": "2021-08-06T19:32:41.569Z"
   },
   {
    "duration": 195,
    "start_time": "2021-08-06T19:32:46.174Z"
   },
   {
    "duration": 7,
    "start_time": "2021-08-06T19:32:49.637Z"
   },
   {
    "duration": 3,
    "start_time": "2021-08-06T19:32:58.207Z"
   },
   {
    "duration": 5,
    "start_time": "2021-08-06T19:35:07.764Z"
   },
   {
    "duration": 245,
    "start_time": "2021-08-06T19:35:39.613Z"
   },
   {
    "duration": 83,
    "start_time": "2021-08-06T19:38:09.478Z"
   },
   {
    "duration": 367,
    "start_time": "2021-08-06T19:38:22.455Z"
   },
   {
    "duration": 239,
    "start_time": "2021-08-06T19:39:34.839Z"
   },
   {
    "duration": 18978,
    "start_time": "2021-08-06T19:41:30.489Z"
   },
   {
    "duration": 5661,
    "start_time": "2021-08-06T19:43:20.492Z"
   },
   {
    "duration": 380,
    "start_time": "2021-08-06T19:43:30.790Z"
   },
   {
    "duration": 261,
    "start_time": "2021-08-06T19:44:17.763Z"
   },
   {
    "duration": 250,
    "start_time": "2021-08-06T19:45:21.486Z"
   },
   {
    "duration": 196865,
    "start_time": "2021-08-06T19:45:59.337Z"
   },
   {
    "duration": 1573,
    "start_time": "2021-08-06T19:50:29.595Z"
   },
   {
    "duration": 516,
    "start_time": "2021-08-06T19:51:02.983Z"
   },
   {
    "duration": 3,
    "start_time": "2021-08-06T19:51:09.404Z"
   },
   {
    "duration": 591,
    "start_time": "2021-08-06T19:51:12.245Z"
   },
   {
    "duration": 2,
    "start_time": "2021-08-06T19:51:25.963Z"
   },
   {
    "duration": 3,
    "start_time": "2021-08-06T19:51:34.062Z"
   },
   {
    "duration": 2,
    "start_time": "2021-08-06T19:51:36.443Z"
   },
   {
    "duration": 3,
    "start_time": "2021-08-06T19:51:37.924Z"
   },
   {
    "duration": 1497,
    "start_time": "2021-08-06T19:51:47.604Z"
   },
   {
    "duration": 7,
    "start_time": "2021-08-06T19:51:52.796Z"
   },
   {
    "duration": 3,
    "start_time": "2021-08-06T19:52:02.251Z"
   },
   {
    "duration": 4,
    "start_time": "2021-08-06T19:52:03.542Z"
   },
   {
    "duration": 3,
    "start_time": "2021-08-06T19:52:18.212Z"
   },
   {
    "duration": 229,
    "start_time": "2021-08-06T19:55:25.852Z"
   },
   {
    "duration": 507,
    "start_time": "2021-08-06T19:55:42.300Z"
   },
   {
    "duration": 3,
    "start_time": "2021-08-06T19:56:07.419Z"
   },
   {
    "duration": 4282,
    "start_time": "2021-08-06T19:56:12.247Z"
   },
   {
    "duration": 266,
    "start_time": "2021-08-06T19:57:19.007Z"
   },
   {
    "duration": 40,
    "start_time": "2021-08-06T19:57:31.893Z"
   },
   {
    "duration": 15,
    "start_time": "2021-08-06T19:57:58.172Z"
   },
   {
    "duration": 2,
    "start_time": "2021-08-06T20:07:17.937Z"
   },
   {
    "duration": 3,
    "start_time": "2021-08-06T20:08:16.729Z"
   },
   {
    "duration": 3695,
    "start_time": "2021-08-06T20:08:40.522Z"
   },
   {
    "duration": 35,
    "start_time": "2021-08-06T20:08:45.617Z"
   },
   {
    "duration": 15,
    "start_time": "2021-08-06T20:08:47.497Z"
   },
   {
    "duration": 3,
    "start_time": "2021-08-06T20:10:08.784Z"
   },
   {
    "duration": 3,
    "start_time": "2021-08-06T20:10:13.373Z"
   },
   {
    "duration": 2,
    "start_time": "2021-08-06T20:10:15.784Z"
   },
   {
    "duration": 3,
    "start_time": "2021-08-06T20:10:17.666Z"
   },
   {
    "duration": 1854,
    "start_time": "2021-08-06T20:10:22.810Z"
   },
   {
    "duration": 8,
    "start_time": "2021-08-06T20:10:27.961Z"
   },
   {
    "duration": 3,
    "start_time": "2021-08-06T20:10:32.777Z"
   },
   {
    "duration": 5,
    "start_time": "2021-08-06T20:10:34.576Z"
   },
   {
    "duration": 24864,
    "start_time": "2021-08-06T20:11:06.377Z"
   },
   {
    "duration": 297,
    "start_time": "2021-08-06T20:11:39.580Z"
   },
   {
    "duration": 84,
    "start_time": "2021-08-06T20:11:42.698Z"
   },
   {
    "duration": 3,
    "start_time": "2021-08-06T20:12:20.896Z"
   },
   {
    "duration": 25575,
    "start_time": "2021-08-06T20:12:23.670Z"
   },
   {
    "duration": 300,
    "start_time": "2021-08-06T20:12:51.258Z"
   },
   {
    "duration": 81,
    "start_time": "2021-08-06T20:12:52.669Z"
   },
   {
    "duration": 4,
    "start_time": "2021-08-06T20:13:53.694Z"
   },
   {
    "duration": 46873,
    "start_time": "2021-08-06T20:14:08.077Z"
   },
   {
    "duration": 298,
    "start_time": "2021-08-06T20:14:57.028Z"
   },
   {
    "duration": 83,
    "start_time": "2021-08-06T20:14:58.548Z"
   },
   {
    "duration": 4,
    "start_time": "2021-08-06T20:16:01.957Z"
   },
   {
    "duration": 13937,
    "start_time": "2021-08-06T20:16:16.174Z"
   },
   {
    "duration": 291,
    "start_time": "2021-08-06T20:16:35.852Z"
   },
   {
    "duration": 78,
    "start_time": "2021-08-06T20:16:40.490Z"
   },
   {
    "duration": 253,
    "start_time": "2021-08-06T20:18:24.128Z"
   },
   {
    "duration": 257,
    "start_time": "2021-08-06T20:18:58.403Z"
   },
   {
    "duration": 3,
    "start_time": "2021-08-06T20:19:57.447Z"
   },
   {
    "duration": 14834,
    "start_time": "2021-08-06T20:20:19.046Z"
   },
   {
    "duration": 292,
    "start_time": "2021-08-06T20:20:36.555Z"
   },
   {
    "duration": 76,
    "start_time": "2021-08-06T20:20:38.180Z"
   },
   {
    "duration": 4,
    "start_time": "2021-08-06T20:20:51.329Z"
   },
   {
    "duration": 25668,
    "start_time": "2021-08-06T20:20:52.682Z"
   },
   {
    "duration": 321,
    "start_time": "2021-08-06T20:21:20.537Z"
   },
   {
    "duration": 85,
    "start_time": "2021-08-06T20:21:22.020Z"
   },
   {
    "duration": 50074,
    "start_time": "2021-08-06T20:21:47.170Z"
   },
   {
    "duration": 293,
    "start_time": "2021-08-06T20:22:52.707Z"
   },
   {
    "duration": 84,
    "start_time": "2021-08-06T20:22:54.145Z"
   },
   {
    "duration": 3,
    "start_time": "2021-08-06T20:25:52.421Z"
   },
   {
    "duration": 67002,
    "start_time": "2021-08-06T20:26:18.042Z"
   },
   {
    "duration": 812,
    "start_time": "2021-08-06T20:27:30.734Z"
   },
   {
    "duration": 256,
    "start_time": "2021-08-06T20:27:33.186Z"
   },
   {
    "duration": 11,
    "start_time": "2021-08-06T20:28:32.649Z"
   },
   {
    "duration": 241,
    "start_time": "2021-08-06T20:29:13.726Z"
   },
   {
    "duration": 4,
    "start_time": "2021-08-06T20:29:56.119Z"
   },
   {
    "duration": 194899,
    "start_time": "2021-08-06T20:30:36.000Z"
   },
   {
    "duration": 4,
    "start_time": "2021-08-06T20:34:02.929Z"
   },
   {
    "duration": 3980,
    "start_time": "2021-08-06T20:34:05.762Z"
   },
   {
    "duration": 787,
    "start_time": "2021-08-06T20:34:12.368Z"
   },
   {
    "duration": 199180,
    "start_time": "2021-08-06T20:34:54.861Z"
   },
   {
    "duration": 304,
    "start_time": "2021-08-06T20:38:36.594Z"
   },
   {
    "duration": 85,
    "start_time": "2021-08-06T20:38:38.859Z"
   },
   {
    "duration": 4,
    "start_time": "2021-08-06T20:38:44.220Z"
   },
   {
    "duration": 21,
    "start_time": "2021-08-06T20:40:30.058Z"
   },
   {
    "duration": 3,
    "start_time": "2021-08-06T20:40:42.891Z"
   },
   {
    "duration": 2,
    "start_time": "2021-08-06T20:40:46.301Z"
   },
   {
    "duration": 3,
    "start_time": "2021-08-06T20:41:26.020Z"
   },
   {
    "duration": 27215,
    "start_time": "2021-08-06T20:41:31.446Z"
   },
   {
    "duration": 12,
    "start_time": "2021-08-06T20:42:04.211Z"
   },
   {
    "duration": 3,
    "start_time": "2021-08-06T20:42:09.256Z"
   },
   {
    "duration": 25,
    "start_time": "2021-08-06T20:42:10.614Z"
   },
   {
    "duration": 3,
    "start_time": "2021-08-06T20:42:36.480Z"
   },
   {
    "duration": 1064316,
    "start_time": "2021-08-06T20:43:26.927Z"
   },
   {
    "duration": 5,
    "start_time": "2021-08-06T21:01:49.195Z"
   },
   {
    "duration": 12114,
    "start_time": "2021-08-06T21:01:52.971Z"
   },
   {
    "duration": 3026,
    "start_time": "2021-08-06T21:02:14.170Z"
   },
   {
    "duration": 36,
    "start_time": "2021-08-06T21:04:54.328Z"
   },
   {
    "duration": 332082,
    "start_time": "2021-08-07T08:06:54.199Z"
   },
   {
    "duration": 1924,
    "start_time": "2021-08-07T08:13:11.488Z"
   },
   {
    "duration": 245,
    "start_time": "2021-08-07T08:14:04.273Z"
   },
   {
    "duration": 1287,
    "start_time": "2021-08-07T08:14:51.519Z"
   },
   {
    "duration": 12187,
    "start_time": "2021-08-07T08:15:00.616Z"
   },
   {
    "duration": 302,
    "start_time": "2021-08-07T08:15:12.807Z"
   },
   {
    "duration": 227630,
    "start_time": "2021-08-07T08:19:40.672Z"
   },
   {
    "duration": 243,
    "start_time": "2021-08-07T08:23:51.734Z"
   },
   {
    "duration": 2233,
    "start_time": "2021-08-07T08:24:10.634Z"
   },
   {
    "duration": 4,
    "start_time": "2021-08-07T08:24:16.695Z"
   },
   {
    "duration": 767,
    "start_time": "2021-08-07T08:24:21.495Z"
   },
   {
    "duration": 33,
    "start_time": "2021-08-07T08:24:24.756Z"
   },
   {
    "duration": 287,
    "start_time": "2021-08-07T08:24:29.512Z"
   },
   {
    "duration": 9,
    "start_time": "2021-08-07T08:24:34.446Z"
   },
   {
    "duration": 3,
    "start_time": "2021-08-07T08:24:59.295Z"
   },
   {
    "duration": 4,
    "start_time": "2021-08-07T08:25:02.846Z"
   },
   {
    "duration": 4,
    "start_time": "2021-08-07T08:25:05.291Z"
   },
   {
    "duration": 6,
    "start_time": "2021-08-07T08:25:06.766Z"
   },
   {
    "duration": 5935,
    "start_time": "2021-08-07T08:25:12.089Z"
   },
   {
    "duration": 12,
    "start_time": "2021-08-07T08:25:20.700Z"
   },
   {
    "duration": 5,
    "start_time": "2021-08-07T08:25:24.283Z"
   },
   {
    "duration": 8,
    "start_time": "2021-08-07T08:25:28.092Z"
   },
   {
    "duration": 9,
    "start_time": "2021-08-07T08:25:31.290Z"
   },
   {
    "duration": 7,
    "start_time": "2021-08-07T08:26:10.024Z"
   },
   {
    "duration": 474,
    "start_time": "2021-08-07T08:27:24.507Z"
   },
   {
    "duration": 13,
    "start_time": "2021-08-07T08:27:40.499Z"
   },
   {
    "duration": 6,
    "start_time": "2021-08-07T08:27:44.383Z"
   },
   {
    "duration": 13,
    "start_time": "2021-08-07T08:28:52.470Z"
   },
   {
    "duration": 8,
    "start_time": "2021-08-07T08:28:53.845Z"
   },
   {
    "duration": 245,
    "start_time": "2021-08-07T08:30:13.134Z"
   },
   {
    "duration": 12,
    "start_time": "2021-08-07T08:36:02.020Z"
   },
   {
    "duration": 5,
    "start_time": "2021-08-07T08:36:09.196Z"
   },
   {
    "duration": 5,
    "start_time": "2021-08-07T08:36:11.475Z"
   },
   {
    "duration": 5,
    "start_time": "2021-08-07T08:42:35.626Z"
   },
   {
    "duration": 5,
    "start_time": "2021-08-07T08:42:37.776Z"
   },
   {
    "duration": 5,
    "start_time": "2021-08-07T08:42:41.976Z"
   },
   {
    "duration": 4,
    "start_time": "2021-08-07T08:42:44.217Z"
   },
   {
    "duration": 5,
    "start_time": "2021-08-07T08:43:25.892Z"
   },
   {
    "duration": 4,
    "start_time": "2021-08-07T08:43:35.151Z"
   },
   {
    "duration": 4,
    "start_time": "2021-08-07T08:43:36.001Z"
   },
   {
    "duration": 4,
    "start_time": "2021-08-07T08:44:56.919Z"
   },
   {
    "duration": 5,
    "start_time": "2021-08-07T08:50:05.500Z"
   },
   {
    "duration": 576,
    "start_time": "2021-08-07T08:50:20.680Z"
   },
   {
    "duration": 7,
    "start_time": "2021-08-07T08:50:30.429Z"
   },
   {
    "duration": 736,
    "start_time": "2021-08-07T08:50:37.485Z"
   },
   {
    "duration": 8,
    "start_time": "2021-08-07T08:51:05.219Z"
   },
   {
    "duration": 5,
    "start_time": "2021-08-07T08:51:15.074Z"
   },
   {
    "duration": 732,
    "start_time": "2021-08-07T08:51:27.504Z"
   },
   {
    "duration": 220,
    "start_time": "2021-08-07T08:51:58.536Z"
   },
   {
    "duration": 323,
    "start_time": "2021-08-07T08:52:02.471Z"
   },
   {
    "duration": 335,
    "start_time": "2021-08-07T08:52:08.839Z"
   },
   {
    "duration": 8,
    "start_time": "2021-08-07T08:52:14.203Z"
   },
   {
    "duration": 5,
    "start_time": "2021-08-07T08:52:21.622Z"
   },
   {
    "duration": 6,
    "start_time": "2021-08-07T08:52:28.437Z"
   },
   {
    "duration": 658,
    "start_time": "2021-08-07T08:52:33.457Z"
   },
   {
    "duration": 218,
    "start_time": "2021-08-07T08:53:33.039Z"
   },
   {
    "duration": 9,
    "start_time": "2021-08-07T08:53:40.051Z"
   },
   {
    "duration": 7,
    "start_time": "2021-08-07T08:53:49.624Z"
   },
   {
    "duration": 608,
    "start_time": "2021-08-07T08:54:02.585Z"
   },
   {
    "duration": 301,
    "start_time": "2021-08-07T08:56:13.319Z"
   },
   {
    "duration": 236,
    "start_time": "2021-08-07T08:56:54.504Z"
   },
   {
    "duration": 9,
    "start_time": "2021-08-07T08:57:11.221Z"
   },
   {
    "duration": 4,
    "start_time": "2021-08-07T08:57:21.619Z"
   },
   {
    "duration": 5,
    "start_time": "2021-08-07T08:57:34.028Z"
   },
   {
    "duration": 51634,
    "start_time": "2021-08-07T08:57:39.089Z"
   },
   {
    "duration": 4,
    "start_time": "2021-08-07T08:58:57.121Z"
   },
   {
    "duration": 260,
    "start_time": "2021-08-07T08:59:05.701Z"
   },
   {
    "duration": 8,
    "start_time": "2021-08-07T08:59:28.451Z"
   },
   {
    "duration": 5,
    "start_time": "2021-08-07T08:59:42.625Z"
   },
   {
    "duration": 5,
    "start_time": "2021-08-07T08:59:54.962Z"
   },
   {
    "duration": 260,
    "start_time": "2021-08-07T08:59:59.892Z"
   },
   {
    "duration": 4,
    "start_time": "2021-08-07T09:00:52.746Z"
   },
   {
    "duration": 5,
    "start_time": "2021-08-07T09:00:56.766Z"
   },
   {
    "duration": 5,
    "start_time": "2021-08-07T09:02:05.328Z"
   },
   {
    "duration": 5,
    "start_time": "2021-08-07T09:02:07.908Z"
   },
   {
    "duration": 5,
    "start_time": "2021-08-07T09:02:09.849Z"
   },
   {
    "duration": 4,
    "start_time": "2021-08-07T09:02:12.069Z"
   },
   {
    "duration": 4,
    "start_time": "2021-08-07T09:02:14.059Z"
   },
   {
    "duration": 7,
    "start_time": "2021-08-07T09:02:16.639Z"
   },
   {
    "duration": 5,
    "start_time": "2021-08-07T09:02:20.181Z"
   },
   {
    "duration": 28948,
    "start_time": "2021-08-07T09:03:30.563Z"
   },
   {
    "duration": 133826,
    "start_time": "2021-08-07T09:05:00.198Z"
   },
   {
    "duration": 328975,
    "start_time": "2021-08-07T09:07:51.171Z"
   },
   {
    "duration": 45,
    "start_time": "2021-08-07T09:13:51.180Z"
   },
   {
    "duration": 5,
    "start_time": "2021-08-07T09:14:19.871Z"
   },
   {
    "duration": 80034,
    "start_time": "2021-08-07T09:14:30.991Z"
   },
   {
    "duration": 593,
    "start_time": "2021-08-07T09:16:16.391Z"
   },
   {
    "duration": 97091,
    "start_time": "2021-08-07T09:16:30.601Z"
   },
   {
    "duration": 1287798,
    "start_time": "2021-08-07T09:18:16.518Z"
   },
   {
    "duration": 3,
    "start_time": "2021-08-07T09:40:39.352Z"
   },
   {
    "duration": 121472,
    "start_time": "2021-08-07T09:40:53.135Z"
   },
   {
    "duration": 4,
    "start_time": "2021-08-07T09:43:12.147Z"
   },
   {
    "duration": 4,
    "start_time": "2021-08-07T09:43:14.858Z"
   },
   {
    "duration": 4,
    "start_time": "2021-08-07T09:43:17.088Z"
   },
   {
    "duration": 6,
    "start_time": "2021-08-07T09:43:19.526Z"
   },
   {
    "duration": 607,
    "start_time": "2021-08-07T09:43:22.792Z"
   },
   {
    "duration": 15,
    "start_time": "2021-08-07T09:43:25.878Z"
   },
   {
    "duration": 5,
    "start_time": "2021-08-07T09:43:28.872Z"
   },
   {
    "duration": 10,
    "start_time": "2021-08-07T09:43:31.977Z"
   },
   {
    "duration": 5863,
    "start_time": "2021-08-07T09:43:46.478Z"
   },
   {
    "duration": 4289,
    "start_time": "2021-08-07T09:43:56.338Z"
   },
   {
    "duration": 29768,
    "start_time": "2021-08-07T09:44:03.057Z"
   },
   {
    "duration": 16358,
    "start_time": "2021-08-07T09:44:39.391Z"
   },
   {
    "duration": 264262,
    "start_time": "2021-08-07T09:44:59.607Z"
   },
   {
    "duration": 1658,
    "start_time": "2021-08-07T09:49:22.215Z"
   },
   {
    "duration": 1649,
    "start_time": "2021-08-07T09:49:22.226Z"
   },
   {
    "duration": 6,
    "start_time": "2021-08-07T09:49:54.565Z"
   },
   {
    "duration": 7,
    "start_time": "2021-08-07T09:49:55.707Z"
   },
   {
    "duration": 36671,
    "start_time": "2021-08-07T09:50:07.998Z"
   },
   {
    "duration": 118238,
    "start_time": "2021-08-07T09:50:51.133Z"
   },
   {
    "duration": 1677,
    "start_time": "2021-08-07T09:52:47.697Z"
   },
   {
    "duration": 5,
    "start_time": "2021-08-07T09:52:54.061Z"
   },
   {
    "duration": 53434,
    "start_time": "2021-08-07T09:52:59.611Z"
   },
   {
    "duration": 29242,
    "start_time": "2021-08-07T09:53:57.842Z"
   },
   {
    "duration": 5,
    "start_time": "2021-08-07T09:54:45.697Z"
   },
   {
    "duration": 5,
    "start_time": "2021-08-07T09:54:47.811Z"
   },
   {
    "duration": 122419,
    "start_time": "2021-08-07T09:54:54.481Z"
   },
   {
    "duration": 5,
    "start_time": "2021-08-07T09:58:53.092Z"
   },
   {
    "duration": 5,
    "start_time": "2021-08-07T09:58:58.760Z"
   },
   {
    "duration": 1671,
    "start_time": "2021-08-07T09:59:03.939Z"
   },
   {
    "duration": 321910,
    "start_time": "2021-08-07T10:00:10.892Z"
   },
   {
    "duration": 2322,
    "start_time": "2021-08-07T10:05:32.805Z"
   },
   {
    "duration": 3,
    "start_time": "2021-08-07T10:05:35.130Z"
   },
   {
    "duration": 915,
    "start_time": "2021-08-07T10:05:35.136Z"
   },
   {
    "duration": 36,
    "start_time": "2021-08-07T10:05:36.054Z"
   },
   {
    "duration": 317,
    "start_time": "2021-08-07T10:05:36.092Z"
   },
   {
    "duration": 9,
    "start_time": "2021-08-07T10:05:36.411Z"
   },
   {
    "duration": 3,
    "start_time": "2021-08-07T10:05:36.424Z"
   },
   {
    "duration": 4,
    "start_time": "2021-08-07T10:05:36.431Z"
   },
   {
    "duration": 32,
    "start_time": "2021-08-07T10:05:36.437Z"
   },
   {
    "duration": 6,
    "start_time": "2021-08-07T10:05:36.472Z"
   },
   {
    "duration": 7,
    "start_time": "2021-08-07T10:05:36.480Z"
   },
   {
    "duration": 2348,
    "start_time": "2021-08-07T10:05:36.489Z"
   },
   {
    "duration": 11,
    "start_time": "2021-08-07T10:05:38.839Z"
   },
   {
    "duration": 4,
    "start_time": "2021-08-07T10:05:38.867Z"
   },
   {
    "duration": 8,
    "start_time": "2021-08-07T10:05:38.874Z"
   },
   {
    "duration": 6,
    "start_time": "2021-08-07T10:05:38.884Z"
   },
   {
    "duration": 6,
    "start_time": "2021-08-07T10:05:38.892Z"
   },
   {
    "duration": 10,
    "start_time": "2021-08-07T10:05:38.900Z"
   },
   {
    "duration": 8,
    "start_time": "2021-08-07T10:05:38.912Z"
   },
   {
    "duration": 5,
    "start_time": "2021-08-07T10:05:38.922Z"
   },
   {
    "duration": 38,
    "start_time": "2021-08-07T10:05:38.929Z"
   },
   {
    "duration": 11,
    "start_time": "2021-08-07T10:05:38.973Z"
   },
   {
    "duration": 7,
    "start_time": "2021-08-07T10:05:38.988Z"
   },
   {
    "duration": 11,
    "start_time": "2021-08-07T10:05:38.998Z"
   },
   {
    "duration": 6,
    "start_time": "2021-08-07T10:05:39.012Z"
   },
   {
    "duration": 9,
    "start_time": "2021-08-07T10:05:39.021Z"
   },
   {
    "duration": 7,
    "start_time": "2021-08-07T10:05:39.032Z"
   },
   {
    "duration": 8,
    "start_time": "2021-08-07T10:05:39.068Z"
   },
   {
    "duration": 10,
    "start_time": "2021-08-07T10:05:39.079Z"
   },
   {
    "duration": 7,
    "start_time": "2021-08-07T10:05:39.092Z"
   },
   {
    "duration": 6,
    "start_time": "2021-08-07T10:05:39.102Z"
   },
   {
    "duration": 1335,
    "start_time": "2021-08-07T10:05:39.111Z"
   },
   {
    "duration": 1111,
    "start_time": "2021-08-07T10:05:40.448Z"
   },
   {
    "duration": 15367,
    "start_time": "2021-08-07T10:05:41.561Z"
   },
   {
    "duration": 11637,
    "start_time": "2021-08-07T10:05:56.930Z"
   },
   {
    "duration": 1136,
    "start_time": "2021-08-07T10:06:08.569Z"
   },
   {
    "duration": 763,
    "start_time": "2021-08-07T10:06:09.708Z"
   },
   {
    "duration": 3,
    "start_time": "2021-08-07T10:06:10.474Z"
   },
   {
    "duration": 7,
    "start_time": "2021-08-07T10:06:10.479Z"
   },
   {
    "duration": 13,
    "start_time": "2021-08-07T10:06:10.489Z"
   },
   {
    "duration": 7,
    "start_time": "2021-08-07T10:06:10.505Z"
   },
   {
    "duration": 758,
    "start_time": "2021-08-07T10:06:10.515Z"
   },
   {
    "duration": 1841,
    "start_time": "2021-08-07T10:06:09.436Z"
   },
   {
    "duration": 1833,
    "start_time": "2021-08-07T10:06:09.446Z"
   },
   {
    "duration": 1828,
    "start_time": "2021-08-07T10:06:09.454Z"
   },
   {
    "duration": 1822,
    "start_time": "2021-08-07T10:06:09.462Z"
   },
   {
    "duration": 1805,
    "start_time": "2021-08-07T10:06:09.481Z"
   },
   {
    "duration": 1799,
    "start_time": "2021-08-07T10:06:09.489Z"
   },
   {
    "duration": 1782,
    "start_time": "2021-08-07T10:06:09.509Z"
   },
   {
    "duration": 1766,
    "start_time": "2021-08-07T10:06:09.527Z"
   },
   {
    "duration": 1749,
    "start_time": "2021-08-07T10:06:09.546Z"
   },
   {
    "duration": 1745,
    "start_time": "2021-08-07T10:06:09.553Z"
   },
   {
    "duration": 1727,
    "start_time": "2021-08-07T10:06:09.573Z"
   },
   {
    "duration": 1723,
    "start_time": "2021-08-07T10:06:09.579Z"
   },
   {
    "duration": 1717,
    "start_time": "2021-08-07T10:06:09.587Z"
   },
   {
    "duration": 1711,
    "start_time": "2021-08-07T10:06:09.595Z"
   },
   {
    "duration": 1705,
    "start_time": "2021-08-07T10:06:09.603Z"
   },
   {
    "duration": 1700,
    "start_time": "2021-08-07T10:06:09.610Z"
   },
   {
    "duration": 1695,
    "start_time": "2021-08-07T10:06:09.617Z"
   },
   {
    "duration": 1688,
    "start_time": "2021-08-07T10:06:09.625Z"
   },
   {
    "duration": 5,
    "start_time": "2021-08-07T10:10:02.005Z"
   },
   {
    "duration": 55,
    "start_time": "2021-08-07T10:10:05.700Z"
   },
   {
    "duration": 53,
    "start_time": "2021-08-07T10:10:12.801Z"
   },
   {
    "duration": 121,
    "start_time": "2021-08-07T10:10:12.857Z"
   },
   {
    "duration": 102,
    "start_time": "2021-08-07T10:10:12.981Z"
   },
   {
    "duration": 89,
    "start_time": "2021-08-07T10:10:13.085Z"
   },
   {
    "duration": 131,
    "start_time": "2021-08-07T10:10:13.177Z"
   },
   {
    "duration": 11,
    "start_time": "2021-08-07T10:10:13.310Z"
   },
   {
    "duration": 251,
    "start_time": "2021-08-07T10:10:13.323Z"
   },
   {
    "duration": 1847,
    "start_time": "2021-08-07T10:10:11.730Z"
   },
   {
    "duration": 1815,
    "start_time": "2021-08-07T10:10:11.764Z"
   },
   {
    "duration": 1791,
    "start_time": "2021-08-07T10:10:11.789Z"
   },
   {
    "duration": 1769,
    "start_time": "2021-08-07T10:10:11.812Z"
   },
   {
    "duration": 1744,
    "start_time": "2021-08-07T10:10:11.838Z"
   },
   {
    "duration": 1717,
    "start_time": "2021-08-07T10:10:11.866Z"
   },
   {
    "duration": 1691,
    "start_time": "2021-08-07T10:10:11.894Z"
   },
   {
    "duration": 1682,
    "start_time": "2021-08-07T10:10:11.904Z"
   },
   {
    "duration": 1674,
    "start_time": "2021-08-07T10:10:11.913Z"
   },
   {
    "duration": 1665,
    "start_time": "2021-08-07T10:10:11.923Z"
   },
   {
    "duration": 1659,
    "start_time": "2021-08-07T10:10:11.931Z"
   },
   {
    "duration": 31,
    "start_time": "2021-08-07T10:11:29.119Z"
   },
   {
    "duration": 4,
    "start_time": "2021-08-07T10:11:29.153Z"
   },
   {
    "duration": 6,
    "start_time": "2021-08-07T10:11:29.162Z"
   },
   {
    "duration": 10,
    "start_time": "2021-08-07T10:11:29.171Z"
   },
   {
    "duration": 56986,
    "start_time": "2021-08-07T10:11:29.184Z"
   },
   {
    "duration": 17,
    "start_time": "2021-08-07T10:12:26.175Z"
   },
   {
    "duration": 4,
    "start_time": "2021-08-07T10:12:26.195Z"
   },
   {
    "duration": 137,
    "start_time": "2021-08-07T10:12:26.202Z"
   },
   {
    "duration": 4,
    "start_time": "2021-08-07T10:12:26.341Z"
   },
   {
    "duration": 18,
    "start_time": "2021-08-07T10:12:26.349Z"
   },
   {
    "duration": 6,
    "start_time": "2021-08-07T10:12:26.372Z"
   },
   {
    "duration": 5,
    "start_time": "2021-08-07T10:12:26.381Z"
   },
   {
    "duration": 9,
    "start_time": "2021-08-07T10:12:26.388Z"
   },
   {
    "duration": 7,
    "start_time": "2021-08-07T10:12:26.399Z"
   },
   {
    "duration": 6,
    "start_time": "2021-08-07T10:12:26.409Z"
   },
   {
    "duration": 5,
    "start_time": "2021-08-07T10:12:26.418Z"
   },
   {
    "duration": 46,
    "start_time": "2021-08-07T10:12:26.426Z"
   },
   {
    "duration": 10,
    "start_time": "2021-08-07T10:12:26.475Z"
   },
   {
    "duration": 11,
    "start_time": "2021-08-07T10:12:26.487Z"
   },
   {
    "duration": 7,
    "start_time": "2021-08-07T10:12:26.500Z"
   },
   {
    "duration": 7,
    "start_time": "2021-08-07T10:12:26.509Z"
   },
   {
    "duration": 6,
    "start_time": "2021-08-07T10:12:26.518Z"
   },
   {
    "duration": 5,
    "start_time": "2021-08-07T10:12:26.526Z"
   },
   {
    "duration": 34,
    "start_time": "2021-08-07T10:12:26.533Z"
   },
   {
    "duration": 48588,
    "start_time": "2021-08-07T10:12:26.569Z"
   },
   {
    "duration": 1703,
    "start_time": "2021-08-07T10:13:13.460Z"
   },
   {
    "duration": 1695,
    "start_time": "2021-08-07T10:13:13.470Z"
   },
   {
    "duration": 1689,
    "start_time": "2021-08-07T10:13:13.478Z"
   },
   {
    "duration": 1681,
    "start_time": "2021-08-07T10:13:13.488Z"
   },
   {
    "duration": 1675,
    "start_time": "2021-08-07T10:13:13.497Z"
   },
   {
    "duration": 1667,
    "start_time": "2021-08-07T10:13:13.507Z"
   },
   {
    "duration": 1660,
    "start_time": "2021-08-07T10:13:13.516Z"
   },
   {
    "duration": 1652,
    "start_time": "2021-08-07T10:13:13.526Z"
   },
   {
    "duration": 1646,
    "start_time": "2021-08-07T10:13:13.534Z"
   },
   {
    "duration": 1640,
    "start_time": "2021-08-07T10:13:13.543Z"
   },
   {
    "duration": 1573,
    "start_time": "2021-08-07T10:13:13.612Z"
   },
   {
    "duration": 1566,
    "start_time": "2021-08-07T10:13:13.621Z"
   },
   {
    "duration": 1560,
    "start_time": "2021-08-07T10:13:13.629Z"
   },
   {
    "duration": 1546,
    "start_time": "2021-08-07T10:13:13.645Z"
   },
   {
    "duration": 1539,
    "start_time": "2021-08-07T10:13:13.654Z"
   },
   {
    "duration": 1531,
    "start_time": "2021-08-07T10:13:13.664Z"
   },
   {
    "duration": 1526,
    "start_time": "2021-08-07T10:13:13.672Z"
   },
   {
    "duration": 1519,
    "start_time": "2021-08-07T10:13:13.681Z"
   },
   {
    "duration": 1512,
    "start_time": "2021-08-07T10:13:13.690Z"
   },
   {
    "duration": 1506,
    "start_time": "2021-08-07T10:13:13.699Z"
   },
   {
    "duration": 1559,
    "start_time": "2021-08-07T10:13:13.708Z"
   },
   {
    "duration": 1538,
    "start_time": "2021-08-07T10:13:13.732Z"
   },
   {
    "duration": 1530,
    "start_time": "2021-08-07T10:13:13.742Z"
   },
   {
    "duration": 1521,
    "start_time": "2021-08-07T10:13:13.753Z"
   },
   {
    "duration": 1516,
    "start_time": "2021-08-07T10:13:13.761Z"
   },
   {
    "duration": 1508,
    "start_time": "2021-08-07T10:13:13.771Z"
   },
   {
    "duration": 1502,
    "start_time": "2021-08-07T10:13:13.780Z"
   },
   {
    "duration": 1490,
    "start_time": "2021-08-07T10:13:13.794Z"
   },
   {
    "duration": 4,
    "start_time": "2021-08-07T10:13:26.973Z"
   },
   {
    "duration": 644735,
    "start_time": "2021-08-07T10:13:26.989Z"
   },
   {
    "duration": 288381,
    "start_time": "2021-08-07T10:24:11.728Z"
   },
   {
    "duration": 2489472,
    "start_time": "2021-08-07T10:29:00.112Z"
   },
   {
    "duration": 967061,
    "start_time": "2021-08-07T11:10:29.587Z"
   },
   {
    "duration": 3012148,
    "start_time": "2021-08-07T11:26:36.651Z"
   },
   {
    "duration": 475014,
    "start_time": "2021-08-07T12:16:48.867Z"
   },
   {
    "duration": 3,
    "start_time": "2021-08-07T12:24:43.884Z"
   },
   {
    "duration": 6,
    "start_time": "2021-08-07T12:24:43.891Z"
   },
   {
    "duration": 10,
    "start_time": "2021-08-07T12:24:43.900Z"
   },
   {
    "duration": 13,
    "start_time": "2021-08-07T12:24:43.912Z"
   },
   {
    "duration": 11355,
    "start_time": "2021-08-07T12:24:43.928Z"
   },
   {
    "duration": 12221,
    "start_time": "2021-08-07T12:24:55.286Z"
   },
   {
    "duration": 19106,
    "start_time": "2021-08-07T12:25:07.509Z"
   },
   {
    "duration": 16686,
    "start_time": "2021-08-07T12:25:26.617Z"
   },
   {
    "duration": 12809,
    "start_time": "2021-08-07T12:25:43.305Z"
   },
   {
    "duration": 12758,
    "start_time": "2021-08-07T12:25:56.116Z"
   },
   {
    "duration": 17,
    "start_time": "2021-08-07T12:26:08.878Z"
   },
   {
    "duration": 355,
    "start_time": "2021-08-07T12:26:08.898Z"
   },
   {
    "duration": 1867,
    "start_time": "2021-08-07T12:26:07.391Z"
   },
   {
    "duration": 1847,
    "start_time": "2021-08-07T12:26:07.413Z"
   },
   {
    "duration": 1839,
    "start_time": "2021-08-07T12:26:07.424Z"
   },
   {
    "duration": 1820,
    "start_time": "2021-08-07T12:26:07.445Z"
   },
   {
    "duration": 1782,
    "start_time": "2021-08-07T12:26:07.486Z"
   },
   {
    "duration": 1764,
    "start_time": "2021-08-07T12:26:07.506Z"
   },
   {
    "duration": 1754,
    "start_time": "2021-08-07T12:26:07.518Z"
   },
   {
    "duration": 1670,
    "start_time": "2021-08-07T12:26:07.605Z"
   },
   {
    "duration": 1653,
    "start_time": "2021-08-07T12:26:07.624Z"
   },
   {
    "duration": 1646,
    "start_time": "2021-08-07T12:26:07.633Z"
   },
   {
    "duration": 1638,
    "start_time": "2021-08-07T12:26:07.643Z"
   },
   {
    "duration": 6,
    "start_time": "2021-08-07T12:26:54.200Z"
   },
   {
    "duration": 5,
    "start_time": "2021-08-07T12:27:01.686Z"
   },
   {
    "duration": 3133285,
    "start_time": "2021-08-07T12:27:11.695Z"
   },
   {
    "duration": 18,
    "start_time": "2021-08-07T13:22:36.567Z"
   },
   {
    "duration": 5,
    "start_time": "2021-08-07T13:23:23.499Z"
   },
   {
    "duration": 226,
    "start_time": "2021-08-07T13:23:59.723Z"
   },
   {
    "duration": 16,
    "start_time": "2021-08-07T13:24:06.635Z"
   },
   {
    "duration": 7,
    "start_time": "2021-08-07T13:24:21.978Z"
   },
   {
    "duration": 4,
    "start_time": "2021-08-07T13:25:32.059Z"
   },
   {
    "duration": 5,
    "start_time": "2021-08-07T13:26:25.049Z"
   },
   {
    "duration": 6,
    "start_time": "2021-08-07T13:26:42.260Z"
   },
   {
    "duration": 8,
    "start_time": "2021-08-07T13:44:12.307Z"
   },
   {
    "duration": 85,
    "start_time": "2021-08-07T13:44:20.040Z"
   },
   {
    "duration": 2494,
    "start_time": "2021-08-07T13:44:33.104Z"
   },
   {
    "duration": 9,
    "start_time": "2021-08-07T13:45:23.530Z"
   },
   {
    "duration": 17,
    "start_time": "2021-08-07T13:45:23.542Z"
   },
   {
    "duration": 867,
    "start_time": "2021-08-07T13:45:23.562Z"
   },
   {
    "duration": 54,
    "start_time": "2021-08-07T13:45:24.433Z"
   },
   {
    "duration": 328,
    "start_time": "2021-08-07T13:45:24.491Z"
   },
   {
    "duration": 9,
    "start_time": "2021-08-07T13:45:24.821Z"
   },
   {
    "duration": 10,
    "start_time": "2021-08-07T13:45:24.832Z"
   },
   {
    "duration": 40,
    "start_time": "2021-08-07T13:45:24.845Z"
   },
   {
    "duration": 3,
    "start_time": "2021-08-07T13:45:24.889Z"
   },
   {
    "duration": 21,
    "start_time": "2021-08-07T13:45:24.895Z"
   },
   {
    "duration": 22,
    "start_time": "2021-08-07T13:45:24.918Z"
   },
   {
    "duration": 59524,
    "start_time": "2021-08-07T13:45:24.943Z"
   },
   {
    "duration": 15,
    "start_time": "2021-08-07T13:46:24.469Z"
   },
   {
    "duration": 7,
    "start_time": "2021-08-07T13:46:24.486Z"
   },
   {
    "duration": 125,
    "start_time": "2021-08-07T13:46:24.496Z"
   },
   {
    "duration": 4,
    "start_time": "2021-08-07T13:46:24.624Z"
   },
   {
    "duration": 6,
    "start_time": "2021-08-07T13:46:24.631Z"
   },
   {
    "duration": 28,
    "start_time": "2021-08-07T13:46:24.639Z"
   },
   {
    "duration": 10,
    "start_time": "2021-08-07T13:46:24.669Z"
   },
   {
    "duration": 8,
    "start_time": "2021-08-07T13:46:24.681Z"
   },
   {
    "duration": 5,
    "start_time": "2021-08-07T13:46:24.692Z"
   },
   {
    "duration": 8,
    "start_time": "2021-08-07T13:46:24.700Z"
   },
   {
    "duration": 9,
    "start_time": "2021-08-07T13:46:24.711Z"
   },
   {
    "duration": 43,
    "start_time": "2021-08-07T13:46:24.724Z"
   },
   {
    "duration": 8,
    "start_time": "2021-08-07T13:46:24.770Z"
   },
   {
    "duration": 7,
    "start_time": "2021-08-07T13:46:24.781Z"
   },
   {
    "duration": 11,
    "start_time": "2021-08-07T13:46:24.795Z"
   },
   {
    "duration": 6,
    "start_time": "2021-08-07T13:46:24.811Z"
   },
   {
    "duration": 47,
    "start_time": "2021-08-07T13:46:24.820Z"
   },
   {
    "duration": 5,
    "start_time": "2021-08-07T13:46:24.870Z"
   },
   {
    "duration": 11,
    "start_time": "2021-08-07T13:46:24.877Z"
   },
   {
    "duration": 79563,
    "start_time": "2021-08-07T13:46:24.890Z"
   },
   {
    "duration": 1635,
    "start_time": "2021-08-07T13:47:42.820Z"
   },
   {
    "duration": 1625,
    "start_time": "2021-08-07T13:47:42.832Z"
   },
   {
    "duration": 1613,
    "start_time": "2021-08-07T13:47:42.845Z"
   },
   {
    "duration": 1601,
    "start_time": "2021-08-07T13:47:42.859Z"
   },
   {
    "duration": 1592,
    "start_time": "2021-08-07T13:47:42.869Z"
   },
   {
    "duration": 1580,
    "start_time": "2021-08-07T13:47:42.882Z"
   },
   {
    "duration": 1573,
    "start_time": "2021-08-07T13:47:42.891Z"
   },
   {
    "duration": 1565,
    "start_time": "2021-08-07T13:47:42.901Z"
   },
   {
    "duration": 1542,
    "start_time": "2021-08-07T13:47:42.925Z"
   },
   {
    "duration": 1532,
    "start_time": "2021-08-07T13:47:42.937Z"
   },
   {
    "duration": 1523,
    "start_time": "2021-08-07T13:47:42.947Z"
   },
   {
    "duration": 1513,
    "start_time": "2021-08-07T13:47:42.958Z"
   },
   {
    "duration": 1506,
    "start_time": "2021-08-07T13:47:42.967Z"
   },
   {
    "duration": 1498,
    "start_time": "2021-08-07T13:47:42.976Z"
   },
   {
    "duration": 1490,
    "start_time": "2021-08-07T13:47:42.985Z"
   },
   {
    "duration": 1483,
    "start_time": "2021-08-07T13:47:42.994Z"
   },
   {
    "duration": 1475,
    "start_time": "2021-08-07T13:47:43.003Z"
   },
   {
    "duration": 1466,
    "start_time": "2021-08-07T13:47:43.013Z"
   },
   {
    "duration": 1459,
    "start_time": "2021-08-07T13:47:43.021Z"
   },
   {
    "duration": 1438,
    "start_time": "2021-08-07T13:47:43.044Z"
   },
   {
    "duration": 1430,
    "start_time": "2021-08-07T13:47:43.053Z"
   },
   {
    "duration": 1422,
    "start_time": "2021-08-07T13:47:43.062Z"
   },
   {
    "duration": 1414,
    "start_time": "2021-08-07T13:47:43.071Z"
   },
   {
    "duration": 1405,
    "start_time": "2021-08-07T13:47:43.081Z"
   },
   {
    "duration": 1398,
    "start_time": "2021-08-07T13:47:43.090Z"
   },
   {
    "duration": 1389,
    "start_time": "2021-08-07T13:47:43.100Z"
   },
   {
    "duration": 1382,
    "start_time": "2021-08-07T13:47:43.108Z"
   },
   {
    "duration": 1374,
    "start_time": "2021-08-07T13:47:43.118Z"
   },
   {
    "duration": 9,
    "start_time": "2021-08-07T13:47:56.467Z"
   },
   {
    "duration": 8,
    "start_time": "2021-08-07T13:47:56.479Z"
   },
   {
    "duration": 878,
    "start_time": "2021-08-07T13:47:56.490Z"
   },
   {
    "duration": 33,
    "start_time": "2021-08-07T13:47:57.372Z"
   },
   {
    "duration": 316,
    "start_time": "2021-08-07T13:47:57.408Z"
   },
   {
    "duration": 10,
    "start_time": "2021-08-07T13:47:57.727Z"
   },
   {
    "duration": 4,
    "start_time": "2021-08-07T13:47:57.742Z"
   },
   {
    "duration": 36,
    "start_time": "2021-08-07T13:47:57.770Z"
   },
   {
    "duration": 9,
    "start_time": "2021-08-07T13:47:57.810Z"
   },
   {
    "duration": 5,
    "start_time": "2021-08-07T13:47:57.822Z"
   },
   {
    "duration": 38,
    "start_time": "2021-08-07T13:47:57.830Z"
   },
   {
    "duration": 94096,
    "start_time": "2021-08-07T13:47:57.871Z"
   },
   {
    "duration": 23,
    "start_time": "2021-08-07T13:49:31.971Z"
   },
   {
    "duration": 5,
    "start_time": "2021-08-07T13:49:31.996Z"
   },
   {
    "duration": 141,
    "start_time": "2021-08-07T13:49:32.005Z"
   },
   {
    "duration": 4,
    "start_time": "2021-08-07T13:49:32.148Z"
   },
   {
    "duration": 12,
    "start_time": "2021-08-07T13:49:32.155Z"
   },
   {
    "duration": 7,
    "start_time": "2021-08-07T13:49:32.173Z"
   },
   {
    "duration": 9,
    "start_time": "2021-08-07T13:49:32.183Z"
   },
   {
    "duration": 9,
    "start_time": "2021-08-07T13:49:32.194Z"
   },
   {
    "duration": 6,
    "start_time": "2021-08-07T13:49:32.206Z"
   },
   {
    "duration": 13,
    "start_time": "2021-08-07T13:49:32.215Z"
   },
   {
    "duration": 9,
    "start_time": "2021-08-07T13:49:32.231Z"
   },
   {
    "duration": 32,
    "start_time": "2021-08-07T13:49:32.243Z"
   },
   {
    "duration": 7,
    "start_time": "2021-08-07T13:49:32.278Z"
   },
   {
    "duration": 9,
    "start_time": "2021-08-07T13:49:32.288Z"
   },
   {
    "duration": 6,
    "start_time": "2021-08-07T13:49:32.300Z"
   },
   {
    "duration": 7,
    "start_time": "2021-08-07T13:49:32.308Z"
   },
   {
    "duration": 49,
    "start_time": "2021-08-07T13:49:32.318Z"
   },
   {
    "duration": 8,
    "start_time": "2021-08-07T13:49:32.370Z"
   },
   {
    "duration": 8,
    "start_time": "2021-08-07T13:49:32.381Z"
   },
   {
    "duration": 1751,
    "start_time": "2021-08-07T14:53:54.127Z"
   },
   {
    "duration": 8,
    "start_time": "2021-08-07T14:53:58.466Z"
   },
   {
    "duration": 8,
    "start_time": "2021-08-07T14:54:06.323Z"
   },
   {
    "duration": 5,
    "start_time": "2021-08-07T14:54:48.557Z"
   },
   {
    "duration": 846,
    "start_time": "2021-08-07T14:54:48.566Z"
   },
   {
    "duration": 32,
    "start_time": "2021-08-07T14:54:49.415Z"
   },
   {
    "duration": 306,
    "start_time": "2021-08-07T14:54:49.451Z"
   },
   {
    "duration": 15,
    "start_time": "2021-08-07T14:54:49.759Z"
   },
   {
    "duration": 3,
    "start_time": "2021-08-07T14:54:49.776Z"
   },
   {
    "duration": 28,
    "start_time": "2021-08-07T14:54:49.782Z"
   },
   {
    "duration": 6,
    "start_time": "2021-08-07T14:54:49.815Z"
   },
   {
    "duration": 8,
    "start_time": "2021-08-07T14:54:49.825Z"
   },
   {
    "duration": 34,
    "start_time": "2021-08-07T14:54:49.835Z"
   },
   {
    "duration": 55944,
    "start_time": "2021-08-07T14:54:49.871Z"
   },
   {
    "duration": 20,
    "start_time": "2021-08-07T14:55:45.817Z"
   },
   {
    "duration": 6,
    "start_time": "2021-08-07T14:55:45.841Z"
   },
   {
    "duration": 181,
    "start_time": "2021-08-07T14:55:45.870Z"
   },
   {
    "duration": 4,
    "start_time": "2021-08-07T14:55:46.054Z"
   },
   {
    "duration": 3,
    "start_time": "2021-08-07T14:55:46.068Z"
   },
   {
    "duration": 5,
    "start_time": "2021-08-07T14:55:46.075Z"
   },
   {
    "duration": 5,
    "start_time": "2021-08-07T14:55:46.083Z"
   },
   {
    "duration": 6,
    "start_time": "2021-08-07T14:55:46.091Z"
   },
   {
    "duration": 13,
    "start_time": "2021-08-07T14:55:46.101Z"
   },
   {
    "duration": 7,
    "start_time": "2021-08-07T14:55:46.118Z"
   },
   {
    "duration": 43,
    "start_time": "2021-08-07T14:55:46.129Z"
   },
   {
    "duration": 6,
    "start_time": "2021-08-07T14:55:46.184Z"
   },
   {
    "duration": 6,
    "start_time": "2021-08-07T14:55:46.195Z"
   },
   {
    "duration": 7,
    "start_time": "2021-08-07T14:55:46.204Z"
   },
   {
    "duration": 10,
    "start_time": "2021-08-07T14:55:46.214Z"
   },
   {
    "duration": 42,
    "start_time": "2021-08-07T14:55:46.227Z"
   },
   {
    "duration": 9,
    "start_time": "2021-08-07T14:55:46.271Z"
   },
   {
    "duration": 10,
    "start_time": "2021-08-07T14:55:46.282Z"
   },
   {
    "duration": 6,
    "start_time": "2021-08-07T14:55:46.295Z"
   },
   {
    "duration": 8,
    "start_time": "2021-08-07T14:55:46.303Z"
   },
   {
    "duration": 1360725,
    "start_time": "2021-08-07T14:55:46.314Z"
   },
   {
    "duration": 2541626,
    "start_time": "2021-08-07T15:18:27.042Z"
   },
   {
    "duration": 938978,
    "start_time": "2021-08-07T16:00:48.671Z"
   },
   {
    "duration": 3361,
    "start_time": "2021-08-08T06:39:16.459Z"
   },
   {
    "duration": 4,
    "start_time": "2021-08-08T06:39:27.059Z"
   },
   {
    "duration": 988,
    "start_time": "2021-08-08T06:39:29.644Z"
   },
   {
    "duration": 42,
    "start_time": "2021-08-08T06:39:34.765Z"
   },
   {
    "duration": 307,
    "start_time": "2021-08-08T06:39:40.058Z"
   },
   {
    "duration": 12,
    "start_time": "2021-08-08T06:39:42.528Z"
   },
   {
    "duration": 25,
    "start_time": "2021-08-08T06:39:49.738Z"
   },
   {
    "duration": 5,
    "start_time": "2021-08-08T06:39:58.058Z"
   },
   {
    "duration": 4,
    "start_time": "2021-08-08T06:40:04.367Z"
   },
   {
    "duration": 7,
    "start_time": "2021-08-08T06:40:05.842Z"
   },
   {
    "duration": 59969,
    "start_time": "2021-08-08T06:40:11.640Z"
   },
   {
    "duration": 16,
    "start_time": "2021-08-08T06:41:14.485Z"
   },
   {
    "duration": 4,
    "start_time": "2021-08-08T06:41:19.535Z"
   },
   {
    "duration": 99,
    "start_time": "2021-08-08T06:41:21.482Z"
   },
   {
    "duration": 5,
    "start_time": "2021-08-08T06:41:28.592Z"
   },
   {
    "duration": 509,
    "start_time": "2021-08-08T06:43:21.916Z"
   },
   {
    "duration": 138321,
    "start_time": "2021-08-08T06:45:12.799Z"
   },
   {
    "duration": 2189,
    "start_time": "2021-08-08T06:47:31.123Z"
   },
   {
    "duration": -95,
    "start_time": "2021-08-08T06:47:33.413Z"
   },
   {
    "duration": -111,
    "start_time": "2021-08-08T06:47:33.430Z"
   },
   {
    "duration": -119,
    "start_time": "2021-08-08T06:47:33.440Z"
   },
   {
    "duration": -128,
    "start_time": "2021-08-08T06:47:33.450Z"
   },
   {
    "duration": -137,
    "start_time": "2021-08-08T06:47:33.460Z"
   },
   {
    "duration": -146,
    "start_time": "2021-08-08T06:47:33.471Z"
   },
   {
    "duration": -153,
    "start_time": "2021-08-08T06:47:33.480Z"
   },
   {
    "duration": -162,
    "start_time": "2021-08-08T06:47:33.490Z"
   },
   {
    "duration": -169,
    "start_time": "2021-08-08T06:47:33.499Z"
   },
   {
    "duration": -193,
    "start_time": "2021-08-08T06:47:33.524Z"
   },
   {
    "duration": -205,
    "start_time": "2021-08-08T06:47:33.537Z"
   },
   {
    "duration": -214,
    "start_time": "2021-08-08T06:47:33.547Z"
   },
   {
    "duration": -222,
    "start_time": "2021-08-08T06:47:33.557Z"
   },
   {
    "duration": -231,
    "start_time": "2021-08-08T06:47:33.567Z"
   },
   {
    "duration": -239,
    "start_time": "2021-08-08T06:47:33.576Z"
   },
   {
    "duration": -250,
    "start_time": "2021-08-08T06:47:33.588Z"
   },
   {
    "duration": -258,
    "start_time": "2021-08-08T06:47:33.598Z"
   },
   {
    "duration": -267,
    "start_time": "2021-08-08T06:47:33.608Z"
   },
   {
    "duration": -288,
    "start_time": "2021-08-08T06:47:33.631Z"
   },
   {
    "duration": -297,
    "start_time": "2021-08-08T06:47:33.641Z"
   },
   {
    "duration": -306,
    "start_time": "2021-08-08T06:47:33.651Z"
   },
   {
    "duration": -315,
    "start_time": "2021-08-08T06:47:33.662Z"
   },
   {
    "duration": -323,
    "start_time": "2021-08-08T06:47:33.671Z"
   },
   {
    "duration": -333,
    "start_time": "2021-08-08T06:47:33.682Z"
   },
   {
    "duration": -339,
    "start_time": "2021-08-08T06:47:33.690Z"
   },
   {
    "duration": -348,
    "start_time": "2021-08-08T06:47:33.700Z"
   },
   {
    "duration": -325,
    "start_time": "2021-08-08T06:47:33.710Z"
   },
   {
    "duration": -334,
    "start_time": "2021-08-08T06:47:33.721Z"
   },
   {
    "duration": -341,
    "start_time": "2021-08-08T06:47:33.729Z"
   },
   {
    "duration": -362,
    "start_time": "2021-08-08T06:47:33.751Z"
   },
   {
    "duration": -369,
    "start_time": "2021-08-08T06:47:33.760Z"
   },
   {
    "duration": -378,
    "start_time": "2021-08-08T06:47:33.770Z"
   },
   {
    "duration": -384,
    "start_time": "2021-08-08T06:47:33.778Z"
   },
   {
    "duration": -494,
    "start_time": "2021-08-08T06:47:33.889Z"
   },
   {
    "duration": -500,
    "start_time": "2021-08-08T06:47:33.897Z"
   },
   {
    "duration": -509,
    "start_time": "2021-08-08T06:47:33.908Z"
   },
   {
    "duration": -519,
    "start_time": "2021-08-08T06:47:33.919Z"
   },
   {
    "duration": -527,
    "start_time": "2021-08-08T06:47:33.928Z"
   },
   {
    "duration": -533,
    "start_time": "2021-08-08T06:47:33.936Z"
   },
   {
    "duration": -575,
    "start_time": "2021-08-08T06:47:33.979Z"
   },
   {
    "duration": -583,
    "start_time": "2021-08-08T06:47:33.988Z"
   },
   {
    "duration": -602,
    "start_time": "2021-08-08T06:47:34.008Z"
   },
   {
    "duration": -609,
    "start_time": "2021-08-08T06:47:34.016Z"
   },
   {
    "duration": -616,
    "start_time": "2021-08-08T06:47:34.025Z"
   },
   {
    "duration": -625,
    "start_time": "2021-08-08T06:47:34.035Z"
   },
   {
    "duration": -633,
    "start_time": "2021-08-08T06:47:34.044Z"
   },
   {
    "duration": -686,
    "start_time": "2021-08-08T06:47:34.099Z"
   },
   {
    "duration": -705,
    "start_time": "2021-08-08T06:47:34.119Z"
   },
   {
    "duration": -712,
    "start_time": "2021-08-08T06:47:34.127Z"
   },
   {
    "duration": -720,
    "start_time": "2021-08-08T06:47:34.137Z"
   },
   {
    "duration": -727,
    "start_time": "2021-08-08T06:47:34.145Z"
   },
   {
    "duration": -765,
    "start_time": "2021-08-08T06:47:34.185Z"
   },
   {
    "duration": -772,
    "start_time": "2021-08-08T06:47:34.193Z"
   },
   {
    "duration": -779,
    "start_time": "2021-08-08T06:47:34.202Z"
   },
   {
    "duration": -786,
    "start_time": "2021-08-08T06:47:34.210Z"
   },
   {
    "duration": -805,
    "start_time": "2021-08-08T06:47:34.230Z"
   },
   {
    "duration": -760,
    "start_time": "2021-08-08T06:47:34.245Z"
   },
   {
    "duration": -768,
    "start_time": "2021-08-08T06:47:34.255Z"
   },
   {
    "duration": -775,
    "start_time": "2021-08-08T06:47:34.263Z"
   },
   {
    "duration": 2183,
    "start_time": "2021-08-08T06:47:58.853Z"
   },
   {
    "duration": 37517,
    "start_time": "2021-08-08T06:48:13.553Z"
   },
   {
    "duration": 2655,
    "start_time": "2021-08-08T06:48:51.074Z"
   },
   {
    "duration": -101,
    "start_time": "2021-08-08T06:48:53.836Z"
   },
   {
    "duration": -109,
    "start_time": "2021-08-08T06:48:53.845Z"
   },
   {
    "duration": -119,
    "start_time": "2021-08-08T06:48:53.856Z"
   },
   {
    "duration": -129,
    "start_time": "2021-08-08T06:48:53.868Z"
   },
   {
    "duration": -140,
    "start_time": "2021-08-08T06:48:53.880Z"
   },
   {
    "duration": -150,
    "start_time": "2021-08-08T06:48:53.891Z"
   },
   {
    "duration": -157,
    "start_time": "2021-08-08T06:48:53.899Z"
   },
   {
    "duration": -165,
    "start_time": "2021-08-08T06:48:53.908Z"
   },
   {
    "duration": -171,
    "start_time": "2021-08-08T06:48:53.916Z"
   },
   {
    "duration": -194,
    "start_time": "2021-08-08T06:48:53.940Z"
   },
   {
    "duration": -202,
    "start_time": "2021-08-08T06:48:53.949Z"
   },
   {
    "duration": -211,
    "start_time": "2021-08-08T06:48:53.960Z"
   },
   {
    "duration": -220,
    "start_time": "2021-08-08T06:48:53.970Z"
   },
   {
    "duration": -228,
    "start_time": "2021-08-08T06:48:53.979Z"
   },
   {
    "duration": -240,
    "start_time": "2021-08-08T06:48:53.992Z"
   },
   {
    "duration": -249,
    "start_time": "2021-08-08T06:48:54.002Z"
   },
   {
    "duration": -260,
    "start_time": "2021-08-08T06:48:54.014Z"
   },
   {
    "duration": -268,
    "start_time": "2021-08-08T06:48:54.024Z"
   },
   {
    "duration": -276,
    "start_time": "2021-08-08T06:48:54.033Z"
   },
   {
    "duration": -299,
    "start_time": "2021-08-08T06:48:54.057Z"
   },
   {
    "duration": -307,
    "start_time": "2021-08-08T06:48:54.067Z"
   },
   {
    "duration": -317,
    "start_time": "2021-08-08T06:48:54.078Z"
   },
   {
    "duration": -325,
    "start_time": "2021-08-08T06:48:54.087Z"
   },
   {
    "duration": -334,
    "start_time": "2021-08-08T06:48:54.097Z"
   },
   {
    "duration": -471,
    "start_time": "2021-08-08T06:48:54.236Z"
   },
   {
    "duration": -479,
    "start_time": "2021-08-08T06:48:54.245Z"
   },
   {
    "duration": -486,
    "start_time": "2021-08-08T06:48:54.253Z"
   },
   {
    "duration": -561,
    "start_time": "2021-08-08T06:48:54.330Z"
   },
   {
    "duration": -569,
    "start_time": "2021-08-08T06:48:54.339Z"
   },
   {
    "duration": -576,
    "start_time": "2021-08-08T06:48:54.348Z"
   },
   {
    "duration": -571,
    "start_time": "2021-08-08T06:48:54.356Z"
   },
   {
    "duration": -625,
    "start_time": "2021-08-08T06:48:54.412Z"
   },
   {
    "duration": -632,
    "start_time": "2021-08-08T06:48:54.420Z"
   },
   {
    "duration": -651,
    "start_time": "2021-08-08T06:48:54.441Z"
   },
   {
    "duration": -658,
    "start_time": "2021-08-08T06:48:54.449Z"
   },
   {
    "duration": -666,
    "start_time": "2021-08-08T06:48:54.459Z"
   },
   {
    "duration": -673,
    "start_time": "2021-08-08T06:48:54.467Z"
   },
   {
    "duration": -681,
    "start_time": "2021-08-08T06:48:54.476Z"
   },
   {
    "duration": -769,
    "start_time": "2021-08-08T06:48:54.566Z"
   },
   {
    "duration": -777,
    "start_time": "2021-08-08T06:48:54.575Z"
   },
   {
    "duration": -783,
    "start_time": "2021-08-08T06:48:54.583Z"
   },
   {
    "duration": -792,
    "start_time": "2021-08-08T06:48:54.593Z"
   },
   {
    "duration": -800,
    "start_time": "2021-08-08T06:48:54.602Z"
   },
   {
    "duration": -808,
    "start_time": "2021-08-08T06:48:54.612Z"
   },
   {
    "duration": -841,
    "start_time": "2021-08-08T06:48:54.646Z"
   },
   {
    "duration": -848,
    "start_time": "2021-08-08T06:48:54.655Z"
   },
   {
    "duration": -855,
    "start_time": "2021-08-08T06:48:54.663Z"
   },
   {
    "duration": -874,
    "start_time": "2021-08-08T06:48:54.684Z"
   },
   {
    "duration": -882,
    "start_time": "2021-08-08T06:48:54.693Z"
   },
   {
    "duration": -889,
    "start_time": "2021-08-08T06:48:54.702Z"
   },
   {
    "duration": -913,
    "start_time": "2021-08-08T06:48:54.727Z"
   },
   {
    "duration": -922,
    "start_time": "2021-08-08T06:48:54.737Z"
   },
   {
    "duration": -929,
    "start_time": "2021-08-08T06:48:54.745Z"
   },
   {
    "duration": -936,
    "start_time": "2021-08-08T06:48:54.754Z"
   },
   {
    "duration": -943,
    "start_time": "2021-08-08T06:48:54.762Z"
   },
   {
    "duration": -952,
    "start_time": "2021-08-08T06:48:54.772Z"
   },
   {
    "duration": -977,
    "start_time": "2021-08-08T06:48:54.799Z"
   },
   {
    "duration": -990,
    "start_time": "2021-08-08T06:48:54.813Z"
   },
   {
    "duration": -998,
    "start_time": "2021-08-08T06:48:54.822Z"
   },
   {
    "duration": 443,
    "start_time": "2021-08-08T06:49:30.661Z"
   },
   {
    "duration": 37623,
    "start_time": "2021-08-08T06:49:45.540Z"
   },
   {
    "duration": 408,
    "start_time": "2021-08-08T06:50:55.811Z"
   },
   {
    "duration": 33309,
    "start_time": "2021-08-08T06:55:12.206Z"
   },
   {
    "duration": 2081,
    "start_time": "2021-08-08T06:55:45.518Z"
   },
   {
    "duration": -97,
    "start_time": "2021-08-08T06:55:47.702Z"
   },
   {
    "duration": -104,
    "start_time": "2021-08-08T06:55:47.711Z"
   },
   {
    "duration": -142,
    "start_time": "2021-08-08T06:55:47.750Z"
   },
   {
    "duration": -153,
    "start_time": "2021-08-08T06:55:47.763Z"
   },
   {
    "duration": -163,
    "start_time": "2021-08-08T06:55:47.775Z"
   },
   {
    "duration": -172,
    "start_time": "2021-08-08T06:55:47.785Z"
   },
   {
    "duration": -180,
    "start_time": "2021-08-08T06:55:47.795Z"
   },
   {
    "duration": -191,
    "start_time": "2021-08-08T06:55:47.807Z"
   },
   {
    "duration": -199,
    "start_time": "2021-08-08T06:55:47.817Z"
   },
   {
    "duration": -208,
    "start_time": "2021-08-08T06:55:47.827Z"
   },
   {
    "duration": -216,
    "start_time": "2021-08-08T06:55:47.837Z"
   },
   {
    "duration": -224,
    "start_time": "2021-08-08T06:55:47.847Z"
   },
   {
    "duration": -246,
    "start_time": "2021-08-08T06:55:47.871Z"
   },
   {
    "duration": -255,
    "start_time": "2021-08-08T06:55:47.881Z"
   },
   {
    "duration": -262,
    "start_time": "2021-08-08T06:55:47.890Z"
   },
   {
    "duration": -270,
    "start_time": "2021-08-08T06:55:47.899Z"
   },
   {
    "duration": -279,
    "start_time": "2021-08-08T06:55:47.909Z"
   },
   {
    "duration": -286,
    "start_time": "2021-08-08T06:55:47.918Z"
   },
   {
    "duration": -295,
    "start_time": "2021-08-08T06:55:47.928Z"
   },
   {
    "duration": -303,
    "start_time": "2021-08-08T06:55:47.938Z"
   },
   {
    "duration": -311,
    "start_time": "2021-08-08T06:55:47.948Z"
   },
   {
    "duration": -533,
    "start_time": "2021-08-08T06:55:48.171Z"
   },
   {
    "duration": -542,
    "start_time": "2021-08-08T06:55:48.181Z"
   },
   {
    "duration": -548,
    "start_time": "2021-08-08T06:55:48.189Z"
   },
   {
    "duration": -513,
    "start_time": "2021-08-08T06:55:48.198Z"
   },
   {
    "duration": -521,
    "start_time": "2021-08-08T06:55:48.208Z"
   },
   {
    "duration": -528,
    "start_time": "2021-08-08T06:55:48.217Z"
   },
   {
    "duration": -650,
    "start_time": "2021-08-08T06:55:48.340Z"
   },
   {
    "duration": -657,
    "start_time": "2021-08-08T06:55:48.349Z"
   },
   {
    "duration": -664,
    "start_time": "2021-08-08T06:55:48.357Z"
   },
   {
    "duration": -671,
    "start_time": "2021-08-08T06:55:48.366Z"
   },
   {
    "duration": -679,
    "start_time": "2021-08-08T06:55:48.375Z"
   },
   {
    "duration": -686,
    "start_time": "2021-08-08T06:55:48.384Z"
   },
   {
    "duration": -749,
    "start_time": "2021-08-08T06:55:48.448Z"
   },
   {
    "duration": -757,
    "start_time": "2021-08-08T06:55:48.457Z"
   },
   {
    "duration": -869,
    "start_time": "2021-08-08T06:55:48.571Z"
   },
   {
    "duration": -878,
    "start_time": "2021-08-08T06:55:48.581Z"
   },
   {
    "duration": -969,
    "start_time": "2021-08-08T06:55:48.674Z"
   },
   {
    "duration": -978,
    "start_time": "2021-08-08T06:55:48.684Z"
   },
   {
    "duration": -1018,
    "start_time": "2021-08-08T06:55:48.725Z"
   },
   {
    "duration": -1025,
    "start_time": "2021-08-08T06:55:48.734Z"
   },
   {
    "duration": -1044,
    "start_time": "2021-08-08T06:55:48.754Z"
   },
   {
    "duration": -1082,
    "start_time": "2021-08-08T06:55:48.794Z"
   },
   {
    "duration": -1242,
    "start_time": "2021-08-08T06:55:48.955Z"
   },
   {
    "duration": -1403,
    "start_time": "2021-08-08T06:55:49.117Z"
   },
   {
    "duration": -1409,
    "start_time": "2021-08-08T06:55:49.125Z"
   },
   {
    "duration": -1420,
    "start_time": "2021-08-08T06:55:49.137Z"
   },
   {
    "duration": -1430,
    "start_time": "2021-08-08T06:55:49.148Z"
   },
   {
    "duration": -1437,
    "start_time": "2021-08-08T06:55:49.157Z"
   },
   {
    "duration": -1445,
    "start_time": "2021-08-08T06:55:49.166Z"
   },
   {
    "duration": -1452,
    "start_time": "2021-08-08T06:55:49.175Z"
   },
   {
    "duration": -1459,
    "start_time": "2021-08-08T06:55:49.183Z"
   },
   {
    "duration": -1408,
    "start_time": "2021-08-08T06:55:49.193Z"
   },
   {
    "duration": -1414,
    "start_time": "2021-08-08T06:55:49.201Z"
   },
   {
    "duration": -1421,
    "start_time": "2021-08-08T06:55:49.210Z"
   },
   {
    "duration": -1441,
    "start_time": "2021-08-08T06:55:49.231Z"
   },
   {
    "duration": -1450,
    "start_time": "2021-08-08T06:55:49.242Z"
   },
   {
    "duration": -1457,
    "start_time": "2021-08-08T06:55:49.250Z"
   },
   {
    "duration": -1464,
    "start_time": "2021-08-08T06:55:49.259Z"
   },
   {
    "duration": 2084,
    "start_time": "2021-08-08T07:01:05.007Z"
   },
   {
    "duration": 135,
    "start_time": "2021-08-08T07:01:59.116Z"
   },
   {
    "duration": 30969,
    "start_time": "2021-08-08T07:02:11.901Z"
   },
   {
    "duration": 31017,
    "start_time": "2021-08-08T07:04:15.642Z"
   },
   {
    "duration": 504,
    "start_time": "2021-08-08T07:13:24.649Z"
   },
   {
    "duration": 16364,
    "start_time": "2021-08-08T07:13:52.202Z"
   },
   {
    "duration": 500,
    "start_time": "2021-08-08T07:14:29.871Z"
   },
   {
    "duration": 39157,
    "start_time": "2021-08-08T07:14:42.523Z"
   },
   {
    "duration": 486,
    "start_time": "2021-08-08T07:15:31.432Z"
   },
   {
    "duration": 37927,
    "start_time": "2021-08-08T07:15:49.169Z"
   },
   {
    "duration": 2561,
    "start_time": "2021-08-08T07:16:34.612Z"
   },
   {
    "duration": 3,
    "start_time": "2021-08-08T07:16:53.607Z"
   },
   {
    "duration": 868,
    "start_time": "2021-08-08T07:16:53.614Z"
   },
   {
    "duration": 32,
    "start_time": "2021-08-08T07:16:54.486Z"
   },
   {
    "duration": 313,
    "start_time": "2021-08-08T07:16:54.521Z"
   },
   {
    "duration": 10,
    "start_time": "2021-08-08T07:16:54.837Z"
   },
   {
    "duration": 7,
    "start_time": "2021-08-08T07:16:54.849Z"
   },
   {
    "duration": 42,
    "start_time": "2021-08-08T07:16:54.859Z"
   },
   {
    "duration": 4,
    "start_time": "2021-08-08T07:16:54.904Z"
   },
   {
    "duration": 12,
    "start_time": "2021-08-08T07:16:54.912Z"
   },
   {
    "duration": 20,
    "start_time": "2021-08-08T07:16:54.927Z"
   },
   {
    "duration": 57549,
    "start_time": "2021-08-08T07:16:54.949Z"
   },
   {
    "duration": 16,
    "start_time": "2021-08-08T07:17:52.500Z"
   },
   {
    "duration": 9,
    "start_time": "2021-08-08T07:17:52.519Z"
   },
   {
    "duration": 123,
    "start_time": "2021-08-08T07:17:52.531Z"
   },
   {
    "duration": 4,
    "start_time": "2021-08-08T07:17:52.656Z"
   },
   {
    "duration": 24,
    "start_time": "2021-08-08T07:17:52.662Z"
   },
   {
    "duration": 9,
    "start_time": "2021-08-08T07:17:52.688Z"
   },
   {
    "duration": 12,
    "start_time": "2021-08-08T07:17:52.699Z"
   },
   {
    "duration": 6,
    "start_time": "2021-08-08T07:17:52.713Z"
   },
   {
    "duration": 9,
    "start_time": "2021-08-08T07:17:52.721Z"
   },
   {
    "duration": 17,
    "start_time": "2021-08-08T07:17:52.732Z"
   },
   {
    "duration": 34,
    "start_time": "2021-08-08T07:17:52.751Z"
   },
   {
    "duration": 9,
    "start_time": "2021-08-08T07:17:52.788Z"
   },
   {
    "duration": 25,
    "start_time": "2021-08-08T07:17:52.799Z"
   },
   {
    "duration": 12,
    "start_time": "2021-08-08T07:17:52.826Z"
   },
   {
    "duration": 21,
    "start_time": "2021-08-08T07:17:52.840Z"
   },
   {
    "duration": 19,
    "start_time": "2021-08-08T07:17:52.866Z"
   },
   {
    "duration": 13,
    "start_time": "2021-08-08T07:17:52.889Z"
   },
   {
    "duration": 210,
    "start_time": "2021-08-08T07:17:52.904Z"
   },
   {
    "duration": -428,
    "start_time": "2021-08-08T07:17:53.544Z"
   },
   {
    "duration": -435,
    "start_time": "2021-08-08T07:17:53.553Z"
   },
   {
    "duration": -444,
    "start_time": "2021-08-08T07:17:53.563Z"
   },
   {
    "duration": -451,
    "start_time": "2021-08-08T07:17:53.572Z"
   },
   {
    "duration": -814,
    "start_time": "2021-08-08T07:17:53.936Z"
   },
   {
    "duration": -822,
    "start_time": "2021-08-08T07:17:53.945Z"
   },
   {
    "duration": -831,
    "start_time": "2021-08-08T07:17:53.955Z"
   },
   {
    "duration": -838,
    "start_time": "2021-08-08T07:17:53.964Z"
   },
   {
    "duration": -847,
    "start_time": "2021-08-08T07:17:53.974Z"
   },
   {
    "duration": -853,
    "start_time": "2021-08-08T07:17:53.982Z"
   },
   {
    "duration": -862,
    "start_time": "2021-08-08T07:17:53.992Z"
   },
   {
    "duration": -870,
    "start_time": "2021-08-08T07:17:54.001Z"
   },
   {
    "duration": -879,
    "start_time": "2021-08-08T07:17:54.012Z"
   },
   {
    "duration": -887,
    "start_time": "2021-08-08T07:17:54.021Z"
   },
   {
    "duration": -894,
    "start_time": "2021-08-08T07:17:54.030Z"
   },
   {
    "duration": -916,
    "start_time": "2021-08-08T07:17:54.053Z"
   },
   {
    "duration": -923,
    "start_time": "2021-08-08T07:17:54.062Z"
   },
   {
    "duration": -930,
    "start_time": "2021-08-08T07:17:54.071Z"
   },
   {
    "duration": -938,
    "start_time": "2021-08-08T07:17:54.081Z"
   },
   {
    "duration": -947,
    "start_time": "2021-08-08T07:17:54.091Z"
   },
   {
    "duration": -955,
    "start_time": "2021-08-08T07:17:54.101Z"
   },
   {
    "duration": -963,
    "start_time": "2021-08-08T07:17:54.110Z"
   },
   {
    "duration": -972,
    "start_time": "2021-08-08T07:17:54.120Z"
   },
   {
    "duration": -979,
    "start_time": "2021-08-08T07:17:54.129Z"
   },
   {
    "duration": -987,
    "start_time": "2021-08-08T07:17:54.139Z"
   },
   {
    "duration": -994,
    "start_time": "2021-08-08T07:17:54.147Z"
   },
   {
    "duration": -1017,
    "start_time": "2021-08-08T07:17:54.171Z"
   },
   {
    "duration": -1025,
    "start_time": "2021-08-08T07:17:54.180Z"
   },
   {
    "duration": -1006,
    "start_time": "2021-08-08T07:17:54.191Z"
   },
   {
    "duration": -1017,
    "start_time": "2021-08-08T07:17:54.203Z"
   },
   {
    "duration": 5,
    "start_time": "2021-08-08T07:18:48.230Z"
   },
   {
    "duration": 4,
    "start_time": "2021-08-08T07:18:50.798Z"
   },
   {
    "duration": 7995105,
    "start_time": "2021-08-08T07:19:03.597Z"
   },
   {
    "duration": 793,
    "start_time": "2021-08-08T09:32:31.398Z"
   },
   {
    "duration": 32,
    "start_time": "2021-08-08T09:32:33.909Z"
   },
   {
    "duration": 283,
    "start_time": "2021-08-08T09:32:35.923Z"
   },
   {
    "duration": 9,
    "start_time": "2021-08-08T09:32:38.950Z"
   },
   {
    "duration": 25,
    "start_time": "2021-08-08T09:32:51.334Z"
   },
   {
    "duration": 142,
    "start_time": "2021-08-08T09:33:27.325Z"
   },
   {
    "duration": 5,
    "start_time": "2021-08-08T09:36:55.667Z"
   },
   {
    "duration": 1848,
    "start_time": "2021-08-08T09:37:21.520Z"
   },
   {
    "duration": 15,
    "start_time": "2021-08-08T09:38:07.627Z"
   },
   {
    "duration": 15,
    "start_time": "2021-08-08T09:39:17.628Z"
   },
   {
    "duration": 23,
    "start_time": "2021-08-08T09:46:05.835Z"
   },
   {
    "duration": 14,
    "start_time": "2021-08-08T09:47:28.476Z"
   },
   {
    "duration": 16,
    "start_time": "2021-08-08T09:47:39.193Z"
   },
   {
    "duration": 16,
    "start_time": "2021-08-08T09:48:35.305Z"
   },
   {
    "duration": 14,
    "start_time": "2021-08-08T09:48:48.200Z"
   },
   {
    "duration": 15,
    "start_time": "2021-08-08T10:23:21.866Z"
   },
   {
    "duration": 14,
    "start_time": "2021-08-08T10:23:38.492Z"
   },
   {
    "duration": 17,
    "start_time": "2021-08-08T10:24:04.667Z"
   },
   {
    "duration": 16,
    "start_time": "2021-08-08T10:24:09.205Z"
   },
   {
    "duration": 15,
    "start_time": "2021-08-08T10:24:16.229Z"
   },
   {
    "duration": 16,
    "start_time": "2021-08-08T10:24:20.197Z"
   },
   {
    "duration": 17,
    "start_time": "2021-08-08T10:24:25.350Z"
   },
   {
    "duration": 16,
    "start_time": "2021-08-08T10:25:27.718Z"
   },
   {
    "duration": 29,
    "start_time": "2021-08-08T10:25:32.405Z"
   },
   {
    "duration": 32,
    "start_time": "2021-08-08T10:25:37.725Z"
   },
   {
    "duration": 4,
    "start_time": "2021-08-08T10:25:54.895Z"
   },
   {
    "duration": 73,
    "start_time": "2021-08-08T10:25:56.726Z"
   },
   {
    "duration": 20,
    "start_time": "2021-08-08T10:27:03.124Z"
   },
   {
    "duration": 12,
    "start_time": "2021-08-08T10:27:17.364Z"
   },
   {
    "duration": 14,
    "start_time": "2021-08-08T10:27:34.098Z"
   },
   {
    "duration": 6,
    "start_time": "2021-08-08T10:27:44.962Z"
   },
   {
    "duration": 118,
    "start_time": "2021-08-08T10:27:44.971Z"
   },
   {
    "duration": 3,
    "start_time": "2021-08-08T10:27:45.093Z"
   },
   {
    "duration": 18,
    "start_time": "2021-08-08T10:27:45.099Z"
   },
   {
    "duration": 10,
    "start_time": "2021-08-08T10:27:45.120Z"
   },
   {
    "duration": 7,
    "start_time": "2021-08-08T10:27:45.133Z"
   },
   {
    "duration": 15,
    "start_time": "2021-08-08T10:27:45.143Z"
   },
   {
    "duration": 13,
    "start_time": "2021-08-08T10:27:45.162Z"
   },
   {
    "duration": 7,
    "start_time": "2021-08-08T10:27:45.188Z"
   },
   {
    "duration": 18,
    "start_time": "2021-08-08T10:27:45.198Z"
   },
   {
    "duration": 31,
    "start_time": "2021-08-08T10:27:45.219Z"
   },
   {
    "duration": 13,
    "start_time": "2021-08-08T10:27:45.253Z"
   },
   {
    "duration": 14,
    "start_time": "2021-08-08T10:27:45.268Z"
   },
   {
    "duration": 9,
    "start_time": "2021-08-08T10:27:45.285Z"
   },
   {
    "duration": 13,
    "start_time": "2021-08-08T10:27:45.296Z"
   },
   {
    "duration": 22,
    "start_time": "2021-08-08T10:27:45.311Z"
   },
   {
    "duration": 13,
    "start_time": "2021-08-08T10:27:45.336Z"
   },
   {
    "duration": 161,
    "start_time": "2021-08-08T10:27:45.352Z"
   },
   {
    "duration": -855,
    "start_time": "2021-08-08T10:27:46.371Z"
   },
   {
    "duration": -862,
    "start_time": "2021-08-08T10:27:46.380Z"
   },
   {
    "duration": -869,
    "start_time": "2021-08-08T10:27:46.389Z"
   },
   {
    "duration": -906,
    "start_time": "2021-08-08T10:27:46.427Z"
   },
   {
    "duration": -914,
    "start_time": "2021-08-08T10:27:46.437Z"
   },
   {
    "duration": -922,
    "start_time": "2021-08-08T10:27:46.447Z"
   },
   {
    "duration": -932,
    "start_time": "2021-08-08T10:27:46.458Z"
   },
   {
    "duration": -939,
    "start_time": "2021-08-08T10:27:46.467Z"
   },
   {
    "duration": -948,
    "start_time": "2021-08-08T10:27:46.477Z"
   },
   {
    "duration": -955,
    "start_time": "2021-08-08T10:27:46.486Z"
   },
   {
    "duration": -964,
    "start_time": "2021-08-08T10:27:46.496Z"
   },
   {
    "duration": -970,
    "start_time": "2021-08-08T10:27:46.504Z"
   },
   {
    "duration": -978,
    "start_time": "2021-08-08T10:27:46.514Z"
   },
   {
    "duration": -986,
    "start_time": "2021-08-08T10:27:46.523Z"
   },
   {
    "duration": -1006,
    "start_time": "2021-08-08T10:27:46.545Z"
   },
   {
    "duration": -1013,
    "start_time": "2021-08-08T10:27:46.554Z"
   },
   {
    "duration": -1021,
    "start_time": "2021-08-08T10:27:46.563Z"
   },
   {
    "duration": -1028,
    "start_time": "2021-08-08T10:27:46.572Z"
   },
   {
    "duration": -1035,
    "start_time": "2021-08-08T10:27:46.581Z"
   },
   {
    "duration": -1042,
    "start_time": "2021-08-08T10:27:46.590Z"
   },
   {
    "duration": -1052,
    "start_time": "2021-08-08T10:27:46.601Z"
   },
   {
    "duration": -1059,
    "start_time": "2021-08-08T10:27:46.610Z"
   },
   {
    "duration": -1035,
    "start_time": "2021-08-08T10:27:46.620Z"
   },
   {
    "duration": -1042,
    "start_time": "2021-08-08T10:27:46.629Z"
   },
   {
    "duration": -1051,
    "start_time": "2021-08-08T10:27:46.639Z"
   },
   {
    "duration": -1072,
    "start_time": "2021-08-08T10:27:46.662Z"
   },
   {
    "duration": -1080,
    "start_time": "2021-08-08T10:27:46.672Z"
   },
   {
    "duration": -1087,
    "start_time": "2021-08-08T10:27:46.681Z"
   },
   {
    "duration": -1095,
    "start_time": "2021-08-08T10:27:46.691Z"
   },
   {
    "duration": 4,
    "start_time": "2021-08-08T10:28:03.364Z"
   },
   {
    "duration": 423191,
    "start_time": "2021-08-08T10:28:07.239Z"
   },
   {
    "duration": 4179833,
    "start_time": "2021-08-08T10:36:21.873Z"
   },
   {
    "duration": 17,
    "start_time": "2021-08-08T12:19:24.673Z"
   },
   {
    "duration": 17,
    "start_time": "2021-08-08T12:22:00.095Z"
   },
   {
    "duration": 602,
    "start_time": "2021-08-08T12:22:38.988Z"
   },
   {
    "duration": 378,
    "start_time": "2021-08-08T12:22:46.496Z"
   },
   {
    "duration": 15,
    "start_time": "2021-08-08T12:23:41.721Z"
   },
   {
    "duration": 3,
    "start_time": "2021-08-08T16:59:19.758Z"
   },
   {
    "duration": 2819,
    "start_time": "2021-08-08T17:07:02.943Z"
   },
   {
    "duration": -260,
    "start_time": "2021-08-08T17:07:06.026Z"
   },
   {
    "duration": -268,
    "start_time": "2021-08-08T17:07:06.035Z"
   },
   {
    "duration": -271,
    "start_time": "2021-08-08T17:07:06.039Z"
   },
   {
    "duration": -279,
    "start_time": "2021-08-08T17:07:06.048Z"
   },
   {
    "duration": -282,
    "start_time": "2021-08-08T17:07:06.052Z"
   },
   {
    "duration": -284,
    "start_time": "2021-08-08T17:07:06.055Z"
   },
   {
    "duration": -292,
    "start_time": "2021-08-08T17:07:06.064Z"
   },
   {
    "duration": -295,
    "start_time": "2021-08-08T17:07:06.068Z"
   },
   {
    "duration": -302,
    "start_time": "2021-08-08T17:07:06.076Z"
   },
   {
    "duration": -304,
    "start_time": "2021-08-08T17:07:06.079Z"
   },
   {
    "duration": -312,
    "start_time": "2021-08-08T17:07:06.087Z"
   },
   {
    "duration": -315,
    "start_time": "2021-08-08T17:07:06.091Z"
   },
   {
    "duration": -317,
    "start_time": "2021-08-08T17:07:06.094Z"
   },
   {
    "duration": -324,
    "start_time": "2021-08-08T17:07:06.102Z"
   },
   {
    "duration": -327,
    "start_time": "2021-08-08T17:07:06.106Z"
   },
   {
    "duration": -332,
    "start_time": "2021-08-08T17:07:06.112Z"
   },
   {
    "duration": -337,
    "start_time": "2021-08-08T17:07:06.118Z"
   },
   {
    "duration": -339,
    "start_time": "2021-08-08T17:07:06.121Z"
   },
   {
    "duration": -345,
    "start_time": "2021-08-08T17:07:06.128Z"
   },
   {
    "duration": -347,
    "start_time": "2021-08-08T17:07:06.131Z"
   },
   {
    "duration": -351,
    "start_time": "2021-08-08T17:07:06.135Z"
   },
   {
    "duration": -357,
    "start_time": "2021-08-08T17:07:06.142Z"
   },
   {
    "duration": -359,
    "start_time": "2021-08-08T17:07:06.145Z"
   },
   {
    "duration": -365,
    "start_time": "2021-08-08T17:07:06.152Z"
   },
   {
    "duration": -368,
    "start_time": "2021-08-08T17:07:06.156Z"
   },
   {
    "duration": -370,
    "start_time": "2021-08-08T17:07:06.159Z"
   },
   {
    "duration": -376,
    "start_time": "2021-08-08T17:07:06.166Z"
   },
   {
    "duration": -379,
    "start_time": "2021-08-08T17:07:06.170Z"
   },
   {
    "duration": -382,
    "start_time": "2021-08-08T17:07:06.174Z"
   },
   {
    "duration": -389,
    "start_time": "2021-08-08T17:07:06.181Z"
   },
   {
    "duration": -391,
    "start_time": "2021-08-08T17:07:06.184Z"
   },
   {
    "duration": -394,
    "start_time": "2021-08-08T17:07:06.188Z"
   },
   {
    "duration": -399,
    "start_time": "2021-08-08T17:07:06.194Z"
   },
   {
    "duration": -402,
    "start_time": "2021-08-08T17:07:06.198Z"
   },
   {
    "duration": -405,
    "start_time": "2021-08-08T17:07:06.202Z"
   },
   {
    "duration": -410,
    "start_time": "2021-08-08T17:07:06.209Z"
   },
   {
    "duration": -412,
    "start_time": "2021-08-08T17:07:06.212Z"
   },
   {
    "duration": -433,
    "start_time": "2021-08-08T17:07:06.234Z"
   },
   {
    "duration": -436,
    "start_time": "2021-08-08T17:07:06.238Z"
   },
   {
    "duration": -438,
    "start_time": "2021-08-08T17:07:06.241Z"
   },
   {
    "duration": -444,
    "start_time": "2021-08-08T17:07:06.248Z"
   },
   {
    "duration": -446,
    "start_time": "2021-08-08T17:07:06.251Z"
   },
   {
    "duration": -449,
    "start_time": "2021-08-08T17:07:06.255Z"
   },
   {
    "duration": -454,
    "start_time": "2021-08-08T17:07:06.261Z"
   },
   {
    "duration": -457,
    "start_time": "2021-08-08T17:07:06.265Z"
   },
   {
    "duration": -464,
    "start_time": "2021-08-08T17:07:06.273Z"
   },
   {
    "duration": -466,
    "start_time": "2021-08-08T17:07:06.276Z"
   },
   {
    "duration": -469,
    "start_time": "2021-08-08T17:07:06.280Z"
   },
   {
    "duration": -476,
    "start_time": "2021-08-08T17:07:06.288Z"
   },
   {
    "duration": -478,
    "start_time": "2021-08-08T17:07:06.291Z"
   },
   {
    "duration": -481,
    "start_time": "2021-08-08T17:07:06.295Z"
   },
   {
    "duration": -487,
    "start_time": "2021-08-08T17:07:06.302Z"
   },
   {
    "duration": -490,
    "start_time": "2021-08-08T17:07:06.306Z"
   },
   {
    "duration": -496,
    "start_time": "2021-08-08T17:07:06.313Z"
   },
   {
    "duration": -498,
    "start_time": "2021-08-08T17:07:06.316Z"
   },
   {
    "duration": -500,
    "start_time": "2021-08-08T17:07:06.320Z"
   },
   {
    "duration": -506,
    "start_time": "2021-08-08T17:07:06.327Z"
   },
   {
    "duration": -506,
    "start_time": "2021-08-08T17:07:06.330Z"
   },
   {
    "duration": -509,
    "start_time": "2021-08-08T17:07:06.334Z"
   },
   {
    "duration": -515,
    "start_time": "2021-08-08T17:07:06.341Z"
   },
   {
    "duration": -518,
    "start_time": "2021-08-08T17:07:06.345Z"
   },
   {
    "duration": -526,
    "start_time": "2021-08-08T17:07:06.353Z"
   },
   {
    "duration": -528,
    "start_time": "2021-08-08T17:07:06.356Z"
   },
   {
    "duration": -531,
    "start_time": "2021-08-08T17:07:06.360Z"
   },
   {
    "duration": -538,
    "start_time": "2021-08-08T17:07:06.368Z"
   },
   {
    "duration": -540,
    "start_time": "2021-08-08T17:07:06.371Z"
   },
   {
    "duration": -544,
    "start_time": "2021-08-08T17:07:06.375Z"
   },
   {
    "duration": -550,
    "start_time": "2021-08-08T17:07:06.382Z"
   },
   {
    "duration": 112289,
    "start_time": "2021-08-08T17:07:27.807Z"
   },
   {
    "duration": 7361,
    "start_time": "2021-08-08T17:09:20.098Z"
   },
   {
    "duration": 650,
    "start_time": "2021-08-08T17:09:27.462Z"
   },
   {
    "duration": -598,
    "start_time": "2021-08-08T17:09:28.713Z"
   },
   {
    "duration": -606,
    "start_time": "2021-08-08T17:09:28.722Z"
   },
   {
    "duration": -609,
    "start_time": "2021-08-08T17:09:28.726Z"
   },
   {
    "duration": -611,
    "start_time": "2021-08-08T17:09:28.729Z"
   },
   {
    "duration": -615,
    "start_time": "2021-08-08T17:09:28.734Z"
   },
   {
    "duration": -618,
    "start_time": "2021-08-08T17:09:28.738Z"
   },
   {
    "duration": -621,
    "start_time": "2021-08-08T17:09:28.742Z"
   },
   {
    "duration": -623,
    "start_time": "2021-08-08T17:09:28.745Z"
   },
   {
    "duration": -626,
    "start_time": "2021-08-08T17:09:28.749Z"
   },
   {
    "duration": -629,
    "start_time": "2021-08-08T17:09:28.753Z"
   },
   {
    "duration": -630,
    "start_time": "2021-08-08T17:09:28.755Z"
   },
   {
    "duration": -634,
    "start_time": "2021-08-08T17:09:28.759Z"
   },
   {
    "duration": -636,
    "start_time": "2021-08-08T17:09:28.762Z"
   },
   {
    "duration": -639,
    "start_time": "2021-08-08T17:09:28.766Z"
   },
   {
    "duration": -641,
    "start_time": "2021-08-08T17:09:28.769Z"
   },
   {
    "duration": -644,
    "start_time": "2021-08-08T17:09:28.773Z"
   },
   {
    "duration": -647,
    "start_time": "2021-08-08T17:09:28.777Z"
   },
   {
    "duration": -648,
    "start_time": "2021-08-08T17:09:28.779Z"
   },
   {
    "duration": -650,
    "start_time": "2021-08-08T17:09:28.782Z"
   },
   {
    "duration": -652,
    "start_time": "2021-08-08T17:09:28.785Z"
   },
   {
    "duration": -655,
    "start_time": "2021-08-08T17:09:28.789Z"
   },
   {
    "duration": -657,
    "start_time": "2021-08-08T17:09:28.791Z"
   },
   {
    "duration": -660,
    "start_time": "2021-08-08T17:09:28.795Z"
   },
   {
    "duration": -662,
    "start_time": "2021-08-08T17:09:28.798Z"
   },
   {
    "duration": -664,
    "start_time": "2021-08-08T17:09:28.801Z"
   },
   {
    "duration": -666,
    "start_time": "2021-08-08T17:09:28.804Z"
   },
   {
    "duration": -668,
    "start_time": "2021-08-08T17:09:28.807Z"
   },
   {
    "duration": -671,
    "start_time": "2021-08-08T17:09:28.811Z"
   },
   {
    "duration": -673,
    "start_time": "2021-08-08T17:09:28.814Z"
   },
   {
    "duration": -674,
    "start_time": "2021-08-08T17:09:28.816Z"
   },
   {
    "duration": -676,
    "start_time": "2021-08-08T17:09:28.819Z"
   },
   {
    "duration": -679,
    "start_time": "2021-08-08T17:09:28.823Z"
   },
   {
    "duration": -681,
    "start_time": "2021-08-08T17:09:28.826Z"
   },
   {
    "duration": -684,
    "start_time": "2021-08-08T17:09:28.830Z"
   },
   {
    "duration": -687,
    "start_time": "2021-08-08T17:09:28.834Z"
   },
   {
    "duration": -689,
    "start_time": "2021-08-08T17:09:28.836Z"
   },
   {
    "duration": -692,
    "start_time": "2021-08-08T17:09:28.840Z"
   },
   {
    "duration": -693,
    "start_time": "2021-08-08T17:09:28.843Z"
   },
   {
    "duration": -694,
    "start_time": "2021-08-08T17:09:28.845Z"
   },
   {
    "duration": -696,
    "start_time": "2021-08-08T17:09:28.848Z"
   },
   {
    "duration": -699,
    "start_time": "2021-08-08T17:09:28.851Z"
   },
   {
    "duration": -700,
    "start_time": "2021-08-08T17:09:28.853Z"
   },
   {
    "duration": -704,
    "start_time": "2021-08-08T17:09:28.858Z"
   },
   {
    "duration": -705,
    "start_time": "2021-08-08T17:09:28.860Z"
   },
   {
    "duration": -708,
    "start_time": "2021-08-08T17:09:28.864Z"
   },
   {
    "duration": -711,
    "start_time": "2021-08-08T17:09:28.868Z"
   },
   {
    "duration": -713,
    "start_time": "2021-08-08T17:09:28.871Z"
   },
   {
    "duration": -715,
    "start_time": "2021-08-08T17:09:28.874Z"
   },
   {
    "duration": -717,
    "start_time": "2021-08-08T17:09:28.877Z"
   },
   {
    "duration": -720,
    "start_time": "2021-08-08T17:09:28.881Z"
   },
   {
    "duration": -722,
    "start_time": "2021-08-08T17:09:28.884Z"
   },
   {
    "duration": -723,
    "start_time": "2021-08-08T17:09:28.886Z"
   },
   {
    "duration": -726,
    "start_time": "2021-08-08T17:09:28.890Z"
   },
   {
    "duration": -728,
    "start_time": "2021-08-08T17:09:28.893Z"
   },
   {
    "duration": -730,
    "start_time": "2021-08-08T17:09:28.895Z"
   },
   {
    "duration": -732,
    "start_time": "2021-08-08T17:09:28.898Z"
   },
   {
    "duration": -734,
    "start_time": "2021-08-08T17:09:28.901Z"
   },
   {
    "duration": -735,
    "start_time": "2021-08-08T17:09:28.903Z"
   },
   {
    "duration": -739,
    "start_time": "2021-08-08T17:09:28.908Z"
   },
   {
    "duration": -739,
    "start_time": "2021-08-08T17:09:28.909Z"
   },
   {
    "duration": -742,
    "start_time": "2021-08-08T17:09:28.913Z"
   },
   {
    "duration": -744,
    "start_time": "2021-08-08T17:09:28.916Z"
   },
   {
    "duration": -745,
    "start_time": "2021-08-08T17:09:28.918Z"
   },
   {
    "duration": -747,
    "start_time": "2021-08-08T17:09:28.921Z"
   },
   {
    "duration": -750,
    "start_time": "2021-08-08T17:09:28.925Z"
   },
   {
    "duration": -750,
    "start_time": "2021-08-08T17:09:28.926Z"
   },
   {
    "duration": -739,
    "start_time": "2021-08-08T17:09:28.930Z"
   },
   {
    "duration": -743,
    "start_time": "2021-08-08T17:09:28.934Z"
   },
   {
    "duration": 18953,
    "start_time": "2021-08-08T17:09:59.697Z"
   },
   {
    "duration": 2,
    "start_time": "2021-08-08T17:10:18.652Z"
   },
   {
    "duration": 238,
    "start_time": "2021-08-08T17:10:18.657Z"
   },
   {
    "duration": -276,
    "start_time": "2021-08-08T17:10:19.174Z"
   },
   {
    "duration": -281,
    "start_time": "2021-08-08T17:10:19.180Z"
   },
   {
    "duration": -284,
    "start_time": "2021-08-08T17:10:19.184Z"
   },
   {
    "duration": -287,
    "start_time": "2021-08-08T17:10:19.188Z"
   },
   {
    "duration": -289,
    "start_time": "2021-08-08T17:10:19.191Z"
   },
   {
    "duration": -292,
    "start_time": "2021-08-08T17:10:19.195Z"
   },
   {
    "duration": -294,
    "start_time": "2021-08-08T17:10:19.198Z"
   },
   {
    "duration": -296,
    "start_time": "2021-08-08T17:10:19.201Z"
   },
   {
    "duration": -300,
    "start_time": "2021-08-08T17:10:19.205Z"
   },
   {
    "duration": -303,
    "start_time": "2021-08-08T17:10:19.209Z"
   },
   {
    "duration": -306,
    "start_time": "2021-08-08T17:10:19.213Z"
   },
   {
    "duration": -309,
    "start_time": "2021-08-08T17:10:19.217Z"
   },
   {
    "duration": -311,
    "start_time": "2021-08-08T17:10:19.220Z"
   },
   {
    "duration": -313,
    "start_time": "2021-08-08T17:10:19.223Z"
   },
   {
    "duration": -316,
    "start_time": "2021-08-08T17:10:19.226Z"
   },
   {
    "duration": -319,
    "start_time": "2021-08-08T17:10:19.230Z"
   },
   {
    "duration": -321,
    "start_time": "2021-08-08T17:10:19.233Z"
   },
   {
    "duration": -323,
    "start_time": "2021-08-08T17:10:19.236Z"
   },
   {
    "duration": -326,
    "start_time": "2021-08-08T17:10:19.240Z"
   },
   {
    "duration": -329,
    "start_time": "2021-08-08T17:10:19.244Z"
   },
   {
    "duration": -331,
    "start_time": "2021-08-08T17:10:19.247Z"
   },
   {
    "duration": -334,
    "start_time": "2021-08-08T17:10:19.251Z"
   },
   {
    "duration": -337,
    "start_time": "2021-08-08T17:10:19.254Z"
   },
   {
    "duration": -339,
    "start_time": "2021-08-08T17:10:19.258Z"
   },
   {
    "duration": -341,
    "start_time": "2021-08-08T17:10:19.261Z"
   },
   {
    "duration": -342,
    "start_time": "2021-08-08T17:10:19.263Z"
   },
   {
    "duration": -346,
    "start_time": "2021-08-08T17:10:19.267Z"
   },
   {
    "duration": -348,
    "start_time": "2021-08-08T17:10:19.270Z"
   },
   {
    "duration": -350,
    "start_time": "2021-08-08T17:10:19.273Z"
   },
   {
    "duration": -353,
    "start_time": "2021-08-08T17:10:19.277Z"
   },
   {
    "duration": -355,
    "start_time": "2021-08-08T17:10:19.280Z"
   },
   {
    "duration": -358,
    "start_time": "2021-08-08T17:10:19.284Z"
   },
   {
    "duration": -360,
    "start_time": "2021-08-08T17:10:19.287Z"
   },
   {
    "duration": -364,
    "start_time": "2021-08-08T17:10:19.291Z"
   },
   {
    "duration": -366,
    "start_time": "2021-08-08T17:10:19.294Z"
   },
   {
    "duration": -368,
    "start_time": "2021-08-08T17:10:19.297Z"
   },
   {
    "duration": -370,
    "start_time": "2021-08-08T17:10:19.300Z"
   },
   {
    "duration": -372,
    "start_time": "2021-08-08T17:10:19.303Z"
   },
   {
    "duration": -374,
    "start_time": "2021-08-08T17:10:19.306Z"
   },
   {
    "duration": -377,
    "start_time": "2021-08-08T17:10:19.310Z"
   },
   {
    "duration": -379,
    "start_time": "2021-08-08T17:10:19.313Z"
   },
   {
    "duration": -381,
    "start_time": "2021-08-08T17:10:19.316Z"
   },
   {
    "duration": -383,
    "start_time": "2021-08-08T17:10:19.319Z"
   },
   {
    "duration": -385,
    "start_time": "2021-08-08T17:10:19.322Z"
   },
   {
    "duration": -388,
    "start_time": "2021-08-08T17:10:19.326Z"
   },
   {
    "duration": -337,
    "start_time": "2021-08-08T17:10:19.328Z"
   },
   {
    "duration": -340,
    "start_time": "2021-08-08T17:10:19.332Z"
   },
   {
    "duration": -342,
    "start_time": "2021-08-08T17:10:19.335Z"
   },
   {
    "duration": -344,
    "start_time": "2021-08-08T17:10:19.338Z"
   },
   {
    "duration": -347,
    "start_time": "2021-08-08T17:10:19.342Z"
   },
   {
    "duration": -348,
    "start_time": "2021-08-08T17:10:19.344Z"
   },
   {
    "duration": -352,
    "start_time": "2021-08-08T17:10:19.348Z"
   },
   {
    "duration": -355,
    "start_time": "2021-08-08T17:10:19.352Z"
   },
   {
    "duration": -357,
    "start_time": "2021-08-08T17:10:19.355Z"
   },
   {
    "duration": -359,
    "start_time": "2021-08-08T17:10:19.358Z"
   },
   {
    "duration": -361,
    "start_time": "2021-08-08T17:10:19.361Z"
   },
   {
    "duration": -364,
    "start_time": "2021-08-08T17:10:19.365Z"
   },
   {
    "duration": -365,
    "start_time": "2021-08-08T17:10:19.367Z"
   },
   {
    "duration": -368,
    "start_time": "2021-08-08T17:10:19.371Z"
   },
   {
    "duration": -371,
    "start_time": "2021-08-08T17:10:19.375Z"
   },
   {
    "duration": -374,
    "start_time": "2021-08-08T17:10:19.379Z"
   },
   {
    "duration": -377,
    "start_time": "2021-08-08T17:10:19.382Z"
   },
   {
    "duration": -379,
    "start_time": "2021-08-08T17:10:19.385Z"
   },
   {
    "duration": -382,
    "start_time": "2021-08-08T17:10:19.389Z"
   },
   {
    "duration": -383,
    "start_time": "2021-08-08T17:10:19.391Z"
   },
   {
    "duration": -385,
    "start_time": "2021-08-08T17:10:19.394Z"
   },
   {
    "duration": -387,
    "start_time": "2021-08-08T17:10:19.397Z"
   },
   {
    "duration": -390,
    "start_time": "2021-08-08T17:10:19.401Z"
   },
   {
    "duration": 18334,
    "start_time": "2021-08-08T17:14:10.818Z"
   },
   {
    "duration": 2,
    "start_time": "2021-08-08T17:14:29.154Z"
   },
   {
    "duration": 1678,
    "start_time": "2021-08-08T17:14:29.158Z"
   },
   {
    "duration": 2,
    "start_time": "2021-08-08T17:14:30.838Z"
   },
   {
    "duration": 3264,
    "start_time": "2021-08-08T17:14:30.842Z"
   },
   {
    "duration": 20,
    "start_time": "2021-08-08T17:14:34.107Z"
   },
   {
    "duration": 212,
    "start_time": "2021-08-08T17:14:34.128Z"
   },
   {
    "duration": 6,
    "start_time": "2021-08-08T17:14:34.343Z"
   },
   {
    "duration": 5,
    "start_time": "2021-08-08T17:14:34.351Z"
   },
   {
    "duration": 36,
    "start_time": "2021-08-08T17:14:34.357Z"
   },
   {
    "duration": 3,
    "start_time": "2021-08-08T17:14:34.395Z"
   },
   {
    "duration": 7,
    "start_time": "2021-08-08T17:14:34.400Z"
   },
   {
    "duration": 5,
    "start_time": "2021-08-08T17:14:34.409Z"
   },
   {
    "duration": 27405,
    "start_time": "2021-08-08T17:14:34.416Z"
   },
   {
    "duration": 3,
    "start_time": "2021-08-08T17:15:01.823Z"
   },
   {
    "duration": 1152,
    "start_time": "2021-08-08T17:15:01.828Z"
   },
   {
    "duration": 18,
    "start_time": "2021-08-08T17:15:02.981Z"
   },
   {
    "duration": 13,
    "start_time": "2021-08-08T17:15:03.001Z"
   },
   {
    "duration": 16,
    "start_time": "2021-08-08T17:15:03.015Z"
   },
   {
    "duration": 392,
    "start_time": "2021-08-08T17:15:03.032Z"
   },
   {
    "duration": -249,
    "start_time": "2021-08-08T17:15:03.678Z"
   },
   {
    "duration": -269,
    "start_time": "2021-08-08T17:15:03.699Z"
   },
   {
    "duration": -274,
    "start_time": "2021-08-08T17:15:03.705Z"
   },
   {
    "duration": -276,
    "start_time": "2021-08-08T17:15:03.709Z"
   },
   {
    "duration": -278,
    "start_time": "2021-08-08T17:15:03.712Z"
   },
   {
    "duration": -280,
    "start_time": "2021-08-08T17:15:03.716Z"
   },
   {
    "duration": -284,
    "start_time": "2021-08-08T17:15:03.721Z"
   },
   {
    "duration": -287,
    "start_time": "2021-08-08T17:15:03.725Z"
   },
   {
    "duration": -289,
    "start_time": "2021-08-08T17:15:03.729Z"
   },
   {
    "duration": -291,
    "start_time": "2021-08-08T17:15:03.732Z"
   },
   {
    "duration": -293,
    "start_time": "2021-08-08T17:15:03.736Z"
   },
   {
    "duration": -295,
    "start_time": "2021-08-08T17:15:03.739Z"
   },
   {
    "duration": -298,
    "start_time": "2021-08-08T17:15:03.743Z"
   },
   {
    "duration": -299,
    "start_time": "2021-08-08T17:15:03.746Z"
   },
   {
    "duration": -301,
    "start_time": "2021-08-08T17:15:03.749Z"
   },
   {
    "duration": -303,
    "start_time": "2021-08-08T17:15:03.753Z"
   },
   {
    "duration": -305,
    "start_time": "2021-08-08T17:15:03.756Z"
   },
   {
    "duration": -308,
    "start_time": "2021-08-08T17:15:03.760Z"
   },
   {
    "duration": -309,
    "start_time": "2021-08-08T17:15:03.763Z"
   },
   {
    "duration": -312,
    "start_time": "2021-08-08T17:15:03.767Z"
   },
   {
    "duration": -314,
    "start_time": "2021-08-08T17:15:03.770Z"
   },
   {
    "duration": -315,
    "start_time": "2021-08-08T17:15:03.773Z"
   },
   {
    "duration": -318,
    "start_time": "2021-08-08T17:15:03.777Z"
   },
   {
    "duration": -319,
    "start_time": "2021-08-08T17:15:03.780Z"
   },
   {
    "duration": -322,
    "start_time": "2021-08-08T17:15:03.784Z"
   },
   {
    "duration": -325,
    "start_time": "2021-08-08T17:15:03.788Z"
   },
   {
    "duration": -329,
    "start_time": "2021-08-08T17:15:03.793Z"
   },
   {
    "duration": -331,
    "start_time": "2021-08-08T17:15:03.797Z"
   },
   {
    "duration": -334,
    "start_time": "2021-08-08T17:15:03.801Z"
   },
   {
    "duration": -336,
    "start_time": "2021-08-08T17:15:03.804Z"
   },
   {
    "duration": -315,
    "start_time": "2021-08-08T17:15:03.807Z"
   },
   {
    "duration": -317,
    "start_time": "2021-08-08T17:15:03.810Z"
   },
   {
    "duration": -320,
    "start_time": "2021-08-08T17:15:03.814Z"
   },
   {
    "duration": -322,
    "start_time": "2021-08-08T17:15:03.818Z"
   },
   {
    "duration": -326,
    "start_time": "2021-08-08T17:15:03.823Z"
   },
   {
    "duration": -329,
    "start_time": "2021-08-08T17:15:03.827Z"
   },
   {
    "duration": -331,
    "start_time": "2021-08-08T17:15:03.831Z"
   },
   {
    "duration": -333,
    "start_time": "2021-08-08T17:15:03.834Z"
   },
   {
    "duration": -335,
    "start_time": "2021-08-08T17:15:03.837Z"
   },
   {
    "duration": -337,
    "start_time": "2021-08-08T17:15:03.840Z"
   },
   {
    "duration": -339,
    "start_time": "2021-08-08T17:15:03.844Z"
   },
   {
    "duration": -341,
    "start_time": "2021-08-08T17:15:03.847Z"
   },
   {
    "duration": -344,
    "start_time": "2021-08-08T17:15:03.851Z"
   },
   {
    "duration": -345,
    "start_time": "2021-08-08T17:15:03.854Z"
   },
   {
    "duration": -348,
    "start_time": "2021-08-08T17:15:03.858Z"
   },
   {
    "duration": -351,
    "start_time": "2021-08-08T17:15:03.862Z"
   },
   {
    "duration": -352,
    "start_time": "2021-08-08T17:15:03.865Z"
   },
   {
    "duration": -354,
    "start_time": "2021-08-08T17:15:03.868Z"
   },
   {
    "duration": -356,
    "start_time": "2021-08-08T17:15:03.871Z"
   },
   {
    "duration": -359,
    "start_time": "2021-08-08T17:15:03.875Z"
   },
   {
    "duration": -362,
    "start_time": "2021-08-08T17:15:03.879Z"
   },
   {
    "duration": 10,
    "start_time": "2021-08-08T17:16:36.270Z"
   },
   {
    "duration": 28,
    "start_time": "2021-08-08T17:16:36.282Z"
   },
   {
    "duration": 10,
    "start_time": "2021-08-08T17:16:36.312Z"
   },
   {
    "duration": 11,
    "start_time": "2021-08-08T17:16:36.324Z"
   },
   {
    "duration": 5,
    "start_time": "2021-08-08T17:16:36.337Z"
   },
   {
    "duration": 81,
    "start_time": "2021-08-08T17:16:36.343Z"
   },
   {
    "duration": 2,
    "start_time": "2021-08-08T17:16:36.426Z"
   },
   {
    "duration": 7,
    "start_time": "2021-08-08T17:16:36.431Z"
   },
   {
    "duration": 19,
    "start_time": "2021-08-08T17:16:36.440Z"
   },
   {
    "duration": 2,
    "start_time": "2021-08-08T17:16:36.460Z"
   },
   {
    "duration": 6,
    "start_time": "2021-08-08T17:16:36.464Z"
   },
   {
    "duration": 12,
    "start_time": "2021-08-08T17:16:36.471Z"
   },
   {
    "duration": 9,
    "start_time": "2021-08-08T17:16:36.484Z"
   },
   {
    "duration": 8,
    "start_time": "2021-08-08T17:16:36.495Z"
   },
   {
    "duration": 10,
    "start_time": "2021-08-08T17:16:36.505Z"
   },
   {
    "duration": 8,
    "start_time": "2021-08-08T17:16:36.516Z"
   },
   {
    "duration": 8,
    "start_time": "2021-08-08T17:16:36.526Z"
   },
   {
    "duration": 7,
    "start_time": "2021-08-08T17:16:36.536Z"
   },
   {
    "duration": 8,
    "start_time": "2021-08-08T17:16:36.545Z"
   },
   {
    "duration": 8,
    "start_time": "2021-08-08T17:16:36.554Z"
   },
   {
    "duration": 11,
    "start_time": "2021-08-08T17:16:36.563Z"
   },
   {
    "duration": 7,
    "start_time": "2021-08-08T17:16:36.576Z"
   },
   {
    "duration": 6,
    "start_time": "2021-08-08T17:16:36.587Z"
   },
   {
    "duration": 15389,
    "start_time": "2021-08-08T17:16:36.595Z"
   },
   {
    "duration": 6,
    "start_time": "2021-08-08T17:16:51.985Z"
   },
   {
    "duration": 3,
    "start_time": "2021-08-08T17:16:51.993Z"
   },
   {
    "duration": 7,
    "start_time": "2021-08-08T17:16:51.997Z"
   },
   {
    "duration": 254212,
    "start_time": "2021-08-08T17:16:52.005Z"
   },
   {
    "duration": 78,
    "start_time": "2021-08-08T17:21:06.219Z"
   },
   {
    "duration": 5,
    "start_time": "2021-08-08T17:21:06.299Z"
   },
   {
    "duration": 6,
    "start_time": "2021-08-08T17:21:06.306Z"
   },
   {
    "duration": 8,
    "start_time": "2021-08-08T17:21:06.313Z"
   },
   {
    "duration": 9,
    "start_time": "2021-08-08T17:21:06.322Z"
   },
   {
    "duration": 240,
    "start_time": "2021-08-08T17:21:06.332Z"
   },
   {
    "duration": -241,
    "start_time": "2021-08-08T17:21:06.815Z"
   },
   {
    "duration": -244,
    "start_time": "2021-08-08T17:21:06.819Z"
   },
   {
    "duration": -247,
    "start_time": "2021-08-08T17:21:06.823Z"
   },
   {
    "duration": -250,
    "start_time": "2021-08-08T17:21:06.827Z"
   },
   {
    "duration": -255,
    "start_time": "2021-08-08T17:21:06.833Z"
   },
   {
    "duration": -258,
    "start_time": "2021-08-08T17:21:06.837Z"
   },
   {
    "duration": -262,
    "start_time": "2021-08-08T17:21:06.842Z"
   },
   {
    "duration": -263,
    "start_time": "2021-08-08T17:21:06.844Z"
   },
   {
    "duration": -265,
    "start_time": "2021-08-08T17:21:06.847Z"
   },
   {
    "duration": -268,
    "start_time": "2021-08-08T17:21:06.850Z"
   },
   {
    "duration": -270,
    "start_time": "2021-08-08T17:21:06.853Z"
   },
   {
    "duration": -271,
    "start_time": "2021-08-08T17:21:06.856Z"
   },
   {
    "duration": -274,
    "start_time": "2021-08-08T17:21:06.859Z"
   },
   {
    "duration": -275,
    "start_time": "2021-08-08T17:21:06.862Z"
   },
   {
    "duration": -278,
    "start_time": "2021-08-08T17:21:06.865Z"
   },
   {
    "duration": -281,
    "start_time": "2021-08-08T17:21:06.869Z"
   },
   {
    "duration": -282,
    "start_time": "2021-08-08T17:21:06.871Z"
   },
   {
    "duration": -285,
    "start_time": "2021-08-08T17:21:06.875Z"
   },
   {
    "duration": 6,
    "start_time": "2021-08-08T17:25:20.720Z"
   },
   {
    "duration": 8,
    "start_time": "2021-08-08T17:25:20.728Z"
   },
   {
    "duration": 6,
    "start_time": "2021-08-08T17:25:20.738Z"
   },
   {
    "duration": 2171,
    "start_time": "2021-08-08T17:25:20.745Z"
   },
   {
    "duration": 2,
    "start_time": "2021-08-08T17:25:22.918Z"
   },
   {
    "duration": 9,
    "start_time": "2021-08-08T17:25:22.922Z"
   },
   {
    "duration": 4,
    "start_time": "2021-08-08T17:25:22.934Z"
   },
   {
    "duration": 8069,
    "start_time": "2021-08-08T17:25:22.940Z"
   },
   {
    "duration": 7,
    "start_time": "2021-08-08T17:25:31.011Z"
   },
   {
    "duration": 232,
    "start_time": "2021-08-08T17:25:31.020Z"
   },
   {
    "duration": -236,
    "start_time": "2021-08-08T17:25:31.490Z"
   },
   {
    "duration": -242,
    "start_time": "2021-08-08T17:25:31.497Z"
   },
   {
    "duration": -254,
    "start_time": "2021-08-08T17:25:31.510Z"
   },
   {
    "duration": -256,
    "start_time": "2021-08-08T17:25:31.513Z"
   },
   {
    "duration": -258,
    "start_time": "2021-08-08T17:25:31.516Z"
   },
   {
    "duration": -260,
    "start_time": "2021-08-08T17:25:31.519Z"
   },
   {
    "duration": -267,
    "start_time": "2021-08-08T17:25:31.526Z"
   },
   {
    "duration": -270,
    "start_time": "2021-08-08T17:25:31.530Z"
   },
   {
    "duration": -276,
    "start_time": "2021-08-08T17:25:31.537Z"
   },
   {
    "duration": -278,
    "start_time": "2021-08-08T17:25:31.540Z"
   },
   {
    "duration": -281,
    "start_time": "2021-08-08T17:25:31.544Z"
   },
   {
    "duration": 73,
    "start_time": "2021-08-08T18:06:12.913Z"
   },
   {
    "duration": 25307,
    "start_time": "2021-08-08T18:10:21.617Z"
   },
   {
    "duration": 2,
    "start_time": "2021-08-08T18:10:46.926Z"
   },
   {
    "duration": 8,
    "start_time": "2021-08-08T18:10:46.930Z"
   },
   {
    "duration": 1575,
    "start_time": "2021-08-08T18:10:46.939Z"
   },
   {
    "duration": 2,
    "start_time": "2021-08-08T18:10:48.516Z"
   },
   {
    "duration": 587,
    "start_time": "2021-08-08T18:10:48.520Z"
   },
   {
    "duration": 17,
    "start_time": "2021-08-08T18:10:49.109Z"
   },
   {
    "duration": 210,
    "start_time": "2021-08-08T18:10:49.128Z"
   },
   {
    "duration": 5,
    "start_time": "2021-08-08T18:10:49.340Z"
   },
   {
    "duration": 13,
    "start_time": "2021-08-08T18:10:49.347Z"
   },
   {
    "duration": 38,
    "start_time": "2021-08-08T18:10:49.361Z"
   },
   {
    "duration": 3,
    "start_time": "2021-08-08T18:10:49.400Z"
   },
   {
    "duration": 9,
    "start_time": "2021-08-08T18:10:49.404Z"
   },
   {
    "duration": 7,
    "start_time": "2021-08-08T18:10:49.414Z"
   },
   {
    "duration": 27765,
    "start_time": "2021-08-08T18:10:49.423Z"
   },
   {
    "duration": 3,
    "start_time": "2021-08-08T18:11:17.192Z"
   },
   {
    "duration": 1236,
    "start_time": "2021-08-08T18:11:17.197Z"
   },
   {
    "duration": 13,
    "start_time": "2021-08-08T18:11:18.434Z"
   },
   {
    "duration": 17,
    "start_time": "2021-08-08T18:11:18.448Z"
   },
   {
    "duration": 28,
    "start_time": "2021-08-08T18:11:18.466Z"
   },
   {
    "duration": 27,
    "start_time": "2021-08-08T18:11:18.495Z"
   },
   {
    "duration": 10,
    "start_time": "2021-08-08T18:11:18.524Z"
   },
   {
    "duration": 9,
    "start_time": "2021-08-08T18:11:18.537Z"
   },
   {
    "duration": 6,
    "start_time": "2021-08-08T18:11:18.547Z"
   },
   {
    "duration": 79,
    "start_time": "2021-08-08T18:11:18.554Z"
   },
   {
    "duration": 4,
    "start_time": "2021-08-08T18:11:18.634Z"
   },
   {
    "duration": 5,
    "start_time": "2021-08-08T18:11:18.639Z"
   },
   {
    "duration": 7,
    "start_time": "2021-08-08T18:11:18.646Z"
   },
   {
    "duration": 5,
    "start_time": "2021-08-08T18:11:18.655Z"
   },
   {
    "duration": 7,
    "start_time": "2021-08-08T18:11:18.661Z"
   },
   {
    "duration": 8,
    "start_time": "2021-08-08T18:11:18.669Z"
   },
   {
    "duration": 3,
    "start_time": "2021-08-08T18:11:18.691Z"
   },
   {
    "duration": 9,
    "start_time": "2021-08-08T18:11:18.696Z"
   },
   {
    "duration": 11,
    "start_time": "2021-08-08T18:11:18.707Z"
   },
   {
    "duration": 9,
    "start_time": "2021-08-08T18:11:18.719Z"
   },
   {
    "duration": 9,
    "start_time": "2021-08-08T18:11:18.730Z"
   },
   {
    "duration": 10,
    "start_time": "2021-08-08T18:11:18.741Z"
   },
   {
    "duration": 9,
    "start_time": "2021-08-08T18:11:18.752Z"
   },
   {
    "duration": 8,
    "start_time": "2021-08-08T18:11:18.763Z"
   },
   {
    "duration": 11,
    "start_time": "2021-08-08T18:11:18.773Z"
   },
   {
    "duration": 16871,
    "start_time": "2021-08-08T18:11:18.785Z"
   },
   {
    "duration": 2,
    "start_time": "2021-08-08T18:11:35.658Z"
   },
   {
    "duration": 10,
    "start_time": "2021-08-08T18:11:35.662Z"
   },
   {
    "duration": 7,
    "start_time": "2021-08-08T18:11:35.673Z"
   },
   {
    "duration": 386040,
    "start_time": "2021-08-08T18:11:35.682Z"
   },
   {
    "duration": 2,
    "start_time": "2021-08-08T18:18:01.724Z"
   },
   {
    "duration": 8,
    "start_time": "2021-08-08T18:18:01.727Z"
   },
   {
    "duration": 62,
    "start_time": "2021-08-08T18:18:01.736Z"
   },
   {
    "duration": 12,
    "start_time": "2021-08-08T18:18:01.800Z"
   },
   {
    "duration": 14,
    "start_time": "2021-08-08T18:18:01.813Z"
   },
   {
    "duration": 2231,
    "start_time": "2021-08-08T18:18:01.829Z"
   },
   {
    "duration": 1,
    "start_time": "2021-08-08T18:18:04.062Z"
   },
   {
    "duration": 19,
    "start_time": "2021-08-08T18:18:04.065Z"
   },
   {
    "duration": 28,
    "start_time": "2021-08-08T18:18:04.085Z"
   },
   {
    "duration": 8278,
    "start_time": "2021-08-08T18:18:04.115Z"
   },
   {
    "duration": 8,
    "start_time": "2021-08-08T18:18:12.395Z"
   },
   {
    "duration": 110788,
    "start_time": "2021-08-09T07:51:39.846Z"
   },
   {
    "duration": 1564,
    "start_time": "2021-08-09T07:53:30.636Z"
   },
   {
    "duration": -259,
    "start_time": "2021-08-09T07:53:32.462Z"
   },
   {
    "duration": -271,
    "start_time": "2021-08-09T07:53:32.475Z"
   },
   {
    "duration": -298,
    "start_time": "2021-08-09T07:53:32.503Z"
   },
   {
    "duration": -310,
    "start_time": "2021-08-09T07:53:32.516Z"
   },
   {
    "duration": -325,
    "start_time": "2021-08-09T07:53:32.532Z"
   },
   {
    "duration": -338,
    "start_time": "2021-08-09T07:53:32.546Z"
   },
   {
    "duration": -351,
    "start_time": "2021-08-09T07:53:32.560Z"
   },
   {
    "duration": -361,
    "start_time": "2021-08-09T07:53:32.571Z"
   },
   {
    "duration": -372,
    "start_time": "2021-08-09T07:53:32.583Z"
   },
   {
    "duration": -383,
    "start_time": "2021-08-09T07:53:32.595Z"
   },
   {
    "duration": -411,
    "start_time": "2021-08-09T07:53:32.624Z"
   },
   {
    "duration": -422,
    "start_time": "2021-08-09T07:53:32.635Z"
   },
   {
    "duration": -436,
    "start_time": "2021-08-09T07:53:32.650Z"
   },
   {
    "duration": -448,
    "start_time": "2021-08-09T07:53:32.663Z"
   },
   {
    "duration": -462,
    "start_time": "2021-08-09T07:53:32.678Z"
   },
   {
    "duration": -472,
    "start_time": "2021-08-09T07:53:32.689Z"
   },
   {
    "duration": -486,
    "start_time": "2021-08-09T07:53:32.705Z"
   },
   {
    "duration": -500,
    "start_time": "2021-08-09T07:53:32.720Z"
   },
   {
    "duration": -528,
    "start_time": "2021-08-09T07:53:32.749Z"
   },
   {
    "duration": -540,
    "start_time": "2021-08-09T07:53:32.762Z"
   },
   {
    "duration": -553,
    "start_time": "2021-08-09T07:53:32.776Z"
   },
   {
    "duration": -565,
    "start_time": "2021-08-09T07:53:32.789Z"
   },
   {
    "duration": -662,
    "start_time": "2021-08-09T07:53:32.887Z"
   },
   {
    "duration": -676,
    "start_time": "2021-08-09T07:53:32.902Z"
   },
   {
    "duration": -692,
    "start_time": "2021-08-09T07:53:32.919Z"
   },
   {
    "duration": -702,
    "start_time": "2021-08-09T07:53:32.930Z"
   },
   {
    "duration": -715,
    "start_time": "2021-08-09T07:53:32.945Z"
   },
   {
    "duration": -730,
    "start_time": "2021-08-09T07:53:32.961Z"
   },
   {
    "duration": -742,
    "start_time": "2021-08-09T07:53:32.974Z"
   },
   {
    "duration": -750,
    "start_time": "2021-08-09T07:53:32.983Z"
   },
   {
    "duration": -782,
    "start_time": "2021-08-09T07:53:33.016Z"
   },
   {
    "duration": -791,
    "start_time": "2021-08-09T07:53:33.026Z"
   },
   {
    "duration": -801,
    "start_time": "2021-08-09T07:53:33.037Z"
   },
   {
    "duration": -808,
    "start_time": "2021-08-09T07:53:33.046Z"
   },
   {
    "duration": -817,
    "start_time": "2021-08-09T07:53:33.057Z"
   },
   {
    "duration": -828,
    "start_time": "2021-08-09T07:53:33.069Z"
   },
   {
    "duration": -843,
    "start_time": "2021-08-09T07:53:33.085Z"
   },
   {
    "duration": -854,
    "start_time": "2021-08-09T07:53:33.097Z"
   },
   {
    "duration": -862,
    "start_time": "2021-08-09T07:53:33.107Z"
   },
   {
    "duration": -885,
    "start_time": "2021-08-09T07:53:33.131Z"
   },
   {
    "duration": -900,
    "start_time": "2021-08-09T07:53:33.147Z"
   },
   {
    "duration": -909,
    "start_time": "2021-08-09T07:53:33.157Z"
   },
   {
    "duration": -917,
    "start_time": "2021-08-09T07:53:33.167Z"
   },
   {
    "duration": -927,
    "start_time": "2021-08-09T07:53:33.178Z"
   },
   {
    "duration": -937,
    "start_time": "2021-08-09T07:53:33.189Z"
   },
   {
    "duration": -944,
    "start_time": "2021-08-09T07:53:33.198Z"
   },
   {
    "duration": -954,
    "start_time": "2021-08-09T07:53:33.209Z"
   },
   {
    "duration": -963,
    "start_time": "2021-08-09T07:53:33.219Z"
   },
   {
    "duration": -972,
    "start_time": "2021-08-09T07:53:33.229Z"
   },
   {
    "duration": 1521,
    "start_time": "2021-08-09T07:54:04.804Z"
   },
   {
    "duration": -240,
    "start_time": "2021-08-09T07:54:06.569Z"
   },
   {
    "duration": -251,
    "start_time": "2021-08-09T07:54:06.581Z"
   },
   {
    "duration": -262,
    "start_time": "2021-08-09T07:54:06.593Z"
   },
   {
    "duration": -292,
    "start_time": "2021-08-09T07:54:06.624Z"
   },
   {
    "duration": -305,
    "start_time": "2021-08-09T07:54:06.638Z"
   },
   {
    "duration": -317,
    "start_time": "2021-08-09T07:54:06.650Z"
   },
   {
    "duration": -330,
    "start_time": "2021-08-09T07:54:06.664Z"
   },
   {
    "duration": -341,
    "start_time": "2021-08-09T07:54:06.676Z"
   },
   {
    "duration": -353,
    "start_time": "2021-08-09T07:54:06.689Z"
   },
   {
    "duration": -366,
    "start_time": "2021-08-09T07:54:06.703Z"
   },
   {
    "duration": -378,
    "start_time": "2021-08-09T07:54:06.716Z"
   },
   {
    "duration": -408,
    "start_time": "2021-08-09T07:54:06.748Z"
   },
   {
    "duration": -421,
    "start_time": "2021-08-09T07:54:06.762Z"
   },
   {
    "duration": -433,
    "start_time": "2021-08-09T07:54:06.775Z"
   },
   {
    "duration": -446,
    "start_time": "2021-08-09T07:54:06.789Z"
   },
   {
    "duration": -475,
    "start_time": "2021-08-09T07:54:06.819Z"
   },
   {
    "duration": -504,
    "start_time": "2021-08-09T07:54:06.849Z"
   },
   {
    "duration": -552,
    "start_time": "2021-08-09T07:54:06.897Z"
   },
   {
    "duration": -605,
    "start_time": "2021-08-09T07:54:06.951Z"
   },
   {
    "duration": -643,
    "start_time": "2021-08-09T07:54:06.990Z"
   },
   {
    "duration": -690,
    "start_time": "2021-08-09T07:54:07.038Z"
   },
   {
    "duration": -702,
    "start_time": "2021-08-09T07:54:07.051Z"
   },
   {
    "duration": -746,
    "start_time": "2021-08-09T07:54:07.096Z"
   },
   {
    "duration": -756,
    "start_time": "2021-08-09T07:54:07.107Z"
   },
   {
    "duration": -898,
    "start_time": "2021-08-09T07:54:07.250Z"
   },
   {
    "duration": -934,
    "start_time": "2021-08-09T07:54:07.287Z"
   },
   {
    "duration": -946,
    "start_time": "2021-08-09T07:54:07.299Z"
   },
   {
    "duration": -983,
    "start_time": "2021-08-09T07:54:07.337Z"
   },
   {
    "duration": -1034,
    "start_time": "2021-08-09T07:54:07.389Z"
   },
   {
    "duration": -1053,
    "start_time": "2021-08-09T07:54:07.409Z"
   },
   {
    "duration": -1079,
    "start_time": "2021-08-09T07:54:07.437Z"
   },
   {
    "duration": -1091,
    "start_time": "2021-08-09T07:54:07.450Z"
   },
   {
    "duration": -1104,
    "start_time": "2021-08-09T07:54:07.463Z"
   },
   {
    "duration": -1115,
    "start_time": "2021-08-09T07:54:07.475Z"
   },
   {
    "duration": -1128,
    "start_time": "2021-08-09T07:54:07.489Z"
   },
   {
    "duration": -1140,
    "start_time": "2021-08-09T07:54:07.502Z"
   },
   {
    "duration": -1153,
    "start_time": "2021-08-09T07:54:07.516Z"
   },
   {
    "duration": -1214,
    "start_time": "2021-08-09T07:54:07.578Z"
   },
   {
    "duration": -1225,
    "start_time": "2021-08-09T07:54:07.590Z"
   },
   {
    "duration": -1237,
    "start_time": "2021-08-09T07:54:07.604Z"
   },
   {
    "duration": -1248,
    "start_time": "2021-08-09T07:54:07.616Z"
   },
   {
    "duration": -1290,
    "start_time": "2021-08-09T07:54:07.659Z"
   },
   {
    "duration": -1305,
    "start_time": "2021-08-09T07:54:07.675Z"
   },
   {
    "duration": -1345,
    "start_time": "2021-08-09T07:54:07.716Z"
   },
   {
    "duration": -1386,
    "start_time": "2021-08-09T07:54:07.759Z"
   },
   {
    "duration": -1397,
    "start_time": "2021-08-09T07:54:07.771Z"
   },
   {
    "duration": -1438,
    "start_time": "2021-08-09T07:54:07.813Z"
   },
   {
    "duration": -1491,
    "start_time": "2021-08-09T07:54:07.868Z"
   },
   {
    "duration": -1506,
    "start_time": "2021-08-09T07:54:07.884Z"
   },
   {
    "duration": 18762,
    "start_time": "2021-08-09T07:54:31.409Z"
   },
   {
    "duration": 1442,
    "start_time": "2021-08-09T07:54:50.174Z"
   },
   {
    "duration": -271,
    "start_time": "2021-08-09T07:54:51.891Z"
   },
   {
    "duration": -282,
    "start_time": "2021-08-09T07:54:51.903Z"
   },
   {
    "duration": -297,
    "start_time": "2021-08-09T07:54:51.919Z"
   },
   {
    "duration": -457,
    "start_time": "2021-08-09T07:54:52.080Z"
   },
   {
    "duration": -469,
    "start_time": "2021-08-09T07:54:52.093Z"
   },
   {
    "duration": -480,
    "start_time": "2021-08-09T07:54:52.105Z"
   },
   {
    "duration": -491,
    "start_time": "2021-08-09T07:54:52.117Z"
   },
   {
    "duration": -502,
    "start_time": "2021-08-09T07:54:52.129Z"
   },
   {
    "duration": -516,
    "start_time": "2021-08-09T07:54:52.143Z"
   },
   {
    "duration": -537,
    "start_time": "2021-08-09T07:54:52.165Z"
   },
   {
    "duration": -575,
    "start_time": "2021-08-09T07:54:52.204Z"
   },
   {
    "duration": -586,
    "start_time": "2021-08-09T07:54:52.216Z"
   },
   {
    "duration": -599,
    "start_time": "2021-08-09T07:54:52.230Z"
   },
   {
    "duration": -612,
    "start_time": "2021-08-09T07:54:52.243Z"
   },
   {
    "duration": -622,
    "start_time": "2021-08-09T07:54:52.255Z"
   },
   {
    "duration": -633,
    "start_time": "2021-08-09T07:54:52.267Z"
   },
   {
    "duration": -649,
    "start_time": "2021-08-09T07:54:52.283Z"
   },
   {
    "duration": -660,
    "start_time": "2021-08-09T07:54:52.295Z"
   },
   {
    "duration": -706,
    "start_time": "2021-08-09T07:54:52.343Z"
   },
   {
    "duration": -718,
    "start_time": "2021-08-09T07:54:52.356Z"
   },
   {
    "duration": -758,
    "start_time": "2021-08-09T07:54:52.397Z"
   },
   {
    "duration": -801,
    "start_time": "2021-08-09T07:54:52.441Z"
   },
   {
    "duration": -845,
    "start_time": "2021-08-09T07:54:52.486Z"
   },
   {
    "duration": -1112,
    "start_time": "2021-08-09T07:54:52.754Z"
   },
   {
    "duration": -1140,
    "start_time": "2021-08-09T07:54:52.783Z"
   },
   {
    "duration": -1176,
    "start_time": "2021-08-09T07:54:52.820Z"
   },
   {
    "duration": -1188,
    "start_time": "2021-08-09T07:54:52.833Z"
   },
   {
    "duration": -1223,
    "start_time": "2021-08-09T07:54:52.869Z"
   },
   {
    "duration": -1237,
    "start_time": "2021-08-09T07:54:52.884Z"
   },
   {
    "duration": -1277,
    "start_time": "2021-08-09T07:54:52.925Z"
   },
   {
    "duration": -1289,
    "start_time": "2021-08-09T07:54:52.938Z"
   },
   {
    "duration": -1327,
    "start_time": "2021-08-09T07:54:52.977Z"
   },
   {
    "duration": -1364,
    "start_time": "2021-08-09T07:54:53.014Z"
   },
   {
    "duration": -1374,
    "start_time": "2021-08-09T07:54:53.025Z"
   },
   {
    "duration": -1413,
    "start_time": "2021-08-09T07:54:53.065Z"
   },
   {
    "duration": -1448,
    "start_time": "2021-08-09T07:54:53.101Z"
   },
   {
    "duration": -1487,
    "start_time": "2021-08-09T07:54:53.141Z"
   },
   {
    "duration": -1499,
    "start_time": "2021-08-09T07:54:53.154Z"
   },
   {
    "duration": -1510,
    "start_time": "2021-08-09T07:54:53.166Z"
   },
   {
    "duration": -1520,
    "start_time": "2021-08-09T07:54:53.177Z"
   },
   {
    "duration": -1532,
    "start_time": "2021-08-09T07:54:53.190Z"
   },
   {
    "duration": -1544,
    "start_time": "2021-08-09T07:54:53.202Z"
   },
   {
    "duration": -1557,
    "start_time": "2021-08-09T07:54:53.216Z"
   },
   {
    "duration": -1569,
    "start_time": "2021-08-09T07:54:53.229Z"
   },
   {
    "duration": -1580,
    "start_time": "2021-08-09T07:54:53.241Z"
   },
   {
    "duration": -1590,
    "start_time": "2021-08-09T07:54:53.252Z"
   },
   {
    "duration": -1603,
    "start_time": "2021-08-09T07:54:53.266Z"
   },
   {
    "duration": -1615,
    "start_time": "2021-08-09T07:54:53.279Z"
   },
   {
    "duration": -1627,
    "start_time": "2021-08-09T07:54:53.292Z"
   },
   {
    "duration": 18637,
    "start_time": "2021-08-09T07:55:10.927Z"
   },
   {
    "duration": 1461,
    "start_time": "2021-08-09T07:55:29.566Z"
   },
   {
    "duration": -284,
    "start_time": "2021-08-09T07:55:31.314Z"
   },
   {
    "duration": -298,
    "start_time": "2021-08-09T07:55:31.329Z"
   },
   {
    "duration": -335,
    "start_time": "2021-08-09T07:55:31.367Z"
   },
   {
    "duration": -348,
    "start_time": "2021-08-09T07:55:31.381Z"
   },
   {
    "duration": -358,
    "start_time": "2021-08-09T07:55:31.392Z"
   },
   {
    "duration": -370,
    "start_time": "2021-08-09T07:55:31.405Z"
   },
   {
    "duration": -401,
    "start_time": "2021-08-09T07:55:31.437Z"
   },
   {
    "duration": -425,
    "start_time": "2021-08-09T07:55:31.462Z"
   },
   {
    "duration": -448,
    "start_time": "2021-08-09T07:55:31.486Z"
   },
   {
    "duration": -471,
    "start_time": "2021-08-09T07:55:31.510Z"
   },
   {
    "duration": -482,
    "start_time": "2021-08-09T07:55:31.522Z"
   },
   {
    "duration": -496,
    "start_time": "2021-08-09T07:55:31.537Z"
   },
   {
    "duration": -507,
    "start_time": "2021-08-09T07:55:31.549Z"
   },
   {
    "duration": -517,
    "start_time": "2021-08-09T07:55:31.560Z"
   },
   {
    "duration": -527,
    "start_time": "2021-08-09T07:55:31.571Z"
   },
   {
    "duration": -541,
    "start_time": "2021-08-09T07:55:31.586Z"
   },
   {
    "duration": -571,
    "start_time": "2021-08-09T07:55:31.617Z"
   },
   {
    "duration": -594,
    "start_time": "2021-08-09T07:55:31.641Z"
   },
   {
    "duration": -617,
    "start_time": "2021-08-09T07:55:31.665Z"
   },
   {
    "duration": -643,
    "start_time": "2021-08-09T07:55:31.691Z"
   },
   {
    "duration": -653,
    "start_time": "2021-08-09T07:55:31.703Z"
   },
   {
    "duration": -666,
    "start_time": "2021-08-09T07:55:31.716Z"
   },
   {
    "duration": -677,
    "start_time": "2021-08-09T07:55:31.728Z"
   },
   {
    "duration": -690,
    "start_time": "2021-08-09T07:55:31.742Z"
   },
   {
    "duration": -701,
    "start_time": "2021-08-09T07:55:31.754Z"
   },
   {
    "duration": -714,
    "start_time": "2021-08-09T07:55:31.768Z"
   },
   {
    "duration": -737,
    "start_time": "2021-08-09T07:55:31.792Z"
   },
   {
    "duration": -771,
    "start_time": "2021-08-09T07:55:31.827Z"
   },
   {
    "duration": -783,
    "start_time": "2021-08-09T07:55:31.840Z"
   },
   {
    "duration": -815,
    "start_time": "2021-08-09T07:55:31.873Z"
   },
   {
    "duration": -828,
    "start_time": "2021-08-09T07:55:31.886Z"
   },
   {
    "duration": -857,
    "start_time": "2021-08-09T07:55:31.916Z"
   },
   {
    "duration": -879,
    "start_time": "2021-08-09T07:55:31.939Z"
   },
   {
    "duration": -903,
    "start_time": "2021-08-09T07:55:31.964Z"
   },
   {
    "duration": -926,
    "start_time": "2021-08-09T07:55:31.988Z"
   },
   {
    "duration": -937,
    "start_time": "2021-08-09T07:55:32.000Z"
   },
   {
    "duration": -946,
    "start_time": "2021-08-09T07:55:32.010Z"
   },
   {
    "duration": -960,
    "start_time": "2021-08-09T07:55:32.025Z"
   },
   {
    "duration": -972,
    "start_time": "2021-08-09T07:55:32.037Z"
   },
   {
    "duration": -983,
    "start_time": "2021-08-09T07:55:32.049Z"
   },
   {
    "duration": -992,
    "start_time": "2021-08-09T07:55:32.059Z"
   },
   {
    "duration": -1002,
    "start_time": "2021-08-09T07:55:32.070Z"
   },
   {
    "duration": -1012,
    "start_time": "2021-08-09T07:55:32.081Z"
   },
   {
    "duration": -1039,
    "start_time": "2021-08-09T07:55:32.109Z"
   },
   {
    "duration": -1049,
    "start_time": "2021-08-09T07:55:32.120Z"
   },
   {
    "duration": -1064,
    "start_time": "2021-08-09T07:55:32.135Z"
   },
   {
    "duration": -1075,
    "start_time": "2021-08-09T07:55:32.147Z"
   },
   {
    "duration": -1087,
    "start_time": "2021-08-09T07:55:32.160Z"
   },
   {
    "duration": -1098,
    "start_time": "2021-08-09T07:55:32.172Z"
   },
   {
    "duration": 2328,
    "start_time": "2021-08-09T16:58:10.946Z"
   },
   {
    "duration": 350748,
    "start_time": "2021-08-09T16:58:19.606Z"
   },
   {
    "duration": 2122,
    "start_time": "2021-08-09T17:04:10.357Z"
   },
   {
    "duration": -1019,
    "start_time": "2021-08-09T17:04:13.503Z"
   },
   {
    "duration": -1022,
    "start_time": "2021-08-09T17:04:13.507Z"
   },
   {
    "duration": -1026,
    "start_time": "2021-08-09T17:04:13.513Z"
   },
   {
    "duration": -1042,
    "start_time": "2021-08-09T17:04:13.531Z"
   },
   {
    "duration": -1044,
    "start_time": "2021-08-09T17:04:13.535Z"
   },
   {
    "duration": -1048,
    "start_time": "2021-08-09T17:04:13.541Z"
   },
   {
    "duration": -1059,
    "start_time": "2021-08-09T17:04:13.554Z"
   },
   {
    "duration": -1071,
    "start_time": "2021-08-09T17:04:13.567Z"
   },
   {
    "duration": -1072,
    "start_time": "2021-08-09T17:04:13.570Z"
   },
   {
    "duration": -1090,
    "start_time": "2021-08-09T17:04:13.589Z"
   },
   {
    "duration": -1164,
    "start_time": "2021-08-09T17:04:13.664Z"
   },
   {
    "duration": -1179,
    "start_time": "2021-08-09T17:04:13.681Z"
   },
   {
    "duration": -1210,
    "start_time": "2021-08-09T17:04:13.713Z"
   },
   {
    "duration": -1213,
    "start_time": "2021-08-09T17:04:13.717Z"
   },
   {
    "duration": -1214,
    "start_time": "2021-08-09T17:04:13.719Z"
   },
   {
    "duration": -1215,
    "start_time": "2021-08-09T17:04:13.722Z"
   },
   {
    "duration": -1220,
    "start_time": "2021-08-09T17:04:13.728Z"
   },
   {
    "duration": -1237,
    "start_time": "2021-08-09T17:04:13.746Z"
   },
   {
    "duration": -1239,
    "start_time": "2021-08-09T17:04:13.749Z"
   },
   {
    "duration": -1244,
    "start_time": "2021-08-09T17:04:13.756Z"
   },
   {
    "duration": -1246,
    "start_time": "2021-08-09T17:04:13.759Z"
   },
   {
    "duration": -1261,
    "start_time": "2021-08-09T17:04:13.775Z"
   },
   {
    "duration": -1266,
    "start_time": "2021-08-09T17:04:13.782Z"
   },
   {
    "duration": -1268,
    "start_time": "2021-08-09T17:04:13.785Z"
   },
   {
    "duration": -1269,
    "start_time": "2021-08-09T17:04:13.787Z"
   },
   {
    "duration": -1305,
    "start_time": "2021-08-09T17:04:13.825Z"
   },
   {
    "duration": -1319,
    "start_time": "2021-08-09T17:04:13.840Z"
   },
   {
    "duration": -1321,
    "start_time": "2021-08-09T17:04:13.843Z"
   },
   {
    "duration": -1325,
    "start_time": "2021-08-09T17:04:13.848Z"
   },
   {
    "duration": -1327,
    "start_time": "2021-08-09T17:04:13.851Z"
   },
   {
    "duration": -1353,
    "start_time": "2021-08-09T17:04:13.878Z"
   },
   {
    "duration": -1353,
    "start_time": "2021-08-09T17:04:13.880Z"
   },
   {
    "duration": -1376,
    "start_time": "2021-08-09T17:04:13.904Z"
   },
   {
    "duration": -1321,
    "start_time": "2021-08-09T17:04:13.907Z"
   },
   {
    "duration": -1321,
    "start_time": "2021-08-09T17:04:13.909Z"
   },
   {
    "duration": -1325,
    "start_time": "2021-08-09T17:04:13.915Z"
   },
   {
    "duration": -1326,
    "start_time": "2021-08-09T17:04:13.917Z"
   },
   {
    "duration": -1346,
    "start_time": "2021-08-09T17:04:13.938Z"
   },
   {
    "duration": -1347,
    "start_time": "2021-08-09T17:04:13.941Z"
   },
   {
    "duration": -1369,
    "start_time": "2021-08-09T17:04:13.964Z"
   },
   {
    "duration": -1370,
    "start_time": "2021-08-09T17:04:13.967Z"
   },
   {
    "duration": -1373,
    "start_time": "2021-08-09T17:04:13.971Z"
   },
   {
    "duration": -1381,
    "start_time": "2021-08-09T17:04:13.981Z"
   },
   {
    "duration": -1392,
    "start_time": "2021-08-09T17:04:13.993Z"
   },
   {
    "duration": -1395,
    "start_time": "2021-08-09T17:04:13.998Z"
   },
   {
    "duration": -1411,
    "start_time": "2021-08-09T17:04:14.016Z"
   },
   {
    "duration": -1417,
    "start_time": "2021-08-09T17:04:14.023Z"
   },
   {
    "duration": -1437,
    "start_time": "2021-08-09T17:04:14.045Z"
   },
   {
    "duration": -1449,
    "start_time": "2021-08-09T17:04:14.058Z"
   },
   {
    "duration": 233371,
    "start_time": "2021-08-09T17:04:28.048Z"
   },
   {
    "duration": 2174,
    "start_time": "2021-08-09T17:08:21.422Z"
   },
   {
    "duration": -983,
    "start_time": "2021-08-09T17:08:24.585Z"
   },
   {
    "duration": -988,
    "start_time": "2021-08-09T17:08:24.592Z"
   },
   {
    "duration": -1001,
    "start_time": "2021-08-09T17:08:24.606Z"
   },
   {
    "duration": -1003,
    "start_time": "2021-08-09T17:08:24.610Z"
   },
   {
    "duration": -1008,
    "start_time": "2021-08-09T17:08:24.616Z"
   },
   {
    "duration": -1025,
    "start_time": "2021-08-09T17:08:24.634Z"
   },
   {
    "duration": -1028,
    "start_time": "2021-08-09T17:08:24.639Z"
   },
   {
    "duration": -1032,
    "start_time": "2021-08-09T17:08:24.644Z"
   },
   {
    "duration": -1033,
    "start_time": "2021-08-09T17:08:24.647Z"
   },
   {
    "duration": -1035,
    "start_time": "2021-08-09T17:08:24.650Z"
   },
   {
    "duration": -1050,
    "start_time": "2021-08-09T17:08:24.667Z"
   },
   {
    "duration": -1052,
    "start_time": "2021-08-09T17:08:24.670Z"
   },
   {
    "duration": -1054,
    "start_time": "2021-08-09T17:08:24.673Z"
   },
   {
    "duration": -1056,
    "start_time": "2021-08-09T17:08:24.677Z"
   },
   {
    "duration": -1060,
    "start_time": "2021-08-09T17:08:24.682Z"
   },
   {
    "duration": -1072,
    "start_time": "2021-08-09T17:08:24.695Z"
   },
   {
    "duration": -1073,
    "start_time": "2021-08-09T17:08:24.698Z"
   },
   {
    "duration": -1076,
    "start_time": "2021-08-09T17:08:24.702Z"
   },
   {
    "duration": -1101,
    "start_time": "2021-08-09T17:08:24.729Z"
   },
   {
    "duration": -1106,
    "start_time": "2021-08-09T17:08:24.735Z"
   },
   {
    "duration": -1113,
    "start_time": "2021-08-09T17:08:24.743Z"
   },
   {
    "duration": -1118,
    "start_time": "2021-08-09T17:08:24.750Z"
   },
   {
    "duration": -1120,
    "start_time": "2021-08-09T17:08:24.753Z"
   },
   {
    "duration": -1122,
    "start_time": "2021-08-09T17:08:24.757Z"
   },
   {
    "duration": -1123,
    "start_time": "2021-08-09T17:08:24.759Z"
   },
   {
    "duration": -1123,
    "start_time": "2021-08-09T17:08:24.762Z"
   },
   {
    "duration": -1080,
    "start_time": "2021-08-09T17:08:24.765Z"
   },
   {
    "duration": -1083,
    "start_time": "2021-08-09T17:08:24.769Z"
   },
   {
    "duration": -1083,
    "start_time": "2021-08-09T17:08:24.771Z"
   },
   {
    "duration": -1093,
    "start_time": "2021-08-09T17:08:24.782Z"
   },
   {
    "duration": -1095,
    "start_time": "2021-08-09T17:08:24.786Z"
   },
   {
    "duration": -1097,
    "start_time": "2021-08-09T17:08:24.789Z"
   },
   {
    "duration": -1100,
    "start_time": "2021-08-09T17:08:24.794Z"
   },
   {
    "duration": -1102,
    "start_time": "2021-08-09T17:08:24.797Z"
   },
   {
    "duration": -1105,
    "start_time": "2021-08-09T17:08:24.801Z"
   },
   {
    "duration": -1108,
    "start_time": "2021-08-09T17:08:24.806Z"
   },
   {
    "duration": -1111,
    "start_time": "2021-08-09T17:08:24.810Z"
   },
   {
    "duration": -1113,
    "start_time": "2021-08-09T17:08:24.814Z"
   },
   {
    "duration": -1117,
    "start_time": "2021-08-09T17:08:24.819Z"
   },
   {
    "duration": -1120,
    "start_time": "2021-08-09T17:08:24.824Z"
   },
   {
    "duration": -1121,
    "start_time": "2021-08-09T17:08:24.826Z"
   },
   {
    "duration": -1124,
    "start_time": "2021-08-09T17:08:24.830Z"
   },
   {
    "duration": -1125,
    "start_time": "2021-08-09T17:08:24.833Z"
   },
   {
    "duration": -1127,
    "start_time": "2021-08-09T17:08:24.836Z"
   },
   {
    "duration": -1135,
    "start_time": "2021-08-09T17:08:24.845Z"
   },
   {
    "duration": -1137,
    "start_time": "2021-08-09T17:08:24.849Z"
   },
   {
    "duration": -1141,
    "start_time": "2021-08-09T17:08:24.854Z"
   },
   {
    "duration": -1141,
    "start_time": "2021-08-09T17:08:24.856Z"
   },
   {
    "duration": -1143,
    "start_time": "2021-08-09T17:08:24.859Z"
   },
   {
    "duration": 394,
    "start_time": "2021-08-09T17:09:48.612Z"
   },
   {
    "duration": 2191,
    "start_time": "2021-08-09T17:09:58.549Z"
   },
   {
    "duration": 261787,
    "start_time": "2021-08-09T17:11:17.047Z"
   },
   {
    "duration": 2101,
    "start_time": "2021-08-09T17:15:38.837Z"
   },
   {
    "duration": -972,
    "start_time": "2021-08-09T17:15:41.915Z"
   },
   {
    "duration": -977,
    "start_time": "2021-08-09T17:15:41.921Z"
   },
   {
    "duration": -981,
    "start_time": "2021-08-09T17:15:41.927Z"
   },
   {
    "duration": -982,
    "start_time": "2021-08-09T17:15:41.930Z"
   },
   {
    "duration": -984,
    "start_time": "2021-08-09T17:15:41.933Z"
   },
   {
    "duration": -988,
    "start_time": "2021-08-09T17:15:41.939Z"
   },
   {
    "duration": -989,
    "start_time": "2021-08-09T17:15:41.941Z"
   },
   {
    "duration": -995,
    "start_time": "2021-08-09T17:15:41.949Z"
   },
   {
    "duration": -1000,
    "start_time": "2021-08-09T17:15:41.955Z"
   },
   {
    "duration": -1003,
    "start_time": "2021-08-09T17:15:41.959Z"
   },
   {
    "duration": -1004,
    "start_time": "2021-08-09T17:15:41.961Z"
   },
   {
    "duration": -1008,
    "start_time": "2021-08-09T17:15:41.967Z"
   },
   {
    "duration": -1010,
    "start_time": "2021-08-09T17:15:41.970Z"
   },
   {
    "duration": -1018,
    "start_time": "2021-08-09T17:15:41.980Z"
   },
   {
    "duration": -1020,
    "start_time": "2021-08-09T17:15:41.983Z"
   },
   {
    "duration": -1021,
    "start_time": "2021-08-09T17:15:41.986Z"
   },
   {
    "duration": -1023,
    "start_time": "2021-08-09T17:15:41.989Z"
   },
   {
    "duration": -1048,
    "start_time": "2021-08-09T17:15:42.015Z"
   },
   {
    "duration": -1051,
    "start_time": "2021-08-09T17:15:42.020Z"
   },
   {
    "duration": -1052,
    "start_time": "2021-08-09T17:15:42.023Z"
   },
   {
    "duration": -1053,
    "start_time": "2021-08-09T17:15:42.025Z"
   },
   {
    "duration": -1053,
    "start_time": "2021-08-09T17:15:42.027Z"
   },
   {
    "duration": -1066,
    "start_time": "2021-08-09T17:15:42.041Z"
   },
   {
    "duration": -1071,
    "start_time": "2021-08-09T17:15:42.048Z"
   },
   {
    "duration": -1081,
    "start_time": "2021-08-09T17:15:42.060Z"
   },
   {
    "duration": -1083,
    "start_time": "2021-08-09T17:15:42.063Z"
   },
   {
    "duration": -1080,
    "start_time": "2021-08-09T17:15:42.065Z"
   },
   {
    "duration": -1082,
    "start_time": "2021-08-09T17:15:42.068Z"
   },
   {
    "duration": -1084,
    "start_time": "2021-08-09T17:15:42.072Z"
   },
   {
    "duration": -1098,
    "start_time": "2021-08-09T17:15:42.088Z"
   },
   {
    "duration": -1098,
    "start_time": "2021-08-09T17:15:42.090Z"
   },
   {
    "duration": -1107,
    "start_time": "2021-08-09T17:15:42.101Z"
   },
   {
    "duration": -1108,
    "start_time": "2021-08-09T17:15:42.103Z"
   },
   {
    "duration": -1109,
    "start_time": "2021-08-09T17:15:42.106Z"
   },
   {
    "duration": -1114,
    "start_time": "2021-08-09T17:15:42.112Z"
   },
   {
    "duration": -1116,
    "start_time": "2021-08-09T17:15:42.115Z"
   },
   {
    "duration": -1116,
    "start_time": "2021-08-09T17:15:42.117Z"
   },
   {
    "duration": -1124,
    "start_time": "2021-08-09T17:15:42.127Z"
   },
   {
    "duration": -1125,
    "start_time": "2021-08-09T17:15:42.129Z"
   },
   {
    "duration": -1126,
    "start_time": "2021-08-09T17:15:42.132Z"
   },
   {
    "duration": -1126,
    "start_time": "2021-08-09T17:15:42.134Z"
   },
   {
    "duration": -1130,
    "start_time": "2021-08-09T17:15:42.139Z"
   },
   {
    "duration": -1132,
    "start_time": "2021-08-09T17:15:42.142Z"
   },
   {
    "duration": -1133,
    "start_time": "2021-08-09T17:15:42.145Z"
   },
   {
    "duration": -1134,
    "start_time": "2021-08-09T17:15:42.147Z"
   },
   {
    "duration": -1148,
    "start_time": "2021-08-09T17:15:42.163Z"
   },
   {
    "duration": -1150,
    "start_time": "2021-08-09T17:15:42.166Z"
   },
   {
    "duration": -1151,
    "start_time": "2021-08-09T17:15:42.169Z"
   },
   {
    "duration": -1152,
    "start_time": "2021-08-09T17:15:42.171Z"
   },
   {
    "duration": 2098,
    "start_time": "2021-08-09T17:15:54.564Z"
   },
   {
    "duration": 238402,
    "start_time": "2021-08-09T17:16:04.209Z"
   },
   {
    "duration": 12832,
    "start_time": "2021-08-09T17:20:32.476Z"
   },
   {
    "duration": 456,
    "start_time": "2021-08-09T17:20:49.277Z"
   },
   {
    "duration": 2515,
    "start_time": "2021-08-09T17:21:01.795Z"
   },
   {
    "duration": 4,
    "start_time": "2021-08-09T17:21:16.228Z"
   },
   {
    "duration": 8029,
    "start_time": "2021-08-09T17:21:16.235Z"
   },
   {
    "duration": 32,
    "start_time": "2021-08-09T17:21:24.268Z"
   },
   {
    "duration": 328,
    "start_time": "2021-08-09T17:21:24.304Z"
   },
   {
    "duration": 9,
    "start_time": "2021-08-09T17:21:24.634Z"
   },
   {
    "duration": 45,
    "start_time": "2021-08-09T17:21:24.645Z"
   },
   {
    "duration": 4,
    "start_time": "2021-08-09T17:21:24.692Z"
   },
   {
    "duration": 6,
    "start_time": "2021-08-09T17:21:24.699Z"
   },
   {
    "duration": 8,
    "start_time": "2021-08-09T17:21:24.708Z"
   },
   {
    "duration": 60778,
    "start_time": "2021-08-09T17:21:24.719Z"
   },
   {
    "duration": 5,
    "start_time": "2021-08-09T17:22:25.499Z"
   },
   {
    "duration": 1946,
    "start_time": "2021-08-09T17:22:25.507Z"
   },
   {
    "duration": 16,
    "start_time": "2021-08-09T17:22:27.456Z"
   },
   {
    "duration": 27,
    "start_time": "2021-08-09T17:22:27.486Z"
   },
   {
    "duration": 15,
    "start_time": "2021-08-09T17:22:27.516Z"
   },
   {
    "duration": 56,
    "start_time": "2021-08-09T17:22:27.533Z"
   },
   {
    "duration": 3,
    "start_time": "2021-08-09T17:22:27.592Z"
   },
   {
    "duration": 15,
    "start_time": "2021-08-09T17:22:27.597Z"
   },
   {
    "duration": 17,
    "start_time": "2021-08-09T17:22:27.615Z"
   },
   {
    "duration": 133,
    "start_time": "2021-08-09T17:22:27.635Z"
   },
   {
    "duration": 4,
    "start_time": "2021-08-09T17:22:27.771Z"
   },
   {
    "duration": 5,
    "start_time": "2021-08-09T17:22:27.786Z"
   },
   {
    "duration": 6,
    "start_time": "2021-08-09T17:22:27.797Z"
   },
   {
    "duration": 7,
    "start_time": "2021-08-09T17:22:27.806Z"
   },
   {
    "duration": 7,
    "start_time": "2021-08-09T17:22:27.816Z"
   },
   {
    "duration": 7,
    "start_time": "2021-08-09T17:22:27.825Z"
   },
   {
    "duration": 7,
    "start_time": "2021-08-09T17:22:27.835Z"
   },
   {
    "duration": 43,
    "start_time": "2021-08-09T17:22:27.844Z"
   },
   {
    "duration": 15,
    "start_time": "2021-08-09T17:22:27.890Z"
   },
   {
    "duration": 9,
    "start_time": "2021-08-09T17:22:27.908Z"
   },
   {
    "duration": 16,
    "start_time": "2021-08-09T17:22:27.919Z"
   },
   {
    "duration": 9,
    "start_time": "2021-08-09T17:22:27.937Z"
   },
   {
    "duration": 147,
    "start_time": "2021-08-09T17:22:27.948Z"
   },
   {
    "duration": -943,
    "start_time": "2021-08-09T17:22:29.041Z"
   },
   {
    "duration": -945,
    "start_time": "2021-08-09T17:22:29.045Z"
   },
   {
    "duration": -948,
    "start_time": "2021-08-09T17:22:29.049Z"
   },
   {
    "duration": -949,
    "start_time": "2021-08-09T17:22:29.052Z"
   },
   {
    "duration": -950,
    "start_time": "2021-08-09T17:22:29.054Z"
   },
   {
    "duration": -950,
    "start_time": "2021-08-09T17:22:29.056Z"
   },
   {
    "duration": -952,
    "start_time": "2021-08-09T17:22:29.059Z"
   },
   {
    "duration": -953,
    "start_time": "2021-08-09T17:22:29.062Z"
   },
   {
    "duration": -954,
    "start_time": "2021-08-09T17:22:29.064Z"
   },
   {
    "duration": -956,
    "start_time": "2021-08-09T17:22:29.067Z"
   },
   {
    "duration": -957,
    "start_time": "2021-08-09T17:22:29.070Z"
   },
   {
    "duration": -958,
    "start_time": "2021-08-09T17:22:29.073Z"
   },
   {
    "duration": -959,
    "start_time": "2021-08-09T17:22:29.075Z"
   },
   {
    "duration": -961,
    "start_time": "2021-08-09T17:22:29.078Z"
   },
   {
    "duration": -961,
    "start_time": "2021-08-09T17:22:29.080Z"
   },
   {
    "duration": -963,
    "start_time": "2021-08-09T17:22:29.083Z"
   },
   {
    "duration": 1132,
    "start_time": "2021-08-09T17:23:22.458Z"
   },
   {
    "duration": 9,
    "start_time": "2021-08-09T17:27:28.203Z"
   },
   {
    "duration": 127,
    "start_time": "2021-08-09T17:27:42.843Z"
   },
   {
    "duration": 4,
    "start_time": "2021-08-09T17:27:58.821Z"
   },
   {
    "duration": 827,
    "start_time": "2021-08-09T17:28:07.244Z"
   },
   {
    "duration": 21,
    "start_time": "2021-08-09T17:29:05.535Z"
   },
   {
    "duration": 385,
    "start_time": "2021-08-09T17:29:10.047Z"
   },
   {
    "duration": 23,
    "start_time": "2021-08-09T17:29:13.174Z"
   },
   {
    "duration": 384,
    "start_time": "2021-08-09T17:29:20.022Z"
   },
   {
    "duration": 399,
    "start_time": "2021-08-09T17:29:24.134Z"
   },
   {
    "duration": 20,
    "start_time": "2021-08-09T17:29:33.679Z"
   },
   {
    "duration": 175,
    "start_time": "2021-08-09T17:36:21.630Z"
   },
   {
    "duration": 4,
    "start_time": "2021-08-09T17:36:40.791Z"
   },
   {
    "duration": 424,
    "start_time": "2021-08-09T17:37:47.818Z"
   },
   {
    "duration": 4,
    "start_time": "2021-08-09T17:37:51.146Z"
   },
   {
    "duration": 7,
    "start_time": "2021-08-09T17:37:53.161Z"
   },
   {
    "duration": 4,
    "start_time": "2021-08-09T17:37:55.171Z"
   },
   {
    "duration": 1486,
    "start_time": "2021-08-09T17:37:59.483Z"
   },
   {
    "duration": 9,
    "start_time": "2021-08-09T17:38:54.031Z"
   },
   {
    "duration": 4,
    "start_time": "2021-08-09T17:39:16.405Z"
   },
   {
    "duration": 424,
    "start_time": "2021-08-09T17:39:46.558Z"
   },
   {
    "duration": 4,
    "start_time": "2021-08-09T17:42:54.765Z"
   },
   {
    "duration": 402,
    "start_time": "2021-08-09T17:42:56.038Z"
   },
   {
    "duration": 6,
    "start_time": "2021-08-09T17:44:54.387Z"
   },
   {
    "duration": 4,
    "start_time": "2021-08-09T17:46:48.702Z"
   },
   {
    "duration": 5,
    "start_time": "2021-08-09T17:48:54.635Z"
   },
   {
    "duration": 416,
    "start_time": "2021-08-09T17:48:57.092Z"
   },
   {
    "duration": 5,
    "start_time": "2021-08-09T17:49:50.397Z"
   },
   {
    "duration": 4,
    "start_time": "2021-08-09T17:51:36.204Z"
   },
   {
    "duration": 41,
    "start_time": "2021-08-09T17:52:06.308Z"
   },
   {
    "duration": 386,
    "start_time": "2021-08-09T17:52:23.299Z"
   },
   {
    "duration": 27,
    "start_time": "2021-08-09T17:53:05.800Z"
   },
   {
    "duration": 25,
    "start_time": "2021-08-09T17:53:11.805Z"
   },
   {
    "duration": 22,
    "start_time": "2021-08-09T17:53:57.605Z"
   },
   {
    "duration": 404,
    "start_time": "2021-08-09T17:55:26.273Z"
   },
   {
    "duration": 4,
    "start_time": "2021-08-09T17:55:36.515Z"
   },
   {
    "duration": 35,
    "start_time": "2021-08-09T17:56:13.499Z"
   },
   {
    "duration": 9799,
    "start_time": "2021-08-09T17:56:27.180Z"
   },
   {
    "duration": 3,
    "start_time": "2021-08-09T17:57:46.224Z"
   },
   {
    "duration": 25,
    "start_time": "2021-08-09T17:58:05.185Z"
   },
   {
    "duration": 140,
    "start_time": "2021-08-09T18:01:57.545Z"
   },
   {
    "duration": 149,
    "start_time": "2021-08-09T18:05:59.674Z"
   },
   {
    "duration": 138,
    "start_time": "2021-08-09T18:06:05.306Z"
   },
   {
    "duration": 134,
    "start_time": "2021-08-09T18:06:41.060Z"
   },
   {
    "duration": 5,
    "start_time": "2021-08-09T18:06:52.220Z"
   },
   {
    "duration": 14,
    "start_time": "2021-08-09T18:09:20.394Z"
   },
   {
    "duration": 14,
    "start_time": "2021-08-09T18:10:24.038Z"
   },
   {
    "duration": 388,
    "start_time": "2021-08-09T18:11:23.127Z"
   },
   {
    "duration": 23,
    "start_time": "2021-08-09T18:11:41.720Z"
   },
   {
    "duration": 5,
    "start_time": "2021-08-09T18:11:52.231Z"
   },
   {
    "duration": 10274,
    "start_time": "2021-08-09T18:13:20.900Z"
   },
   {
    "duration": 580,
    "start_time": "2021-08-09T18:13:57.581Z"
   },
   {
    "duration": 474,
    "start_time": "2021-08-09T18:14:05.541Z"
   },
   {
    "duration": 131,
    "start_time": "2021-08-09T18:14:16.015Z"
   },
   {
    "duration": 6,
    "start_time": "2021-08-09T18:14:32.766Z"
   },
   {
    "duration": 11737,
    "start_time": "2021-08-09T18:14:40.838Z"
   },
   {
    "duration": 8475,
    "start_time": "2021-08-09T18:14:56.767Z"
   },
   {
    "duration": 2808,
    "start_time": "2021-08-09T18:15:06.808Z"
   },
   {
    "duration": 10,
    "start_time": "2021-08-09T18:15:13.552Z"
   },
   {
    "duration": 10,
    "start_time": "2021-08-09T18:15:41.808Z"
   },
   {
    "duration": 16,
    "start_time": "2021-08-09T18:15:49.962Z"
   },
   {
    "duration": 406,
    "start_time": "2021-08-09T18:15:59.890Z"
   },
   {
    "duration": 17,
    "start_time": "2021-08-09T18:16:04.906Z"
   },
   {
    "duration": 404,
    "start_time": "2021-08-09T18:16:13.179Z"
   },
   {
    "duration": 4,
    "start_time": "2021-08-09T18:16:25.330Z"
   },
   {
    "duration": 405,
    "start_time": "2021-08-09T18:16:42.205Z"
   },
   {
    "duration": 416,
    "start_time": "2021-08-09T18:16:50.668Z"
   },
   {
    "duration": 108,
    "start_time": "2021-08-09T18:16:54.180Z"
   },
   {
    "duration": 45,
    "start_time": "2021-08-09T18:17:08.301Z"
   },
   {
    "duration": 5,
    "start_time": "2021-08-09T18:20:52.863Z"
   },
   {
    "duration": 4,
    "start_time": "2021-08-09T18:20:56.164Z"
   },
   {
    "duration": 3,
    "start_time": "2021-08-09T18:21:07.652Z"
   },
   {
    "duration": 7787,
    "start_time": "2021-08-09T18:21:51.782Z"
   },
   {
    "duration": 24,
    "start_time": "2021-08-09T18:22:38.543Z"
   },
   {
    "duration": 7808,
    "start_time": "2021-08-09T18:22:50.430Z"
   },
   {
    "duration": 21,
    "start_time": "2021-08-09T18:23:07.993Z"
   },
   {
    "duration": 5,
    "start_time": "2021-08-09T18:24:54.189Z"
   },
   {
    "duration": 56,
    "start_time": "2021-08-09T18:25:13.278Z"
   },
   {
    "duration": 6,
    "start_time": "2021-08-09T18:25:55.479Z"
   },
   {
    "duration": 951,
    "start_time": "2021-08-09T18:25:56.520Z"
   },
   {
    "duration": 4,
    "start_time": "2021-08-09T18:26:41.257Z"
   },
   {
    "duration": 60,
    "start_time": "2021-08-09T18:26:48.315Z"
   },
   {
    "duration": 5,
    "start_time": "2021-08-09T18:27:41.923Z"
   },
   {
    "duration": 58,
    "start_time": "2021-08-09T18:27:43.428Z"
   },
   {
    "duration": 492,
    "start_time": "2021-08-09T18:27:59.204Z"
   },
   {
    "duration": 4,
    "start_time": "2021-08-09T18:28:43.406Z"
   },
   {
    "duration": 490,
    "start_time": "2021-08-09T18:28:47.078Z"
   },
   {
    "duration": 396,
    "start_time": "2021-08-09T18:28:57.390Z"
   },
   {
    "duration": 6,
    "start_time": "2021-08-09T18:29:00.087Z"
   },
   {
    "duration": 14,
    "start_time": "2021-08-09T18:29:03.894Z"
   },
   {
    "duration": 5,
    "start_time": "2021-08-09T18:37:33.509Z"
   },
   {
    "duration": 368,
    "start_time": "2021-08-09T18:39:43.079Z"
   },
   {
    "duration": 3,
    "start_time": "2021-08-09T18:40:28.681Z"
   },
   {
    "duration": 396,
    "start_time": "2021-08-09T18:40:58.818Z"
   },
   {
    "duration": 41,
    "start_time": "2021-08-09T18:41:12.138Z"
   },
   {
    "duration": 24,
    "start_time": "2021-08-09T18:41:20.531Z"
   },
   {
    "duration": 430,
    "start_time": "2021-08-09T18:41:49.971Z"
   },
   {
    "duration": 24,
    "start_time": "2021-08-09T18:41:52.822Z"
   },
   {
    "duration": 5,
    "start_time": "2021-08-09T18:56:01.220Z"
   },
   {
    "duration": 5,
    "start_time": "2021-08-09T18:56:03.028Z"
   },
   {
    "duration": 429,
    "start_time": "2021-08-09T18:58:08.027Z"
   },
   {
    "duration": 4,
    "start_time": "2021-08-09T18:58:20.538Z"
   },
   {
    "duration": 422,
    "start_time": "2021-08-09T18:58:41.579Z"
   },
   {
    "duration": 385,
    "start_time": "2021-08-09T18:59:22.605Z"
   },
   {
    "duration": 20,
    "start_time": "2021-08-09T19:00:00.943Z"
   },
   {
    "duration": 7,
    "start_time": "2021-08-09T19:02:04.563Z"
   },
   {
    "duration": 397,
    "start_time": "2021-08-09T19:02:51.773Z"
   },
   {
    "duration": 39,
    "start_time": "2021-08-09T19:03:40.942Z"
   },
   {
    "duration": 24,
    "start_time": "2021-08-09T19:03:51.295Z"
   },
   {
    "duration": 392,
    "start_time": "2021-08-09T19:03:59.016Z"
   },
   {
    "duration": 7,
    "start_time": "2021-08-09T19:04:33.456Z"
   },
   {
    "duration": 14,
    "start_time": "2021-08-09T19:04:53.297Z"
   },
   {
    "duration": 24,
    "start_time": "2021-08-09T19:05:19.073Z"
   },
   {
    "duration": 35,
    "start_time": "2021-08-09T19:05:29.358Z"
   },
   {
    "duration": 471,
    "start_time": "2021-08-09T19:06:04.580Z"
   },
   {
    "duration": 4,
    "start_time": "2021-08-09T19:06:39.145Z"
   },
   {
    "duration": 520,
    "start_time": "2021-08-09T19:06:39.633Z"
   },
   {
    "duration": 5,
    "start_time": "2021-08-09T19:07:32.527Z"
   },
   {
    "duration": 5,
    "start_time": "2021-08-09T19:07:55.612Z"
   },
   {
    "duration": 849,
    "start_time": "2021-08-09T19:08:29.978Z"
   },
   {
    "duration": 57,
    "start_time": "2021-08-09T19:09:16.833Z"
   },
   {
    "duration": 5,
    "start_time": "2021-08-09T19:10:18.342Z"
   },
   {
    "duration": 1051,
    "start_time": "2021-08-09T19:10:31.007Z"
   },
   {
    "duration": 1006,
    "start_time": "2021-08-09T19:16:38.228Z"
   },
   {
    "duration": 4,
    "start_time": "2021-08-09T19:16:52.604Z"
   },
   {
    "duration": 7867,
    "start_time": "2021-08-09T19:19:12.881Z"
   },
   {
    "duration": 5,
    "start_time": "2021-08-09T19:19:36.587Z"
   },
   {
    "duration": 4,
    "start_time": "2021-08-09T19:26:09.705Z"
   },
   {
    "duration": 4,
    "start_time": "2021-08-09T19:27:38.645Z"
   },
   {
    "duration": 4,
    "start_time": "2021-08-09T19:27:39.238Z"
   },
   {
    "duration": 71425,
    "start_time": "2021-08-09T19:28:14.375Z"
   },
   {
    "duration": 5,
    "start_time": "2021-08-09T19:31:31.549Z"
   },
   {
    "duration": 131,
    "start_time": "2021-08-09T19:32:21.289Z"
   },
   {
    "duration": 4,
    "start_time": "2021-08-09T19:32:30.424Z"
   },
   {
    "duration": 809,
    "start_time": "2021-08-09T19:33:29.527Z"
   },
   {
    "duration": 4,
    "start_time": "2021-08-09T19:33:58.211Z"
   },
   {
    "duration": 4,
    "start_time": "2021-08-09T19:34:01.707Z"
   },
   {
    "duration": 4,
    "start_time": "2021-08-09T19:34:54.869Z"
   },
   {
    "duration": 91977,
    "start_time": "2021-08-09T19:34:58.151Z"
   },
   {
    "duration": 5,
    "start_time": "2021-08-09T19:37:29.268Z"
   },
   {
    "duration": 1381604,
    "start_time": "2021-08-09T19:37:38.300Z"
   },
   {
    "duration": 7,
    "start_time": "2021-08-09T20:14:33.223Z"
   },
   {
    "duration": 20,
    "start_time": "2021-08-09T20:14:33.232Z"
   },
   {
    "duration": 832,
    "start_time": "2021-08-09T20:14:33.255Z"
   },
   {
    "duration": 38,
    "start_time": "2021-08-09T20:14:34.091Z"
   },
   {
    "duration": 297,
    "start_time": "2021-08-09T20:14:34.132Z"
   },
   {
    "duration": 9,
    "start_time": "2021-08-09T20:14:34.431Z"
   },
   {
    "duration": 48,
    "start_time": "2021-08-09T20:14:34.442Z"
   },
   {
    "duration": 7,
    "start_time": "2021-08-09T20:14:34.494Z"
   },
   {
    "duration": 9,
    "start_time": "2021-08-09T20:14:34.504Z"
   },
   {
    "duration": 12,
    "start_time": "2021-08-09T20:14:34.515Z"
   },
   {
    "duration": 54664,
    "start_time": "2021-08-09T20:14:34.529Z"
   },
   {
    "duration": 4,
    "start_time": "2021-08-09T20:15:29.196Z"
   },
   {
    "duration": 1947,
    "start_time": "2021-08-09T20:15:29.202Z"
   },
   {
    "duration": 15,
    "start_time": "2021-08-09T20:15:31.152Z"
   },
   {
    "duration": 18,
    "start_time": "2021-08-09T20:15:31.169Z"
   },
   {
    "duration": 20,
    "start_time": "2021-08-09T20:15:31.189Z"
   },
   {
    "duration": 33,
    "start_time": "2021-08-09T20:15:31.212Z"
   },
   {
    "duration": 22,
    "start_time": "2021-08-09T20:15:31.248Z"
   },
   {
    "duration": 18,
    "start_time": "2021-08-09T20:15:31.272Z"
   },
   {
    "duration": 21,
    "start_time": "2021-08-09T20:15:31.293Z"
   },
   {
    "duration": 22,
    "start_time": "2021-08-09T20:15:31.316Z"
   },
   {
    "duration": 28,
    "start_time": "2021-08-09T20:15:31.340Z"
   },
   {
    "duration": 19,
    "start_time": "2021-08-09T20:15:31.373Z"
   },
   {
    "duration": 27,
    "start_time": "2021-08-09T20:15:31.395Z"
   },
   {
    "duration": 14,
    "start_time": "2021-08-09T20:15:31.425Z"
   },
   {
    "duration": 22,
    "start_time": "2021-08-09T20:15:31.441Z"
   },
   {
    "duration": 22,
    "start_time": "2021-08-09T20:15:31.466Z"
   },
   {
    "duration": 33,
    "start_time": "2021-08-09T20:15:31.490Z"
   },
   {
    "duration": 11,
    "start_time": "2021-08-09T20:15:31.525Z"
   },
   {
    "duration": 20,
    "start_time": "2021-08-09T20:15:31.539Z"
   },
   {
    "duration": 23,
    "start_time": "2021-08-09T20:15:31.561Z"
   },
   {
    "duration": 18,
    "start_time": "2021-08-09T20:15:31.586Z"
   },
   {
    "duration": 24,
    "start_time": "2021-08-09T20:15:31.607Z"
   },
   {
    "duration": 20,
    "start_time": "2021-08-09T20:15:31.634Z"
   },
   {
    "duration": 700,
    "start_time": "2021-08-09T20:15:31.656Z"
   },
   {
    "duration": 590,
    "start_time": "2021-08-09T20:15:32.359Z"
   },
   {
    "duration": 3,
    "start_time": "2021-08-09T20:15:32.951Z"
   },
   {
    "duration": 16,
    "start_time": "2021-08-09T20:15:32.956Z"
   },
   {
    "duration": 34841,
    "start_time": "2021-08-09T20:15:32.975Z"
   },
   {
    "duration": 4267,
    "start_time": "2021-08-09T20:16:07.819Z"
   },
   {
    "duration": 3,
    "start_time": "2021-08-09T20:16:12.092Z"
   },
   {
    "duration": 9,
    "start_time": "2021-08-09T20:16:12.098Z"
   },
   {
    "duration": 12,
    "start_time": "2021-08-09T20:16:12.110Z"
   },
   {
    "duration": 9,
    "start_time": "2021-08-09T20:16:12.125Z"
   },
   {
    "duration": 60,
    "start_time": "2021-08-09T20:16:12.137Z"
   },
   {
    "duration": 46,
    "start_time": "2021-08-09T20:16:12.200Z"
   },
   {
    "duration": 4,
    "start_time": "2021-08-09T20:16:12.249Z"
   },
   {
    "duration": 6,
    "start_time": "2021-08-09T20:16:12.256Z"
   },
   {
    "duration": 199,
    "start_time": "2021-08-09T20:16:12.287Z"
   },
   {
    "duration": 117,
    "start_time": "2021-08-09T20:16:12.489Z"
   },
   {
    "duration": 11,
    "start_time": "2021-08-09T20:16:12.609Z"
   },
   {
    "duration": 7,
    "start_time": "2021-08-09T20:17:48.744Z"
   },
   {
    "duration": 18,
    "start_time": "2021-08-09T20:17:48.755Z"
   },
   {
    "duration": 809,
    "start_time": "2021-08-09T20:17:48.778Z"
   },
   {
    "duration": 31,
    "start_time": "2021-08-09T20:17:49.589Z"
   },
   {
    "duration": 304,
    "start_time": "2021-08-09T20:17:49.622Z"
   },
   {
    "duration": 9,
    "start_time": "2021-08-09T20:17:49.929Z"
   },
   {
    "duration": 49,
    "start_time": "2021-08-09T20:17:49.941Z"
   },
   {
    "duration": 7,
    "start_time": "2021-08-09T20:17:49.994Z"
   },
   {
    "duration": 16,
    "start_time": "2021-08-09T20:17:50.004Z"
   },
   {
    "duration": 20,
    "start_time": "2021-08-09T20:17:50.022Z"
   },
   {
    "duration": 56765,
    "start_time": "2021-08-09T20:17:50.044Z"
   },
   {
    "duration": 4,
    "start_time": "2021-08-09T20:18:46.812Z"
   },
   {
    "duration": 1794,
    "start_time": "2021-08-09T20:18:46.818Z"
   },
   {
    "duration": 15,
    "start_time": "2021-08-09T20:18:48.614Z"
   },
   {
    "duration": 16,
    "start_time": "2021-08-09T20:18:48.632Z"
   },
   {
    "duration": 42,
    "start_time": "2021-08-09T20:18:48.650Z"
   },
   {
    "duration": 30,
    "start_time": "2021-08-09T20:18:48.694Z"
   },
   {
    "duration": 5,
    "start_time": "2021-08-09T20:18:48.726Z"
   },
   {
    "duration": 13,
    "start_time": "2021-08-09T20:18:48.734Z"
   },
   {
    "duration": 13,
    "start_time": "2021-08-09T20:18:48.785Z"
   },
   {
    "duration": 123,
    "start_time": "2021-08-09T20:18:48.801Z"
   },
   {
    "duration": 4,
    "start_time": "2021-08-09T20:18:48.927Z"
   },
   {
    "duration": 8,
    "start_time": "2021-08-09T20:18:48.937Z"
   },
   {
    "duration": 14,
    "start_time": "2021-08-09T20:18:48.948Z"
   },
   {
    "duration": 23,
    "start_time": "2021-08-09T20:18:48.965Z"
   },
   {
    "duration": 21,
    "start_time": "2021-08-09T20:18:48.991Z"
   },
   {
    "duration": 18,
    "start_time": "2021-08-09T20:18:49.015Z"
   },
   {
    "duration": 14,
    "start_time": "2021-08-09T20:18:49.036Z"
   },
   {
    "duration": 16,
    "start_time": "2021-08-09T20:18:49.053Z"
   },
   {
    "duration": 8,
    "start_time": "2021-08-09T20:18:49.072Z"
   },
   {
    "duration": 9,
    "start_time": "2021-08-09T20:18:49.082Z"
   },
   {
    "duration": 12,
    "start_time": "2021-08-09T20:18:49.094Z"
   },
   {
    "duration": 12,
    "start_time": "2021-08-09T20:18:49.109Z"
   },
   {
    "duration": 531087,
    "start_time": "2021-08-09T20:18:49.123Z"
   },
   {
    "duration": 283598,
    "start_time": "2021-08-09T20:27:40.214Z"
   },
   {
    "duration": 4,
    "start_time": "2021-08-09T20:32:23.816Z"
   },
   {
    "duration": 8,
    "start_time": "2021-08-09T20:32:23.823Z"
   },
   {
    "duration": 6159864,
    "start_time": "2021-08-09T20:32:23.833Z"
   },
   {
    "duration": -653,
    "start_time": "2021-08-09T22:15:04.354Z"
   },
   {
    "duration": -660,
    "start_time": "2021-08-09T22:15:04.362Z"
   },
   {
    "duration": -666,
    "start_time": "2021-08-09T22:15:04.369Z"
   },
   {
    "duration": -668,
    "start_time": "2021-08-09T22:15:04.373Z"
   },
   {
    "duration": -671,
    "start_time": "2021-08-09T22:15:04.377Z"
   },
   {
    "duration": -677,
    "start_time": "2021-08-09T22:15:04.384Z"
   },
   {
    "duration": -679,
    "start_time": "2021-08-09T22:15:04.388Z"
   },
   {
    "duration": -681,
    "start_time": "2021-08-09T22:15:04.391Z"
   },
   {
    "duration": -688,
    "start_time": "2021-08-09T22:15:04.399Z"
   },
   {
    "duration": -690,
    "start_time": "2021-08-09T22:15:04.403Z"
   },
   {
    "duration": -696,
    "start_time": "2021-08-09T22:15:04.410Z"
   },
   {
    "duration": -698,
    "start_time": "2021-08-09T22:15:04.413Z"
   },
   {
    "duration": 8,
    "start_time": "2021-08-09T22:19:34.106Z"
   },
   {
    "duration": 23,
    "start_time": "2021-08-09T22:19:34.118Z"
   },
   {
    "duration": 10086,
    "start_time": "2021-08-09T22:19:34.145Z"
   },
   {
    "duration": 31,
    "start_time": "2021-08-09T22:19:44.233Z"
   },
   {
    "duration": 289,
    "start_time": "2021-08-09T22:19:44.286Z"
   },
   {
    "duration": 13,
    "start_time": "2021-08-09T22:19:44.578Z"
   },
   {
    "duration": 25,
    "start_time": "2021-08-09T22:19:44.594Z"
   },
   {
    "duration": 9,
    "start_time": "2021-08-09T22:19:44.624Z"
   },
   {
    "duration": 10,
    "start_time": "2021-08-09T22:19:44.637Z"
   },
   {
    "duration": 38,
    "start_time": "2021-08-09T22:19:44.649Z"
   },
   {
    "duration": 38076,
    "start_time": "2021-08-09T22:19:44.690Z"
   },
   {
    "duration": -592,
    "start_time": "2021-08-09T22:20:23.363Z"
   },
   {
    "duration": -595,
    "start_time": "2021-08-09T22:20:23.367Z"
   },
   {
    "duration": -601,
    "start_time": "2021-08-09T22:20:23.374Z"
   },
   {
    "duration": -603,
    "start_time": "2021-08-09T22:20:23.377Z"
   },
   {
    "duration": -604,
    "start_time": "2021-08-09T22:20:23.380Z"
   },
   {
    "duration": -609,
    "start_time": "2021-08-09T22:20:23.386Z"
   },
   {
    "duration": -612,
    "start_time": "2021-08-09T22:20:23.390Z"
   },
   {
    "duration": -614,
    "start_time": "2021-08-09T22:20:23.393Z"
   },
   {
    "duration": -619,
    "start_time": "2021-08-09T22:20:23.400Z"
   },
   {
    "duration": -622,
    "start_time": "2021-08-09T22:20:23.404Z"
   },
   {
    "duration": -623,
    "start_time": "2021-08-09T22:20:23.406Z"
   },
   {
    "duration": -628,
    "start_time": "2021-08-09T22:20:23.413Z"
   },
   {
    "duration": -629,
    "start_time": "2021-08-09T22:20:23.415Z"
   },
   {
    "duration": -631,
    "start_time": "2021-08-09T22:20:23.418Z"
   },
   {
    "duration": -667,
    "start_time": "2021-08-09T22:20:23.456Z"
   },
   {
    "duration": -670,
    "start_time": "2021-08-09T22:20:23.460Z"
   },
   {
    "duration": -676,
    "start_time": "2021-08-09T22:20:23.467Z"
   },
   {
    "duration": -677,
    "start_time": "2021-08-09T22:20:23.470Z"
   },
   {
    "duration": -681,
    "start_time": "2021-08-09T22:20:23.475Z"
   },
   {
    "duration": -687,
    "start_time": "2021-08-09T22:20:23.482Z"
   },
   {
    "duration": -689,
    "start_time": "2021-08-09T22:20:23.485Z"
   },
   {
    "duration": -690,
    "start_time": "2021-08-09T22:20:23.488Z"
   },
   {
    "duration": -723,
    "start_time": "2021-08-09T22:20:23.522Z"
   },
   {
    "duration": -725,
    "start_time": "2021-08-09T22:20:23.525Z"
   },
   {
    "duration": -726,
    "start_time": "2021-08-09T22:20:23.528Z"
   },
   {
    "duration": -732,
    "start_time": "2021-08-09T22:20:23.535Z"
   },
   {
    "duration": -734,
    "start_time": "2021-08-09T22:20:23.538Z"
   },
   {
    "duration": -736,
    "start_time": "2021-08-09T22:20:23.542Z"
   },
   {
    "duration": -741,
    "start_time": "2021-08-09T22:20:23.548Z"
   },
   {
    "duration": -743,
    "start_time": "2021-08-09T22:20:23.551Z"
   },
   {
    "duration": -743,
    "start_time": "2021-08-09T22:20:23.553Z"
   },
   {
    "duration": -749,
    "start_time": "2021-08-09T22:20:23.560Z"
   },
   {
    "duration": -751,
    "start_time": "2021-08-09T22:20:23.563Z"
   },
   {
    "duration": -751,
    "start_time": "2021-08-09T22:20:23.565Z"
   },
   {
    "duration": -754,
    "start_time": "2021-08-09T22:20:23.569Z"
   },
   {
    "duration": -765,
    "start_time": "2021-08-09T22:20:23.581Z"
   },
   {
    "duration": -769,
    "start_time": "2021-08-09T22:20:23.587Z"
   },
   {
    "duration": -770,
    "start_time": "2021-08-09T22:20:23.589Z"
   },
   {
    "duration": -772,
    "start_time": "2021-08-09T22:20:23.592Z"
   },
   {
    "duration": -773,
    "start_time": "2021-08-09T22:20:23.595Z"
   },
   {
    "duration": 22,
    "start_time": "2021-08-09T22:25:03.956Z"
   },
   {
    "duration": 15,
    "start_time": "2021-08-09T22:26:19.566Z"
   },
   {
    "duration": 15,
    "start_time": "2021-08-09T22:26:31.783Z"
   },
   {
    "duration": 16,
    "start_time": "2021-08-09T22:26:40.271Z"
   },
   {
    "duration": 7,
    "start_time": "2021-08-09T22:27:40.176Z"
   },
   {
    "duration": 19,
    "start_time": "2021-08-09T22:27:40.186Z"
   },
   {
    "duration": 877,
    "start_time": "2021-08-09T22:27:40.209Z"
   },
   {
    "duration": 32,
    "start_time": "2021-08-09T22:27:41.089Z"
   },
   {
    "duration": 306,
    "start_time": "2021-08-09T22:27:41.123Z"
   },
   {
    "duration": 11,
    "start_time": "2021-08-09T22:27:41.432Z"
   },
   {
    "duration": 53,
    "start_time": "2021-08-09T22:27:41.447Z"
   },
   {
    "duration": 4,
    "start_time": "2021-08-09T22:27:41.506Z"
   },
   {
    "duration": 9,
    "start_time": "2021-08-09T22:27:41.514Z"
   },
   {
    "duration": 7,
    "start_time": "2021-08-09T22:27:41.525Z"
   },
   {
    "duration": 57308,
    "start_time": "2021-08-09T22:27:41.535Z"
   },
   {
    "duration": 5,
    "start_time": "2021-08-09T22:28:38.845Z"
   },
   {
    "duration": 1911,
    "start_time": "2021-08-09T22:28:38.852Z"
   },
   {
    "duration": 27,
    "start_time": "2021-08-09T22:28:40.766Z"
   },
   {
    "duration": 19,
    "start_time": "2021-08-09T22:28:40.796Z"
   },
   {
    "duration": 13,
    "start_time": "2021-08-09T22:28:40.818Z"
   },
   {
    "duration": 81,
    "start_time": "2021-08-09T22:28:40.833Z"
   },
   {
    "duration": 30,
    "start_time": "2021-08-09T22:28:40.916Z"
   },
   {
    "duration": 3,
    "start_time": "2021-08-09T22:28:40.948Z"
   },
   {
    "duration": 36,
    "start_time": "2021-08-09T22:28:40.953Z"
   },
   {
    "duration": 19,
    "start_time": "2021-08-09T22:28:40.991Z"
   },
   {
    "duration": 95,
    "start_time": "2021-08-09T22:28:41.012Z"
   },
   {
    "duration": 4,
    "start_time": "2021-08-09T22:28:41.112Z"
   },
   {
    "duration": 10,
    "start_time": "2021-08-09T22:28:41.119Z"
   },
   {
    "duration": 7,
    "start_time": "2021-08-09T22:28:41.132Z"
   },
   {
    "duration": 12,
    "start_time": "2021-08-09T22:28:41.141Z"
   },
   {
    "duration": 8,
    "start_time": "2021-08-09T22:28:41.155Z"
   },
   {
    "duration": 8,
    "start_time": "2021-08-09T22:28:41.185Z"
   },
   {
    "duration": 6,
    "start_time": "2021-08-09T22:28:41.196Z"
   },
   {
    "duration": 7,
    "start_time": "2021-08-09T22:28:41.204Z"
   },
   {
    "duration": 15,
    "start_time": "2021-08-09T22:28:41.213Z"
   },
   {
    "duration": 14,
    "start_time": "2021-08-09T22:28:41.230Z"
   },
   {
    "duration": 12,
    "start_time": "2021-08-09T22:28:41.246Z"
   },
   {
    "duration": 25,
    "start_time": "2021-08-09T22:28:41.260Z"
   },
   {
    "duration": -606,
    "start_time": "2021-08-09T22:29:56.552Z"
   },
   {
    "duration": -612,
    "start_time": "2021-08-09T22:29:56.559Z"
   },
   {
    "duration": -614,
    "start_time": "2021-08-09T22:29:56.562Z"
   },
   {
    "duration": -615,
    "start_time": "2021-08-09T22:29:56.564Z"
   },
   {
    "duration": -617,
    "start_time": "2021-08-09T22:29:56.567Z"
   },
   {
    "duration": -587,
    "start_time": "2021-08-09T22:29:56.573Z"
   },
   {
    "duration": -588,
    "start_time": "2021-08-09T22:29:56.576Z"
   },
   {
    "duration": -590,
    "start_time": "2021-08-09T22:29:56.579Z"
   },
   {
    "duration": -595,
    "start_time": "2021-08-09T22:29:56.585Z"
   },
   {
    "duration": -596,
    "start_time": "2021-08-09T22:29:56.588Z"
   },
   {
    "duration": -598,
    "start_time": "2021-08-09T22:29:56.591Z"
   },
   {
    "duration": -599,
    "start_time": "2021-08-09T22:29:56.594Z"
   },
   {
    "duration": -603,
    "start_time": "2021-08-09T22:29:56.599Z"
   },
   {
    "duration": -605,
    "start_time": "2021-08-09T22:29:56.602Z"
   },
   {
    "duration": -607,
    "start_time": "2021-08-09T22:29:56.605Z"
   },
   {
    "duration": -609,
    "start_time": "2021-08-09T22:29:56.608Z"
   },
   {
    "duration": -617,
    "start_time": "2021-08-09T22:29:56.618Z"
   },
   {
    "duration": -633,
    "start_time": "2021-08-09T22:29:56.635Z"
   },
   {
    "duration": -639,
    "start_time": "2021-08-09T22:29:56.642Z"
   },
   {
    "duration": -641,
    "start_time": "2021-08-09T22:29:56.645Z"
   },
   {
    "duration": -643,
    "start_time": "2021-08-09T22:29:56.648Z"
   },
   {
    "duration": -649,
    "start_time": "2021-08-09T22:29:56.655Z"
   },
   {
    "duration": -650,
    "start_time": "2021-08-09T22:29:56.658Z"
   },
   {
    "duration": -653,
    "start_time": "2021-08-09T22:29:56.662Z"
   },
   {
    "duration": -657,
    "start_time": "2021-08-09T22:29:56.667Z"
   },
   {
    "duration": -659,
    "start_time": "2021-08-09T22:29:56.670Z"
   },
   {
    "duration": -661,
    "start_time": "2021-08-09T22:29:56.673Z"
   },
   {
    "duration": -666,
    "start_time": "2021-08-09T22:29:56.679Z"
   },
   {
    "duration": -679,
    "start_time": "2021-08-09T22:29:56.693Z"
   },
   {
    "duration": -680,
    "start_time": "2021-08-09T22:29:56.696Z"
   },
   {
    "duration": -681,
    "start_time": "2021-08-09T22:29:56.698Z"
   },
   {
    "duration": -683,
    "start_time": "2021-08-09T22:29:56.701Z"
   },
   {
    "duration": -686,
    "start_time": "2021-08-09T22:29:56.706Z"
   },
   {
    "duration": -688,
    "start_time": "2021-08-09T22:29:56.709Z"
   },
   {
    "duration": -690,
    "start_time": "2021-08-09T22:29:56.712Z"
   },
   {
    "duration": -628,
    "start_time": "2021-08-09T22:29:56.715Z"
   },
   {
    "duration": -633,
    "start_time": "2021-08-09T22:29:56.721Z"
   },
   {
    "duration": -634,
    "start_time": "2021-08-09T22:29:56.723Z"
   },
   {
    "duration": -643,
    "start_time": "2021-08-09T22:29:56.734Z"
   },
   {
    "duration": -645,
    "start_time": "2021-08-09T22:29:56.737Z"
   },
   {
    "duration": -647,
    "start_time": "2021-08-09T22:29:56.740Z"
   },
   {
    "duration": -651,
    "start_time": "2021-08-09T22:29:56.745Z"
   },
   {
    "duration": -664,
    "start_time": "2021-08-09T22:29:56.759Z"
   },
   {
    "duration": -665,
    "start_time": "2021-08-09T22:29:56.761Z"
   },
   {
    "duration": -666,
    "start_time": "2021-08-09T22:29:56.764Z"
   },
   {
    "duration": -668,
    "start_time": "2021-08-09T22:29:56.767Z"
   },
   {
    "duration": -674,
    "start_time": "2021-08-09T22:29:56.774Z"
   },
   {
    "duration": -675,
    "start_time": "2021-08-09T22:29:56.776Z"
   },
   {
    "duration": -684,
    "start_time": "2021-08-09T22:29:56.787Z"
   },
   {
    "duration": -685,
    "start_time": "2021-08-09T22:29:56.789Z"
   },
   {
    "duration": -688,
    "start_time": "2021-08-09T22:29:56.793Z"
   },
   {
    "duration": 7,
    "start_time": "2021-08-09T22:30:06.428Z"
   },
   {
    "duration": 46,
    "start_time": "2021-08-09T22:30:06.438Z"
   },
   {
    "duration": 824,
    "start_time": "2021-08-09T22:30:06.487Z"
   },
   {
    "duration": 32,
    "start_time": "2021-08-09T22:30:07.314Z"
   },
   {
    "duration": 313,
    "start_time": "2021-08-09T22:30:07.348Z"
   },
   {
    "duration": 26,
    "start_time": "2021-08-09T22:30:07.663Z"
   },
   {
    "duration": 26,
    "start_time": "2021-08-09T22:30:07.691Z"
   },
   {
    "duration": 7,
    "start_time": "2021-08-09T22:30:07.721Z"
   },
   {
    "duration": 10,
    "start_time": "2021-08-09T22:30:07.731Z"
   },
   {
    "duration": 11,
    "start_time": "2021-08-09T22:30:07.743Z"
   },
   {
    "duration": 55592,
    "start_time": "2021-08-09T22:30:07.756Z"
   },
   {
    "duration": 4,
    "start_time": "2021-08-09T22:31:03.351Z"
   },
   {
    "duration": 1889,
    "start_time": "2021-08-09T22:31:03.358Z"
   },
   {
    "duration": 15,
    "start_time": "2021-08-09T22:31:05.250Z"
   },
   {
    "duration": 28,
    "start_time": "2021-08-09T22:31:05.268Z"
   },
   {
    "duration": 22,
    "start_time": "2021-08-09T22:31:05.299Z"
   },
   {
    "duration": 71,
    "start_time": "2021-08-09T22:31:05.324Z"
   },
   {
    "duration": 32,
    "start_time": "2021-08-09T22:31:05.397Z"
   },
   {
    "duration": 3,
    "start_time": "2021-08-09T22:31:05.431Z"
   },
   {
    "duration": 19,
    "start_time": "2021-08-09T22:31:05.437Z"
   },
   {
    "duration": 33,
    "start_time": "2021-08-09T22:31:05.459Z"
   },
   {
    "duration": 92,
    "start_time": "2021-08-09T22:31:05.495Z"
   },
   {
    "duration": 4,
    "start_time": "2021-08-09T22:31:05.594Z"
   },
   {
    "duration": 22,
    "start_time": "2021-08-09T22:31:05.601Z"
   },
   {
    "duration": 31,
    "start_time": "2021-08-09T22:31:05.625Z"
   },
   {
    "duration": 44,
    "start_time": "2021-08-09T22:31:05.658Z"
   },
   {
    "duration": 32,
    "start_time": "2021-08-09T22:31:05.705Z"
   },
   {
    "duration": 29,
    "start_time": "2021-08-09T22:31:05.740Z"
   },
   {
    "duration": 21,
    "start_time": "2021-08-09T22:31:05.772Z"
   },
   {
    "duration": 19,
    "start_time": "2021-08-09T22:31:05.796Z"
   },
   {
    "duration": 28,
    "start_time": "2021-08-09T22:31:05.818Z"
   },
   {
    "duration": 30,
    "start_time": "2021-08-09T22:31:05.849Z"
   },
   {
    "duration": 23,
    "start_time": "2021-08-09T22:31:05.882Z"
   },
   {
    "duration": 32,
    "start_time": "2021-08-09T22:31:05.907Z"
   },
   {
    "duration": 307690,
    "start_time": "2021-08-09T22:31:05.942Z"
   },
   {
    "duration": 92137,
    "start_time": "2021-08-09T22:36:13.634Z"
   },
   {
    "duration": 2,
    "start_time": "2021-08-09T22:37:45.774Z"
   },
   {
    "duration": 3,
    "start_time": "2021-08-09T22:37:45.786Z"
   },
   {
    "duration": 7,
    "start_time": "2021-08-09T22:37:45.792Z"
   },
   {
    "duration": 1927706,
    "start_time": "2021-08-09T22:37:45.801Z"
   },
   {
    "duration": 3,
    "start_time": "2021-08-09T23:09:53.509Z"
   },
   {
    "duration": 7,
    "start_time": "2021-08-09T23:09:53.515Z"
   },
   {
    "duration": 70,
    "start_time": "2021-08-09T23:09:53.524Z"
   },
   {
    "duration": 9,
    "start_time": "2021-08-09T23:09:53.596Z"
   },
   {
    "duration": 3645,
    "start_time": "2021-08-09T23:09:53.607Z"
   },
   {
    "duration": 3934,
    "start_time": "2021-08-09T23:09:57.255Z"
   },
   {
    "duration": 2,
    "start_time": "2021-08-09T23:10:01.192Z"
   },
   {
    "duration": 25,
    "start_time": "2021-08-09T23:10:01.197Z"
   },
   {
    "duration": 13221,
    "start_time": "2021-08-09T23:10:01.224Z"
   },
   {
    "duration": 18292,
    "start_time": "2021-08-09T23:10:14.448Z"
   },
   {
    "duration": 11,
    "start_time": "2021-08-09T23:10:32.742Z"
   },
   {
    "duration": 16,
    "start_time": "2021-08-10T02:24:43.465Z"
   },
   {
    "duration": 1149,
    "start_time": "2021-08-10T02:26:00.704Z"
   },
   {
    "duration": 10533,
    "start_time": "2021-08-10T02:26:44.858Z"
   },
   {
    "duration": 80,
    "start_time": "2021-08-22T15:32:10.403Z"
   },
   {
    "duration": 243799,
    "start_time": "2021-08-22T15:41:37.246Z"
   },
   {
    "duration": 6703,
    "start_time": "2021-08-22T15:45:41.047Z"
   },
   {
    "duration": 1525,
    "start_time": "2021-08-22T15:45:47.752Z"
   },
   {
    "duration": 2,
    "start_time": "2021-08-22T15:45:49.279Z"
   },
   {
    "duration": 575,
    "start_time": "2021-08-22T15:45:49.283Z"
   },
   {
    "duration": 17,
    "start_time": "2021-08-22T15:45:49.859Z"
   },
   {
    "duration": 217,
    "start_time": "2021-08-22T15:45:49.877Z"
   },
   {
    "duration": 7,
    "start_time": "2021-08-22T15:45:50.097Z"
   },
   {
    "duration": 20,
    "start_time": "2021-08-22T15:45:50.106Z"
   },
   {
    "duration": 3,
    "start_time": "2021-08-22T15:45:50.128Z"
   },
   {
    "duration": 7,
    "start_time": "2021-08-22T15:45:50.133Z"
   },
   {
    "duration": 8,
    "start_time": "2021-08-22T15:45:50.141Z"
   },
   {
    "duration": 27399,
    "start_time": "2021-08-22T15:45:50.150Z"
   },
   {
    "duration": 3,
    "start_time": "2021-08-22T15:46:17.551Z"
   },
   {
    "duration": 1136,
    "start_time": "2021-08-22T15:46:17.555Z"
   },
   {
    "duration": 12,
    "start_time": "2021-08-22T15:46:18.692Z"
   },
   {
    "duration": 14,
    "start_time": "2021-08-22T15:46:18.705Z"
   },
   {
    "duration": 8,
    "start_time": "2021-08-22T15:46:18.721Z"
   },
   {
    "duration": 23,
    "start_time": "2021-08-22T15:46:18.731Z"
   },
   {
    "duration": 5,
    "start_time": "2021-08-22T15:46:18.755Z"
   },
   {
    "duration": 36,
    "start_time": "2021-08-22T15:46:18.762Z"
   },
   {
    "duration": 53,
    "start_time": "2021-08-22T15:46:18.800Z"
   },
   {
    "duration": 3,
    "start_time": "2021-08-22T15:46:18.856Z"
   },
   {
    "duration": 4,
    "start_time": "2021-08-22T15:46:18.861Z"
   },
   {
    "duration": 4,
    "start_time": "2021-08-22T15:46:18.866Z"
   },
   {
    "duration": 19,
    "start_time": "2021-08-22T15:46:18.872Z"
   },
   {
    "duration": 7,
    "start_time": "2021-08-22T15:46:18.892Z"
   },
   {
    "duration": 7,
    "start_time": "2021-08-22T15:46:18.901Z"
   },
   {
    "duration": 9,
    "start_time": "2021-08-22T15:46:18.909Z"
   },
   {
    "duration": 9,
    "start_time": "2021-08-22T15:46:18.919Z"
   },
   {
    "duration": 9,
    "start_time": "2021-08-22T15:46:18.929Z"
   },
   {
    "duration": 8,
    "start_time": "2021-08-22T15:46:18.939Z"
   },
   {
    "duration": 12,
    "start_time": "2021-08-22T15:46:18.948Z"
   },
   {
    "duration": 8,
    "start_time": "2021-08-22T15:46:18.961Z"
   },
   {
    "duration": 215626,
    "start_time": "2021-08-22T15:46:18.970Z"
   },
   {
    "duration": 54630,
    "start_time": "2021-08-22T15:49:54.597Z"
   },
   {
    "duration": 2,
    "start_time": "2021-08-22T15:50:49.229Z"
   },
   {
    "duration": 10,
    "start_time": "2021-08-22T15:50:49.232Z"
   },
   {
    "duration": 6,
    "start_time": "2021-08-22T15:50:49.243Z"
   },
   {
    "duration": 2668462,
    "start_time": "2021-08-22T15:50:49.251Z"
   },
   {
    "duration": 5,
    "start_time": "2021-08-22T16:35:17.715Z"
   },
   {
    "duration": 7,
    "start_time": "2021-08-22T16:35:17.721Z"
   },
   {
    "duration": 1999,
    "start_time": "2021-08-22T16:35:17.792Z"
   },
   {
    "duration": 2027,
    "start_time": "2021-08-22T16:35:19.793Z"
   },
   {
    "duration": 2,
    "start_time": "2021-08-22T16:35:21.821Z"
   },
   {
    "duration": 5,
    "start_time": "2021-08-22T16:35:21.825Z"
   },
   {
    "duration": 329,
    "start_time": "2021-08-22T16:35:21.831Z"
   },
   {
    "duration": -758,
    "start_time": "2021-08-22T16:35:22.920Z"
   },
   {
    "duration": -882,
    "start_time": "2021-08-22T16:35:23.045Z"
   },
   {
    "duration": 8463,
    "start_time": "2021-08-22T16:42:52.066Z"
   },
   {
    "duration": 7,
    "start_time": "2021-08-22T16:43:05.322Z"
   },
   {
    "duration": 357786,
    "start_time": "2021-08-23T16:39:28.029Z"
   },
   {
    "duration": 12935,
    "start_time": "2021-08-23T16:45:25.818Z"
   },
   {
    "duration": 2568,
    "start_time": "2021-08-23T16:45:38.756Z"
   },
   {
    "duration": 3,
    "start_time": "2021-08-23T16:45:41.327Z"
   },
   {
    "duration": 772,
    "start_time": "2021-08-23T16:45:41.333Z"
   },
   {
    "duration": 32,
    "start_time": "2021-08-23T16:45:42.107Z"
   },
   {
    "duration": 302,
    "start_time": "2021-08-23T16:45:42.142Z"
   },
   {
    "duration": 9,
    "start_time": "2021-08-23T16:45:42.447Z"
   },
   {
    "duration": 39,
    "start_time": "2021-08-23T16:45:42.460Z"
   },
   {
    "duration": 3,
    "start_time": "2021-08-23T16:45:42.502Z"
   },
   {
    "duration": 8,
    "start_time": "2021-08-23T16:45:42.508Z"
   },
   {
    "duration": 8,
    "start_time": "2021-08-23T16:45:42.518Z"
   },
   {
    "duration": 58068,
    "start_time": "2021-08-23T16:45:42.528Z"
   },
   {
    "duration": 5,
    "start_time": "2021-08-23T16:46:40.598Z"
   },
   {
    "duration": 1891,
    "start_time": "2021-08-23T16:46:40.605Z"
   },
   {
    "duration": 17,
    "start_time": "2021-08-23T16:46:42.498Z"
   },
   {
    "duration": 24,
    "start_time": "2021-08-23T16:46:42.517Z"
   },
   {
    "duration": 49,
    "start_time": "2021-08-23T16:46:42.544Z"
   },
   {
    "duration": 36,
    "start_time": "2021-08-23T16:46:42.596Z"
   },
   {
    "duration": 11,
    "start_time": "2021-08-23T16:46:42.635Z"
   },
   {
    "duration": 45,
    "start_time": "2021-08-23T16:46:42.649Z"
   },
   {
    "duration": 96,
    "start_time": "2021-08-23T16:46:42.697Z"
   },
   {
    "duration": 5,
    "start_time": "2021-08-23T16:46:42.796Z"
   },
   {
    "duration": 8,
    "start_time": "2021-08-23T16:46:42.803Z"
   },
   {
    "duration": 6,
    "start_time": "2021-08-23T16:46:42.813Z"
   },
   {
    "duration": 7,
    "start_time": "2021-08-23T16:46:42.821Z"
   },
   {
    "duration": 4,
    "start_time": "2021-08-23T16:46:42.833Z"
   },
   {
    "duration": 5,
    "start_time": "2021-08-23T16:46:42.840Z"
   },
   {
    "duration": 39,
    "start_time": "2021-08-23T16:46:42.847Z"
   },
   {
    "duration": 8,
    "start_time": "2021-08-23T16:46:42.888Z"
   },
   {
    "duration": 8,
    "start_time": "2021-08-23T16:46:42.899Z"
   },
   {
    "duration": 14,
    "start_time": "2021-08-23T16:46:42.910Z"
   },
   {
    "duration": 8,
    "start_time": "2021-08-23T16:46:42.926Z"
   },
   {
    "duration": 8,
    "start_time": "2021-08-23T16:46:42.936Z"
   },
   {
    "duration": 304990,
    "start_time": "2021-08-23T16:46:42.946Z"
   },
   {
    "duration": 91268,
    "start_time": "2021-08-23T16:51:47.939Z"
   },
   {
    "duration": 3,
    "start_time": "2021-08-23T16:53:19.210Z"
   },
   {
    "duration": 9,
    "start_time": "2021-08-23T16:53:19.216Z"
   },
   {
    "duration": 10,
    "start_time": "2021-08-23T16:53:19.228Z"
   },
   {
    "duration": 2857560,
    "start_time": "2021-08-23T16:53:19.241Z"
   },
   {
    "duration": 8,
    "start_time": "2021-08-23T17:40:56.804Z"
   },
   {
    "duration": 9,
    "start_time": "2021-08-23T17:40:56.815Z"
   },
   {
    "duration": 3950,
    "start_time": "2021-08-23T17:40:56.826Z"
   },
   {
    "duration": 3944,
    "start_time": "2021-08-23T17:41:00.778Z"
   },
   {
    "duration": 4,
    "start_time": "2021-08-23T17:41:04.724Z"
   },
   {
    "duration": 10,
    "start_time": "2021-08-23T17:41:04.731Z"
   },
   {
    "duration": 26,
    "start_time": "2021-08-23T17:41:04.743Z"
   },
   {
    "duration": 18330,
    "start_time": "2021-08-23T17:41:04.772Z"
   },
   {
    "duration": 16,
    "start_time": "2021-08-23T17:41:23.106Z"
   }
  ],
  "kernelspec": {
   "display_name": "Python 3",
   "language": "python",
   "name": "python3"
  },
  "language_info": {
   "codemirror_mode": {
    "name": "ipython",
    "version": 3
   },
   "file_extension": ".py",
   "mimetype": "text/x-python",
   "name": "python",
   "nbconvert_exporter": "python",
   "pygments_lexer": "ipython3",
   "version": "3.7.8"
  },
  "toc": {
   "base_numbering": 1,
   "nav_menu": {},
   "number_sections": true,
   "sideBar": true,
   "skip_h1_title": true,
   "title_cell": "Порядок работы",
   "title_sidebar": "Contents",
   "toc_cell": true,
   "toc_position": {
    "height": "calc(100% - 180px)",
    "left": "10px",
    "top": "150px",
    "width": "302.391px"
   },
   "toc_section_display": true,
   "toc_window_display": false
  }
 },
 "nbformat": 4,
 "nbformat_minor": 2
}
