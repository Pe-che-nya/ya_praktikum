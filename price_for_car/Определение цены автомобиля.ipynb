{
 "cells": [
  {
   "cell_type": "markdown",
   "metadata": {},
   "source": [
    "# Определение стоимости автомобилей"
   ]
  },
  {
   "cell_type": "markdown",
   "metadata": {},
   "source": [
    "Цель проекта: предоставить модель машинного обучения для определения стоимости б\\у автомобиля. В качестве метрики качества выбрать RSME. Наилучшую модель выбрать исходя из качества предсказания, скорости обучения и время обучения."
   ]
  },
  {
   "cell_type": "markdown",
   "metadata": {},
   "source": [
    "Порядок работы представлен ниже"
   ]
  },
  {
   "cell_type": "markdown",
   "metadata": {
    "toc": true
   },
   "source": [
    "<h1>Порядок работы<span class=\"tocSkip\"></span></h1>\n",
    "<div class=\"toc\"><ul class=\"toc-item\"><li><span><a href=\"#Подготовка-данных\" data-toc-modified-id=\"Подготовка-данных-1\"><span class=\"toc-item-num\">1&nbsp;&nbsp;</span>Подготовка данных</a></span><ul class=\"toc-item\"><li><span><a href=\"#Отберем-значимые-и-незначимые-признаки\" data-toc-modified-id=\"Отберем-значимые-и-незначимые-признаки-1.1\"><span class=\"toc-item-num\">1.1&nbsp;&nbsp;</span>Отберем значимые и незначимые признаки</a></span></li><li><span><a href=\"#Дублирующие-значения\" data-toc-modified-id=\"Дублирующие-значения-1.2\"><span class=\"toc-item-num\">1.2&nbsp;&nbsp;</span>Дублирующие значения</a></span></li><li><span><a href=\"#Обработка-нулей\" data-toc-modified-id=\"Обработка-нулей-1.3\"><span class=\"toc-item-num\">1.3&nbsp;&nbsp;</span>Обработка нулей</a></span></li><li><span><a href=\"#обработка-пропусков\" data-toc-modified-id=\"обработка-пропусков-1.4\"><span class=\"toc-item-num\">1.4&nbsp;&nbsp;</span>обработка пропусков</a></span></li><li><span><a href=\"#Коррекция-типов-данных\" data-toc-modified-id=\"Коррекция-типов-данных-1.5\"><span class=\"toc-item-num\">1.5&nbsp;&nbsp;</span>Коррекция типов данных</a></span></li><li><span><a href=\"#Кодирование-данных\" data-toc-modified-id=\"Кодирование-данных-1.6\"><span class=\"toc-item-num\">1.6&nbsp;&nbsp;</span>Кодирование данных</a></span></li></ul></li><li><span><a href=\"#Обучение-моделей\" data-toc-modified-id=\"Обучение-моделей-2\"><span class=\"toc-item-num\">2&nbsp;&nbsp;</span>Обучение моделей</a></span><ul class=\"toc-item\"><li><span><a href=\"#подготовка-к-обучению\" data-toc-modified-id=\"подготовка-к-обучению-2.1\"><span class=\"toc-item-num\">2.1&nbsp;&nbsp;</span>подготовка к обучению</a></span></li><li><span><a href=\"#Обучение-линейной-регрессией\" data-toc-modified-id=\"Обучение-линейной-регрессией-2.2\"><span class=\"toc-item-num\">2.2&nbsp;&nbsp;</span>Обучение линейной регрессией</a></span></li><li><span><a href=\"#Обучение-случайным-лесом\" data-toc-modified-id=\"Обучение-случайным-лесом-2.3\"><span class=\"toc-item-num\">2.3&nbsp;&nbsp;</span>Обучение случайным лесом</a></span></li><li><span><a href=\"#обучение-CatBoost\" data-toc-modified-id=\"обучение-CatBoost-2.4\"><span class=\"toc-item-num\">2.4&nbsp;&nbsp;</span>обучение CatBoost</a></span></li><li><span><a href=\"#обучение-lgbLight\" data-toc-modified-id=\"обучение-lgbLight-2.5\"><span class=\"toc-item-num\">2.5&nbsp;&nbsp;</span>обучение lgbLight</a></span></li><li><span><a href=\"#Итог-обучения\" data-toc-modified-id=\"Итог-обучения-2.6\"><span class=\"toc-item-num\">2.6&nbsp;&nbsp;</span>Итог обучения</a></span></li></ul></li><li><span><a href=\"#Анализ-моделей\" data-toc-modified-id=\"Анализ-моделей-3\"><span class=\"toc-item-num\">3&nbsp;&nbsp;</span>Анализ моделей</a></span></li><li><span><a href=\"#Вывод\" data-toc-modified-id=\"Вывод-4\"><span class=\"toc-item-num\">4&nbsp;&nbsp;</span>Вывод</a></span></li></ul></div>"
   ]
  },
  {
   "cell_type": "code",
   "execution_count": 1,
   "metadata": {},
   "outputs": [],
   "source": [
    "import pandas as pd\n",
    "import copy\n",
    "import matplotlib.pyplot as plt\n",
    "from array import array \n",
    "import numpy as np\n",
    "from sklearn.preprocessing import OrdinalEncoder \n",
    "from sklearn.model_selection import train_test_split\n",
    "from sklearn.metrics import make_scorer\n",
    "from sklearn.metrics import mean_squared_error\n",
    "from sklearn.linear_model import LinearRegression\n",
    "from sklearn.model_selection import GridSearchCV\n",
    "from sklearn.ensemble import RandomForestRegressor\n",
    "from catboost import CatBoostRegressor\n",
    "from lightgbm import LGBMRegressor\n",
    "import lightgbm as lgb\n",
    "import timeit"
   ]
  },
  {
   "cell_type": "markdown",
   "metadata": {},
   "source": [
    "## Подготовка данных"
   ]
  },
  {
   "cell_type": "markdown",
   "metadata": {},
   "source": [
    "Рассмотрим данные"
   ]
  },
  {
   "cell_type": "code",
   "execution_count": 2,
   "metadata": {},
   "outputs": [],
   "source": [
    "data=pd.read_csv('')"
   ]
  },
  {
   "cell_type": "code",
   "execution_count": 3,
   "metadata": {
    "scrolled": true
   },
   "outputs": [
    {
     "data": {
      "text/html": [
       "<div>\n",
       "<style scoped>\n",
       "    .dataframe tbody tr th:only-of-type {\n",
       "        vertical-align: middle;\n",
       "    }\n",
       "\n",
       "    .dataframe tbody tr th {\n",
       "        vertical-align: top;\n",
       "    }\n",
       "\n",
       "    .dataframe thead th {\n",
       "        text-align: right;\n",
       "    }\n",
       "</style>\n",
       "<table border=\"1\" class=\"dataframe\">\n",
       "  <thead>\n",
       "    <tr style=\"text-align: right;\">\n",
       "      <th></th>\n",
       "      <th>DateCrawled</th>\n",
       "      <th>Price</th>\n",
       "      <th>VehicleType</th>\n",
       "      <th>RegistrationYear</th>\n",
       "      <th>Gearbox</th>\n",
       "      <th>Power</th>\n",
       "      <th>Model</th>\n",
       "      <th>Kilometer</th>\n",
       "      <th>RegistrationMonth</th>\n",
       "      <th>FuelType</th>\n",
       "      <th>Brand</th>\n",
       "      <th>NotRepaired</th>\n",
       "      <th>DateCreated</th>\n",
       "      <th>NumberOfPictures</th>\n",
       "      <th>PostalCode</th>\n",
       "      <th>LastSeen</th>\n",
       "    </tr>\n",
       "  </thead>\n",
       "  <tbody>\n",
       "    <tr>\n",
       "      <td>0</td>\n",
       "      <td>2016-03-24 11:52:17</td>\n",
       "      <td>480</td>\n",
       "      <td>NaN</td>\n",
       "      <td>1993</td>\n",
       "      <td>manual</td>\n",
       "      <td>0</td>\n",
       "      <td>golf</td>\n",
       "      <td>150000</td>\n",
       "      <td>0</td>\n",
       "      <td>petrol</td>\n",
       "      <td>volkswagen</td>\n",
       "      <td>NaN</td>\n",
       "      <td>2016-03-24 00:00:00</td>\n",
       "      <td>0</td>\n",
       "      <td>70435</td>\n",
       "      <td>2016-04-07 03:16:57</td>\n",
       "    </tr>\n",
       "    <tr>\n",
       "      <td>1</td>\n",
       "      <td>2016-03-24 10:58:45</td>\n",
       "      <td>18300</td>\n",
       "      <td>coupe</td>\n",
       "      <td>2011</td>\n",
       "      <td>manual</td>\n",
       "      <td>190</td>\n",
       "      <td>NaN</td>\n",
       "      <td>125000</td>\n",
       "      <td>5</td>\n",
       "      <td>gasoline</td>\n",
       "      <td>audi</td>\n",
       "      <td>yes</td>\n",
       "      <td>2016-03-24 00:00:00</td>\n",
       "      <td>0</td>\n",
       "      <td>66954</td>\n",
       "      <td>2016-04-07 01:46:50</td>\n",
       "    </tr>\n",
       "    <tr>\n",
       "      <td>2</td>\n",
       "      <td>2016-03-14 12:52:21</td>\n",
       "      <td>9800</td>\n",
       "      <td>suv</td>\n",
       "      <td>2004</td>\n",
       "      <td>auto</td>\n",
       "      <td>163</td>\n",
       "      <td>grand</td>\n",
       "      <td>125000</td>\n",
       "      <td>8</td>\n",
       "      <td>gasoline</td>\n",
       "      <td>jeep</td>\n",
       "      <td>NaN</td>\n",
       "      <td>2016-03-14 00:00:00</td>\n",
       "      <td>0</td>\n",
       "      <td>90480</td>\n",
       "      <td>2016-04-05 12:47:46</td>\n",
       "    </tr>\n",
       "    <tr>\n",
       "      <td>3</td>\n",
       "      <td>2016-03-17 16:54:04</td>\n",
       "      <td>1500</td>\n",
       "      <td>small</td>\n",
       "      <td>2001</td>\n",
       "      <td>manual</td>\n",
       "      <td>75</td>\n",
       "      <td>golf</td>\n",
       "      <td>150000</td>\n",
       "      <td>6</td>\n",
       "      <td>petrol</td>\n",
       "      <td>volkswagen</td>\n",
       "      <td>no</td>\n",
       "      <td>2016-03-17 00:00:00</td>\n",
       "      <td>0</td>\n",
       "      <td>91074</td>\n",
       "      <td>2016-03-17 17:40:17</td>\n",
       "    </tr>\n",
       "    <tr>\n",
       "      <td>4</td>\n",
       "      <td>2016-03-31 17:25:20</td>\n",
       "      <td>3600</td>\n",
       "      <td>small</td>\n",
       "      <td>2008</td>\n",
       "      <td>manual</td>\n",
       "      <td>69</td>\n",
       "      <td>fabia</td>\n",
       "      <td>90000</td>\n",
       "      <td>7</td>\n",
       "      <td>gasoline</td>\n",
       "      <td>skoda</td>\n",
       "      <td>no</td>\n",
       "      <td>2016-03-31 00:00:00</td>\n",
       "      <td>0</td>\n",
       "      <td>60437</td>\n",
       "      <td>2016-04-06 10:17:21</td>\n",
       "    </tr>\n",
       "  </tbody>\n",
       "</table>\n",
       "</div>"
      ],
      "text/plain": [
       "           DateCrawled  Price VehicleType  RegistrationYear Gearbox  Power  \\\n",
       "0  2016-03-24 11:52:17    480         NaN              1993  manual      0   \n",
       "1  2016-03-24 10:58:45  18300       coupe              2011  manual    190   \n",
       "2  2016-03-14 12:52:21   9800         suv              2004    auto    163   \n",
       "3  2016-03-17 16:54:04   1500       small              2001  manual     75   \n",
       "4  2016-03-31 17:25:20   3600       small              2008  manual     69   \n",
       "\n",
       "   Model  Kilometer  RegistrationMonth  FuelType       Brand NotRepaired  \\\n",
       "0   golf     150000                  0    petrol  volkswagen         NaN   \n",
       "1    NaN     125000                  5  gasoline        audi         yes   \n",
       "2  grand     125000                  8  gasoline        jeep         NaN   \n",
       "3   golf     150000                  6    petrol  volkswagen          no   \n",
       "4  fabia      90000                  7  gasoline       skoda          no   \n",
       "\n",
       "           DateCreated  NumberOfPictures  PostalCode             LastSeen  \n",
       "0  2016-03-24 00:00:00                 0       70435  2016-04-07 03:16:57  \n",
       "1  2016-03-24 00:00:00                 0       66954  2016-04-07 01:46:50  \n",
       "2  2016-03-14 00:00:00                 0       90480  2016-04-05 12:47:46  \n",
       "3  2016-03-17 00:00:00                 0       91074  2016-03-17 17:40:17  \n",
       "4  2016-03-31 00:00:00                 0       60437  2016-04-06 10:17:21  "
      ]
     },
     "execution_count": 3,
     "metadata": {},
     "output_type": "execute_result"
    }
   ],
   "source": [
    "data.head(5)"
   ]
  },
  {
   "cell_type": "markdown",
   "metadata": {},
   "source": [
    "Опишем каждый признак и выделем целевой\n",
    "\n",
    ">__DateCrawled__-дата скачивания анкеты из базы\n",
    ">\n",
    ">__VehicleType__ -тип кузова\n",
    ">\n",
    ">__RegistrationYear__ - год регистрации автомобиля\n",
    ">\n",
    ">__Gearbox__ - тип коробки передачи\n",
    ">\n",
    ">__Power__ — мощность (л. с.)\n",
    ">\n",
    ">__Model__ — модель автомобиля\n",
    ">\n",
    ">__Kilometer__ — пробег (км)\n",
    ">\n",
    ">__RegistrationMonth__ — месяц регистрации автомобиля\n",
    ">\n",
    ">__FuelType__ — тип топлива\n",
    ">\n",
    ">__Brand__ — марка автомобиля\n",
    ">\n",
    ">__NotRepaired__ — была машина в ремонте или нет\n",
    ">\n",
    ">__DateCreated__ — дата создания анкеты\n",
    ">\n",
    ">__NumberOfPictures__ — количество фотографий автомобиля\n",
    ">\n",
    ">__PostalCode__ — почтовый индекс владельца анкеты (пользователя)\n",
    ">\n",
    ">__LastSeen__ — дата последней активности пользователя"
   ]
  },
  {
   "cell_type": "markdown",
   "metadata": {},
   "source": [
    "Целевым признаком здесь будет цена т.е.:\n",
    "\n",
    ">__Price__ - цена (евро)"
   ]
  },
  {
   "cell_type": "code",
   "execution_count": 4,
   "metadata": {},
   "outputs": [
    {
     "name": "stdout",
     "output_type": "stream",
     "text": [
      "<class 'pandas.core.frame.DataFrame'>\n",
      "RangeIndex: 354369 entries, 0 to 354368\n",
      "Data columns (total 16 columns):\n",
      "DateCrawled          354369 non-null object\n",
      "Price                354369 non-null int64\n",
      "VehicleType          316879 non-null object\n",
      "RegistrationYear     354369 non-null int64\n",
      "Gearbox              334536 non-null object\n",
      "Power                354369 non-null int64\n",
      "Model                334664 non-null object\n",
      "Kilometer            354369 non-null int64\n",
      "RegistrationMonth    354369 non-null int64\n",
      "FuelType             321474 non-null object\n",
      "Brand                354369 non-null object\n",
      "NotRepaired          283215 non-null object\n",
      "DateCreated          354369 non-null object\n",
      "NumberOfPictures     354369 non-null int64\n",
      "PostalCode           354369 non-null int64\n",
      "LastSeen             354369 non-null object\n",
      "dtypes: int64(7), object(9)\n",
      "memory usage: 43.3+ MB\n"
     ]
    }
   ],
   "source": [
    "data.info()"
   ]
  },
  {
   "cell_type": "code",
   "execution_count": 5,
   "metadata": {},
   "outputs": [],
   "source": [
    "data_for_learn=copy.copy(data)"
   ]
  },
  {
   "cell_type": "markdown",
   "metadata": {},
   "source": [
    "### Отберем значимые и незначимые признаки"
   ]
  },
  {
   "cell_type": "markdown",
   "metadata": {},
   "source": [
    "удалим не значимые признаки:\n",
    "\n",
    ">__numberOfPicture__ - этот показатель может быть значим для дальнейшей обработки, чтобы определить сколько нужно выложиить фото чтобы цена была такая то, однако в данной проекте стоит задача моментально узнать цену автомобиля, до размещения, поэтому для данной задачи этот столбец не нужен\n",
    ">    \n",
    ">__PostalCode__ -почтовый индекс также несет мало информации о стоимости автомобиля\n",
    ">\n",
    ">__LastSeen__- последняя активность также неcет мало пользы.\n",
    ">    \n",
    "__DateCrawled__-также несет мало информации для определения стомости автомобиля\n",
    ">    \n",
    ">__RegistrationMonth__ -месяц регистрации также несет мало информации\n",
    ">    \n",
    "> Также мало информации сами по себе несут столбцы DateCreated (дата скачивания анкеты) и RegistrationYear (год регистрации). Однако из этих данных можно выделить другой полезный признак - возраст машины \n",
    "    "
   ]
  },
  {
   "cell_type": "markdown",
   "metadata": {},
   "source": [
    "Удаляем незначимые признаки (DateCreated и RegistrationYear) удалим позже, проведя соответсвующую обработку"
   ]
  },
  {
   "cell_type": "code",
   "execution_count": 6,
   "metadata": {},
   "outputs": [],
   "source": [
    "data_for_learn.drop(['NumberOfPictures','LastSeen','PostalCode','RegistrationMonth','DateCrawled'],axis=1,inplace=True)"
   ]
  },
  {
   "cell_type": "markdown",
   "metadata": {},
   "source": [
    "Рассмотрим как распредлены значения RegistrationYear "
   ]
  },
  {
   "cell_type": "code",
   "execution_count": 7,
   "metadata": {},
   "outputs": [
    {
     "data": {
      "text/plain": [
       "count    354369.000000\n",
       "mean       2004.234448\n",
       "std          90.227958\n",
       "min        1000.000000\n",
       "25%        1999.000000\n",
       "50%        2003.000000\n",
       "75%        2008.000000\n",
       "max        9999.000000\n",
       "Name: RegistrationYear, dtype: float64"
      ]
     },
     "execution_count": 7,
     "metadata": {},
     "output_type": "execute_result"
    }
   ],
   "source": [
    "data_for_learn.RegistrationYear.describe()"
   ]
  },
  {
   "cell_type": "markdown",
   "metadata": {},
   "source": [
    "Очевидно что существуют очень выбивающиеся значения."
   ]
  },
  {
   "cell_type": "markdown",
   "metadata": {},
   "source": [
    "нужно опредилиться в каком диапазоне считать значение года регистрации адекватными"
   ]
  },
  {
   "cell_type": "markdown",
   "metadata": {},
   "source": [
    "один из криитериев адекватности это то, что год регистрации не может быть выше чем год когда выставляли объявлнение"
   ]
  },
  {
   "cell_type": "markdown",
   "metadata": {},
   "source": [
    "Для этого оставим в признаки DateCreated только составляющую года"
   ]
  },
  {
   "cell_type": "code",
   "execution_count": 8,
   "metadata": {},
   "outputs": [],
   "source": [
    "data_for_learn['DateCreated']=(\n",
    "    pd.DatetimeIndex(data_for_learn['DateCreated']).year)"
   ]
  },
  {
   "cell_type": "markdown",
   "metadata": {},
   "source": [
    "Теперь сравним занчения даты закрузки и регистрации, считая, что дата загрузки представлена без ошибок. Те значения, которые не будт совпадать сделаем nan"
   ]
  },
  {
   "cell_type": "code",
   "execution_count": 9,
   "metadata": {},
   "outputs": [],
   "source": [
    "def func(row):\n",
    "    x=row['DateCreated']\n",
    "    y=row['RegistrationYear']\n",
    "    if y>x:\n",
    "        return np.nan\n",
    "    return y"
   ]
  },
  {
   "cell_type": "code",
   "execution_count": 10,
   "metadata": {},
   "outputs": [],
   "source": [
    "data_for_learn['RegistrationYear']=data_for_learn.apply(func,axis=1)"
   ]
  },
  {
   "cell_type": "code",
   "execution_count": 11,
   "metadata": {},
   "outputs": [
    {
     "data": {
      "text/plain": [
       "count    339839.000000\n",
       "mean       2002.322862\n",
       "std          13.946854\n",
       "min        1000.000000\n",
       "25%        1999.000000\n",
       "50%        2003.000000\n",
       "75%        2007.000000\n",
       "max        2016.000000\n",
       "Name: RegistrationYear, dtype: float64"
      ]
     },
     "execution_count": 11,
     "metadata": {},
     "output_type": "execute_result"
    }
   ],
   "source": [
    "data_for_learn.RegistrationYear.describe()"
   ]
  },
  {
   "cell_type": "markdown",
   "metadata": {},
   "source": [
    "С выбросами в правой стороне разобрались.Теперь нужно разобраться с выбросами слева."
   ]
  },
  {
   "cell_type": "markdown",
   "metadata": {},
   "source": [
    "будем отсекать все значения лежащие ниже левой границы межквартильного интервала (Q1-IQR)"
   ]
  },
  {
   "cell_type": "code",
   "execution_count": 12,
   "metadata": {},
   "outputs": [],
   "source": [
    "left=(data_for_learn.RegistrationYear.quantile(.25)-1.5*(data_for_learn.RegistrationYear.quantile(.75)-\n",
    "      data_for_learn.RegistrationYear.quantile(.25)))"
   ]
  },
  {
   "cell_type": "markdown",
   "metadata": {},
   "source": [
    "Рассмотрим сколько машин лежит ниже левой границы"
   ]
  },
  {
   "cell_type": "code",
   "execution_count": 13,
   "metadata": {},
   "outputs": [
    {
     "data": {
      "text/plain": [
       "Price               6742\n",
       "VehicleType         5683\n",
       "RegistrationYear    6742\n",
       "Gearbox             5391\n",
       "Power               6742\n",
       "Model               5366\n",
       "Kilometer           6742\n",
       "FuelType            5325\n",
       "Brand               6742\n",
       "NotRepaired         4403\n",
       "DateCreated         6742\n",
       "dtype: int64"
      ]
     },
     "execution_count": 13,
     "metadata": {},
     "output_type": "execute_result"
    }
   ],
   "source": [
    "data_for_learn.query('RegistrationYear<@left').count()"
   ]
  },
  {
   "cell_type": "markdown",
   "metadata": {},
   "source": [
    "Таких значений мало и очевидно, что они не являются такими частыми вариантами, поэтому данные можно удалить"
   ]
  },
  {
   "cell_type": "code",
   "execution_count": 14,
   "metadata": {},
   "outputs": [],
   "source": [
    "data_for_learn.drop(data_for_learn[data_for_learn.RegistrationYear<left].index,inplace=True)"
   ]
  },
  {
   "cell_type": "markdown",
   "metadata": {},
   "source": [
    "Рассмотрим наши значения на диагармме размаха"
   ]
  },
  {
   "cell_type": "code",
   "execution_count": 15,
   "metadata": {},
   "outputs": [
    {
     "data": {
      "text/plain": [
       "<matplotlib.axes._subplots.AxesSubplot at 0x7f2b06ff7f90>"
      ]
     },
     "execution_count": 15,
     "metadata": {},
     "output_type": "execute_result"
    },
    {
     "data": {
      "image/png": "[encoded data removed]",
      "text/plain": [
       "<Figure size 432x288 with 1 Axes>"
      ]
     },
     "metadata": {
      "needs_background": "light"
     },
     "output_type": "display_data"
    }
   ],
   "source": [
    "data_for_learn.boxplot(column=['RegistrationYear'])"
   ]
  },
  {
   "cell_type": "code",
   "execution_count": 16,
   "metadata": {},
   "outputs": [
    {
     "data": {
      "text/plain": [
       "count    333097.000000\n",
       "mean       2003.021985\n",
       "std           5.787893\n",
       "min        1987.000000\n",
       "25%        1999.000000\n",
       "50%        2003.000000\n",
       "75%        2007.000000\n",
       "max        2016.000000\n",
       "Name: RegistrationYear, dtype: float64"
      ]
     },
     "execution_count": 16,
     "metadata": {},
     "output_type": "execute_result"
    }
   ],
   "source": [
    "data_for_learn.RegistrationYear.describe()"
   ]
  },
  {
   "cell_type": "markdown",
   "metadata": {},
   "source": [
    "Выбросы по этому признаку теперь отсутсвуют"
   ]
  },
  {
   "cell_type": "markdown",
   "metadata": {},
   "source": [
    "Добавим новый столбец который будет обозначть возраст машины"
   ]
  },
  {
   "cell_type": "code",
   "execution_count": 17,
   "metadata": {},
   "outputs": [
    {
     "data": {
      "text/plain": [
       "0         23.0\n",
       "1          5.0\n",
       "2         12.0\n",
       "3         15.0\n",
       "4          8.0\n",
       "          ... \n",
       "354364    11.0\n",
       "354365    11.0\n",
       "354366    16.0\n",
       "354367    20.0\n",
       "354368    14.0\n",
       "Length: 347627, dtype: float64"
      ]
     },
     "execution_count": 17,
     "metadata": {},
     "output_type": "execute_result"
    }
   ],
   "source": [
    "data_for_learn['DateCreated']-data_for_learn['RegistrationYear']"
   ]
  },
  {
   "cell_type": "code",
   "execution_count": 18,
   "metadata": {},
   "outputs": [],
   "source": [
    "data_for_learn['age']=(data_for_learn['DateCreated']\n",
    "                       -data_for_learn['RegistrationYear'])\n",
    "\n"
   ]
  },
  {
   "cell_type": "code",
   "execution_count": 19,
   "metadata": {},
   "outputs": [
    {
     "data": {
      "text/plain": [
       "0         23.0\n",
       "1          5.0\n",
       "2         12.0\n",
       "3         15.0\n",
       "4          8.0\n",
       "          ... \n",
       "354364    11.0\n",
       "354365    11.0\n",
       "354366    16.0\n",
       "354367    20.0\n",
       "354368    14.0\n",
       "Name: age, Length: 347627, dtype: float64"
      ]
     },
     "execution_count": 19,
     "metadata": {},
     "output_type": "execute_result"
    }
   ],
   "source": [
    "data_for_learn['age']"
   ]
  },
  {
   "cell_type": "markdown",
   "metadata": {},
   "source": [
    "Как и говорилось выше удалим столбцы RegistrationYear DateCreated, так как они теперь не нужны"
   ]
  },
  {
   "cell_type": "code",
   "execution_count": 20,
   "metadata": {},
   "outputs": [],
   "source": [
    "data_for_learn.drop(['RegistrationYear','DateCreated'],axis=1,inplace=True)"
   ]
  },
  {
   "cell_type": "code",
   "execution_count": 21,
   "metadata": {},
   "outputs": [
    {
     "data": {
      "text/plain": [
       "<matplotlib.axes._subplots.AxesSubplot at 0x7f2b06fd2c90>"
      ]
     },
     "execution_count": 21,
     "metadata": {},
     "output_type": "execute_result"
    },
    {
     "data": {
      "image/png": "[encoded data removed]",
      "text/plain": [
       "<Figure size 432x288 with 1 Axes>"
      ]
     },
     "metadata": {
      "needs_background": "light"
     },
     "output_type": "display_data"
    }
   ],
   "source": [
    "data_for_learn.boxplot(column=['age'])"
   ]
  },
  {
   "cell_type": "markdown",
   "metadata": {},
   "source": [
    "На диаграмме размаха по столбцу возраст также видно, что выбросы отсутсвуют"
   ]
  },
  {
   "cell_type": "markdown",
   "metadata": {},
   "source": [
    "### Дублирующие значения"
   ]
  },
  {
   "cell_type": "markdown",
   "metadata": {},
   "source": [
    "Рассмотрим сколько дубликатов"
   ]
  },
  {
   "cell_type": "code",
   "execution_count": 22,
   "metadata": {},
   "outputs": [
    {
     "data": {
      "text/plain": [
       "44835"
      ]
     },
     "execution_count": 22,
     "metadata": {},
     "output_type": "execute_result"
    }
   ],
   "source": [
    "data_for_learn.duplicated().sum()"
   ]
  },
  {
   "cell_type": "markdown",
   "metadata": {},
   "source": [
    "Удалим дубликаты"
   ]
  },
  {
   "cell_type": "code",
   "execution_count": 23,
   "metadata": {},
   "outputs": [],
   "source": [
    "data_for_learn=data_for_learn.drop_duplicates().reset_index(drop=True)"
   ]
  },
  {
   "cell_type": "markdown",
   "metadata": {},
   "source": [
    "### Обработка нулей"
   ]
  },
  {
   "cell_type": "markdown",
   "metadata": {},
   "source": [
    "В исходном датасете явно присутвуют в целевом признкке значение 0. Бесплатно машина стоить не может, пожтому удалим все столюцы где цена равну нулю"
   ]
  },
  {
   "cell_type": "code",
   "execution_count": 24,
   "metadata": {},
   "outputs": [],
   "source": [
    "data_for_learn=data_for_learn.query('Price!=0')"
   ]
  },
  {
   "cell_type": "markdown",
   "metadata": {},
   "source": [
    "### обработка пропусков"
   ]
  },
  {
   "cell_type": "markdown",
   "metadata": {},
   "source": [
    "В данном датасете явно присутвуют пропуски. Рассмотрим их подробнее"
   ]
  },
  {
   "cell_type": "code",
   "execution_count": 25,
   "metadata": {},
   "outputs": [
    {
     "data": {
      "text/plain": [
       "Price              0\n",
       "VehicleType    30816\n",
       "Gearbox        14401\n",
       "Power              0\n",
       "Model          15540\n",
       "Kilometer          0\n",
       "FuelType       26952\n",
       "Brand              0\n",
       "NotRepaired    58409\n",
       "age            12816\n",
       "dtype: int64"
      ]
     },
     "execution_count": 25,
     "metadata": {},
     "output_type": "execute_result"
    }
   ],
   "source": [
    "data_for_learn.isna().sum()"
   ]
  },
  {
   "cell_type": "code",
   "execution_count": 26,
   "metadata": {},
   "outputs": [
    {
     "data": {
      "text/html": [
       "<div>\n",
       "<style scoped>\n",
       "    .dataframe tbody tr th:only-of-type {\n",
       "        vertical-align: middle;\n",
       "    }\n",
       "\n",
       "    .dataframe tbody tr th {\n",
       "        vertical-align: top;\n",
       "    }\n",
       "\n",
       "    .dataframe thead th {\n",
       "        text-align: right;\n",
       "    }\n",
       "</style>\n",
       "<table border=\"1\" class=\"dataframe\">\n",
       "  <thead>\n",
       "    <tr style=\"text-align: right;\">\n",
       "      <th></th>\n",
       "      <th>Price</th>\n",
       "      <th>VehicleType</th>\n",
       "      <th>Gearbox</th>\n",
       "      <th>Power</th>\n",
       "      <th>Model</th>\n",
       "      <th>Kilometer</th>\n",
       "      <th>FuelType</th>\n",
       "      <th>Brand</th>\n",
       "      <th>NotRepaired</th>\n",
       "      <th>age</th>\n",
       "    </tr>\n",
       "  </thead>\n",
       "  <tbody>\n",
       "    <tr>\n",
       "      <td>0</td>\n",
       "      <td>480</td>\n",
       "      <td>NaN</td>\n",
       "      <td>manual</td>\n",
       "      <td>0</td>\n",
       "      <td>golf</td>\n",
       "      <td>150000</td>\n",
       "      <td>petrol</td>\n",
       "      <td>volkswagen</td>\n",
       "      <td>NaN</td>\n",
       "      <td>23.0</td>\n",
       "    </tr>\n",
       "    <tr>\n",
       "      <td>1</td>\n",
       "      <td>18300</td>\n",
       "      <td>coupe</td>\n",
       "      <td>manual</td>\n",
       "      <td>190</td>\n",
       "      <td>NaN</td>\n",
       "      <td>125000</td>\n",
       "      <td>gasoline</td>\n",
       "      <td>audi</td>\n",
       "      <td>yes</td>\n",
       "      <td>5.0</td>\n",
       "    </tr>\n",
       "    <tr>\n",
       "      <td>2</td>\n",
       "      <td>9800</td>\n",
       "      <td>suv</td>\n",
       "      <td>auto</td>\n",
       "      <td>163</td>\n",
       "      <td>grand</td>\n",
       "      <td>125000</td>\n",
       "      <td>gasoline</td>\n",
       "      <td>jeep</td>\n",
       "      <td>NaN</td>\n",
       "      <td>12.0</td>\n",
       "    </tr>\n",
       "    <tr>\n",
       "      <td>3</td>\n",
       "      <td>1500</td>\n",
       "      <td>small</td>\n",
       "      <td>manual</td>\n",
       "      <td>75</td>\n",
       "      <td>golf</td>\n",
       "      <td>150000</td>\n",
       "      <td>petrol</td>\n",
       "      <td>volkswagen</td>\n",
       "      <td>no</td>\n",
       "      <td>15.0</td>\n",
       "    </tr>\n",
       "    <tr>\n",
       "      <td>4</td>\n",
       "      <td>3600</td>\n",
       "      <td>small</td>\n",
       "      <td>manual</td>\n",
       "      <td>69</td>\n",
       "      <td>fabia</td>\n",
       "      <td>90000</td>\n",
       "      <td>gasoline</td>\n",
       "      <td>skoda</td>\n",
       "      <td>no</td>\n",
       "      <td>8.0</td>\n",
       "    </tr>\n",
       "  </tbody>\n",
       "</table>\n",
       "</div>"
      ],
      "text/plain": [
       "   Price VehicleType Gearbox  Power  Model  Kilometer  FuelType       Brand  \\\n",
       "0    480         NaN  manual      0   golf     150000    petrol  volkswagen   \n",
       "1  18300       coupe  manual    190    NaN     125000  gasoline        audi   \n",
       "2   9800         suv    auto    163  grand     125000  gasoline        jeep   \n",
       "3   1500       small  manual     75   golf     150000    petrol  volkswagen   \n",
       "4   3600       small  manual     69  fabia      90000  gasoline       skoda   \n",
       "\n",
       "  NotRepaired   age  \n",
       "0         NaN  23.0  \n",
       "1         yes   5.0  \n",
       "2         NaN  12.0  \n",
       "3          no  15.0  \n",
       "4          no   8.0  "
      ]
     },
     "execution_count": 26,
     "metadata": {},
     "output_type": "execute_result"
    }
   ],
   "source": [
    "data_for_learn.head()"
   ]
  },
  {
   "cell_type": "markdown",
   "metadata": {},
   "source": [
    "Рассмотрим столбец NotRepaired."
   ]
  },
  {
   "cell_type": "code",
   "execution_count": 27,
   "metadata": {},
   "outputs": [
    {
     "data": {
      "text/plain": [
       "0         NaN\n",
       "1         yes\n",
       "2         NaN\n",
       "3          no\n",
       "4          no\n",
       "         ... \n",
       "302786    yes\n",
       "302788    NaN\n",
       "302789     no\n",
       "302790     no\n",
       "302791    NaN\n",
       "Name: NotRepaired, Length: 294422, dtype: object"
      ]
     },
     "execution_count": 27,
     "metadata": {},
     "output_type": "execute_result"
    }
   ],
   "source": [
    "data_for_learn.NotRepaired"
   ]
  },
  {
   "cell_type": "markdown",
   "metadata": {},
   "source": [
    "\n",
    "Данный столбец отвечает за то что была ли машина в ремонте или нет. Так как пропусков достаточно и их удалять нельзя. Можно сделать вывод. Что если машина ремонтировлась, то владаелец это укажит точно, а если нет то он может пропустить, а может заполнить. Поэтому заполним все пропуски в столбце на yes"
   ]
  },
  {
   "cell_type": "code",
   "execution_count": 28,
   "metadata": {},
   "outputs": [],
   "source": [
    "data_for_learn.NotRepaired.fillna('yes',inplace=True)"
   ]
  },
  {
   "cell_type": "markdown",
   "metadata": {},
   "source": [
    "Разберемся с дальнейшими пропусками"
   ]
  },
  {
   "cell_type": "markdown",
   "metadata": {},
   "source": [
    "Остальные столбцы в которых присутвуют пропуски являются значимыми фичами \n"
   ]
  },
  {
   "cell_type": "markdown",
   "metadata": {},
   "source": [
    "Удалим строки в которых отсувтуют сразу все значения, так как это является явным незаполнением данных и с такими данными работать не хорошо."
   ]
  },
  {
   "cell_type": "markdown",
   "metadata": {},
   "source": [
    "обозначим столбцы в которых пропущены значения"
   ]
  },
  {
   "cell_type": "code",
   "execution_count": 29,
   "metadata": {},
   "outputs": [],
   "source": [
    "columns_with_none=['VehicleType','Gearbox','Model','FuelType','age']"
   ]
  },
  {
   "cell_type": "markdown",
   "metadata": {},
   "source": [
    "удалим такие строки"
   ]
  },
  {
   "cell_type": "code",
   "execution_count": 30,
   "metadata": {},
   "outputs": [],
   "source": [
    "data_for_learn.dropna(how='all', subset=columns_with_none,inplace=True)"
   ]
  },
  {
   "cell_type": "markdown",
   "metadata": {},
   "source": [
    "Теперь помимо данных в которых отстувуют даннные во всех пропусках удалим так же, в которых присутвует только одно значение, а во всех других пропуски"
   ]
  },
  {
   "cell_type": "code",
   "execution_count": 31,
   "metadata": {},
   "outputs": [],
   "source": [
    "for i in columns_with_none:\n",
    "    a=[]\n",
    "    for j in columns_with_none:\n",
    "        if i!=j:\n",
    "            a.append(j)\n",
    "    data_for_learn.dropna(how='all', \n",
    "                subset=a,inplace=True)"
   ]
  },
  {
   "cell_type": "code",
   "execution_count": 32,
   "metadata": {},
   "outputs": [
    {
     "data": {
      "text/plain": [
       "Price              0\n",
       "VehicleType    28169\n",
       "Gearbox        12508\n",
       "Power              0\n",
       "Model          13372\n",
       "Kilometer          0\n",
       "FuelType       24473\n",
       "Brand              0\n",
       "NotRepaired        0\n",
       "age            11250\n",
       "dtype: int64"
      ]
     },
     "execution_count": 32,
     "metadata": {},
     "output_type": "execute_result"
    }
   ],
   "source": [
    "data_for_learn.isna().sum()"
   ]
  },
  {
   "cell_type": "markdown",
   "metadata": {},
   "source": [
    "Часть пропусков также обработана, однако остались теперь важные признаки, которые обрабатывать стоит максимально аккуратно."
   ]
  },
  {
   "cell_type": "markdown",
   "metadata": {},
   "source": [
    "Рассмотрим признак VehicleType"
   ]
  },
  {
   "cell_type": "markdown",
   "metadata": {},
   "source": [
    "Рассмотрим какие есть уникальные значения"
   ]
  },
  {
   "cell_type": "code",
   "execution_count": 33,
   "metadata": {},
   "outputs": [
    {
     "data": {
      "text/plain": [
       "array([nan, 'coupe', 'suv', 'small', 'sedan', 'convertible', 'bus',\n",
       "       'wagon', 'other'], dtype=object)"
      ]
     },
     "execution_count": 33,
     "metadata": {},
     "output_type": "execute_result"
    }
   ],
   "source": [
    "data_for_learn.VehicleType.unique()"
   ]
  },
  {
   "cell_type": "markdown",
   "metadata": {},
   "source": [
    "Можно предположить, что если клиент не нашел тип своей машины или не знает, то он выбереи либо другое либо пропуск, поэтому заменим все занчения в столбце VehicleType на other"
   ]
  },
  {
   "cell_type": "code",
   "execution_count": 34,
   "metadata": {},
   "outputs": [],
   "source": [
    "data_for_learn.VehicleType.fillna('other',inplace=True)"
   ]
  },
  {
   "cell_type": "markdown",
   "metadata": {},
   "source": [
    "Рассмотрим признак model на уникальные значения"
   ]
  },
  {
   "cell_type": "code",
   "execution_count": 35,
   "metadata": {},
   "outputs": [
    {
     "data": {
      "text/plain": [
       "array(['golf', nan, 'grand', 'fabia', '3er', '2_reihe', 'c_max',\n",
       "       '3_reihe', 'passat', 'navara', 'polo', 'twingo', 'a_klasse',\n",
       "       'scirocco', '5er', 'meriva', 'arosa', 'other', 'c4', 'civic',\n",
       "       'punto', 'e_klasse', 'clio', 'kadett', 'kangoo', 'one', 'fortwo',\n",
       "       '1er', 'b_klasse', 'signum', 'astra', 'a8', 'jetta', 'fiesta',\n",
       "       'c_klasse', 'micra', 'vito', 'sprinter', '156', 'escort',\n",
       "       'forester', 'xc_reihe', 'scenic', 'a4', 'ka', 'a1', 'insignia',\n",
       "       'transporter', 'combo', 'focus', 'tt', 'corsa', 'a6', 'jazz',\n",
       "       'omega', 'slk', '7er', '80', '147', 'z_reihe', 'sportage',\n",
       "       'sorento', 'v40', 'ibiza', 'mustang', 'eos', 'touran', 'getz',\n",
       "       'a3', 'almera', 'megane', 'lupo', 'r19', 'zafira', 'mondeo',\n",
       "       'cordoba', 'colt', 'impreza', 'vectra', 'berlingo', 'tiguan',\n",
       "       'i_reihe', 'espace', 'sharan', '6_reihe', 'panda', 'up',\n",
       "       'seicento', 'ceed', '5_reihe', 'yeti', 'octavia', 'mii',\n",
       "       'rx_reihe', 'modus', 'fox', 'matiz', 'beetle', 'c1', 'rio',\n",
       "       'touareg', 'logan', 'caddy', 'spider', 'cuore', 's_max', 'a2',\n",
       "       'galaxy', 'c3', 'viano', 's_klasse', '1_reihe', 'avensis',\n",
       "       'roomster', 'santa', 'cooper', 'leon', '4_reihe', 'a5', '500',\n",
       "       'laguna', 'ptcruiser', 'clk', 'primera', 'x_reihe', 'exeo', '159',\n",
       "       'transit', 'juke', 'qashqai', 'carisma', 'accord', 'corolla',\n",
       "       'lanos', 'phaeton', 'verso', 'swift', 'rav', 'picanto', 'boxster',\n",
       "       'kalos', 'superb', 'stilo', 'alhambra', 'mx_reihe', 'roadster',\n",
       "       'ypsilon', 'galant', 'justy', '90', 'sirion', 'crossfire', 'agila',\n",
       "       'duster', 'cr_reihe', 'v50', 'c_reihe', 'v_klasse', 'm_klasse',\n",
       "       'yaris', 'c5', 'aygo', 'cc', 'carnival', 'fusion', '911', 'bora',\n",
       "       'forfour', '100', 'cl', 'tigra', '300c', 'spark', 'v70', 'kuga',\n",
       "       'x_type', 'ducato', 's_type', 'x_trail', 'toledo', 'altea',\n",
       "       'voyager', 'calibra', 'bravo', 'antara', 'tucson', 'citigo',\n",
       "       'jimny', 'cayenne', 'wrangler', 'lybra', 'q7', 'lancer', 'captiva',\n",
       "       'sl', 'c2', 'discovery', 'freelander', 'sandero', 'note', '900',\n",
       "       'cherokee', 'clubman', 'samara', 'defender', '601', 'cx_reihe',\n",
       "       'legacy', 'pajero', 'auris', 'niva', 's60', 'm_reihe', 'nubira',\n",
       "       'vivaro', 'g_klasse', 'lodgy', '850', 'range_rover', 'q3', 'glk',\n",
       "       'charade', 'croma', 'outlander', 'kaefer', 'doblo', 'musa', 'move',\n",
       "       '9000', 'v60', '145', '6er', 'b_max', '200', 'range_rover_sport',\n",
       "       'aveo', 'terios', 'rangerover', 'q5', 'range_rover_evoque',\n",
       "       'materia', 'delta', 'gl', 'kalina', 'amarok', 'elefantino', 'i3',\n",
       "       'serie_2', 'kappa'], dtype=object)"
      ]
     },
     "execution_count": 35,
     "metadata": {},
     "output_type": "execute_result"
    }
   ],
   "source": [
    "data_for_learn.Model.unique()"
   ]
  },
  {
   "cell_type": "markdown",
   "metadata": {},
   "source": [
    "Заплнять Nan будем по наиболее часто повоторяющейся модели в бренде"
   ]
  },
  {
   "cell_type": "code",
   "execution_count": 36,
   "metadata": {},
   "outputs": [],
   "source": [
    "brand=data_for_learn.Brand.unique()"
   ]
  },
  {
   "cell_type": "code",
   "execution_count": 37,
   "metadata": {},
   "outputs": [],
   "source": [
    "dic_model={}\n",
    "for i in brand:\n",
    "    try:\n",
    "        dic_model[i]=data_for_learn.query('Brand==@i').pivot_table(index='Model',values='Price',aggfunc='count').sort_values(by=['Price'],ascending=False).head(1).reset_index().loc[0,'Model']\n",
    "    except:\n",
    "        dic_model[i]='no_model' "
   ]
  },
  {
   "cell_type": "code",
   "execution_count": 38,
   "metadata": {},
   "outputs": [],
   "source": [
    "def change_model(row):\n",
    "    model=row['Model']\n",
    "    brand=row['Brand']\n",
    "    if model!=model:\n",
    "        model=dic_model[brand]\n",
    "    return model   "
   ]
  },
  {
   "cell_type": "code",
   "execution_count": 39,
   "metadata": {},
   "outputs": [],
   "source": [
    "data_for_learn['Model']=data_for_learn.apply(change_model,axis=1)"
   ]
  },
  {
   "cell_type": "code",
   "execution_count": 40,
   "metadata": {},
   "outputs": [
    {
     "data": {
      "text/plain": [
       "Price              0\n",
       "VehicleType        0\n",
       "Gearbox        12508\n",
       "Power              0\n",
       "Model              0\n",
       "Kilometer          0\n",
       "FuelType       24473\n",
       "Brand              0\n",
       "NotRepaired        0\n",
       "age            11250\n",
       "dtype: int64"
      ]
     },
     "execution_count": 40,
     "metadata": {},
     "output_type": "execute_result"
    }
   ],
   "source": [
    "data_for_learn.isna().sum()"
   ]
  },
  {
   "cell_type": "markdown",
   "metadata": {},
   "source": [
    "Тоже самое проведем и для столбца GearBox"
   ]
  },
  {
   "cell_type": "code",
   "execution_count": 41,
   "metadata": {},
   "outputs": [],
   "source": [
    "dic_for_GearBox={}\n",
    "for i in brand:\n",
    "    #model=[]\n",
    "    model=data_for_learn.query('Brand==@i')['Model'].unique()\n",
    "    dic={}\n",
    "    for j in model:\n",
    "        gear_box=data_for_learn.query('(Brand==@i) & (Model==@j)').pivot_table(index='Gearbox',values='Price',aggfunc='count').sort_values(by=['Price'],ascending=False).head(1).reset_index().loc[0,'Gearbox']\n",
    "        dic[j]=gear_box\n",
    "        dic_for_GearBox[i]=dic"
   ]
  },
  {
   "cell_type": "code",
   "execution_count": 42,
   "metadata": {},
   "outputs": [],
   "source": [
    "def change_gearbox(row):\n",
    "    model=row['Model']\n",
    "    brand=row['Brand']\n",
    "    gear_box=row['Gearbox']\n",
    "    if gear_box!=gear_box:\n",
    "        gear_box=dic_for_GearBox[brand][model]\n",
    "    return gear_box   "
   ]
  },
  {
   "cell_type": "code",
   "execution_count": 43,
   "metadata": {},
   "outputs": [],
   "source": [
    "data_for_learn['Gearbox']=data_for_learn.apply(change_gearbox,axis=1)"
   ]
  },
  {
   "cell_type": "markdown",
   "metadata": {},
   "source": [
    "Проведем тоже самое для FuelType"
   ]
  },
  {
   "cell_type": "code",
   "execution_count": 44,
   "metadata": {},
   "outputs": [],
   "source": [
    "dic_for_FuelType={}\n",
    "for i in brand:\n",
    "    #model=[]\n",
    "    model=data_for_learn.query('Brand==@i')['Model'].unique()\n",
    "    dic={}\n",
    "    for j in model:\n",
    "        FT=data_for_learn.query('(Brand==@i) & (Model==@j)').pivot_table(index='FuelType',values='Price',aggfunc='count').sort_values(by=['Price'],ascending=False).head(1).reset_index().loc[0,'FuelType']\n",
    "        dic[j]=FT\n",
    "        dic_for_FuelType[i]=dic"
   ]
  },
  {
   "cell_type": "code",
   "execution_count": 45,
   "metadata": {},
   "outputs": [],
   "source": [
    "def change_fuelType(row):\n",
    "    model=row['Model']\n",
    "    brand=row['Brand']\n",
    "    fueltype=row['FuelType']\n",
    "    if fueltype!=fueltype:\n",
    "        fueltype=dic_for_FuelType[brand][model]\n",
    "    return fueltype   "
   ]
  },
  {
   "cell_type": "code",
   "execution_count": 46,
   "metadata": {},
   "outputs": [],
   "source": [
    "data_for_learn['FuelType']=data_for_learn.apply(change_fuelType,axis=1)"
   ]
  },
  {
   "cell_type": "markdown",
   "metadata": {},
   "source": [
    "Тоже самое поступим с возрастом машины только заполнять будем медианой"
   ]
  },
  {
   "cell_type": "code",
   "execution_count": 47,
   "metadata": {},
   "outputs": [
    {
     "name": "stderr",
     "output_type": "stream",
     "text": [
      "/opt/conda/lib/python3.7/site-packages/numpy/lib/nanfunctions.py:1111: RuntimeWarning: Mean of empty slice\n",
      "  return np.nanmean(a, axis, out=out, keepdims=keepdims)\n"
     ]
    }
   ],
   "source": [
    "dic_for_age={}\n",
    "for i in brand:\n",
    "    #model=[]\n",
    "    model=data_for_learn.query('Brand==@i')['Model'].unique()\n",
    "    dic={}\n",
    "    for j in model:\n",
    "        \n",
    "        Ag=data_for_learn.query('(Brand==@i) & (Model==@j)')['age'].median()\n",
    "        dic[j]=Ag\n",
    "        dic_for_age[i]=dic"
   ]
  },
  {
   "cell_type": "code",
   "execution_count": 48,
   "metadata": {},
   "outputs": [],
   "source": [
    "def change_age(row):\n",
    "    model=row['Model']\n",
    "    brand=row['Brand']\n",
    "    AG=row['age']\n",
    "    if AG!=AG:\n",
    "        AG=dic_for_age[brand][model]\n",
    "    return AG   "
   ]
  },
  {
   "cell_type": "code",
   "execution_count": 49,
   "metadata": {},
   "outputs": [],
   "source": [
    "data_for_learn['age']=data_for_learn.apply(change_age,axis=1)"
   ]
  },
  {
   "cell_type": "code",
   "execution_count": 50,
   "metadata": {},
   "outputs": [
    {
     "data": {
      "text/plain": [
       "Price          0\n",
       "VehicleType    0\n",
       "Gearbox        0\n",
       "Power          0\n",
       "Model          0\n",
       "Kilometer      0\n",
       "FuelType       0\n",
       "Brand          0\n",
       "NotRepaired    0\n",
       "age            1\n",
       "dtype: int64"
      ]
     },
     "execution_count": 50,
     "metadata": {},
     "output_type": "execute_result"
    }
   ],
   "source": [
    "data_for_learn.isna().sum()"
   ]
  },
  {
   "cell_type": "markdown",
   "metadata": {},
   "source": [
    "присутвет один пропуск, удалим его"
   ]
  },
  {
   "cell_type": "code",
   "execution_count": 51,
   "metadata": {},
   "outputs": [],
   "source": [
    "data_for_learn.dropna(subset=['age'],inplace=True)"
   ]
  },
  {
   "cell_type": "markdown",
   "metadata": {},
   "source": [
    "И приведем все индексы в порядок"
   ]
  },
  {
   "cell_type": "code",
   "execution_count": 52,
   "metadata": {},
   "outputs": [],
   "source": [
    "data_for_learn.reset_index(inplace=True)"
   ]
  },
  {
   "cell_type": "markdown",
   "metadata": {},
   "source": [
    "### Коррекция типов данных"
   ]
  },
  {
   "cell_type": "markdown",
   "metadata": {},
   "source": [
    "Рассмотрим какие типы данных присутсвуют внашем датасете"
   ]
  },
  {
   "cell_type": "code",
   "execution_count": 53,
   "metadata": {
    "scrolled": true
   },
   "outputs": [
    {
     "name": "stdout",
     "output_type": "stream",
     "text": [
      "<class 'pandas.core.frame.DataFrame'>\n",
      "RangeIndex: 291774 entries, 0 to 291773\n",
      "Data columns (total 11 columns):\n",
      "index          291774 non-null int64\n",
      "Price          291774 non-null int64\n",
      "VehicleType    291774 non-null object\n",
      "Gearbox        291774 non-null object\n",
      "Power          291774 non-null int64\n",
      "Model          291774 non-null object\n",
      "Kilometer      291774 non-null int64\n",
      "FuelType       291774 non-null object\n",
      "Brand          291774 non-null object\n",
      "NotRepaired    291774 non-null object\n",
      "age            291774 non-null float64\n",
      "dtypes: float64(1), int64(4), object(6)\n",
      "memory usage: 24.5+ MB\n"
     ]
    }
   ],
   "source": [
    "data_for_learn.info()"
   ]
  },
  {
   "cell_type": "markdown",
   "metadata": {},
   "source": [
    "Все данные хорошо отредактированы необходимо только исправить столбце age и привести его к типу int"
   ]
  },
  {
   "cell_type": "code",
   "execution_count": 54,
   "metadata": {},
   "outputs": [],
   "source": [
    "data_for_learn.age=data_for_learn.age.astype(int)"
   ]
  },
  {
   "cell_type": "markdown",
   "metadata": {},
   "source": [
    "### Кодирование данных"
   ]
  },
  {
   "cell_type": "markdown",
   "metadata": {},
   "source": [
    "Стоит отметить,  что среди всего датасета присутвуют категорилаьные данные, поэтому пока кодировать их не будем, но запишем их в отдельную строку"
   ]
  },
  {
   "cell_type": "code",
   "execution_count": 55,
   "metadata": {},
   "outputs": [
    {
     "data": {
      "text/plain": [
       "['VehicleType', 'Gearbox', 'Model', 'FuelType', 'Brand', 'NotRepaired']"
      ]
     },
     "execution_count": 55,
     "metadata": {},
     "output_type": "execute_result"
    }
   ],
   "source": [
    "category=list(data_for_learn.loc[:,data_for_learn.dtypes=='object'].columns.values)\n",
    "category"
   ]
  },
  {
   "cell_type": "markdown",
   "metadata": {},
   "source": [
    "## Обучение моделей"
   ]
  },
  {
   "cell_type": "markdown",
   "metadata": {},
   "source": [
    "### подготовка к обучению"
   ]
  },
  {
   "cell_type": "markdown",
   "metadata": {},
   "source": [
    "отделим в данных целевой признак и фичи"
   ]
  },
  {
   "cell_type": "code",
   "execution_count": 56,
   "metadata": {},
   "outputs": [],
   "source": [
    "target=data_for_learn['Price']\n",
    "features=data_for_learn.drop('Price',axis=1)"
   ]
  },
  {
   "cell_type": "markdown",
   "metadata": {},
   "source": [
    "Разобъем на тестовую и обчуающую выборку"
   ]
  },
  {
   "cell_type": "code",
   "execution_count": 57,
   "metadata": {},
   "outputs": [],
   "source": [
    "features_train, features_test, target_train, target_test = (train_test_split(\n",
    "    features, target, test_size=0.25, random_state=12345))"
   ]
  },
  {
   "cell_type": "markdown",
   "metadata": {},
   "source": [
    "Создадим функцию которая будет подбирать параметры"
   ]
  },
  {
   "cell_type": "code",
   "execution_count": 58,
   "metadata": {},
   "outputs": [],
   "source": [
    "def search_model(model,param,features,target):\n",
    "    clf=GridSearchCV(model,param,cv=5,scoring=make_scorer(mean_squared_error,greater_is_better=False))\n",
    "    clf.fit(features,target);\n",
    "    best_result=clf.best_score_\n",
    "    best_model=clf.best_estimator_\n",
    "    return best_model,best_result"
   ]
  },
  {
   "cell_type": "markdown",
   "metadata": {},
   "source": [
    "Для обучения случайным лесом не подойдут категориальные значения не числовые, поэтому необходимо их закордировать техникой порядкового кодирования"
   ]
  },
  {
   "cell_type": "code",
   "execution_count": 59,
   "metadata": {},
   "outputs": [],
   "source": [
    "\n",
    "encoder = OrdinalEncoder()\n",
    "data_ordinal = pd.DataFrame(encoder.fit_transform(data_for_learn.loc[:,category]),\n",
    "                            columns=data_for_learn.loc[:,category].columns)\n"
   ]
  },
  {
   "cell_type": "code",
   "execution_count": 60,
   "metadata": {},
   "outputs": [],
   "source": [
    "data_for_learn_coding=pd.concat([data_for_learn.loc[:,['Price','Power','Kilometer','age']],data_ordinal],axis=1)"
   ]
  },
  {
   "cell_type": "markdown",
   "metadata": {},
   "source": [
    "Отделем целевой признак"
   ]
  },
  {
   "cell_type": "code",
   "execution_count": 61,
   "metadata": {},
   "outputs": [],
   "source": [
    "target_code=data_for_learn_coding['Price']\n",
    "features_code=data_for_learn_coding.drop('Price',axis=1)"
   ]
  },
  {
   "cell_type": "markdown",
   "metadata": {},
   "source": [
    "Разобъем на тестовую и обучающую выборку кодированные данные"
   ]
  },
  {
   "cell_type": "code",
   "execution_count": 62,
   "metadata": {},
   "outputs": [],
   "source": [
    "features_code_train, features_code_test, target_code_train, target_code_test = (train_test_split(\n",
    "    features_code, target_code, test_size=0.25, random_state=12345))"
   ]
  },
  {
   "cell_type": "code",
   "execution_count": 63,
   "metadata": {},
   "outputs": [
    {
     "data": {
      "text/html": [
       "<div>\n",
       "<style scoped>\n",
       "    .dataframe tbody tr th:only-of-type {\n",
       "        vertical-align: middle;\n",
       "    }\n",
       "\n",
       "    .dataframe tbody tr th {\n",
       "        vertical-align: top;\n",
       "    }\n",
       "\n",
       "    .dataframe thead th {\n",
       "        text-align: right;\n",
       "    }\n",
       "</style>\n",
       "<table border=\"1\" class=\"dataframe\">\n",
       "  <thead>\n",
       "    <tr style=\"text-align: right;\">\n",
       "      <th></th>\n",
       "      <th>Power</th>\n",
       "      <th>Kilometer</th>\n",
       "      <th>age</th>\n",
       "      <th>VehicleType</th>\n",
       "      <th>Gearbox</th>\n",
       "      <th>Model</th>\n",
       "      <th>FuelType</th>\n",
       "      <th>Brand</th>\n",
       "      <th>NotRepaired</th>\n",
       "    </tr>\n",
       "  </thead>\n",
       "  <tbody>\n",
       "    <tr>\n",
       "      <td>18008</td>\n",
       "      <td>105</td>\n",
       "      <td>80000</td>\n",
       "      <td>8</td>\n",
       "      <td>7.0</td>\n",
       "      <td>1.0</td>\n",
       "      <td>101.0</td>\n",
       "      <td>6.0</td>\n",
       "      <td>31.0</td>\n",
       "      <td>1.0</td>\n",
       "    </tr>\n",
       "    <tr>\n",
       "      <td>97919</td>\n",
       "      <td>75</td>\n",
       "      <td>150000</td>\n",
       "      <td>16</td>\n",
       "      <td>5.0</td>\n",
       "      <td>1.0</td>\n",
       "      <td>103.0</td>\n",
       "      <td>6.0</td>\n",
       "      <td>10.0</td>\n",
       "      <td>0.0</td>\n",
       "    </tr>\n",
       "  </tbody>\n",
       "</table>\n",
       "</div>"
      ],
      "text/plain": [
       "       Power  Kilometer  age  VehicleType  Gearbox  Model  FuelType  Brand  \\\n",
       "18008    105      80000    8          7.0      1.0  101.0       6.0   31.0   \n",
       "97919     75     150000   16          5.0      1.0  103.0       6.0   10.0   \n",
       "\n",
       "       NotRepaired  \n",
       "18008          1.0  \n",
       "97919          0.0  "
      ]
     },
     "execution_count": 63,
     "metadata": {},
     "output_type": "execute_result"
    }
   ],
   "source": [
    "features_code_train.head(2)"
   ]
  },
  {
   "cell_type": "code",
   "execution_count": 64,
   "metadata": {},
   "outputs": [
    {
     "data": {
      "text/plain": [
       "18008    7200\n",
       "97919     750\n",
       "Name: Price, dtype: int64"
      ]
     },
     "execution_count": 64,
     "metadata": {},
     "output_type": "execute_result"
    }
   ],
   "source": [
    "target_code_train.head(2)"
   ]
  },
  {
   "cell_type": "markdown",
   "metadata": {},
   "source": [
    "### Обучение линейной регрессией"
   ]
  },
  {
   "cell_type": "markdown",
   "metadata": {},
   "source": [
    "Рассмотрим линейную регрессию"
   ]
  },
  {
   "cell_type": "code",
   "execution_count": 65,
   "metadata": {},
   "outputs": [
    {
     "data": {
      "text/plain": [
       "-10872490.650710138"
      ]
     },
     "execution_count": 65,
     "metadata": {},
     "output_type": "execute_result"
    }
   ],
   "source": [
    "start=timeit.default_timer()\n",
    "model=LinearRegression()\n",
    "param={}\n",
    "LinearRegression_model,LinearRegression_result=search_model(\n",
    "    model,\n",
    "    param,\n",
    "    features_code_train,target_code_train\n",
    ")\n",
    "Time=timeit.default_timer()-start\n",
    "LinearRegression_result"
   ]
  },
  {
   "cell_type": "code",
   "execution_count": 66,
   "metadata": {},
   "outputs": [],
   "source": [
    "train_table=pd.DataFrame(columns=['модель','время','RMSE'])"
   ]
  },
  {
   "cell_type": "code",
   "execution_count": 67,
   "metadata": {},
   "outputs": [],
   "source": [
    "train_table=train_table.append({'модель':'линеная регрессия','время':Time,'RMSE':abs(LinearRegression_result)**0.5},ignore_index=True)"
   ]
  },
  {
   "cell_type": "markdown",
   "metadata": {},
   "source": [
    "### Обучение случайным лесом"
   ]
  },
  {
   "cell_type": "code",
   "execution_count": 68,
   "metadata": {},
   "outputs": [
    {
     "data": {
      "text/plain": [
       "1740.4413764117116"
      ]
     },
     "execution_count": 68,
     "metadata": {},
     "output_type": "execute_result"
    }
   ],
   "source": [
    "start=timeit.default_timer()\n",
    "model=RandomForestRegressor(random_state=12345)\n",
    "param={'n_estimators':range(1,40,10),'max_depth':(10,50,1)}\n",
    "forest_model,forest_result=search_model(\n",
    "    model,\n",
    "    param,\n",
    "    features_code_train,target_code_train\n",
    ")\n",
    "Time=timeit.default_timer()-start\n",
    "abs(forest_result)**0.5"
   ]
  },
  {
   "cell_type": "code",
   "execution_count": 69,
   "metadata": {},
   "outputs": [],
   "source": [
    "train_table=train_table.append({'модель':'случайный лес','время':Time,'RMSE':abs(forest_result)**0.5},ignore_index=True)"
   ]
  },
  {
   "cell_type": "markdown",
   "metadata": {},
   "source": [
    "### обучение CatBoost"
   ]
  },
  {
   "cell_type": "markdown",
   "metadata": {},
   "source": [
    "В библиотеки catboost нет необходимости заранее кодировать категорилаьные данные. Достаточно перечислить их в атрибуте cat_features"
   ]
  },
  {
   "cell_type": "code",
   "execution_count": 70,
   "metadata": {
    "scrolled": true
   },
   "outputs": [
    {
     "name": "stdout",
     "output_type": "stream",
     "text": [
      "0:\tlearn: 4465.6124047\ttotal: 766ms\tremaining: 6m 22s\n",
      "100:\tlearn: 1991.9922630\ttotal: 1m 2s\tremaining: 4m 5s\n",
      "200:\tlearn: 1846.4847885\ttotal: 2m 2s\tremaining: 3m 2s\n",
      "300:\tlearn: 1788.8632049\ttotal: 3m 1s\tremaining: 1m 59s\n",
      "400:\tlearn: 1753.4767037\ttotal: 3m 59s\tremaining: 59.1s\n",
      "499:\tlearn: 1729.1004027\ttotal: 4m 58s\tremaining: 0us\n"
     ]
    }
   ],
   "source": [
    "start=timeit.default_timer()\n",
    "model = CatBoostRegressor(loss_function=\"RMSE\", iterations=500)\n",
    "cat_features=['VehicleType', 'Gearbox','Model','FuelType','Brand','NotRepaired']\n",
    "model.fit(features_train, target_train,cat_features=cat_features,verbose=100) \n",
    "Time=timeit.default_timer()-start"
   ]
  },
  {
   "cell_type": "code",
   "execution_count": 71,
   "metadata": {},
   "outputs": [],
   "source": [
    "train_table=train_table.append({'модель':'catboost','время':Time,'RMSE':model.best_score_['learn']['RMSE']},ignore_index=True)"
   ]
  },
  {
   "cell_type": "code",
   "execution_count": 72,
   "metadata": {},
   "outputs": [
    {
     "data": {
      "text/html": [
       "<div>\n",
       "<style scoped>\n",
       "    .dataframe tbody tr th:only-of-type {\n",
       "        vertical-align: middle;\n",
       "    }\n",
       "\n",
       "    .dataframe tbody tr th {\n",
       "        vertical-align: top;\n",
       "    }\n",
       "\n",
       "    .dataframe thead th {\n",
       "        text-align: right;\n",
       "    }\n",
       "</style>\n",
       "<table border=\"1\" class=\"dataframe\">\n",
       "  <thead>\n",
       "    <tr style=\"text-align: right;\">\n",
       "      <th></th>\n",
       "      <th>модель</th>\n",
       "      <th>время</th>\n",
       "      <th>RMSE</th>\n",
       "    </tr>\n",
       "  </thead>\n",
       "  <tbody>\n",
       "    <tr>\n",
       "      <td>0</td>\n",
       "      <td>линеная регрессия</td>\n",
       "      <td>1.088051</td>\n",
       "      <td>3297.346001</td>\n",
       "    </tr>\n",
       "    <tr>\n",
       "      <td>1</td>\n",
       "      <td>случайный лес</td>\n",
       "      <td>318.338332</td>\n",
       "      <td>1740.441376</td>\n",
       "    </tr>\n",
       "    <tr>\n",
       "      <td>2</td>\n",
       "      <td>catboost</td>\n",
       "      <td>302.054998</td>\n",
       "      <td>1729.100403</td>\n",
       "    </tr>\n",
       "  </tbody>\n",
       "</table>\n",
       "</div>"
      ],
      "text/plain": [
       "              модель       время         RMSE\n",
       "0  линеная регрессия    1.088051  3297.346001\n",
       "1      случайный лес  318.338332  1740.441376\n",
       "2           catboost  302.054998  1729.100403"
      ]
     },
     "execution_count": 72,
     "metadata": {},
     "output_type": "execute_result"
    }
   ],
   "source": [
    "train_table"
   ]
  },
  {
   "cell_type": "markdown",
   "metadata": {},
   "source": [
    "### обучение lgbLight"
   ]
  },
  {
   "cell_type": "code",
   "execution_count": 73,
   "metadata": {},
   "outputs": [
    {
     "name": "stderr",
     "output_type": "stream",
     "text": [
      "/opt/conda/lib/python3.7/site-packages/ipykernel_launcher.py:4: SettingWithCopyWarning: \n",
      "A value is trying to be set on a copy of a slice from a DataFrame.\n",
      "Try using .loc[row_indexer,col_indexer] = value instead\n",
      "\n",
      "See the caveats in the documentation: http://pandas.pydata.org/pandas-docs/stable/user_guide/indexing.html#returning-a-view-versus-a-copy\n",
      "  after removing the cwd from sys.path.\n",
      "/opt/conda/lib/python3.7/site-packages/ipykernel_launcher.py:5: SettingWithCopyWarning: \n",
      "A value is trying to be set on a copy of a slice from a DataFrame.\n",
      "Try using .loc[row_indexer,col_indexer] = value instead\n",
      "\n",
      "See the caveats in the documentation: http://pandas.pydata.org/pandas-docs/stable/user_guide/indexing.html#returning-a-view-versus-a-copy\n",
      "  \"\"\"\n"
     ]
    }
   ],
   "source": [
    "feature_train_lgb=features_train\n",
    "feature_test_lgb=features_test\n",
    "for feature in category:\n",
    "    feature_train_lgb[feature]=pd.Series(feature_train_lgb[feature], dtype=\"category\")\n",
    "    feature_test_lgb[feature]=pd.Series(feature_test_lgb[feature], dtype=\"category\")"
   ]
  },
  {
   "cell_type": "code",
   "execution_count": 74,
   "metadata": {},
   "outputs": [],
   "source": [
    "start=timeit.default_timer()\n",
    "hyper_params={\n",
    "    'task':'train',\n",
    "    'objective':'regression',\n",
    "    'metric':'rmse',\n",
    "    'learning_rate':0.5,\n",
    "}\n",
    "lgb_train=lgb.Dataset(feature_train_lgb,target_train)\n",
    "gbm=lgb.train(hyper_params,lgb_train,num_boost_round=10,verbose_eval=False)\n",
    "gbm\n",
    "Time=timeit.default_timer()-start"
   ]
  },
  {
   "cell_type": "code",
   "execution_count": 75,
   "metadata": {},
   "outputs": [],
   "source": [
    "train_table=train_table.append({'модель':'lgblight','время':Time,'RMSE':mean_squared_error(target_train,gbm.predict(feature_train_lgb))**0.5},ignore_index=True)"
   ]
  },
  {
   "cell_type": "markdown",
   "metadata": {},
   "source": [
    "### Итог обучения"
   ]
  },
  {
   "cell_type": "code",
   "execution_count": 76,
   "metadata": {},
   "outputs": [
    {
     "data": {
      "text/html": [
       "<div>\n",
       "<style scoped>\n",
       "    .dataframe tbody tr th:only-of-type {\n",
       "        vertical-align: middle;\n",
       "    }\n",
       "\n",
       "    .dataframe tbody tr th {\n",
       "        vertical-align: top;\n",
       "    }\n",
       "\n",
       "    .dataframe thead th {\n",
       "        text-align: right;\n",
       "    }\n",
       "</style>\n",
       "<table border=\"1\" class=\"dataframe\">\n",
       "  <thead>\n",
       "    <tr style=\"text-align: right;\">\n",
       "      <th></th>\n",
       "      <th>модель</th>\n",
       "      <th>время</th>\n",
       "      <th>RMSE</th>\n",
       "    </tr>\n",
       "  </thead>\n",
       "  <tbody>\n",
       "    <tr>\n",
       "      <td>0</td>\n",
       "      <td>линеная регрессия</td>\n",
       "      <td>1.088051</td>\n",
       "      <td>3297.346001</td>\n",
       "    </tr>\n",
       "    <tr>\n",
       "      <td>1</td>\n",
       "      <td>случайный лес</td>\n",
       "      <td>318.338332</td>\n",
       "      <td>1740.441376</td>\n",
       "    </tr>\n",
       "    <tr>\n",
       "      <td>2</td>\n",
       "      <td>catboost</td>\n",
       "      <td>302.054998</td>\n",
       "      <td>1729.100403</td>\n",
       "    </tr>\n",
       "    <tr>\n",
       "      <td>3</td>\n",
       "      <td>lgblight</td>\n",
       "      <td>2.356131</td>\n",
       "      <td>1750.329443</td>\n",
       "    </tr>\n",
       "  </tbody>\n",
       "</table>\n",
       "</div>"
      ],
      "text/plain": [
       "              модель       время         RMSE\n",
       "0  линеная регрессия    1.088051  3297.346001\n",
       "1      случайный лес  318.338332  1740.441376\n",
       "2           catboost  302.054998  1729.100403\n",
       "3           lgblight    2.356131  1750.329443"
      ]
     },
     "execution_count": 76,
     "metadata": {},
     "output_type": "execute_result"
    }
   ],
   "source": [
    "train_table"
   ]
  },
  {
   "cell_type": "markdown",
   "metadata": {},
   "source": [
    "Таким образом наиболее точное оучение произошло моделью catboost, однако на это около 5 минут, у lgblight значение метрики примерно такое же, но обучене длило 2 сек.\n",
    "Рассмотрим как поведут данные модели на тестовых данных"
   ]
  },
  {
   "cell_type": "markdown",
   "metadata": {},
   "source": [
    "## Анализ моделей"
   ]
  },
  {
   "cell_type": "markdown",
   "metadata": {},
   "source": [
    "Создадим сводную таблицу по нашим моделям"
   ]
  },
  {
   "cell_type": "code",
   "execution_count": 77,
   "metadata": {},
   "outputs": [],
   "source": [
    "def check_RMSE(model,target,features):\n",
    "    start=timeit.default_timer()\n",
    "    pred=model.predict(features)\n",
    "    Time=timeit.default_timer()-start\n",
    "    return mean_squared_error(target,pred)**0.5,Time"
   ]
  },
  {
   "cell_type": "code",
   "execution_count": 78,
   "metadata": {},
   "outputs": [],
   "source": [
    "test_table=pd.DataFrame(columns=['модель','время предсказания','RMSE'])"
   ]
  },
  {
   "cell_type": "code",
   "execution_count": 79,
   "metadata": {},
   "outputs": [],
   "source": [
    "test_table=test_table.append({'модель':'линеная регрессия',\n",
    "                               'время предсказания':check_RMSE(LinearRegression_model,target_code_test,features_code_test)[1],\n",
    "                               'RMSE':check_RMSE(LinearRegression_model,target_code_test,features_code_test)[0]},ignore_index=True)"
   ]
  },
  {
   "cell_type": "code",
   "execution_count": 80,
   "metadata": {},
   "outputs": [],
   "source": [
    "test_table=test_table.append({'модель':'случайный лес',\n",
    "                               'время предсказания':check_RMSE(forest_model,target_code_test,features_code_test)[1],\n",
    "                               'RMSE':check_RMSE(forest_model,target_code_test,features_code_test)[0]},ignore_index=True)"
   ]
  },
  {
   "cell_type": "code",
   "execution_count": 81,
   "metadata": {},
   "outputs": [],
   "source": [
    "test_table=test_table.append({'модель':'catboost',\n",
    "                               'время предсказания':check_RMSE(model,target_test,features_test)[1],\n",
    "                               'RMSE':check_RMSE(model,target_test,features_test)[0]},ignore_index=True)"
   ]
  },
  {
   "cell_type": "code",
   "execution_count": 82,
   "metadata": {},
   "outputs": [],
   "source": [
    "test_table=test_table.append({'модель':'lgblight',\n",
    "                               'время предсказания':check_RMSE(gbm,target_test,feature_test_lgb)[1],\n",
    "                               'RMSE':check_RMSE(gbm,target_test,feature_test_lgb)[0]},ignore_index=True)"
   ]
  },
  {
   "cell_type": "code",
   "execution_count": 83,
   "metadata": {},
   "outputs": [],
   "source": [
    "\n",
    "test_table['время обучения']=train_table['время']\n"
   ]
  },
  {
   "cell_type": "code",
   "execution_count": 84,
   "metadata": {},
   "outputs": [
    {
     "data": {
      "text/html": [
       "<div>\n",
       "<style scoped>\n",
       "    .dataframe tbody tr th:only-of-type {\n",
       "        vertical-align: middle;\n",
       "    }\n",
       "\n",
       "    .dataframe tbody tr th {\n",
       "        vertical-align: top;\n",
       "    }\n",
       "\n",
       "    .dataframe thead th {\n",
       "        text-align: right;\n",
       "    }\n",
       "</style>\n",
       "<table border=\"1\" class=\"dataframe\">\n",
       "  <thead>\n",
       "    <tr style=\"text-align: right;\">\n",
       "      <th></th>\n",
       "      <th>модель</th>\n",
       "      <th>время предсказания</th>\n",
       "      <th>RMSE</th>\n",
       "      <th>время обучения</th>\n",
       "    </tr>\n",
       "  </thead>\n",
       "  <tbody>\n",
       "    <tr>\n",
       "      <td>0</td>\n",
       "      <td>линеная регрессия</td>\n",
       "      <td>0.017524</td>\n",
       "      <td>3287.341169</td>\n",
       "      <td>1.088051</td>\n",
       "    </tr>\n",
       "    <tr>\n",
       "      <td>1</td>\n",
       "      <td>случайный лес</td>\n",
       "      <td>1.283861</td>\n",
       "      <td>1711.406495</td>\n",
       "      <td>318.338332</td>\n",
       "    </tr>\n",
       "    <tr>\n",
       "      <td>2</td>\n",
       "      <td>catboost</td>\n",
       "      <td>0.391603</td>\n",
       "      <td>1734.065986</td>\n",
       "      <td>302.054998</td>\n",
       "    </tr>\n",
       "    <tr>\n",
       "      <td>3</td>\n",
       "      <td>lgblight</td>\n",
       "      <td>0.092973</td>\n",
       "      <td>1784.732876</td>\n",
       "      <td>2.356131</td>\n",
       "    </tr>\n",
       "  </tbody>\n",
       "</table>\n",
       "</div>"
      ],
      "text/plain": [
       "              модель  время предсказания         RMSE  время обучения\n",
       "0  линеная регрессия            0.017524  3287.341169        1.088051\n",
       "1      случайный лес            1.283861  1711.406495      318.338332\n",
       "2           catboost            0.391603  1734.065986      302.054998\n",
       "3           lgblight            0.092973  1784.732876        2.356131"
      ]
     },
     "execution_count": 84,
     "metadata": {},
     "output_type": "execute_result"
    }
   ],
   "source": [
    "test_table"
   ]
  },
  {
   "cell_type": "markdown",
   "metadata": {},
   "source": [
    "## Вывод"
   ]
  },
  {
   "cell_type": "markdown",
   "metadata": {},
   "source": [
    "Работа проводилась в несколлько этапов. На первом этапе был обработан сам исходный датафрейм. В результате обработки пришлось очистить около 18 процентов данных, так как эти данные содержали пропуски по большинству важных фич и замене не подлежали. Также исходный датасет содержал и дублирующие значения. \n",
    "\n",
    "Из оставшегося датафрефма около 10 процетов объектов содержали пропуски по одной или нескольких фич. Данные пропуски были обработаны по макимально популярными признаками исходя из брэнда и модели.\n",
    "\n",
    "Также стоит отметить, что для предсказания был введен еще один признак как возраст авто, так как сами по себе признаки из исходного датафрема(Год регистрации и год подачи объявления) не несли в себе что то важное.\n",
    "\n",
    "Для обучения исполльзовались модели линейной регрессии, случайного леса, модели градиетного бустинга на библиотеках catboost и lgblight. В качестве метрики использовалась RMSE.\n",
    "\n",
    "В результате обучения необходимое значение метрики достигли 3 модели: случайный лес, градиентный бустинг. Значение метрики у таких моделей примерно одинаковое и равно 1720, однако на обучение случаного леса и библиотекой catboost потребовалось около 5 минут, а библиотекой lgblight намного меньше.\n",
    "\n",
    "Проверка на тестовой выборке подвердила заначения и выбор модели.\n",
    "\n",
    "Таким образом исходя из ТЗ выбрана модель обучения градиентным бустингом библиотекой lgblight"
   ]
  }
 ],
 "metadata": {
  "ExecuteTimeLog": [
   {
    "duration": 391,
    "start_time": "2021-06-27T18:24:10.177Z"
   },
   {
    "duration": 779,
    "start_time": "2021-06-27T18:24:12.756Z"
   },
   {
    "duration": 1235,
    "start_time": "2021-06-27T18:24:14.975Z"
   },
   {
    "duration": 31,
    "start_time": "2021-06-27T18:24:38.517Z"
   },
   {
    "duration": 162,
    "start_time": "2021-06-27T18:33:56.547Z"
   },
   {
    "duration": 184,
    "start_time": "2021-06-27T18:34:09.524Z"
   },
   {
    "duration": 150,
    "start_time": "2021-06-27T18:34:24.613Z"
   },
   {
    "duration": 90,
    "start_time": "2021-06-27T18:35:50.545Z"
   },
   {
    "duration": 60,
    "start_time": "2021-06-27T18:39:16.792Z"
   },
   {
    "duration": 59,
    "start_time": "2021-06-27T18:39:40.081Z"
   },
   {
    "duration": 59,
    "start_time": "2021-06-27T18:40:30.676Z"
   },
   {
    "duration": 109,
    "start_time": "2021-06-27T18:41:11.309Z"
   },
   {
    "duration": 747,
    "start_time": "2021-06-28T16:55:56.078Z"
   },
   {
    "duration": 1067,
    "start_time": "2021-06-28T16:55:57.996Z"
   },
   {
    "duration": 30,
    "start_time": "2021-06-28T16:55:59.499Z"
   },
   {
    "duration": 165,
    "start_time": "2021-06-28T16:56:01.866Z"
   },
   {
    "duration": 150,
    "start_time": "2021-06-28T16:56:03.549Z"
   },
   {
    "duration": 22,
    "start_time": "2021-06-28T16:57:20.541Z"
   },
   {
    "duration": 21,
    "start_time": "2021-06-28T16:57:26.332Z"
   },
   {
    "duration": 22,
    "start_time": "2021-06-28T16:58:28.859Z"
   },
   {
    "duration": 20,
    "start_time": "2021-06-28T16:59:59.119Z"
   },
   {
    "duration": 36,
    "start_time": "2021-06-28T17:00:11.269Z"
   },
   {
    "duration": 415,
    "start_time": "2021-06-28T17:00:36.110Z"
   },
   {
    "duration": 318,
    "start_time": "2021-06-28T17:01:09.373Z"
   },
   {
    "duration": 350,
    "start_time": "2021-06-28T17:01:16.068Z"
   },
   {
    "duration": 25,
    "start_time": "2021-06-28T17:01:23.111Z"
   },
   {
    "duration": 329,
    "start_time": "2021-06-28T17:05:39.497Z"
   },
   {
    "duration": 356,
    "start_time": "2021-06-28T17:05:49.394Z"
   },
   {
    "duration": 333,
    "start_time": "2021-06-28T17:06:17.241Z"
   },
   {
    "duration": 71,
    "start_time": "2021-06-28T17:06:39.747Z"
   },
   {
    "duration": 110,
    "start_time": "2021-06-28T17:06:54.940Z"
   },
   {
    "duration": 98,
    "start_time": "2021-06-28T17:08:38.911Z"
   },
   {
    "duration": 382,
    "start_time": "2021-06-28T17:09:35.993Z"
   },
   {
    "duration": 69,
    "start_time": "2021-06-28T17:10:21.516Z"
   },
   {
    "duration": 415,
    "start_time": "2021-06-28T17:10:46.989Z"
   },
   {
    "duration": 338,
    "start_time": "2021-06-28T17:10:53.940Z"
   },
   {
    "duration": 101,
    "start_time": "2021-06-28T17:11:05.325Z"
   },
   {
    "duration": 339,
    "start_time": "2021-06-28T17:11:11.052Z"
   },
   {
    "duration": 68,
    "start_time": "2021-06-28T17:11:17.726Z"
   },
   {
    "duration": 75,
    "start_time": "2021-06-28T17:12:23.912Z"
   },
   {
    "duration": 8,
    "start_time": "2021-06-28T17:32:49.976Z"
   },
   {
    "duration": 23,
    "start_time": "2021-06-28T17:41:31.290Z"
   },
   {
    "duration": 158,
    "start_time": "2021-06-28T17:41:42.069Z"
   },
   {
    "duration": 98,
    "start_time": "2021-06-28T17:42:14.764Z"
   },
   {
    "duration": 168,
    "start_time": "2021-06-28T17:45:37.745Z"
   },
   {
    "duration": 155,
    "start_time": "2021-06-28T17:45:43.314Z"
   },
   {
    "duration": 445,
    "start_time": "2021-06-28T17:45:57.121Z"
   },
   {
    "duration": 162,
    "start_time": "2021-06-28T17:46:33.517Z"
   },
   {
    "duration": 309,
    "start_time": "2021-06-28T17:52:33.692Z"
   },
   {
    "duration": 186,
    "start_time": "2021-06-28T17:52:40.183Z"
   },
   {
    "duration": 157,
    "start_time": "2021-06-28T17:53:11.577Z"
   },
   {
    "duration": 151,
    "start_time": "2021-06-28T17:53:22.877Z"
   },
   {
    "duration": 143,
    "start_time": "2021-06-28T17:53:47.174Z"
   },
   {
    "duration": 59,
    "start_time": "2021-06-28T17:58:20.217Z"
   },
   {
    "duration": 327,
    "start_time": "2021-06-28T17:58:59.555Z"
   },
   {
    "duration": 340,
    "start_time": "2021-06-28T17:59:07.611Z"
   },
   {
    "duration": 337,
    "start_time": "2021-06-28T17:59:11.995Z"
   },
   {
    "duration": 335,
    "start_time": "2021-06-28T17:59:15.908Z"
   },
   {
    "duration": 38,
    "start_time": "2021-06-28T18:31:00.796Z"
   },
   {
    "duration": 71,
    "start_time": "2021-06-28T18:31:07.568Z"
   },
   {
    "duration": 7,
    "start_time": "2021-06-28T18:43:36.199Z"
   },
   {
    "duration": 27,
    "start_time": "2021-06-28T18:43:39.344Z"
   },
   {
    "duration": 58,
    "start_time": "2021-06-28T19:06:35.261Z"
   },
   {
    "duration": 50,
    "start_time": "2021-06-28T19:06:38.525Z"
   },
   {
    "duration": 988,
    "start_time": "2021-07-07T18:38:50.696Z"
   },
   {
    "duration": 1527,
    "start_time": "2021-07-07T18:38:51.687Z"
   },
   {
    "duration": 55,
    "start_time": "2021-07-07T18:38:53.217Z"
   },
   {
    "duration": 280,
    "start_time": "2021-07-07T18:38:53.275Z"
   },
   {
    "duration": 282,
    "start_time": "2021-07-07T18:38:53.557Z"
   },
   {
    "duration": 7,
    "start_time": "2021-07-07T18:38:53.842Z"
   },
   {
    "duration": 33,
    "start_time": "2021-07-07T18:38:53.851Z"
   },
   {
    "duration": 165,
    "start_time": "2021-07-07T18:38:53.887Z"
   },
   {
    "duration": 29,
    "start_time": "2021-07-07T18:38:54.055Z"
   },
   {
    "duration": 716,
    "start_time": "2021-07-07T18:38:54.087Z"
   },
   {
    "duration": -1282,
    "start_time": "2021-07-07T18:38:56.088Z"
   },
   {
    "duration": -1283,
    "start_time": "2021-07-07T18:38:56.090Z"
   },
   {
    "duration": -1282,
    "start_time": "2021-07-07T18:38:56.091Z"
   },
   {
    "duration": 155,
    "start_time": "2021-07-07T18:39:38.047Z"
   },
   {
    "duration": 152,
    "start_time": "2021-07-07T18:39:53.272Z"
   },
   {
    "duration": 154,
    "start_time": "2021-07-07T18:40:00.441Z"
   },
   {
    "duration": 3,
    "start_time": "2021-07-07T18:49:10.212Z"
   },
   {
    "duration": 413,
    "start_time": "2021-07-07T18:50:13.366Z"
   },
   {
    "duration": 101,
    "start_time": "2021-07-07T18:50:22.615Z"
   },
   {
    "duration": 4,
    "start_time": "2021-07-07T18:50:26.207Z"
   },
   {
    "duration": 5,
    "start_time": "2021-07-07T18:50:38.191Z"
   },
   {
    "duration": 5,
    "start_time": "2021-07-07T18:53:50.951Z"
   },
   {
    "duration": 5,
    "start_time": "2021-07-07T18:55:31.675Z"
   },
   {
    "duration": 5,
    "start_time": "2021-07-07T18:55:51.460Z"
   },
   {
    "duration": 4,
    "start_time": "2021-07-07T18:57:02.719Z"
   },
   {
    "duration": 5,
    "start_time": "2021-07-07T18:57:13.567Z"
   },
   {
    "duration": 5,
    "start_time": "2021-07-07T18:58:45.337Z"
   },
   {
    "duration": 4,
    "start_time": "2021-07-07T18:59:36.356Z"
   },
   {
    "duration": 359,
    "start_time": "2021-07-07T18:59:53.612Z"
   },
   {
    "duration": 3,
    "start_time": "2021-07-07T19:00:51.785Z"
   },
   {
    "duration": 78,
    "start_time": "2021-07-07T19:01:34.129Z"
   },
   {
    "duration": 175,
    "start_time": "2021-07-07T19:01:51.633Z"
   },
   {
    "duration": 870,
    "start_time": "2021-07-07T19:02:32.555Z"
   },
   {
    "duration": 180,
    "start_time": "2021-07-07T19:16:37.206Z"
   },
   {
    "duration": 753,
    "start_time": "2021-07-07T19:20:32.268Z"
   },
   {
    "duration": 1121,
    "start_time": "2021-07-07T19:20:33.024Z"
   },
   {
    "duration": 35,
    "start_time": "2021-07-07T19:20:34.148Z"
   },
   {
    "duration": 186,
    "start_time": "2021-07-07T19:20:34.186Z"
   },
   {
    "duration": 170,
    "start_time": "2021-07-07T19:20:34.374Z"
   },
   {
    "duration": 20,
    "start_time": "2021-07-07T19:20:34.546Z"
   },
   {
    "duration": 25,
    "start_time": "2021-07-07T19:20:34.569Z"
   },
   {
    "duration": 15,
    "start_time": "2021-07-07T19:20:34.597Z"
   },
   {
    "duration": 189,
    "start_time": "2021-07-07T19:20:34.615Z"
   },
   {
    "duration": 403,
    "start_time": "2021-07-07T19:20:34.807Z"
   },
   {
    "duration": -927,
    "start_time": "2021-07-07T19:20:36.140Z"
   },
   {
    "duration": 591,
    "start_time": "2021-07-07T19:20:53.930Z"
   },
   {
    "duration": 206,
    "start_time": "2021-07-07T19:20:56.738Z"
   },
   {
    "duration": 306,
    "start_time": "2021-07-07T19:21:18.666Z"
   },
   {
    "duration": 113,
    "start_time": "2021-07-07T19:21:25.637Z"
   },
   {
    "duration": 134710,
    "start_time": "2021-07-07T19:23:50.353Z"
   },
   {
    "duration": 8,
    "start_time": "2021-07-07T19:33:32.427Z"
   },
   {
    "duration": 14170,
    "start_time": "2021-07-07T19:33:39.776Z"
   },
   {
    "duration": 384,
    "start_time": "2021-07-07T19:34:00.720Z"
   },
   {
    "duration": 385,
    "start_time": "2021-07-07T19:34:13.272Z"
   },
   {
    "duration": 530,
    "start_time": "2021-07-07T19:35:34.324Z"
   },
   {
    "duration": 486,
    "start_time": "2021-07-07T19:36:21.366Z"
   },
   {
    "duration": 443,
    "start_time": "2021-07-07T19:36:51.936Z"
   },
   {
    "duration": 344,
    "start_time": "2021-07-07T19:37:16.432Z"
   },
   {
    "duration": 4,
    "start_time": "2021-07-07T19:38:04.106Z"
   },
   {
    "duration": 235,
    "start_time": "2021-07-07T19:38:29.618Z"
   },
   {
    "duration": 583,
    "start_time": "2021-07-07T19:38:47.708Z"
   },
   {
    "duration": 344,
    "start_time": "2021-07-07T19:43:08.734Z"
   },
   {
    "duration": 406,
    "start_time": "2021-07-07T19:45:35.490Z"
   },
   {
    "duration": 931,
    "start_time": "2021-07-07T19:46:22.845Z"
   },
   {
    "duration": 409,
    "start_time": "2021-07-09T17:29:39.535Z"
   },
   {
    "duration": 1812,
    "start_time": "2021-07-09T17:29:46.939Z"
   },
   {
    "duration": 1768,
    "start_time": "2021-07-09T17:29:48.755Z"
   },
   {
    "duration": 40,
    "start_time": "2021-07-09T17:29:50.526Z"
   },
   {
    "duration": 164,
    "start_time": "2021-07-09T17:29:50.569Z"
   },
   {
    "duration": 169,
    "start_time": "2021-07-09T17:29:50.735Z"
   },
   {
    "duration": 7,
    "start_time": "2021-07-09T17:29:50.906Z"
   },
   {
    "duration": 35,
    "start_time": "2021-07-09T17:29:50.915Z"
   },
   {
    "duration": 16,
    "start_time": "2021-07-09T17:29:50.953Z"
   },
   {
    "duration": 182,
    "start_time": "2021-07-09T17:29:50.973Z"
   },
   {
    "duration": 699,
    "start_time": "2021-07-09T17:29:51.158Z"
   },
   {
    "duration": 159,
    "start_time": "2021-07-09T17:29:51.859Z"
   },
   {
    "duration": 9,
    "start_time": "2021-07-09T17:29:52.020Z"
   },
   {
    "duration": 27,
    "start_time": "2021-07-09T17:30:12.638Z"
   },
   {
    "duration": 414,
    "start_time": "2021-07-09T17:32:07.356Z"
   },
   {
    "duration": 878,
    "start_time": "2021-07-09T17:32:12.739Z"
   },
   {
    "duration": 52,
    "start_time": "2021-07-09T17:32:28.156Z"
   },
   {
    "duration": 352,
    "start_time": "2021-07-09T17:32:39.786Z"
   },
   {
    "duration": 321,
    "start_time": "2021-07-09T17:36:47.662Z"
   },
   {
    "duration": 124,
    "start_time": "2021-07-09T17:41:02.959Z"
   },
   {
    "duration": 101,
    "start_time": "2021-07-09T17:41:52.314Z"
   },
   {
    "duration": 76,
    "start_time": "2021-07-09T17:42:44.644Z"
   },
   {
    "duration": 128,
    "start_time": "2021-07-09T17:44:51.481Z"
   },
   {
    "duration": 136,
    "start_time": "2021-07-09T17:45:12.058Z"
   },
   {
    "duration": 122,
    "start_time": "2021-07-09T17:45:18.866Z"
   },
   {
    "duration": 115,
    "start_time": "2021-07-09T17:50:06.020Z"
   },
   {
    "duration": 10,
    "start_time": "2021-07-09T17:54:38.919Z"
   },
   {
    "duration": 8,
    "start_time": "2021-07-09T17:55:07.001Z"
   },
   {
    "duration": 362,
    "start_time": "2021-07-09T17:55:22.978Z"
   },
   {
    "duration": 345,
    "start_time": "2021-07-09T17:55:26.108Z"
   },
   {
    "duration": 366,
    "start_time": "2021-07-09T17:55:59.492Z"
   },
   {
    "duration": 8,
    "start_time": "2021-07-09T17:56:05.683Z"
   },
   {
    "duration": 9,
    "start_time": "2021-07-09T17:56:51.989Z"
   },
   {
    "duration": 7,
    "start_time": "2021-07-09T17:57:02.751Z"
   },
   {
    "duration": 8,
    "start_time": "2021-07-09T17:59:52.996Z"
   },
   {
    "duration": 8,
    "start_time": "2021-07-09T18:00:06.664Z"
   },
   {
    "duration": 7,
    "start_time": "2021-07-09T18:00:26.692Z"
   },
   {
    "duration": 37,
    "start_time": "2021-07-09T18:00:46.156Z"
   },
   {
    "duration": 111,
    "start_time": "2021-07-09T18:00:59.797Z"
   },
   {
    "duration": 36,
    "start_time": "2021-07-09T18:01:01.061Z"
   },
   {
    "duration": 345,
    "start_time": "2021-07-09T18:01:11.728Z"
   },
   {
    "duration": 23,
    "start_time": "2021-07-09T18:01:28.993Z"
   },
   {
    "duration": 16,
    "start_time": "2021-07-09T18:01:46.007Z"
   },
   {
    "duration": 13,
    "start_time": "2021-07-09T18:01:50.623Z"
   },
   {
    "duration": 1276,
    "start_time": "2021-07-09T18:03:37.804Z"
   },
   {
    "duration": 16,
    "start_time": "2021-07-09T18:03:48.964Z"
   },
   {
    "duration": 4,
    "start_time": "2021-07-09T18:10:15.426Z"
   },
   {
    "duration": 3,
    "start_time": "2021-07-09T18:10:22.618Z"
   },
   {
    "duration": 28,
    "start_time": "2021-07-09T18:10:39.899Z"
   },
   {
    "duration": 848,
    "start_time": "2021-07-09T18:11:18.009Z"
   },
   {
    "duration": 1171,
    "start_time": "2021-07-09T18:11:18.860Z"
   },
   {
    "duration": 38,
    "start_time": "2021-07-09T18:11:20.034Z"
   },
   {
    "duration": 172,
    "start_time": "2021-07-09T18:11:20.075Z"
   },
   {
    "duration": 173,
    "start_time": "2021-07-09T18:11:20.250Z"
   },
   {
    "duration": 7,
    "start_time": "2021-07-09T18:11:20.425Z"
   },
   {
    "duration": 42,
    "start_time": "2021-07-09T18:11:20.434Z"
   },
   {
    "duration": 9,
    "start_time": "2021-07-09T18:11:20.481Z"
   },
   {
    "duration": 182,
    "start_time": "2021-07-09T18:11:20.493Z"
   },
   {
    "duration": 602,
    "start_time": "2021-07-09T18:11:20.678Z"
   },
   {
    "duration": 162,
    "start_time": "2021-07-09T18:11:21.282Z"
   },
   {
    "duration": 130,
    "start_time": "2021-07-09T18:11:21.447Z"
   },
   {
    "duration": 4,
    "start_time": "2021-07-09T18:11:21.580Z"
   },
   {
    "duration": 40,
    "start_time": "2021-07-09T18:11:21.587Z"
   },
   {
    "duration": 36,
    "start_time": "2021-07-09T18:11:21.630Z"
   },
   {
    "duration": 26,
    "start_time": "2021-07-09T18:11:21.668Z"
   },
   {
    "duration": 343,
    "start_time": "2021-07-09T18:11:21.696Z"
   },
   {
    "duration": 26,
    "start_time": "2021-07-09T18:11:45.459Z"
   },
   {
    "duration": 4,
    "start_time": "2021-07-09T18:13:48.720Z"
   },
   {
    "duration": 41,
    "start_time": "2021-07-09T18:13:49.600Z"
   },
   {
    "duration": 4,
    "start_time": "2021-07-09T18:15:02.169Z"
   },
   {
    "duration": 566,
    "start_time": "2021-07-09T18:15:03.306Z"
   },
   {
    "duration": 3,
    "start_time": "2021-07-09T18:15:09.426Z"
   },
   {
    "duration": 58,
    "start_time": "2021-07-09T18:15:10.355Z"
   },
   {
    "duration": 11,
    "start_time": "2021-07-09T18:18:00.201Z"
   },
   {
    "duration": 9727,
    "start_time": "2021-07-09T18:19:43.957Z"
   },
   {
    "duration": 27,
    "start_time": "2021-07-09T18:19:59.022Z"
   },
   {
    "duration": 358,
    "start_time": "2021-07-09T18:24:13.408Z"
   },
   {
    "duration": 7910,
    "start_time": "2021-07-09T18:25:11.650Z"
   },
   {
    "duration": 11162,
    "start_time": "2021-07-09T18:25:44.076Z"
   },
   {
    "duration": 5,
    "start_time": "2021-07-09T18:26:29.544Z"
   },
   {
    "duration": 8311,
    "start_time": "2021-07-09T18:26:55.435Z"
   },
   {
    "duration": 17967,
    "start_time": "2021-07-09T18:27:42.588Z"
   },
   {
    "duration": 8,
    "start_time": "2021-07-09T18:28:12.374Z"
   },
   {
    "duration": 4,
    "start_time": "2021-07-09T18:28:47.516Z"
   },
   {
    "duration": 5,
    "start_time": "2021-07-09T18:29:00.554Z"
   },
   {
    "duration": 5,
    "start_time": "2021-07-09T18:29:06.118Z"
   },
   {
    "duration": 3798,
    "start_time": "2021-07-09T18:29:09.268Z"
   },
   {
    "duration": 8721,
    "start_time": "2021-07-09T18:30:38.345Z"
   },
   {
    "duration": 112,
    "start_time": "2021-07-09T18:40:44.576Z"
   },
   {
    "duration": 3,
    "start_time": "2021-07-09T18:41:39.821Z"
   },
   {
    "duration": 324,
    "start_time": "2021-07-09T18:42:04.241Z"
   },
   {
    "duration": 3,
    "start_time": "2021-07-09T18:44:30.523Z"
   },
   {
    "duration": 324,
    "start_time": "2021-07-09T18:44:30.879Z"
   },
   {
    "duration": 7751,
    "start_time": "2021-07-09T18:49:21.049Z"
   },
   {
    "duration": -341,
    "start_time": "2021-07-09T18:49:29.144Z"
   },
   {
    "duration": 3,
    "start_time": "2021-07-09T18:49:31.601Z"
   },
   {
    "duration": 6694,
    "start_time": "2021-07-09T18:49:32.314Z"
   },
   {
    "duration": 4,
    "start_time": "2021-07-09T18:51:23.485Z"
   },
   {
    "duration": 3,
    "start_time": "2021-07-09T18:51:29.007Z"
   },
   {
    "duration": 319,
    "start_time": "2021-07-09T18:51:42.590Z"
   },
   {
    "duration": 4,
    "start_time": "2021-07-09T18:53:23.114Z"
   },
   {
    "duration": 710,
    "start_time": "2021-07-09T18:53:30.963Z"
   },
   {
    "duration": 3,
    "start_time": "2021-07-09T18:53:42.348Z"
   },
   {
    "duration": 322571,
    "start_time": "2021-07-09T18:53:43.187Z"
   },
   {
    "duration": 7899,
    "start_time": "2021-07-09T19:32:51.207Z"
   },
   {
    "duration": 8416,
    "start_time": "2021-07-09T19:33:23.543Z"
   },
   {
    "duration": 3632,
    "start_time": "2021-07-09T19:33:41.471Z"
   },
   {
    "duration": 116,
    "start_time": "2021-07-09T19:37:15.908Z"
   },
   {
    "duration": 8310,
    "start_time": "2021-07-09T19:37:40.425Z"
   },
   {
    "duration": 6,
    "start_time": "2021-07-09T19:39:29.979Z"
   },
   {
    "duration": 6,
    "start_time": "2021-07-09T19:39:36.700Z"
   },
   {
    "duration": 8,
    "start_time": "2021-07-09T19:39:58.960Z"
   },
   {
    "duration": 10,
    "start_time": "2021-07-09T19:40:07.784Z"
   },
   {
    "duration": 330,
    "start_time": "2021-07-09T19:41:52.625Z"
   },
   {
    "duration": 4,
    "start_time": "2021-07-09T19:42:03.211Z"
   },
   {
    "duration": 306,
    "start_time": "2021-07-09T19:42:11.531Z"
   },
   {
    "duration": 10,
    "start_time": "2021-07-09T19:42:31.468Z"
   },
   {
    "duration": 317,
    "start_time": "2021-07-09T19:43:24.918Z"
   },
   {
    "duration": 9,
    "start_time": "2021-07-09T19:44:59.229Z"
   },
   {
    "duration": 13,
    "start_time": "2021-07-09T19:45:10.568Z"
   },
   {
    "duration": 288,
    "start_time": "2021-07-11T18:26:01.619Z"
   },
   {
    "duration": 642,
    "start_time": "2021-07-11T18:26:16.132Z"
   },
   {
    "duration": 694,
    "start_time": "2021-07-11T18:26:16.776Z"
   },
   {
    "duration": 14,
    "start_time": "2021-07-11T18:26:17.474Z"
   },
   {
    "duration": 122,
    "start_time": "2021-07-11T18:26:17.490Z"
   },
   {
    "duration": 115,
    "start_time": "2021-07-11T18:26:17.613Z"
   },
   {
    "duration": 12,
    "start_time": "2021-07-11T18:26:17.729Z"
   },
   {
    "duration": 17,
    "start_time": "2021-07-11T18:26:17.743Z"
   },
   {
    "duration": 3,
    "start_time": "2021-07-11T18:26:17.763Z"
   },
   {
    "duration": 120,
    "start_time": "2021-07-11T18:26:17.767Z"
   },
   {
    "duration": 343,
    "start_time": "2021-07-11T18:26:17.889Z"
   },
   {
    "duration": 120,
    "start_time": "2021-07-11T18:26:18.234Z"
   },
   {
    "duration": 97,
    "start_time": "2021-07-11T18:26:18.355Z"
   },
   {
    "duration": -199,
    "start_time": "2021-07-11T18:26:18.653Z"
   },
   {
    "duration": -198,
    "start_time": "2021-07-11T18:26:18.654Z"
   },
   {
    "duration": 301,
    "start_time": "2021-07-11T18:26:21.729Z"
   },
   {
    "duration": 18,
    "start_time": "2021-07-11T18:26:28.911Z"
   },
   {
    "duration": 277,
    "start_time": "2021-07-11T18:27:44.852Z"
   },
   {
    "duration": 157,
    "start_time": "2021-07-11T18:27:59.140Z"
   },
   {
    "duration": 189,
    "start_time": "2021-07-11T18:52:08.749Z"
   },
   {
    "duration": 21,
    "start_time": "2021-07-11T18:54:55.282Z"
   },
   {
    "duration": 606,
    "start_time": "2021-07-11T18:56:00.380Z"
   },
   {
    "duration": 746,
    "start_time": "2021-07-11T18:56:00.987Z"
   },
   {
    "duration": 20,
    "start_time": "2021-07-11T18:56:01.737Z"
   },
   {
    "duration": 141,
    "start_time": "2021-07-11T18:56:01.759Z"
   },
   {
    "duration": 60,
    "start_time": "2021-07-11T18:56:01.902Z"
   },
   {
    "duration": 120,
    "start_time": "2021-07-11T18:56:01.964Z"
   },
   {
    "duration": 7,
    "start_time": "2021-07-11T18:56:02.086Z"
   },
   {
    "duration": 30,
    "start_time": "2021-07-11T18:56:02.095Z"
   },
   {
    "duration": 8,
    "start_time": "2021-07-11T18:56:02.127Z"
   },
   {
    "duration": 110,
    "start_time": "2021-07-11T18:56:02.141Z"
   },
   {
    "duration": 345,
    "start_time": "2021-07-11T18:56:02.253Z"
   },
   {
    "duration": 112,
    "start_time": "2021-07-11T18:56:02.600Z"
   },
   {
    "duration": 163,
    "start_time": "2021-07-11T18:56:02.714Z"
   },
   {
    "duration": 16,
    "start_time": "2021-07-11T18:56:02.879Z"
   },
   {
    "duration": 188,
    "start_time": "2021-07-11T18:56:02.897Z"
   },
   {
    "duration": 383,
    "start_time": "2021-07-11T19:02:04.454Z"
   },
   {
    "duration": 247,
    "start_time": "2021-07-11T19:02:10.572Z"
   },
   {
    "duration": 241,
    "start_time": "2021-07-11T19:02:26.463Z"
   },
   {
    "duration": 35,
    "start_time": "2021-07-11T19:02:46.215Z"
   },
   {
    "duration": 35,
    "start_time": "2021-07-11T19:02:58.624Z"
   },
   {
    "duration": 266,
    "start_time": "2021-07-11T19:04:37.663Z"
   },
   {
    "duration": 643,
    "start_time": "2021-07-11T19:04:56.356Z"
   },
   {
    "duration": 734,
    "start_time": "2021-07-11T19:04:57.001Z"
   },
   {
    "duration": 14,
    "start_time": "2021-07-11T19:04:57.737Z"
   },
   {
    "duration": 122,
    "start_time": "2021-07-11T19:04:57.753Z"
   },
   {
    "duration": 48,
    "start_time": "2021-07-11T19:04:57.877Z"
   },
   {
    "duration": 78,
    "start_time": "2021-07-11T19:04:57.926Z"
   },
   {
    "duration": -160,
    "start_time": "2021-07-11T19:04:58.166Z"
   },
   {
    "duration": -162,
    "start_time": "2021-07-11T19:04:58.168Z"
   },
   {
    "duration": -163,
    "start_time": "2021-07-11T19:04:58.170Z"
   },
   {
    "duration": -164,
    "start_time": "2021-07-11T19:04:58.172Z"
   },
   {
    "duration": -170,
    "start_time": "2021-07-11T19:04:58.179Z"
   },
   {
    "duration": -171,
    "start_time": "2021-07-11T19:04:58.181Z"
   },
   {
    "duration": -173,
    "start_time": "2021-07-11T19:04:58.184Z"
   },
   {
    "duration": -179,
    "start_time": "2021-07-11T19:04:58.190Z"
   },
   {
    "duration": -180,
    "start_time": "2021-07-11T19:04:58.192Z"
   },
   {
    "duration": -180,
    "start_time": "2021-07-11T19:04:58.193Z"
   },
   {
    "duration": 43,
    "start_time": "2021-07-11T19:05:04.917Z"
   },
   {
    "duration": 92,
    "start_time": "2021-07-11T19:08:21.827Z"
   },
   {
    "duration": 109,
    "start_time": "2021-07-11T19:08:36.916Z"
   },
   {
    "duration": 73,
    "start_time": "2021-07-11T19:11:02.039Z"
   },
   {
    "duration": 84,
    "start_time": "2021-07-11T19:11:12.143Z"
   },
   {
    "duration": 1400,
    "start_time": "2021-07-11T19:12:28.196Z"
   },
   {
    "duration": 186,
    "start_time": "2021-07-11T19:12:39.034Z"
   },
   {
    "duration": 16,
    "start_time": "2021-07-11T19:13:01.010Z"
   },
   {
    "duration": 6910,
    "start_time": "2021-07-11T19:13:41.061Z"
   },
   {
    "duration": 627,
    "start_time": "2021-07-11T19:13:52.204Z"
   },
   {
    "duration": 763,
    "start_time": "2021-07-11T19:13:52.833Z"
   },
   {
    "duration": 17,
    "start_time": "2021-07-11T19:13:53.598Z"
   },
   {
    "duration": 133,
    "start_time": "2021-07-11T19:13:53.617Z"
   },
   {
    "duration": 51,
    "start_time": "2021-07-11T19:13:53.752Z"
   },
   {
    "duration": 58,
    "start_time": "2021-07-11T19:13:53.805Z"
   },
   {
    "duration": 403,
    "start_time": "2021-07-11T19:13:53.864Z"
   },
   {
    "duration": -149,
    "start_time": "2021-07-11T19:13:54.418Z"
   },
   {
    "duration": -151,
    "start_time": "2021-07-11T19:13:54.421Z"
   },
   {
    "duration": -152,
    "start_time": "2021-07-11T19:13:54.423Z"
   },
   {
    "duration": -153,
    "start_time": "2021-07-11T19:13:54.425Z"
   },
   {
    "duration": -157,
    "start_time": "2021-07-11T19:13:54.430Z"
   },
   {
    "duration": -158,
    "start_time": "2021-07-11T19:13:54.432Z"
   },
   {
    "duration": -160,
    "start_time": "2021-07-11T19:13:54.435Z"
   },
   {
    "duration": -161,
    "start_time": "2021-07-11T19:13:54.437Z"
   },
   {
    "duration": -162,
    "start_time": "2021-07-11T19:13:54.439Z"
   },
   {
    "duration": -167,
    "start_time": "2021-07-11T19:13:54.445Z"
   },
   {
    "duration": -169,
    "start_time": "2021-07-11T19:13:54.448Z"
   },
   {
    "duration": -170,
    "start_time": "2021-07-11T19:13:54.450Z"
   },
   {
    "duration": -171,
    "start_time": "2021-07-11T19:13:54.452Z"
   },
   {
    "duration": -177,
    "start_time": "2021-07-11T19:13:54.459Z"
   },
   {
    "duration": 79,
    "start_time": "2021-07-11T19:13:59.916Z"
   },
   {
    "duration": 5,
    "start_time": "2021-07-11T19:14:28.069Z"
   },
   {
    "duration": 101,
    "start_time": "2021-07-11T19:14:56.237Z"
   },
   {
    "duration": 19,
    "start_time": "2021-07-11T19:15:00.558Z"
   },
   {
    "duration": 85,
    "start_time": "2021-07-11T19:15:31.911Z"
   },
   {
    "duration": 21,
    "start_time": "2021-07-11T19:15:35.448Z"
   },
   {
    "duration": 701,
    "start_time": "2021-07-11T19:16:08.732Z"
   },
   {
    "duration": 938,
    "start_time": "2021-07-11T19:16:09.435Z"
   },
   {
    "duration": 23,
    "start_time": "2021-07-11T19:16:10.377Z"
   },
   {
    "duration": 194,
    "start_time": "2021-07-11T19:16:10.402Z"
   },
   {
    "duration": 84,
    "start_time": "2021-07-11T19:16:10.598Z"
   },
   {
    "duration": 46,
    "start_time": "2021-07-11T19:16:10.684Z"
   },
   {
    "duration": 115,
    "start_time": "2021-07-11T19:16:10.741Z"
   },
   {
    "duration": 5,
    "start_time": "2021-07-11T19:16:10.857Z"
   },
   {
    "duration": 136,
    "start_time": "2021-07-11T19:16:10.864Z"
   },
   {
    "duration": 298,
    "start_time": "2021-07-11T19:16:11.002Z"
   },
   {
    "duration": -141,
    "start_time": "2021-07-11T19:16:11.442Z"
   },
   {
    "duration": -142,
    "start_time": "2021-07-11T19:16:11.444Z"
   },
   {
    "duration": -143,
    "start_time": "2021-07-11T19:16:11.446Z"
   },
   {
    "duration": -148,
    "start_time": "2021-07-11T19:16:11.452Z"
   },
   {
    "duration": -153,
    "start_time": "2021-07-11T19:16:11.458Z"
   },
   {
    "duration": -159,
    "start_time": "2021-07-11T19:16:11.464Z"
   },
   {
    "duration": -161,
    "start_time": "2021-07-11T19:16:11.467Z"
   },
   {
    "duration": -162,
    "start_time": "2021-07-11T19:16:11.469Z"
   },
   {
    "duration": -163,
    "start_time": "2021-07-11T19:16:11.471Z"
   },
   {
    "duration": -170,
    "start_time": "2021-07-11T19:16:11.478Z"
   },
   {
    "duration": -172,
    "start_time": "2021-07-11T19:16:11.481Z"
   },
   {
    "duration": 17,
    "start_time": "2021-07-11T19:16:14.874Z"
   },
   {
    "duration": 193,
    "start_time": "2021-07-11T19:16:22.218Z"
   },
   {
    "duration": 1424,
    "start_time": "2021-07-11T19:16:36.346Z"
   },
   {
    "duration": 23,
    "start_time": "2021-07-11T19:17:03.835Z"
   },
   {
    "duration": 681,
    "start_time": "2021-07-11T19:17:57.419Z"
   },
   {
    "duration": 797,
    "start_time": "2021-07-11T19:17:58.101Z"
   },
   {
    "duration": 17,
    "start_time": "2021-07-11T19:17:58.900Z"
   },
   {
    "duration": 135,
    "start_time": "2021-07-11T19:17:58.918Z"
   },
   {
    "duration": 51,
    "start_time": "2021-07-11T19:17:59.055Z"
   },
   {
    "duration": 59,
    "start_time": "2021-07-11T19:17:59.107Z"
   },
   {
    "duration": 108,
    "start_time": "2021-07-11T19:17:59.168Z"
   },
   {
    "duration": 5,
    "start_time": "2021-07-11T19:17:59.278Z"
   },
   {
    "duration": 109,
    "start_time": "2021-07-11T19:17:59.285Z"
   },
   {
    "duration": 19,
    "start_time": "2021-07-11T19:17:59.396Z"
   },
   {
    "duration": 376,
    "start_time": "2021-07-11T19:17:59.417Z"
   },
   {
    "duration": -154,
    "start_time": "2021-07-11T19:17:59.949Z"
   },
   {
    "duration": -155,
    "start_time": "2021-07-11T19:17:59.951Z"
   },
   {
    "duration": -161,
    "start_time": "2021-07-11T19:17:59.958Z"
   },
   {
    "duration": -164,
    "start_time": "2021-07-11T19:17:59.962Z"
   },
   {
    "duration": -164,
    "start_time": "2021-07-11T19:17:59.963Z"
   },
   {
    "duration": -170,
    "start_time": "2021-07-11T19:17:59.970Z"
   },
   {
    "duration": -171,
    "start_time": "2021-07-11T19:17:59.972Z"
   },
   {
    "duration": -172,
    "start_time": "2021-07-11T19:17:59.974Z"
   },
   {
    "duration": -174,
    "start_time": "2021-07-11T19:17:59.976Z"
   },
   {
    "duration": -179,
    "start_time": "2021-07-11T19:17:59.982Z"
   },
   {
    "duration": 19,
    "start_time": "2021-07-11T19:18:28.440Z"
   },
   {
    "duration": 254,
    "start_time": "2021-07-11T19:19:52.907Z"
   },
   {
    "duration": 252,
    "start_time": "2021-07-11T19:20:42.957Z"
   },
   {
    "duration": 240,
    "start_time": "2021-07-11T19:20:47.315Z"
   },
   {
    "duration": 146,
    "start_time": "2021-07-11T19:20:50.720Z"
   },
   {
    "duration": 19,
    "start_time": "2021-07-11T19:21:39.487Z"
   },
   {
    "duration": 79,
    "start_time": "2021-07-11T19:28:17.838Z"
   },
   {
    "duration": 612,
    "start_time": "2021-07-11T19:28:42.357Z"
   },
   {
    "duration": 725,
    "start_time": "2021-07-11T19:28:42.971Z"
   },
   {
    "duration": 14,
    "start_time": "2021-07-11T19:28:43.698Z"
   },
   {
    "duration": 126,
    "start_time": "2021-07-11T19:28:43.714Z"
   },
   {
    "duration": 50,
    "start_time": "2021-07-11T19:28:43.842Z"
   },
   {
    "duration": 57,
    "start_time": "2021-07-11T19:28:43.893Z"
   },
   {
    "duration": 18,
    "start_time": "2021-07-11T19:28:43.952Z"
   },
   {
    "duration": 368,
    "start_time": "2021-07-11T19:28:43.973Z"
   },
   {
    "duration": -133,
    "start_time": "2021-07-11T19:28:44.477Z"
   },
   {
    "duration": -135,
    "start_time": "2021-07-11T19:28:44.480Z"
   },
   {
    "duration": -137,
    "start_time": "2021-07-11T19:28:44.482Z"
   },
   {
    "duration": -143,
    "start_time": "2021-07-11T19:28:44.489Z"
   },
   {
    "duration": -143,
    "start_time": "2021-07-11T19:28:44.491Z"
   },
   {
    "duration": -145,
    "start_time": "2021-07-11T19:28:44.493Z"
   },
   {
    "duration": -147,
    "start_time": "2021-07-11T19:28:44.496Z"
   },
   {
    "duration": -153,
    "start_time": "2021-07-11T19:28:44.503Z"
   },
   {
    "duration": -154,
    "start_time": "2021-07-11T19:28:44.505Z"
   },
   {
    "duration": -155,
    "start_time": "2021-07-11T19:28:44.507Z"
   },
   {
    "duration": -156,
    "start_time": "2021-07-11T19:28:44.509Z"
   },
   {
    "duration": -161,
    "start_time": "2021-07-11T19:28:44.514Z"
   },
   {
    "duration": -162,
    "start_time": "2021-07-11T19:28:44.516Z"
   },
   {
    "duration": -163,
    "start_time": "2021-07-11T19:28:44.518Z"
   },
   {
    "duration": -164,
    "start_time": "2021-07-11T19:28:44.520Z"
   },
   {
    "duration": 3,
    "start_time": "2021-07-11T19:32:45.922Z"
   },
   {
    "duration": 6,
    "start_time": "2021-07-11T19:38:41.776Z"
   },
   {
    "duration": 4,
    "start_time": "2021-07-11T19:39:00.425Z"
   },
   {
    "duration": 90,
    "start_time": "2021-07-11T19:40:59.581Z"
   },
   {
    "duration": 5,
    "start_time": "2021-07-11T19:42:08.897Z"
   },
   {
    "duration": 175,
    "start_time": "2021-07-11T19:42:11.768Z"
   },
   {
    "duration": 79,
    "start_time": "2021-07-11T19:47:19.692Z"
   },
   {
    "duration": 79,
    "start_time": "2021-07-11T19:47:23.519Z"
   },
   {
    "duration": 108,
    "start_time": "2021-07-11T19:48:25.068Z"
   },
   {
    "duration": 3,
    "start_time": "2021-07-11T19:51:50.143Z"
   },
   {
    "duration": 5280,
    "start_time": "2021-07-11T19:52:13.583Z"
   },
   {
    "duration": 5526,
    "start_time": "2021-07-11T19:52:54.257Z"
   },
   {
    "duration": 83,
    "start_time": "2021-07-11T19:53:30.710Z"
   },
   {
    "duration": 625,
    "start_time": "2021-07-11T19:56:11.045Z"
   },
   {
    "duration": 722,
    "start_time": "2021-07-11T19:56:11.671Z"
   },
   {
    "duration": 15,
    "start_time": "2021-07-11T19:56:12.395Z"
   },
   {
    "duration": 122,
    "start_time": "2021-07-11T19:56:12.412Z"
   },
   {
    "duration": 47,
    "start_time": "2021-07-11T19:56:12.540Z"
   },
   {
    "duration": 37,
    "start_time": "2021-07-11T19:56:12.589Z"
   },
   {
    "duration": 29,
    "start_time": "2021-07-11T19:56:12.628Z"
   },
   {
    "duration": 79,
    "start_time": "2021-07-11T19:56:12.659Z"
   },
   {
    "duration": -102,
    "start_time": "2021-07-11T19:56:12.842Z"
   },
   {
    "duration": -104,
    "start_time": "2021-07-11T19:56:12.845Z"
   },
   {
    "duration": -111,
    "start_time": "2021-07-11T19:56:12.853Z"
   },
   {
    "duration": -113,
    "start_time": "2021-07-11T19:56:12.856Z"
   },
   {
    "duration": -123,
    "start_time": "2021-07-11T19:56:12.867Z"
   },
   {
    "duration": -125,
    "start_time": "2021-07-11T19:56:12.870Z"
   },
   {
    "duration": -131,
    "start_time": "2021-07-11T19:56:12.877Z"
   },
   {
    "duration": -132,
    "start_time": "2021-07-11T19:56:12.879Z"
   },
   {
    "duration": -134,
    "start_time": "2021-07-11T19:56:12.882Z"
   },
   {
    "duration": -136,
    "start_time": "2021-07-11T19:56:12.885Z"
   },
   {
    "duration": -141,
    "start_time": "2021-07-11T19:56:12.891Z"
   },
   {
    "duration": -143,
    "start_time": "2021-07-11T19:56:12.894Z"
   },
   {
    "duration": -144,
    "start_time": "2021-07-11T19:56:12.896Z"
   },
   {
    "duration": -145,
    "start_time": "2021-07-11T19:56:12.898Z"
   },
   {
    "duration": -153,
    "start_time": "2021-07-11T19:56:12.907Z"
   },
   {
    "duration": -155,
    "start_time": "2021-07-11T19:56:12.910Z"
   },
   {
    "duration": -158,
    "start_time": "2021-07-11T19:56:12.913Z"
   },
   {
    "duration": -164,
    "start_time": "2021-07-11T19:56:12.920Z"
   },
   {
    "duration": -166,
    "start_time": "2021-07-11T19:56:12.923Z"
   },
   {
    "duration": -168,
    "start_time": "2021-07-11T19:56:12.926Z"
   },
   {
    "duration": -174,
    "start_time": "2021-07-11T19:56:12.933Z"
   },
   {
    "duration": 99,
    "start_time": "2021-07-11T19:56:36.586Z"
   },
   {
    "duration": 3,
    "start_time": "2021-07-11T19:56:38.705Z"
   },
   {
    "duration": 5241,
    "start_time": "2021-07-11T19:56:43.499Z"
   },
   {
    "duration": 75,
    "start_time": "2021-07-11T19:57:10.683Z"
   },
   {
    "duration": 14,
    "start_time": "2021-07-11T19:58:19.568Z"
   },
   {
    "duration": 23,
    "start_time": "2021-07-11T19:58:57.728Z"
   },
   {
    "duration": 218,
    "start_time": "2021-07-11T20:02:17.772Z"
   },
   {
    "duration": 880,
    "start_time": "2021-07-12T18:00:54.870Z"
   },
   {
    "duration": 1078,
    "start_time": "2021-07-12T18:00:55.753Z"
   },
   {
    "duration": 26,
    "start_time": "2021-07-12T18:00:56.834Z"
   },
   {
    "duration": 182,
    "start_time": "2021-07-12T18:00:56.863Z"
   },
   {
    "duration": 80,
    "start_time": "2021-07-12T18:00:57.048Z"
   },
   {
    "duration": 71,
    "start_time": "2021-07-12T18:00:57.131Z"
   },
   {
    "duration": 33,
    "start_time": "2021-07-12T18:00:57.205Z"
   },
   {
    "duration": 167,
    "start_time": "2021-07-12T18:00:57.241Z"
   },
   {
    "duration": 5,
    "start_time": "2021-07-12T18:00:57.412Z"
   },
   {
    "duration": 9592,
    "start_time": "2021-07-12T18:00:57.420Z"
   },
   {
    "duration": 103,
    "start_time": "2021-07-12T18:01:07.015Z"
   },
   {
    "duration": -397,
    "start_time": "2021-07-12T18:01:07.518Z"
   },
   {
    "duration": -409,
    "start_time": "2021-07-12T18:01:07.532Z"
   },
   {
    "duration": -419,
    "start_time": "2021-07-12T18:01:07.544Z"
   },
   {
    "duration": -424,
    "start_time": "2021-07-12T18:01:07.550Z"
   },
   {
    "duration": -433,
    "start_time": "2021-07-12T18:01:07.561Z"
   },
   {
    "duration": -441,
    "start_time": "2021-07-12T18:01:07.570Z"
   },
   {
    "duration": -442,
    "start_time": "2021-07-12T18:01:07.573Z"
   },
   {
    "duration": -449,
    "start_time": "2021-07-12T18:01:07.581Z"
   },
   {
    "duration": -449,
    "start_time": "2021-07-12T18:01:07.583Z"
   },
   {
    "duration": -451,
    "start_time": "2021-07-12T18:01:07.587Z"
   },
   {
    "duration": -457,
    "start_time": "2021-07-12T18:01:07.594Z"
   },
   {
    "duration": -458,
    "start_time": "2021-07-12T18:01:07.597Z"
   },
   {
    "duration": -460,
    "start_time": "2021-07-12T18:01:07.600Z"
   },
   {
    "duration": -467,
    "start_time": "2021-07-12T18:01:07.609Z"
   },
   {
    "duration": -468,
    "start_time": "2021-07-12T18:01:07.612Z"
   },
   {
    "duration": -470,
    "start_time": "2021-07-12T18:01:07.615Z"
   },
   {
    "duration": -475,
    "start_time": "2021-07-12T18:01:07.622Z"
   },
   {
    "duration": -478,
    "start_time": "2021-07-12T18:01:07.626Z"
   },
   {
    "duration": 37,
    "start_time": "2021-07-12T18:08:20.121Z"
   },
   {
    "duration": -454,
    "start_time": "2021-07-12T18:12:55.273Z"
   },
   {
    "duration": 2145,
    "start_time": "2021-07-12T18:13:59.994Z"
   },
   {
    "duration": 111,
    "start_time": "2021-07-12T18:20:07.292Z"
   },
   {
    "duration": 30,
    "start_time": "2021-07-12T18:20:19.028Z"
   },
   {
    "duration": 5,
    "start_time": "2021-07-12T18:20:25.197Z"
   },
   {
    "duration": 26,
    "start_time": "2021-07-12T18:21:42.765Z"
   },
   {
    "duration": 89,
    "start_time": "2021-07-12T18:25:52.503Z"
   },
   {
    "duration": 78,
    "start_time": "2021-07-12T18:26:05.982Z"
   },
   {
    "duration": 222,
    "start_time": "2021-07-12T18:26:15.500Z"
   },
   {
    "duration": 30,
    "start_time": "2021-07-12T18:27:11.559Z"
   },
   {
    "duration": 95,
    "start_time": "2021-07-12T18:28:47.946Z"
   },
   {
    "duration": 7690,
    "start_time": "2021-07-12T18:30:14.398Z"
   },
   {
    "duration": 44,
    "start_time": "2021-07-12T18:30:31.655Z"
   },
   {
    "duration": 232,
    "start_time": "2021-07-12T18:30:42.053Z"
   },
   {
    "duration": 9,
    "start_time": "2021-07-12T18:30:59.270Z"
   },
   {
    "duration": 816,
    "start_time": "2021-07-12T18:31:12.527Z"
   },
   {
    "duration": 1164,
    "start_time": "2021-07-12T18:31:13.346Z"
   },
   {
    "duration": 25,
    "start_time": "2021-07-12T18:31:14.513Z"
   },
   {
    "duration": 183,
    "start_time": "2021-07-12T18:31:14.541Z"
   },
   {
    "duration": 76,
    "start_time": "2021-07-12T18:31:14.726Z"
   },
   {
    "duration": 66,
    "start_time": "2021-07-12T18:31:14.804Z"
   },
   {
    "duration": 24,
    "start_time": "2021-07-12T18:31:14.886Z"
   },
   {
    "duration": 176,
    "start_time": "2021-07-12T18:31:14.913Z"
   },
   {
    "duration": 4,
    "start_time": "2021-07-12T18:31:15.093Z"
   },
   {
    "duration": 9648,
    "start_time": "2021-07-12T18:31:15.101Z"
   },
   {
    "duration": 41,
    "start_time": "2021-07-12T18:31:24.751Z"
   },
   {
    "duration": 28,
    "start_time": "2021-07-12T18:31:24.795Z"
   },
   {
    "duration": 95,
    "start_time": "2021-07-12T18:31:24.825Z"
   },
   {
    "duration": -358,
    "start_time": "2021-07-12T18:31:25.281Z"
   },
   {
    "duration": -359,
    "start_time": "2021-07-12T18:31:25.284Z"
   },
   {
    "duration": -362,
    "start_time": "2021-07-12T18:31:25.289Z"
   },
   {
    "duration": -369,
    "start_time": "2021-07-12T18:31:25.297Z"
   },
   {
    "duration": -371,
    "start_time": "2021-07-12T18:31:25.301Z"
   },
   {
    "duration": -372,
    "start_time": "2021-07-12T18:31:25.303Z"
   },
   {
    "duration": -376,
    "start_time": "2021-07-12T18:31:25.309Z"
   },
   {
    "duration": -378,
    "start_time": "2021-07-12T18:31:25.312Z"
   },
   {
    "duration": -378,
    "start_time": "2021-07-12T18:31:25.314Z"
   },
   {
    "duration": -384,
    "start_time": "2021-07-12T18:31:25.321Z"
   },
   {
    "duration": -386,
    "start_time": "2021-07-12T18:31:25.324Z"
   },
   {
    "duration": -387,
    "start_time": "2021-07-12T18:31:25.326Z"
   },
   {
    "duration": -388,
    "start_time": "2021-07-12T18:31:25.329Z"
   },
   {
    "duration": -393,
    "start_time": "2021-07-12T18:31:25.335Z"
   },
   {
    "duration": -395,
    "start_time": "2021-07-12T18:31:25.338Z"
   },
   {
    "duration": -396,
    "start_time": "2021-07-12T18:31:25.341Z"
   },
   {
    "duration": -397,
    "start_time": "2021-07-12T18:31:25.343Z"
   },
   {
    "duration": -403,
    "start_time": "2021-07-12T18:31:25.350Z"
   },
   {
    "duration": -403,
    "start_time": "2021-07-12T18:31:25.352Z"
   },
   {
    "duration": -405,
    "start_time": "2021-07-12T18:31:25.355Z"
   },
   {
    "duration": 29,
    "start_time": "2021-07-12T18:31:33.309Z"
   },
   {
    "duration": 64,
    "start_time": "2021-07-12T18:31:35.270Z"
   },
   {
    "duration": 231,
    "start_time": "2021-07-12T18:31:37.508Z"
   },
   {
    "duration": 33,
    "start_time": "2021-07-12T18:31:40.646Z"
   },
   {
    "duration": 99,
    "start_time": "2021-07-12T18:31:42.518Z"
   },
   {
    "duration": 43,
    "start_time": "2021-07-12T18:31:46.030Z"
   },
   {
    "duration": 7,
    "start_time": "2021-07-12T18:31:47.909Z"
   },
   {
    "duration": 225,
    "start_time": "2021-07-12T18:32:25.047Z"
   },
   {
    "duration": 35,
    "start_time": "2021-07-12T18:32:50.263Z"
   },
   {
    "duration": 449,
    "start_time": "2021-07-12T18:39:38.176Z"
   },
   {
    "duration": 14,
    "start_time": "2021-07-12T18:41:13.863Z"
   },
   {
    "duration": 44,
    "start_time": "2021-07-12T18:41:21.395Z"
   },
   {
    "duration": 44,
    "start_time": "2021-07-12T18:41:49.343Z"
   },
   {
    "duration": 9,
    "start_time": "2021-07-12T18:41:50.630Z"
   },
   {
    "duration": 291,
    "start_time": "2021-07-12T18:42:52.639Z"
   },
   {
    "duration": 11,
    "start_time": "2021-07-12T18:43:02.088Z"
   },
   {
    "duration": 93,
    "start_time": "2021-07-12T18:43:47.420Z"
   },
   {
    "duration": 7,
    "start_time": "2021-07-12T18:44:00.401Z"
   },
   {
    "duration": 7,
    "start_time": "2021-07-12T18:44:05.227Z"
   },
   {
    "duration": 8,
    "start_time": "2021-07-12T18:44:05.876Z"
   },
   {
    "duration": 36,
    "start_time": "2021-07-12T18:44:12.507Z"
   },
   {
    "duration": 305,
    "start_time": "2021-07-12T18:44:22.234Z"
   },
   {
    "duration": 311,
    "start_time": "2021-07-12T18:44:28.755Z"
   },
   {
    "duration": 7,
    "start_time": "2021-07-12T18:44:43.307Z"
   },
   {
    "duration": 7,
    "start_time": "2021-07-12T18:44:45.211Z"
   },
   {
    "duration": 105,
    "start_time": "2021-07-12T18:45:43.778Z"
   },
   {
    "duration": 319,
    "start_time": "2021-07-12T18:47:18.798Z"
   },
   {
    "duration": 316,
    "start_time": "2021-07-12T18:47:58.081Z"
   },
   {
    "duration": 37,
    "start_time": "2021-07-12T18:48:10.385Z"
   },
   {
    "duration": 111,
    "start_time": "2021-07-12T18:48:14.593Z"
   },
   {
    "duration": 7,
    "start_time": "2021-07-12T18:48:34.274Z"
   },
   {
    "duration": 23,
    "start_time": "2021-07-12T18:48:38.426Z"
   },
   {
    "duration": 4,
    "start_time": "2021-07-12T18:49:15.675Z"
   },
   {
    "duration": 131,
    "start_time": "2021-07-12T18:49:23.315Z"
   },
   {
    "duration": 545,
    "start_time": "2021-07-12T18:49:51.578Z"
   },
   {
    "duration": 95,
    "start_time": "2021-07-12T18:49:54.115Z"
   },
   {
    "duration": 32,
    "start_time": "2021-07-12T19:03:22.255Z"
   },
   {
    "duration": 195,
    "start_time": "2021-07-12T19:06:56.280Z"
   },
   {
    "duration": 100,
    "start_time": "2021-07-12T19:07:36.376Z"
   },
   {
    "duration": 275,
    "start_time": "2021-07-12T19:08:38.331Z"
   },
   {
    "duration": 213,
    "start_time": "2021-07-12T19:09:24.773Z"
   },
   {
    "duration": 529,
    "start_time": "2021-07-12T19:09:46.871Z"
   },
   {
    "duration": 266,
    "start_time": "2021-07-12T19:09:54.774Z"
   },
   {
    "duration": 275,
    "start_time": "2021-07-12T19:10:09.928Z"
   },
   {
    "duration": 872,
    "start_time": "2021-07-12T19:10:18.884Z"
   },
   {
    "duration": 1149,
    "start_time": "2021-07-12T19:10:19.758Z"
   },
   {
    "duration": 25,
    "start_time": "2021-07-12T19:10:20.910Z"
   },
   {
    "duration": 180,
    "start_time": "2021-07-12T19:10:20.938Z"
   },
   {
    "duration": 83,
    "start_time": "2021-07-12T19:10:21.122Z"
   },
   {
    "duration": 144,
    "start_time": "2021-07-12T19:10:21.207Z"
   },
   {
    "duration": -321,
    "start_time": "2021-07-12T19:10:21.677Z"
   },
   {
    "duration": -323,
    "start_time": "2021-07-12T19:10:21.681Z"
   },
   {
    "duration": -324,
    "start_time": "2021-07-12T19:10:21.684Z"
   },
   {
    "duration": -324,
    "start_time": "2021-07-12T19:10:21.687Z"
   },
   {
    "duration": -324,
    "start_time": "2021-07-12T19:10:21.690Z"
   },
   {
    "duration": -324,
    "start_time": "2021-07-12T19:10:21.692Z"
   },
   {
    "duration": -331,
    "start_time": "2021-07-12T19:10:21.701Z"
   },
   {
    "duration": -331,
    "start_time": "2021-07-12T19:10:21.703Z"
   },
   {
    "duration": -332,
    "start_time": "2021-07-12T19:10:21.706Z"
   },
   {
    "duration": -338,
    "start_time": "2021-07-12T19:10:21.714Z"
   },
   {
    "duration": -339,
    "start_time": "2021-07-12T19:10:21.717Z"
   },
   {
    "duration": -339,
    "start_time": "2021-07-12T19:10:21.720Z"
   },
   {
    "duration": -346,
    "start_time": "2021-07-12T19:10:21.728Z"
   },
   {
    "duration": -345,
    "start_time": "2021-07-12T19:10:21.730Z"
   },
   {
    "duration": -351,
    "start_time": "2021-07-12T19:10:21.738Z"
   },
   {
    "duration": -351,
    "start_time": "2021-07-12T19:10:21.740Z"
   },
   {
    "duration": -353,
    "start_time": "2021-07-12T19:10:21.744Z"
   },
   {
    "duration": -352,
    "start_time": "2021-07-12T19:10:21.745Z"
   },
   {
    "duration": -358,
    "start_time": "2021-07-12T19:10:21.753Z"
   },
   {
    "duration": -358,
    "start_time": "2021-07-12T19:10:21.755Z"
   },
   {
    "duration": -361,
    "start_time": "2021-07-12T19:10:21.759Z"
   },
   {
    "duration": -366,
    "start_time": "2021-07-12T19:10:21.766Z"
   },
   {
    "duration": -366,
    "start_time": "2021-07-12T19:10:21.768Z"
   },
   {
    "duration": -368,
    "start_time": "2021-07-12T19:10:21.771Z"
   },
   {
    "duration": -374,
    "start_time": "2021-07-12T19:10:21.778Z"
   },
   {
    "duration": -378,
    "start_time": "2021-07-12T19:10:21.783Z"
   },
   {
    "duration": -379,
    "start_time": "2021-07-12T19:10:21.786Z"
   },
   {
    "duration": -385,
    "start_time": "2021-07-12T19:10:21.793Z"
   },
   {
    "duration": -388,
    "start_time": "2021-07-12T19:10:21.797Z"
   },
   {
    "duration": -398,
    "start_time": "2021-07-12T19:10:21.808Z"
   },
   {
    "duration": -414,
    "start_time": "2021-07-12T19:10:21.825Z"
   },
   {
    "duration": -419,
    "start_time": "2021-07-12T19:10:21.832Z"
   },
   {
    "duration": 802,
    "start_time": "2021-07-12T19:10:31.939Z"
   },
   {
    "duration": 900,
    "start_time": "2021-07-12T19:10:57.350Z"
   },
   {
    "duration": 1078,
    "start_time": "2021-07-12T19:10:58.253Z"
   },
   {
    "duration": 24,
    "start_time": "2021-07-12T19:10:59.335Z"
   },
   {
    "duration": 177,
    "start_time": "2021-07-12T19:10:59.362Z"
   },
   {
    "duration": 81,
    "start_time": "2021-07-12T19:10:59.542Z"
   },
   {
    "duration": 615,
    "start_time": "2021-07-12T19:10:59.626Z"
   },
   {
    "duration": 101,
    "start_time": "2021-07-12T19:11:00.243Z"
   },
   {
    "duration": -303,
    "start_time": "2021-07-12T19:11:00.651Z"
   },
   {
    "duration": -317,
    "start_time": "2021-07-12T19:11:00.666Z"
   },
   {
    "duration": -323,
    "start_time": "2021-07-12T19:11:00.673Z"
   },
   {
    "duration": -324,
    "start_time": "2021-07-12T19:11:00.676Z"
   },
   {
    "duration": -326,
    "start_time": "2021-07-12T19:11:00.679Z"
   },
   {
    "duration": -330,
    "start_time": "2021-07-12T19:11:00.685Z"
   },
   {
    "duration": -332,
    "start_time": "2021-07-12T19:11:00.688Z"
   },
   {
    "duration": -333,
    "start_time": "2021-07-12T19:11:00.691Z"
   },
   {
    "duration": -334,
    "start_time": "2021-07-12T19:11:00.694Z"
   },
   {
    "duration": -340,
    "start_time": "2021-07-12T19:11:00.701Z"
   },
   {
    "duration": -341,
    "start_time": "2021-07-12T19:11:00.704Z"
   },
   {
    "duration": -345,
    "start_time": "2021-07-12T19:11:00.710Z"
   },
   {
    "duration": -347,
    "start_time": "2021-07-12T19:11:00.713Z"
   },
   {
    "duration": -351,
    "start_time": "2021-07-12T19:11:00.718Z"
   },
   {
    "duration": -356,
    "start_time": "2021-07-12T19:11:00.725Z"
   },
   {
    "duration": -357,
    "start_time": "2021-07-12T19:11:00.727Z"
   },
   {
    "duration": -360,
    "start_time": "2021-07-12T19:11:00.731Z"
   },
   {
    "duration": -360,
    "start_time": "2021-07-12T19:11:00.733Z"
   },
   {
    "duration": -366,
    "start_time": "2021-07-12T19:11:00.740Z"
   },
   {
    "duration": -366,
    "start_time": "2021-07-12T19:11:00.742Z"
   },
   {
    "duration": -368,
    "start_time": "2021-07-12T19:11:00.745Z"
   },
   {
    "duration": -375,
    "start_time": "2021-07-12T19:11:00.753Z"
   },
   {
    "duration": -377,
    "start_time": "2021-07-12T19:11:00.756Z"
   },
   {
    "duration": -379,
    "start_time": "2021-07-12T19:11:00.760Z"
   },
   {
    "duration": -386,
    "start_time": "2021-07-12T19:11:00.768Z"
   },
   {
    "duration": -388,
    "start_time": "2021-07-12T19:11:00.771Z"
   },
   {
    "duration": -390,
    "start_time": "2021-07-12T19:11:00.774Z"
   },
   {
    "duration": -396,
    "start_time": "2021-07-12T19:11:00.782Z"
   },
   {
    "duration": -398,
    "start_time": "2021-07-12T19:11:00.785Z"
   },
   {
    "duration": -405,
    "start_time": "2021-07-12T19:11:00.793Z"
   },
   {
    "duration": 754,
    "start_time": "2021-07-12T19:11:12.769Z"
   },
   {
    "duration": 61,
    "start_time": "2021-07-12T19:11:17.713Z"
   },
   {
    "duration": 23,
    "start_time": "2021-07-12T19:11:18.965Z"
   },
   {
    "duration": 158,
    "start_time": "2021-07-12T19:11:24.722Z"
   },
   {
    "duration": 4,
    "start_time": "2021-07-12T19:11:26.145Z"
   },
   {
    "duration": 10613,
    "start_time": "2021-07-12T19:11:28.577Z"
   },
   {
    "duration": 31,
    "start_time": "2021-07-12T19:11:41.722Z"
   },
   {
    "duration": 35,
    "start_time": "2021-07-12T19:11:43.970Z"
   },
   {
    "duration": 44,
    "start_time": "2021-07-12T19:11:45.179Z"
   },
   {
    "duration": 63,
    "start_time": "2021-07-12T19:11:47.714Z"
   },
   {
    "duration": 231,
    "start_time": "2021-07-12T19:11:48.410Z"
   },
   {
    "duration": 26,
    "start_time": "2021-07-12T19:11:49.634Z"
   },
   {
    "duration": 98,
    "start_time": "2021-07-12T19:11:51.746Z"
   },
   {
    "duration": 11,
    "start_time": "2021-07-12T19:11:53.306Z"
   },
   {
    "duration": 7,
    "start_time": "2021-07-12T19:11:55.307Z"
   },
   {
    "duration": 8,
    "start_time": "2021-07-12T19:11:56.642Z"
   },
   {
    "duration": 402,
    "start_time": "2021-07-12T19:12:17.355Z"
   },
   {
    "duration": 297,
    "start_time": "2021-07-12T19:12:25.052Z"
   },
   {
    "duration": 332,
    "start_time": "2021-07-12T19:15:01.774Z"
   },
   {
    "duration": 287,
    "start_time": "2021-07-12T19:15:03.498Z"
   },
   {
    "duration": 95,
    "start_time": "2021-07-12T19:15:07.362Z"
   },
   {
    "duration": 39,
    "start_time": "2021-07-12T19:15:24.923Z"
   },
   {
    "duration": 96,
    "start_time": "2021-07-12T19:20:42.630Z"
   },
   {
    "duration": 870,
    "start_time": "2021-07-12T19:21:04.390Z"
   },
   {
    "duration": 1119,
    "start_time": "2021-07-12T19:21:05.262Z"
   },
   {
    "duration": 24,
    "start_time": "2021-07-12T19:21:06.384Z"
   },
   {
    "duration": 179,
    "start_time": "2021-07-12T19:21:06.410Z"
   },
   {
    "duration": 73,
    "start_time": "2021-07-12T19:21:06.592Z"
   },
   {
    "duration": 80,
    "start_time": "2021-07-12T19:21:06.667Z"
   },
   {
    "duration": 38,
    "start_time": "2021-07-12T19:21:06.749Z"
   },
   {
    "duration": 168,
    "start_time": "2021-07-12T19:21:06.789Z"
   },
   {
    "duration": 4,
    "start_time": "2021-07-12T19:21:06.961Z"
   },
   {
    "duration": 10271,
    "start_time": "2021-07-12T19:21:06.968Z"
   },
   {
    "duration": 27,
    "start_time": "2021-07-12T19:21:17.242Z"
   },
   {
    "duration": 28,
    "start_time": "2021-07-12T19:21:17.285Z"
   },
   {
    "duration": 26,
    "start_time": "2021-07-12T19:21:17.315Z"
   },
   {
    "duration": 88,
    "start_time": "2021-07-12T19:21:17.344Z"
   },
   {
    "duration": 253,
    "start_time": "2021-07-12T19:21:17.435Z"
   },
   {
    "duration": 29,
    "start_time": "2021-07-12T19:21:17.691Z"
   },
   {
    "duration": 124,
    "start_time": "2021-07-12T19:21:17.723Z"
   },
   {
    "duration": 13,
    "start_time": "2021-07-12T19:21:17.850Z"
   },
   {
    "duration": 7,
    "start_time": "2021-07-12T19:21:17.887Z"
   },
   {
    "duration": 9,
    "start_time": "2021-07-12T19:21:17.897Z"
   },
   {
    "duration": 44,
    "start_time": "2021-07-12T19:21:17.909Z"
   },
   {
    "duration": 261,
    "start_time": "2021-07-12T19:21:17.956Z"
   },
   {
    "duration": 228,
    "start_time": "2021-07-12T19:21:18.220Z"
   },
   {
    "duration": 426,
    "start_time": "2021-07-12T19:21:18.450Z"
   },
   {
    "duration": -317,
    "start_time": "2021-07-12T19:21:19.196Z"
   },
   {
    "duration": -317,
    "start_time": "2021-07-12T19:21:19.198Z"
   },
   {
    "duration": -319,
    "start_time": "2021-07-12T19:21:19.201Z"
   },
   {
    "duration": -324,
    "start_time": "2021-07-12T19:21:19.207Z"
   },
   {
    "duration": -324,
    "start_time": "2021-07-12T19:21:19.209Z"
   },
   {
    "duration": -325,
    "start_time": "2021-07-12T19:21:19.211Z"
   },
   {
    "duration": -326,
    "start_time": "2021-07-12T19:21:19.214Z"
   },
   {
    "duration": -327,
    "start_time": "2021-07-12T19:21:19.216Z"
   },
   {
    "duration": -331,
    "start_time": "2021-07-12T19:21:19.222Z"
   },
   {
    "duration": -332,
    "start_time": "2021-07-12T19:21:19.224Z"
   },
   {
    "duration": -332,
    "start_time": "2021-07-12T19:21:19.226Z"
   },
   {
    "duration": -333,
    "start_time": "2021-07-12T19:21:19.228Z"
   },
   {
    "duration": -336,
    "start_time": "2021-07-12T19:21:19.233Z"
   },
   {
    "duration": -338,
    "start_time": "2021-07-12T19:21:19.236Z"
   },
   {
    "duration": 203,
    "start_time": "2021-07-12T19:21:35.752Z"
   },
   {
    "duration": 270,
    "start_time": "2021-07-12T19:21:40.192Z"
   },
   {
    "duration": 104,
    "start_time": "2021-07-12T19:21:43.803Z"
   },
   {
    "duration": 85,
    "start_time": "2021-07-12T19:21:45.871Z"
   },
   {
    "duration": 9,
    "start_time": "2021-07-12T19:21:55.017Z"
   },
   {
    "duration": 20,
    "start_time": "2021-07-12T19:21:57.765Z"
   },
   {
    "duration": 4,
    "start_time": "2021-07-12T19:22:01.465Z"
   },
   {
    "duration": 106,
    "start_time": "2021-07-12T19:22:02.553Z"
   },
   {
    "duration": 472,
    "start_time": "2021-07-12T19:22:03.739Z"
   },
   {
    "duration": 80,
    "start_time": "2021-07-12T19:22:04.450Z"
   },
   {
    "duration": 23,
    "start_time": "2021-07-12T19:22:52.411Z"
   },
   {
    "duration": 113,
    "start_time": "2021-07-12T19:29:56.623Z"
   },
   {
    "duration": 325,
    "start_time": "2021-07-12T19:30:33.997Z"
   },
   {
    "duration": 312,
    "start_time": "2021-07-12T19:31:36.379Z"
   },
   {
    "duration": 294,
    "start_time": "2021-07-12T19:31:41.256Z"
   },
   {
    "duration": 296,
    "start_time": "2021-07-12T19:31:50.286Z"
   },
   {
    "duration": 421,
    "start_time": "2021-07-12T19:31:54.916Z"
   },
   {
    "duration": 19,
    "start_time": "2021-07-12T19:35:52.969Z"
   },
   {
    "duration": 27,
    "start_time": "2021-07-12T19:37:17.956Z"
   },
   {
    "duration": 70,
    "start_time": "2021-07-12T19:41:28.302Z"
   },
   {
    "duration": 83,
    "start_time": "2021-07-12T19:41:48.462Z"
   },
   {
    "duration": 25,
    "start_time": "2021-07-12T19:44:26.358Z"
   },
   {
    "duration": 316,
    "start_time": "2021-07-12T19:46:26.259Z"
   },
   {
    "duration": 65,
    "start_time": "2021-07-12T19:46:39.564Z"
   },
   {
    "duration": 84,
    "start_time": "2021-07-12T19:47:01.943Z"
   },
   {
    "duration": 135,
    "start_time": "2021-07-12T19:47:40.965Z"
   },
   {
    "duration": 141,
    "start_time": "2021-07-12T19:47:53.681Z"
   },
   {
    "duration": 127,
    "start_time": "2021-07-12T19:48:03.919Z"
   },
   {
    "duration": 53,
    "start_time": "2021-07-12T19:56:48.144Z"
   },
   {
    "duration": 96,
    "start_time": "2021-07-12T19:57:48.199Z"
   },
   {
    "duration": 123,
    "start_time": "2021-07-12T19:58:17.726Z"
   },
   {
    "duration": 228,
    "start_time": "2021-07-12T20:21:38.350Z"
   },
   {
    "duration": 144,
    "start_time": "2021-07-12T20:22:12.172Z"
   },
   {
    "duration": 360,
    "start_time": "2021-07-12T20:32:33.157Z"
   },
   {
    "duration": 47,
    "start_time": "2021-07-12T20:32:38.598Z"
   },
   {
    "duration": 39,
    "start_time": "2021-07-12T20:34:08.133Z"
   },
   {
    "duration": 43,
    "start_time": "2021-07-12T20:34:48.393Z"
   },
   {
    "duration": 38,
    "start_time": "2021-07-12T20:34:58.647Z"
   },
   {
    "duration": 38,
    "start_time": "2021-07-12T20:35:41.655Z"
   },
   {
    "duration": 40,
    "start_time": "2021-07-12T20:36:01.108Z"
   },
   {
    "duration": 39,
    "start_time": "2021-07-12T20:36:08.902Z"
   },
   {
    "duration": 7469,
    "start_time": "2021-07-12T20:36:24.207Z"
   },
   {
    "duration": 38,
    "start_time": "2021-07-12T20:36:45.030Z"
   },
   {
    "duration": 38,
    "start_time": "2021-07-12T20:36:56.546Z"
   },
   {
    "duration": 37,
    "start_time": "2021-07-12T20:37:06.602Z"
   },
   {
    "duration": 38,
    "start_time": "2021-07-12T20:37:28.995Z"
   },
   {
    "duration": 539,
    "start_time": "2021-07-13T15:16:21.454Z"
   },
   {
    "duration": 1640,
    "start_time": "2021-07-13T15:16:29.461Z"
   },
   {
    "duration": 1172,
    "start_time": "2021-07-13T15:16:31.104Z"
   },
   {
    "duration": 33,
    "start_time": "2021-07-13T15:16:32.280Z"
   },
   {
    "duration": 180,
    "start_time": "2021-07-13T15:16:32.315Z"
   },
   {
    "duration": 79,
    "start_time": "2021-07-13T15:16:32.497Z"
   },
   {
    "duration": 61,
    "start_time": "2021-07-13T15:16:32.578Z"
   },
   {
    "duration": 36,
    "start_time": "2021-07-13T15:16:32.642Z"
   },
   {
    "duration": 201,
    "start_time": "2021-07-13T15:16:32.683Z"
   },
   {
    "duration": 4,
    "start_time": "2021-07-13T15:16:32.887Z"
   },
   {
    "duration": 17043,
    "start_time": "2021-07-13T15:16:32.894Z"
   },
   {
    "duration": 43,
    "start_time": "2021-07-13T15:16:49.940Z"
   },
   {
    "duration": 34,
    "start_time": "2021-07-13T15:16:49.986Z"
   },
   {
    "duration": 116,
    "start_time": "2021-07-13T15:16:50.023Z"
   },
   {
    "duration": 63,
    "start_time": "2021-07-13T15:16:50.142Z"
   },
   {
    "duration": 283,
    "start_time": "2021-07-13T15:16:50.207Z"
   },
   {
    "duration": 34,
    "start_time": "2021-07-13T15:16:50.493Z"
   },
   {
    "duration": 160,
    "start_time": "2021-07-13T15:16:50.529Z"
   },
   {
    "duration": 13,
    "start_time": "2021-07-13T15:16:50.691Z"
   },
   {
    "duration": 11,
    "start_time": "2021-07-13T15:16:50.706Z"
   },
   {
    "duration": 13,
    "start_time": "2021-07-13T15:16:50.720Z"
   },
   {
    "duration": 48,
    "start_time": "2021-07-13T15:16:50.763Z"
   },
   {
    "duration": 256,
    "start_time": "2021-07-13T15:16:50.814Z"
   },
   {
    "duration": 234,
    "start_time": "2021-07-13T15:16:51.075Z"
   },
   {
    "duration": 224,
    "start_time": "2021-07-13T15:16:51.311Z"
   },
   {
    "duration": 275,
    "start_time": "2021-07-13T15:16:51.537Z"
   },
   {
    "duration": 101,
    "start_time": "2021-07-13T15:16:51.814Z"
   },
   {
    "duration": 25,
    "start_time": "2021-07-13T15:16:51.917Z"
   },
   {
    "duration": 21,
    "start_time": "2021-07-13T15:16:51.945Z"
   },
   {
    "duration": 21,
    "start_time": "2021-07-13T15:16:51.969Z"
   },
   {
    "duration": 7,
    "start_time": "2021-07-13T15:16:51.992Z"
   },
   {
    "duration": 144,
    "start_time": "2021-07-13T15:16:52.001Z"
   },
   {
    "duration": 498,
    "start_time": "2021-07-13T15:16:52.148Z"
   },
   {
    "duration": 92,
    "start_time": "2021-07-13T15:16:52.648Z"
   },
   {
    "duration": 47,
    "start_time": "2021-07-13T15:16:52.743Z"
   },
   {
    "duration": 31,
    "start_time": "2021-07-13T15:16:52.793Z"
   },
   {
    "duration": 49,
    "start_time": "2021-07-13T15:16:52.827Z"
   },
   {
    "duration": 190,
    "start_time": "2021-07-13T15:16:52.878Z"
   },
   {
    "duration": -867,
    "start_time": "2021-07-13T15:16:53.937Z"
   },
   {
    "duration": -867,
    "start_time": "2021-07-13T15:16:53.939Z"
   },
   {
    "duration": -869,
    "start_time": "2021-07-13T15:16:53.942Z"
   },
   {
    "duration": -871,
    "start_time": "2021-07-13T15:16:53.945Z"
   },
   {
    "duration": -873,
    "start_time": "2021-07-13T15:16:53.948Z"
   },
   {
    "duration": -876,
    "start_time": "2021-07-13T15:16:53.953Z"
   },
   {
    "duration": -877,
    "start_time": "2021-07-13T15:16:53.955Z"
   },
   {
    "duration": -879,
    "start_time": "2021-07-13T15:16:53.958Z"
   },
   {
    "duration": -880,
    "start_time": "2021-07-13T15:16:53.960Z"
   },
   {
    "duration": -884,
    "start_time": "2021-07-13T15:16:53.966Z"
   },
   {
    "duration": 22,
    "start_time": "2021-07-13T15:17:05.759Z"
   },
   {
    "duration": 3,
    "start_time": "2021-07-13T15:22:27.663Z"
   },
   {
    "duration": 4,
    "start_time": "2021-07-13T15:22:47.893Z"
   },
   {
    "duration": 4,
    "start_time": "2021-07-13T15:22:59.354Z"
   },
   {
    "duration": 4,
    "start_time": "2021-07-13T15:23:21.489Z"
   },
   {
    "duration": 696,
    "start_time": "2021-07-13T15:25:00.971Z"
   },
   {
    "duration": 696,
    "start_time": "2021-07-13T15:25:25.724Z"
   },
   {
    "duration": 1213,
    "start_time": "2021-07-13T15:25:35.868Z"
   },
   {
    "duration": 579,
    "start_time": "2021-07-13T15:27:17.513Z"
   },
   {
    "duration": 926,
    "start_time": "2021-07-13T15:27:36.962Z"
   },
   {
    "duration": 838,
    "start_time": "2021-07-13T15:27:53.713Z"
   },
   {
    "duration": 987,
    "start_time": "2021-07-13T15:28:52.287Z"
   },
   {
    "duration": 876,
    "start_time": "2021-07-13T15:29:51.374Z"
   },
   {
    "duration": 854,
    "start_time": "2021-07-13T15:30:06.777Z"
   },
   {
    "duration": 1001,
    "start_time": "2021-07-13T15:30:32.345Z"
   },
   {
    "duration": 883,
    "start_time": "2021-07-13T15:31:59.399Z"
   },
   {
    "duration": 323,
    "start_time": "2021-07-13T15:32:27.876Z"
   },
   {
    "duration": 34,
    "start_time": "2021-07-13T15:32:37.420Z"
   },
   {
    "duration": 1159,
    "start_time": "2021-07-13T15:41:42.513Z"
   },
   {
    "duration": 965,
    "start_time": "2021-07-13T15:41:53.835Z"
   },
   {
    "duration": 1049,
    "start_time": "2021-07-13T15:42:36.315Z"
   },
   {
    "duration": 4,
    "start_time": "2021-07-13T15:44:31.600Z"
   },
   {
    "duration": 9350,
    "start_time": "2021-07-13T15:44:50.173Z"
   },
   {
    "duration": 4,
    "start_time": "2021-07-13T15:45:19.825Z"
   },
   {
    "duration": 8373,
    "start_time": "2021-07-13T15:45:23.523Z"
   },
   {
    "duration": 28,
    "start_time": "2021-07-13T15:45:45.403Z"
   },
   {
    "duration": 87,
    "start_time": "2021-07-13T15:45:54.548Z"
   },
   {
    "duration": 4,
    "start_time": "2021-07-13T15:46:47.709Z"
   },
   {
    "duration": 13958,
    "start_time": "2021-07-13T15:46:49.191Z"
   },
   {
    "duration": 8117,
    "start_time": "2021-07-13T15:47:22.431Z"
   },
   {
    "duration": 129,
    "start_time": "2021-07-13T15:47:35.152Z"
   },
   {
    "duration": 9,
    "start_time": "2021-07-13T15:54:26.816Z"
   },
   {
    "duration": 23,
    "start_time": "2021-07-13T15:55:04.345Z"
   },
   {
    "duration": 35,
    "start_time": "2021-07-13T15:55:10.843Z"
   },
   {
    "duration": 116,
    "start_time": "2021-07-13T15:59:03.946Z"
   },
   {
    "duration": 4,
    "start_time": "2021-07-13T15:59:13.916Z"
   },
   {
    "duration": 328,
    "start_time": "2021-07-13T16:01:43.487Z"
   },
   {
    "duration": 328,
    "start_time": "2021-07-13T16:01:50.211Z"
   },
   {
    "duration": 323,
    "start_time": "2021-07-13T16:02:32.116Z"
   },
   {
    "duration": 353,
    "start_time": "2021-07-13T16:03:00.557Z"
   },
   {
    "duration": 345,
    "start_time": "2021-07-13T16:03:25.772Z"
   },
   {
    "duration": 323,
    "start_time": "2021-07-13T16:03:33.380Z"
   },
   {
    "duration": 321,
    "start_time": "2021-07-13T16:03:46.125Z"
   },
   {
    "duration": 331,
    "start_time": "2021-07-13T16:03:55.676Z"
   },
   {
    "duration": 334,
    "start_time": "2021-07-13T16:04:47.955Z"
   },
   {
    "duration": 340,
    "start_time": "2021-07-13T16:04:56.007Z"
   },
   {
    "duration": 628,
    "start_time": "2021-07-13T16:05:10.626Z"
   },
   {
    "duration": 98,
    "start_time": "2021-07-13T16:08:13.294Z"
   },
   {
    "duration": 101,
    "start_time": "2021-07-13T16:09:21.490Z"
   },
   {
    "duration": 584,
    "start_time": "2021-07-13T16:11:23.318Z"
   },
   {
    "duration": 587,
    "start_time": "2021-07-13T16:11:36.542Z"
   },
   {
    "duration": 1121,
    "start_time": "2021-07-13T16:12:14.928Z"
   },
   {
    "duration": 600,
    "start_time": "2021-07-13T16:12:21.631Z"
   },
   {
    "duration": 615,
    "start_time": "2021-07-13T16:13:38.484Z"
   },
   {
    "duration": 601,
    "start_time": "2021-07-13T16:14:07.987Z"
   },
   {
    "duration": 617,
    "start_time": "2021-07-13T16:18:29.334Z"
   },
   {
    "duration": 601,
    "start_time": "2021-07-13T16:18:39.919Z"
   },
   {
    "duration": 6,
    "start_time": "2021-07-13T16:19:06.856Z"
   },
   {
    "duration": 9598,
    "start_time": "2021-07-13T17:42:08.700Z"
   },
   {
    "duration": 9591,
    "start_time": "2021-07-13T17:42:49.510Z"
   },
   {
    "duration": 314,
    "start_time": "2021-07-13T17:45:32.185Z"
   },
   {
    "duration": 4,
    "start_time": "2021-07-13T17:45:35.954Z"
   },
   {
    "duration": 11182,
    "start_time": "2021-07-13T17:45:37.409Z"
   },
   {
    "duration": 86,
    "start_time": "2021-07-13T17:46:16.154Z"
   },
   {
    "duration": 9643,
    "start_time": "2021-07-13T17:47:05.749Z"
   },
   {
    "duration": 119,
    "start_time": "2021-07-13T17:47:41.296Z"
   },
   {
    "duration": 125,
    "start_time": "2021-07-13T17:49:45.203Z"
   },
   {
    "duration": 6,
    "start_time": "2021-07-13T18:05:06.877Z"
   },
   {
    "duration": 328,
    "start_time": "2021-07-13T18:05:33.793Z"
   },
   {
    "duration": 4,
    "start_time": "2021-07-13T18:05:50.149Z"
   },
   {
    "duration": 2163,
    "start_time": "2021-07-13T18:05:50.905Z"
   },
   {
    "duration": 6167,
    "start_time": "2021-07-13T18:05:54.615Z"
   },
   {
    "duration": 5,
    "start_time": "2021-07-13T18:06:53.131Z"
   },
   {
    "duration": 8528,
    "start_time": "2021-07-13T18:06:55.066Z"
   },
   {
    "duration": 5,
    "start_time": "2021-07-13T18:07:21.764Z"
   },
   {
    "duration": 34,
    "start_time": "2021-07-13T18:07:22.332Z"
   },
   {
    "duration": 9500,
    "start_time": "2021-07-13T18:08:56.648Z"
   },
   {
    "duration": 314,
    "start_time": "2021-07-13T18:10:08.018Z"
   },
   {
    "duration": 5,
    "start_time": "2021-07-13T18:10:16.134Z"
   },
   {
    "duration": 11102,
    "start_time": "2021-07-13T18:10:19.995Z"
   },
   {
    "duration": 1067,
    "start_time": "2021-07-13T18:10:37.520Z"
   },
   {
    "duration": 1145,
    "start_time": "2021-07-13T18:10:38.589Z"
   },
   {
    "duration": 35,
    "start_time": "2021-07-13T18:10:39.738Z"
   },
   {
    "duration": 176,
    "start_time": "2021-07-13T18:10:39.776Z"
   },
   {
    "duration": 63,
    "start_time": "2021-07-13T18:10:39.962Z"
   },
   {
    "duration": 70,
    "start_time": "2021-07-13T18:10:40.028Z"
   },
   {
    "duration": 23,
    "start_time": "2021-07-13T18:10:40.100Z"
   },
   {
    "duration": 185,
    "start_time": "2021-07-13T18:10:40.126Z"
   },
   {
    "duration": 4,
    "start_time": "2021-07-13T18:10:40.315Z"
   },
   {
    "duration": 9996,
    "start_time": "2021-07-13T18:10:40.322Z"
   },
   {
    "duration": 43,
    "start_time": "2021-07-13T18:10:50.320Z"
   },
   {
    "duration": 29,
    "start_time": "2021-07-13T18:10:50.367Z"
   },
   {
    "duration": 27,
    "start_time": "2021-07-13T18:10:50.399Z"
   },
   {
    "duration": 99,
    "start_time": "2021-07-13T18:10:50.429Z"
   },
   {
    "duration": 348,
    "start_time": "2021-07-13T18:10:50.532Z"
   },
   {
    "duration": 29,
    "start_time": "2021-07-13T18:10:50.883Z"
   },
   {
    "duration": 116,
    "start_time": "2021-07-13T18:10:50.915Z"
   },
   {
    "duration": 32,
    "start_time": "2021-07-13T18:10:51.034Z"
   },
   {
    "duration": 7,
    "start_time": "2021-07-13T18:10:51.068Z"
   },
   {
    "duration": 10,
    "start_time": "2021-07-13T18:10:51.077Z"
   },
   {
    "duration": 49,
    "start_time": "2021-07-13T18:10:51.090Z"
   },
   {
    "duration": 261,
    "start_time": "2021-07-13T18:10:51.142Z"
   },
   {
    "duration": 231,
    "start_time": "2021-07-13T18:10:51.406Z"
   },
   {
    "duration": 221,
    "start_time": "2021-07-13T18:10:51.639Z"
   },
   {
    "duration": 285,
    "start_time": "2021-07-13T18:10:51.863Z"
   },
   {
    "duration": 94,
    "start_time": "2021-07-13T18:10:52.151Z"
   },
   {
    "duration": 27,
    "start_time": "2021-07-13T18:10:52.263Z"
   },
   {
    "duration": 7,
    "start_time": "2021-07-13T18:10:52.293Z"
   },
   {
    "duration": 24,
    "start_time": "2021-07-13T18:10:52.302Z"
   },
   {
    "duration": 33,
    "start_time": "2021-07-13T18:10:52.329Z"
   },
   {
    "duration": 120,
    "start_time": "2021-07-13T18:10:52.364Z"
   },
   {
    "duration": 586,
    "start_time": "2021-07-13T18:10:52.486Z"
   },
   {
    "duration": 97,
    "start_time": "2021-07-13T18:10:53.074Z"
   },
   {
    "duration": 24,
    "start_time": "2021-07-13T18:10:53.174Z"
   },
   {
    "duration": 21,
    "start_time": "2021-07-13T18:10:53.200Z"
   },
   {
    "duration": 62,
    "start_time": "2021-07-13T18:10:53.224Z"
   },
   {
    "duration": 32,
    "start_time": "2021-07-13T18:10:53.289Z"
   },
   {
    "duration": 1068,
    "start_time": "2021-07-13T18:10:53.323Z"
   },
   {
    "duration": 6,
    "start_time": "2021-07-13T18:10:54.393Z"
   },
   {
    "duration": 8,
    "start_time": "2021-07-13T18:10:54.402Z"
   },
   {
    "duration": 8509,
    "start_time": "2021-07-13T18:10:54.412Z"
   },
   {
    "duration": 147,
    "start_time": "2021-07-13T18:11:02.924Z"
   },
   {
    "duration": 9575,
    "start_time": "2021-07-13T18:11:03.075Z"
   },
   {
    "duration": 10,
    "start_time": "2021-07-13T18:11:12.652Z"
   },
   {
    "duration": 11557,
    "start_time": "2021-07-13T18:11:12.664Z"
   },
   {
    "duration": 9707,
    "start_time": "2021-07-13T18:11:24.223Z"
   },
   {
    "duration": 4,
    "start_time": "2021-07-13T18:11:33.932Z"
   },
   {
    "duration": 11137,
    "start_time": "2021-07-13T18:11:33.939Z"
   },
   {
    "duration": 119,
    "start_time": "2021-07-13T18:11:45.079Z"
   },
   {
    "duration": -890,
    "start_time": "2021-07-13T18:11:46.090Z"
   },
   {
    "duration": -905,
    "start_time": "2021-07-13T18:11:46.107Z"
   },
   {
    "duration": -912,
    "start_time": "2021-07-13T18:11:46.115Z"
   },
   {
    "duration": -913,
    "start_time": "2021-07-13T18:11:46.117Z"
   },
   {
    "duration": -914,
    "start_time": "2021-07-13T18:11:46.119Z"
   },
   {
    "duration": -915,
    "start_time": "2021-07-13T18:11:46.122Z"
   },
   {
    "duration": -921,
    "start_time": "2021-07-13T18:11:46.129Z"
   },
   {
    "duration": 87,
    "start_time": "2021-07-13T18:12:11.982Z"
   },
   {
    "duration": 9598,
    "start_time": "2021-07-13T18:14:11.943Z"
   },
   {
    "duration": 8257,
    "start_time": "2021-07-13T18:17:05.859Z"
   },
   {
    "duration": 941,
    "start_time": "2021-07-13T18:17:24.591Z"
   },
   {
    "duration": 1216,
    "start_time": "2021-07-13T18:17:25.535Z"
   },
   {
    "duration": 35,
    "start_time": "2021-07-13T18:17:26.754Z"
   },
   {
    "duration": 172,
    "start_time": "2021-07-13T18:17:26.791Z"
   },
   {
    "duration": 69,
    "start_time": "2021-07-13T18:17:26.967Z"
   },
   {
    "duration": 76,
    "start_time": "2021-07-13T18:17:27.038Z"
   },
   {
    "duration": 27,
    "start_time": "2021-07-13T18:17:27.116Z"
   },
   {
    "duration": 269,
    "start_time": "2021-07-13T18:17:27.146Z"
   },
   {
    "duration": 7,
    "start_time": "2021-07-13T18:17:27.419Z"
   },
   {
    "duration": 9917,
    "start_time": "2021-07-13T18:17:27.428Z"
   },
   {
    "duration": 46,
    "start_time": "2021-07-13T18:17:37.347Z"
   },
   {
    "duration": 29,
    "start_time": "2021-07-13T18:17:37.395Z"
   },
   {
    "duration": 44,
    "start_time": "2021-07-13T18:17:37.426Z"
   },
   {
    "duration": 65,
    "start_time": "2021-07-13T18:17:37.474Z"
   },
   {
    "duration": 283,
    "start_time": "2021-07-13T18:17:37.542Z"
   },
   {
    "duration": 52,
    "start_time": "2021-07-13T18:17:37.827Z"
   },
   {
    "duration": 120,
    "start_time": "2021-07-13T18:17:37.882Z"
   },
   {
    "duration": 10,
    "start_time": "2021-07-13T18:17:38.005Z"
   },
   {
    "duration": 6,
    "start_time": "2021-07-13T18:17:38.017Z"
   },
   {
    "duration": 39,
    "start_time": "2021-07-13T18:17:38.025Z"
   },
   {
    "duration": 41,
    "start_time": "2021-07-13T18:17:38.066Z"
   },
   {
    "duration": 268,
    "start_time": "2021-07-13T18:17:38.109Z"
   },
   {
    "duration": 295,
    "start_time": "2021-07-13T18:17:38.383Z"
   },
   {
    "duration": 234,
    "start_time": "2021-07-13T18:17:38.681Z"
   },
   {
    "duration": 303,
    "start_time": "2021-07-13T18:17:38.917Z"
   },
   {
    "duration": 102,
    "start_time": "2021-07-13T18:17:39.222Z"
   },
   {
    "duration": 47,
    "start_time": "2021-07-13T18:17:39.326Z"
   },
   {
    "duration": 9,
    "start_time": "2021-07-13T18:17:39.377Z"
   },
   {
    "duration": 25,
    "start_time": "2021-07-13T18:17:39.389Z"
   },
   {
    "duration": 9,
    "start_time": "2021-07-13T18:17:39.416Z"
   },
   {
    "duration": 152,
    "start_time": "2021-07-13T18:17:39.428Z"
   },
   {
    "duration": 505,
    "start_time": "2021-07-13T18:17:39.582Z"
   },
   {
    "duration": 93,
    "start_time": "2021-07-13T18:17:40.090Z"
   },
   {
    "duration": 25,
    "start_time": "2021-07-13T18:17:40.186Z"
   },
   {
    "duration": 49,
    "start_time": "2021-07-13T18:17:40.213Z"
   },
   {
    "duration": 30,
    "start_time": "2021-07-13T18:17:40.267Z"
   },
   {
    "duration": 27,
    "start_time": "2021-07-13T18:17:40.299Z"
   },
   {
    "duration": 1076,
    "start_time": "2021-07-13T18:17:40.329Z"
   },
   {
    "duration": 8,
    "start_time": "2021-07-13T18:17:41.408Z"
   },
   {
    "duration": 10,
    "start_time": "2021-07-13T18:17:41.419Z"
   },
   {
    "duration": 8779,
    "start_time": "2021-07-13T18:17:41.431Z"
   },
   {
    "duration": 95,
    "start_time": "2021-07-13T18:17:50.212Z"
   },
   {
    "duration": 12913,
    "start_time": "2021-07-13T18:17:50.310Z"
   },
   {
    "duration": 4,
    "start_time": "2021-07-13T18:18:03.226Z"
   },
   {
    "duration": 11559,
    "start_time": "2021-07-13T18:18:03.232Z"
   },
   {
    "duration": 10218,
    "start_time": "2021-07-13T18:18:14.793Z"
   },
   {
    "duration": 4,
    "start_time": "2021-07-13T18:18:25.013Z"
   },
   {
    "duration": 11384,
    "start_time": "2021-07-13T18:18:25.019Z"
   },
   {
    "duration": 97,
    "start_time": "2021-07-13T18:18:36.406Z"
   },
   {
    "duration": 187,
    "start_time": "2021-07-13T18:18:36.505Z"
   },
   {
    "duration": -711,
    "start_time": "2021-07-13T18:18:37.405Z"
   },
   {
    "duration": -714,
    "start_time": "2021-07-13T18:18:37.409Z"
   },
   {
    "duration": -715,
    "start_time": "2021-07-13T18:18:37.412Z"
   },
   {
    "duration": -720,
    "start_time": "2021-07-13T18:18:37.418Z"
   },
   {
    "duration": -721,
    "start_time": "2021-07-13T18:18:37.420Z"
   },
   {
    "duration": -723,
    "start_time": "2021-07-13T18:18:37.423Z"
   },
   {
    "duration": -729,
    "start_time": "2021-07-13T18:18:37.430Z"
   },
   {
    "duration": -730,
    "start_time": "2021-07-13T18:18:37.433Z"
   },
   {
    "duration": -731,
    "start_time": "2021-07-13T18:18:37.435Z"
   },
   {
    "duration": 7557,
    "start_time": "2021-07-13T18:19:01.993Z"
   },
   {
    "duration": 7941,
    "start_time": "2021-07-13T18:19:51.767Z"
   },
   {
    "duration": 7153,
    "start_time": "2021-07-13T18:24:07.835Z"
   },
   {
    "duration": 7590,
    "start_time": "2021-07-13T18:24:40.166Z"
   },
   {
    "duration": 7567,
    "start_time": "2021-07-13T18:25:09.151Z"
   },
   {
    "duration": 477,
    "start_time": "2021-07-13T18:26:27.992Z"
   },
   {
    "duration": 5,
    "start_time": "2021-07-13T18:26:31.472Z"
   },
   {
    "duration": 11667,
    "start_time": "2021-07-13T18:26:32.778Z"
   },
   {
    "duration": 87,
    "start_time": "2021-07-13T18:26:53.572Z"
   },
   {
    "duration": 1903,
    "start_time": "2021-07-13T18:27:25.900Z"
   },
   {
    "duration": 60,
    "start_time": "2021-07-13T18:27:30.565Z"
   },
   {
    "duration": 117,
    "start_time": "2021-07-13T18:28:18.188Z"
   },
   {
    "duration": 89,
    "start_time": "2021-07-13T18:29:10.936Z"
   },
   {
    "duration": 298,
    "start_time": "2021-07-13T18:30:46.602Z"
   },
   {
    "duration": 7,
    "start_time": "2021-07-13T18:31:47.213Z"
   },
   {
    "duration": 5,
    "start_time": "2021-07-13T18:31:57.743Z"
   },
   {
    "duration": 32,
    "start_time": "2021-07-13T18:37:22.444Z"
   },
   {
    "duration": 29,
    "start_time": "2021-07-13T18:39:25.630Z"
   },
   {
    "duration": 67,
    "start_time": "2021-07-13T18:44:59.074Z"
   },
   {
    "duration": 4,
    "start_time": "2021-07-13T18:57:09.662Z"
   },
   {
    "duration": 91,
    "start_time": "2021-07-13T18:57:21.527Z"
   },
   {
    "duration": 457,
    "start_time": "2021-07-13T18:59:31.436Z"
   },
   {
    "duration": 3041,
    "start_time": "2021-07-13T19:00:31.263Z"
   },
   {
    "duration": 39,
    "start_time": "2021-07-13T19:01:15.499Z"
   },
   {
    "duration": 113,
    "start_time": "2021-07-13T19:02:19.708Z"
   },
   {
    "duration": 1607,
    "start_time": "2021-07-13T19:02:46.355Z"
   },
   {
    "duration": 919,
    "start_time": "2021-07-13T19:03:19.734Z"
   },
   {
    "duration": 368,
    "start_time": "2021-07-13T19:03:50.038Z"
   },
   {
    "duration": 321,
    "start_time": "2021-07-13T19:04:01.645Z"
   },
   {
    "duration": 33,
    "start_time": "2021-07-13T19:04:10.454Z"
   },
   {
    "duration": 27,
    "start_time": "2021-07-13T19:04:53.663Z"
   },
   {
    "duration": 866,
    "start_time": "2021-07-14T18:28:36.182Z"
   },
   {
    "duration": 1111,
    "start_time": "2021-07-14T18:28:37.051Z"
   },
   {
    "duration": 33,
    "start_time": "2021-07-14T18:28:38.165Z"
   },
   {
    "duration": 174,
    "start_time": "2021-07-14T18:28:38.201Z"
   },
   {
    "duration": 69,
    "start_time": "2021-07-14T18:28:38.385Z"
   },
   {
    "duration": 76,
    "start_time": "2021-07-14T18:28:38.456Z"
   },
   {
    "duration": 24,
    "start_time": "2021-07-14T18:28:38.534Z"
   },
   {
    "duration": 169,
    "start_time": "2021-07-14T18:28:38.561Z"
   },
   {
    "duration": 4,
    "start_time": "2021-07-14T18:28:38.734Z"
   },
   {
    "duration": 9490,
    "start_time": "2021-07-14T18:28:38.741Z"
   },
   {
    "duration": 27,
    "start_time": "2021-07-14T18:28:48.233Z"
   },
   {
    "duration": 44,
    "start_time": "2021-07-14T18:28:48.262Z"
   },
   {
    "duration": 26,
    "start_time": "2021-07-14T18:28:48.308Z"
   },
   {
    "duration": 79,
    "start_time": "2021-07-14T18:28:48.336Z"
   },
   {
    "duration": 239,
    "start_time": "2021-07-14T18:28:48.418Z"
   },
   {
    "duration": 44,
    "start_time": "2021-07-14T18:28:48.660Z"
   },
   {
    "duration": 114,
    "start_time": "2021-07-14T18:28:48.707Z"
   },
   {
    "duration": 11,
    "start_time": "2021-07-14T18:28:48.824Z"
   },
   {
    "duration": 8,
    "start_time": "2021-07-14T18:28:48.838Z"
   },
   {
    "duration": 8,
    "start_time": "2021-07-14T18:28:48.848Z"
   },
   {
    "duration": 45,
    "start_time": "2021-07-14T18:28:48.886Z"
   },
   {
    "duration": 262,
    "start_time": "2021-07-14T18:28:48.934Z"
   },
   {
    "duration": 222,
    "start_time": "2021-07-14T18:28:49.198Z"
   },
   {
    "duration": 225,
    "start_time": "2021-07-14T18:28:49.423Z"
   },
   {
    "duration": 280,
    "start_time": "2021-07-14T18:28:49.650Z"
   },
   {
    "duration": 99,
    "start_time": "2021-07-14T18:28:49.932Z"
   },
   {
    "duration": 27,
    "start_time": "2021-07-14T18:28:50.037Z"
   },
   {
    "duration": 22,
    "start_time": "2021-07-14T18:28:50.067Z"
   },
   {
    "duration": 21,
    "start_time": "2021-07-14T18:28:50.092Z"
   },
   {
    "duration": 6,
    "start_time": "2021-07-14T18:28:50.116Z"
   },
   {
    "duration": 132,
    "start_time": "2021-07-14T18:28:50.124Z"
   },
   {
    "duration": 463,
    "start_time": "2021-07-14T18:28:50.259Z"
   },
   {
    "duration": 92,
    "start_time": "2021-07-14T18:28:50.725Z"
   },
   {
    "duration": 23,
    "start_time": "2021-07-14T18:28:50.820Z"
   },
   {
    "duration": 40,
    "start_time": "2021-07-14T18:28:50.845Z"
   },
   {
    "duration": 29,
    "start_time": "2021-07-14T18:28:50.888Z"
   },
   {
    "duration": 29,
    "start_time": "2021-07-14T18:28:50.921Z"
   },
   {
    "duration": 919,
    "start_time": "2021-07-14T18:28:50.953Z"
   },
   {
    "duration": 13,
    "start_time": "2021-07-14T18:28:51.874Z"
   },
   {
    "duration": 4,
    "start_time": "2021-07-14T18:28:51.890Z"
   },
   {
    "duration": 7812,
    "start_time": "2021-07-14T18:28:51.897Z"
   },
   {
    "duration": 92,
    "start_time": "2021-07-14T18:28:59.712Z"
   },
   {
    "duration": 9224,
    "start_time": "2021-07-14T18:28:59.806Z"
   },
   {
    "duration": 4,
    "start_time": "2021-07-14T18:29:09.032Z"
   },
   {
    "duration": 10569,
    "start_time": "2021-07-14T18:29:09.038Z"
   },
   {
    "duration": 9579,
    "start_time": "2021-07-14T18:29:19.610Z"
   },
   {
    "duration": 5,
    "start_time": "2021-07-14T18:29:29.191Z"
   },
   {
    "duration": 10503,
    "start_time": "2021-07-14T18:29:29.198Z"
   },
   {
    "duration": 6643,
    "start_time": "2021-07-14T18:29:39.704Z"
   },
   {
    "duration": 5,
    "start_time": "2021-07-14T18:29:46.349Z"
   },
   {
    "duration": 11239,
    "start_time": "2021-07-14T18:29:46.356Z"
   },
   {
    "duration": 98,
    "start_time": "2021-07-14T18:29:57.598Z"
   },
   {
    "duration": 52,
    "start_time": "2021-07-14T18:29:57.698Z"
   },
   {
    "duration": 105,
    "start_time": "2021-07-14T18:29:57.753Z"
   },
   {
    "duration": 27,
    "start_time": "2021-07-14T18:29:57.860Z"
   },
   {
    "duration": 92,
    "start_time": "2021-07-14T18:29:57.889Z"
   },
   {
    "duration": -1040,
    "start_time": "2021-07-14T18:29:59.023Z"
   },
   {
    "duration": 31,
    "start_time": "2021-07-14T18:35:03.035Z"
   },
   {
    "duration": 5,
    "start_time": "2021-07-14T18:35:34.668Z"
   },
   {
    "duration": 513,
    "start_time": "2021-07-14T18:39:37.409Z"
   },
   {
    "duration": 4,
    "start_time": "2021-07-14T18:40:46.812Z"
   },
   {
    "duration": 150,
    "start_time": "2021-07-14T18:41:01.216Z"
   },
   {
    "duration": 1377,
    "start_time": "2021-07-14T18:42:26.596Z"
   },
   {
    "duration": 23,
    "start_time": "2021-07-14T18:42:33.643Z"
   },
   {
    "duration": 17,
    "start_time": "2021-07-14T18:43:07.895Z"
   },
   {
    "duration": 16,
    "start_time": "2021-07-14T18:43:19.493Z"
   },
   {
    "duration": 8837,
    "start_time": "2021-07-14T18:44:51.022Z"
   },
   {
    "duration": 7351,
    "start_time": "2021-07-14T18:45:31.444Z"
   },
   {
    "duration": 105,
    "start_time": "2021-07-14T18:47:10.053Z"
   },
   {
    "duration": 103,
    "start_time": "2021-07-14T18:47:19.358Z"
   },
   {
    "duration": 39,
    "start_time": "2021-07-14T18:47:23.855Z"
   },
   {
    "duration": 978,
    "start_time": "2021-07-14T18:47:36.767Z"
   },
   {
    "duration": 1498,
    "start_time": "2021-07-14T18:47:59.390Z"
   },
   {
    "duration": 1151,
    "start_time": "2021-07-14T18:48:00.890Z"
   },
   {
    "duration": 24,
    "start_time": "2021-07-14T18:48:02.044Z"
   },
   {
    "duration": 164,
    "start_time": "2021-07-14T18:48:02.086Z"
   },
   {
    "duration": 76,
    "start_time": "2021-07-14T18:48:02.252Z"
   },
   {
    "duration": 70,
    "start_time": "2021-07-14T18:48:02.331Z"
   },
   {
    "duration": 27,
    "start_time": "2021-07-14T18:48:02.403Z"
   },
   {
    "duration": 167,
    "start_time": "2021-07-14T18:48:02.433Z"
   },
   {
    "duration": 4,
    "start_time": "2021-07-14T18:48:02.604Z"
   },
   {
    "duration": 9893,
    "start_time": "2021-07-14T18:48:02.611Z"
   },
   {
    "duration": 28,
    "start_time": "2021-07-14T18:48:12.507Z"
   },
   {
    "duration": 50,
    "start_time": "2021-07-14T18:48:12.538Z"
   },
   {
    "duration": 27,
    "start_time": "2021-07-14T18:48:12.590Z"
   },
   {
    "duration": 77,
    "start_time": "2021-07-14T18:48:12.619Z"
   },
   {
    "duration": 252,
    "start_time": "2021-07-14T18:48:12.698Z"
   },
   {
    "duration": 42,
    "start_time": "2021-07-14T18:48:12.952Z"
   },
   {
    "duration": 103,
    "start_time": "2021-07-14T18:48:12.996Z"
   },
   {
    "duration": 9,
    "start_time": "2021-07-14T18:48:13.101Z"
   },
   {
    "duration": 6,
    "start_time": "2021-07-14T18:48:13.112Z"
   },
   {
    "duration": 9,
    "start_time": "2021-07-14T18:48:13.120Z"
   },
   {
    "duration": 82,
    "start_time": "2021-07-14T18:48:13.132Z"
   },
   {
    "duration": 237,
    "start_time": "2021-07-14T18:48:13.217Z"
   },
   {
    "duration": 229,
    "start_time": "2021-07-14T18:48:13.456Z"
   },
   {
    "duration": 222,
    "start_time": "2021-07-14T18:48:13.687Z"
   },
   {
    "duration": 288,
    "start_time": "2021-07-14T18:48:13.920Z"
   },
   {
    "duration": 96,
    "start_time": "2021-07-14T18:48:14.211Z"
   },
   {
    "duration": 28,
    "start_time": "2021-07-14T18:48:14.315Z"
   },
   {
    "duration": 39,
    "start_time": "2021-07-14T18:48:14.346Z"
   },
   {
    "duration": 22,
    "start_time": "2021-07-14T18:48:14.388Z"
   },
   {
    "duration": 27,
    "start_time": "2021-07-14T18:48:14.413Z"
   },
   {
    "duration": 112,
    "start_time": "2021-07-14T18:48:14.443Z"
   },
   {
    "duration": 598,
    "start_time": "2021-07-14T18:48:14.558Z"
   },
   {
    "duration": 84,
    "start_time": "2021-07-14T18:48:15.158Z"
   },
   {
    "duration": 23,
    "start_time": "2021-07-14T18:48:15.244Z"
   },
   {
    "duration": 19,
    "start_time": "2021-07-14T18:48:15.286Z"
   },
   {
    "duration": 31,
    "start_time": "2021-07-14T18:48:15.307Z"
   },
   {
    "duration": 46,
    "start_time": "2021-07-14T18:48:15.340Z"
   },
   {
    "duration": 990,
    "start_time": "2021-07-14T18:48:15.389Z"
   },
   {
    "duration": 8,
    "start_time": "2021-07-14T18:48:16.381Z"
   },
   {
    "duration": 6,
    "start_time": "2021-07-14T18:48:16.392Z"
   },
   {
    "duration": 8064,
    "start_time": "2021-07-14T18:48:16.401Z"
   },
   {
    "duration": 91,
    "start_time": "2021-07-14T18:48:24.468Z"
   },
   {
    "duration": 9647,
    "start_time": "2021-07-14T18:48:24.562Z"
   },
   {
    "duration": 5,
    "start_time": "2021-07-14T18:48:34.211Z"
   },
   {
    "duration": 10751,
    "start_time": "2021-07-14T18:48:34.218Z"
   },
   {
    "duration": 9975,
    "start_time": "2021-07-14T18:48:44.971Z"
   },
   {
    "duration": 4,
    "start_time": "2021-07-14T18:48:54.949Z"
   },
   {
    "duration": 11009,
    "start_time": "2021-07-14T18:48:54.955Z"
   },
   {
    "duration": 6973,
    "start_time": "2021-07-14T18:49:05.966Z"
   },
   {
    "duration": 4,
    "start_time": "2021-07-14T18:49:12.942Z"
   },
   {
    "duration": 10964,
    "start_time": "2021-07-14T18:49:12.949Z"
   },
   {
    "duration": 100,
    "start_time": "2021-07-14T18:49:23.915Z"
   },
   {
    "duration": 68,
    "start_time": "2021-07-14T18:49:24.017Z"
   },
   {
    "duration": 85,
    "start_time": "2021-07-14T18:49:24.088Z"
   },
   {
    "duration": 5,
    "start_time": "2021-07-14T18:49:24.186Z"
   },
   {
    "duration": 44,
    "start_time": "2021-07-14T18:49:24.194Z"
   },
   {
    "duration": 715,
    "start_time": "2021-07-14T18:49:24.240Z"
   },
   {
    "duration": -1043,
    "start_time": "2021-07-14T18:49:26.001Z"
   },
   {
    "duration": -1045,
    "start_time": "2021-07-14T18:49:26.006Z"
   },
   {
    "duration": -1047,
    "start_time": "2021-07-14T18:49:26.010Z"
   },
   {
    "duration": 335,
    "start_time": "2021-07-14T18:55:01.402Z"
   },
   {
    "duration": 973,
    "start_time": "2021-07-14T18:55:10.481Z"
   },
   {
    "duration": 1383,
    "start_time": "2021-07-14T18:55:46.451Z"
   },
   {
    "duration": 1424,
    "start_time": "2021-07-14T18:55:53.243Z"
   },
   {
    "duration": 1083,
    "start_time": "2021-07-14T19:07:30.398Z"
   },
   {
    "duration": 1112,
    "start_time": "2021-07-14T19:08:08.808Z"
   },
   {
    "duration": 1108,
    "start_time": "2021-07-14T19:08:22.937Z"
   },
   {
    "duration": 811,
    "start_time": "2021-07-14T19:08:45.489Z"
   },
   {
    "duration": 791,
    "start_time": "2021-07-14T19:08:52.227Z"
   },
   {
    "duration": 653,
    "start_time": "2021-07-14T19:09:59.253Z"
   },
   {
    "duration": 279,
    "start_time": "2021-07-14T19:11:01.640Z"
   },
   {
    "duration": 9,
    "start_time": "2021-07-14T19:11:36.744Z"
   },
   {
    "duration": 216,
    "start_time": "2021-07-14T19:12:08.034Z"
   },
   {
    "duration": 363,
    "start_time": "2021-07-14T19:12:27.090Z"
   },
   {
    "duration": 200,
    "start_time": "2021-07-14T19:12:41.147Z"
   },
   {
    "duration": 8411,
    "start_time": "2021-07-14T19:13:03.236Z"
   },
   {
    "duration": 4,
    "start_time": "2021-07-14T19:14:09.132Z"
   },
   {
    "duration": 608,
    "start_time": "2021-07-14T19:15:13.537Z"
   },
   {
    "duration": 422,
    "start_time": "2021-07-14T19:19:26.354Z"
   },
   {
    "duration": 59,
    "start_time": "2021-07-14T19:23:02.291Z"
   },
   {
    "duration": 78,
    "start_time": "2021-07-14T19:23:08.379Z"
   },
   {
    "duration": 69,
    "start_time": "2021-07-14T19:23:33.292Z"
   },
   {
    "duration": 19,
    "start_time": "2021-07-14T19:23:55.354Z"
   },
   {
    "duration": 85,
    "start_time": "2021-07-14T19:24:26.301Z"
   },
   {
    "duration": 67,
    "start_time": "2021-07-14T19:24:38.180Z"
   },
   {
    "duration": 21,
    "start_time": "2021-07-14T19:24:40.006Z"
   },
   {
    "duration": 1426,
    "start_time": "2021-07-14T19:24:57.041Z"
   },
   {
    "duration": 1123,
    "start_time": "2021-07-14T19:24:58.470Z"
   },
   {
    "duration": 24,
    "start_time": "2021-07-14T19:24:59.600Z"
   },
   {
    "duration": 183,
    "start_time": "2021-07-14T19:24:59.627Z"
   },
   {
    "duration": 80,
    "start_time": "2021-07-14T19:24:59.812Z"
   },
   {
    "duration": 62,
    "start_time": "2021-07-14T19:24:59.895Z"
   },
   {
    "duration": 37,
    "start_time": "2021-07-14T19:24:59.959Z"
   },
   {
    "duration": 174,
    "start_time": "2021-07-14T19:25:00.001Z"
   },
   {
    "duration": 9,
    "start_time": "2021-07-14T19:25:00.178Z"
   },
   {
    "duration": 9578,
    "start_time": "2021-07-14T19:25:00.190Z"
   },
   {
    "duration": 35,
    "start_time": "2021-07-14T19:25:09.770Z"
   },
   {
    "duration": 26,
    "start_time": "2021-07-14T19:25:09.808Z"
   },
   {
    "duration": 24,
    "start_time": "2021-07-14T19:25:09.836Z"
   },
   {
    "duration": 80,
    "start_time": "2021-07-14T19:25:09.863Z"
   },
   {
    "duration": 267,
    "start_time": "2021-07-14T19:25:09.946Z"
   },
   {
    "duration": 28,
    "start_time": "2021-07-14T19:25:10.216Z"
   },
   {
    "duration": 120,
    "start_time": "2021-07-14T19:25:10.246Z"
   },
   {
    "duration": 24,
    "start_time": "2021-07-14T19:25:10.369Z"
   },
   {
    "duration": 7,
    "start_time": "2021-07-14T19:25:10.395Z"
   },
   {
    "duration": 7,
    "start_time": "2021-07-14T19:25:10.405Z"
   },
   {
    "duration": 70,
    "start_time": "2021-07-14T19:25:10.415Z"
   },
   {
    "duration": 238,
    "start_time": "2021-07-14T19:25:10.488Z"
   },
   {
    "duration": 242,
    "start_time": "2021-07-14T19:25:10.729Z"
   },
   {
    "duration": 216,
    "start_time": "2021-07-14T19:25:10.974Z"
   },
   {
    "duration": 288,
    "start_time": "2021-07-14T19:25:11.192Z"
   },
   {
    "duration": 87,
    "start_time": "2021-07-14T19:25:11.488Z"
   },
   {
    "duration": 26,
    "start_time": "2021-07-14T19:25:11.587Z"
   },
   {
    "duration": 16,
    "start_time": "2021-07-14T19:25:11.615Z"
   },
   {
    "duration": 22,
    "start_time": "2021-07-14T19:25:11.633Z"
   },
   {
    "duration": 29,
    "start_time": "2021-07-14T19:25:11.657Z"
   },
   {
    "duration": 123,
    "start_time": "2021-07-14T19:25:11.688Z"
   },
   {
    "duration": 489,
    "start_time": "2021-07-14T19:25:11.813Z"
   },
   {
    "duration": 98,
    "start_time": "2021-07-14T19:25:12.305Z"
   },
   {
    "duration": 23,
    "start_time": "2021-07-14T19:25:12.405Z"
   },
   {
    "duration": 23,
    "start_time": "2021-07-14T19:25:12.430Z"
   },
   {
    "duration": 50,
    "start_time": "2021-07-14T19:25:12.456Z"
   },
   {
    "duration": 29,
    "start_time": "2021-07-14T19:25:12.508Z"
   },
   {
    "duration": 940,
    "start_time": "2021-07-14T19:25:12.539Z"
   },
   {
    "duration": 7,
    "start_time": "2021-07-14T19:25:13.481Z"
   },
   {
    "duration": 7,
    "start_time": "2021-07-14T19:25:13.490Z"
   },
   {
    "duration": 7770,
    "start_time": "2021-07-14T19:25:13.499Z"
   },
   {
    "duration": 86,
    "start_time": "2021-07-14T19:25:21.271Z"
   },
   {
    "duration": 9437,
    "start_time": "2021-07-14T19:25:21.360Z"
   },
   {
    "duration": 4,
    "start_time": "2021-07-14T19:25:30.800Z"
   },
   {
    "duration": 10754,
    "start_time": "2021-07-14T19:25:30.806Z"
   },
   {
    "duration": 9312,
    "start_time": "2021-07-14T19:25:41.562Z"
   },
   {
    "duration": 9,
    "start_time": "2021-07-14T19:25:50.877Z"
   },
   {
    "duration": 11076,
    "start_time": "2021-07-14T19:25:50.888Z"
   },
   {
    "duration": 7178,
    "start_time": "2021-07-14T19:26:01.967Z"
   },
   {
    "duration": 5,
    "start_time": "2021-07-14T19:26:09.148Z"
   },
   {
    "duration": 11252,
    "start_time": "2021-07-14T19:26:09.155Z"
   },
   {
    "duration": 88,
    "start_time": "2021-07-14T19:26:20.409Z"
   },
   {
    "duration": 44,
    "start_time": "2021-07-14T19:26:20.499Z"
   },
   {
    "duration": 99,
    "start_time": "2021-07-14T19:26:20.545Z"
   },
   {
    "duration": 6,
    "start_time": "2021-07-14T19:26:20.646Z"
   },
   {
    "duration": 30,
    "start_time": "2021-07-14T19:26:20.655Z"
   },
   {
    "duration": 622,
    "start_time": "2021-07-14T19:26:20.687Z"
   },
   {
    "duration": 92,
    "start_time": "2021-07-14T19:26:21.312Z"
   },
   {
    "duration": 130,
    "start_time": "2021-07-14T19:26:21.406Z"
   },
   {
    "duration": -964,
    "start_time": "2021-07-14T19:26:22.503Z"
   },
   {
    "duration": -966,
    "start_time": "2021-07-14T19:26:22.506Z"
   },
   {
    "duration": -972,
    "start_time": "2021-07-14T19:26:22.514Z"
   },
   {
    "duration": -974,
    "start_time": "2021-07-14T19:26:22.517Z"
   },
   {
    "duration": 82,
    "start_time": "2021-07-14T19:28:11.813Z"
   },
   {
    "duration": 140,
    "start_time": "2021-07-14T19:38:16.324Z"
   },
   {
    "duration": 19,
    "start_time": "2021-07-14T19:38:21.210Z"
   },
   {
    "duration": 19,
    "start_time": "2021-07-14T19:39:04.944Z"
   },
   {
    "duration": 15,
    "start_time": "2021-07-14T19:39:24.398Z"
   },
   {
    "duration": 18,
    "start_time": "2021-07-14T19:39:32.589Z"
   },
   {
    "duration": 56,
    "start_time": "2021-07-14T19:40:13.576Z"
   },
   {
    "duration": 25,
    "start_time": "2021-07-14T19:40:21.530Z"
   },
   {
    "duration": 6,
    "start_time": "2021-07-14T19:40:31.771Z"
   },
   {
    "duration": 99,
    "start_time": "2021-07-14T19:40:36.352Z"
   },
   {
    "duration": 5,
    "start_time": "2021-07-14T19:40:38.325Z"
   },
   {
    "duration": 4,
    "start_time": "2021-07-14T19:40:40.360Z"
   },
   {
    "duration": 601,
    "start_time": "2021-07-14T19:40:42.422Z"
   },
   {
    "duration": 82,
    "start_time": "2021-07-14T19:40:47.098Z"
   },
   {
    "duration": 16,
    "start_time": "2021-07-14T19:40:49.408Z"
   },
   {
    "duration": 24,
    "start_time": "2021-07-14T19:40:52.723Z"
   },
   {
    "duration": 35,
    "start_time": "2021-07-14T19:40:54.801Z"
   },
   {
    "duration": 25,
    "start_time": "2021-07-14T19:42:09.092Z"
   },
   {
    "duration": 16,
    "start_time": "2021-07-14T19:44:20.858Z"
   },
   {
    "duration": 108,
    "start_time": "2021-07-14T19:44:41.581Z"
   },
   {
    "duration": 100,
    "start_time": "2021-07-14T19:45:00.966Z"
   },
   {
    "duration": 17,
    "start_time": "2021-07-14T19:46:00.011Z"
   },
   {
    "duration": 57,
    "start_time": "2021-07-14T19:46:09.088Z"
   },
   {
    "duration": 1034,
    "start_time": "2021-07-15T15:38:41.055Z"
   },
   {
    "duration": 744,
    "start_time": "2021-07-15T15:38:42.091Z"
   },
   {
    "duration": 17,
    "start_time": "2021-07-15T15:38:42.837Z"
   },
   {
    "duration": 132,
    "start_time": "2021-07-15T15:38:42.856Z"
   },
   {
    "duration": 55,
    "start_time": "2021-07-15T15:38:42.990Z"
   },
   {
    "duration": 51,
    "start_time": "2021-07-15T15:38:43.047Z"
   },
   {
    "duration": 19,
    "start_time": "2021-07-15T15:38:43.100Z"
   },
   {
    "duration": 114,
    "start_time": "2021-07-15T15:38:43.122Z"
   },
   {
    "duration": 2,
    "start_time": "2021-07-15T15:38:43.238Z"
   },
   {
    "duration": 5504,
    "start_time": "2021-07-15T15:38:43.242Z"
   },
   {
    "duration": 22,
    "start_time": "2021-07-15T15:38:48.747Z"
   },
   {
    "duration": 33,
    "start_time": "2021-07-15T15:38:48.770Z"
   },
   {
    "duration": 13,
    "start_time": "2021-07-15T15:38:48.805Z"
   },
   {
    "duration": 33,
    "start_time": "2021-07-15T15:38:48.820Z"
   },
   {
    "duration": 178,
    "start_time": "2021-07-15T15:38:48.855Z"
   },
   {
    "duration": 22,
    "start_time": "2021-07-15T15:38:49.035Z"
   },
   {
    "duration": 85,
    "start_time": "2021-07-15T15:38:49.058Z"
   },
   {
    "duration": 7,
    "start_time": "2021-07-15T15:38:49.145Z"
   },
   {
    "duration": 5,
    "start_time": "2021-07-15T15:38:49.153Z"
   },
   {
    "duration": 26,
    "start_time": "2021-07-15T15:38:49.159Z"
   },
   {
    "duration": 26,
    "start_time": "2021-07-15T15:38:49.187Z"
   },
   {
    "duration": 159,
    "start_time": "2021-07-15T15:38:49.215Z"
   },
   {
    "duration": 159,
    "start_time": "2021-07-15T15:38:49.379Z"
   },
   {
    "duration": 147,
    "start_time": "2021-07-15T15:38:49.541Z"
   },
   {
    "duration": 185,
    "start_time": "2021-07-15T15:38:49.690Z"
   },
   {
    "duration": 69,
    "start_time": "2021-07-15T15:38:49.877Z"
   },
   {
    "duration": 36,
    "start_time": "2021-07-15T15:38:49.948Z"
   },
   {
    "duration": 6,
    "start_time": "2021-07-15T15:38:49.986Z"
   },
   {
    "duration": 18,
    "start_time": "2021-07-15T15:38:49.993Z"
   },
   {
    "duration": 5,
    "start_time": "2021-07-15T15:38:50.013Z"
   },
   {
    "duration": 93,
    "start_time": "2021-07-15T15:38:50.019Z"
   },
   {
    "duration": 301,
    "start_time": "2021-07-15T15:38:50.113Z"
   },
   {
    "duration": 62,
    "start_time": "2021-07-15T15:38:50.416Z"
   },
   {
    "duration": 17,
    "start_time": "2021-07-15T15:38:50.485Z"
   },
   {
    "duration": 15,
    "start_time": "2021-07-15T15:38:50.504Z"
   },
   {
    "duration": 17,
    "start_time": "2021-07-15T15:38:50.521Z"
   },
   {
    "duration": 16,
    "start_time": "2021-07-15T15:38:50.540Z"
   },
   {
    "duration": 626,
    "start_time": "2021-07-15T15:38:50.558Z"
   },
   {
    "duration": 6,
    "start_time": "2021-07-15T15:38:51.186Z"
   },
   {
    "duration": 5,
    "start_time": "2021-07-15T15:38:51.194Z"
   },
   {
    "duration": 4499,
    "start_time": "2021-07-15T15:38:51.200Z"
   },
   {
    "duration": 64,
    "start_time": "2021-07-15T15:38:55.701Z"
   },
   {
    "duration": 6142,
    "start_time": "2021-07-15T15:38:55.767Z"
   },
   {
    "duration": 4,
    "start_time": "2021-07-15T15:39:01.911Z"
   },
   {
    "duration": 6042,
    "start_time": "2021-07-15T15:39:01.917Z"
   },
   {
    "duration": 6078,
    "start_time": "2021-07-15T15:39:07.960Z"
   },
   {
    "duration": 3,
    "start_time": "2021-07-15T15:39:14.039Z"
   },
   {
    "duration": 6019,
    "start_time": "2021-07-15T15:39:14.044Z"
   },
   {
    "duration": 4673,
    "start_time": "2021-07-15T15:39:20.065Z"
   },
   {
    "duration": 3,
    "start_time": "2021-07-15T15:39:24.739Z"
   },
   {
    "duration": 6079,
    "start_time": "2021-07-15T15:39:24.743Z"
   },
   {
    "duration": 65,
    "start_time": "2021-07-15T15:39:30.823Z"
   },
   {
    "duration": 38,
    "start_time": "2021-07-15T15:39:30.889Z"
   },
   {
    "duration": 3,
    "start_time": "2021-07-15T15:39:30.929Z"
   },
   {
    "duration": 87,
    "start_time": "2021-07-15T15:39:30.933Z"
   },
   {
    "duration": 4,
    "start_time": "2021-07-15T15:39:31.022Z"
   },
   {
    "duration": 79,
    "start_time": "2021-07-15T15:39:31.027Z"
   },
   {
    "duration": -656,
    "start_time": "2021-07-15T15:39:31.763Z"
   },
   {
    "duration": -660,
    "start_time": "2021-07-15T15:39:31.768Z"
   },
   {
    "duration": -662,
    "start_time": "2021-07-15T15:39:31.771Z"
   },
   {
    "duration": -663,
    "start_time": "2021-07-15T15:39:31.773Z"
   },
   {
    "duration": -676,
    "start_time": "2021-07-15T15:41:05.219Z"
   },
   {
    "duration": 30,
    "start_time": "2021-07-15T15:41:38.704Z"
   },
   {
    "duration": 3,
    "start_time": "2021-07-15T15:42:16.321Z"
   },
   {
    "duration": 371,
    "start_time": "2021-07-15T15:42:27.130Z"
   },
   {
    "duration": 43,
    "start_time": "2021-07-15T15:42:39.010Z"
   },
   {
    "duration": 16,
    "start_time": "2021-07-15T15:43:41.325Z"
   },
   {
    "duration": 14,
    "start_time": "2021-07-15T15:49:44.187Z"
   },
   {
    "duration": 12,
    "start_time": "2021-07-15T15:49:46.514Z"
   },
   {
    "duration": 51,
    "start_time": "2021-07-15T15:49:50.332Z"
   },
   {
    "duration": 4,
    "start_time": "2021-07-15T15:50:22.221Z"
   },
   {
    "duration": 3,
    "start_time": "2021-07-15T15:59:44.043Z"
   },
   {
    "duration": 5,
    "start_time": "2021-07-15T16:00:53.485Z"
   },
   {
    "duration": 6,
    "start_time": "2021-07-15T16:01:49.407Z"
   },
   {
    "duration": 197,
    "start_time": "2021-07-15T16:03:01.434Z"
   },
   {
    "duration": 21,
    "start_time": "2021-07-15T16:03:24.452Z"
   },
   {
    "duration": 57,
    "start_time": "2021-07-15T16:03:39.091Z"
   },
   {
    "duration": 314,
    "start_time": "2021-07-15T16:03:48.380Z"
   },
   {
    "duration": 4,
    "start_time": "2021-07-15T16:04:00.748Z"
   },
   {
    "duration": 1013,
    "start_time": "2021-07-15T16:04:06.493Z"
   },
   {
    "duration": 1013,
    "start_time": "2021-07-15T16:04:27.101Z"
   },
   {
    "duration": 3,
    "start_time": "2021-07-15T16:04:44.614Z"
   },
   {
    "duration": 1097,
    "start_time": "2021-07-15T16:04:45.718Z"
   },
   {
    "duration": 3,
    "start_time": "2021-07-15T16:05:24.559Z"
   },
   {
    "duration": 294,
    "start_time": "2021-07-15T16:05:25.615Z"
   },
   {
    "duration": 64,
    "start_time": "2021-07-15T16:05:42.839Z"
   },
   {
    "duration": 4,
    "start_time": "2021-07-15T16:06:00.459Z"
   },
   {
    "duration": 333,
    "start_time": "2021-07-15T16:06:01.626Z"
   },
   {
    "duration": 4,
    "start_time": "2021-07-15T16:08:35.630Z"
   },
   {
    "duration": 1076,
    "start_time": "2021-07-15T16:08:36.743Z"
   },
   {
    "duration": 17,
    "start_time": "2021-07-15T16:12:40.056Z"
   },
   {
    "duration": 1075,
    "start_time": "2021-07-15T17:54:02.016Z"
   },
   {
    "duration": 741,
    "start_time": "2021-07-15T17:54:03.093Z"
   },
   {
    "duration": 16,
    "start_time": "2021-07-15T17:54:03.836Z"
   },
   {
    "duration": 132,
    "start_time": "2021-07-15T17:54:03.854Z"
   },
   {
    "duration": 55,
    "start_time": "2021-07-15T17:54:03.988Z"
   },
   {
    "duration": 52,
    "start_time": "2021-07-15T17:54:04.045Z"
   },
   {
    "duration": 29,
    "start_time": "2021-07-15T17:54:04.099Z"
   },
   {
    "duration": 106,
    "start_time": "2021-07-15T17:54:04.130Z"
   },
   {
    "duration": 2,
    "start_time": "2021-07-15T17:54:04.239Z"
   },
   {
    "duration": 5472,
    "start_time": "2021-07-15T17:54:04.243Z"
   },
   {
    "duration": 22,
    "start_time": "2021-07-15T17:54:09.717Z"
   },
   {
    "duration": 23,
    "start_time": "2021-07-15T17:54:09.740Z"
   },
   {
    "duration": 27,
    "start_time": "2021-07-15T17:54:09.764Z"
   },
   {
    "duration": 35,
    "start_time": "2021-07-15T17:54:09.792Z"
   },
   {
    "duration": 164,
    "start_time": "2021-07-15T17:54:09.829Z"
   },
   {
    "duration": 23,
    "start_time": "2021-07-15T17:54:09.995Z"
   },
   {
    "duration": 86,
    "start_time": "2021-07-15T17:54:10.020Z"
   },
   {
    "duration": 7,
    "start_time": "2021-07-15T17:54:10.107Z"
   },
   {
    "duration": 5,
    "start_time": "2021-07-15T17:54:10.115Z"
   },
   {
    "duration": 6,
    "start_time": "2021-07-15T17:54:10.122Z"
   },
   {
    "duration": 29,
    "start_time": "2021-07-15T17:54:10.130Z"
   },
   {
    "duration": 148,
    "start_time": "2021-07-15T17:54:10.184Z"
   },
   {
    "duration": 151,
    "start_time": "2021-07-15T17:54:10.334Z"
   },
   {
    "duration": 143,
    "start_time": "2021-07-15T17:54:10.487Z"
   },
   {
    "duration": 184,
    "start_time": "2021-07-15T17:54:10.631Z"
   },
   {
    "duration": 68,
    "start_time": "2021-07-15T17:54:10.817Z"
   },
   {
    "duration": 17,
    "start_time": "2021-07-15T17:54:10.889Z"
   },
   {
    "duration": 5,
    "start_time": "2021-07-15T17:54:10.908Z"
   },
   {
    "duration": 15,
    "start_time": "2021-07-15T17:54:10.914Z"
   },
   {
    "duration": 6,
    "start_time": "2021-07-15T17:54:10.931Z"
   },
   {
    "duration": 97,
    "start_time": "2021-07-15T17:54:10.938Z"
   },
   {
    "duration": 311,
    "start_time": "2021-07-15T17:54:11.036Z"
   },
   {
    "duration": 63,
    "start_time": "2021-07-15T17:54:11.348Z"
   },
   {
    "duration": 16,
    "start_time": "2021-07-15T17:54:11.412Z"
   },
   {
    "duration": 20,
    "start_time": "2021-07-15T17:54:11.430Z"
   },
   {
    "duration": 36,
    "start_time": "2021-07-15T17:54:11.451Z"
   },
   {
    "duration": 15,
    "start_time": "2021-07-15T17:54:11.489Z"
   },
   {
    "duration": 649,
    "start_time": "2021-07-15T17:54:11.505Z"
   },
   {
    "duration": 5,
    "start_time": "2021-07-15T17:54:12.155Z"
   },
   {
    "duration": 5,
    "start_time": "2021-07-15T17:54:12.162Z"
   },
   {
    "duration": 4552,
    "start_time": "2021-07-15T17:54:12.169Z"
   },
   {
    "duration": 77,
    "start_time": "2021-07-15T17:54:16.723Z"
   },
   {
    "duration": 6311,
    "start_time": "2021-07-15T17:54:16.802Z"
   },
   {
    "duration": 3,
    "start_time": "2021-07-15T17:54:23.115Z"
   },
   {
    "duration": 6486,
    "start_time": "2021-07-15T17:54:23.119Z"
   },
   {
    "duration": 6068,
    "start_time": "2021-07-15T17:54:29.607Z"
   },
   {
    "duration": 8,
    "start_time": "2021-07-15T17:54:35.676Z"
   },
   {
    "duration": 6086,
    "start_time": "2021-07-15T17:54:35.686Z"
   },
   {
    "duration": 4814,
    "start_time": "2021-07-15T17:54:41.774Z"
   },
   {
    "duration": 3,
    "start_time": "2021-07-15T17:54:46.590Z"
   },
   {
    "duration": 6082,
    "start_time": "2021-07-15T17:54:46.595Z"
   },
   {
    "duration": 64,
    "start_time": "2021-07-15T17:54:52.679Z"
   },
   {
    "duration": 25,
    "start_time": "2021-07-15T17:54:52.745Z"
   },
   {
    "duration": 14,
    "start_time": "2021-07-15T17:54:52.771Z"
   },
   {
    "duration": 68,
    "start_time": "2021-07-15T17:54:52.787Z"
   },
   {
    "duration": 28,
    "start_time": "2021-07-15T17:54:52.857Z"
   },
   {
    "duration": 31,
    "start_time": "2021-07-15T17:54:52.886Z"
   },
   {
    "duration": 3,
    "start_time": "2021-07-15T17:54:52.918Z"
   },
   {
    "duration": 410,
    "start_time": "2021-07-15T17:54:52.922Z"
   },
   {
    "duration": 58,
    "start_time": "2021-07-15T17:54:53.334Z"
   },
   {
    "duration": 14,
    "start_time": "2021-07-15T17:54:53.393Z"
   },
   {
    "duration": 12,
    "start_time": "2021-07-15T17:54:53.409Z"
   },
   {
    "duration": 64,
    "start_time": "2021-07-15T17:54:53.422Z"
   },
   {
    "duration": 3,
    "start_time": "2021-07-15T17:54:53.487Z"
   },
   {
    "duration": 64,
    "start_time": "2021-07-15T17:54:53.491Z"
   },
   {
    "duration": -469,
    "start_time": "2021-07-15T17:54:54.026Z"
   },
   {
    "duration": -490,
    "start_time": "2021-07-15T17:54:54.048Z"
   },
   {
    "duration": 22,
    "start_time": "2021-07-15T17:55:06.901Z"
   },
   {
    "duration": 67,
    "start_time": "2021-07-15T17:55:16.773Z"
   },
   {
    "duration": 1100,
    "start_time": "2021-07-15T17:55:28.614Z"
   },
   {
    "duration": 22,
    "start_time": "2021-07-15T17:56:10.376Z"
   },
   {
    "duration": 1034,
    "start_time": "2021-07-15T17:56:46.569Z"
   },
   {
    "duration": 219338,
    "start_time": "2021-07-15T17:56:49.922Z"
   },
   {
    "duration": 17,
    "start_time": "2021-07-15T18:00:45.466Z"
   },
   {
    "duration": 10,
    "start_time": "2021-07-15T18:02:45.655Z"
   },
   {
    "duration": 10,
    "start_time": "2021-07-15T18:02:51.439Z"
   },
   {
    "duration": 4618,
    "start_time": "2021-07-15T18:05:58.567Z"
   },
   {
    "duration": 4531,
    "start_time": "2021-07-15T18:06:21.308Z"
   },
   {
    "duration": 4466,
    "start_time": "2021-07-15T18:06:31.004Z"
   },
   {
    "duration": 4361,
    "start_time": "2021-07-15T18:06:43.111Z"
   },
   {
    "duration": 4435,
    "start_time": "2021-07-15T18:06:56.442Z"
   },
   {
    "duration": 15,
    "start_time": "2021-07-15T18:07:03.225Z"
   },
   {
    "duration": 189,
    "start_time": "2021-07-15T18:07:37.311Z"
   },
   {
    "duration": 6,
    "start_time": "2021-07-15T18:07:45.108Z"
   },
   {
    "duration": 20,
    "start_time": "2021-07-15T18:08:37.891Z"
   },
   {
    "duration": 5,
    "start_time": "2021-07-15T18:08:50.478Z"
   },
   {
    "duration": 54,
    "start_time": "2021-07-15T18:12:45.718Z"
   },
   {
    "duration": 3,
    "start_time": "2021-07-15T18:14:14.609Z"
   },
   {
    "duration": 1230,
    "start_time": "2021-07-15T18:14:45.899Z"
   },
   {
    "duration": 2426,
    "start_time": "2021-07-15T18:15:02.146Z"
   },
   {
    "duration": 4,
    "start_time": "2021-07-15T18:21:19.066Z"
   },
   {
    "duration": 1866,
    "start_time": "2021-07-15T18:21:27.826Z"
   },
   {
    "duration": 193,
    "start_time": "2021-07-15T18:21:39.258Z"
   },
   {
    "duration": 3,
    "start_time": "2021-07-15T18:22:41.182Z"
   },
   {
    "duration": 192,
    "start_time": "2021-07-15T18:22:48.166Z"
   },
   {
    "duration": 3102,
    "start_time": "2021-07-15T18:23:05.997Z"
   },
   {
    "duration": 2199,
    "start_time": "2021-07-15T18:24:02.768Z"
   },
   {
    "duration": 1183,
    "start_time": "2021-07-15T18:30:54.170Z"
   },
   {
    "duration": 726,
    "start_time": "2021-07-15T18:30:55.355Z"
   },
   {
    "duration": 17,
    "start_time": "2021-07-15T18:30:56.085Z"
   },
   {
    "duration": 129,
    "start_time": "2021-07-15T18:30:56.104Z"
   },
   {
    "duration": 68,
    "start_time": "2021-07-15T18:30:56.235Z"
   },
   {
    "duration": 39,
    "start_time": "2021-07-15T18:30:56.305Z"
   },
   {
    "duration": 20,
    "start_time": "2021-07-15T18:30:56.346Z"
   },
   {
    "duration": 126,
    "start_time": "2021-07-15T18:30:56.368Z"
   },
   {
    "duration": 4,
    "start_time": "2021-07-15T18:30:56.497Z"
   },
   {
    "duration": 5288,
    "start_time": "2021-07-15T18:30:56.503Z"
   },
   {
    "duration": 24,
    "start_time": "2021-07-15T18:31:01.793Z"
   },
   {
    "duration": 22,
    "start_time": "2021-07-15T18:31:01.818Z"
   },
   {
    "duration": 16,
    "start_time": "2021-07-15T18:31:01.842Z"
   },
   {
    "duration": 60,
    "start_time": "2021-07-15T18:31:01.859Z"
   },
   {
    "duration": 157,
    "start_time": "2021-07-15T18:31:01.921Z"
   },
   {
    "duration": 23,
    "start_time": "2021-07-15T18:31:02.080Z"
   },
   {
    "duration": 83,
    "start_time": "2021-07-15T18:31:02.105Z"
   },
   {
    "duration": 6,
    "start_time": "2021-07-15T18:31:02.190Z"
   },
   {
    "duration": 6,
    "start_time": "2021-07-15T18:31:02.197Z"
   },
   {
    "duration": 5,
    "start_time": "2021-07-15T18:31:02.204Z"
   },
   {
    "duration": 26,
    "start_time": "2021-07-15T18:31:02.210Z"
   },
   {
    "duration": 185,
    "start_time": "2021-07-15T18:31:02.237Z"
   },
   {
    "duration": 159,
    "start_time": "2021-07-15T18:31:02.423Z"
   },
   {
    "duration": 151,
    "start_time": "2021-07-15T18:31:02.585Z"
   },
   {
    "duration": 188,
    "start_time": "2021-07-15T18:31:02.738Z"
   },
   {
    "duration": 71,
    "start_time": "2021-07-15T18:31:02.927Z"
   },
   {
    "duration": 19,
    "start_time": "2021-07-15T18:31:03.001Z"
   },
   {
    "duration": 5,
    "start_time": "2021-07-15T18:31:03.022Z"
   },
   {
    "duration": 20,
    "start_time": "2021-07-15T18:31:03.029Z"
   },
   {
    "duration": 5,
    "start_time": "2021-07-15T18:31:03.051Z"
   },
   {
    "duration": 92,
    "start_time": "2021-07-15T18:31:03.057Z"
   },
   {
    "duration": 316,
    "start_time": "2021-07-15T18:31:03.151Z"
   },
   {
    "duration": 71,
    "start_time": "2021-07-15T18:31:03.469Z"
   },
   {
    "duration": 18,
    "start_time": "2021-07-15T18:31:03.542Z"
   },
   {
    "duration": 31,
    "start_time": "2021-07-15T18:31:03.562Z"
   },
   {
    "duration": 21,
    "start_time": "2021-07-15T18:31:03.595Z"
   },
   {
    "duration": 18,
    "start_time": "2021-07-15T18:31:03.618Z"
   },
   {
    "duration": 658,
    "start_time": "2021-07-15T18:31:03.638Z"
   },
   {
    "duration": 6,
    "start_time": "2021-07-15T18:31:04.297Z"
   },
   {
    "duration": 5,
    "start_time": "2021-07-15T18:31:04.305Z"
   },
   {
    "duration": 4654,
    "start_time": "2021-07-15T18:31:04.312Z"
   },
   {
    "duration": 74,
    "start_time": "2021-07-15T18:31:08.967Z"
   },
   {
    "duration": 5964,
    "start_time": "2021-07-15T18:31:09.043Z"
   },
   {
    "duration": 4,
    "start_time": "2021-07-15T18:31:15.009Z"
   },
   {
    "duration": 5995,
    "start_time": "2021-07-15T18:31:15.015Z"
   },
   {
    "duration": 6161,
    "start_time": "2021-07-15T18:31:21.012Z"
   },
   {
    "duration": 3,
    "start_time": "2021-07-15T18:31:27.174Z"
   },
   {
    "duration": 5968,
    "start_time": "2021-07-15T18:31:27.179Z"
   },
   {
    "duration": 4578,
    "start_time": "2021-07-15T18:31:33.149Z"
   },
   {
    "duration": 4,
    "start_time": "2021-07-15T18:31:37.729Z"
   },
   {
    "duration": 5963,
    "start_time": "2021-07-15T18:31:37.735Z"
   },
   {
    "duration": 66,
    "start_time": "2021-07-15T18:31:43.699Z"
   },
   {
    "duration": 40,
    "start_time": "2021-07-15T18:31:43.767Z"
   },
   {
    "duration": 5,
    "start_time": "2021-07-15T18:31:43.808Z"
   },
   {
    "duration": 93,
    "start_time": "2021-07-15T18:31:43.815Z"
   },
   {
    "duration": 58,
    "start_time": "2021-07-15T18:31:43.910Z"
   },
   {
    "duration": -425,
    "start_time": "2021-07-15T18:31:44.395Z"
   },
   {
    "duration": -430,
    "start_time": "2021-07-15T18:31:44.401Z"
   },
   {
    "duration": -431,
    "start_time": "2021-07-15T18:31:44.404Z"
   },
   {
    "duration": -446,
    "start_time": "2021-07-15T18:31:44.420Z"
   },
   {
    "duration": -450,
    "start_time": "2021-07-15T18:31:44.425Z"
   },
   {
    "duration": -452,
    "start_time": "2021-07-15T18:31:44.429Z"
   },
   {
    "duration": -454,
    "start_time": "2021-07-15T18:31:44.432Z"
   },
   {
    "duration": -455,
    "start_time": "2021-07-15T18:31:44.435Z"
   },
   {
    "duration": -459,
    "start_time": "2021-07-15T18:31:44.440Z"
   },
   {
    "duration": -463,
    "start_time": "2021-07-15T18:31:44.445Z"
   },
   {
    "duration": -463,
    "start_time": "2021-07-15T18:31:44.447Z"
   },
   {
    "duration": 5,
    "start_time": "2021-07-15T18:32:24.576Z"
   },
   {
    "duration": 22,
    "start_time": "2021-07-15T18:32:28.599Z"
   },
   {
    "duration": 60,
    "start_time": "2021-07-15T18:32:31.944Z"
   },
   {
    "duration": 5066,
    "start_time": "2021-07-15T18:32:36.945Z"
   },
   {
    "duration": 5246,
    "start_time": "2021-07-15T18:34:35.494Z"
   },
   {
    "duration": 215,
    "start_time": "2021-07-15T18:35:28.190Z"
   },
   {
    "duration": 16,
    "start_time": "2021-07-15T18:35:33.511Z"
   },
   {
    "duration": 14,
    "start_time": "2021-07-15T18:36:10.113Z"
   },
   {
    "duration": 58,
    "start_time": "2021-07-15T18:36:22.075Z"
   },
   {
    "duration": 14,
    "start_time": "2021-07-15T18:36:55.970Z"
   },
   {
    "duration": 13,
    "start_time": "2021-07-15T18:37:09.547Z"
   },
   {
    "duration": 62,
    "start_time": "2021-07-15T18:38:06.899Z"
   },
   {
    "duration": 493,
    "start_time": "2021-07-15T18:38:33.407Z"
   },
   {
    "duration": 65,
    "start_time": "2021-07-15T18:38:53.735Z"
   },
   {
    "duration": 477,
    "start_time": "2021-07-15T18:39:15.377Z"
   },
   {
    "duration": 6424,
    "start_time": "2021-07-15T18:40:09.562Z"
   },
   {
    "duration": 6335,
    "start_time": "2021-07-15T18:40:23.549Z"
   },
   {
    "duration": 16,
    "start_time": "2021-07-15T18:40:39.195Z"
   },
   {
    "duration": 5084,
    "start_time": "2021-07-15T18:40:57.240Z"
   },
   {
    "duration": 3758,
    "start_time": "2021-07-15T18:42:32.184Z"
   },
   {
    "duration": 23,
    "start_time": "2021-07-15T18:48:34.822Z"
   },
   {
    "duration": 23,
    "start_time": "2021-07-15T18:48:38.166Z"
   },
   {
    "duration": 40,
    "start_time": "2021-07-15T18:48:59.094Z"
   },
   {
    "duration": 20,
    "start_time": "2021-07-15T18:49:08.286Z"
   },
   {
    "duration": 56,
    "start_time": "2021-07-15T18:50:42.731Z"
   },
   {
    "duration": 28,
    "start_time": "2021-07-15T18:51:44.437Z"
   },
   {
    "duration": 1200,
    "start_time": "2021-07-15T18:52:05.467Z"
   },
   {
    "duration": 818,
    "start_time": "2021-07-15T18:52:06.669Z"
   },
   {
    "duration": 18,
    "start_time": "2021-07-15T18:52:07.490Z"
   },
   {
    "duration": 137,
    "start_time": "2021-07-15T18:52:07.510Z"
   },
   {
    "duration": 65,
    "start_time": "2021-07-15T18:52:07.649Z"
   },
   {
    "duration": 37,
    "start_time": "2021-07-15T18:52:07.716Z"
   },
   {
    "duration": 31,
    "start_time": "2021-07-15T18:52:07.755Z"
   },
   {
    "duration": 126,
    "start_time": "2021-07-15T18:52:07.788Z"
   },
   {
    "duration": 3,
    "start_time": "2021-07-15T18:52:07.916Z"
   },
   {
    "duration": 5566,
    "start_time": "2021-07-15T18:52:07.921Z"
   },
   {
    "duration": 21,
    "start_time": "2021-07-15T18:52:13.489Z"
   },
   {
    "duration": 21,
    "start_time": "2021-07-15T18:52:13.511Z"
   },
   {
    "duration": 15,
    "start_time": "2021-07-15T18:52:13.534Z"
   },
   {
    "duration": 58,
    "start_time": "2021-07-15T18:52:13.551Z"
   },
   {
    "duration": 165,
    "start_time": "2021-07-15T18:52:13.611Z"
   },
   {
    "duration": 26,
    "start_time": "2021-07-15T18:52:13.778Z"
   },
   {
    "duration": 85,
    "start_time": "2021-07-15T18:52:13.805Z"
   },
   {
    "duration": 6,
    "start_time": "2021-07-15T18:52:13.892Z"
   },
   {
    "duration": 4,
    "start_time": "2021-07-15T18:52:13.900Z"
   },
   {
    "duration": 5,
    "start_time": "2021-07-15T18:52:13.906Z"
   },
   {
    "duration": 26,
    "start_time": "2021-07-15T18:52:13.913Z"
   },
   {
    "duration": 196,
    "start_time": "2021-07-15T18:52:13.940Z"
   },
   {
    "duration": 152,
    "start_time": "2021-07-15T18:52:14.137Z"
   },
   {
    "duration": 151,
    "start_time": "2021-07-15T18:52:14.290Z"
   },
   {
    "duration": 191,
    "start_time": "2021-07-15T18:52:14.442Z"
   },
   {
    "duration": 24,
    "start_time": "2021-07-15T18:52:14.635Z"
   },
   {
    "duration": 76,
    "start_time": "2021-07-15T18:52:14.663Z"
   },
   {
    "duration": 20,
    "start_time": "2021-07-15T18:52:14.742Z"
   },
   {
    "duration": 25,
    "start_time": "2021-07-15T18:52:14.763Z"
   },
   {
    "duration": 17,
    "start_time": "2021-07-15T18:52:14.789Z"
   },
   {
    "duration": 5,
    "start_time": "2021-07-15T18:52:14.808Z"
   },
   {
    "duration": 77,
    "start_time": "2021-07-15T18:52:14.814Z"
   },
   {
    "duration": 318,
    "start_time": "2021-07-15T18:52:14.893Z"
   },
   {
    "duration": 63,
    "start_time": "2021-07-15T18:52:15.213Z"
   },
   {
    "duration": 16,
    "start_time": "2021-07-15T18:52:15.285Z"
   },
   {
    "duration": 22,
    "start_time": "2021-07-15T18:52:15.302Z"
   },
   {
    "duration": 26,
    "start_time": "2021-07-15T18:52:15.325Z"
   },
   {
    "duration": 21,
    "start_time": "2021-07-15T18:52:15.353Z"
   },
   {
    "duration": 580,
    "start_time": "2021-07-15T18:52:15.375Z"
   },
   {
    "duration": 4,
    "start_time": "2021-07-15T18:52:15.957Z"
   },
   {
    "duration": 11,
    "start_time": "2021-07-15T18:52:15.963Z"
   },
   {
    "duration": 4420,
    "start_time": "2021-07-15T18:52:15.975Z"
   },
   {
    "duration": 63,
    "start_time": "2021-07-15T18:52:20.396Z"
   },
   {
    "duration": 6123,
    "start_time": "2021-07-15T18:52:20.461Z"
   },
   {
    "duration": 3,
    "start_time": "2021-07-15T18:52:26.586Z"
   },
   {
    "duration": 6046,
    "start_time": "2021-07-15T18:52:26.591Z"
   },
   {
    "duration": 5949,
    "start_time": "2021-07-15T18:52:32.639Z"
   },
   {
    "duration": 3,
    "start_time": "2021-07-15T18:52:38.589Z"
   },
   {
    "duration": 5813,
    "start_time": "2021-07-15T18:52:38.593Z"
   },
   {
    "duration": 4487,
    "start_time": "2021-07-15T18:52:44.408Z"
   },
   {
    "duration": 3,
    "start_time": "2021-07-15T18:52:48.896Z"
   },
   {
    "duration": 5898,
    "start_time": "2021-07-15T18:52:48.901Z"
   },
   {
    "duration": 63,
    "start_time": "2021-07-15T18:52:54.800Z"
   },
   {
    "duration": 36,
    "start_time": "2021-07-15T18:52:54.865Z"
   },
   {
    "duration": 3,
    "start_time": "2021-07-15T18:52:54.903Z"
   },
   {
    "duration": 86,
    "start_time": "2021-07-15T18:52:54.908Z"
   },
   {
    "duration": 66,
    "start_time": "2021-07-15T18:52:54.996Z"
   },
   {
    "duration": -384,
    "start_time": "2021-07-15T18:52:55.449Z"
   },
   {
    "duration": -389,
    "start_time": "2021-07-15T18:52:55.455Z"
   },
   {
    "duration": -393,
    "start_time": "2021-07-15T18:52:55.460Z"
   },
   {
    "duration": -394,
    "start_time": "2021-07-15T18:52:55.463Z"
   },
   {
    "duration": -396,
    "start_time": "2021-07-15T18:52:55.467Z"
   },
   {
    "duration": -399,
    "start_time": "2021-07-15T18:52:55.471Z"
   },
   {
    "duration": -400,
    "start_time": "2021-07-15T18:52:55.474Z"
   },
   {
    "duration": -402,
    "start_time": "2021-07-15T18:52:55.478Z"
   },
   {
    "duration": -405,
    "start_time": "2021-07-15T18:52:55.482Z"
   },
   {
    "duration": -408,
    "start_time": "2021-07-15T18:52:55.486Z"
   },
   {
    "duration": -410,
    "start_time": "2021-07-15T18:52:55.490Z"
   },
   {
    "duration": -413,
    "start_time": "2021-07-15T18:52:55.494Z"
   },
   {
    "duration": -415,
    "start_time": "2021-07-15T18:52:55.497Z"
   },
   {
    "duration": 6,
    "start_time": "2021-07-15T18:53:30.568Z"
   },
   {
    "duration": 20,
    "start_time": "2021-07-15T18:53:34.998Z"
   },
   {
    "duration": 59,
    "start_time": "2021-07-15T18:53:40.296Z"
   },
   {
    "duration": 3589,
    "start_time": "2021-07-15T18:53:46.776Z"
   },
   {
    "duration": 21269,
    "start_time": "2021-07-15T18:55:36.917Z"
   },
   {
    "duration": 367698,
    "start_time": "2021-07-15T18:56:44.829Z"
   },
   {
    "duration": 3,
    "start_time": "2021-07-15T19:14:12.945Z"
   },
   {
    "duration": 6,
    "start_time": "2021-07-15T19:14:57.985Z"
   },
   {
    "duration": 3331,
    "start_time": "2021-07-15T19:15:02.936Z"
   },
   {
    "duration": 3,
    "start_time": "2021-07-15T19:15:19.690Z"
   },
   {
    "duration": 3,
    "start_time": "2021-07-15T19:15:27.269Z"
   },
   {
    "duration": 3,
    "start_time": "2021-07-15T19:15:36.777Z"
   },
   {
    "duration": 59,
    "start_time": "2021-07-15T19:15:43.073Z"
   },
   {
    "duration": 2,
    "start_time": "2021-07-15T19:15:47.506Z"
   },
   {
    "duration": 2,
    "start_time": "2021-07-15T19:15:50.281Z"
   },
   {
    "duration": 106,
    "start_time": "2021-07-15T19:33:23.969Z"
   },
   {
    "duration": 59,
    "start_time": "2021-07-15T19:33:38.722Z"
   },
   {
    "duration": 3,
    "start_time": "2021-07-15T19:33:53.687Z"
   },
   {
    "duration": 4,
    "start_time": "2021-07-15T19:35:15.766Z"
   },
   {
    "duration": 300,
    "start_time": "2021-07-15T19:35:49.351Z"
   },
   {
    "duration": 409,
    "start_time": "2021-07-15T19:36:01.977Z"
   },
   {
    "duration": 175,
    "start_time": "2021-07-15T19:36:08.488Z"
   },
   {
    "duration": 3,
    "start_time": "2021-07-15T19:36:12.017Z"
   },
   {
    "duration": 171,
    "start_time": "2021-07-15T19:36:23.080Z"
   },
   {
    "duration": 176,
    "start_time": "2021-07-15T19:36:36.885Z"
   },
   {
    "duration": 4,
    "start_time": "2021-07-15T19:36:43.578Z"
   },
   {
    "duration": 4,
    "start_time": "2021-07-15T19:36:52.042Z"
   },
   {
    "duration": 191,
    "start_time": "2021-07-15T19:39:13.248Z"
   },
   {
    "duration": 6,
    "start_time": "2021-07-15T19:39:42.296Z"
   },
   {
    "duration": 16,
    "start_time": "2021-07-15T19:39:58.739Z"
   },
   {
    "duration": 3,
    "start_time": "2021-07-15T19:40:06.273Z"
   },
   {
    "duration": 187,
    "start_time": "2021-07-15T19:45:07.243Z"
   },
   {
    "duration": 3,
    "start_time": "2021-07-15T19:46:03.249Z"
   },
   {
    "duration": 184,
    "start_time": "2021-07-15T19:46:07.291Z"
   },
   {
    "duration": 186,
    "start_time": "2021-07-15T19:46:24.994Z"
   },
   {
    "duration": 178,
    "start_time": "2021-07-15T19:47:04.880Z"
   },
   {
    "duration": 73,
    "start_time": "2021-07-15T19:47:12.841Z"
   },
   {
    "duration": 6,
    "start_time": "2021-07-15T19:47:15.491Z"
   },
   {
    "duration": 1391,
    "start_time": "2021-07-15T19:48:36.797Z"
   },
   {
    "duration": 1354,
    "start_time": "2021-07-15T19:49:01.214Z"
   },
   {
    "duration": 1377,
    "start_time": "2021-07-15T19:49:54.442Z"
   },
   {
    "duration": 1146,
    "start_time": "2021-07-15T19:50:01.450Z"
   },
   {
    "duration": 199,
    "start_time": "2021-07-15T19:50:05.024Z"
   },
   {
    "duration": 1147,
    "start_time": "2021-07-15T19:51:29.842Z"
   },
   {
    "duration": 171,
    "start_time": "2021-07-15T19:51:37.085Z"
   },
   {
    "duration": 235,
    "start_time": "2021-07-15T19:51:40.557Z"
   },
   {
    "duration": 292,
    "start_time": "2021-07-15T19:51:44.894Z"
   },
   {
    "duration": 189,
    "start_time": "2021-07-15T19:52:54.455Z"
   },
   {
    "duration": 204,
    "start_time": "2021-07-15T19:53:09.639Z"
   },
   {
    "duration": 173,
    "start_time": "2021-07-15T19:53:24.824Z"
   },
   {
    "duration": 186,
    "start_time": "2021-07-15T19:57:26.417Z"
   },
   {
    "duration": 4,
    "start_time": "2021-07-15T19:57:38.707Z"
   },
   {
    "duration": 3,
    "start_time": "2021-07-15T19:58:08.790Z"
   },
   {
    "duration": 3,
    "start_time": "2021-07-15T19:58:41.118Z"
   },
   {
    "duration": 190,
    "start_time": "2021-07-15T19:59:43.282Z"
   },
   {
    "duration": 187,
    "start_time": "2021-07-15T19:59:53.941Z"
   },
   {
    "duration": 183,
    "start_time": "2021-07-15T19:59:59.507Z"
   },
   {
    "duration": 178,
    "start_time": "2021-07-15T20:02:51.626Z"
   },
   {
    "duration": 4,
    "start_time": "2021-07-15T20:03:15.802Z"
   },
   {
    "duration": 1163,
    "start_time": "2021-07-15T20:03:22.228Z"
   },
   {
    "duration": 1051,
    "start_time": "2021-07-15T20:03:41.437Z"
   },
   {
    "duration": 227,
    "start_time": "2021-07-15T20:06:19.273Z"
   },
   {
    "duration": 204,
    "start_time": "2021-07-15T20:06:24.697Z"
   },
   {
    "duration": 1181,
    "start_time": "2021-07-15T20:07:09.806Z"
   },
   {
    "duration": 206,
    "start_time": "2021-07-15T20:07:12.883Z"
   },
   {
    "duration": 1066,
    "start_time": "2021-07-15T20:07:19.427Z"
   },
   {
    "duration": 227,
    "start_time": "2021-07-15T20:07:21.675Z"
   },
   {
    "duration": 16,
    "start_time": "2021-07-15T20:19:40.074Z"
   },
   {
    "duration": 3,
    "start_time": "2021-07-15T20:19:47.121Z"
   },
   {
    "duration": 4,
    "start_time": "2021-07-15T20:19:53.211Z"
   },
   {
    "duration": 59,
    "start_time": "2021-07-15T20:21:47.286Z"
   },
   {
    "duration": 59,
    "start_time": "2021-07-15T20:22:21.914Z"
   },
   {
    "duration": 1200,
    "start_time": "2021-07-15T20:23:34.397Z"
   },
   {
    "duration": 4,
    "start_time": "2021-07-15T20:23:35.599Z"
   },
   {
    "duration": 815,
    "start_time": "2021-07-15T20:23:35.605Z"
   },
   {
    "duration": 16,
    "start_time": "2021-07-15T20:23:36.421Z"
   },
   {
    "duration": 134,
    "start_time": "2021-07-15T20:23:36.438Z"
   },
   {
    "duration": 61,
    "start_time": "2021-07-15T20:23:36.574Z"
   },
   {
    "duration": 39,
    "start_time": "2021-07-15T20:23:36.637Z"
   },
   {
    "duration": 18,
    "start_time": "2021-07-15T20:23:36.694Z"
   },
   {
    "duration": 115,
    "start_time": "2021-07-15T20:23:36.714Z"
   },
   {
    "duration": 3,
    "start_time": "2021-07-15T20:23:36.831Z"
   },
   {
    "duration": 5819,
    "start_time": "2021-07-15T20:23:36.835Z"
   },
   {
    "duration": 31,
    "start_time": "2021-07-15T20:23:42.656Z"
   },
   {
    "duration": 27,
    "start_time": "2021-07-15T20:23:42.689Z"
   },
   {
    "duration": 16,
    "start_time": "2021-07-15T20:23:42.718Z"
   },
   {
    "duration": 55,
    "start_time": "2021-07-15T20:23:42.735Z"
   },
   {
    "duration": 164,
    "start_time": "2021-07-15T20:23:42.792Z"
   },
   {
    "duration": 41,
    "start_time": "2021-07-15T20:23:42.958Z"
   },
   {
    "duration": 73,
    "start_time": "2021-07-15T20:23:43.000Z"
   },
   {
    "duration": 16,
    "start_time": "2021-07-15T20:23:43.075Z"
   },
   {
    "duration": 7,
    "start_time": "2021-07-15T20:23:43.093Z"
   },
   {
    "duration": 5,
    "start_time": "2021-07-15T20:23:43.102Z"
   },
   {
    "duration": 25,
    "start_time": "2021-07-15T20:23:43.109Z"
   },
   {
    "duration": 178,
    "start_time": "2021-07-15T20:23:43.138Z"
   },
   {
    "duration": 153,
    "start_time": "2021-07-15T20:23:43.318Z"
   },
   {
    "duration": 162,
    "start_time": "2021-07-15T20:23:43.473Z"
   },
   {
    "duration": 195,
    "start_time": "2021-07-15T20:23:43.637Z"
   },
   {
    "duration": 26,
    "start_time": "2021-07-15T20:23:43.834Z"
   },
   {
    "duration": 79,
    "start_time": "2021-07-15T20:23:43.862Z"
   },
   {
    "duration": 17,
    "start_time": "2021-07-15T20:23:43.943Z"
   },
   {
    "duration": 4,
    "start_time": "2021-07-15T20:23:43.962Z"
   },
   {
    "duration": 40,
    "start_time": "2021-07-15T20:23:43.967Z"
   },
   {
    "duration": 7,
    "start_time": "2021-07-15T20:23:44.009Z"
   },
   {
    "duration": 82,
    "start_time": "2021-07-15T20:23:44.018Z"
   },
   {
    "duration": 312,
    "start_time": "2021-07-15T20:23:44.102Z"
   },
   {
    "duration": 74,
    "start_time": "2021-07-15T20:23:44.416Z"
   },
   {
    "duration": 21,
    "start_time": "2021-07-15T20:23:44.492Z"
   },
   {
    "duration": 17,
    "start_time": "2021-07-15T20:23:44.515Z"
   },
   {
    "duration": 24,
    "start_time": "2021-07-15T20:23:44.534Z"
   },
   {
    "duration": 279,
    "start_time": "2021-07-15T20:23:44.560Z"
   },
   {
    "duration": -263,
    "start_time": "2021-07-15T20:23:45.105Z"
   },
   {
    "duration": -268,
    "start_time": "2021-07-15T20:23:45.111Z"
   },
   {
    "duration": -276,
    "start_time": "2021-07-15T20:23:45.120Z"
   },
   {
    "duration": -278,
    "start_time": "2021-07-15T20:23:45.123Z"
   },
   {
    "duration": -285,
    "start_time": "2021-07-15T20:23:45.130Z"
   },
   {
    "duration": -287,
    "start_time": "2021-07-15T20:23:45.133Z"
   },
   {
    "duration": -289,
    "start_time": "2021-07-15T20:23:45.136Z"
   },
   {
    "duration": -296,
    "start_time": "2021-07-15T20:23:45.144Z"
   },
   {
    "duration": -298,
    "start_time": "2021-07-15T20:23:45.147Z"
   },
   {
    "duration": -302,
    "start_time": "2021-07-15T20:23:45.151Z"
   },
   {
    "duration": -308,
    "start_time": "2021-07-15T20:23:45.158Z"
   },
   {
    "duration": -311,
    "start_time": "2021-07-15T20:23:45.162Z"
   },
   {
    "duration": -317,
    "start_time": "2021-07-15T20:23:45.169Z"
   },
   {
    "duration": -320,
    "start_time": "2021-07-15T20:23:45.173Z"
   },
   {
    "duration": -325,
    "start_time": "2021-07-15T20:23:45.178Z"
   },
   {
    "duration": -333,
    "start_time": "2021-07-15T20:23:45.187Z"
   },
   {
    "duration": -335,
    "start_time": "2021-07-15T20:23:45.190Z"
   },
   {
    "duration": -342,
    "start_time": "2021-07-15T20:23:45.198Z"
   },
   {
    "duration": -345,
    "start_time": "2021-07-15T20:23:45.201Z"
   },
   {
    "duration": -347,
    "start_time": "2021-07-15T20:23:45.204Z"
   },
   {
    "duration": -354,
    "start_time": "2021-07-15T20:23:45.212Z"
   },
   {
    "duration": -356,
    "start_time": "2021-07-15T20:23:45.215Z"
   },
   {
    "duration": -365,
    "start_time": "2021-07-15T20:23:45.224Z"
   },
   {
    "duration": -367,
    "start_time": "2021-07-15T20:23:45.227Z"
   },
   {
    "duration": -370,
    "start_time": "2021-07-15T20:23:45.231Z"
   },
   {
    "duration": -378,
    "start_time": "2021-07-15T20:23:45.240Z"
   },
   {
    "duration": -379,
    "start_time": "2021-07-15T20:23:45.242Z"
   },
   {
    "duration": -386,
    "start_time": "2021-07-15T20:23:45.250Z"
   },
   {
    "duration": -389,
    "start_time": "2021-07-15T20:23:45.253Z"
   },
   {
    "duration": -391,
    "start_time": "2021-07-15T20:23:45.256Z"
   },
   {
    "duration": -398,
    "start_time": "2021-07-15T20:23:45.264Z"
   },
   {
    "duration": -399,
    "start_time": "2021-07-15T20:23:45.266Z"
   },
   {
    "duration": -402,
    "start_time": "2021-07-15T20:23:45.269Z"
   },
   {
    "duration": -409,
    "start_time": "2021-07-15T20:23:45.277Z"
   },
   {
    "duration": 22,
    "start_time": "2021-07-15T20:27:37.096Z"
   },
   {
    "duration": 617,
    "start_time": "2021-07-15T20:27:40.376Z"
   },
   {
    "duration": 1161,
    "start_time": "2021-07-15T20:27:48.202Z"
   },
   {
    "duration": 4,
    "start_time": "2021-07-15T20:27:49.364Z"
   },
   {
    "duration": 827,
    "start_time": "2021-07-15T20:27:49.370Z"
   },
   {
    "duration": 16,
    "start_time": "2021-07-15T20:27:50.199Z"
   },
   {
    "duration": 133,
    "start_time": "2021-07-15T20:27:50.217Z"
   },
   {
    "duration": 66,
    "start_time": "2021-07-15T20:27:50.352Z"
   },
   {
    "duration": 41,
    "start_time": "2021-07-15T20:27:50.419Z"
   },
   {
    "duration": 36,
    "start_time": "2021-07-15T20:27:50.462Z"
   },
   {
    "duration": 114,
    "start_time": "2021-07-15T20:27:50.500Z"
   },
   {
    "duration": 3,
    "start_time": "2021-07-15T20:27:50.616Z"
   },
   {
    "duration": 5771,
    "start_time": "2021-07-15T20:27:50.621Z"
   },
   {
    "duration": 22,
    "start_time": "2021-07-15T20:27:56.394Z"
   },
   {
    "duration": 19,
    "start_time": "2021-07-15T20:27:56.418Z"
   },
   {
    "duration": 15,
    "start_time": "2021-07-15T20:27:56.439Z"
   },
   {
    "duration": 63,
    "start_time": "2021-07-15T20:27:56.455Z"
   },
   {
    "duration": 170,
    "start_time": "2021-07-15T20:27:56.520Z"
   },
   {
    "duration": 25,
    "start_time": "2021-07-15T20:27:56.692Z"
   },
   {
    "duration": 92,
    "start_time": "2021-07-15T20:27:56.718Z"
   },
   {
    "duration": 7,
    "start_time": "2021-07-15T20:27:56.812Z"
   },
   {
    "duration": 4,
    "start_time": "2021-07-15T20:27:56.821Z"
   },
   {
    "duration": 5,
    "start_time": "2021-07-15T20:27:56.826Z"
   },
   {
    "duration": 24,
    "start_time": "2021-07-15T20:27:56.832Z"
   },
   {
    "duration": 175,
    "start_time": "2021-07-15T20:27:56.858Z"
   },
   {
    "duration": 169,
    "start_time": "2021-07-15T20:27:57.035Z"
   },
   {
    "duration": 153,
    "start_time": "2021-07-15T20:27:57.206Z"
   },
   {
    "duration": 199,
    "start_time": "2021-07-15T20:27:57.361Z"
   },
   {
    "duration": 34,
    "start_time": "2021-07-15T20:27:57.564Z"
   },
   {
    "duration": 63,
    "start_time": "2021-07-15T20:27:57.601Z"
   },
   {
    "duration": 33,
    "start_time": "2021-07-15T20:27:57.665Z"
   },
   {
    "duration": 5,
    "start_time": "2021-07-15T20:27:57.699Z"
   },
   {
    "duration": 17,
    "start_time": "2021-07-15T20:27:57.705Z"
   },
   {
    "duration": 7,
    "start_time": "2021-07-15T20:27:57.723Z"
   },
   {
    "duration": 88,
    "start_time": "2021-07-15T20:27:57.731Z"
   },
   {
    "duration": 316,
    "start_time": "2021-07-15T20:27:57.821Z"
   },
   {
    "duration": 67,
    "start_time": "2021-07-15T20:27:58.139Z"
   },
   {
    "duration": 16,
    "start_time": "2021-07-15T20:27:58.208Z"
   },
   {
    "duration": 14,
    "start_time": "2021-07-15T20:27:58.226Z"
   },
   {
    "duration": 53,
    "start_time": "2021-07-15T20:27:58.242Z"
   },
   {
    "duration": 14,
    "start_time": "2021-07-15T20:27:58.297Z"
   },
   {
    "duration": 620,
    "start_time": "2021-07-15T20:27:58.312Z"
   },
   {
    "duration": 3,
    "start_time": "2021-07-15T20:27:58.933Z"
   },
   {
    "duration": 4643,
    "start_time": "2021-07-15T20:27:58.938Z"
   },
   {
    "duration": 69,
    "start_time": "2021-07-15T20:28:03.584Z"
   },
   {
    "duration": 6332,
    "start_time": "2021-07-15T20:28:03.655Z"
   },
   {
    "duration": 3,
    "start_time": "2021-07-15T20:28:09.989Z"
   },
   {
    "duration": 6314,
    "start_time": "2021-07-15T20:28:09.994Z"
   },
   {
    "duration": 6339,
    "start_time": "2021-07-15T20:28:16.310Z"
   },
   {
    "duration": 3,
    "start_time": "2021-07-15T20:28:22.650Z"
   },
   {
    "duration": 6299,
    "start_time": "2021-07-15T20:28:22.655Z"
   },
   {
    "duration": 4795,
    "start_time": "2021-07-15T20:28:28.955Z"
   },
   {
    "duration": 2,
    "start_time": "2021-07-15T20:28:33.752Z"
   },
   {
    "duration": 6276,
    "start_time": "2021-07-15T20:28:33.756Z"
   },
   {
    "duration": 74,
    "start_time": "2021-07-15T20:28:40.034Z"
   },
   {
    "duration": 26,
    "start_time": "2021-07-15T20:28:40.109Z"
   },
   {
    "duration": 3,
    "start_time": "2021-07-15T20:28:40.137Z"
   },
   {
    "duration": 92,
    "start_time": "2021-07-15T20:28:40.142Z"
   },
   {
    "duration": 5,
    "start_time": "2021-07-15T20:28:40.235Z"
   },
   {
    "duration": 50,
    "start_time": "2021-07-15T20:28:40.241Z"
   },
   {
    "duration": 407,
    "start_time": "2021-07-15T20:28:40.298Z"
   },
   {
    "duration": 14,
    "start_time": "2021-07-15T20:28:40.707Z"
   },
   {
    "duration": 12,
    "start_time": "2021-07-15T20:28:40.722Z"
   },
   {
    "duration": 69,
    "start_time": "2021-07-15T20:28:40.736Z"
   },
   {
    "duration": 4,
    "start_time": "2021-07-15T20:28:40.806Z"
   },
   {
    "duration": 69,
    "start_time": "2021-07-15T20:28:40.811Z"
   },
   {
    "duration": -258,
    "start_time": "2021-07-15T20:28:41.140Z"
   },
   {
    "duration": -261,
    "start_time": "2021-07-15T20:28:41.144Z"
   },
   {
    "duration": -262,
    "start_time": "2021-07-15T20:28:41.146Z"
   },
   {
    "duration": -269,
    "start_time": "2021-07-15T20:28:41.154Z"
   },
   {
    "duration": -271,
    "start_time": "2021-07-15T20:28:41.157Z"
   },
   {
    "duration": -279,
    "start_time": "2021-07-15T20:28:41.166Z"
   },
   {
    "duration": -282,
    "start_time": "2021-07-15T20:28:41.170Z"
   },
   {
    "duration": -289,
    "start_time": "2021-07-15T20:28:41.178Z"
   },
   {
    "duration": -291,
    "start_time": "2021-07-15T20:28:41.181Z"
   },
   {
    "duration": -294,
    "start_time": "2021-07-15T20:28:41.185Z"
   },
   {
    "duration": 1113,
    "start_time": "2021-07-15T20:29:32.836Z"
   },
   {
    "duration": 4,
    "start_time": "2021-07-15T20:29:33.950Z"
   },
   {
    "duration": 820,
    "start_time": "2021-07-15T20:29:33.956Z"
   },
   {
    "duration": 22,
    "start_time": "2021-07-15T20:29:34.778Z"
   },
   {
    "duration": 131,
    "start_time": "2021-07-15T20:29:34.802Z"
   },
   {
    "duration": 62,
    "start_time": "2021-07-15T20:29:34.935Z"
   },
   {
    "duration": 41,
    "start_time": "2021-07-15T20:29:34.999Z"
   },
   {
    "duration": 19,
    "start_time": "2021-07-15T20:29:35.044Z"
   },
   {
    "duration": 127,
    "start_time": "2021-07-15T20:29:35.084Z"
   },
   {
    "duration": 3,
    "start_time": "2021-07-15T20:29:35.213Z"
   },
   {
    "duration": 5735,
    "start_time": "2021-07-15T20:29:35.218Z"
   },
   {
    "duration": 32,
    "start_time": "2021-07-15T20:29:40.955Z"
   },
   {
    "duration": 23,
    "start_time": "2021-07-15T20:29:40.988Z"
   },
   {
    "duration": 15,
    "start_time": "2021-07-15T20:29:41.013Z"
   },
   {
    "duration": 55,
    "start_time": "2021-07-15T20:29:41.030Z"
   },
   {
    "duration": 157,
    "start_time": "2021-07-15T20:29:41.089Z"
   },
   {
    "duration": 23,
    "start_time": "2021-07-15T20:29:41.247Z"
   },
   {
    "duration": 91,
    "start_time": "2021-07-15T20:29:41.271Z"
   },
   {
    "duration": 30,
    "start_time": "2021-07-15T20:29:41.363Z"
   },
   {
    "duration": 5,
    "start_time": "2021-07-15T20:29:41.395Z"
   },
   {
    "duration": 6,
    "start_time": "2021-07-15T20:29:41.402Z"
   },
   {
    "duration": 25,
    "start_time": "2021-07-15T20:29:41.409Z"
   },
   {
    "duration": 165,
    "start_time": "2021-07-15T20:29:41.438Z"
   },
   {
    "duration": 156,
    "start_time": "2021-07-15T20:29:41.606Z"
   },
   {
    "duration": 167,
    "start_time": "2021-07-15T20:29:41.763Z"
   },
   {
    "duration": 197,
    "start_time": "2021-07-15T20:29:41.931Z"
   },
   {
    "duration": 26,
    "start_time": "2021-07-15T20:29:42.129Z"
   },
   {
    "duration": 77,
    "start_time": "2021-07-15T20:29:42.157Z"
   },
   {
    "duration": 15,
    "start_time": "2021-07-15T20:29:42.236Z"
   },
   {
    "duration": 4,
    "start_time": "2021-07-15T20:29:42.253Z"
   },
   {
    "duration": 42,
    "start_time": "2021-07-15T20:29:42.259Z"
   },
   {
    "duration": 4,
    "start_time": "2021-07-15T20:29:42.303Z"
   },
   {
    "duration": 84,
    "start_time": "2021-07-15T20:29:42.309Z"
   },
   {
    "duration": 316,
    "start_time": "2021-07-15T20:29:42.395Z"
   },
   {
    "duration": 60,
    "start_time": "2021-07-15T20:29:42.713Z"
   },
   {
    "duration": 27,
    "start_time": "2021-07-15T20:29:42.774Z"
   },
   {
    "duration": 13,
    "start_time": "2021-07-15T20:29:42.803Z"
   },
   {
    "duration": 21,
    "start_time": "2021-07-15T20:29:42.818Z"
   },
   {
    "duration": 14,
    "start_time": "2021-07-15T20:29:42.840Z"
   },
   {
    "duration": 618,
    "start_time": "2021-07-15T20:29:42.855Z"
   },
   {
    "duration": 18,
    "start_time": "2021-07-15T20:29:43.474Z"
   },
   {
    "duration": 4727,
    "start_time": "2021-07-15T20:29:43.494Z"
   },
   {
    "duration": 67,
    "start_time": "2021-07-15T20:29:48.223Z"
   },
   {
    "duration": 6306,
    "start_time": "2021-07-15T20:29:48.292Z"
   },
   {
    "duration": 3,
    "start_time": "2021-07-15T20:29:54.600Z"
   },
   {
    "duration": 6112,
    "start_time": "2021-07-15T20:29:54.604Z"
   },
   {
    "duration": 6296,
    "start_time": "2021-07-15T20:30:00.718Z"
   },
   {
    "duration": 3,
    "start_time": "2021-07-15T20:30:07.016Z"
   },
   {
    "duration": 6256,
    "start_time": "2021-07-15T20:30:07.020Z"
   },
   {
    "duration": 4768,
    "start_time": "2021-07-15T20:30:13.278Z"
   },
   {
    "duration": 3,
    "start_time": "2021-07-15T20:30:18.048Z"
   },
   {
    "duration": 6476,
    "start_time": "2021-07-15T20:30:18.053Z"
   },
   {
    "duration": 78,
    "start_time": "2021-07-15T20:30:24.531Z"
   },
   {
    "duration": 25,
    "start_time": "2021-07-15T20:30:24.611Z"
   },
   {
    "duration": 4,
    "start_time": "2021-07-15T20:30:24.638Z"
   },
   {
    "duration": 101,
    "start_time": "2021-07-15T20:30:24.643Z"
   },
   {
    "duration": 5,
    "start_time": "2021-07-15T20:30:24.746Z"
   },
   {
    "duration": 52,
    "start_time": "2021-07-15T20:30:24.752Z"
   },
   {
    "duration": 705,
    "start_time": "2021-07-15T20:30:24.806Z"
   },
   {
    "duration": -257,
    "start_time": "2021-07-15T20:30:25.770Z"
   },
   {
    "duration": -263,
    "start_time": "2021-07-15T20:30:25.777Z"
   },
   {
    "duration": -269,
    "start_time": "2021-07-15T20:30:25.784Z"
   },
   {
    "duration": -277,
    "start_time": "2021-07-15T20:30:25.793Z"
   },
   {
    "duration": -280,
    "start_time": "2021-07-15T20:30:25.797Z"
   },
   {
    "duration": -285,
    "start_time": "2021-07-15T20:30:25.803Z"
   },
   {
    "duration": -287,
    "start_time": "2021-07-15T20:30:25.806Z"
   },
   {
    "duration": -292,
    "start_time": "2021-07-15T20:30:25.812Z"
   },
   {
    "duration": -302,
    "start_time": "2021-07-15T20:30:25.823Z"
   },
   {
    "duration": -309,
    "start_time": "2021-07-15T20:30:25.831Z"
   },
   {
    "duration": -313,
    "start_time": "2021-07-15T20:30:25.836Z"
   },
   {
    "duration": -318,
    "start_time": "2021-07-15T20:30:25.842Z"
   },
   {
    "duration": -320,
    "start_time": "2021-07-15T20:30:25.845Z"
   },
   {
    "duration": -323,
    "start_time": "2021-07-15T20:30:25.849Z"
   },
   {
    "duration": -329,
    "start_time": "2021-07-15T20:30:25.856Z"
   },
   {
    "duration": 15,
    "start_time": "2021-07-15T20:31:09.628Z"
   },
   {
    "duration": 66,
    "start_time": "2021-07-15T20:31:12.541Z"
   },
   {
    "duration": 416,
    "start_time": "2021-07-15T20:33:17.732Z"
   },
   {
    "duration": 385,
    "start_time": "2021-07-15T20:33:22.722Z"
   },
   {
    "duration": 19,
    "start_time": "2021-07-15T20:33:48.419Z"
   },
   {
    "duration": 181,
    "start_time": "2021-07-15T20:40:28.123Z"
   },
   {
    "duration": 15,
    "start_time": "2021-07-15T20:40:35.556Z"
   },
   {
    "duration": 58,
    "start_time": "2021-07-15T20:40:38.220Z"
   },
   {
    "duration": 1130,
    "start_time": "2021-07-15T20:40:46.822Z"
   },
   {
    "duration": 4,
    "start_time": "2021-07-15T20:40:47.954Z"
   },
   {
    "duration": 818,
    "start_time": "2021-07-15T20:40:47.961Z"
   },
   {
    "duration": 25,
    "start_time": "2021-07-15T20:40:48.781Z"
   },
   {
    "duration": 131,
    "start_time": "2021-07-15T20:40:48.808Z"
   },
   {
    "duration": 67,
    "start_time": "2021-07-15T20:40:48.940Z"
   },
   {
    "duration": 39,
    "start_time": "2021-07-15T20:40:49.009Z"
   },
   {
    "duration": 19,
    "start_time": "2021-07-15T20:40:49.051Z"
   },
   {
    "duration": 136,
    "start_time": "2021-07-15T20:40:49.072Z"
   },
   {
    "duration": 3,
    "start_time": "2021-07-15T20:40:49.209Z"
   },
   {
    "duration": 5860,
    "start_time": "2021-07-15T20:40:49.214Z"
   },
   {
    "duration": 24,
    "start_time": "2021-07-15T20:40:55.075Z"
   },
   {
    "duration": 21,
    "start_time": "2021-07-15T20:40:55.103Z"
   },
   {
    "duration": 15,
    "start_time": "2021-07-15T20:40:55.126Z"
   },
   {
    "duration": 68,
    "start_time": "2021-07-15T20:40:55.142Z"
   },
   {
    "duration": 164,
    "start_time": "2021-07-15T20:40:55.212Z"
   },
   {
    "duration": 28,
    "start_time": "2021-07-15T20:40:55.378Z"
   },
   {
    "duration": 85,
    "start_time": "2021-07-15T20:40:55.408Z"
   },
   {
    "duration": 8,
    "start_time": "2021-07-15T20:40:55.495Z"
   },
   {
    "duration": 4,
    "start_time": "2021-07-15T20:40:55.504Z"
   },
   {
    "duration": 7,
    "start_time": "2021-07-15T20:40:55.510Z"
   },
   {
    "duration": 24,
    "start_time": "2021-07-15T20:40:55.519Z"
   },
   {
    "duration": 178,
    "start_time": "2021-07-15T20:40:55.547Z"
   },
   {
    "duration": 172,
    "start_time": "2021-07-15T20:40:55.727Z"
   },
   {
    "duration": 172,
    "start_time": "2021-07-15T20:40:55.904Z"
   },
   {
    "duration": 203,
    "start_time": "2021-07-15T20:40:56.085Z"
   },
   {
    "duration": 29,
    "start_time": "2021-07-15T20:40:56.290Z"
   },
   {
    "duration": 72,
    "start_time": "2021-07-15T20:40:56.321Z"
   },
   {
    "duration": 21,
    "start_time": "2021-07-15T20:40:56.395Z"
   },
   {
    "duration": 5,
    "start_time": "2021-07-15T20:40:56.417Z"
   },
   {
    "duration": 15,
    "start_time": "2021-07-15T20:40:56.424Z"
   },
   {
    "duration": 4,
    "start_time": "2021-07-15T20:40:56.441Z"
   },
   {
    "duration": 109,
    "start_time": "2021-07-15T20:40:56.447Z"
   },
   {
    "duration": 321,
    "start_time": "2021-07-15T20:40:56.558Z"
   },
   {
    "duration": 70,
    "start_time": "2021-07-15T20:40:56.881Z"
   },
   {
    "duration": 17,
    "start_time": "2021-07-15T20:40:56.952Z"
   },
   {
    "duration": 22,
    "start_time": "2021-07-15T20:40:56.985Z"
   },
   {
    "duration": 19,
    "start_time": "2021-07-15T20:40:57.008Z"
   },
   {
    "duration": 15,
    "start_time": "2021-07-15T20:40:57.029Z"
   },
   {
    "duration": 637,
    "start_time": "2021-07-15T20:40:57.046Z"
   },
   {
    "duration": 4,
    "start_time": "2021-07-15T20:40:57.685Z"
   },
   {
    "duration": 4648,
    "start_time": "2021-07-15T20:40:57.691Z"
   },
   {
    "duration": 74,
    "start_time": "2021-07-15T20:41:02.341Z"
   },
   {
    "duration": 6548,
    "start_time": "2021-07-15T20:41:02.416Z"
   },
   {
    "duration": 2,
    "start_time": "2021-07-15T20:41:08.966Z"
   },
   {
    "duration": 6331,
    "start_time": "2021-07-15T20:41:08.970Z"
   },
   {
    "duration": 6676,
    "start_time": "2021-07-15T20:41:15.303Z"
   },
   {
    "duration": 6,
    "start_time": "2021-07-15T20:41:21.981Z"
   },
   {
    "duration": 6464,
    "start_time": "2021-07-15T20:41:21.992Z"
   },
   {
    "duration": 4861,
    "start_time": "2021-07-15T20:41:28.458Z"
   },
   {
    "duration": 3,
    "start_time": "2021-07-15T20:41:33.321Z"
   },
   {
    "duration": 6228,
    "start_time": "2021-07-15T20:41:33.325Z"
   },
   {
    "duration": 75,
    "start_time": "2021-07-15T20:41:39.555Z"
   },
   {
    "duration": 25,
    "start_time": "2021-07-15T20:41:39.631Z"
   },
   {
    "duration": 3,
    "start_time": "2021-07-15T20:41:39.657Z"
   },
   {
    "duration": 93,
    "start_time": "2021-07-15T20:41:39.662Z"
   },
   {
    "duration": 5,
    "start_time": "2021-07-15T20:41:39.756Z"
   },
   {
    "duration": 50,
    "start_time": "2021-07-15T20:41:39.762Z"
   },
   {
    "duration": 13,
    "start_time": "2021-07-15T20:41:39.814Z"
   },
   {
    "duration": 83,
    "start_time": "2021-07-15T20:41:39.829Z"
   },
   {
    "duration": 3,
    "start_time": "2021-07-15T20:41:39.914Z"
   },
   {
    "duration": 411,
    "start_time": "2021-07-15T20:41:39.919Z"
   },
   {
    "duration": 18,
    "start_time": "2021-07-15T20:41:40.332Z"
   },
   {
    "duration": 12,
    "start_time": "2021-07-15T20:41:40.351Z"
   },
   {
    "duration": 64,
    "start_time": "2021-07-15T20:41:40.364Z"
   },
   {
    "duration": -252,
    "start_time": "2021-07-15T20:41:40.682Z"
   },
   {
    "duration": -261,
    "start_time": "2021-07-15T20:41:40.692Z"
   },
   {
    "duration": -265,
    "start_time": "2021-07-15T20:41:40.697Z"
   },
   {
    "duration": -273,
    "start_time": "2021-07-15T20:41:40.707Z"
   },
   {
    "duration": -278,
    "start_time": "2021-07-15T20:41:40.712Z"
   },
   {
    "duration": -285,
    "start_time": "2021-07-15T20:41:40.720Z"
   },
   {
    "duration": -295,
    "start_time": "2021-07-15T20:41:40.731Z"
   },
   {
    "duration": -300,
    "start_time": "2021-07-15T20:41:40.737Z"
   },
   {
    "duration": -308,
    "start_time": "2021-07-15T20:41:40.746Z"
   },
   {
    "duration": -312,
    "start_time": "2021-07-15T20:41:40.750Z"
   },
   {
    "duration": 54,
    "start_time": "2021-07-15T20:41:58.756Z"
   },
   {
    "duration": 57,
    "start_time": "2021-07-15T20:42:17.891Z"
   },
   {
    "duration": 478,
    "start_time": "2021-07-15T20:42:28.548Z"
   },
   {
    "duration": 1072,
    "start_time": "2021-07-15T20:43:01.261Z"
   },
   {
    "duration": 195,
    "start_time": "2021-07-15T20:49:57.478Z"
   },
   {
    "duration": 182,
    "start_time": "2021-07-15T20:50:25.560Z"
   },
   {
    "duration": 10,
    "start_time": "2021-07-15T20:50:29.764Z"
   },
   {
    "duration": 5,
    "start_time": "2021-07-15T20:50:46.746Z"
   },
   {
    "duration": 198,
    "start_time": "2021-07-15T20:51:01.318Z"
   },
   {
    "duration": 8,
    "start_time": "2021-07-15T20:51:10.983Z"
   },
   {
    "duration": 5,
    "start_time": "2021-07-15T20:51:20.158Z"
   },
   {
    "duration": 7,
    "start_time": "2021-07-15T20:51:20.678Z"
   },
   {
    "duration": 56,
    "start_time": "2021-07-15T20:51:52.745Z"
   },
   {
    "duration": 225,
    "start_time": "2021-07-15T20:51:59.065Z"
   },
   {
    "duration": 200,
    "start_time": "2021-07-15T20:52:06.929Z"
   },
   {
    "duration": 4,
    "start_time": "2021-07-15T20:52:40.339Z"
   },
   {
    "duration": 183,
    "start_time": "2021-07-15T20:52:59.762Z"
   },
   {
    "duration": 5,
    "start_time": "2021-07-15T20:56:45.622Z"
   },
   {
    "duration": 6,
    "start_time": "2021-07-15T20:58:44.840Z"
   },
   {
    "duration": 8,
    "start_time": "2021-07-15T20:58:56.752Z"
   },
   {
    "duration": 182,
    "start_time": "2021-07-15T20:59:15.593Z"
   },
   {
    "duration": 68,
    "start_time": "2021-07-15T21:01:52.415Z"
   },
   {
    "duration": 5,
    "start_time": "2021-07-15T21:02:04.258Z"
   },
   {
    "duration": 8,
    "start_time": "2021-07-15T21:02:05.675Z"
   },
   {
    "duration": 313,
    "start_time": "2021-07-15T21:10:35.719Z"
   },
   {
    "duration": 9,
    "start_time": "2021-07-15T21:10:56.855Z"
   },
   {
    "duration": 9,
    "start_time": "2021-07-15T21:10:59.122Z"
   },
   {
    "duration": 5,
    "start_time": "2021-07-15T21:11:02.495Z"
   },
   {
    "duration": 9,
    "start_time": "2021-07-15T21:11:03.135Z"
   },
   {
    "duration": 8,
    "start_time": "2021-07-15T21:11:04.655Z"
   },
   {
    "duration": 8,
    "start_time": "2021-07-15T21:11:14.967Z"
   },
   {
    "duration": 8,
    "start_time": "2021-07-15T21:11:16.240Z"
   },
   {
    "duration": 5,
    "start_time": "2021-07-15T21:11:18.576Z"
   },
   {
    "duration": 6,
    "start_time": "2021-07-15T21:11:19.172Z"
   },
   {
    "duration": 7,
    "start_time": "2021-07-15T21:11:20.111Z"
   },
   {
    "duration": 9,
    "start_time": "2021-07-15T21:11:30.704Z"
   },
   {
    "duration": 6,
    "start_time": "2021-07-15T21:11:33.288Z"
   },
   {
    "duration": 6,
    "start_time": "2021-07-15T21:11:33.776Z"
   },
   {
    "duration": 7,
    "start_time": "2021-07-15T21:11:34.202Z"
   },
   {
    "duration": 429,
    "start_time": "2021-07-15T21:13:51.110Z"
   },
   {
    "duration": 214348,
    "start_time": "2021-07-15T21:14:06.456Z"
   },
   {
    "duration": 3,
    "start_time": "2021-07-15T21:18:38.423Z"
   },
   {
    "duration": 245,
    "start_time": "2021-07-15T21:19:03.247Z"
   },
   {
    "duration": 4,
    "start_time": "2021-07-15T21:19:50.024Z"
   },
   {
    "duration": 78,
    "start_time": "2021-07-15T21:19:53.168Z"
   },
   {
    "duration": 4,
    "start_time": "2021-07-15T21:19:56.457Z"
   },
   {
    "duration": 3,
    "start_time": "2021-07-15T21:20:06.771Z"
   },
   {
    "duration": 3,
    "start_time": "2021-07-15T21:20:09.290Z"
   },
   {
    "duration": 2,
    "start_time": "2021-07-15T21:20:14.538Z"
   },
   {
    "duration": 5,
    "start_time": "2021-07-15T21:22:26.032Z"
   },
   {
    "duration": 182812,
    "start_time": "2021-07-15T21:22:35.617Z"
   },
   {
    "duration": 7,
    "start_time": "2021-07-15T21:25:44.094Z"
   },
   {
    "duration": 7,
    "start_time": "2021-07-15T21:25:48.454Z"
   },
   {
    "duration": 98,
    "start_time": "2021-07-15T21:26:03.294Z"
   },
   {
    "duration": 989,
    "start_time": "2021-07-15T21:26:06.504Z"
   },
   {
    "duration": 197,
    "start_time": "2021-07-15T21:26:10.902Z"
   },
   {
    "duration": 170,
    "start_time": "2021-07-15T21:26:13.030Z"
   },
   {
    "duration": 8,
    "start_time": "2021-07-15T21:26:30.015Z"
   },
   {
    "duration": 4,
    "start_time": "2021-07-16T06:47:40.100Z"
   },
   {
    "duration": 13,
    "start_time": "2021-07-16T06:47:59.905Z"
   },
   {
    "duration": 1638,
    "start_time": "2021-07-16T13:46:15.547Z"
   },
   {
    "duration": 14,
    "start_time": "2021-07-16T13:50:00.897Z"
   },
   {
    "duration": 2077,
    "start_time": "2021-07-16T13:50:00.915Z"
   },
   {
    "duration": 6,
    "start_time": "2021-07-16T13:50:02.997Z"
   },
   {
    "duration": 1476,
    "start_time": "2021-07-16T13:50:03.007Z"
   },
   {
    "duration": 24,
    "start_time": "2021-07-16T13:50:04.486Z"
   },
   {
    "duration": 179,
    "start_time": "2021-07-16T13:50:04.512Z"
   },
   {
    "duration": 69,
    "start_time": "2021-07-16T13:50:04.694Z"
   },
   {
    "duration": 61,
    "start_time": "2021-07-16T13:50:04.768Z"
   },
   {
    "duration": 45,
    "start_time": "2021-07-16T13:50:04.832Z"
   },
   {
    "duration": 387,
    "start_time": "2021-07-16T13:50:04.880Z"
   },
   {
    "duration": 5,
    "start_time": "2021-07-16T13:50:05.270Z"
   },
   {
    "duration": 17217,
    "start_time": "2021-07-16T13:50:05.278Z"
   },
   {
    "duration": 35,
    "start_time": "2021-07-16T13:50:22.498Z"
   },
   {
    "duration": 51,
    "start_time": "2021-07-16T13:50:22.536Z"
   },
   {
    "duration": 36,
    "start_time": "2021-07-16T13:50:22.590Z"
   },
   {
    "duration": 92,
    "start_time": "2021-07-16T13:50:22.629Z"
   },
   {
    "duration": 273,
    "start_time": "2021-07-16T13:50:22.725Z"
   },
   {
    "duration": 30,
    "start_time": "2021-07-16T13:50:23.001Z"
   },
   {
    "duration": 133,
    "start_time": "2021-07-16T13:50:23.034Z"
   },
   {
    "duration": 10,
    "start_time": "2021-07-16T13:50:23.169Z"
   },
   {
    "duration": 6,
    "start_time": "2021-07-16T13:50:23.182Z"
   },
   {
    "duration": 10,
    "start_time": "2021-07-16T13:50:23.190Z"
   },
   {
    "duration": 75,
    "start_time": "2021-07-16T13:50:23.206Z"
   },
   {
    "duration": 254,
    "start_time": "2021-07-16T13:50:23.285Z"
   },
   {
    "duration": 330,
    "start_time": "2021-07-16T13:50:23.542Z"
   },
   {
    "duration": 342,
    "start_time": "2021-07-16T13:50:23.875Z"
   },
   {
    "duration": 441,
    "start_time": "2021-07-16T13:50:24.220Z"
   },
   {
    "duration": 53,
    "start_time": "2021-07-16T13:50:24.664Z"
   },
   {
    "duration": 160,
    "start_time": "2021-07-16T13:50:24.720Z"
   },
   {
    "duration": 26,
    "start_time": "2021-07-16T13:50:24.882Z"
   },
   {
    "duration": 11,
    "start_time": "2021-07-16T13:50:24.910Z"
   },
   {
    "duration": 60,
    "start_time": "2021-07-16T13:50:24.923Z"
   },
   {
    "duration": 6,
    "start_time": "2021-07-16T13:50:24.986Z"
   },
   {
    "duration": 136,
    "start_time": "2021-07-16T13:50:24.994Z"
   },
   {
    "duration": 484,
    "start_time": "2021-07-16T13:50:25.133Z"
   },
   {
    "duration": 98,
    "start_time": "2021-07-16T13:50:25.620Z"
   },
   {
    "duration": 52,
    "start_time": "2021-07-16T13:50:25.721Z"
   },
   {
    "duration": 38,
    "start_time": "2021-07-16T13:50:25.776Z"
   },
   {
    "duration": 58,
    "start_time": "2021-07-16T13:50:25.817Z"
   },
   {
    "duration": 27,
    "start_time": "2021-07-16T13:50:25.878Z"
   },
   {
    "duration": 1055,
    "start_time": "2021-07-16T13:50:25.907Z"
   },
   {
    "duration": 3,
    "start_time": "2021-07-16T13:50:26.965Z"
   },
   {
    "duration": 8412,
    "start_time": "2021-07-16T13:50:26.971Z"
   },
   {
    "duration": 98,
    "start_time": "2021-07-16T13:50:35.386Z"
   },
   {
    "duration": 13115,
    "start_time": "2021-07-16T13:50:35.487Z"
   },
   {
    "duration": 5,
    "start_time": "2021-07-16T13:50:48.605Z"
   },
   {
    "duration": 10891,
    "start_time": "2021-07-16T13:50:48.612Z"
   },
   {
    "duration": 10165,
    "start_time": "2021-07-16T13:50:59.506Z"
   },
   {
    "duration": 5,
    "start_time": "2021-07-16T13:51:09.673Z"
   },
   {
    "duration": 11988,
    "start_time": "2021-07-16T13:51:09.680Z"
   },
   {
    "duration": 7427,
    "start_time": "2021-07-16T13:51:21.671Z"
   },
   {
    "duration": 4,
    "start_time": "2021-07-16T13:51:29.100Z"
   },
   {
    "duration": 12062,
    "start_time": "2021-07-16T13:51:29.107Z"
   },
   {
    "duration": 105,
    "start_time": "2021-07-16T13:51:41.171Z"
   },
   {
    "duration": 48,
    "start_time": "2021-07-16T13:51:41.278Z"
   },
   {
    "duration": 6,
    "start_time": "2021-07-16T13:51:41.329Z"
   },
   {
    "duration": 124,
    "start_time": "2021-07-16T13:51:41.338Z"
   },
   {
    "duration": 7,
    "start_time": "2021-07-16T13:51:41.464Z"
   },
   {
    "duration": 44,
    "start_time": "2021-07-16T13:51:41.474Z"
   },
   {
    "duration": 47,
    "start_time": "2021-07-16T13:51:41.521Z"
   },
   {
    "duration": 145,
    "start_time": "2021-07-16T13:51:41.571Z"
   },
   {
    "duration": 6,
    "start_time": "2021-07-16T13:51:41.719Z"
   },
   {
    "duration": 741,
    "start_time": "2021-07-16T13:51:41.728Z"
   },
   {
    "duration": 23,
    "start_time": "2021-07-16T13:51:42.472Z"
   },
   {
    "duration": 17,
    "start_time": "2021-07-16T13:51:42.498Z"
   },
   {
    "duration": 110,
    "start_time": "2021-07-16T13:51:42.518Z"
   },
   {
    "duration": 1279,
    "start_time": "2021-07-16T13:51:42.630Z"
   },
   {
    "duration": 47,
    "start_time": "2021-07-16T13:51:43.916Z"
   },
   {
    "duration": 19,
    "start_time": "2021-07-16T13:51:43.965Z"
   },
   {
    "duration": 312978,
    "start_time": "2021-07-16T13:51:43.987Z"
   },
   {
    "duration": 8,
    "start_time": "2021-07-16T13:56:56.968Z"
   },
   {
    "duration": 280638,
    "start_time": "2021-07-16T13:56:56.979Z"
   },
   {
    "duration": 10,
    "start_time": "2021-07-16T14:01:37.620Z"
   },
   {
    "duration": 19,
    "start_time": "2021-07-16T14:01:37.633Z"
   },
   {
    "duration": 585,
    "start_time": "2021-07-16T14:01:37.656Z"
   },
   {
    "duration": -182,
    "start_time": "2021-07-16T14:01:38.426Z"
   },
   {
    "duration": -188,
    "start_time": "2021-07-16T14:01:38.434Z"
   },
   {
    "duration": -190,
    "start_time": "2021-07-16T14:01:38.438Z"
   },
   {
    "duration": -194,
    "start_time": "2021-07-16T14:01:38.444Z"
   },
   {
    "duration": -196,
    "start_time": "2021-07-16T14:01:38.447Z"
   },
   {
    "duration": 242,
    "start_time": "2021-07-16T14:02:22.391Z"
   },
   {
    "duration": 38248,
    "start_time": "2021-07-16T14:02:25.419Z"
   },
   {
    "duration": 414,
    "start_time": "2021-07-16T14:03:27.468Z"
   },
   {
    "duration": 11,
    "start_time": "2021-07-16T14:03:30.064Z"
   },
   {
    "duration": 4,
    "start_time": "2021-07-16T14:10:54.128Z"
   },
   {
    "duration": 8,
    "start_time": "2021-07-16T14:11:29.352Z"
   },
   {
    "duration": 6,
    "start_time": "2021-07-16T14:14:31.418Z"
   },
   {
    "duration": 6,
    "start_time": "2021-07-16T14:14:40.546Z"
   },
   {
    "duration": 718,
    "start_time": "2021-07-16T14:15:53.070Z"
   },
   {
    "duration": 5,
    "start_time": "2021-07-16T14:16:16.902Z"
   },
   {
    "duration": 148,
    "start_time": "2021-07-16T14:16:20.317Z"
   },
   {
    "duration": 98,
    "start_time": "2021-07-16T14:16:28.893Z"
   },
   {
    "duration": 7683,
    "start_time": "2021-07-16T14:20:31.054Z"
   },
   {
    "duration": 66,
    "start_time": "2021-07-16T14:21:13.902Z"
   },
   {
    "duration": 73,
    "start_time": "2021-07-16T14:25:18.900Z"
   },
   {
    "duration": 21,
    "start_time": "2021-07-16T14:25:20.728Z"
   },
   {
    "duration": 2203,
    "start_time": "2021-07-16T14:25:21.400Z"
   },
   {
    "duration": 374,
    "start_time": "2021-07-16T14:25:23.606Z"
   },
   {
    "duration": 12,
    "start_time": "2021-07-16T14:25:31.465Z"
   },
   {
    "duration": 122,
    "start_time": "2021-07-16T14:26:32.793Z"
   },
   {
    "duration": 120,
    "start_time": "2021-07-16T14:30:30.793Z"
   },
   {
    "duration": 97,
    "start_time": "2021-07-16T14:33:31.407Z"
   },
   {
    "duration": 100,
    "start_time": "2021-07-16T14:35:11.450Z"
   },
   {
    "duration": 1493,
    "start_time": "2021-07-17T09:49:29.294Z"
   },
   {
    "duration": 1244,
    "start_time": "2021-07-17T09:49:30.790Z"
   },
   {
    "duration": 32,
    "start_time": "2021-07-17T09:49:32.037Z"
   },
   {
    "duration": 173,
    "start_time": "2021-07-17T09:49:32.073Z"
   },
   {
    "duration": 70,
    "start_time": "2021-07-17T09:49:32.249Z"
   },
   {
    "duration": 76,
    "start_time": "2021-07-17T09:49:32.321Z"
   },
   {
    "duration": 25,
    "start_time": "2021-07-17T09:49:32.400Z"
   },
   {
    "duration": 181,
    "start_time": "2021-07-17T09:49:32.430Z"
   },
   {
    "duration": 4,
    "start_time": "2021-07-17T09:49:32.614Z"
   },
   {
    "duration": 10746,
    "start_time": "2021-07-17T09:49:32.621Z"
   },
   {
    "duration": 29,
    "start_time": "2021-07-17T09:49:43.370Z"
   },
   {
    "duration": 26,
    "start_time": "2021-07-17T09:49:43.402Z"
   },
   {
    "duration": 53,
    "start_time": "2021-07-17T09:49:43.430Z"
   },
   {
    "duration": 75,
    "start_time": "2021-07-17T09:49:43.485Z"
   },
   {
    "duration": 253,
    "start_time": "2021-07-17T09:49:43.563Z"
   },
   {
    "duration": 42,
    "start_time": "2021-07-17T09:49:43.818Z"
   },
   {
    "duration": 132,
    "start_time": "2021-07-17T09:49:43.862Z"
   },
   {
    "duration": 10,
    "start_time": "2021-07-17T09:49:43.996Z"
   },
   {
    "duration": 6,
    "start_time": "2021-07-17T09:49:44.009Z"
   },
   {
    "duration": 46,
    "start_time": "2021-07-17T09:49:44.017Z"
   },
   {
    "duration": 48,
    "start_time": "2021-07-17T09:49:44.066Z"
   },
   {
    "duration": 239,
    "start_time": "2021-07-17T09:49:44.117Z"
   },
   {
    "duration": 234,
    "start_time": "2021-07-17T09:49:44.364Z"
   },
   {
    "duration": 305,
    "start_time": "2021-07-17T09:49:44.603Z"
   },
   {
    "duration": 46,
    "start_time": "2021-07-17T09:49:44.910Z"
   },
   {
    "duration": 141,
    "start_time": "2021-07-17T09:49:44.959Z"
   },
   {
    "duration": 42,
    "start_time": "2021-07-17T09:49:45.157Z"
   },
   {
    "duration": 11,
    "start_time": "2021-07-17T09:49:45.257Z"
   },
   {
    "duration": 21,
    "start_time": "2021-07-17T09:49:45.272Z"
   },
   {
    "duration": 8,
    "start_time": "2021-07-17T09:49:45.295Z"
   },
   {
    "duration": 160,
    "start_time": "2021-07-17T09:49:45.306Z"
   },
   {
    "duration": 621,
    "start_time": "2021-07-17T09:49:45.469Z"
   },
   {
    "duration": 94,
    "start_time": "2021-07-17T09:49:46.092Z"
   },
   {
    "duration": 23,
    "start_time": "2021-07-17T09:49:46.188Z"
   },
   {
    "duration": 49,
    "start_time": "2021-07-17T09:49:46.215Z"
   },
   {
    "duration": 33,
    "start_time": "2021-07-17T09:49:46.267Z"
   },
   {
    "duration": 23,
    "start_time": "2021-07-17T09:49:46.303Z"
   },
   {
    "duration": 928,
    "start_time": "2021-07-17T09:49:46.332Z"
   },
   {
    "duration": 5,
    "start_time": "2021-07-17T09:49:47.263Z"
   },
   {
    "duration": 8548,
    "start_time": "2021-07-17T09:49:47.272Z"
   },
   {
    "duration": 173,
    "start_time": "2021-07-17T09:49:55.828Z"
   },
   {
    "duration": 9463,
    "start_time": "2021-07-17T09:49:56.004Z"
   },
   {
    "duration": 4,
    "start_time": "2021-07-17T09:50:05.470Z"
   },
   {
    "duration": 11120,
    "start_time": "2021-07-17T09:50:05.477Z"
   },
   {
    "duration": 8784,
    "start_time": "2021-07-17T09:50:16.599Z"
   },
   {
    "duration": 5,
    "start_time": "2021-07-17T09:50:25.385Z"
   },
   {
    "duration": 10889,
    "start_time": "2021-07-17T09:50:25.393Z"
   },
   {
    "duration": 6698,
    "start_time": "2021-07-17T09:50:36.285Z"
   },
   {
    "duration": 4,
    "start_time": "2021-07-17T09:50:42.986Z"
   },
   {
    "duration": 10745,
    "start_time": "2021-07-17T09:50:42.992Z"
   },
   {
    "duration": 83,
    "start_time": "2021-07-17T09:50:53.740Z"
   },
   {
    "duration": 60,
    "start_time": "2021-07-17T09:50:53.825Z"
   },
   {
    "duration": 4,
    "start_time": "2021-07-17T09:50:53.888Z"
   },
   {
    "duration": 106,
    "start_time": "2021-07-17T09:50:53.894Z"
   },
   {
    "duration": 4,
    "start_time": "2021-07-17T09:50:54.003Z"
   },
   {
    "duration": 59,
    "start_time": "2021-07-17T09:50:54.010Z"
   },
   {
    "duration": 24,
    "start_time": "2021-07-17T09:50:54.072Z"
   },
   {
    "duration": 146,
    "start_time": "2021-07-17T09:50:54.098Z"
   },
   {
    "duration": 10,
    "start_time": "2021-07-17T09:50:54.246Z"
   },
   {
    "duration": 602,
    "start_time": "2021-07-17T09:50:54.259Z"
   },
   {
    "duration": 20,
    "start_time": "2021-07-17T09:50:54.872Z"
   },
   {
    "duration": 13,
    "start_time": "2021-07-17T09:50:54.895Z"
   },
   {
    "duration": 73,
    "start_time": "2021-07-17T09:50:54.911Z"
   },
   {
    "duration": 1112,
    "start_time": "2021-07-17T09:50:54.987Z"
   },
   {
    "duration": 462,
    "start_time": "2021-07-17T09:50:56.102Z"
   },
   {
    "duration": -134,
    "start_time": "2021-07-17T09:50:56.702Z"
   },
   {
    "duration": -144,
    "start_time": "2021-07-17T09:50:56.714Z"
   },
   {
    "duration": -157,
    "start_time": "2021-07-17T09:50:56.728Z"
   },
   {
    "duration": -167,
    "start_time": "2021-07-17T09:50:56.740Z"
   },
   {
    "duration": -178,
    "start_time": "2021-07-17T09:50:56.753Z"
   },
   {
    "duration": -186,
    "start_time": "2021-07-17T09:50:56.764Z"
   },
   {
    "duration": -196,
    "start_time": "2021-07-17T09:50:56.776Z"
   },
   {
    "duration": -219,
    "start_time": "2021-07-17T09:50:56.801Z"
   },
   {
    "duration": -226,
    "start_time": "2021-07-17T09:50:56.813Z"
   },
   {
    "duration": -236,
    "start_time": "2021-07-17T09:50:56.825Z"
   },
   {
    "duration": -246,
    "start_time": "2021-07-17T09:50:56.838Z"
   },
   {
    "duration": -255,
    "start_time": "2021-07-17T09:50:56.849Z"
   },
   {
    "duration": -269,
    "start_time": "2021-07-17T09:50:56.865Z"
   },
   {
    "duration": -278,
    "start_time": "2021-07-17T09:50:56.876Z"
   },
   {
    "duration": -289,
    "start_time": "2021-07-17T09:50:56.889Z"
   },
   {
    "duration": -310,
    "start_time": "2021-07-17T09:50:56.912Z"
   },
   {
    "duration": -319,
    "start_time": "2021-07-17T09:50:56.924Z"
   },
   {
    "duration": -328,
    "start_time": "2021-07-17T09:50:56.935Z"
   },
   {
    "duration": -290,
    "start_time": "2021-07-17T09:50:56.947Z"
   },
   {
    "duration": 1517,
    "start_time": "2021-07-17T09:52:25.345Z"
   },
   {
    "duration": 1009,
    "start_time": "2021-07-17T09:52:26.864Z"
   },
   {
    "duration": 24,
    "start_time": "2021-07-17T09:52:27.876Z"
   },
   {
    "duration": 173,
    "start_time": "2021-07-17T09:52:27.902Z"
   },
   {
    "duration": 60,
    "start_time": "2021-07-17T09:52:28.078Z"
   },
   {
    "duration": 67,
    "start_time": "2021-07-17T09:52:28.140Z"
   },
   {
    "duration": 38,
    "start_time": "2021-07-17T09:52:28.209Z"
   },
   {
    "duration": 158,
    "start_time": "2021-07-17T09:52:28.255Z"
   },
   {
    "duration": 5,
    "start_time": "2021-07-17T09:52:28.417Z"
   },
   {
    "duration": 9169,
    "start_time": "2021-07-17T09:52:28.425Z"
   },
   {
    "duration": 28,
    "start_time": "2021-07-17T09:52:37.596Z"
   },
   {
    "duration": 47,
    "start_time": "2021-07-17T09:52:37.627Z"
   },
   {
    "duration": 25,
    "start_time": "2021-07-17T09:52:37.676Z"
   },
   {
    "duration": 87,
    "start_time": "2021-07-17T09:52:37.704Z"
   },
   {
    "duration": 236,
    "start_time": "2021-07-17T09:52:37.793Z"
   },
   {
    "duration": 38,
    "start_time": "2021-07-17T09:52:38.032Z"
   },
   {
    "duration": 106,
    "start_time": "2021-07-17T09:52:38.073Z"
   },
   {
    "duration": 10,
    "start_time": "2021-07-17T09:52:38.181Z"
   },
   {
    "duration": 10,
    "start_time": "2021-07-17T09:52:38.194Z"
   },
   {
    "duration": 14,
    "start_time": "2021-07-17T09:52:38.206Z"
   },
   {
    "duration": 65,
    "start_time": "2021-07-17T09:52:38.222Z"
   },
   {
    "duration": 240,
    "start_time": "2021-07-17T09:52:38.289Z"
   },
   {
    "duration": 220,
    "start_time": "2021-07-17T09:52:38.535Z"
   },
   {
    "duration": 268,
    "start_time": "2021-07-17T09:52:38.759Z"
   },
   {
    "duration": 55,
    "start_time": "2021-07-17T09:52:39.030Z"
   },
   {
    "duration": 84,
    "start_time": "2021-07-17T09:52:39.088Z"
   },
   {
    "duration": 30,
    "start_time": "2021-07-17T09:52:39.174Z"
   },
   {
    "duration": 13,
    "start_time": "2021-07-17T09:52:39.207Z"
   },
   {
    "duration": 42,
    "start_time": "2021-07-17T09:52:39.222Z"
   },
   {
    "duration": 12,
    "start_time": "2021-07-17T09:52:39.266Z"
   },
   {
    "duration": 103,
    "start_time": "2021-07-17T09:52:39.281Z"
   },
   {
    "duration": 446,
    "start_time": "2021-07-17T09:52:39.386Z"
   },
   {
    "duration": 84,
    "start_time": "2021-07-17T09:52:39.834Z"
   },
   {
    "duration": 37,
    "start_time": "2021-07-17T09:52:39.920Z"
   },
   {
    "duration": 17,
    "start_time": "2021-07-17T09:52:39.960Z"
   },
   {
    "duration": 27,
    "start_time": "2021-07-17T09:52:39.979Z"
   },
   {
    "duration": 27,
    "start_time": "2021-07-17T09:52:40.008Z"
   },
   {
    "duration": 924,
    "start_time": "2021-07-17T09:52:40.037Z"
   },
   {
    "duration": 4,
    "start_time": "2021-07-17T09:52:40.964Z"
   },
   {
    "duration": 7459,
    "start_time": "2021-07-17T09:52:40.970Z"
   },
   {
    "duration": 84,
    "start_time": "2021-07-17T09:52:48.432Z"
   },
   {
    "duration": 8502,
    "start_time": "2021-07-17T09:52:48.519Z"
   },
   {
    "duration": 4,
    "start_time": "2021-07-17T09:52:57.023Z"
   },
   {
    "duration": 10207,
    "start_time": "2021-07-17T09:52:57.030Z"
   },
   {
    "duration": 8622,
    "start_time": "2021-07-17T09:53:07.239Z"
   },
   {
    "duration": 4,
    "start_time": "2021-07-17T09:53:15.864Z"
   },
   {
    "duration": 9957,
    "start_time": "2021-07-17T09:53:15.871Z"
   },
   {
    "duration": 6161,
    "start_time": "2021-07-17T09:53:25.830Z"
   },
   {
    "duration": 4,
    "start_time": "2021-07-17T09:53:31.993Z"
   },
   {
    "duration": 10000,
    "start_time": "2021-07-17T09:53:31.999Z"
   },
   {
    "duration": 88,
    "start_time": "2021-07-17T09:53:42.001Z"
   },
   {
    "duration": 44,
    "start_time": "2021-07-17T09:53:42.091Z"
   },
   {
    "duration": 5,
    "start_time": "2021-07-17T09:53:42.156Z"
   },
   {
    "duration": 100,
    "start_time": "2021-07-17T09:53:42.164Z"
   },
   {
    "duration": 5,
    "start_time": "2021-07-17T09:53:42.267Z"
   },
   {
    "duration": 44,
    "start_time": "2021-07-17T09:53:42.275Z"
   },
   {
    "duration": 51,
    "start_time": "2021-07-17T09:53:42.321Z"
   },
   {
    "duration": 145,
    "start_time": "2021-07-17T09:53:42.374Z"
   },
   {
    "duration": 5,
    "start_time": "2021-07-17T09:53:42.521Z"
   },
   {
    "duration": 558,
    "start_time": "2021-07-17T09:53:42.528Z"
   },
   {
    "duration": 19,
    "start_time": "2021-07-17T09:53:43.089Z"
   },
   {
    "duration": 13,
    "start_time": "2021-07-17T09:53:43.111Z"
   },
   {
    "duration": 71,
    "start_time": "2021-07-17T09:53:43.127Z"
   },
   {
    "duration": 1094,
    "start_time": "2021-07-17T09:53:43.200Z"
   },
   {
    "duration": 8,
    "start_time": "2021-07-17T09:53:44.296Z"
   },
   {
    "duration": 55,
    "start_time": "2021-07-17T09:53:44.307Z"
   },
   {
    "duration": 292438,
    "start_time": "2021-07-17T09:53:44.365Z"
   },
   {
    "duration": 8,
    "start_time": "2021-07-17T09:58:36.811Z"
   },
   {
    "duration": 286687,
    "start_time": "2021-07-17T09:58:36.822Z"
   },
   {
    "duration": 48,
    "start_time": "2021-07-17T10:03:23.512Z"
   },
   {
    "duration": 14,
    "start_time": "2021-07-17T10:03:23.564Z"
   },
   {
    "duration": 196,
    "start_time": "2021-07-17T10:03:23.581Z"
   },
   {
    "duration": 1686,
    "start_time": "2021-07-17T10:03:23.779Z"
   },
   {
    "duration": 412,
    "start_time": "2021-07-17T10:03:25.468Z"
   },
   {
    "duration": 14,
    "start_time": "2021-07-17T10:03:25.956Z"
   },
   {
    "duration": 8,
    "start_time": "2021-07-17T10:03:25.972Z"
   },
   {
    "duration": 14,
    "start_time": "2021-07-17T10:03:25.982Z"
   },
   {
    "duration": 69,
    "start_time": "2021-07-17T10:03:25.998Z"
   },
   {
    "duration": 2347,
    "start_time": "2021-07-17T10:03:26.071Z"
   },
   {
    "duration": 757,
    "start_time": "2021-07-17T10:03:28.420Z"
   },
   {
    "duration": 381,
    "start_time": "2021-07-17T10:03:29.180Z"
   },
   {
    "duration": 8390,
    "start_time": "2021-07-17T10:03:29.563Z"
   },
   {
    "duration": -206,
    "start_time": "2021-07-17T10:03:38.163Z"
   },
   {
    "duration": 5,
    "start_time": "2021-07-17T10:04:24.343Z"
   },
   {
    "duration": 276,
    "start_time": "2021-07-17T10:04:48.619Z"
   },
   {
    "duration": 301,
    "start_time": "2021-07-17T10:04:55.063Z"
   },
   {
    "duration": 20,
    "start_time": "2021-07-17T10:05:51.664Z"
   },
   {
    "duration": 276,
    "start_time": "2021-07-17T10:06:12.145Z"
   },
   {
    "duration": 5,
    "start_time": "2021-07-17T10:07:06.884Z"
   },
   {
    "duration": 11,
    "start_time": "2021-07-17T10:07:08.014Z"
   },
   {
    "duration": 23,
    "start_time": "2021-07-17T10:11:11.908Z"
   },
   {
    "duration": 18,
    "start_time": "2021-07-17T10:11:38.624Z"
   },
   {
    "duration": 8,
    "start_time": "2021-07-17T10:11:59.368Z"
   },
   {
    "duration": 1070,
    "start_time": "2021-07-17T10:13:40.218Z"
   },
   {
    "duration": 4,
    "start_time": "2021-07-17T10:14:59.375Z"
   },
   {
    "duration": 1064,
    "start_time": "2021-07-17T10:15:18.423Z"
   },
   {
    "duration": 5,
    "start_time": "2021-07-17T10:15:35.742Z"
   },
   {
    "duration": 1124,
    "start_time": "2021-07-17T10:16:11.775Z"
   },
   {
    "duration": 1115,
    "start_time": "2021-07-17T11:28:38.970Z"
   },
   {
    "duration": 1529,
    "start_time": "2021-07-17T11:33:49.002Z"
   },
   {
    "duration": 1055,
    "start_time": "2021-07-17T11:33:50.534Z"
   },
   {
    "duration": 24,
    "start_time": "2021-07-17T11:33:51.592Z"
   },
   {
    "duration": 171,
    "start_time": "2021-07-17T11:33:51.619Z"
   },
   {
    "duration": 89,
    "start_time": "2021-07-17T11:33:51.794Z"
   },
   {
    "duration": 60,
    "start_time": "2021-07-17T11:33:51.885Z"
   },
   {
    "duration": 50,
    "start_time": "2021-07-17T11:33:51.957Z"
   },
   {
    "duration": 173,
    "start_time": "2021-07-17T11:33:52.012Z"
   },
   {
    "duration": 5,
    "start_time": "2021-07-17T11:33:52.189Z"
   },
   {
    "duration": 10225,
    "start_time": "2021-07-17T11:33:52.196Z"
   },
   {
    "duration": 43,
    "start_time": "2021-07-17T11:34:02.423Z"
   },
   {
    "duration": 28,
    "start_time": "2021-07-17T11:34:02.468Z"
   },
   {
    "duration": 26,
    "start_time": "2021-07-17T11:34:02.498Z"
   },
   {
    "duration": 82,
    "start_time": "2021-07-17T11:34:02.526Z"
   },
   {
    "duration": 250,
    "start_time": "2021-07-17T11:34:02.610Z"
   },
   {
    "duration": 29,
    "start_time": "2021-07-17T11:34:02.863Z"
   },
   {
    "duration": 119,
    "start_time": "2021-07-17T11:34:02.895Z"
   },
   {
    "duration": 9,
    "start_time": "2021-07-17T11:34:03.016Z"
   },
   {
    "duration": 29,
    "start_time": "2021-07-17T11:34:03.027Z"
   },
   {
    "duration": 30,
    "start_time": "2021-07-17T11:34:03.059Z"
   },
   {
    "duration": 41,
    "start_time": "2021-07-17T11:34:03.091Z"
   },
   {
    "duration": 237,
    "start_time": "2021-07-17T11:34:03.134Z"
   },
   {
    "duration": 232,
    "start_time": "2021-07-17T11:34:03.377Z"
   },
   {
    "duration": 295,
    "start_time": "2021-07-17T11:34:03.613Z"
   },
   {
    "duration": 52,
    "start_time": "2021-07-17T11:34:03.911Z"
   },
   {
    "duration": 97,
    "start_time": "2021-07-17T11:34:03.967Z"
   },
   {
    "duration": 31,
    "start_time": "2021-07-17T11:34:04.066Z"
   },
   {
    "duration": 10,
    "start_time": "2021-07-17T11:34:04.099Z"
   },
   {
    "duration": 51,
    "start_time": "2021-07-17T11:34:04.111Z"
   },
   {
    "duration": 6,
    "start_time": "2021-07-17T11:34:04.165Z"
   },
   {
    "duration": 125,
    "start_time": "2021-07-17T11:34:04.174Z"
   },
   {
    "duration": 577,
    "start_time": "2021-07-17T11:34:04.302Z"
   },
   {
    "duration": 88,
    "start_time": "2021-07-17T11:34:04.882Z"
   },
   {
    "duration": 28,
    "start_time": "2021-07-17T11:34:04.972Z"
   },
   {
    "duration": 23,
    "start_time": "2021-07-17T11:34:05.002Z"
   },
   {
    "duration": 51,
    "start_time": "2021-07-17T11:34:05.028Z"
   },
   {
    "duration": 32,
    "start_time": "2021-07-17T11:34:05.082Z"
   },
   {
    "duration": 1060,
    "start_time": "2021-07-17T11:34:05.116Z"
   },
   {
    "duration": 3,
    "start_time": "2021-07-17T11:34:06.179Z"
   },
   {
    "duration": 8252,
    "start_time": "2021-07-17T11:34:06.184Z"
   },
   {
    "duration": 83,
    "start_time": "2021-07-17T11:34:14.439Z"
   },
   {
    "duration": 9393,
    "start_time": "2021-07-17T11:34:14.524Z"
   },
   {
    "duration": 4,
    "start_time": "2021-07-17T11:34:23.920Z"
   },
   {
    "duration": 10787,
    "start_time": "2021-07-17T11:34:23.926Z"
   },
   {
    "duration": 9114,
    "start_time": "2021-07-17T11:34:34.716Z"
   },
   {
    "duration": 4,
    "start_time": "2021-07-17T11:34:43.833Z"
   },
   {
    "duration": 10917,
    "start_time": "2021-07-17T11:34:43.839Z"
   },
   {
    "duration": 6589,
    "start_time": "2021-07-17T11:34:54.759Z"
   },
   {
    "duration": 9,
    "start_time": "2021-07-17T11:35:01.350Z"
   },
   {
    "duration": 11397,
    "start_time": "2021-07-17T11:35:01.361Z"
   },
   {
    "duration": 96,
    "start_time": "2021-07-17T11:35:12.761Z"
   },
   {
    "duration": 48,
    "start_time": "2021-07-17T11:35:12.860Z"
   },
   {
    "duration": 5,
    "start_time": "2021-07-17T11:35:12.910Z"
   },
   {
    "duration": 114,
    "start_time": "2021-07-17T11:35:12.918Z"
   },
   {
    "duration": 5,
    "start_time": "2021-07-17T11:35:13.035Z"
   },
   {
    "duration": 59,
    "start_time": "2021-07-17T11:35:13.043Z"
   },
   {
    "duration": 23,
    "start_time": "2021-07-17T11:35:13.104Z"
   },
   {
    "duration": 172,
    "start_time": "2021-07-17T11:35:13.129Z"
   },
   {
    "duration": 4,
    "start_time": "2021-07-17T11:35:13.303Z"
   },
   {
    "duration": 612,
    "start_time": "2021-07-17T11:35:13.309Z"
   },
   {
    "duration": 20,
    "start_time": "2021-07-17T11:35:13.924Z"
   },
   {
    "duration": 23,
    "start_time": "2021-07-17T11:35:13.946Z"
   },
   {
    "duration": 58,
    "start_time": "2021-07-17T11:35:13.972Z"
   },
   {
    "duration": 30,
    "start_time": "2021-07-17T11:35:14.033Z"
   },
   {
    "duration": 8,
    "start_time": "2021-07-17T11:35:14.068Z"
   },
   {
    "duration": 1111,
    "start_time": "2021-07-17T11:35:14.080Z"
   },
   {
    "duration": 8,
    "start_time": "2021-07-17T11:35:15.194Z"
   },
   {
    "duration": 12,
    "start_time": "2021-07-17T11:35:15.266Z"
   },
   {
    "duration": 1684,
    "start_time": "2021-07-17T12:43:58.456Z"
   },
   {
    "duration": 1176,
    "start_time": "2021-07-17T12:44:00.142Z"
   },
   {
    "duration": 48,
    "start_time": "2021-07-17T12:44:01.322Z"
   },
   {
    "duration": 173,
    "start_time": "2021-07-17T12:44:01.373Z"
   },
   {
    "duration": 65,
    "start_time": "2021-07-17T12:44:01.556Z"
   },
   {
    "duration": 69,
    "start_time": "2021-07-17T12:44:01.623Z"
   },
   {
    "duration": 21,
    "start_time": "2021-07-17T12:44:01.695Z"
   },
   {
    "duration": 190,
    "start_time": "2021-07-17T12:44:01.720Z"
   },
   {
    "duration": 4,
    "start_time": "2021-07-17T12:44:01.913Z"
   },
   {
    "duration": 10678,
    "start_time": "2021-07-17T12:44:01.919Z"
   },
   {
    "duration": 27,
    "start_time": "2021-07-17T12:44:12.599Z"
   },
   {
    "duration": 46,
    "start_time": "2021-07-17T12:44:12.629Z"
   },
   {
    "duration": 26,
    "start_time": "2021-07-17T12:44:12.678Z"
   },
   {
    "duration": 78,
    "start_time": "2021-07-17T12:44:12.706Z"
   },
   {
    "duration": 244,
    "start_time": "2021-07-17T12:44:12.786Z"
   },
   {
    "duration": 47,
    "start_time": "2021-07-17T12:44:13.033Z"
   },
   {
    "duration": 121,
    "start_time": "2021-07-17T12:44:13.083Z"
   },
   {
    "duration": 11,
    "start_time": "2021-07-17T12:44:13.207Z"
   },
   {
    "duration": 6,
    "start_time": "2021-07-17T12:44:13.221Z"
   },
   {
    "duration": 12,
    "start_time": "2021-07-17T12:44:13.259Z"
   },
   {
    "duration": 39,
    "start_time": "2021-07-17T12:44:13.276Z"
   },
   {
    "duration": 260,
    "start_time": "2021-07-17T12:44:13.318Z"
   },
   {
    "duration": 332,
    "start_time": "2021-07-17T12:44:13.584Z"
   },
   {
    "duration": 445,
    "start_time": "2021-07-17T12:44:13.922Z"
   },
   {
    "duration": 56,
    "start_time": "2021-07-17T12:44:14.370Z"
   },
   {
    "duration": 166,
    "start_time": "2021-07-17T12:44:14.429Z"
   },
   {
    "duration": 68,
    "start_time": "2021-07-17T12:44:14.599Z"
   },
   {
    "duration": 9,
    "start_time": "2021-07-17T12:44:14.670Z"
   },
   {
    "duration": 33,
    "start_time": "2021-07-17T12:44:14.682Z"
   },
   {
    "duration": 5,
    "start_time": "2021-07-17T12:44:14.719Z"
   },
   {
    "duration": 135,
    "start_time": "2021-07-17T12:44:14.727Z"
   },
   {
    "duration": 490,
    "start_time": "2021-07-17T12:44:14.867Z"
   },
   {
    "duration": 85,
    "start_time": "2021-07-17T12:44:15.360Z"
   },
   {
    "duration": 30,
    "start_time": "2021-07-17T12:44:15.456Z"
   },
   {
    "duration": 18,
    "start_time": "2021-07-17T12:44:15.489Z"
   },
   {
    "duration": 49,
    "start_time": "2021-07-17T12:44:15.510Z"
   },
   {
    "duration": 30,
    "start_time": "2021-07-17T12:44:15.561Z"
   },
   {
    "duration": 1034,
    "start_time": "2021-07-17T12:44:15.593Z"
   },
   {
    "duration": 6,
    "start_time": "2021-07-17T12:44:16.629Z"
   },
   {
    "duration": 8588,
    "start_time": "2021-07-17T12:44:16.638Z"
   },
   {
    "duration": 100,
    "start_time": "2021-07-17T12:44:25.229Z"
   },
   {
    "duration": 9713,
    "start_time": "2021-07-17T12:44:25.332Z"
   },
   {
    "duration": 11,
    "start_time": "2021-07-17T12:44:35.048Z"
   },
   {
    "duration": 11307,
    "start_time": "2021-07-17T12:44:35.063Z"
   },
   {
    "duration": 9604,
    "start_time": "2021-07-17T12:44:46.373Z"
   },
   {
    "duration": 4,
    "start_time": "2021-07-17T12:44:55.980Z"
   },
   {
    "duration": 11216,
    "start_time": "2021-07-17T12:44:55.986Z"
   },
   {
    "duration": 6723,
    "start_time": "2021-07-17T12:45:07.205Z"
   },
   {
    "duration": 4,
    "start_time": "2021-07-17T12:45:13.931Z"
   },
   {
    "duration": 12094,
    "start_time": "2021-07-17T12:45:13.937Z"
   },
   {
    "duration": 137,
    "start_time": "2021-07-17T12:45:26.035Z"
   },
   {
    "duration": 46,
    "start_time": "2021-07-17T12:45:26.174Z"
   },
   {
    "duration": 5,
    "start_time": "2021-07-17T12:45:26.222Z"
   },
   {
    "duration": 127,
    "start_time": "2021-07-17T12:45:26.229Z"
   },
   {
    "duration": 9,
    "start_time": "2021-07-17T12:45:26.358Z"
   },
   {
    "duration": 50,
    "start_time": "2021-07-17T12:45:26.370Z"
   },
   {
    "duration": 54,
    "start_time": "2021-07-17T12:45:26.423Z"
   },
   {
    "duration": 164,
    "start_time": "2021-07-17T12:45:26.479Z"
   },
   {
    "duration": 11,
    "start_time": "2021-07-17T12:45:26.646Z"
   },
   {
    "duration": 622,
    "start_time": "2021-07-17T12:45:26.665Z"
   },
   {
    "duration": 22,
    "start_time": "2021-07-17T12:45:27.290Z"
   },
   {
    "duration": 15,
    "start_time": "2021-07-17T12:45:27.314Z"
   },
   {
    "duration": 87,
    "start_time": "2021-07-17T12:45:27.332Z"
   },
   {
    "duration": 15,
    "start_time": "2021-07-17T12:45:27.422Z"
   },
   {
    "duration": 21,
    "start_time": "2021-07-17T12:45:27.439Z"
   },
   {
    "duration": 1149,
    "start_time": "2021-07-17T12:45:27.465Z"
   },
   {
    "duration": 40,
    "start_time": "2021-07-17T12:45:28.617Z"
   },
   {
    "duration": 14,
    "start_time": "2021-07-17T12:45:28.670Z"
   },
   {
    "duration": 315085,
    "start_time": "2021-07-17T12:45:28.688Z"
   },
   {
    "duration": 9,
    "start_time": "2021-07-17T12:50:43.777Z"
   },
   {
    "duration": 292117,
    "start_time": "2021-07-17T12:50:43.788Z"
   },
   {
    "duration": 8,
    "start_time": "2021-07-17T12:55:35.908Z"
   },
   {
    "duration": 11,
    "start_time": "2021-07-17T12:55:35.957Z"
   },
   {
    "duration": 195,
    "start_time": "2021-07-17T12:55:35.971Z"
   },
   {
    "duration": 1394,
    "start_time": "2021-07-17T12:55:36.169Z"
   },
   {
    "duration": 405,
    "start_time": "2021-07-17T12:55:37.565Z"
   },
   {
    "duration": 87,
    "start_time": "2021-07-17T12:55:37.972Z"
   },
   {
    "duration": 5,
    "start_time": "2021-07-17T12:55:38.061Z"
   },
   {
    "duration": 12,
    "start_time": "2021-07-17T12:55:38.069Z"
   },
   {
    "duration": 81,
    "start_time": "2021-07-17T12:55:38.083Z"
   },
   {
    "duration": 2112,
    "start_time": "2021-07-17T12:55:38.257Z"
   },
   {
    "duration": 798,
    "start_time": "2021-07-17T12:55:40.371Z"
   },
   {
    "duration": 294,
    "start_time": "2021-07-17T12:55:41.171Z"
   },
   {
    "duration": 6,
    "start_time": "2021-07-17T12:55:41.468Z"
   },
   {
    "duration": 82,
    "start_time": "2021-07-17T12:55:41.476Z"
   },
   {
    "duration": 15,
    "start_time": "2021-07-17T12:55:41.561Z"
   },
   {
    "duration": 6,
    "start_time": "2021-07-17T13:14:59.238Z"
   },
   {
    "duration": 5,
    "start_time": "2021-07-17T13:18:18.912Z"
   },
   {
    "duration": 1458,
    "start_time": "2021-07-17T13:34:08.785Z"
   },
   {
    "duration": 1049,
    "start_time": "2021-07-17T13:34:10.245Z"
   },
   {
    "duration": 25,
    "start_time": "2021-07-17T13:34:11.296Z"
   },
   {
    "duration": 177,
    "start_time": "2021-07-17T13:34:11.324Z"
   },
   {
    "duration": 78,
    "start_time": "2021-07-17T13:34:11.503Z"
   },
   {
    "duration": 60,
    "start_time": "2021-07-17T13:34:11.583Z"
   },
   {
    "duration": 21,
    "start_time": "2021-07-17T13:34:11.655Z"
   },
   {
    "duration": 162,
    "start_time": "2021-07-17T13:34:11.680Z"
   },
   {
    "duration": 11,
    "start_time": "2021-07-17T13:34:11.845Z"
   },
   {
    "duration": 9464,
    "start_time": "2021-07-17T13:34:11.858Z"
   },
   {
    "duration": 39,
    "start_time": "2021-07-17T13:34:21.324Z"
   },
   {
    "duration": 26,
    "start_time": "2021-07-17T13:34:21.365Z"
   },
   {
    "duration": 28,
    "start_time": "2021-07-17T13:34:21.394Z"
   },
   {
    "duration": 82,
    "start_time": "2021-07-17T13:34:21.424Z"
   },
   {
    "duration": 232,
    "start_time": "2021-07-17T13:34:21.509Z"
   },
   {
    "duration": 35,
    "start_time": "2021-07-17T13:34:21.744Z"
   },
   {
    "duration": 106,
    "start_time": "2021-07-17T13:34:21.782Z"
   },
   {
    "duration": 9,
    "start_time": "2021-07-17T13:34:21.891Z"
   },
   {
    "duration": 14,
    "start_time": "2021-07-17T13:34:21.903Z"
   },
   {
    "duration": 17,
    "start_time": "2021-07-17T13:34:21.919Z"
   },
   {
    "duration": 39,
    "start_time": "2021-07-17T13:34:21.956Z"
   },
   {
    "duration": 247,
    "start_time": "2021-07-17T13:34:21.998Z"
   },
   {
    "duration": 217,
    "start_time": "2021-07-17T13:34:22.255Z"
   },
   {
    "duration": 276,
    "start_time": "2021-07-17T13:34:22.476Z"
   },
   {
    "duration": 44,
    "start_time": "2021-07-17T13:34:22.756Z"
   },
   {
    "duration": 112,
    "start_time": "2021-07-17T13:34:22.802Z"
   },
   {
    "duration": 48,
    "start_time": "2021-07-17T13:34:22.917Z"
   },
   {
    "duration": 12,
    "start_time": "2021-07-17T13:34:22.968Z"
   },
   {
    "duration": 31,
    "start_time": "2021-07-17T13:34:22.983Z"
   },
   {
    "duration": 16,
    "start_time": "2021-07-17T13:34:23.017Z"
   },
   {
    "duration": 119,
    "start_time": "2021-07-17T13:34:23.035Z"
   },
   {
    "duration": 463,
    "start_time": "2021-07-17T13:34:23.157Z"
   },
   {
    "duration": 87,
    "start_time": "2021-07-17T13:34:23.622Z"
   },
   {
    "duration": 22,
    "start_time": "2021-07-17T13:34:23.711Z"
   },
   {
    "duration": 35,
    "start_time": "2021-07-17T13:34:23.736Z"
   },
   {
    "duration": 31,
    "start_time": "2021-07-17T13:34:23.773Z"
   },
   {
    "duration": 20,
    "start_time": "2021-07-17T13:34:23.806Z"
   },
   {
    "duration": 975,
    "start_time": "2021-07-17T13:34:23.828Z"
   },
   {
    "duration": 4,
    "start_time": "2021-07-17T13:34:24.805Z"
   },
   {
    "duration": 8031,
    "start_time": "2021-07-17T13:34:24.812Z"
   },
   {
    "duration": 92,
    "start_time": "2021-07-17T13:34:32.845Z"
   },
   {
    "duration": 9855,
    "start_time": "2021-07-17T13:34:32.940Z"
   },
   {
    "duration": 4,
    "start_time": "2021-07-17T13:34:42.797Z"
   },
   {
    "duration": 10953,
    "start_time": "2021-07-17T13:34:42.803Z"
   },
   {
    "duration": 9676,
    "start_time": "2021-07-17T13:34:53.759Z"
   },
   {
    "duration": 4,
    "start_time": "2021-07-17T13:35:03.437Z"
   },
   {
    "duration": 10577,
    "start_time": "2021-07-17T13:35:03.443Z"
   },
   {
    "duration": 6046,
    "start_time": "2021-07-17T13:35:14.022Z"
   },
   {
    "duration": 4,
    "start_time": "2021-07-17T13:35:20.071Z"
   },
   {
    "duration": 10870,
    "start_time": "2021-07-17T13:35:20.077Z"
   },
   {
    "duration": 86,
    "start_time": "2021-07-17T13:35:30.949Z"
   },
   {
    "duration": 59,
    "start_time": "2021-07-17T13:35:31.037Z"
   },
   {
    "duration": 5,
    "start_time": "2021-07-17T13:35:31.098Z"
   },
   {
    "duration": 119,
    "start_time": "2021-07-17T13:35:31.106Z"
   },
   {
    "duration": 5,
    "start_time": "2021-07-17T13:35:31.227Z"
   },
   {
    "duration": 69,
    "start_time": "2021-07-17T13:35:31.234Z"
   },
   {
    "duration": 22,
    "start_time": "2021-07-17T13:35:31.305Z"
   },
   {
    "duration": 245,
    "start_time": "2021-07-17T13:35:31.329Z"
   },
   {
    "duration": 4,
    "start_time": "2021-07-17T13:35:31.576Z"
   },
   {
    "duration": 576,
    "start_time": "2021-07-17T13:35:31.582Z"
   },
   {
    "duration": 22,
    "start_time": "2021-07-17T13:35:32.160Z"
   },
   {
    "duration": 15,
    "start_time": "2021-07-17T13:35:32.185Z"
   },
   {
    "duration": 92,
    "start_time": "2021-07-17T13:35:32.203Z"
   },
   {
    "duration": 16,
    "start_time": "2021-07-17T13:35:32.298Z"
   },
   {
    "duration": 9,
    "start_time": "2021-07-17T13:35:32.317Z"
   },
   {
    "duration": 1166,
    "start_time": "2021-07-17T13:35:32.328Z"
   },
   {
    "duration": 8,
    "start_time": "2021-07-17T13:35:33.497Z"
   },
   {
    "duration": 9,
    "start_time": "2021-07-17T13:35:33.558Z"
   },
   {
    "duration": 308937,
    "start_time": "2021-07-17T13:35:33.570Z"
   },
   {
    "duration": 8,
    "start_time": "2021-07-17T13:40:42.511Z"
   },
   {
    "duration": 289881,
    "start_time": "2021-07-17T13:40:42.521Z"
   },
   {
    "duration": 7,
    "start_time": "2021-07-17T13:45:32.404Z"
   },
   {
    "duration": 17,
    "start_time": "2021-07-17T13:45:32.414Z"
   },
   {
    "duration": 185,
    "start_time": "2021-07-17T13:45:32.434Z"
   },
   {
    "duration": 1652,
    "start_time": "2021-07-17T13:45:32.622Z"
   },
   {
    "duration": 404,
    "start_time": "2021-07-17T13:45:34.357Z"
   },
   {
    "duration": 12,
    "start_time": "2021-07-17T13:45:34.763Z"
   },
   {
    "duration": 6,
    "start_time": "2021-07-17T13:45:34.777Z"
   },
   {
    "duration": 12,
    "start_time": "2021-07-17T13:45:34.786Z"
   },
   {
    "duration": 68,
    "start_time": "2021-07-17T13:45:34.800Z"
   },
   {
    "duration": 2325,
    "start_time": "2021-07-17T13:45:34.875Z"
   },
   {
    "duration": 860,
    "start_time": "2021-07-17T13:45:37.202Z"
   },
   {
    "duration": 299,
    "start_time": "2021-07-17T13:45:38.065Z"
   },
   {
    "duration": 5,
    "start_time": "2021-07-17T13:45:38.367Z"
   },
   {
    "duration": 15,
    "start_time": "2021-07-17T13:45:38.375Z"
   },
   {
    "duration": 139,
    "start_time": "2021-08-21T18:18:25.967Z"
   },
   {
    "duration": 406,
    "start_time": "2021-08-21T18:29:28.559Z"
   },
   {
    "duration": 1792,
    "start_time": "2021-08-21T18:42:10.644Z"
   },
   {
    "duration": 1389,
    "start_time": "2021-08-21T18:42:12.438Z"
   },
   {
    "duration": 24,
    "start_time": "2021-08-21T18:42:13.830Z"
   },
   {
    "duration": 198,
    "start_time": "2021-08-21T18:42:13.857Z"
   },
   {
    "duration": 81,
    "start_time": "2021-08-21T18:42:14.057Z"
   },
   {
    "duration": 69,
    "start_time": "2021-08-21T18:42:14.140Z"
   },
   {
    "duration": 22,
    "start_time": "2021-08-21T18:42:14.213Z"
   },
   {
    "duration": 192,
    "start_time": "2021-08-21T18:42:14.240Z"
   },
   {
    "duration": 4,
    "start_time": "2021-08-21T18:42:14.435Z"
   },
   {
    "duration": 10412,
    "start_time": "2021-08-21T18:42:14.442Z"
   },
   {
    "duration": 26,
    "start_time": "2021-08-21T18:42:24.856Z"
   },
   {
    "duration": 35,
    "start_time": "2021-08-21T18:42:24.900Z"
   },
   {
    "duration": 25,
    "start_time": "2021-08-21T18:42:24.937Z"
   },
   {
    "duration": 92,
    "start_time": "2021-08-21T18:42:24.964Z"
   },
   {
    "duration": 279,
    "start_time": "2021-08-21T18:42:25.058Z"
   },
   {
    "duration": 27,
    "start_time": "2021-08-21T18:42:25.339Z"
   },
   {
    "duration": 34,
    "start_time": "2021-08-21T18:42:25.368Z"
   },
   {
    "duration": 11,
    "start_time": "2021-08-21T18:42:25.406Z"
   },
   {
    "duration": 7,
    "start_time": "2021-08-21T18:42:25.420Z"
   },
   {
    "duration": 92,
    "start_time": "2021-08-21T18:42:25.430Z"
   },
   {
    "duration": 256,
    "start_time": "2021-08-21T18:42:25.524Z"
   },
   {
    "duration": 242,
    "start_time": "2021-08-21T18:42:25.783Z"
   },
   {
    "duration": 315,
    "start_time": "2021-08-21T18:42:26.031Z"
   },
   {
    "duration": 60,
    "start_time": "2021-08-21T18:42:26.350Z"
   },
   {
    "duration": 96,
    "start_time": "2021-08-21T18:42:26.414Z"
   },
   {
    "duration": 21,
    "start_time": "2021-08-21T18:42:26.514Z"
   },
   {
    "duration": 9,
    "start_time": "2021-08-21T18:42:26.537Z"
   },
   {
    "duration": 80,
    "start_time": "2021-08-21T18:42:26.549Z"
   },
   {
    "duration": 6,
    "start_time": "2021-08-21T18:42:26.632Z"
   },
   {
    "duration": 124,
    "start_time": "2021-08-21T18:42:26.640Z"
   },
   {
    "duration": 514,
    "start_time": "2021-08-21T18:42:26.766Z"
   },
   {
    "duration": 102,
    "start_time": "2021-08-21T18:42:27.282Z"
   },
   {
    "duration": 39,
    "start_time": "2021-08-21T18:42:27.387Z"
   },
   {
    "duration": 19,
    "start_time": "2021-08-21T18:42:27.429Z"
   },
   {
    "duration": 66,
    "start_time": "2021-08-21T18:42:27.451Z"
   },
   {
    "duration": 21,
    "start_time": "2021-08-21T18:42:27.519Z"
   },
   {
    "duration": 960,
    "start_time": "2021-08-21T18:42:27.542Z"
   },
   {
    "duration": 7,
    "start_time": "2021-08-21T18:42:28.506Z"
   },
   {
    "duration": 8461,
    "start_time": "2021-08-21T18:42:28.516Z"
   },
   {
    "duration": 98,
    "start_time": "2021-08-21T18:42:36.980Z"
   },
   {
    "duration": 10014,
    "start_time": "2021-08-21T18:42:37.080Z"
   },
   {
    "duration": 5,
    "start_time": "2021-08-21T18:42:47.097Z"
   },
   {
    "duration": 11168,
    "start_time": "2021-08-21T18:42:47.107Z"
   },
   {
    "duration": 9983,
    "start_time": "2021-08-21T18:42:58.277Z"
   },
   {
    "duration": 5,
    "start_time": "2021-08-21T18:43:08.262Z"
   },
   {
    "duration": 11315,
    "start_time": "2021-08-21T18:43:08.270Z"
   },
   {
    "duration": 6876,
    "start_time": "2021-08-21T18:43:19.588Z"
   },
   {
    "duration": 4,
    "start_time": "2021-08-21T18:43:26.467Z"
   },
   {
    "duration": 11638,
    "start_time": "2021-08-21T18:43:26.474Z"
   },
   {
    "duration": 97,
    "start_time": "2021-08-21T18:43:38.115Z"
   },
   {
    "duration": 43,
    "start_time": "2021-08-21T18:43:38.216Z"
   },
   {
    "duration": 5,
    "start_time": "2021-08-21T18:43:38.261Z"
   },
   {
    "duration": 146,
    "start_time": "2021-08-21T18:43:38.269Z"
   },
   {
    "duration": 8,
    "start_time": "2021-08-21T18:43:38.418Z"
   },
   {
    "duration": 83,
    "start_time": "2021-08-21T18:43:38.430Z"
   },
   {
    "duration": 23,
    "start_time": "2021-08-21T18:43:38.516Z"
   },
   {
    "duration": 172,
    "start_time": "2021-08-21T18:43:38.542Z"
   },
   {
    "duration": 4,
    "start_time": "2021-08-21T18:43:38.717Z"
   },
   {
    "duration": 631,
    "start_time": "2021-08-21T18:43:38.724Z"
   },
   {
    "duration": 20,
    "start_time": "2021-08-21T18:43:39.358Z"
   },
   {
    "duration": 34,
    "start_time": "2021-08-21T18:43:39.381Z"
   },
   {
    "duration": 85,
    "start_time": "2021-08-21T18:43:39.418Z"
   },
   {
    "duration": 16,
    "start_time": "2021-08-21T18:43:39.513Z"
   },
   {
    "duration": 8,
    "start_time": "2021-08-21T18:43:39.531Z"
   },
   {
    "duration": 1099,
    "start_time": "2021-08-21T18:43:39.542Z"
   },
   {
    "duration": 8,
    "start_time": "2021-08-21T18:43:40.643Z"
   },
   {
    "duration": 12,
    "start_time": "2021-08-21T18:43:40.702Z"
   },
   {
    "duration": 318345,
    "start_time": "2021-08-21T18:43:40.727Z"
   },
   {
    "duration": 8,
    "start_time": "2021-08-21T18:48:59.075Z"
   },
   {
    "duration": 302061,
    "start_time": "2021-08-21T18:48:59.100Z"
   },
   {
    "duration": 9,
    "start_time": "2021-08-21T18:54:01.164Z"
   },
   {
    "duration": 16,
    "start_time": "2021-08-21T18:54:01.176Z"
   },
   {
    "duration": 241,
    "start_time": "2021-08-21T18:54:01.201Z"
   },
   {
    "duration": 2361,
    "start_time": "2021-08-21T18:54:01.444Z"
   },
   {
    "duration": 502,
    "start_time": "2021-08-21T18:54:03.808Z"
   },
   {
    "duration": 11,
    "start_time": "2021-08-21T18:54:04.314Z"
   },
   {
    "duration": 5,
    "start_time": "2021-08-21T18:54:04.327Z"
   },
   {
    "duration": 10,
    "start_time": "2021-08-21T18:54:04.334Z"
   },
   {
    "duration": 164,
    "start_time": "2021-08-21T18:54:04.346Z"
   },
   {
    "duration": 2413,
    "start_time": "2021-08-21T18:54:04.514Z"
   },
   {
    "duration": 885,
    "start_time": "2021-08-21T18:54:06.930Z"
   },
   {
    "duration": 389,
    "start_time": "2021-08-21T18:54:07.817Z"
   },
   {
    "duration": 6,
    "start_time": "2021-08-21T18:54:08.210Z"
   },
   {
    "duration": 23,
    "start_time": "2021-08-21T18:54:08.219Z"
   }
  ],
  "kernelspec": {
   "display_name": "Python 3",
   "language": "python",
   "name": "python3"
  },
  "language_info": {
   "codemirror_mode": {
    "name": "ipython",
    "version": 3
   },
   "file_extension": ".py",
   "mimetype": "text/x-python",
   "name": "python",
   "nbconvert_exporter": "python",
   "pygments_lexer": "ipython3",
   "version": "3.7.8"
  },
  "toc": {
   "base_numbering": 1,
   "nav_menu": {},
   "number_sections": true,
   "sideBar": true,
   "skip_h1_title": true,
   "title_cell": "Порядок работы",
   "title_sidebar": "Порядок работы",
   "toc_cell": true,
   "toc_position": {},
   "toc_section_display": true,
   "toc_window_display": false
  }
 },
 "nbformat": 4,
 "nbformat_minor": 2
}
